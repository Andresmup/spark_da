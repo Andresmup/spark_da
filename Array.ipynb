{
 "cells": [
  {
   "cell_type": "code",
   "execution_count": 1,
   "id": "ce496923-3823-46a1-a9ea-dcde2a75c5de",
   "metadata": {},
   "outputs": [],
   "source": [
    "import findspark\n",
    "findspark.init()"
   ]
  },
  {
   "cell_type": "code",
   "execution_count": 2,
   "id": "ca374dd8-6df7-4091-917d-bd744bf7e631",
   "metadata": {},
   "outputs": [
    {
     "name": "stderr",
     "output_type": "stream",
     "text": [
      "Setting default log level to \"WARN\".\n",
      "To adjust logging level use sc.setLogLevel(newLevel). For SparkR, use setLogLevel(newLevel).\n",
      "24/08/19 16:32:19 WARN NativeCodeLoader: Unable to load native-hadoop library for your platform... using builtin-java classes where applicable\n"
     ]
    }
   ],
   "source": [
    "from pyspark.sql import SparkSession\n",
    "spark = (SparkSession.builder.getOrCreate())"
   ]
  },
  {
   "cell_type": "markdown",
   "id": "97c57fce-77ff-4d48-bb7e-bd2fc4ee9d3f",
   "metadata": {},
   "source": [
    "# ARRAY ZIP"
   ]
  },
  {
   "cell_type": "code",
   "execution_count": 3,
   "id": "5a5b1947-2c91-48ad-adc7-c2a5529c37a3",
   "metadata": {},
   "outputs": [],
   "source": [
    "array_data = [\n",
    "    (\"john\", 5, 1),\n",
    "    (\"john\", 6, 12),\n",
    "    (\"alice\", 3, 7),\n",
    "    (\"bob\", 9, 4),\n",
    "    (\"alice\", 8, 15),\n",
    "    (\"alice\", 7, 10),\n",
    "    (\"bob\", 2, 14),\n",
    "    (\"bob\", 4, 8),\n",
    "    (\"grace\", None, 3),\n",
    "    (\"john\", 1, 13),\n",
    "    (\"john\", 5, 11),\n",
    "    (\"john\", 4, None),\n",
    "    (\"john\", 1, 3),\n",
    "]\n",
    "array_schema = [\"name\",\"score_1\",\"score_2\"]"
   ]
  },
  {
   "cell_type": "code",
   "execution_count": 4,
   "id": "c5c21573-7992-4f52-b50e-f0a63d71f662",
   "metadata": {},
   "outputs": [
    {
     "name": "stderr",
     "output_type": "stream",
     "text": [
      "                                                                                \r"
     ]
    },
    {
     "name": "stdout",
     "output_type": "stream",
     "text": [
      "+-----+-------+-------+\n",
      "| name|score_1|score_2|\n",
      "+-----+-------+-------+\n",
      "| john|      5|      1|\n",
      "| john|      6|     12|\n",
      "|alice|      3|      7|\n",
      "|  bob|      9|      4|\n",
      "|alice|      8|     15|\n",
      "|alice|      7|     10|\n",
      "|  bob|      2|     14|\n",
      "|  bob|      4|      8|\n",
      "|grace|   NULL|      3|\n",
      "| john|      1|     13|\n",
      "| john|      5|     11|\n",
      "| john|      4|   NULL|\n",
      "| john|      1|      3|\n",
      "+-----+-------+-------+\n",
      "\n"
     ]
    }
   ],
   "source": [
    "df_array_data = spark.createDataFrame(array_data,array_schema)\n",
    "df_array_data.show()"
   ]
  },
  {
   "cell_type": "markdown",
   "id": "7ad36749-6d45-42e3-92d3-fb714a8beee6",
   "metadata": {},
   "source": [
    "## Convert data into array dataframe"
   ]
  },
  {
   "cell_type": "code",
   "execution_count": 5,
   "id": "dfdcc051-d2f1-4f93-9d76-41d4160b31d2",
   "metadata": {},
   "outputs": [],
   "source": [
    "from pyspark.sql import functions as F"
   ]
  },
  {
   "cell_type": "code",
   "execution_count": 6,
   "id": "7a27edcb-2b45-45c5-9883-f3eb46169ad8",
   "metadata": {},
   "outputs": [
    {
     "name": "stdout",
     "output_type": "stream",
     "text": [
      "+-----+------------------+------------------+\n",
      "| name|     array_score_1|     array_score_2|\n",
      "+-----+------------------+------------------+\n",
      "|alice|         [3, 8, 7]|       [7, 15, 10]|\n",
      "| john|[5, 6, 1, 5, 4, 1]|[1, 12, 13, 11, 3]|\n",
      "|  bob|         [9, 2, 4]|        [4, 14, 8]|\n",
      "|grace|                []|               [3]|\n",
      "+-----+------------------+------------------+\n",
      "\n"
     ]
    }
   ],
   "source": [
    "df_master_array = df_array_data.groupby(\"name\").agg(\n",
    "    F.collect_list(\"score_1\").alias(\"array_score_1\"),\n",
    "    F.collect_list(\"score_2\").alias(\"array_score_2\"),\n",
    ")\n",
    "\n",
    "df_master_array.show()"
   ]
  },
  {
   "cell_type": "code",
   "execution_count": 7,
   "id": "bd39401e-0ebe-4ca0-a674-fe695db4f62d",
   "metadata": {},
   "outputs": [
    {
     "name": "stdout",
     "output_type": "stream",
     "text": [
      "root\n",
      " |-- name: string (nullable = true)\n",
      " |-- array_score_1: array (nullable = false)\n",
      " |    |-- element: long (containsNull = false)\n",
      " |-- array_score_2: array (nullable = false)\n",
      " |    |-- element: long (containsNull = false)\n",
      "\n"
     ]
    }
   ],
   "source": [
    "df_master_array.printSchema()"
   ]
  },
  {
   "cell_type": "markdown",
   "id": "0c2cfda8-cf5a-41bf-a386-b42a21d475ad",
   "metadata": {},
   "source": [
    "## Apply array_zip function"
   ]
  },
  {
   "cell_type": "code",
   "execution_count": 10,
   "id": "074809c5-0188-4f9d-bd54-f18de2f89dbe",
   "metadata": {},
   "outputs": [
    {
     "name": "stderr",
     "output_type": "stream",
     "text": [
      "[Stage 8:>                                                          (0 + 4) / 4]\r"
     ]
    },
    {
     "name": "stdout",
     "output_type": "stream",
     "text": [
      "+-----+------------------+------------------+------------------------------------------------------+\n",
      "|name |array_score_1     |array_score_2     |zipped_value                                          |\n",
      "+-----+------------------+------------------+------------------------------------------------------+\n",
      "|alice|[3, 8, 7]         |[7, 15, 10]       |[{3, 7}, {8, 15}, {7, 10}]                            |\n",
      "|john |[5, 6, 1, 5, 4, 1]|[1, 12, 13, 11, 3]|[{5, 1}, {6, 12}, {1, 13}, {5, 11}, {4, 3}, {1, NULL}]|\n",
      "|bob  |[9, 2, 4]         |[4, 14, 8]        |[{9, 4}, {2, 14}, {4, 8}]                             |\n",
      "|grace|[]                |[3]               |[{NULL, 3}]                                           |\n",
      "+-----+------------------+------------------+------------------------------------------------------+\n",
      "\n"
     ]
    },
    {
     "name": "stderr",
     "output_type": "stream",
     "text": [
      "                                                                                \r"
     ]
    }
   ],
   "source": [
    "df_array_zip = df_master_array.withColumn(\"zipped_value\",F.arrays_zip(\"array_score_1\",\"array_score_2\"))\n",
    "\n",
    "df_array_zip.show(10,False)"
   ]
  },
  {
   "cell_type": "markdown",
   "id": "4d84330e-18e5-44a4-a725-e837ac5f8857",
   "metadata": {},
   "source": [
    "## Practical use case flatten data"
   ]
  },
  {
   "cell_type": "code",
   "execution_count": 12,
   "id": "91ff42e8-005e-4ef8-883f-f102ba35e6cd",
   "metadata": {},
   "outputs": [],
   "source": [
    "department_data = [\n",
    "    (\n",
    "        \"sales\", [\n",
    "            {\"name\": \"william\", \"age\": 40, \"active\": True, \"years_service\": 10},\n",
    "            {\"name\": \"mariam\", \"age\": 22, \"active\": False, \"years_service\": 2},\n",
    "            {\"name\": \"john\", \"age\": 35, \"active\": True, \"years_service\": 7},\n",
    "            {\"name\": \"susan\", \"age\": 29, \"active\": True, \"years_service\": 5}\n",
    "        ]\n",
    "    ),\n",
    "    (\n",
    "        \"HHRR\", [\n",
    "            {\"name\": \"marta\", \"age\": 33, \"active\": True, \"years_service\": 1},\n",
    "            {\"name\": \"leonard\", \"age\": 29, \"active\": True, \"years_service\": 7},\n",
    "            {\"name\": \"nancy\", \"age\": 31, \"active\": False, \"years_service\": 3},\n",
    "            {\"name\": \"robert\", \"age\": 45, \"active\": True, \"years_service\": 20}\n",
    "        ]\n",
    "    ),\n",
    "    (\n",
    "        \"engineering\", [\n",
    "            {\"name\": \"alice\", \"age\": 28, \"active\": True, \"years_service\": 5},\n",
    "            {\"name\": \"bob\", \"age\": 35, \"active\": False, \"years_service\": 12},\n",
    "            {\"name\": \"charlie\", \"age\": 32, \"active\": True, \"years_service\": 8},\n",
    "            {\"name\": \"diane\", \"age\": 27, \"active\": True, \"years_service\": 4},\n",
    "            {\"name\": \"edward\", \"age\": 41, \"active\": False, \"years_service\": 15}\n",
    "        ]\n",
    "    ),\n",
    "    (\n",
    "        \"marketing\", [\n",
    "            {\"name\": \"carol\", \"age\": 26, \"active\": True, \"years_service\": 3},\n",
    "            {\"name\": \"dave\", \"age\": 30, \"active\": True, \"years_service\": 8},\n",
    "            {\"name\": \"ellen\", \"age\": 34, \"active\": False, \"years_service\": 6},\n",
    "            {\"name\": \"frank\", \"age\": 39, \"active\": True, \"years_service\": 10}\n",
    "        ]\n",
    "    ),\n",
    "    (\n",
    "        \"finance\", [\n",
    "            {\"name\": \"eve\", \"age\": 31, \"active\": True, \"years_service\": 9},\n",
    "            {\"name\": \"frank\", \"age\": 45, \"active\": False, \"years_service\": 20},\n",
    "            {\"name\": \"george\", \"age\": 38, \"active\": True, \"years_service\": 14},\n",
    "            {\"name\": \"hannah\", \"age\": 29, \"active\": True, \"years_service\": 5}\n",
    "        ]\n",
    "    )\n",
    "]\n",
    "\n",
    "department_schema = [\"department\",\"employee\"]\n",
    "\n",
    "df_department = spark.createDataFrame(data=department_data, schema=department_schema)"
   ]
  },
  {
   "cell_type": "code",
   "execution_count": 18,
   "id": "430278fa-6e94-4c60-b4ca-3d6e92c50534",
   "metadata": {},
   "outputs": [
    {
     "name": "stdout",
     "output_type": "stream",
     "text": [
      "+-----------+-------------------------------------------------------------------------------------------------------------------------------------------------------------------------------------------------------------------------------------------------------------------------------------------------------------------------------------+\n",
      "|department |employee                                                                                                                                                                                                                                                                                                                             |\n",
      "+-----------+-------------------------------------------------------------------------------------------------------------------------------------------------------------------------------------------------------------------------------------------------------------------------------------------------------------------------------------+\n",
      "|sales      |[{name -> william, active -> true, years_service -> 10, age -> 40}, {name -> mariam, active -> false, years_service -> 2, age -> 22}, {name -> john, active -> true, years_service -> 7, age -> 35}, {name -> susan, active -> true, years_service -> 5, age -> 29}]                                                                 |\n",
      "|HHRR       |[{name -> marta, active -> true, years_service -> 1, age -> 33}, {name -> leonard, active -> true, years_service -> 7, age -> 29}, {name -> nancy, active -> false, years_service -> 3, age -> 31}, {name -> robert, active -> true, years_service -> 20, age -> 45}]                                                                |\n",
      "|engineering|[{name -> alice, active -> true, years_service -> 5, age -> 28}, {name -> bob, active -> false, years_service -> 12, age -> 35}, {name -> charlie, active -> true, years_service -> 8, age -> 32}, {name -> diane, active -> true, years_service -> 4, age -> 27}, {name -> edward, active -> false, years_service -> 15, age -> 41}]|\n",
      "|marketing  |[{name -> carol, active -> true, years_service -> 3, age -> 26}, {name -> dave, active -> true, years_service -> 8, age -> 30}, {name -> ellen, active -> false, years_service -> 6, age -> 34}, {name -> frank, active -> true, years_service -> 10, age -> 39}]                                                                    |\n",
      "|finance    |[{name -> eve, active -> true, years_service -> 9, age -> 31}, {name -> frank, active -> false, years_service -> 20, age -> 45}, {name -> george, active -> true, years_service -> 14, age -> 38}, {name -> hannah, active -> true, years_service -> 5, age -> 29}]                                                                  |\n",
      "+-----------+-------------------------------------------------------------------------------------------------------------------------------------------------------------------------------------------------------------------------------------------------------------------------------------------------------------------------------------+\n",
      "\n"
     ]
    }
   ],
   "source": [
    "df_department.show(10,False)"
   ]
  },
  {
   "cell_type": "code",
   "execution_count": 14,
   "id": "ff39ab29-391f-468f-8c48-c820473dd0e5",
   "metadata": {},
   "outputs": [
    {
     "name": "stdout",
     "output_type": "stream",
     "text": [
      "root\n",
      " |-- department: string (nullable = true)\n",
      " |-- employee: array (nullable = true)\n",
      " |    |-- element: map (containsNull = true)\n",
      " |    |    |-- key: string\n",
      " |    |    |-- value: string (valueContainsNull = true)\n",
      "\n"
     ]
    }
   ],
   "source": [
    "df_department.printSchema()"
   ]
  },
  {
   "cell_type": "code",
   "execution_count": 21,
   "id": "a4e2b986-972c-4589-a12f-bd2ac862df1a",
   "metadata": {},
   "outputs": [
    {
     "name": "stdout",
     "output_type": "stream",
     "text": [
      "+-----------+-------------------------------------------------------------------------------------------------------------------------------------------------------------------------------------------------------------------------------------------------------------------------------------------------------------------------------------+-----------------------------------------------------------------------------------------------------------------------------------------------------------------------------------------------------------------------------------------------------------------------------------------------------------------------------------------------+\n",
      "|department |employee                                                                                                                                                                                                                                                                                                                             |zip                                                                                                                                                                                                                                                                                                                                            |\n",
      "+-----------+-------------------------------------------------------------------------------------------------------------------------------------------------------------------------------------------------------------------------------------------------------------------------------------------------------------------------------------+-----------------------------------------------------------------------------------------------------------------------------------------------------------------------------------------------------------------------------------------------------------------------------------------------------------------------------------------------+\n",
      "|sales      |[{name -> william, active -> true, years_service -> 10, age -> 40}, {name -> mariam, active -> false, years_service -> 2, age -> 22}, {name -> john, active -> true, years_service -> 7, age -> 35}, {name -> susan, active -> true, years_service -> 5, age -> 29}]                                                                 |[{{name -> william, active -> true, years_service -> 10, age -> 40}}, {{name -> mariam, active -> false, years_service -> 2, age -> 22}}, {{name -> john, active -> true, years_service -> 7, age -> 35}}, {{name -> susan, active -> true, years_service -> 5, age -> 29}}]                                                                   |\n",
      "|HHRR       |[{name -> marta, active -> true, years_service -> 1, age -> 33}, {name -> leonard, active -> true, years_service -> 7, age -> 29}, {name -> nancy, active -> false, years_service -> 3, age -> 31}, {name -> robert, active -> true, years_service -> 20, age -> 45}]                                                                |[{{name -> marta, active -> true, years_service -> 1, age -> 33}}, {{name -> leonard, active -> true, years_service -> 7, age -> 29}}, {{name -> nancy, active -> false, years_service -> 3, age -> 31}}, {{name -> robert, active -> true, years_service -> 20, age -> 45}}]                                                                  |\n",
      "|engineering|[{name -> alice, active -> true, years_service -> 5, age -> 28}, {name -> bob, active -> false, years_service -> 12, age -> 35}, {name -> charlie, active -> true, years_service -> 8, age -> 32}, {name -> diane, active -> true, years_service -> 4, age -> 27}, {name -> edward, active -> false, years_service -> 15, age -> 41}]|[{{name -> alice, active -> true, years_service -> 5, age -> 28}}, {{name -> bob, active -> false, years_service -> 12, age -> 35}}, {{name -> charlie, active -> true, years_service -> 8, age -> 32}}, {{name -> diane, active -> true, years_service -> 4, age -> 27}}, {{name -> edward, active -> false, years_service -> 15, age -> 41}}]|\n",
      "|marketing  |[{name -> carol, active -> true, years_service -> 3, age -> 26}, {name -> dave, active -> true, years_service -> 8, age -> 30}, {name -> ellen, active -> false, years_service -> 6, age -> 34}, {name -> frank, active -> true, years_service -> 10, age -> 39}]                                                                    |[{{name -> carol, active -> true, years_service -> 3, age -> 26}}, {{name -> dave, active -> true, years_service -> 8, age -> 30}}, {{name -> ellen, active -> false, years_service -> 6, age -> 34}}, {{name -> frank, active -> true, years_service -> 10, age -> 39}}]                                                                      |\n",
      "|finance    |[{name -> eve, active -> true, years_service -> 9, age -> 31}, {name -> frank, active -> false, years_service -> 20, age -> 45}, {name -> george, active -> true, years_service -> 14, age -> 38}, {name -> hannah, active -> true, years_service -> 5, age -> 29}]                                                                  |[{{name -> eve, active -> true, years_service -> 9, age -> 31}}, {{name -> frank, active -> false, years_service -> 20, age -> 45}}, {{name -> george, active -> true, years_service -> 14, age -> 38}}, {{name -> hannah, active -> true, years_service -> 5, age -> 29}}]                                                                    |\n",
      "+-----------+-------------------------------------------------------------------------------------------------------------------------------------------------------------------------------------------------------------------------------------------------------------------------------------------------------------------------------------+-----------------------------------------------------------------------------------------------------------------------------------------------------------------------------------------------------------------------------------------------------------------------------------------------------------------------------------------------+\n",
      "\n"
     ]
    }
   ],
   "source": [
    "df_departmet_zip = df_department.withColumn(\"zip\",F.arrays_zip(\"employee\"))\n",
    "\n",
    "df_departmet_zip.show(10,False)"
   ]
  },
  {
   "cell_type": "markdown",
   "id": "af7e732b-9e73-4af4-b7f2-67a8f610345c",
   "metadata": {},
   "source": [
    "## Apply explode"
   ]
  },
  {
   "cell_type": "code",
   "execution_count": 28,
   "id": "d97f55ba-9820-42b1-80c3-ea40c451bca0",
   "metadata": {},
   "outputs": [
    {
     "name": "stdout",
     "output_type": "stream",
     "text": [
      "+-----------+-------------------------------------------------------------------------------------------------------------------------------------------------------------------------------------------------------------------------------------------------------------------------------------------------------------------------------------+-----------------------------------------------------------------------------------------------------------------------------------------------------------------------------------------------------------------------------------------------------------------------------------------------------------------------------------------------+-------------------------------------------------------------------+\n",
      "|department |employee                                                                                                                                                                                                                                                                                                                             |zip                                                                                                                                                                                                                                                                                                                                            |explode                                                            |\n",
      "+-----------+-------------------------------------------------------------------------------------------------------------------------------------------------------------------------------------------------------------------------------------------------------------------------------------------------------------------------------------+-----------------------------------------------------------------------------------------------------------------------------------------------------------------------------------------------------------------------------------------------------------------------------------------------------------------------------------------------+-------------------------------------------------------------------+\n",
      "|sales      |[{name -> william, active -> true, years_service -> 10, age -> 40}, {name -> mariam, active -> false, years_service -> 2, age -> 22}, {name -> john, active -> true, years_service -> 7, age -> 35}, {name -> susan, active -> true, years_service -> 5, age -> 29}]                                                                 |[{{name -> william, active -> true, years_service -> 10, age -> 40}}, {{name -> mariam, active -> false, years_service -> 2, age -> 22}}, {{name -> john, active -> true, years_service -> 7, age -> 35}}, {{name -> susan, active -> true, years_service -> 5, age -> 29}}]                                                                   |{{name -> william, active -> true, years_service -> 10, age -> 40}}|\n",
      "|sales      |[{name -> william, active -> true, years_service -> 10, age -> 40}, {name -> mariam, active -> false, years_service -> 2, age -> 22}, {name -> john, active -> true, years_service -> 7, age -> 35}, {name -> susan, active -> true, years_service -> 5, age -> 29}]                                                                 |[{{name -> william, active -> true, years_service -> 10, age -> 40}}, {{name -> mariam, active -> false, years_service -> 2, age -> 22}}, {{name -> john, active -> true, years_service -> 7, age -> 35}}, {{name -> susan, active -> true, years_service -> 5, age -> 29}}]                                                                   |{{name -> mariam, active -> false, years_service -> 2, age -> 22}} |\n",
      "|sales      |[{name -> william, active -> true, years_service -> 10, age -> 40}, {name -> mariam, active -> false, years_service -> 2, age -> 22}, {name -> john, active -> true, years_service -> 7, age -> 35}, {name -> susan, active -> true, years_service -> 5, age -> 29}]                                                                 |[{{name -> william, active -> true, years_service -> 10, age -> 40}}, {{name -> mariam, active -> false, years_service -> 2, age -> 22}}, {{name -> john, active -> true, years_service -> 7, age -> 35}}, {{name -> susan, active -> true, years_service -> 5, age -> 29}}]                                                                   |{{name -> john, active -> true, years_service -> 7, age -> 35}}    |\n",
      "|sales      |[{name -> william, active -> true, years_service -> 10, age -> 40}, {name -> mariam, active -> false, years_service -> 2, age -> 22}, {name -> john, active -> true, years_service -> 7, age -> 35}, {name -> susan, active -> true, years_service -> 5, age -> 29}]                                                                 |[{{name -> william, active -> true, years_service -> 10, age -> 40}}, {{name -> mariam, active -> false, years_service -> 2, age -> 22}}, {{name -> john, active -> true, years_service -> 7, age -> 35}}, {{name -> susan, active -> true, years_service -> 5, age -> 29}}]                                                                   |{{name -> susan, active -> true, years_service -> 5, age -> 29}}   |\n",
      "|HHRR       |[{name -> marta, active -> true, years_service -> 1, age -> 33}, {name -> leonard, active -> true, years_service -> 7, age -> 29}, {name -> nancy, active -> false, years_service -> 3, age -> 31}, {name -> robert, active -> true, years_service -> 20, age -> 45}]                                                                |[{{name -> marta, active -> true, years_service -> 1, age -> 33}}, {{name -> leonard, active -> true, years_service -> 7, age -> 29}}, {{name -> nancy, active -> false, years_service -> 3, age -> 31}}, {{name -> robert, active -> true, years_service -> 20, age -> 45}}]                                                                  |{{name -> marta, active -> true, years_service -> 1, age -> 33}}   |\n",
      "|HHRR       |[{name -> marta, active -> true, years_service -> 1, age -> 33}, {name -> leonard, active -> true, years_service -> 7, age -> 29}, {name -> nancy, active -> false, years_service -> 3, age -> 31}, {name -> robert, active -> true, years_service -> 20, age -> 45}]                                                                |[{{name -> marta, active -> true, years_service -> 1, age -> 33}}, {{name -> leonard, active -> true, years_service -> 7, age -> 29}}, {{name -> nancy, active -> false, years_service -> 3, age -> 31}}, {{name -> robert, active -> true, years_service -> 20, age -> 45}}]                                                                  |{{name -> leonard, active -> true, years_service -> 7, age -> 29}} |\n",
      "|HHRR       |[{name -> marta, active -> true, years_service -> 1, age -> 33}, {name -> leonard, active -> true, years_service -> 7, age -> 29}, {name -> nancy, active -> false, years_service -> 3, age -> 31}, {name -> robert, active -> true, years_service -> 20, age -> 45}]                                                                |[{{name -> marta, active -> true, years_service -> 1, age -> 33}}, {{name -> leonard, active -> true, years_service -> 7, age -> 29}}, {{name -> nancy, active -> false, years_service -> 3, age -> 31}}, {{name -> robert, active -> true, years_service -> 20, age -> 45}}]                                                                  |{{name -> nancy, active -> false, years_service -> 3, age -> 31}}  |\n",
      "|HHRR       |[{name -> marta, active -> true, years_service -> 1, age -> 33}, {name -> leonard, active -> true, years_service -> 7, age -> 29}, {name -> nancy, active -> false, years_service -> 3, age -> 31}, {name -> robert, active -> true, years_service -> 20, age -> 45}]                                                                |[{{name -> marta, active -> true, years_service -> 1, age -> 33}}, {{name -> leonard, active -> true, years_service -> 7, age -> 29}}, {{name -> nancy, active -> false, years_service -> 3, age -> 31}}, {{name -> robert, active -> true, years_service -> 20, age -> 45}}]                                                                  |{{name -> robert, active -> true, years_service -> 20, age -> 45}} |\n",
      "|engineering|[{name -> alice, active -> true, years_service -> 5, age -> 28}, {name -> bob, active -> false, years_service -> 12, age -> 35}, {name -> charlie, active -> true, years_service -> 8, age -> 32}, {name -> diane, active -> true, years_service -> 4, age -> 27}, {name -> edward, active -> false, years_service -> 15, age -> 41}]|[{{name -> alice, active -> true, years_service -> 5, age -> 28}}, {{name -> bob, active -> false, years_service -> 12, age -> 35}}, {{name -> charlie, active -> true, years_service -> 8, age -> 32}}, {{name -> diane, active -> true, years_service -> 4, age -> 27}}, {{name -> edward, active -> false, years_service -> 15, age -> 41}}]|{{name -> alice, active -> true, years_service -> 5, age -> 28}}   |\n",
      "|engineering|[{name -> alice, active -> true, years_service -> 5, age -> 28}, {name -> bob, active -> false, years_service -> 12, age -> 35}, {name -> charlie, active -> true, years_service -> 8, age -> 32}, {name -> diane, active -> true, years_service -> 4, age -> 27}, {name -> edward, active -> false, years_service -> 15, age -> 41}]|[{{name -> alice, active -> true, years_service -> 5, age -> 28}}, {{name -> bob, active -> false, years_service -> 12, age -> 35}}, {{name -> charlie, active -> true, years_service -> 8, age -> 32}}, {{name -> diane, active -> true, years_service -> 4, age -> 27}}, {{name -> edward, active -> false, years_service -> 15, age -> 41}}]|{{name -> bob, active -> false, years_service -> 12, age -> 35}}   |\n",
      "+-----------+-------------------------------------------------------------------------------------------------------------------------------------------------------------------------------------------------------------------------------------------------------------------------------------------------------------------------------------+-----------------------------------------------------------------------------------------------------------------------------------------------------------------------------------------------------------------------------------------------------------------------------------------------------------------------------------------------+-------------------------------------------------------------------+\n",
      "only showing top 10 rows\n",
      "\n"
     ]
    }
   ],
   "source": [
    "df_departmet_expand = df_departmet_zip.withColumn(\"explode\",F.explode(\"zip\"))\n",
    "\n",
    "df_departmet_expand.show(10,False)"
   ]
  },
  {
   "cell_type": "code",
   "execution_count": 29,
   "id": "fcc38dd3-422b-4ef6-b54c-7eb34db63537",
   "metadata": {},
   "outputs": [
    {
     "name": "stdout",
     "output_type": "stream",
     "text": [
      "root\n",
      " |-- department: string (nullable = true)\n",
      " |-- employee: array (nullable = true)\n",
      " |    |-- element: map (containsNull = true)\n",
      " |    |    |-- key: string\n",
      " |    |    |-- value: string (valueContainsNull = true)\n",
      " |-- zip: array (nullable = true)\n",
      " |    |-- element: struct (containsNull = false)\n",
      " |    |    |-- employee: map (nullable = true)\n",
      " |    |    |    |-- key: string\n",
      " |    |    |    |-- value: string (valueContainsNull = true)\n",
      " |-- explode: struct (nullable = false)\n",
      " |    |-- employee: map (nullable = true)\n",
      " |    |    |-- key: string\n",
      " |    |    |-- value: string (valueContainsNull = true)\n",
      "\n"
     ]
    }
   ],
   "source": [
    "df_departmet_expand.printSchema()"
   ]
  },
  {
   "cell_type": "code",
   "execution_count": 32,
   "id": "b65e6054-96a6-48dd-9e3f-721dc5571f92",
   "metadata": {},
   "outputs": [
    {
     "name": "stdout",
     "output_type": "stream",
     "text": [
      "+-----------+-------------+------------+----------------------+---------------+\n",
      "|department |employee_name|employee_age|employee_years_service|employee_active|\n",
      "+-----------+-------------+------------+----------------------+---------------+\n",
      "|sales      |william      |40          |10                    |true           |\n",
      "|sales      |mariam       |22          |2                     |false          |\n",
      "|sales      |john         |35          |7                     |true           |\n",
      "|sales      |susan        |29          |5                     |true           |\n",
      "|HHRR       |marta        |33          |1                     |true           |\n",
      "|HHRR       |leonard      |29          |7                     |true           |\n",
      "|HHRR       |nancy        |31          |3                     |false          |\n",
      "|HHRR       |robert       |45          |20                    |true           |\n",
      "|engineering|alice        |28          |5                     |true           |\n",
      "|engineering|bob          |35          |12                    |false          |\n",
      "+-----------+-------------+------------+----------------------+---------------+\n",
      "only showing top 10 rows\n",
      "\n"
     ]
    }
   ],
   "source": [
    "df_departmet_output = df_departmet_expand.withColumn(\"employee_name\",df_departmet_expand[\"explode.employee.name\"])\\\n",
    "                                            .withColumn(\"employee_age\",df_departmet_expand[\"explode.employee.age\"])\\\n",
    "                                            .withColumn(\"employee_years_service\",df_departmet_expand[\"explode.employee.years_service\"])\\\n",
    "                                            .withColumn(\"employee_active\",df_departmet_expand[\"explode.employee.active\"])\\\n",
    "                                            .drop(\"employee\",\"zip\",\"explode\")\n",
    "\n",
    "df_departmet_output.show(10, False)"
   ]
  },
  {
   "cell_type": "markdown",
   "id": "51b7d09d-bb5f-4048-8e31-67a7b079bbd0",
   "metadata": {},
   "source": [
    "# ARRAY INTERSECT"
   ]
  },
  {
   "cell_type": "code",
   "execution_count": 33,
   "id": "d22275ab-973c-4d1c-9f27-54d8b7214557",
   "metadata": {},
   "outputs": [],
   "source": [
    "array_values = [\n",
    "    (\"john\", 5, 1),\n",
    "    (\"john\", 6, 5),\n",
    "    (\"alice\", 3, 5),\n",
    "    (\"bob\", 1, 4),\n",
    "    (\"alice\", 5, 2),\n",
    "    (\"alice\", 7, 2),\n",
    "    (\"bob\", 2, 14),\n",
    "    (\"bob\", 4, 1),\n",
    "    (\"grace\", None, 3),\n",
    "    (\"john\", 1, 6),\n",
    "    (\"john\", 5, 5),\n",
    "    (\"john\", 4, 7),\n",
    "    (\"john\", 7, 3),\n",
    "]\n",
    "values_schema = [\"name\",\"value_1\",\"value_2\"]"
   ]
  },
  {
   "cell_type": "code",
   "execution_count": 34,
   "id": "79900c61-f64b-4b7e-b22b-c733f1c081a6",
   "metadata": {},
   "outputs": [
    {
     "name": "stdout",
     "output_type": "stream",
     "text": [
      "+-----+-------+-------+\n",
      "| name|value_1|value_2|\n",
      "+-----+-------+-------+\n",
      "| john|      5|      1|\n",
      "| john|      6|      5|\n",
      "|alice|      3|      5|\n",
      "|  bob|      1|      4|\n",
      "|alice|      5|      2|\n",
      "|alice|      7|      2|\n",
      "|  bob|      2|     14|\n",
      "|  bob|      4|      1|\n",
      "|grace|   NULL|      3|\n",
      "| john|      1|      6|\n",
      "| john|      5|      5|\n",
      "| john|      4|      7|\n",
      "| john|      7|      3|\n",
      "+-----+-------+-------+\n",
      "\n"
     ]
    }
   ],
   "source": [
    "df_array_values = spark.createDataFrame(array_values,values_schema)\n",
    "df_array_values.show()"
   ]
  },
  {
   "cell_type": "code",
   "execution_count": 35,
   "id": "ec3efbce-5056-4a2f-87a9-942869aa247c",
   "metadata": {},
   "outputs": [
    {
     "name": "stdout",
     "output_type": "stream",
     "text": [
      "+-----+------------------+------------------+\n",
      "| name|    array_values_1|    array_values_2|\n",
      "+-----+------------------+------------------+\n",
      "|alice|         [3, 5, 7]|         [5, 2, 2]|\n",
      "| john|[5, 6, 1, 5, 4, 7]|[1, 5, 6, 5, 7, 3]|\n",
      "|  bob|         [1, 2, 4]|        [4, 14, 1]|\n",
      "|grace|                []|               [3]|\n",
      "+-----+------------------+------------------+\n",
      "\n"
     ]
    },
    {
     "name": "stderr",
     "output_type": "stream",
     "text": [
      "                                                                                \r"
     ]
    }
   ],
   "source": [
    "df_master_values = df_array_values.groupby(\"name\").agg(\n",
    "    F.collect_list(\"value_1\").alias(\"array_values_1\"),\n",
    "    F.collect_list(\"value_2\").alias(\"array_values_2\"),\n",
    ")\n",
    "\n",
    "df_master_values.show()"
   ]
  },
  {
   "cell_type": "code",
   "execution_count": 36,
   "id": "8dfbfd98-7f08-47db-ae45-4d6740c303aa",
   "metadata": {},
   "outputs": [
    {
     "name": "stdout",
     "output_type": "stream",
     "text": [
      "+-----+------------------+------------------+------------+\n",
      "| name|    array_values_1|    array_values_2|   intersect|\n",
      "+-----+------------------+------------------+------------+\n",
      "|alice|         [3, 5, 7]|         [5, 2, 2]|         [5]|\n",
      "| john|[5, 6, 1, 5, 4, 7]|[1, 5, 6, 5, 7, 3]|[5, 6, 1, 7]|\n",
      "|  bob|         [1, 2, 4]|        [4, 14, 1]|      [1, 4]|\n",
      "|grace|                []|               [3]|          []|\n",
      "+-----+------------------+------------------+------------+\n",
      "\n"
     ]
    }
   ],
   "source": [
    "df_array_intersect = df_master_values.withColumn(\"intersect\", F.array_intersect(\"array_values_1\",\"array_values_2\"))\n",
    "\n",
    "df_array_intersect.show()"
   ]
  },
  {
   "cell_type": "markdown",
   "id": "8db99143-5204-45af-9e57-8183d548382b",
   "metadata": {},
   "source": [
    "# ARRAY EXCEPT"
   ]
  },
  {
   "cell_type": "code",
   "execution_count": 37,
   "id": "98312535-c41c-4c05-a4d6-a96915a2c64e",
   "metadata": {},
   "outputs": [
    {
     "name": "stderr",
     "output_type": "stream",
     "text": [
      "[Stage 49:>                                                         (0 + 4) / 4]\r"
     ]
    },
    {
     "name": "stdout",
     "output_type": "stream",
     "text": [
      "+-----+------------------+------------------+\n",
      "| name|    array_values_1|    array_values_2|\n",
      "+-----+------------------+------------------+\n",
      "|alice|         [3, 5, 7]|         [5, 2, 2]|\n",
      "| john|[5, 6, 1, 5, 4, 7]|[1, 5, 6, 5, 7, 3]|\n",
      "|  bob|         [1, 2, 4]|        [4, 14, 1]|\n",
      "|grace|                []|               [3]|\n",
      "+-----+------------------+------------------+\n",
      "\n"
     ]
    },
    {
     "name": "stderr",
     "output_type": "stream",
     "text": [
      "                                                                                \r"
     ]
    }
   ],
   "source": [
    "df_master_values.show()"
   ]
  },
  {
   "cell_type": "code",
   "execution_count": 39,
   "id": "d4e8b846-97ea-4b57-a4d8-43546da0b0b5",
   "metadata": {},
   "outputs": [
    {
     "name": "stderr",
     "output_type": "stream",
     "text": [
      "[Stage 55:>                                                         (0 + 4) / 4]\r"
     ]
    },
    {
     "name": "stdout",
     "output_type": "stream",
     "text": [
      "+-----+------------------+------------------+------+\n",
      "| name|    array_values_1|    array_values_2|except|\n",
      "+-----+------------------+------------------+------+\n",
      "|alice|         [3, 5, 7]|         [5, 2, 2]|[3, 7]|\n",
      "| john|[5, 6, 1, 5, 4, 7]|[1, 5, 6, 5, 7, 3]|   [4]|\n",
      "|  bob|         [1, 2, 4]|        [4, 14, 1]|   [2]|\n",
      "|grace|                []|               [3]|    []|\n",
      "+-----+------------------+------------------+------+\n",
      "\n"
     ]
    },
    {
     "name": "stderr",
     "output_type": "stream",
     "text": [
      "                                                                                \r"
     ]
    }
   ],
   "source": [
    "df_array_except_1over2 = df_master_values.withColumn(\"except\", F.array_except(\"array_values_1\",\"array_values_2\"))\n",
    "\n",
    "df_array_except_1over2.show()"
   ]
  },
  {
   "cell_type": "code",
   "execution_count": 40,
   "id": "2588246f-66e4-4715-b137-69e48b524395",
   "metadata": {},
   "outputs": [
    {
     "name": "stdout",
     "output_type": "stream",
     "text": [
      "+-----+------------------+------------------+------+\n",
      "| name|    array_values_1|    array_values_2|except|\n",
      "+-----+------------------+------------------+------+\n",
      "|alice|         [3, 5, 7]|         [5, 2, 2]|   [2]|\n",
      "| john|[5, 6, 1, 5, 4, 7]|[1, 5, 6, 5, 7, 3]|   [3]|\n",
      "|  bob|         [1, 2, 4]|        [4, 14, 1]|  [14]|\n",
      "|grace|                []|               [3]|   [3]|\n",
      "+-----+------------------+------------------+------+\n",
      "\n"
     ]
    }
   ],
   "source": [
    "df_array_except_2over1 = df_master_values.withColumn(\"except\", F.array_except(\"array_values_2\",\"array_values_1\"))\n",
    "\n",
    "df_array_except_2over1.show()"
   ]
  },
  {
   "cell_type": "markdown",
   "id": "bdd5adc7-40aa-4e1c-b025-3d6aeac4536e",
   "metadata": {},
   "source": [
    "# ARRAY SORT"
   ]
  },
  {
   "cell_type": "code",
   "execution_count": 42,
   "id": "76877d61-8185-4daf-ab31-287d338d5572",
   "metadata": {},
   "outputs": [
    {
     "name": "stdout",
     "output_type": "stream",
     "text": [
      "+-----+------------------+------------------+\n",
      "| name|    array_values_1|    sorted_value_1|\n",
      "+-----+------------------+------------------+\n",
      "|alice|         [3, 5, 7]|         [3, 5, 7]|\n",
      "| john|[5, 6, 1, 5, 4, 7]|[1, 4, 5, 5, 6, 7]|\n",
      "|  bob|         [1, 2, 4]|         [1, 2, 4]|\n",
      "|grace|                []|                []|\n",
      "+-----+------------------+------------------+\n",
      "\n"
     ]
    }
   ],
   "source": [
    "df_array_sort = df_master_values.withColumn(\"sorted_value_1\", F.array_sort(\"array_values_1\")).drop(\"array_values_2\")\n",
    "\n",
    "df_array_sort.show()"
   ]
  },
  {
   "cell_type": "markdown",
   "id": "e836eeff-3d22-484d-90f5-07389cc8fd7f",
   "metadata": {},
   "source": [
    "# SORT ARRAY"
   ]
  },
  {
   "cell_type": "code",
   "execution_count": 46,
   "id": "a11ee84d-60c3-49a0-9219-30db02048678",
   "metadata": {},
   "outputs": [
    {
     "name": "stdout",
     "output_type": "stream",
     "text": [
      "+-----+------------------+------------------+\n",
      "| name|    array_values_1|    sorted_value_1|\n",
      "+-----+------------------+------------------+\n",
      "|alice|         [3, 5, 7]|         [3, 5, 7]|\n",
      "| john|[5, 6, 1, 5, 4, 7]|[1, 4, 5, 5, 6, 7]|\n",
      "|  bob|         [1, 2, 4]|         [1, 2, 4]|\n",
      "|grace|                []|                []|\n",
      "+-----+------------------+------------------+\n",
      "\n"
     ]
    }
   ],
   "source": [
    "df_array_sort = df_master_values.withColumn(\"sorted_value_1\", F.sort_array(\"array_values_1\")).drop(\"array_values_2\")\n",
    "\n",
    "df_array_sort.show()"
   ]
  },
  {
   "cell_type": "code",
   "execution_count": 47,
   "id": "e3d82e0a-492c-45e3-ac06-1dbc4f453070",
   "metadata": {},
   "outputs": [
    {
     "name": "stdout",
     "output_type": "stream",
     "text": [
      "+-----+------------------+------------------+\n",
      "| name|    array_values_1|    sorted_value_1|\n",
      "+-----+------------------+------------------+\n",
      "|alice|         [3, 5, 7]|         [7, 5, 3]|\n",
      "| john|[5, 6, 1, 5, 4, 7]|[7, 6, 5, 5, 4, 1]|\n",
      "|  bob|         [1, 2, 4]|         [4, 2, 1]|\n",
      "|grace|                []|                []|\n",
      "+-----+------------------+------------------+\n",
      "\n"
     ]
    },
    {
     "name": "stderr",
     "output_type": "stream",
     "text": [
      "----------------------------------------\n",
      "Exception occurred during processing of request from ('127.0.0.1', 60224)\n",
      "Traceback (most recent call last):\n",
      "  File \"/home/andresmunozpampillon/anaconda3/lib/python3.11/socketserver.py\", line 317, in _handle_request_noblock\n",
      "    self.process_request(request, client_address)\n",
      "  File \"/home/andresmunozpampillon/anaconda3/lib/python3.11/socketserver.py\", line 348, in process_request\n",
      "    self.finish_request(request, client_address)\n",
      "  File \"/home/andresmunozpampillon/anaconda3/lib/python3.11/socketserver.py\", line 361, in finish_request\n",
      "    self.RequestHandlerClass(request, client_address, self)\n",
      "  File \"/home/andresmunozpampillon/anaconda3/lib/python3.11/socketserver.py\", line 755, in __init__\n",
      "    self.handle()\n",
      "  File \"/home/andresmunozpampillon/spark-3.5.2-bin-hadoop3/python/pyspark/accumulators.py\", line 295, in handle\n",
      "    poll(accum_updates)\n",
      "  File \"/home/andresmunozpampillon/spark-3.5.2-bin-hadoop3/python/pyspark/accumulators.py\", line 267, in poll\n",
      "    if self.rfile in r and func():\n",
      "                           ^^^^^^\n",
      "  File \"/home/andresmunozpampillon/spark-3.5.2-bin-hadoop3/python/pyspark/accumulators.py\", line 271, in accum_updates\n",
      "    num_updates = read_int(self.rfile)\n",
      "                  ^^^^^^^^^^^^^^^^^^^^\n",
      "  File \"/home/andresmunozpampillon/spark-3.5.2-bin-hadoop3/python/pyspark/serializers.py\", line 596, in read_int\n",
      "    raise EOFError\n",
      "EOFError\n",
      "----------------------------------------\n"
     ]
    }
   ],
   "source": [
    "df_array_sort = df_master_values.withColumn(\"sorted_value_1\", F.sort_array(\"array_values_1\",asc=False)).drop(\"array_values_2\")\n",
    "\n",
    "df_array_sort.show()"
   ]
  },
  {
   "cell_type": "code",
   "execution_count": null,
   "id": "69ff0a9a-6070-4c30-8dac-56dab39f1b22",
   "metadata": {},
   "outputs": [],
   "source": []
  }
 ],
 "metadata": {
  "kernelspec": {
   "display_name": "Python 3 (ipykernel)",
   "language": "python",
   "name": "python3"
  },
  "language_info": {
   "codemirror_mode": {
    "name": "ipython",
    "version": 3
   },
   "file_extension": ".py",
   "mimetype": "text/x-python",
   "name": "python",
   "nbconvert_exporter": "python",
   "pygments_lexer": "ipython3",
   "version": "3.11.7"
  }
 },
 "nbformat": 4,
 "nbformat_minor": 5
}
