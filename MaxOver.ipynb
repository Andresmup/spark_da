{
 "cells": [
  {
   "cell_type": "markdown",
   "id": "9bf9f604-91c5-48a7-995f-bdc63961bbce",
   "metadata": {},
   "source": [
    "# MAX OVER"
   ]
  },
  {
   "cell_type": "code",
   "execution_count": 1,
   "id": "37e82997-4f31-44b5-8989-763ccd30ac08",
   "metadata": {},
   "outputs": [],
   "source": [
    "import findspark\n",
    "findspark.init()"
   ]
  },
  {
   "cell_type": "code",
   "execution_count": 2,
   "id": "298587df-d22f-4d17-bfcc-0d2caeb6825f",
   "metadata": {},
   "outputs": [
    {
     "name": "stderr",
     "output_type": "stream",
     "text": [
      "Setting default log level to \"WARN\".\n",
      "To adjust logging level use sc.setLogLevel(newLevel). For SparkR, use setLogLevel(newLevel).\n",
      "24/08/28 15:36:57 WARN NativeCodeLoader: Unable to load native-hadoop library for your platform... using builtin-java classes where applicable\n"
     ]
    }
   ],
   "source": [
    "from pyspark.sql import SparkSession\n",
    "\n",
    "spark = SparkSession.builder.getOrCreate()"
   ]
  },
  {
   "cell_type": "code",
   "execution_count": 3,
   "id": "533d7321-7e51-4aea-8656-2c84944d2535",
   "metadata": {},
   "outputs": [],
   "source": [
    "data_product = [\n",
    "    (1,\"mobile\",1000, 10, 7),\n",
    "    (1,\"mobile\",1400, 5, 8),\n",
    "    (1,\"mobile\",1200, 7, 10),\n",
    "    (2,\"laptop\",2250, 2, 27),\n",
    "    (2,\"laptop\",3150, 14, 29),\n",
    "    (2,\"laptop\",3000, 8, 25),\n",
    "    (2,\"laptop\",4500, 2, 27)\n",
    "]\n",
    "\n",
    "schema_product = \"id INTEGER, device STRING, price INTEGER, discount INTEGER, size INTEGER\""
   ]
  },
  {
   "cell_type": "code",
   "execution_count": 4,
   "id": "ef9e5e1f-3a57-459f-a3ce-5a09ed99a56f",
   "metadata": {},
   "outputs": [
    {
     "name": "stderr",
     "output_type": "stream",
     "text": [
      "                                                                                \r"
     ]
    },
    {
     "name": "stdout",
     "output_type": "stream",
     "text": [
      "+---+------+-----+--------+----+\n",
      "| id|device|price|discount|size|\n",
      "+---+------+-----+--------+----+\n",
      "|  1|mobile| 1000|      10|   7|\n",
      "|  1|mobile| 1400|       5|   8|\n",
      "|  1|mobile| 1200|       7|  10|\n",
      "|  2|laptop| 2250|       2|  27|\n",
      "|  2|laptop| 3150|      14|  29|\n",
      "|  2|laptop| 3000|       8|  25|\n",
      "|  2|laptop| 4500|       2|  27|\n",
      "+---+------+-----+--------+----+\n",
      "\n"
     ]
    }
   ],
   "source": [
    "df_product = spark.createDataFrame(data = data_product, schema = schema_product)\n",
    "df_product.show()"
   ]
  },
  {
   "cell_type": "code",
   "execution_count": 5,
   "id": "e4eb3a72-05a2-41c0-a7f0-7caf342ed06e",
   "metadata": {},
   "outputs": [],
   "source": [
    "from pyspark.sql import Window\n",
    "from pyspark.sql.functions import max, col"
   ]
  },
  {
   "cell_type": "code",
   "execution_count": 6,
   "id": "b7e7de03-5c9d-489d-8eea-286f7d68faf7",
   "metadata": {},
   "outputs": [],
   "source": [
    "window_definition = Window.partitionBy(\"id\")"
   ]
  },
  {
   "cell_type": "code",
   "execution_count": 7,
   "id": "c44a8556-cfd7-464d-813c-2cba04767de2",
   "metadata": {},
   "outputs": [
    {
     "name": "stdout",
     "output_type": "stream",
     "text": [
      "+---+------+-----+--------+----+---------+------------+--------+\n",
      "| id|device|price|discount|size|max_price|max_discount|max_size|\n",
      "+---+------+-----+--------+----+---------+------------+--------+\n",
      "|  1|mobile| 1000|      10|   7|     1400|          10|      10|\n",
      "|  1|mobile| 1400|       5|   8|     1400|          10|      10|\n",
      "|  1|mobile| 1200|       7|  10|     1400|          10|      10|\n",
      "|  2|laptop| 2250|       2|  27|     4500|          14|      29|\n",
      "|  2|laptop| 3150|      14|  29|     4500|          14|      29|\n",
      "|  2|laptop| 3000|       8|  25|     4500|          14|      29|\n",
      "|  2|laptop| 4500|       2|  27|     4500|          14|      29|\n",
      "+---+------+-----+--------+----+---------+------------+--------+\n",
      "\n"
     ]
    }
   ],
   "source": [
    "df_max_values = df_product.withColumn(\"max_price\", max(\"price\").over(window_definition)) \\\n",
    "                            .withColumn(\"max_discount\", max(\"discount\").over(window_definition)) \\\n",
    "                            .withColumn(\"max_size\", max(\"size\").over(window_definition))\n",
    "df_max_values.show()"
   ]
  },
  {
   "cell_type": "code",
   "execution_count": 8,
   "id": "422115bc-c907-4f39-b375-85394bc37d90",
   "metadata": {},
   "outputs": [
    {
     "name": "stdout",
     "output_type": "stream",
     "text": [
      "+---+------+-----+--------+----+\n",
      "| id|device|price|discount|size|\n",
      "+---+------+-----+--------+----+\n",
      "|  1|mobile| 1400|      10|  10|\n",
      "|  1|mobile| 1400|      10|  10|\n",
      "|  1|mobile| 1400|      10|  10|\n",
      "|  2|laptop| 4500|      14|  29|\n",
      "|  2|laptop| 4500|      14|  29|\n",
      "|  2|laptop| 4500|      14|  29|\n",
      "|  2|laptop| 4500|      14|  29|\n",
      "+---+------+-----+--------+----+\n",
      "\n"
     ]
    }
   ],
   "source": [
    "df_max_values.select(col(\"id\"),\n",
    "                     col(\"device\"),\n",
    "                     col(\"max_price\").alias(\"price\"),\n",
    "                     col(\"max_discount\").alias(\"discount\"),\n",
    "                     col(\"max_size\").alias(\"size\")).show()"
   ]
  },
  {
   "cell_type": "code",
   "execution_count": 9,
   "id": "8834f226-214a-4358-adaa-4a18b9a439b8",
   "metadata": {},
   "outputs": [
    {
     "name": "stdout",
     "output_type": "stream",
     "text": [
      "+---+------+-----+--------+----+\n",
      "| id|device|price|discount|size|\n",
      "+---+------+-----+--------+----+\n",
      "|  1|mobile| 1400|      10|  10|\n",
      "|  2|laptop| 4500|      14|  29|\n",
      "+---+------+-----+--------+----+\n",
      "\n"
     ]
    }
   ],
   "source": [
    "df_max_values.select(col(\"id\"),\n",
    "                     col(\"device\"),\n",
    "                     col(\"max_price\").alias(\"price\"),\n",
    "                     col(\"max_discount\").alias(\"discount\"),\n",
    "                     col(\"max_size\").alias(\"size\")).dropDuplicates().show()"
   ]
  }
 ],
 "metadata": {
  "kernelspec": {
   "display_name": "Python 3 (ipykernel)",
   "language": "python",
   "name": "python3"
  },
  "language_info": {
   "codemirror_mode": {
    "name": "ipython",
    "version": 3
   },
   "file_extension": ".py",
   "mimetype": "text/x-python",
   "name": "python",
   "nbconvert_exporter": "python",
   "pygments_lexer": "ipython3",
   "version": "3.11.7"
  }
 },
 "nbformat": 4,
 "nbformat_minor": 5
}
