{
 "cells": [
  {
   "cell_type": "markdown",
   "metadata": {
    "application/vnd.databricks.v1+cell": {
     "cellMetadata": {},
     "inputWidgets": {},
     "nuid": "5f764835-2aad-4e7d-b67f-257627266b1c",
     "showTitle": false,
     "title": ""
    }
   },
   "source": [
    "#PIVOT"
   ]
  },
  {
   "cell_type": "code",
   "execution_count": 0,
   "metadata": {
    "application/vnd.databricks.v1+cell": {
     "cellMetadata": {
      "byteLimit": 2048000,
      "rowLimit": 10000
     },
     "inputWidgets": {},
     "nuid": "acc6a928-33b9-4842-8462-1be15580dc8d",
     "showTitle": false,
     "title": ""
    }
   },
   "outputs": [
    {
     "output_type": "stream",
     "name": "stdout",
     "output_type": "stream",
     "text": [
      "+------+------+------+\n|  name|period|amount|\n+------+------+------+\n|Andres|    T1|   600|\n|Andres|    T2|   700|\n|Andres|    T3|   200|\n|Andres|    T4|  1000|\n|Carlos|    T1|     0|\n|Carlos|    T2|   200|\n|Carlos|    T3|  null|\n|Carlos|    T4|   500|\n| Lucia|    T1|   200|\n| Lucia|    T2|  2000|\n| Lucia|    T2|  2500|\n| Lucia|    T2|   500|\n| Lucia|    T4|   800|\n|  Luis|    T1|    50|\n|  Luis|    T2|   100|\n|  Luis|    T3|   900|\n|  Luis|    T5|   600|\n+------+------+------+\n\n"
     ]
    }
   ],
   "source": [
    "vendors = [\n",
    "    (\"Andres\",\"T1\",600),\n",
    "    (\"Andres\",\"T2\",700),\n",
    "    (\"Andres\",\"T3\",200),\n",
    "    (\"Andres\",\"T4\",1000),\n",
    "    (\"Carlos\",\"T1\",0),\n",
    "    (\"Carlos\",\"T2\",200),\n",
    "    (\"Carlos\",\"T3\",None),\n",
    "    (\"Carlos\",\"T4\",500),\n",
    "    (\"Lucia\",\"T1\",200),\n",
    "    (\"Lucia\",\"T2\",2000),\n",
    "    (\"Lucia\",\"T2\",2500),\n",
    "    (\"Lucia\",\"T2\",500),\n",
    "    (\"Lucia\",\"T4\",800),\n",
    "    (\"Luis\",\"T1\",50),\n",
    "    (\"Luis\",\"T2\",100),\n",
    "    (\"Luis\",\"T3\",900),\n",
    "    (\"Luis\",\"T5\",600),\n",
    "]\n",
    "\n",
    "schema_vendors = [\"name\",\"period\",\"amount\"]\n",
    "\n",
    "df_vendors = spark.createDataFrame(data=vendors,schema=schema_vendors)\n",
    "\n",
    "df_vendors.show()"
   ]
  },
  {
   "cell_type": "markdown",
   "metadata": {
    "application/vnd.databricks.v1+cell": {
     "cellMetadata": {},
     "inputWidgets": {},
     "nuid": "72e67812-9595-4291-80f5-aec23414c907",
     "showTitle": false,
     "title": ""
    }
   },
   "source": [
    "##Pivot"
   ]
  },
  {
   "cell_type": "code",
   "execution_count": 0,
   "metadata": {
    "application/vnd.databricks.v1+cell": {
     "cellMetadata": {
      "byteLimit": 2048000,
      "rowLimit": 10000
     },
     "inputWidgets": {},
     "nuid": "c0887988-c9d0-43c1-a373-68388a668f73",
     "showTitle": false,
     "title": ""
    }
   },
   "outputs": [
    {
     "output_type": "stream",
     "name": "stdout",
     "output_type": "stream",
     "text": [
      "+------+---+----+----+----+----+\n|  name| T1|  T2|  T3|  T4|  T5|\n+------+---+----+----+----+----+\n|Carlos|  0| 200|null| 500|null|\n|Andres|600| 700| 200|1000|null|\n| Lucia|200|5000|null| 800|null|\n|  Luis| 50| 100| 900|null| 600|\n+------+---+----+----+----+----+\n\n"
     ]
    }
   ],
   "source": [
    "df_vendors_pivot = df_vendors.groupBy(\"name\").pivot(\"period\").sum(\"amount\")\n",
    "\n",
    "df_vendors_pivot.show()"
   ]
  },
  {
   "cell_type": "code",
   "execution_count": 0,
   "metadata": {
    "application/vnd.databricks.v1+cell": {
     "cellMetadata": {
      "byteLimit": 2048000,
      "rowLimit": 10000
     },
     "inputWidgets": {},
     "nuid": "2acd88c6-1a5b-44dc-98a2-e1cce4ec3dd4",
     "showTitle": false,
     "title": ""
    }
   },
   "outputs": [
    {
     "output_type": "stream",
     "name": "stdout",
     "output_type": "stream",
     "text": [
      "+------+-----+------------------+-----+------+-----+\n|  name|   T1|                T2|   T3|    T4|   T5|\n+------+-----+------------------+-----+------+-----+\n|Carlos|  0.0|             200.0| null| 500.0| null|\n|Andres|600.0|             700.0|200.0|1000.0| null|\n| Lucia|200.0|1666.6666666666667| null| 800.0| null|\n|  Luis| 50.0|             100.0|900.0|  null|600.0|\n+------+-----+------------------+-----+------+-----+\n\n"
     ]
    }
   ],
   "source": [
    "df_vendors.groupBy(\"name\").pivot(\"period\").avg(\"amount\").show()"
   ]
  },
  {
   "cell_type": "code",
   "execution_count": 0,
   "metadata": {
    "application/vnd.databricks.v1+cell": {
     "cellMetadata": {
      "byteLimit": 2048000,
      "rowLimit": 10000
     },
     "inputWidgets": {},
     "nuid": "a959b234-1673-42c3-9e92-0617c7da4c10",
     "showTitle": false,
     "title": ""
    }
   },
   "outputs": [
    {
     "output_type": "stream",
     "name": "stdout",
     "output_type": "stream",
     "text": [
      "+------+---+----+----+----+----+\n|  name| T1|  T2|  T3|  T4|  T5|\n+------+---+----+----+----+----+\n|Carlos|  0| 200|null| 500|null|\n|Andres|600| 700| 200|1000|null|\n| Lucia|200|2500|null| 800|null|\n|  Luis| 50| 100| 900|null| 600|\n+------+---+----+----+----+----+\n\n"
     ]
    }
   ],
   "source": [
    "df_vendors.groupBy(\"name\").pivot(\"period\").max(\"amount\").show()"
   ]
  },
  {
   "cell_type": "code",
   "execution_count": 0,
   "metadata": {
    "application/vnd.databricks.v1+cell": {
     "cellMetadata": {
      "byteLimit": 2048000,
      "rowLimit": 10000
     },
     "inputWidgets": {},
     "nuid": "503846bb-bcd1-47ff-9f54-a87d12182018",
     "showTitle": false,
     "title": ""
    }
   },
   "outputs": [
    {
     "output_type": "stream",
     "name": "stdout",
     "output_type": "stream",
     "text": [
      "+------+---+---+----+----+----+\n|  name| T1| T2|  T3|  T4|  T5|\n+------+---+---+----+----+----+\n|Carlos|  0|200|null| 500|null|\n|Andres|600|700| 200|1000|null|\n| Lucia|200|500|null| 800|null|\n|  Luis| 50|100| 900|null| 600|\n+------+---+---+----+----+----+\n\n"
     ]
    }
   ],
   "source": [
    "df_vendors.groupBy(\"name\").pivot(\"period\").min(\"amount\").show()"
   ]
  },
  {
   "cell_type": "markdown",
   "metadata": {
    "application/vnd.databricks.v1+cell": {
     "cellMetadata": {},
     "inputWidgets": {},
     "nuid": "34b19330-90f3-4c1e-9c3c-1c6971497ff2",
     "showTitle": false,
     "title": ""
    }
   },
   "source": [
    "##Unpivot"
   ]
  },
  {
   "cell_type": "code",
   "execution_count": 0,
   "metadata": {
    "application/vnd.databricks.v1+cell": {
     "cellMetadata": {
      "byteLimit": 2048000,
      "rowLimit": 10000
     },
     "inputWidgets": {},
     "nuid": "c1731451-5253-4138-9d7c-4d86c06db255",
     "showTitle": false,
     "title": ""
    }
   },
   "outputs": [
    {
     "output_type": "stream",
     "name": "stdout",
     "output_type": "stream",
     "text": [
      "+------+------+------+\n|  name|period|amount|\n+------+------+------+\n|Carlos|    T1|     0|\n|Carlos|    T2|   200|\n|Carlos|    T3|  null|\n|Carlos|    T4|   500|\n|Carlos|    T5|  null|\n|Andres|    T1|   600|\n|Andres|    T2|   700|\n|Andres|    T3|   200|\n|Andres|    T4|  1000|\n|Andres|    T5|  null|\n| Lucia|    T1|   200|\n| Lucia|    T2|  5000|\n| Lucia|    T3|  null|\n| Lucia|    T4|   800|\n| Lucia|    T5|  null|\n|  Luis|    T1|    50|\n|  Luis|    T2|   100|\n|  Luis|    T3|   900|\n|  Luis|    T4|  null|\n|  Luis|    T5|   600|\n+------+------+------+\n\n"
     ]
    }
   ],
   "source": [
    "df_vendors_pivot.selectExpr(\"name\",\"stack(5,'T1',T1,'T2',T2,'T3',T3,'T4',T4,'T5',T5) as (period, amount)\").show()"
   ]
  },
  {
   "cell_type": "code",
   "execution_count": 0,
   "metadata": {
    "application/vnd.databricks.v1+cell": {
     "cellMetadata": {
      "byteLimit": 2048000,
      "rowLimit": 10000
     },
     "inputWidgets": {},
     "nuid": "1cef31f6-c387-45b6-90e7-cc901a10ec89",
     "showTitle": false,
     "title": ""
    }
   },
   "outputs": [
    {
     "output_type": "stream",
     "name": "stdout",
     "output_type": "stream",
     "text": [
      "+------+-------+------+\n|  name| period|amount|\n+------+-------+------+\n|Carlos|Tiempo1|     0|\n|Carlos|Tiempo2|   200|\n|Carlos|Tiempo4|   500|\n|Andres|Tiempo1|   600|\n|Andres|Tiempo2|   700|\n|Andres|Tiempo4|  1000|\n| Lucia|Tiempo1|   200|\n| Lucia|Tiempo2|  5000|\n| Lucia|Tiempo4|   800|\n|  Luis|Tiempo1|    50|\n|  Luis|Tiempo2|   100|\n|  Luis|Tiempo4|  null|\n+------+-------+------+\n\n"
     ]
    }
   ],
   "source": [
    "df_vendors_pivot.selectExpr(\"name\",\"stack(3,'Tiempo1',T1,'Tiempo2',T2,'Tiempo4',T4) as (period, amount)\").show()"
   ]
  }
 ],
 "metadata": {
  "application/vnd.databricks.v1+notebook": {
   "dashboards": [],
   "environmentMetadata": null,
   "language": "python",
   "notebookMetadata": {
    "pythonIndentUnit": 4
   },
   "notebookName": "Pivot",
   "widgets": {}
  }
 },
 "nbformat": 4,
 "nbformat_minor": 0
}
