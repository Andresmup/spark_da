{
 "cells": [
  {
   "cell_type": "markdown",
   "metadata": {
    "application/vnd.databricks.v1+cell": {
     "cellMetadata": {},
     "inputWidgets": {},
     "nuid": "94b2857b-5016-40f2-b4aa-1c0e62ce6664",
     "showTitle": false,
     "title": ""
    }
   },
   "source": [
    "#HANDLING NULLS"
   ]
  },
  {
   "cell_type": "code",
   "execution_count": 0,
   "metadata": {
    "application/vnd.databricks.v1+cell": {
     "cellMetadata": {
      "byteLimit": 2048000,
      "rowLimit": 10000
     },
     "inputWidgets": {},
     "nuid": "0c5d9aa8-73d6-4a98-8ca2-8d2875507e64",
     "showTitle": false,
     "title": ""
    }
   },
   "outputs": [
    {
     "output_type": "stream",
     "name": "stdout",
     "output_type": "stream",
     "text": [
      "+----+-----------+---------+-----+-----------------+\n|  id|       name| category|price|last_price_update|\n+----+-----------+---------+-----+-----------------+\n|   1|Harry poter|    Books|  120|       2024-08-01|\n|   2|  Microwave|  Kitchen| null|       2024-08-02|\n|   3|     Jacket|      180| null|             null|\n|   4|       null|Furniture|  250|       2024-08-04|\n|   5|    Xbox360|     Toys| null|       2024-08-05|\n|null|       null|     null| null|             null|\n+----+-----------+---------+-----+-----------------+\n\n"
     ]
    }
   ],
   "source": [
    "catalog_rawdata = [\n",
    "    (1, 'Harry poter', 'Books', 120, '2024-08-01'),\n",
    "    (2, 'Microwave', 'Kitchen', None, '2024-08-02'),\n",
    "    (3, 'Jacket',180, None,None,),\n",
    "    (4, None, 'Furniture', 250, '2024-08-04'),\n",
    "    (5, 'Xbox360', 'Toys', None, '2024-08-05'),\n",
    "    (None, None, None, None, None)\n",
    "]\n",
    "\n",
    "df_catalog_rawdata = spark.createDataFrame(data=catalog_rawdata,schema=['id', 'name', 'category', 'price', 'last_price_update'])\n",
    "\n",
    "df_catalog_rawdata.show()"
   ]
  },
  {
   "cell_type": "markdown",
   "metadata": {
    "application/vnd.databricks.v1+cell": {
     "cellMetadata": {},
     "inputWidgets": {},
     "nuid": "49a74e54-fb5a-476a-b0a1-a6208b7a05bb",
     "showTitle": false,
     "title": ""
    }
   },
   "source": [
    "##isNull function"
   ]
  },
  {
   "cell_type": "code",
   "execution_count": 0,
   "metadata": {
    "application/vnd.databricks.v1+cell": {
     "cellMetadata": {
      "byteLimit": 2048000,
      "rowLimit": 10000
     },
     "inputWidgets": {},
     "nuid": "02aedb3a-7e34-472f-9c1a-d9155ef78941",
     "showTitle": false,
     "title": ""
    }
   },
   "outputs": [
    {
     "output_type": "stream",
     "name": "stdout",
     "output_type": "stream",
     "text": [
      "+----+---------+--------+-----+-----------------+\n|  id|     name|category|price|last_price_update|\n+----+---------+--------+-----+-----------------+\n|   2|Microwave| Kitchen| null|       2024-08-02|\n|   3|   Jacket|     180| null|             null|\n|   5|  Xbox360|    Toys| null|       2024-08-05|\n|null|     null|    null| null|             null|\n+----+---------+--------+-----+-----------------+\n\n"
     ]
    }
   ],
   "source": [
    "from pyspark.sql.functions import col\n",
    "\n",
    "df_catalog_rawdata.filter(col('price').isNull()).show()"
   ]
  },
  {
   "cell_type": "code",
   "execution_count": 0,
   "metadata": {
    "application/vnd.databricks.v1+cell": {
     "cellMetadata": {
      "byteLimit": 2048000,
      "rowLimit": 10000
     },
     "inputWidgets": {},
     "nuid": "f09bec44-d033-485f-907a-99163c822ff4",
     "showTitle": false,
     "title": ""
    }
   },
   "outputs": [
    {
     "output_type": "stream",
     "name": "stdout",
     "output_type": "stream",
     "text": [
      "+----+---------+--------+-----+-----------------+\n|  id|     name|category|price|last_price_update|\n+----+---------+--------+-----+-----------------+\n|   2|Microwave| Kitchen| null|       2024-08-02|\n|   3|   Jacket|     180| null|             null|\n|   5|  Xbox360|    Toys| null|       2024-08-05|\n|null|     null|    null| null|             null|\n+----+---------+--------+-----+-----------------+\n\n"
     ]
    }
   ],
   "source": [
    "df_catalog_rawdata.filter(df_catalog_rawdata.price.isNull()).show()"
   ]
  },
  {
   "cell_type": "markdown",
   "metadata": {
    "application/vnd.databricks.v1+cell": {
     "cellMetadata": {},
     "inputWidgets": {},
     "nuid": "00d8c7d8-0f7d-483f-a9b6-d60c27e297b2",
     "showTitle": false,
     "title": ""
    }
   },
   "source": [
    "##isNull Sentence Style"
   ]
  },
  {
   "cell_type": "code",
   "execution_count": 0,
   "metadata": {
    "application/vnd.databricks.v1+cell": {
     "cellMetadata": {
      "byteLimit": 2048000,
      "rowLimit": 10000
     },
     "inputWidgets": {},
     "nuid": "c71765d3-7667-4725-b541-26f635566a92",
     "showTitle": false,
     "title": ""
    }
   },
   "outputs": [
    {
     "output_type": "stream",
     "name": "stdout",
     "output_type": "stream",
     "text": [
      "+----+---------+--------+-----+-----------------+\n|  id|     name|category|price|last_price_update|\n+----+---------+--------+-----+-----------------+\n|   2|Microwave| Kitchen| null|       2024-08-02|\n|   3|   Jacket|     180| null|             null|\n|   5|  Xbox360|    Toys| null|       2024-08-05|\n|null|     null|    null| null|             null|\n+----+---------+--------+-----+-----------------+\n\n"
     ]
    }
   ],
   "source": [
    "df_catalog_rawdata.filter(\"price is null\").show()"
   ]
  },
  {
   "cell_type": "markdown",
   "metadata": {
    "application/vnd.databricks.v1+cell": {
     "cellMetadata": {},
     "inputWidgets": {},
     "nuid": "0ad35dc3-720f-4274-b874-eb4f227b9746",
     "showTitle": false,
     "title": ""
    }
   },
   "source": [
    "##isNotNull function"
   ]
  },
  {
   "cell_type": "code",
   "execution_count": 0,
   "metadata": {
    "application/vnd.databricks.v1+cell": {
     "cellMetadata": {
      "byteLimit": 2048000,
      "rowLimit": 10000
     },
     "inputWidgets": {},
     "nuid": "177f0168-6377-4739-9a62-6a296ca78d23",
     "showTitle": false,
     "title": ""
    }
   },
   "outputs": [
    {
     "output_type": "stream",
     "name": "stdout",
     "output_type": "stream",
     "text": [
      "+---+-----------+---------+-----+-----------------+\n| id|       name| category|price|last_price_update|\n+---+-----------+---------+-----+-----------------+\n|  1|Harry poter|    Books|  120|       2024-08-01|\n|  2|  Microwave|  Kitchen| null|       2024-08-02|\n|  4|       null|Furniture|  250|       2024-08-04|\n|  5|    Xbox360|     Toys| null|       2024-08-05|\n+---+-----------+---------+-----+-----------------+\n\n"
     ]
    }
   ],
   "source": [
    "df_catalog_rawdata.filter(col('last_price_update').isNotNull()).show()"
   ]
  },
  {
   "cell_type": "code",
   "execution_count": 0,
   "metadata": {
    "application/vnd.databricks.v1+cell": {
     "cellMetadata": {
      "byteLimit": 2048000,
      "rowLimit": 10000
     },
     "inputWidgets": {},
     "nuid": "9a5a3b7a-689d-4c12-a793-070aa219534b",
     "showTitle": false,
     "title": ""
    }
   },
   "outputs": [
    {
     "output_type": "stream",
     "name": "stdout",
     "output_type": "stream",
     "text": [
      "+---+-----------+--------+-----+-----------------+\n| id|       name|category|price|last_price_update|\n+---+-----------+--------+-----+-----------------+\n|  1|Harry poter|   Books|  120|       2024-08-01|\n+---+-----------+--------+-----+-----------------+\n\n"
     ]
    }
   ],
   "source": [
    "df_catalog_rawdata.filter(df_catalog_rawdata.price.isNotNull() & df_catalog_rawdata.name.isNotNull()).show()"
   ]
  },
  {
   "cell_type": "markdown",
   "metadata": {
    "application/vnd.databricks.v1+cell": {
     "cellMetadata": {},
     "inputWidgets": {},
     "nuid": "37691a9f-51b8-46d9-9853-abcd8303cfdd",
     "showTitle": false,
     "title": ""
    }
   },
   "source": [
    "##isNotNull Sentence Style"
   ]
  },
  {
   "cell_type": "code",
   "execution_count": 0,
   "metadata": {
    "application/vnd.databricks.v1+cell": {
     "cellMetadata": {
      "byteLimit": 2048000,
      "rowLimit": 10000
     },
     "inputWidgets": {},
     "nuid": "8fb8c86b-95e2-44e2-97e3-7c233d1a6cad",
     "showTitle": false,
     "title": ""
    }
   },
   "outputs": [
    {
     "output_type": "stream",
     "name": "stdout",
     "output_type": "stream",
     "text": [
      "+---+-----------+--------+-----+-----------------+\n| id|       name|category|price|last_price_update|\n+---+-----------+--------+-----+-----------------+\n|  1|Harry poter|   Books|  120|       2024-08-01|\n+---+-----------+--------+-----+-----------------+\n\n"
     ]
    }
   ],
   "source": [
    "df_catalog_rawdata.filter(\"price is not null AND name is not null\").show()"
   ]
  },
  {
   "cell_type": "markdown",
   "metadata": {
    "application/vnd.databricks.v1+cell": {
     "cellMetadata": {},
     "inputWidgets": {},
     "nuid": "9d267b06-83e0-406f-9e96-564efa28e454",
     "showTitle": false,
     "title": ""
    }
   },
   "source": [
    "##Drop Nulls"
   ]
  },
  {
   "cell_type": "code",
   "execution_count": 0,
   "metadata": {
    "application/vnd.databricks.v1+cell": {
     "cellMetadata": {
      "byteLimit": 2048000,
      "rowLimit": 10000
     },
     "inputWidgets": {},
     "nuid": "e9228c0b-6b63-4e04-88d7-4edf2ea99756",
     "showTitle": false,
     "title": ""
    }
   },
   "outputs": [
    {
     "output_type": "stream",
     "name": "stdout",
     "output_type": "stream",
     "text": [
      "+----+-----------+---------+-----+-----------------+\n|  id|       name| category|price|last_price_update|\n+----+-----------+---------+-----+-----------------+\n|   1|Harry poter|    Books|  120|       2024-08-01|\n|   2|  Microwave|  Kitchen| null|       2024-08-02|\n|   3|     Jacket|      180| null|             null|\n|   4|       null|Furniture|  250|       2024-08-04|\n|   5|    Xbox360|     Toys| null|       2024-08-05|\n|null|       null|     null| null|             null|\n+----+-----------+---------+-----+-----------------+\n\n"
     ]
    }
   ],
   "source": [
    "df_catalog_rawdata.show()"
   ]
  },
  {
   "cell_type": "code",
   "execution_count": 0,
   "metadata": {
    "application/vnd.databricks.v1+cell": {
     "cellMetadata": {
      "byteLimit": 2048000,
      "rowLimit": 10000
     },
     "inputWidgets": {},
     "nuid": "7d1c3b95-3e05-47ee-bab7-2b4231a85345",
     "showTitle": false,
     "title": ""
    }
   },
   "outputs": [
    {
     "output_type": "stream",
     "name": "stdout",
     "output_type": "stream",
     "text": [
      "+---+-----------+--------+-----+-----------------+\n| id|       name|category|price|last_price_update|\n+---+-----------+--------+-----+-----------------+\n|  1|Harry poter|   Books|  120|       2024-08-01|\n+---+-----------+--------+-----+-----------------+\n\n"
     ]
    }
   ],
   "source": [
    "df_catalog_rawdata.na.drop().show() #Default value is \"any\""
   ]
  },
  {
   "cell_type": "code",
   "execution_count": 0,
   "metadata": {
    "application/vnd.databricks.v1+cell": {
     "cellMetadata": {
      "byteLimit": 2048000,
      "rowLimit": 10000
     },
     "inputWidgets": {},
     "nuid": "f5d668ff-4670-4d25-b8e0-8a1c552578ac",
     "showTitle": false,
     "title": ""
    }
   },
   "outputs": [
    {
     "output_type": "stream",
     "name": "stdout",
     "output_type": "stream",
     "text": [
      "+---+-----------+---------+-----+-----------------+\n| id|       name| category|price|last_price_update|\n+---+-----------+---------+-----+-----------------+\n|  1|Harry poter|    Books|  120|       2024-08-01|\n|  2|  Microwave|  Kitchen| null|       2024-08-02|\n|  3|     Jacket|      180| null|             null|\n|  4|       null|Furniture|  250|       2024-08-04|\n|  5|    Xbox360|     Toys| null|       2024-08-05|\n+---+-----------+---------+-----+-----------------+\n\n"
     ]
    }
   ],
   "source": [
    "df_catalog_rawdata.na.drop(\"all\").show()"
   ]
  },
  {
   "cell_type": "code",
   "execution_count": 0,
   "metadata": {
    "application/vnd.databricks.v1+cell": {
     "cellMetadata": {
      "byteLimit": 2048000,
      "rowLimit": 10000
     },
     "inputWidgets": {},
     "nuid": "3896093f-422a-4c83-bcaa-a37a9ee7b5a5",
     "showTitle": false,
     "title": ""
    }
   },
   "outputs": [
    {
     "output_type": "stream",
     "name": "stdout",
     "output_type": "stream",
     "text": [
      "+---+-----------+--------+-----+-----------------+\n| id|       name|category|price|last_price_update|\n+---+-----------+--------+-----+-----------------+\n|  1|Harry poter|   Books|  120|       2024-08-01|\n|  2|  Microwave| Kitchen| null|       2024-08-02|\n|  5|    Xbox360|    Toys| null|       2024-08-05|\n+---+-----------+--------+-----+-----------------+\n\n"
     ]
    }
   ],
   "source": [
    "df_catalog_rawdata.na.drop(\"any\", subset=('name','last_price_update')).show()"
   ]
  },
  {
   "cell_type": "markdown",
   "metadata": {
    "application/vnd.databricks.v1+cell": {
     "cellMetadata": {},
     "inputWidgets": {},
     "nuid": "8d210d6f-f76f-4016-9ae9-8d5753484f37",
     "showTitle": false,
     "title": ""
    }
   },
   "source": [
    "## Fill Nulls"
   ]
  },
  {
   "cell_type": "code",
   "execution_count": 0,
   "metadata": {
    "application/vnd.databricks.v1+cell": {
     "cellMetadata": {
      "byteLimit": 2048000,
      "rowLimit": 10000
     },
     "inputWidgets": {},
     "nuid": "fecef4c8-65a0-477b-81cb-90b82ca6b7de",
     "showTitle": false,
     "title": ""
    }
   },
   "outputs": [
    {
     "output_type": "stream",
     "name": "stdout",
     "output_type": "stream",
     "text": [
      "+----+-----------+---------+-----+-----------------+\n|  id|       name| category|price|last_price_update|\n+----+-----------+---------+-----+-----------------+\n|   1|Harry poter|    Books|  120|       2024-08-01|\n|   2|  Microwave|  Kitchen| null|       2024-08-02|\n|   3|     Jacket|      180| null|             null|\n|   4|       null|Furniture|  250|       2024-08-04|\n|   5|    Xbox360|     Toys| null|       2024-08-05|\n|null|       null|     null| null|             null|\n+----+-----------+---------+-----+-----------------+\n\n"
     ]
    }
   ],
   "source": [
    "df_catalog_rawdata.show()"
   ]
  },
  {
   "cell_type": "code",
   "execution_count": 0,
   "metadata": {
    "application/vnd.databricks.v1+cell": {
     "cellMetadata": {
      "byteLimit": 2048000,
      "rowLimit": 10000
     },
     "inputWidgets": {},
     "nuid": "70820e76-30b1-4eb0-9a8a-cee92c47097f",
     "showTitle": false,
     "title": ""
    }
   },
   "outputs": [
    {
     "output_type": "stream",
     "name": "stdout",
     "output_type": "stream",
     "text": [
      "+----+-----------+---------+-----+-----------------+\n|  id|       name| category|price|last_price_update|\n+----+-----------+---------+-----+-----------------+\n|   1|Harry poter|    Books|  120|       2024-08-01|\n|   2|  Microwave|  Kitchen|   99|       2024-08-02|\n|   3|     Jacket|      180|   99|             null|\n|   4|       null|Furniture|  250|       2024-08-04|\n|   5|    Xbox360|     Toys|   99|       2024-08-05|\n|null|       null|     null|   99|             null|\n+----+-----------+---------+-----+-----------------+\n\n"
     ]
    }
   ],
   "source": [
    "df_catalog_rawdata.na.fill(value=99, subset=('price')).show()"
   ]
  },
  {
   "cell_type": "code",
   "execution_count": 0,
   "metadata": {
    "application/vnd.databricks.v1+cell": {
     "cellMetadata": {
      "byteLimit": 2048000,
      "rowLimit": 10000
     },
     "inputWidgets": {},
     "nuid": "923d52fe-787e-482a-a591-37b86cc126ef",
     "showTitle": false,
     "title": ""
    }
   },
   "outputs": [
    {
     "output_type": "stream",
     "name": "stdout",
     "output_type": "stream",
     "text": [
      "+----+-----------+---------+-----+-----------------+\n|  id|       name| category|price|last_price_update|\n+----+-----------+---------+-----+-----------------+\n|   1|Harry poter|    Books|  120|       2024-08-01|\n|   2|  Microwave|  Kitchen| null|       2024-08-02|\n|   3|     Jacket|      180| null|           FILLED|\n|   4|     FILLED|Furniture|  250|       2024-08-04|\n|   5|    Xbox360|     Toys| null|       2024-08-05|\n|null|     FILLED|   FILLED| null|           FILLED|\n+----+-----------+---------+-----+-----------------+\n\n"
     ]
    }
   ],
   "source": [
    "df_catalog_rawdata.na.fill(value=\"FILLED\").show()"
   ]
  },
  {
   "cell_type": "code",
   "execution_count": 0,
   "metadata": {
    "application/vnd.databricks.v1+cell": {
     "cellMetadata": {
      "byteLimit": 2048000,
      "rowLimit": 10000
     },
     "inputWidgets": {},
     "nuid": "61a8a533-d89d-4759-b52c-2dd1888aff11",
     "showTitle": false,
     "title": ""
    }
   },
   "outputs": [
    {
     "output_type": "stream",
     "name": "stdout",
     "output_type": "stream",
     "text": [
      "+----+-----------+---------+-----+-----------------+\n|  id|       name| category|price|last_price_update|\n+----+-----------+---------+-----+-----------------+\n|   1|Harry poter|    Books|  120|       2024-08-01|\n|   2|  Microwave|  Kitchen|   99|       2024-08-02|\n|   3|     Jacket|      180|   99|             null|\n|   4|    NO_NAME|Furniture|  250|       2024-08-04|\n|   5|    Xbox360|     Toys|   99|       2024-08-05|\n|null|    NO_NAME|     null|   99|             null|\n+----+-----------+---------+-----+-----------------+\n\n"
     ]
    }
   ],
   "source": [
    "df_catalog_filled = df_catalog_rawdata.na.fill( { 'name':'NO_NAME', 'price':99})\n",
    "\n",
    "df_catalog_filled.show()"
   ]
  },
  {
   "cell_type": "code",
   "execution_count": 0,
   "metadata": {
    "application/vnd.databricks.v1+cell": {
     "cellMetadata": {
      "byteLimit": 2048000,
      "rowLimit": 10000
     },
     "inputWidgets": {},
     "nuid": "599cdcfc-2874-4bc8-9ea3-4b67e7f30e3d",
     "showTitle": false,
     "title": ""
    }
   },
   "outputs": [
    {
     "output_type": "stream",
     "name": "stdout",
     "output_type": "stream",
     "text": [
      "+----+-----------+---------+-----+-----------------+\n|  id|       name| category|price|last_price_update|\n+----+-----------+---------+-----+-----------------+\n|   1|Harry poter|    Books|  120|       2024-08-01|\n|   2|  Microwave|  Kitchen|   99|       2024-08-02|\n|   3|     Jacket|      180|   99|       2024-08-24|\n|   4|    NO_NAME|Furniture|  250|       2024-08-04|\n|   5|    Xbox360|     Toys|   99|       2024-08-05|\n|null|    NO_NAME|     null|   99|       2024-08-24|\n+----+-----------+---------+-----+-----------------+\n\n"
     ]
    }
   ],
   "source": [
    "df_catalog_filled = df_catalog_filled.withColumn(\n",
    "    'last_price_update',\n",
    "    when(col('last_price_update').isNull(), current_date()).otherwise(col('last_price_update'))\n",
    ")\n",
    "\n",
    "df_catalog_filled.show()"
   ]
  }
 ],
 "metadata": {
  "application/vnd.databricks.v1+notebook": {
   "dashboards": [],
   "environmentMetadata": null,
   "language": "python",
   "notebookMetadata": {
    "pythonIndentUnit": 4
   },
   "notebookName": "HandlingNulls",
   "widgets": {}
  }
 },
 "nbformat": 4,
 "nbformat_minor": 0
}
