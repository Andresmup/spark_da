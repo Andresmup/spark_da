{
 "cells": [
  {
   "cell_type": "markdown",
   "metadata": {
    "application/vnd.databricks.v1+cell": {
     "cellMetadata": {},
     "inputWidgets": {},
     "nuid": "05da795c-faaf-4952-8697-acfd77bed86b",
     "showTitle": false,
     "title": ""
    }
   },
   "source": [
    "# READ CSV FILE"
   ]
  },
  {
   "cell_type": "markdown",
   "metadata": {
    "application/vnd.databricks.v1+cell": {
     "cellMetadata": {},
     "inputWidgets": {},
     "nuid": "d6503122-bb35-4c5e-bf77-2eea50ff0963",
     "showTitle": false,
     "title": ""
    }
   },
   "source": [
    "## List files"
   ]
  },
  {
   "cell_type": "code",
   "execution_count": 0,
   "metadata": {
    "application/vnd.databricks.v1+cell": {
     "cellMetadata": {
      "byteLimit": 2048000,
      "rowLimit": 10000
     },
     "inputWidgets": {},
     "nuid": "1181f3db-99fc-4092-b0fb-513b658207d4",
     "showTitle": false,
     "title": ""
    }
   },
   "outputs": [
    {
     "output_type": "stream",
     "name": "stdout",
     "output_type": "stream",
     "text": [
      "Out[1]: [FileInfo(path='dbfs:/FileStore/tables/fantasy/characters.csv', name='characters.csv', size=1123, modificationTime=1723331905000),\n FileInfo(path='dbfs:/FileStore/tables/fantasy/inventory.csv', name='inventory.csv', size=1122, modificationTime=1723331932000),\n FileInfo(path='dbfs:/FileStore/tables/fantasy/items.csv', name='items.csv', size=1307, modificationTime=1723331936000)]"
     ]
    }
   ],
   "source": [
    "dbutils.fs.ls(\"dbfs:/FileStore/tables/fantasy/\")"
   ]
  },
  {
   "cell_type": "markdown",
   "metadata": {
    "application/vnd.databricks.v1+cell": {
     "cellMetadata": {},
     "inputWidgets": {},
     "nuid": "3a610c8c-98af-44f0-8ff9-3d388a16e8e0",
     "showTitle": false,
     "title": ""
    }
   },
   "source": [
    "## Read CSV file"
   ]
  },
  {
   "cell_type": "code",
   "execution_count": 0,
   "metadata": {
    "application/vnd.databricks.v1+cell": {
     "cellMetadata": {
      "byteLimit": 2048000,
      "rowLimit": 10000
     },
     "inputWidgets": {},
     "nuid": "c7d0b31d-76d6-4ac6-a78d-b1a70fdec654",
     "showTitle": false,
     "title": ""
    }
   },
   "outputs": [],
   "source": [
    "df_characters = spark.read.format(\"csv\").option(\"inferschema\", True).option(\"header\",True).option(\"sep\",\",\").load('dbfs:/FileStore/tables/fantasy/characters.csv')"
   ]
  },
  {
   "cell_type": "code",
   "execution_count": 0,
   "metadata": {
    "application/vnd.databricks.v1+cell": {
     "cellMetadata": {
      "byteLimit": 2048000,
      "rowLimit": 10000
     },
     "inputWidgets": {},
     "nuid": "c96e8cdb-3071-44ba-bd48-b95d51943673",
     "showTitle": false,
     "title": ""
    }
   },
   "outputs": [
    {
     "output_type": "stream",
     "name": "stdout",
     "output_type": "stream",
     "text": [
      "+---+---------+----------+-------+-----+----------+------+--------+-------------------+---------+\n| id|     name|     guild|  class|level|experience|health|is_alive|        last_active|mentor_id|\n+---+---------+----------+-------+-----+----------+------+--------+-------------------+---------+\n|  1|  Aragorn|   Rangers|Warrior|   25|      9000| 120.5|    true|2023-09-20 08:00:00|     null|\n|  2|  Legolas|  Mirkwood| Archer|   22|      7500|100.75|    true|2023-09-21 09:00:00|     null|\n|  3|    Gimli|    Erebor|Warrior|   20|      6000|130.25|    true|2023-09-22 07:00:00|     null|\n|  4|    Frodo| Shirefolk| Hobbit|   12|      2500|  50.5|   false|2023-09-23 10:00:00|        1|\n|  5|      Sam| Shirefolk| Hobbit|   13|      2750|  52.5|    true|2023-09-23 10:05:00|        1|\n|  6|  Gandalf|    Istari|   Mage|   30|     10000|  90.0|    true|2023-09-20 11:00:00|     null|\n|  7|  Boromir|    Gondor|Warrior|   18|      5500| 115.5|   false|2023-09-21 12:00:00|     null|\n|  8|    Merry| Shirefolk| Hobbit|   11|      2200|  48.5|    true|2023-09-22 10:00:00|        4|\n|  9|   Pippin| Shirefolk| Hobbit|   11|      2100|  47.5|    true|2023-09-22 10:01:00|        4|\n| 10|   Sauron|Dark Lords|   Mage|   40|     15000|  85.0|   false|2023-09-23 01:00:00|     null|\n| 11|  Saruman|    Istari|   Mage|   28|      8500|  88.5|   false|2023-09-20 03:00:00|        6|\n| 12|   Elrond| Rivendell|   Mage|   27|      8200|  87.5|    true|2023-09-21 04:00:00|        6|\n| 13|Thranduil|  Mirkwood| Archer|   26|      7900|  97.0|    true|2023-09-22 02:00:00|        2|\n| 14|    Eowyn|     Rohan|Warrior|   17|      5200| 112.5|    true|2023-09-23 05:00:00|        7|\n| 15|  Faramir|    Gondor| Archer|   19|      5700| 118.5|    true|2023-09-20 06:00:00|        7|\n+---+---------+----------+-------+-----+----------+------+--------+-------------------+---------+\n\n"
     ]
    }
   ],
   "source": [
    "df_characters.show()"
   ]
  },
  {
   "cell_type": "code",
   "execution_count": 0,
   "metadata": {
    "application/vnd.databricks.v1+cell": {
     "cellMetadata": {
      "byteLimit": 2048000,
      "rowLimit": 10000
     },
     "inputWidgets": {},
     "nuid": "9d6df31a-1f53-4b46-b3bd-ba53f94e9e8a",
     "showTitle": false,
     "title": ""
    }
   },
   "outputs": [
    {
     "output_type": "stream",
     "name": "stdout",
     "output_type": "stream",
     "text": [
      "root\n |-- id: integer (nullable = true)\n |-- name: string (nullable = true)\n |-- guild: string (nullable = true)\n |-- class: string (nullable = true)\n |-- level: integer (nullable = true)\n |-- experience: integer (nullable = true)\n |-- health: double (nullable = true)\n |-- is_alive: boolean (nullable = true)\n |-- last_active: timestamp (nullable = true)\n |-- mentor_id: integer (nullable = true)\n\n"
     ]
    }
   ],
   "source": [
    "df_characters.printSchema()"
   ]
  },
  {
   "cell_type": "code",
   "execution_count": 0,
   "metadata": {
    "application/vnd.databricks.v1+cell": {
     "cellMetadata": {
      "byteLimit": 2048000,
      "rowLimit": 10000
     },
     "inputWidgets": {},
     "nuid": "67911a8a-18ca-4e61-b362-8436df6a8fd6",
     "showTitle": false,
     "title": ""
    }
   },
   "outputs": [],
   "source": [
    "df_inventory = spark.read.format(\"csv\").options(inferschema=\"True\",header=\"True\",sep=\",\").load('dbfs:/FileStore/tables/fantasy/inventory.csv')"
   ]
  },
  {
   "cell_type": "code",
   "execution_count": 0,
   "metadata": {
    "application/vnd.databricks.v1+cell": {
     "cellMetadata": {
      "byteLimit": 2048000,
      "rowLimit": 10000
     },
     "inputWidgets": {},
     "nuid": "553b9b50-523b-4b88-a7bc-4c3602c2b2b5",
     "showTitle": false,
     "title": ""
    }
   },
   "outputs": [
    {
     "output_type": "stream",
     "name": "stdout",
     "output_type": "stream",
     "text": [
      "root\n |-- id: integer (nullable = true)\n |-- character_id: integer (nullable = true)\n |-- item_id: integer (nullable = true)\n |-- quantity: integer (nullable = true)\n |-- is_equipped: boolean (nullable = true)\n |-- purchase_date: timestamp (nullable = true)\n |-- expiry_date: timestamp (nullable = true)\n |-- value: integer (nullable = true)\n\n"
     ]
    }
   ],
   "source": [
    "df_inventory.printSchema()"
   ]
  },
  {
   "cell_type": "markdown",
   "metadata": {
    "application/vnd.databricks.v1+cell": {
     "cellMetadata": {},
     "inputWidgets": {},
     "nuid": "34c94f39-4511-4264-a64c-9c65b4565175",
     "showTitle": false,
     "title": ""
    }
   },
   "source": [
    "## Read CSV file with schema defined"
   ]
  },
  {
   "cell_type": "code",
   "execution_count": 0,
   "metadata": {
    "application/vnd.databricks.v1+cell": {
     "cellMetadata": {
      "byteLimit": 2048000,
      "rowLimit": 10000
     },
     "inputWidgets": {},
     "nuid": "15f5f81e-54ba-4964-a474-a93579d2de96",
     "showTitle": false,
     "title": ""
    }
   },
   "outputs": [],
   "source": [
    "from pyspark.sql.types import StructType, StructField, IntegerType, StringType, DoubleType, TimestampType, BooleanType"
   ]
  },
  {
   "cell_type": "code",
   "execution_count": 0,
   "metadata": {
    "application/vnd.databricks.v1+cell": {
     "cellMetadata": {
      "byteLimit": 2048000,
      "rowLimit": 10000
     },
     "inputWidgets": {},
     "nuid": "2ed7cf68-f9ba-4285-bfaa-1b4d211934e2",
     "showTitle": false,
     "title": ""
    }
   },
   "outputs": [],
   "source": [
    "schema_items = StructType([\n",
    "    StructField(\"id\",IntegerType(),True),\n",
    "    StructField(\"name\",StringType(),True),\n",
    "    StructField(\"item_type\",StringType(),True),\n",
    "    StructField(\"power\",IntegerType(),True),\n",
    "    StructField(\"weight\",DoubleType(),True),\n",
    "    StructField(\"rarity\",StringType(),True),\n",
    "    StructField(\"date_added\",TimestampType(),True),\n",
    "])"
   ]
  },
  {
   "cell_type": "code",
   "execution_count": 0,
   "metadata": {
    "application/vnd.databricks.v1+cell": {
     "cellMetadata": {
      "byteLimit": 2048000,
      "rowLimit": 10000
     },
     "inputWidgets": {},
     "nuid": "abf3f133-2c0f-46e7-9292-1b9608f1d9ad",
     "showTitle": false,
     "title": ""
    }
   },
   "outputs": [],
   "source": [
    "df_items = spark.read.format(\"csv\").schema(schema_items).option(\"header\",True).option(\"sep\",\",\").load('dbfs:/FileStore/tables/fantasy/items.csv')"
   ]
  },
  {
   "cell_type": "code",
   "execution_count": 0,
   "metadata": {
    "application/vnd.databricks.v1+cell": {
     "cellMetadata": {
      "byteLimit": 2048000,
      "rowLimit": 10000
     },
     "inputWidgets": {},
     "nuid": "45b65704-4d78-4583-9504-6f38e4da3721",
     "showTitle": false,
     "title": ""
    }
   },
   "outputs": [
    {
     "output_type": "stream",
     "name": "stdout",
     "output_type": "stream",
     "text": [
      "root\n |-- id: integer (nullable = true)\n |-- name: string (nullable = true)\n |-- item_type: string (nullable = true)\n |-- power: integer (nullable = true)\n |-- weight: double (nullable = true)\n |-- rarity: string (nullable = true)\n |-- date_added: timestamp (nullable = true)\n\n"
     ]
    }
   ],
   "source": [
    "df_items.printSchema()"
   ]
  }
 ],
 "metadata": {
  "application/vnd.databricks.v1+notebook": {
   "dashboards": [],
   "environmentMetadata": null,
   "language": "python",
   "notebookMetadata": {
    "pythonIndentUnit": 4
   },
   "notebookName": "ReadCSVFile",
   "widgets": {}
  }
 },
 "nbformat": 4,
 "nbformat_minor": 0
}
