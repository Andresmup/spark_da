{
 "cells": [
  {
   "cell_type": "markdown",
   "id": "b0f81d50-4010-46ca-9151-5e8b30e7d643",
   "metadata": {},
   "source": [
    "# PARTITION BY"
   ]
  },
  {
   "cell_type": "code",
   "execution_count": 1,
   "id": "3872a698-db6e-4f98-8a29-405899a38295",
   "metadata": {},
   "outputs": [],
   "source": [
    "import findspark\n",
    "findspark.init()"
   ]
  },
  {
   "cell_type": "code",
   "execution_count": 2,
   "id": "ffd149f3-7fd1-4cf6-8e20-b101ee297da2",
   "metadata": {},
   "outputs": [
    {
     "name": "stderr",
     "output_type": "stream",
     "text": [
      "Setting default log level to \"WARN\".\n",
      "To adjust logging level use sc.setLogLevel(newLevel). For SparkR, use setLogLevel(newLevel).\n",
      "24/08/20 18:32:22 WARN NativeCodeLoader: Unable to load native-hadoop library for your platform... using builtin-java classes where applicable\n"
     ]
    }
   ],
   "source": [
    "from pyspark.sql import SparkSession\n",
    "spark = SparkSession.builder.getOrCreate()"
   ]
  },
  {
   "cell_type": "code",
   "execution_count": 3,
   "id": "e822b461-3f24-45e8-a185-3fa70c3623b6",
   "metadata": {},
   "outputs": [],
   "source": [
    "df_bank_customer = spark.read.format(\"csv\").option(\"inferschema\",True).option(\"header\",True).option(\"sep\",\",\").load(\"../datasets/bank_customers.csv\")"
   ]
  },
  {
   "cell_type": "code",
   "execution_count": 4,
   "id": "3c631108-5a02-40ca-96ca-988b3c1515a2",
   "metadata": {},
   "outputs": [
    {
     "name": "stdout",
     "output_type": "stream",
     "text": [
      "+---------+----------+---------+-----------+---------+------+---+------+---------+-------------+---------+--------------+---------------+------+\n",
      "|RowNumber|CustomerId|  Surname|CreditScore|Geography|Gender|Age|Tenure|  Balance|NumOfProducts|HasCrCard|IsActiveMember|EstimatedSalary|Exited|\n",
      "+---------+----------+---------+-----------+---------+------+---+------+---------+-------------+---------+--------------+---------------+------+\n",
      "|        1|  15634602| Hargrave|        619|   France|Female| 42|     2|      0.0|            1|        1|             1|      101348.88|     1|\n",
      "|        2|  15647311|     Hill|        608|    Spain|Female| 41|     1| 83807.86|            1|        0|             1|      112542.58|     0|\n",
      "|        3|  15619304|     Onio|        502|   France|Female| 42|     8| 159660.8|            3|        1|             0|      113931.57|     1|\n",
      "|        4|  15701354|     Boni|        699|   France|Female| 39|     1|      0.0|            2|        0|             0|       93826.63|     0|\n",
      "|        5|  15737888| Mitchell|        850|    Spain|Female| 43|     2|125510.82|            1|        1|             1|        79084.1|     0|\n",
      "|        6|  15574012|      Chu|        645|    Spain|  Male| 44|     8|113755.78|            2|        1|             0|      149756.71|     1|\n",
      "|        7|  15592531| Bartlett|        822|   France|  Male| 50|     7|      0.0|            2|        1|             1|        10062.8|     0|\n",
      "|        8|  15656148|   Obinna|        376|  Germany|Female| 29|     4|115046.74|            4|        1|             0|      119346.88|     1|\n",
      "|        9|  15792365|       He|        501|   France|  Male| 44|     4|142051.07|            2|        0|             1|        74940.5|     0|\n",
      "|       10|  15592389|       H?|        684|   France|  Male| 27|     2|134603.88|            1|        1|             1|       71725.73|     0|\n",
      "|       11|  15767821|   Bearce|        528|   France|  Male| 31|     6|102016.72|            2|        0|             0|       80181.12|     0|\n",
      "|       12|  15737173|  Andrews|        497|    Spain|  Male| 24|     3|      0.0|            2|        1|             0|       76390.01|     0|\n",
      "|       13|  15632264|      Kay|        476|   France|Female| 34|    10|      0.0|            2|        1|             0|       26260.98|     0|\n",
      "|       14|  15691483|     Chin|        549|   France|Female| 25|     5|      0.0|            2|        0|             0|      190857.79|     0|\n",
      "|       15|  15600882|    Scott|        635|    Spain|Female| 35|     7|      0.0|            2|        1|             1|       65951.65|     0|\n",
      "|       16|  15643966|  Goforth|        616|  Germany|  Male| 45|     3|143129.41|            2|        0|             1|       64327.26|     0|\n",
      "|       17|  15737452|    Romeo|        653|  Germany|  Male| 58|     1|132602.88|            1|        1|             0|        5097.67|     1|\n",
      "|       18|  15788218|Henderson|        549|    Spain|Female| 24|     9|      0.0|            2|        1|             1|       14406.41|     0|\n",
      "|       19|  15661507|  Muldrow|        587|    Spain|  Male| 45|     6|      0.0|            1|        0|             0|      158684.81|     0|\n",
      "|       20|  15568982|      Hao|        726|   France|Female| 24|     6|      0.0|            2|        1|             1|       54724.03|     0|\n",
      "+---------+----------+---------+-----------+---------+------+---+------+---------+-------------+---------+--------------+---------------+------+\n",
      "only showing top 20 rows\n",
      "\n"
     ]
    }
   ],
   "source": [
    "df_bank_customer.show()"
   ]
  },
  {
   "cell_type": "code",
   "execution_count": 5,
   "id": "e7c5567d-3199-47c2-9cab-32b0b2e2e5ac",
   "metadata": {},
   "outputs": [
    {
     "name": "stdout",
     "output_type": "stream",
     "text": [
      "root\n",
      " |-- RowNumber: integer (nullable = true)\n",
      " |-- CustomerId: integer (nullable = true)\n",
      " |-- Surname: string (nullable = true)\n",
      " |-- CreditScore: integer (nullable = true)\n",
      " |-- Geography: string (nullable = true)\n",
      " |-- Gender: string (nullable = true)\n",
      " |-- Age: integer (nullable = true)\n",
      " |-- Tenure: integer (nullable = true)\n",
      " |-- Balance: double (nullable = true)\n",
      " |-- NumOfProducts: integer (nullable = true)\n",
      " |-- HasCrCard: integer (nullable = true)\n",
      " |-- IsActiveMember: integer (nullable = true)\n",
      " |-- EstimatedSalary: double (nullable = true)\n",
      " |-- Exited: integer (nullable = true)\n",
      "\n"
     ]
    }
   ],
   "source": [
    "df_bank_customer.printSchema()"
   ]
  },
  {
   "cell_type": "markdown",
   "id": "b71b226f-8cd1-4de1-ba9d-5ea006c7caaa",
   "metadata": {},
   "source": [
    "## PartitionBy One Column"
   ]
  },
  {
   "cell_type": "code",
   "execution_count": 6,
   "id": "c6c8205e-1026-47e4-a57f-d0489fc58603",
   "metadata": {},
   "outputs": [
    {
     "name": "stdout",
     "output_type": "stream",
     "text": [
      "+---------+-----+\n",
      "|Geography|count|\n",
      "+---------+-----+\n",
      "|Germany  |2509 |\n",
      "|France   |5014 |\n",
      "|Spain    |2477 |\n",
      "+---------+-----+\n",
      "\n"
     ]
    }
   ],
   "source": [
    "df_bank_customer.groupBy(\"Geography\").count().show(truncate=False)"
   ]
  },
  {
   "cell_type": "code",
   "execution_count": 7,
   "id": "654d75d9-7140-493c-ae7c-56dbc26ae701",
   "metadata": {},
   "outputs": [
    {
     "name": "stderr",
     "output_type": "stream",
     "text": [
      "                                                                                \r"
     ]
    }
   ],
   "source": [
    "df_bank_customer.write.option(\"header\",True).partitionBy(\"Geography\").mode(\"overwrite\").csv(\"../output_partitions/bank/\")"
   ]
  },
  {
   "cell_type": "code",
   "execution_count": 8,
   "id": "2ec94adc-73db-4583-ac08-00d6f72647b1",
   "metadata": {},
   "outputs": [
    {
     "name": "stdout",
     "output_type": "stream",
     "text": [
      "\u001b[0m\u001b[01;34m'Geography=France'\u001b[0m/  \u001b[01;34m'Geography=Germany'\u001b[0m/  \u001b[01;34m'Geography=Spain'\u001b[0m/   _SUCCESS\n"
     ]
    }
   ],
   "source": [
    "%ls ../output_partitions/bank/"
   ]
  },
  {
   "cell_type": "markdown",
   "id": "5056bf87-e806-4735-a145-958e46493846",
   "metadata": {},
   "source": [
    "## PartitionBy Multiple Columns"
   ]
  },
  {
   "cell_type": "code",
   "execution_count": 10,
   "id": "624ee2c5-719a-4fd4-9b29-3e93f12f245f",
   "metadata": {},
   "outputs": [
    {
     "name": "stdout",
     "output_type": "stream",
     "text": [
      "+---------+---------+-----+\n",
      "|Geography|HasCrCard|count|\n",
      "+---------+---------+-----+\n",
      "|Germany  |0        |718  |\n",
      "|Spain    |0        |756  |\n",
      "|France   |0        |1471 |\n",
      "|Germany  |1        |1791 |\n",
      "|France   |1        |3543 |\n",
      "|Spain    |1        |1721 |\n",
      "+---------+---------+-----+\n",
      "\n"
     ]
    }
   ],
   "source": [
    "df_bank_customer.groupBy(\"Geography\",\"HasCrCard\").count().show(truncate=False)"
   ]
  },
  {
   "cell_type": "code",
   "execution_count": 11,
   "id": "638d2243-2ce0-41e3-93f9-4537f56e1aba",
   "metadata": {},
   "outputs": [
    {
     "name": "stderr",
     "output_type": "stream",
     "text": [
      "                                                                                \r"
     ]
    }
   ],
   "source": [
    "df_bank_customer.write.option(\"header\",True).partitionBy(\"Geography\",\"HasCrCard\").mode(\"overwrite\").csv(\"../output_partitions/bank_v2/\")"
   ]
  },
  {
   "cell_type": "code",
   "execution_count": 15,
   "id": "2d3d3329-13ea-4054-b704-dabb003a2e5d",
   "metadata": {},
   "outputs": [
    {
     "name": "stdout",
     "output_type": "stream",
     "text": [
      "part-00000-3ed94a69-1ce7-4c92-b81c-c041811d090d.c000.csv\n"
     ]
    }
   ],
   "source": [
    "%ls ../output_partitions/bank_v2/Geography=Germany/HasCrCard=1/"
   ]
  },
  {
   "cell_type": "code",
   "execution_count": 16,
   "id": "c994086d-af8a-4740-858f-7108903c4c50",
   "metadata": {},
   "outputs": [
    {
     "name": "stderr",
     "output_type": "stream",
     "text": [
      "                                                                                \r"
     ]
    }
   ],
   "source": [
    "df_bank_customer.write.option(\"header\",True).partitionBy(\"HasCrCard\",\"Geography\").mode(\"overwrite\").csv(\"../output_partitions/bank_v3/\")"
   ]
  },
  {
   "cell_type": "code",
   "execution_count": 18,
   "id": "844f82cb-a57c-42de-816c-812f47699352",
   "metadata": {},
   "outputs": [
    {
     "name": "stdout",
     "output_type": "stream",
     "text": [
      "part-00000-b05d5a5e-3942-4177-ac65-9af676e69a72.c000.csv\n"
     ]
    }
   ],
   "source": [
    "%ls ../output_partitions/bank_v3/HasCrCard=0/Geography=Germany"
   ]
  },
  {
   "cell_type": "markdown",
   "id": "b0f332ad-35da-4d23-9e35-868955019ffd",
   "metadata": {},
   "source": [
    "## PartitionBy limiting maximum number of records"
   ]
  },
  {
   "cell_type": "code",
   "execution_count": 19,
   "id": "26a21413-191f-4062-9f7e-7338e5b09e36",
   "metadata": {},
   "outputs": [
    {
     "name": "stdout",
     "output_type": "stream",
     "text": [
      "+---------+-----+\n",
      "|HasCrCard|count|\n",
      "+---------+-----+\n",
      "|1        |7055 |\n",
      "|0        |2945 |\n",
      "+---------+-----+\n",
      "\n"
     ]
    }
   ],
   "source": [
    "df_bank_customer.groupBy(\"HasCrCard\").count().show(truncate=False)"
   ]
  },
  {
   "cell_type": "code",
   "execution_count": 26,
   "id": "ca016933-6908-4c61-b601-e1978ba8d724",
   "metadata": {},
   "outputs": [],
   "source": [
    "df_bank_customer.write.option(\"header\",True).option(\"maxRecordsPerFile\",4000).partitionBy(\"HasCrCard\").mode(\"overwrite\").csv(\"../output_partitions/bank_v4/\")"
   ]
  },
  {
   "cell_type": "code",
   "execution_count": 27,
   "id": "e88f5ff4-d1cb-4659-8271-1f308374accd",
   "metadata": {},
   "outputs": [
    {
     "name": "stdout",
     "output_type": "stream",
     "text": [
      "part-00000-c0711a68-5d59-4b2a-8b7d-7251acfe7df7.c000.csv\n",
      "part-00000-c0711a68-5d59-4b2a-8b7d-7251acfe7df7.c001.csv\n"
     ]
    }
   ],
   "source": [
    "%ls ../output_partitions/bank_v4/HasCrCard=1/"
   ]
  },
  {
   "cell_type": "code",
   "execution_count": null,
   "id": "cf7ab121-9efc-4118-9217-324527381807",
   "metadata": {},
   "outputs": [],
   "source": []
  }
 ],
 "metadata": {
  "kernelspec": {
   "display_name": "Python 3 (ipykernel)",
   "language": "python",
   "name": "python3"
  },
  "language_info": {
   "codemirror_mode": {
    "name": "ipython",
    "version": 3
   },
   "file_extension": ".py",
   "mimetype": "text/x-python",
   "name": "python",
   "nbconvert_exporter": "python",
   "pygments_lexer": "ipython3",
   "version": "3.11.7"
  }
 },
 "nbformat": 4,
 "nbformat_minor": 5
}
