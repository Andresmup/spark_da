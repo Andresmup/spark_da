{
 "cells": [
  {
   "cell_type": "markdown",
   "metadata": {
    "application/vnd.databricks.v1+cell": {
     "cellMetadata": {},
     "inputWidgets": {},
     "nuid": "df58d02e-11ee-4e3f-aaa7-6358fde82d40",
     "showTitle": false,
     "title": ""
    }
   },
   "source": [
    "#SNAPPY VS GZIP"
   ]
  },
  {
   "cell_type": "code",
   "execution_count": 0,
   "metadata": {
    "application/vnd.databricks.v1+cell": {
     "cellMetadata": {
      "byteLimit": 2048000,
      "rowLimit": 10000
     },
     "inputWidgets": {},
     "nuid": "416e5750-b10b-4f14-9d2b-f7352ddc8c6f",
     "showTitle": false,
     "title": ""
    }
   },
   "outputs": [
    {
     "output_type": "stream",
     "name": "stdout",
     "output_type": "stream",
     "text": [
      "Out[1]: [FileInfo(path='dbfs:/FileStore/tables/fantasy/characters.csv', name='characters.csv', size=1123, modificationTime=1723331905000),\n FileInfo(path='dbfs:/FileStore/tables/fantasy/inventory.csv', name='inventory.csv', size=1122, modificationTime=1723331932000),\n FileInfo(path='dbfs:/FileStore/tables/fantasy/items.csv', name='items.csv', size=1307, modificationTime=1723331936000)]"
     ]
    }
   ],
   "source": [
    "dbutils.fs.ls('dbfs:/FileStore/tables/fantasy')"
   ]
  },
  {
   "cell_type": "code",
   "execution_count": 0,
   "metadata": {
    "application/vnd.databricks.v1+cell": {
     "cellMetadata": {
      "byteLimit": 2048000,
      "rowLimit": 10000
     },
     "inputWidgets": {},
     "nuid": "35377632-569b-42e1-a970-8b30512f534e",
     "showTitle": false,
     "title": ""
    }
   },
   "outputs": [
    {
     "output_type": "display_data",
     "data": {
      "text/html": [
       "<style scoped>\n",
       "  .table-result-container {\n",
       "    max-height: 300px;\n",
       "    overflow: auto;\n",
       "  }\n",
       "  table, th, td {\n",
       "    border: 1px solid black;\n",
       "    border-collapse: collapse;\n",
       "  }\n",
       "  th, td {\n",
       "    padding: 5px;\n",
       "  }\n",
       "  th {\n",
       "    text-align: left;\n",
       "  }\n",
       "</style><div class='table-result-container'><table class='table-result'><thead style='background-color: white'><tr><th>id</th><th>name</th><th>guild</th><th>class</th><th>level</th><th>experience</th><th>health</th><th>is_alive</th><th>last_active</th><th>mentor_id</th></tr></thead><tbody><tr><td>1</td><td>Aragorn</td><td>Rangers</td><td>Warrior</td><td>25</td><td>9000</td><td>120.5</td><td>true</td><td>2023-09-20T08:00:00.000+0000</td><td>null</td></tr><tr><td>2</td><td>Legolas</td><td>Mirkwood</td><td>Archer</td><td>22</td><td>7500</td><td>100.75</td><td>true</td><td>2023-09-21T09:00:00.000+0000</td><td>null</td></tr><tr><td>3</td><td>Gimli</td><td>Erebor</td><td>Warrior</td><td>20</td><td>6000</td><td>130.25</td><td>true</td><td>2023-09-22T07:00:00.000+0000</td><td>null</td></tr><tr><td>4</td><td>Frodo</td><td>Shirefolk</td><td>Hobbit</td><td>12</td><td>2500</td><td>50.5</td><td>false</td><td>2023-09-23T10:00:00.000+0000</td><td>1</td></tr><tr><td>5</td><td>Sam</td><td>Shirefolk</td><td>Hobbit</td><td>13</td><td>2750</td><td>52.5</td><td>true</td><td>2023-09-23T10:05:00.000+0000</td><td>1</td></tr><tr><td>6</td><td>Gandalf</td><td>Istari</td><td>Mage</td><td>30</td><td>10000</td><td>90.0</td><td>true</td><td>2023-09-20T11:00:00.000+0000</td><td>null</td></tr><tr><td>7</td><td>Boromir</td><td>Gondor</td><td>Warrior</td><td>18</td><td>5500</td><td>115.5</td><td>false</td><td>2023-09-21T12:00:00.000+0000</td><td>null</td></tr><tr><td>8</td><td>Merry</td><td>Shirefolk</td><td>Hobbit</td><td>11</td><td>2200</td><td>48.5</td><td>true</td><td>2023-09-22T10:00:00.000+0000</td><td>4</td></tr><tr><td>9</td><td>Pippin</td><td>Shirefolk</td><td>Hobbit</td><td>11</td><td>2100</td><td>47.5</td><td>true</td><td>2023-09-22T10:01:00.000+0000</td><td>4</td></tr><tr><td>10</td><td>Sauron</td><td>Dark Lords</td><td>Mage</td><td>40</td><td>15000</td><td>85.0</td><td>false</td><td>2023-09-23T01:00:00.000+0000</td><td>null</td></tr><tr><td>11</td><td>Saruman</td><td>Istari</td><td>Mage</td><td>28</td><td>8500</td><td>88.5</td><td>false</td><td>2023-09-20T03:00:00.000+0000</td><td>6</td></tr><tr><td>12</td><td>Elrond</td><td>Rivendell</td><td>Mage</td><td>27</td><td>8200</td><td>87.5</td><td>true</td><td>2023-09-21T04:00:00.000+0000</td><td>6</td></tr><tr><td>13</td><td>Thranduil</td><td>Mirkwood</td><td>Archer</td><td>26</td><td>7900</td><td>97.0</td><td>true</td><td>2023-09-22T02:00:00.000+0000</td><td>2</td></tr><tr><td>14</td><td>Eowyn</td><td>Rohan</td><td>Warrior</td><td>17</td><td>5200</td><td>112.5</td><td>true</td><td>2023-09-23T05:00:00.000+0000</td><td>7</td></tr><tr><td>15</td><td>Faramir</td><td>Gondor</td><td>Archer</td><td>19</td><td>5700</td><td>118.5</td><td>true</td><td>2023-09-20T06:00:00.000+0000</td><td>7</td></tr></tbody></table></div>"
      ]
     },
     "metadata": {
      "application/vnd.databricks.v1+output": {
       "addedWidgets": {},
       "aggData": [],
       "aggError": "",
       "aggOverflow": false,
       "aggSchema": [],
       "aggSeriesLimitReached": false,
       "aggType": "",
       "arguments": {},
       "columnCustomDisplayInfos": {},
       "data": [
        [
         1,
         "Aragorn",
         "Rangers",
         "Warrior",
         25,
         9000,
         120.5,
         true,
         "2023-09-20T08:00:00.000+0000",
         null
        ],
        [
         2,
         "Legolas",
         "Mirkwood",
         "Archer",
         22,
         7500,
         100.75,
         true,
         "2023-09-21T09:00:00.000+0000",
         null
        ],
        [
         3,
         "Gimli",
         "Erebor",
         "Warrior",
         20,
         6000,
         130.25,
         true,
         "2023-09-22T07:00:00.000+0000",
         null
        ],
        [
         4,
         "Frodo",
         "Shirefolk",
         "Hobbit",
         12,
         2500,
         50.5,
         false,
         "2023-09-23T10:00:00.000+0000",
         1
        ],
        [
         5,
         "Sam",
         "Shirefolk",
         "Hobbit",
         13,
         2750,
         52.5,
         true,
         "2023-09-23T10:05:00.000+0000",
         1
        ],
        [
         6,
         "Gandalf",
         "Istari",
         "Mage",
         30,
         10000,
         90.0,
         true,
         "2023-09-20T11:00:00.000+0000",
         null
        ],
        [
         7,
         "Boromir",
         "Gondor",
         "Warrior",
         18,
         5500,
         115.5,
         false,
         "2023-09-21T12:00:00.000+0000",
         null
        ],
        [
         8,
         "Merry",
         "Shirefolk",
         "Hobbit",
         11,
         2200,
         48.5,
         true,
         "2023-09-22T10:00:00.000+0000",
         4
        ],
        [
         9,
         "Pippin",
         "Shirefolk",
         "Hobbit",
         11,
         2100,
         47.5,
         true,
         "2023-09-22T10:01:00.000+0000",
         4
        ],
        [
         10,
         "Sauron",
         "Dark Lords",
         "Mage",
         40,
         15000,
         85.0,
         false,
         "2023-09-23T01:00:00.000+0000",
         null
        ],
        [
         11,
         "Saruman",
         "Istari",
         "Mage",
         28,
         8500,
         88.5,
         false,
         "2023-09-20T03:00:00.000+0000",
         6
        ],
        [
         12,
         "Elrond",
         "Rivendell",
         "Mage",
         27,
         8200,
         87.5,
         true,
         "2023-09-21T04:00:00.000+0000",
         6
        ],
        [
         13,
         "Thranduil",
         "Mirkwood",
         "Archer",
         26,
         7900,
         97.0,
         true,
         "2023-09-22T02:00:00.000+0000",
         2
        ],
        [
         14,
         "Eowyn",
         "Rohan",
         "Warrior",
         17,
         5200,
         112.5,
         true,
         "2023-09-23T05:00:00.000+0000",
         7
        ],
        [
         15,
         "Faramir",
         "Gondor",
         "Archer",
         19,
         5700,
         118.5,
         true,
         "2023-09-20T06:00:00.000+0000",
         7
        ]
       ],
       "datasetInfos": [],
       "dbfsResultPath": null,
       "isJsonSchema": true,
       "metadata": {},
       "overflow": false,
       "plotOptions": {
        "customPlotOptions": {},
        "displayType": "table",
        "pivotAggregation": null,
        "pivotColumns": null,
        "xColumns": null,
        "yColumns": null
       },
       "removedWidgets": [],
       "schema": [
        {
         "metadata": "{}",
         "name": "id",
         "type": "\"integer\""
        },
        {
         "metadata": "{}",
         "name": "name",
         "type": "\"string\""
        },
        {
         "metadata": "{}",
         "name": "guild",
         "type": "\"string\""
        },
        {
         "metadata": "{}",
         "name": "class",
         "type": "\"string\""
        },
        {
         "metadata": "{}",
         "name": "level",
         "type": "\"integer\""
        },
        {
         "metadata": "{}",
         "name": "experience",
         "type": "\"integer\""
        },
        {
         "metadata": "{}",
         "name": "health",
         "type": "\"double\""
        },
        {
         "metadata": "{}",
         "name": "is_alive",
         "type": "\"boolean\""
        },
        {
         "metadata": "{}",
         "name": "last_active",
         "type": "\"timestamp\""
        },
        {
         "metadata": "{}",
         "name": "mentor_id",
         "type": "\"integer\""
        }
       ],
       "type": "table"
      }
     },
     "output_type": "display_data"
    }
   ],
   "source": [
    "df_characters = spark.read.format(\"csv\").option(\"inferschema\", True).option(\"header\",True).option(\"sep\",\",\").load('dbfs:/FileStore/tables/fantasy/characters.csv')\n",
    "\n",
    "display(df_characters)"
   ]
  },
  {
   "cell_type": "markdown",
   "metadata": {
    "application/vnd.databricks.v1+cell": {
     "cellMetadata": {},
     "inputWidgets": {},
     "nuid": "55cbeca4-c734-4590-952b-c73c17d0dad1",
     "showTitle": false,
     "title": ""
    }
   },
   "source": [
    "##Gzip"
   ]
  },
  {
   "cell_type": "code",
   "execution_count": 0,
   "metadata": {
    "application/vnd.databricks.v1+cell": {
     "cellMetadata": {
      "byteLimit": 2048000,
      "rowLimit": 10000
     },
     "inputWidgets": {},
     "nuid": "a7bdb707-9c98-43e6-98c2-79f4edc5f0a0",
     "showTitle": false,
     "title": ""
    }
   },
   "outputs": [],
   "source": [
    "df_characters.write.format(\"parquet\").option(\"compression\",\"gzip\").mode(\"overwrite\").save('dbfs:/FileStore/tables/write_files/gzip_parquets')"
   ]
  },
  {
   "cell_type": "code",
   "execution_count": 0,
   "metadata": {
    "application/vnd.databricks.v1+cell": {
     "cellMetadata": {
      "byteLimit": 2048000,
      "rowLimit": 10000
     },
     "inputWidgets": {},
     "nuid": "f93e47e7-5177-496a-a89d-04381503cf23",
     "showTitle": false,
     "title": ""
    }
   },
   "outputs": [
    {
     "output_type": "stream",
     "name": "stdout",
     "output_type": "stream",
     "text": [
      "Out[5]: [FileInfo(path='dbfs:/FileStore/tables/write_files/gzip_parquets/_SUCCESS', name='_SUCCESS', size=0, modificationTime=1724531801000),\n FileInfo(path='dbfs:/FileStore/tables/write_files/gzip_parquets/_committed_3849537428492474843', name='_committed_3849537428492474843', size=118, modificationTime=1724001273000),\n FileInfo(path='dbfs:/FileStore/tables/write_files/gzip_parquets/_committed_7946232892777082145', name='_committed_7946232892777082145', size=224, modificationTime=1724531800000),\n FileInfo(path='dbfs:/FileStore/tables/write_files/gzip_parquets/_committed_vacuum2561090415305682906', name='_committed_vacuum2561090415305682906', size=96, modificationTime=1724531801000),\n FileInfo(path='dbfs:/FileStore/tables/write_files/gzip_parquets/_started_7946232892777082145', name='_started_7946232892777082145', size=0, modificationTime=1724531797000),\n FileInfo(path='dbfs:/FileStore/tables/write_files/gzip_parquets/part-00000-tid-7946232892777082145-c9fcc531-ea0f-428c-97bb-40ea6b787031-602-1-c000.gz.parquet', name='part-00000-tid-7946232892777082145-c9fcc531-ea0f-428c-97bb-40ea6b787031-602-1-c000.gz.parquet', size=3590, modificationTime=1724531800000)]"
     ]
    }
   ],
   "source": [
    "dbutils.fs.ls('dbfs:/FileStore/tables/write_files/gzip_parquets')"
   ]
  },
  {
   "cell_type": "markdown",
   "metadata": {
    "application/vnd.databricks.v1+cell": {
     "cellMetadata": {},
     "inputWidgets": {},
     "nuid": "cdf6ffc4-90ae-4978-b73f-fff9ef9b9a5e",
     "showTitle": false,
     "title": ""
    }
   },
   "source": [
    "##Snappy"
   ]
  },
  {
   "cell_type": "code",
   "execution_count": 0,
   "metadata": {
    "application/vnd.databricks.v1+cell": {
     "cellMetadata": {
      "byteLimit": 2048000,
      "rowLimit": 10000
     },
     "inputWidgets": {},
     "nuid": "0b0bca92-7463-4bf4-a527-dc2ec9c1fc55",
     "showTitle": false,
     "title": ""
    }
   },
   "outputs": [],
   "source": [
    "df_characters.write.format(\"parquet\").option(\"compression\",\"snappy\").mode(\"overwrite\").save('dbfs:/FileStore/tables/write_files/snappy_parquets')"
   ]
  },
  {
   "cell_type": "code",
   "execution_count": 0,
   "metadata": {
    "application/vnd.databricks.v1+cell": {
     "cellMetadata": {
      "byteLimit": 2048000,
      "rowLimit": 10000
     },
     "inputWidgets": {},
     "nuid": "79f03623-d162-4f31-ad45-3958926014fc",
     "showTitle": false,
     "title": ""
    }
   },
   "outputs": [
    {
     "output_type": "stream",
     "name": "stdout",
     "output_type": "stream",
     "text": [
      "Out[7]: [FileInfo(path='dbfs:/FileStore/tables/write_files/snappy_parquets/_SUCCESS', name='_SUCCESS', size=0, modificationTime=1724531853000),\n FileInfo(path='dbfs:/FileStore/tables/write_files/snappy_parquets/_committed_4498058376100449414', name='_committed_4498058376100449414', size=232, modificationTime=1724531853000),\n FileInfo(path='dbfs:/FileStore/tables/write_files/snappy_parquets/_committed_7796965689326203669', name='_committed_7796965689326203669', size=122, modificationTime=1724001651000),\n FileInfo(path='dbfs:/FileStore/tables/write_files/snappy_parquets/_committed_vacuum2546796826446710982', name='_committed_vacuum2546796826446710982', size=96, modificationTime=1724531854000),\n FileInfo(path='dbfs:/FileStore/tables/write_files/snappy_parquets/_started_4498058376100449414', name='_started_4498058376100449414', size=0, modificationTime=1724531852000),\n FileInfo(path='dbfs:/FileStore/tables/write_files/snappy_parquets/part-00000-tid-4498058376100449414-585fe974-aa60-414c-8345-69bb161c3c7f-603-1-c000.snappy.parquet', name='part-00000-tid-4498058376100449414-585fe974-aa60-414c-8345-69bb161c3c7f-603-1-c000.snappy.parquet', size=3501, modificationTime=1724531853000)]"
     ]
    }
   ],
   "source": [
    "dbutils.fs.ls(\"dbfs:/FileStore/tables/write_files/snappy_parquets\")"
   ]
  }
 ],
 "metadata": {
  "application/vnd.databricks.v1+notebook": {
   "dashboards": [],
   "environmentMetadata": null,
   "language": "python",
   "notebookMetadata": {
    "pythonIndentUnit": 4
   },
   "notebookName": "CompressionSnappyVSGzip",
   "widgets": {}
  }
 },
 "nbformat": 4,
 "nbformat_minor": 0
}
