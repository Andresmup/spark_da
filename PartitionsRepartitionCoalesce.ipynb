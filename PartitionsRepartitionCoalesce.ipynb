{
 "cells": [
  {
   "cell_type": "markdown",
   "metadata": {
    "application/vnd.databricks.v1+cell": {
     "cellMetadata": {},
     "inputWidgets": {},
     "nuid": "da7b3277-77e3-47be-9779-cc3c19fb77a6",
     "showTitle": false,
     "title": ""
    }
   },
   "source": [
    "# PARTITIONS"
   ]
  },
  {
   "cell_type": "markdown",
   "metadata": {
    "application/vnd.databricks.v1+cell": {
     "cellMetadata": {},
     "inputWidgets": {},
     "nuid": "2f4bd8bd-0a53-48e1-b79b-2f41bf65c50a",
     "showTitle": false,
     "title": ""
    }
   },
   "source": [
    "## Default Values"
   ]
  },
  {
   "cell_type": "code",
   "execution_count": 0,
   "metadata": {
    "application/vnd.databricks.v1+cell": {
     "cellMetadata": {
      "byteLimit": 2048000,
      "rowLimit": 10000
     },
     "inputWidgets": {},
     "nuid": "26fe1831-fea9-441a-b742-55aecfd6e9bd",
     "showTitle": false,
     "title": ""
    }
   },
   "outputs": [
    {
     "output_type": "stream",
     "name": "stdout",
     "output_type": "stream",
     "text": [
      "Out[1]: 2"
     ]
    }
   ],
   "source": [
    "sc.defaultMinPartitions"
   ]
  },
  {
   "cell_type": "code",
   "execution_count": 0,
   "metadata": {
    "application/vnd.databricks.v1+cell": {
     "cellMetadata": {
      "byteLimit": 2048000,
      "rowLimit": 10000
     },
     "inputWidgets": {},
     "nuid": "97870eda-bfa8-47bb-9d12-f0e2b4028820",
     "showTitle": false,
     "title": ""
    }
   },
   "outputs": [
    {
     "output_type": "stream",
     "name": "stdout",
     "output_type": "stream",
     "text": [
      "Out[2]: 8"
     ]
    }
   ],
   "source": [
    "sc.defaultParallelism"
   ]
  },
  {
   "cell_type": "code",
   "execution_count": 0,
   "metadata": {
    "application/vnd.databricks.v1+cell": {
     "cellMetadata": {
      "byteLimit": 2048000,
      "rowLimit": 10000
     },
     "inputWidgets": {},
     "nuid": "e2bb9d87-0fa7-4899-b178-9ca2ba205a9d",
     "showTitle": false,
     "title": ""
    }
   },
   "outputs": [
    {
     "output_type": "stream",
     "name": "stdout",
     "output_type": "stream",
     "text": [
      "Out[3]: '134217728b'"
     ]
    }
   ],
   "source": [
    "spark.conf.get(\"spark.sql.files.maxPartitionBytes\")"
   ]
  },
  {
   "cell_type": "markdown",
   "metadata": {
    "application/vnd.databricks.v1+cell": {
     "cellMetadata": {},
     "inputWidgets": {},
     "nuid": "8b5ce52b-e370-424f-adf4-2d1500921ab9",
     "showTitle": false,
     "title": ""
    }
   },
   "source": [
    "## Data per partition"
   ]
  },
  {
   "cell_type": "code",
   "execution_count": 0,
   "metadata": {
    "application/vnd.databricks.v1+cell": {
     "cellMetadata": {
      "byteLimit": 2048000,
      "rowLimit": 10000
     },
     "inputWidgets": {},
     "nuid": "4191fc04-1c12-4ac1-9223-c21969a26e97",
     "showTitle": false,
     "title": ""
    }
   },
   "outputs": [
    {
     "output_type": "stream",
     "name": "stdout",
     "output_type": "stream",
     "text": [
      "+-----+\n|value|\n+-----+\n|    0|\n|    1|\n|    2|\n|    3|\n|    4|\n|    5|\n|    6|\n|    7|\n|    8|\n|    9|\n+-----+\n\n"
     ]
    }
   ],
   "source": [
    "from pyspark.sql.types import IntegerType\n",
    "\n",
    "df_range = spark.createDataFrame(range(10), IntegerType())\n",
    "df_range.show()"
   ]
  },
  {
   "cell_type": "code",
   "execution_count": 0,
   "metadata": {
    "application/vnd.databricks.v1+cell": {
     "cellMetadata": {
      "byteLimit": 2048000,
      "rowLimit": 10000
     },
     "inputWidgets": {},
     "nuid": "cfe351b1-d91d-49b1-b2eb-9f212624709f",
     "showTitle": false,
     "title": ""
    }
   },
   "outputs": [
    {
     "output_type": "stream",
     "name": "stdout",
     "output_type": "stream",
     "text": [
      "Out[5]: 8"
     ]
    }
   ],
   "source": [
    "df_range.rdd.getNumPartitions()"
   ]
  },
  {
   "cell_type": "code",
   "execution_count": 0,
   "metadata": {
    "application/vnd.databricks.v1+cell": {
     "cellMetadata": {
      "byteLimit": 2048000,
      "rowLimit": 10000
     },
     "inputWidgets": {},
     "nuid": "801b5596-f307-4785-a265-fa3f45817745",
     "showTitle": false,
     "title": ""
    }
   },
   "outputs": [
    {
     "output_type": "stream",
     "name": "stdout",
     "output_type": "stream",
     "text": [
      "Out[6]: [[Row(value=0)],\n [Row(value=1)],\n [Row(value=2)],\n [Row(value=3), Row(value=4)],\n [Row(value=5)],\n [Row(value=6)],\n [Row(value=7)],\n [Row(value=8), Row(value=9)]]"
     ]
    }
   ],
   "source": [
    "df_range.rdd.glom().collect()"
   ]
  },
  {
   "cell_type": "markdown",
   "metadata": {
    "application/vnd.databricks.v1+cell": {
     "cellMetadata": {},
     "inputWidgets": {},
     "nuid": "1f604846-5b66-44ab-bc02-96cce728efd7",
     "showTitle": false,
     "title": ""
    }
   },
   "source": [
    "##Change Partition Size"
   ]
  },
  {
   "cell_type": "code",
   "execution_count": 0,
   "metadata": {
    "application/vnd.databricks.v1+cell": {
     "cellMetadata": {
      "byteLimit": 2048000,
      "rowLimit": 10000
     },
     "inputWidgets": {},
     "nuid": "a896f4d2-c956-457e-8aad-ef23efacb313",
     "showTitle": false,
     "title": ""
    }
   },
   "outputs": [
    {
     "output_type": "stream",
     "name": "stdout",
     "output_type": "stream",
     "text": [
      "Out[7]: [FileInfo(path='dbfs:/FileStore/tables/fantasy/characters.csv', name='characters.csv', size=1123, modificationTime=1723331905000),\n FileInfo(path='dbfs:/FileStore/tables/fantasy/inventory.csv', name='inventory.csv', size=1122, modificationTime=1723331932000),\n FileInfo(path='dbfs:/FileStore/tables/fantasy/items.csv', name='items.csv', size=1307, modificationTime=1723331936000)]"
     ]
    }
   ],
   "source": [
    "dbutils.fs.ls(\"dbfs:/FileStore/tables/fantasy/\")"
   ]
  },
  {
   "cell_type": "code",
   "execution_count": 0,
   "metadata": {
    "application/vnd.databricks.v1+cell": {
     "cellMetadata": {
      "byteLimit": 2048000,
      "rowLimit": 10000
     },
     "inputWidgets": {},
     "nuid": "61002fc9-ba54-4a25-9674-1b9e560829af",
     "showTitle": false,
     "title": ""
    }
   },
   "outputs": [
    {
     "output_type": "stream",
     "name": "stdout",
     "output_type": "stream",
     "text": [
      "Out[8]: 3"
     ]
    }
   ],
   "source": [
    "df_multiple_files = spark.read.format(\"csv\").option(\"inferschema\", True).option(\"header\",True).option(\"sep\",\",\").load('dbfs:/FileStore/tables/fantasy/')\n",
    "\n",
    "df_multiple_files.rdd.getNumPartitions()"
   ]
  },
  {
   "cell_type": "code",
   "execution_count": 0,
   "metadata": {
    "application/vnd.databricks.v1+cell": {
     "cellMetadata": {
      "byteLimit": 2048000,
      "rowLimit": 10000
     },
     "inputWidgets": {},
     "nuid": "21a04b60-da54-4ef7-85b4-da5567a89fb9",
     "showTitle": false,
     "title": ""
    }
   },
   "outputs": [
    {
     "output_type": "stream",
     "name": "stdout",
     "output_type": "stream",
     "text": [
      "Out[9]: '1000'"
     ]
    }
   ],
   "source": [
    "spark.conf.set(\"spark.sql.files.maxPartitionBytes\",1000)\n",
    "spark.conf.get(\"spark.sql.files.maxPartitionBytes\")"
   ]
  },
  {
   "cell_type": "code",
   "execution_count": 0,
   "metadata": {
    "application/vnd.databricks.v1+cell": {
     "cellMetadata": {
      "byteLimit": 2048000,
      "rowLimit": 10000
     },
     "inputWidgets": {},
     "nuid": "3310b846-0390-4487-b0cb-8fd81109bcac",
     "showTitle": false,
     "title": ""
    }
   },
   "outputs": [
    {
     "output_type": "stream",
     "name": "stdout",
     "output_type": "stream",
     "text": [
      "Out[10]: 6"
     ]
    }
   ],
   "source": [
    "df_multiple_files = spark.read.format(\"csv\").option(\"inferschema\", True).option(\"header\",True).option(\"sep\",\",\").load('dbfs:/FileStore/tables/fantasy/')\n",
    "\n",
    "df_multiple_files.rdd.getNumPartitions()"
   ]
  },
  {
   "cell_type": "markdown",
   "metadata": {
    "application/vnd.databricks.v1+cell": {
     "cellMetadata": {},
     "inputWidgets": {},
     "nuid": "e53abc3a-3b34-4219-8bf8-376015f913c0",
     "showTitle": false,
     "title": ""
    }
   },
   "source": [
    "##Single Partition"
   ]
  },
  {
   "cell_type": "code",
   "execution_count": 0,
   "metadata": {
    "application/vnd.databricks.v1+cell": {
     "cellMetadata": {
      "byteLimit": 2048000,
      "rowLimit": 10000
     },
     "inputWidgets": {},
     "nuid": "1a49717b-63f4-4600-acc6-cf63ef709148",
     "showTitle": false,
     "title": ""
    }
   },
   "outputs": [
    {
     "output_type": "stream",
     "name": "stdout",
     "output_type": "stream",
     "text": [
      "Out[11]: 1"
     ]
    }
   ],
   "source": [
    "df_single_partition = sc.parallelize(range(100),1)\n",
    "\n",
    "df_single_partition.getNumPartitions()"
   ]
  },
  {
   "cell_type": "markdown",
   "metadata": {
    "application/vnd.databricks.v1+cell": {
     "cellMetadata": {},
     "inputWidgets": {},
     "nuid": "ce2f4bfe-df92-43fd-92f7-58801ddd4dc0",
     "showTitle": false,
     "title": ""
    }
   },
   "source": [
    "#REPARTITION"
   ]
  },
  {
   "cell_type": "code",
   "execution_count": 0,
   "metadata": {
    "application/vnd.databricks.v1+cell": {
     "cellMetadata": {
      "byteLimit": 2048000,
      "rowLimit": 10000
     },
     "inputWidgets": {},
     "nuid": "6da5915c-5838-435b-a4a3-f4aa48edd283",
     "showTitle": false,
     "title": ""
    }
   },
   "outputs": [
    {
     "output_type": "stream",
     "name": "stdout",
     "output_type": "stream",
     "text": [
      "Out[12]: 8"
     ]
    }
   ],
   "source": [
    "from pyspark.sql.types import IntegerType\n",
    "\n",
    "df_range = spark.createDataFrame(range(20), IntegerType())\n",
    "df_range.rdd.getNumPartitions()"
   ]
  },
  {
   "cell_type": "code",
   "execution_count": 0,
   "metadata": {
    "application/vnd.databricks.v1+cell": {
     "cellMetadata": {
      "byteLimit": 2048000,
      "rowLimit": 10000
     },
     "inputWidgets": {},
     "nuid": "e212adab-f8fb-4d3e-aa0a-131e59c60652",
     "showTitle": false,
     "title": ""
    }
   },
   "outputs": [
    {
     "output_type": "stream",
     "name": "stdout",
     "output_type": "stream",
     "text": [
      "Out[13]: [[Row(value=0), Row(value=1)],\n [Row(value=2), Row(value=3)],\n [Row(value=4), Row(value=5)],\n [Row(value=6), Row(value=7), Row(value=8), Row(value=9)],\n [Row(value=10), Row(value=11)],\n [Row(value=12), Row(value=13)],\n [Row(value=14), Row(value=15)],\n [Row(value=16), Row(value=17), Row(value=18), Row(value=19)]]"
     ]
    }
   ],
   "source": [
    "df_range.rdd.glom().collect()"
   ]
  },
  {
   "cell_type": "markdown",
   "metadata": {
    "application/vnd.databricks.v1+cell": {
     "cellMetadata": {},
     "inputWidgets": {},
     "nuid": "61f4f3f2-8d58-48fe-91fb-4541329bd291",
     "showTitle": false,
     "title": ""
    }
   },
   "source": [
    "## Aument w/repartition"
   ]
  },
  {
   "cell_type": "code",
   "execution_count": 0,
   "metadata": {
    "application/vnd.databricks.v1+cell": {
     "cellMetadata": {
      "byteLimit": 2048000,
      "rowLimit": 10000
     },
     "inputWidgets": {},
     "nuid": "2c71cf8e-74d9-4566-9171-e150e3448772",
     "showTitle": false,
     "title": ""
    }
   },
   "outputs": [
    {
     "output_type": "stream",
     "name": "stdout",
     "output_type": "stream",
     "text": [
      "Out[14]: 16"
     ]
    }
   ],
   "source": [
    "df_range_repartition = df_range.repartition(16)\n",
    "\n",
    "df_range_repartition.rdd.getNumPartitions()"
   ]
  },
  {
   "cell_type": "code",
   "execution_count": 0,
   "metadata": {
    "application/vnd.databricks.v1+cell": {
     "cellMetadata": {
      "byteLimit": 2048000,
      "rowLimit": 10000
     },
     "inputWidgets": {},
     "nuid": "b5f4f1c5-f276-4415-aef9-2af8a11be401",
     "showTitle": false,
     "title": ""
    }
   },
   "outputs": [
    {
     "output_type": "stream",
     "name": "stdout",
     "output_type": "stream",
     "text": [
      "Out[15]: [[Row(value=5), Row(value=12)],\n [Row(value=4)],\n [],\n [],\n [Row(value=0), Row(value=3)],\n [Row(value=1), Row(value=2)],\n [],\n [Row(value=19)],\n [Row(value=16)],\n [Row(value=18)],\n [Row(value=11), Row(value=17)],\n [Row(value=10)],\n [Row(value=7)],\n [Row(value=6), Row(value=14)],\n [Row(value=8), Row(value=15)],\n [Row(value=9), Row(value=13)]]"
     ]
    }
   ],
   "source": [
    "df_range_repartition.rdd.glom().collect()"
   ]
  },
  {
   "cell_type": "markdown",
   "metadata": {
    "application/vnd.databricks.v1+cell": {
     "cellMetadata": {},
     "inputWidgets": {},
     "nuid": "0ba8cd20-27e9-4fd6-989b-7f6639ffaa9b",
     "showTitle": false,
     "title": ""
    }
   },
   "source": [
    "##Reduce w/repartition"
   ]
  },
  {
   "cell_type": "code",
   "execution_count": 0,
   "metadata": {
    "application/vnd.databricks.v1+cell": {
     "cellMetadata": {
      "byteLimit": 2048000,
      "rowLimit": 10000
     },
     "inputWidgets": {},
     "nuid": "5cea953e-1e7d-426e-bd0d-2b33fb6b828b",
     "showTitle": false,
     "title": ""
    }
   },
   "outputs": [
    {
     "output_type": "stream",
     "name": "stdout",
     "output_type": "stream",
     "text": [
      "Out[16]: 2"
     ]
    }
   ],
   "source": [
    "df_range_repartition_v2 = df_range.repartition(2)\n",
    "\n",
    "df_range_repartition_v2.rdd.getNumPartitions()"
   ]
  },
  {
   "cell_type": "code",
   "execution_count": 0,
   "metadata": {
    "application/vnd.databricks.v1+cell": {
     "cellMetadata": {
      "byteLimit": 2048000,
      "rowLimit": 10000
     },
     "inputWidgets": {},
     "nuid": "1f39b1c3-8de1-4734-bc39-56e4bf9df966",
     "showTitle": false,
     "title": ""
    }
   },
   "outputs": [
    {
     "output_type": "stream",
     "name": "stdout",
     "output_type": "stream",
     "text": [
      "Out[17]: [[Row(value=1),\n  Row(value=2),\n  Row(value=5),\n  Row(value=7),\n  Row(value=8),\n  Row(value=11),\n  Row(value=13),\n  Row(value=14),\n  Row(value=16),\n  Row(value=17)],\n [Row(value=0),\n  Row(value=3),\n  Row(value=4),\n  Row(value=6),\n  Row(value=9),\n  Row(value=10),\n  Row(value=12),\n  Row(value=15),\n  Row(value=19),\n  Row(value=18)]]"
     ]
    }
   ],
   "source": [
    "df_range_repartition_v2.rdd.glom().collect()"
   ]
  },
  {
   "cell_type": "markdown",
   "metadata": {
    "application/vnd.databricks.v1+cell": {
     "cellMetadata": {},
     "inputWidgets": {},
     "nuid": "1e1bebb9-0723-4047-b130-4c9f2c7d25c0",
     "showTitle": false,
     "title": ""
    }
   },
   "source": [
    "#COALESCE"
   ]
  },
  {
   "cell_type": "code",
   "execution_count": 0,
   "metadata": {
    "application/vnd.databricks.v1+cell": {
     "cellMetadata": {
      "byteLimit": 2048000,
      "rowLimit": 10000
     },
     "inputWidgets": {},
     "nuid": "ce8086cf-87d7-4914-8b36-d8ad59a92b04",
     "showTitle": false,
     "title": ""
    }
   },
   "outputs": [
    {
     "output_type": "stream",
     "name": "stdout",
     "output_type": "stream",
     "text": [
      "Out[18]: 2"
     ]
    }
   ],
   "source": [
    "df_range_coalesce = df_range.coalesce(2)\n",
    "\n",
    "df_range_coalesce.rdd.getNumPartitions()"
   ]
  },
  {
   "cell_type": "code",
   "execution_count": 0,
   "metadata": {
    "application/vnd.databricks.v1+cell": {
     "cellMetadata": {
      "byteLimit": 2048000,
      "rowLimit": 10000
     },
     "inputWidgets": {},
     "nuid": "3b565dee-092b-4c05-9b4d-b21282eb4578",
     "showTitle": false,
     "title": ""
    }
   },
   "outputs": [
    {
     "output_type": "stream",
     "name": "stdout",
     "output_type": "stream",
     "text": [
      "Out[19]: [[Row(value=0),\n  Row(value=1),\n  Row(value=2),\n  Row(value=3),\n  Row(value=4),\n  Row(value=5),\n  Row(value=6),\n  Row(value=7),\n  Row(value=8),\n  Row(value=9)],\n [Row(value=10),\n  Row(value=11),\n  Row(value=12),\n  Row(value=13),\n  Row(value=14),\n  Row(value=15),\n  Row(value=16),\n  Row(value=17),\n  Row(value=18),\n  Row(value=19)]]"
     ]
    }
   ],
   "source": [
    "df_range_coalesce.rdd.glom().collect()"
   ]
  }
 ],
 "metadata": {
  "application/vnd.databricks.v1+notebook": {
   "dashboards": [],
   "environmentMetadata": null,
   "language": "python",
   "notebookMetadata": {
    "pythonIndentUnit": 4
   },
   "notebookName": "PartitionsRepartitionCoalesce",
   "widgets": {}
  }
 },
 "nbformat": 4,
 "nbformat_minor": 0
}
