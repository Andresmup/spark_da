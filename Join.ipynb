{
 "cells": [
  {
   "cell_type": "markdown",
   "metadata": {
    "application/vnd.databricks.v1+cell": {
     "cellMetadata": {},
     "inputWidgets": {},
     "nuid": "5c197c6a-e9e2-4eeb-9960-94f480d4c9d5",
     "showTitle": false,
     "title": ""
    }
   },
   "source": [
    "# JOIN"
   ]
  },
  {
   "cell_type": "code",
   "execution_count": 0,
   "metadata": {
    "application/vnd.databricks.v1+cell": {
     "cellMetadata": {
      "byteLimit": 2048000,
      "rowLimit": 10000
     },
     "inputWidgets": {},
     "nuid": "d914bfb0-85ab-4437-91dd-d23a60223182",
     "showTitle": false,
     "title": ""
    }
   },
   "outputs": [
    {
     "output_type": "stream",
     "name": "stdout",
     "output_type": "stream",
     "text": [
      "+---+---------+----------+-------+-----+----------+------+--------+-------------------+---------+\n| id|     name|     guild|  class|level|experience|health|is_alive|        last_active|mentor_id|\n+---+---------+----------+-------+-----+----------+------+--------+-------------------+---------+\n|  1|  Aragorn|   Rangers|Warrior|   25|      9000| 120.5|    true|2023-09-20 08:00:00|     null|\n|  2|  Legolas|  Mirkwood| Archer|   22|      7500|100.75|    true|2023-09-21 09:00:00|     null|\n|  3|    Gimli|    Erebor|Warrior|   20|      6000|130.25|    true|2023-09-22 07:00:00|     null|\n|  4|    Frodo| Shirefolk| Hobbit|   12|      2500|  50.5|   false|2023-09-23 10:00:00|        1|\n|  5|      Sam| Shirefolk| Hobbit|   13|      2750|  52.5|    true|2023-09-23 10:05:00|        1|\n|  6|  Gandalf|    Istari|   Mage|   30|     10000|  90.0|    true|2023-09-20 11:00:00|     null|\n|  7|  Boromir|    Gondor|Warrior|   18|      5500| 115.5|   false|2023-09-21 12:00:00|     null|\n|  8|    Merry| Shirefolk| Hobbit|   11|      2200|  48.5|    true|2023-09-22 10:00:00|        4|\n|  9|   Pippin| Shirefolk| Hobbit|   11|      2100|  47.5|    true|2023-09-22 10:01:00|        4|\n| 10|   Sauron|Dark Lords|   Mage|   40|     15000|  85.0|   false|2023-09-23 01:00:00|     null|\n| 11|  Saruman|    Istari|   Mage|   28|      8500|  88.5|   false|2023-09-20 03:00:00|        6|\n| 12|   Elrond| Rivendell|   Mage|   27|      8200|  87.5|    true|2023-09-21 04:00:00|        6|\n| 13|Thranduil|  Mirkwood| Archer|   26|      7900|  97.0|    true|2023-09-22 02:00:00|        2|\n| 14|    Eowyn|     Rohan|Warrior|   17|      5200| 112.5|    true|2023-09-23 05:00:00|        7|\n| 15|  Faramir|    Gondor| Archer|   19|      5700| 118.5|    true|2023-09-20 06:00:00|        7|\n+---+---------+----------+-------+-----+----------+------+--------+-------------------+---------+\n\n"
     ]
    }
   ],
   "source": [
    "schema_characters = \"id INTEGER, name STRING, guild STRING, class STRING, level INTEGER, experience INTEGER, health DOUBLE, is_alive BOOLEAN, last_active TIMESTAMP, mentor_id INTEGER\"\n",
    "\n",
    "df_characters = spark.read.format(\"csv\").option(\"header\",True).option(\"sep\",\",\").schema(schema_characters).load('dbfs:/FileStore/tables/fantasy/characters.csv')\n",
    "\n",
    "df_characters.show()"
   ]
  },
  {
   "cell_type": "code",
   "execution_count": 0,
   "metadata": {
    "application/vnd.databricks.v1+cell": {
     "cellMetadata": {
      "byteLimit": 2048000,
      "rowLimit": 10000
     },
     "inputWidgets": {},
     "nuid": "8c950840-61fd-41f8-bb12-ade9794a8438",
     "showTitle": false,
     "title": ""
    }
   },
   "outputs": [
    {
     "output_type": "stream",
     "name": "stdout",
     "output_type": "stream",
     "text": [
      "+---+------------+-------+--------+-----------+-----------------------+-----------------------+-----+\n|id |character_id|item_id|quantity|is_equipped|purchase_date          |expiry_date            |value|\n+---+------------+-------+--------+-----------+-----------------------+-----------------------+-----+\n|1  |1           |99     |1       |TRUE       |2023-09-10 08:00:00 UTC|null                   |1500 |\n|2  |1           |4      |2       |FALSE      |2023-09-12 09:00:00 UTC|2023-10-12 09:00:00 UTC|50   |\n|3  |2           |2      |1       |TRUE       |2023-09-11 08:30:00 UTC|null                   |1100 |\n|4  |2           |101    |1       |FALSE      |2023-09-12 10:00:00 UTC|2023-10-12 10:00:00 UTC|60   |\n|5  |3           |3      |1       |TRUE       |2023-09-15 08:00:00 UTC|null                   |1300 |\n|6  |3           |6      |1       |FALSE      |2023-09-16 09:00:00 UTC|null                   |200  |\n|7  |4           |9      |2       |FALSE      |2023-09-20 08:00:00 UTC|2023-10-20 08:00:00 UTC|150  |\n|8  |5           |10     |1       |FALSE      |2023-09-21 10:00:00 UTC|2023-10-21 10:00:00 UTC|160  |\n|9  |6           |11     |1       |TRUE       |2023-09-22 11:00:00 UTC|null                   |1700 |\n|10 |6           |16     |1       |FALSE      |2023-09-23 09:00:00 UTC|2023-10-23 09:00:00 UTC|30   |\n|11 |7           |7      |1       |TRUE       |2023-09-18 08:00:00 UTC|null                   |700  |\n|12 |7           |4      |1       |FALSE      |2023-09-19 09:00:00 UTC|2023-10-19 09:00:00 UTC|50   |\n|13 |8           |8      |1       |FALSE      |2023-09-20 10:00:00 UTC|null                   |800  |\n|14 |9           |12     |1       |TRUE       |2023-09-21 11:00:00 UTC|null                   |1200 |\n|15 |10          |13     |1       |TRUE       |2023-09-22 12:00:00 UTC|null                   |1300 |\n|16 |11          |14     |1       |TRUE       |2023-09-23 08:00:00 UTC|null                   |1400 |\n|17 |12          |15     |1       |FALSE      |2023-09-23 09:00:00 UTC|null                   |1500 |\n|18 |13          |17     |1       |TRUE       |2023-09-23 10:00:00 UTC|null                   |1700 |\n|19 |14          |18     |1       |TRUE       |2023-09-23 11:00:00 UTC|null                   |1800 |\n|20 |15          |121    |1       |FALSE      |2023-09-24 08:00:00 UTC|null                   |2000 |\n+---+------------+-------+--------+-----------+-----------------------+-----------------------+-----+\n\n"
     ]
    }
   ],
   "source": [
    "schema_inventory = \"id INTEGER, character_id INTEGER, item_id INTEGER, quantity INTEGER, is_equipped BOOLEAN, purchase_date TIMESTAMP, expiry_date TIMESTAMP, value INTEGER\"\n",
    "\n",
    "df_inventory = spark.read.format(\"csv\").options(header=\"True\",sep=\",\").load('dbfs:/FileStore/tables/fantasy/inventory.csv')\n",
    "\n",
    "df_inventory.show(truncate=False)"
   ]
  },
  {
   "cell_type": "code",
   "execution_count": 0,
   "metadata": {
    "application/vnd.databricks.v1+cell": {
     "cellMetadata": {
      "byteLimit": 2048000,
      "rowLimit": 10000
     },
     "inputWidgets": {},
     "nuid": "c98d0fe0-61ce-4cd7-9067-198b21c6b83d",
     "showTitle": false,
     "title": ""
    }
   },
   "outputs": [],
   "source": [
    "from pyspark.sql.types import StructType, StructField, IntegerType, StringType, DoubleType, TimestampType, BooleanType"
   ]
  },
  {
   "cell_type": "code",
   "execution_count": 0,
   "metadata": {
    "application/vnd.databricks.v1+cell": {
     "cellMetadata": {
      "byteLimit": 2048000,
      "rowLimit": 10000
     },
     "inputWidgets": {},
     "nuid": "3e61552f-fc03-4d2c-b7bd-e2a03abc184f",
     "showTitle": false,
     "title": ""
    }
   },
   "outputs": [
    {
     "output_type": "stream",
     "name": "stdout",
     "output_type": "stream",
     "text": [
      "+---+--------------------+---------+-----+------+---------+-------------------+\n| id|                name|item_type|power|weight|   rarity|         date_added|\n+---+--------------------+---------+-----+------+---------+-------------------+\n|  1|           Excalibur|   Weapon|  100|  10.5|Legendary|2023-09-01 09:00:00|\n|  2|           Elven Bow|   Weapon|   85|   3.5|     Rare|2023-09-02 10:00:00|\n|  3|         Dwarven Axe|   Weapon|   90|  12.0|     Rare|2023-09-03 11:00:00|\n|  4|      Healing Potion|   Potion|   50|   1.0|   Common|2023-09-04 08:00:00|\n|  5|         Mana Potion|   Potion|   60|   1.1|   Common|2023-09-05 08:30:00|\n|  6|       Leather Armor|    Armor|   40|   8.0|   Common|2023-09-06 09:00:00|\n|  7|     Chainmail Armor|    Armor|   70|  18.5|     Rare|2023-09-07 10:00:00|\n|  8|  Dragon Scale Armor|    Armor|   90|  20.0|Legendary|2023-09-08 11:00:00|\n|  9|     Fireball Scroll|   Weapon|   75|   0.5|   Common|2023-09-09 07:00:00|\n| 10|     Teleport Scroll|   Weapon|   80|   0.6|   Common|2023-09-10 07:30:00|\n| 11|       Mithril Sword|   Weapon|   95|   9.5|Legendary|2023-09-11 09:00:00|\n| 12|        Elven Quiver|   Weapon|   82|   2.2|     Rare|2023-09-12 10:00:00|\n| 13|     Phoenix Feather|   Weapon|  100|   0.1|Legendary|2023-09-13 11:00:00|\n| 14|     Earthquake Rune|   Weapon|   88|   1.0|     Rare|2023-09-14 08:00:00|\n| 15|  Resurrection Stone|   Potion|   99|   1.5|Legendary|2023-09-15 08:30:00|\n| 16|      Stamina Elixir|   Potion|   30|   0.8|   Common|2023-09-16 09:00:00|\n| 17|       Lightning Rod|   Weapon|   76|   4.5|   Common|2023-09-17 10:00:00|\n| 18|        Steel Dagger|   Weapon|   65|   2.5|   Common|2023-09-18 11:00:00|\n| 19|     Frostbite Blade|   Weapon|   91|  10.0|     Rare|2023-09-19 07:00:00|\n| 20|Cloak of Invisibi...|    Armor|   78|   2.0|     Rare|2023-09-20 07:30:00|\n+---+--------------------+---------+-----+------+---------+-------------------+\n\n"
     ]
    }
   ],
   "source": [
    "schema_items = StructType([\n",
    "    StructField(\"id\",IntegerType(),True),\n",
    "    StructField(\"name\",StringType(),True),\n",
    "    StructField(\"item_type\",StringType(),True),\n",
    "    StructField(\"power\",IntegerType(),True),\n",
    "    StructField(\"weight\",DoubleType(),True),\n",
    "    StructField(\"rarity\",StringType(),True),\n",
    "    StructField(\"date_added\",TimestampType(),True),\n",
    "])\n",
    "\n",
    "df_items = spark.read.format(\"csv\").schema(schema_items).option(\"header\",True).option(\"sep\",\",\").load('dbfs:/FileStore/tables/fantasy/items.csv')\n",
    "\n",
    "df_items.show()"
   ]
  },
  {
   "cell_type": "markdown",
   "metadata": {
    "application/vnd.databricks.v1+cell": {
     "cellMetadata": {},
     "inputWidgets": {},
     "nuid": "a662273f-6bd4-4561-8f16-1a8314516e36",
     "showTitle": false,
     "title": ""
    }
   },
   "source": [
    "## Inner Join"
   ]
  },
  {
   "cell_type": "code",
   "execution_count": 0,
   "metadata": {
    "application/vnd.databricks.v1+cell": {
     "cellMetadata": {
      "byteLimit": 2048000,
      "rowLimit": 10000
     },
     "inputWidgets": {},
     "nuid": "6d8a1cb3-3970-415c-b9df-15da99a9bc1e",
     "showTitle": false,
     "title": ""
    }
   },
   "outputs": [
    {
     "output_type": "stream",
     "name": "stdout",
     "output_type": "stream",
     "text": [
      "+---------+----------+-------+-----+--------+-----------+-----+------------------+---------+-----+\n|     name|     guild|  class|level|quantity|is_equipped|value|              name|item_type|power|\n+---------+----------+-------+-----+--------+-----------+-----+------------------+---------+-----+\n|  Aragorn|   Rangers|Warrior|   25|       2|      FALSE|   50|    Healing Potion|   Potion|   50|\n|  Legolas|  Mirkwood| Archer|   22|       1|       TRUE| 1100|         Elven Bow|   Weapon|   85|\n|    Gimli|    Erebor|Warrior|   20|       1|      FALSE|  200|     Leather Armor|    Armor|   40|\n|    Gimli|    Erebor|Warrior|   20|       1|       TRUE| 1300|       Dwarven Axe|   Weapon|   90|\n|    Frodo| Shirefolk| Hobbit|   12|       2|      FALSE|  150|   Fireball Scroll|   Weapon|   75|\n|      Sam| Shirefolk| Hobbit|   13|       1|      FALSE|  160|   Teleport Scroll|   Weapon|   80|\n|  Gandalf|    Istari|   Mage|   30|       1|      FALSE|   30|    Stamina Elixir|   Potion|   30|\n|  Gandalf|    Istari|   Mage|   30|       1|       TRUE| 1700|     Mithril Sword|   Weapon|   95|\n|  Boromir|    Gondor|Warrior|   18|       1|      FALSE|   50|    Healing Potion|   Potion|   50|\n|  Boromir|    Gondor|Warrior|   18|       1|       TRUE|  700|   Chainmail Armor|    Armor|   70|\n|    Merry| Shirefolk| Hobbit|   11|       1|      FALSE|  800|Dragon Scale Armor|    Armor|   90|\n|   Pippin| Shirefolk| Hobbit|   11|       1|       TRUE| 1200|      Elven Quiver|   Weapon|   82|\n|   Sauron|Dark Lords|   Mage|   40|       1|       TRUE| 1300|   Phoenix Feather|   Weapon|  100|\n|  Saruman|    Istari|   Mage|   28|       1|       TRUE| 1400|   Earthquake Rune|   Weapon|   88|\n|   Elrond| Rivendell|   Mage|   27|       1|      FALSE| 1500|Resurrection Stone|   Potion|   99|\n|Thranduil|  Mirkwood| Archer|   26|       1|       TRUE| 1700|     Lightning Rod|   Weapon|   76|\n|    Eowyn|     Rohan|Warrior|   17|       1|       TRUE| 1800|      Steel Dagger|   Weapon|   65|\n+---------+----------+-------+-----+--------+-----------+-----+------------------+---------+-----+\n\n"
     ]
    }
   ],
   "source": [
    "df_characters \\\n",
    "    .join(df_inventory, df_characters.id == df_inventory.character_id,\"inner\") \\\n",
    "    .join(df_items,df_inventory.item_id == df_items.id,\"inner\") \\\n",
    "    .select(df_characters[\"name\"],df_characters[\"guild\"],df_characters[\"class\"],df_characters[\"level\"],df_inventory[\"quantity\"],df_inventory[\"is_equipped\"],df_inventory[\"value\"],df_items[\"name\"],df_items[\"item_type\"],df_items[\"power\"]) \\\n",
    "    .show()"
   ]
  },
  {
   "cell_type": "markdown",
   "metadata": {
    "application/vnd.databricks.v1+cell": {
     "cellMetadata": {},
     "inputWidgets": {},
     "nuid": "4417fa63-4ff5-456e-86d2-837528e51c4c",
     "showTitle": false,
     "title": ""
    }
   },
   "source": [
    "## Outer Join"
   ]
  },
  {
   "cell_type": "code",
   "execution_count": 0,
   "metadata": {
    "application/vnd.databricks.v1+cell": {
     "cellMetadata": {
      "byteLimit": 2048000,
      "rowLimit": 10000
     },
     "inputWidgets": {},
     "nuid": "ea8246f8-1b7e-4b53-96d6-76cee5525ee3",
     "showTitle": false,
     "title": ""
    }
   },
   "outputs": [
    {
     "output_type": "stream",
     "name": "stdout",
     "output_type": "stream",
     "text": [
      "+---------+----------+-------+-----+----------+------+--------+------------+--------+-----------+-----+------------------+---------+-----+------+---------+\n|     name|     guild|  class|level|experience|health|is_alive|character_id|quantity|is_equipped|value|              name|item_type|power|weight|   rarity|\n+---------+----------+-------+-----+----------+------+--------+------------+--------+-----------+-----+------------------+---------+-----+------+---------+\n|     null|      null|   null| null|      null|  null|    null|        null|    null|       null| null|         Excalibur|   Weapon|  100|  10.5|Legendary|\n|  Legolas|  Mirkwood| Archer|   22|      7500|100.75|    true|           2|       1|       TRUE| 1100|         Elven Bow|   Weapon|   85|   3.5|     Rare|\n|    Gimli|    Erebor|Warrior|   20|      6000|130.25|    true|           3|       1|       TRUE| 1300|       Dwarven Axe|   Weapon|   90|  12.0|     Rare|\n|  Aragorn|   Rangers|Warrior|   25|      9000| 120.5|    true|           1|       2|      FALSE|   50|    Healing Potion|   Potion|   50|   1.0|   Common|\n|  Boromir|    Gondor|Warrior|   18|      5500| 115.5|   false|           7|       1|      FALSE|   50|    Healing Potion|   Potion|   50|   1.0|   Common|\n|     null|      null|   null| null|      null|  null|    null|        null|    null|       null| null|       Mana Potion|   Potion|   60|   1.1|   Common|\n|    Gimli|    Erebor|Warrior|   20|      6000|130.25|    true|           3|       1|      FALSE|  200|     Leather Armor|    Armor|   40|   8.0|   Common|\n|  Boromir|    Gondor|Warrior|   18|      5500| 115.5|   false|           7|       1|       TRUE|  700|   Chainmail Armor|    Armor|   70|  18.5|     Rare|\n|    Merry| Shirefolk| Hobbit|   11|      2200|  48.5|    true|           8|       1|      FALSE|  800|Dragon Scale Armor|    Armor|   90|  20.0|Legendary|\n|    Frodo| Shirefolk| Hobbit|   12|      2500|  50.5|   false|           4|       2|      FALSE|  150|   Fireball Scroll|   Weapon|   75|   0.5|   Common|\n|      Sam| Shirefolk| Hobbit|   13|      2750|  52.5|    true|           5|       1|      FALSE|  160|   Teleport Scroll|   Weapon|   80|   0.6|   Common|\n|  Gandalf|    Istari|   Mage|   30|     10000|  90.0|    true|           6|       1|       TRUE| 1700|     Mithril Sword|   Weapon|   95|   9.5|Legendary|\n|   Pippin| Shirefolk| Hobbit|   11|      2100|  47.5|    true|           9|       1|       TRUE| 1200|      Elven Quiver|   Weapon|   82|   2.2|     Rare|\n|   Sauron|Dark Lords|   Mage|   40|     15000|  85.0|   false|          10|       1|       TRUE| 1300|   Phoenix Feather|   Weapon|  100|   0.1|Legendary|\n|  Saruman|    Istari|   Mage|   28|      8500|  88.5|   false|          11|       1|       TRUE| 1400|   Earthquake Rune|   Weapon|   88|   1.0|     Rare|\n|   Elrond| Rivendell|   Mage|   27|      8200|  87.5|    true|          12|       1|      FALSE| 1500|Resurrection Stone|   Potion|   99|   1.5|Legendary|\n|  Gandalf|    Istari|   Mage|   30|     10000|  90.0|    true|           6|       1|      FALSE|   30|    Stamina Elixir|   Potion|   30|   0.8|   Common|\n|Thranduil|  Mirkwood| Archer|   26|      7900|  97.0|    true|          13|       1|       TRUE| 1700|     Lightning Rod|   Weapon|   76|   4.5|   Common|\n|    Eowyn|     Rohan|Warrior|   17|      5200| 112.5|    true|          14|       1|       TRUE| 1800|      Steel Dagger|   Weapon|   65|   2.5|   Common|\n|     null|      null|   null| null|      null|  null|    null|        null|    null|       null| null|   Frostbite Blade|   Weapon|   91|  10.0|     Rare|\n+---------+----------+-------+-----+----------+------+--------+------------+--------+-----------+-----+------------------+---------+-----+------+---------+\nonly showing top 20 rows\n\n"
     ]
    }
   ],
   "source": [
    "df_characters.join(df_inventory, df_characters.id == df_inventory.character_id,\"inner\").join(df_items,df_inventory.item_id == df_items.id,\"outer\").drop(\"id\",\"expiry_date\",\"purchase_date\",\"date_added\",\"last_active\",\"mentor_id\",\"item_id\").show()"
   ]
  },
  {
   "cell_type": "markdown",
   "metadata": {
    "application/vnd.databricks.v1+cell": {
     "cellMetadata": {},
     "inputWidgets": {},
     "nuid": "a25a636c-2ca4-4529-b3b9-a5ccf884e099",
     "showTitle": false,
     "title": ""
    }
   },
   "source": [
    "## Left Outer Join"
   ]
  },
  {
   "cell_type": "code",
   "execution_count": 0,
   "metadata": {
    "application/vnd.databricks.v1+cell": {
     "cellMetadata": {
      "byteLimit": 2048000,
      "rowLimit": 10000
     },
     "inputWidgets": {},
     "nuid": "c272247c-b871-4f42-9dec-6817d9440543",
     "showTitle": false,
     "title": ""
    }
   },
   "outputs": [
    {
     "output_type": "stream",
     "name": "stdout",
     "output_type": "stream",
     "text": [
      "+---------+----------+-------+-----+----------+------+--------+------------+--------+-----------+-----+\n|     name|     guild|  class|level|experience|health|is_alive|character_id|quantity|is_equipped|value|\n+---------+----------+-------+-----+----------+------+--------+------------+--------+-----------+-----+\n|  Aragorn|   Rangers|Warrior|   25|      9000| 120.5|    true|           1|       2|      FALSE|   50|\n|  Aragorn|   Rangers|Warrior|   25|      9000| 120.5|    true|           1|       1|       TRUE| 1500|\n|  Legolas|  Mirkwood| Archer|   22|      7500|100.75|    true|           2|       1|      FALSE|   60|\n|  Legolas|  Mirkwood| Archer|   22|      7500|100.75|    true|           2|       1|       TRUE| 1100|\n|    Gimli|    Erebor|Warrior|   20|      6000|130.25|    true|           3|       1|      FALSE|  200|\n|    Gimli|    Erebor|Warrior|   20|      6000|130.25|    true|           3|       1|       TRUE| 1300|\n|    Frodo| Shirefolk| Hobbit|   12|      2500|  50.5|   false|           4|       2|      FALSE|  150|\n|      Sam| Shirefolk| Hobbit|   13|      2750|  52.5|    true|           5|       1|      FALSE|  160|\n|  Gandalf|    Istari|   Mage|   30|     10000|  90.0|    true|           6|       1|      FALSE|   30|\n|  Gandalf|    Istari|   Mage|   30|     10000|  90.0|    true|           6|       1|       TRUE| 1700|\n|  Boromir|    Gondor|Warrior|   18|      5500| 115.5|   false|           7|       1|      FALSE|   50|\n|  Boromir|    Gondor|Warrior|   18|      5500| 115.5|   false|           7|       1|       TRUE|  700|\n|    Merry| Shirefolk| Hobbit|   11|      2200|  48.5|    true|           8|       1|      FALSE|  800|\n|   Pippin| Shirefolk| Hobbit|   11|      2100|  47.5|    true|           9|       1|       TRUE| 1200|\n|   Sauron|Dark Lords|   Mage|   40|     15000|  85.0|   false|          10|       1|       TRUE| 1300|\n|  Saruman|    Istari|   Mage|   28|      8500|  88.5|   false|          11|       1|       TRUE| 1400|\n|   Elrond| Rivendell|   Mage|   27|      8200|  87.5|    true|          12|       1|      FALSE| 1500|\n|Thranduil|  Mirkwood| Archer|   26|      7900|  97.0|    true|          13|       1|       TRUE| 1700|\n|    Eowyn|     Rohan|Warrior|   17|      5200| 112.5|    true|          14|       1|       TRUE| 1800|\n|  Faramir|    Gondor| Archer|   19|      5700| 118.5|    true|          15|       1|      FALSE| 2000|\n+---------+----------+-------+-----+----------+------+--------+------------+--------+-----------+-----+\n\n"
     ]
    }
   ],
   "source": [
    "#Can be use left, leftouter or left_outer\n",
    "df_characters.join(df_inventory, df_characters.id == df_inventory.character_id,\"left\").drop(\"id\",\"expiry_date\",\"purchase_date\",\"date_added\",\"last_active\",\"mentor_id\",\"item_id\").show()"
   ]
  },
  {
   "cell_type": "markdown",
   "metadata": {
    "application/vnd.databricks.v1+cell": {
     "cellMetadata": {},
     "inputWidgets": {},
     "nuid": "3df5be56-7f24-43ad-b66b-690aa4a46233",
     "showTitle": false,
     "title": ""
    }
   },
   "source": [
    "## Right Outer Join"
   ]
  },
  {
   "cell_type": "code",
   "execution_count": 0,
   "metadata": {
    "application/vnd.databricks.v1+cell": {
     "cellMetadata": {
      "byteLimit": 2048000,
      "rowLimit": 10000
     },
     "inputWidgets": {},
     "nuid": "90965241-d9a0-4d01-ac66-7585bffaca06",
     "showTitle": false,
     "title": ""
    }
   },
   "outputs": [
    {
     "output_type": "stream",
     "name": "stdout",
     "output_type": "stream",
     "text": [
      "+---------+----------+-------+-----+----------+------+--------+------------+--------+-----------+-----+\n|     name|     guild|  class|level|experience|health|is_alive|character_id|quantity|is_equipped|value|\n+---------+----------+-------+-----+----------+------+--------+------------+--------+-----------+-----+\n|  Aragorn|   Rangers|Warrior|   25|      9000| 120.5|    true|           1|       1|       TRUE| 1500|\n|  Aragorn|   Rangers|Warrior|   25|      9000| 120.5|    true|           1|       2|      FALSE|   50|\n|  Legolas|  Mirkwood| Archer|   22|      7500|100.75|    true|           2|       1|       TRUE| 1100|\n|  Legolas|  Mirkwood| Archer|   22|      7500|100.75|    true|           2|       1|      FALSE|   60|\n|    Gimli|    Erebor|Warrior|   20|      6000|130.25|    true|           3|       1|       TRUE| 1300|\n|    Gimli|    Erebor|Warrior|   20|      6000|130.25|    true|           3|       1|      FALSE|  200|\n|    Frodo| Shirefolk| Hobbit|   12|      2500|  50.5|   false|           4|       2|      FALSE|  150|\n|      Sam| Shirefolk| Hobbit|   13|      2750|  52.5|    true|           5|       1|      FALSE|  160|\n|  Gandalf|    Istari|   Mage|   30|     10000|  90.0|    true|           6|       1|       TRUE| 1700|\n|  Gandalf|    Istari|   Mage|   30|     10000|  90.0|    true|           6|       1|      FALSE|   30|\n|  Boromir|    Gondor|Warrior|   18|      5500| 115.5|   false|           7|       1|       TRUE|  700|\n|  Boromir|    Gondor|Warrior|   18|      5500| 115.5|   false|           7|       1|      FALSE|   50|\n|    Merry| Shirefolk| Hobbit|   11|      2200|  48.5|    true|           8|       1|      FALSE|  800|\n|   Pippin| Shirefolk| Hobbit|   11|      2100|  47.5|    true|           9|       1|       TRUE| 1200|\n|   Sauron|Dark Lords|   Mage|   40|     15000|  85.0|   false|          10|       1|       TRUE| 1300|\n|  Saruman|    Istari|   Mage|   28|      8500|  88.5|   false|          11|       1|       TRUE| 1400|\n|   Elrond| Rivendell|   Mage|   27|      8200|  87.5|    true|          12|       1|      FALSE| 1500|\n|Thranduil|  Mirkwood| Archer|   26|      7900|  97.0|    true|          13|       1|       TRUE| 1700|\n|    Eowyn|     Rohan|Warrior|   17|      5200| 112.5|    true|          14|       1|       TRUE| 1800|\n|  Faramir|    Gondor| Archer|   19|      5700| 118.5|    true|          15|       1|      FALSE| 2000|\n+---------+----------+-------+-----+----------+------+--------+------------+--------+-----------+-----+\n\n"
     ]
    }
   ],
   "source": [
    "df_characters.join(df_inventory, df_characters.id == df_inventory.character_id,\"right\").drop(\"id\",\"expiry_date\",\"purchase_date\",\"date_added\",\"last_active\",\"mentor_id\",\"item_id\").show()"
   ]
  },
  {
   "cell_type": "markdown",
   "metadata": {
    "application/vnd.databricks.v1+cell": {
     "cellMetadata": {},
     "inputWidgets": {},
     "nuid": "846a99e1-dda0-424b-979a-533919a26eb4",
     "showTitle": false,
     "title": ""
    }
   },
   "source": [
    "## Left Semi Join"
   ]
  },
  {
   "cell_type": "code",
   "execution_count": 0,
   "metadata": {
    "application/vnd.databricks.v1+cell": {
     "cellMetadata": {
      "byteLimit": 2048000,
      "rowLimit": 10000
     },
     "inputWidgets": {},
     "nuid": "3fded8e6-8f9c-499d-b4cd-f55827aad634",
     "showTitle": false,
     "title": ""
    }
   },
   "outputs": [
    {
     "output_type": "stream",
     "name": "stdout",
     "output_type": "stream",
     "text": [
      "+---+------------+-------+--------+-----------+--------------------+--------------------+-----+\n| id|character_id|item_id|quantity|is_equipped|       purchase_date|         expiry_date|value|\n+---+------------+-------+--------+-----------+--------------------+--------------------+-----+\n|  2|           1|      4|       2|      FALSE|2023-09-12 09:00:...|2023-10-12 09:00:...|   50|\n|  3|           2|      2|       1|       TRUE|2023-09-11 08:30:...|                null| 1100|\n|  5|           3|      3|       1|       TRUE|2023-09-15 08:00:...|                null| 1300|\n|  6|           3|      6|       1|      FALSE|2023-09-16 09:00:...|                null|  200|\n|  7|           4|      9|       2|      FALSE|2023-09-20 08:00:...|2023-10-20 08:00:...|  150|\n|  8|           5|     10|       1|      FALSE|2023-09-21 10:00:...|2023-10-21 10:00:...|  160|\n|  9|           6|     11|       1|       TRUE|2023-09-22 11:00:...|                null| 1700|\n| 10|           6|     16|       1|      FALSE|2023-09-23 09:00:...|2023-10-23 09:00:...|   30|\n| 11|           7|      7|       1|       TRUE|2023-09-18 08:00:...|                null|  700|\n| 12|           7|      4|       1|      FALSE|2023-09-19 09:00:...|2023-10-19 09:00:...|   50|\n| 13|           8|      8|       1|      FALSE|2023-09-20 10:00:...|                null|  800|\n| 14|           9|     12|       1|       TRUE|2023-09-21 11:00:...|                null| 1200|\n| 15|          10|     13|       1|       TRUE|2023-09-22 12:00:...|                null| 1300|\n| 16|          11|     14|       1|       TRUE|2023-09-23 08:00:...|                null| 1400|\n| 17|          12|     15|       1|      FALSE|2023-09-23 09:00:...|                null| 1500|\n| 18|          13|     17|       1|       TRUE|2023-09-23 10:00:...|                null| 1700|\n| 19|          14|     18|       1|       TRUE|2023-09-23 11:00:...|                null| 1800|\n+---+------------+-------+--------+-----------+--------------------+--------------------+-----+\n\n"
     ]
    }
   ],
   "source": [
    "#Can be used semi, left_semi, leftsemi\n",
    "df_inventory.join(df_items,df_inventory.item_id == df_items.id,\"semi\").show(truncate=False)"
   ]
  },
  {
   "cell_type": "markdown",
   "metadata": {
    "application/vnd.databricks.v1+cell": {
     "cellMetadata": {},
     "inputWidgets": {},
     "nuid": "e78b979e-3d1d-4f68-a950-9891573daee2",
     "showTitle": false,
     "title": ""
    }
   },
   "source": [
    "## Right Semi Join"
   ]
  },
  {
   "cell_type": "code",
   "execution_count": 0,
   "metadata": {
    "application/vnd.databricks.v1+cell": {
     "cellMetadata": {
      "byteLimit": 2048000,
      "rowLimit": 10000
     },
     "inputWidgets": {},
     "nuid": "16ae851b-5d89-4af8-8bf1-3292b2e19143",
     "showTitle": false,
     "title": ""
    }
   },
   "outputs": [
    {
     "output_type": "stream",
     "name": "stdout",
     "output_type": "stream",
     "text": [
      "+---+------------+-------+--------+-----------+-----------------------+-----------------------+-----+\n|id |character_id|item_id|quantity|is_equipped|purchase_date          |expiry_date            |value|\n+---+------------+-------+--------+-----------+-----------------------+-----------------------+-----+\n|1  |1           |99     |1       |TRUE       |2023-09-10 08:00:00 UTC|null                   |1500 |\n|4  |2           |101    |1       |FALSE      |2023-09-12 10:00:00 UTC|2023-10-12 10:00:00 UTC|60   |\n|20 |15          |121    |1       |FALSE      |2023-09-24 08:00:00 UTC|null                   |2000 |\n+---+------------+-------+--------+-----------+-----------------------+-----------------------+-----+\n\n"
     ]
    }
   ],
   "source": [
    "#Can be used anti, right_semi, rightsemi\n",
    "df_inventory.join(df_items,df_inventory.item_id == df_items.id,\"anti\").show(truncate=False)"
   ]
  }
 ],
 "metadata": {
  "application/vnd.databricks.v1+notebook": {
   "dashboards": [],
   "environmentMetadata": null,
   "language": "python",
   "notebookMetadata": {
    "pythonIndentUnit": 4
   },
   "notebookName": "Join",
   "widgets": {}
  }
 },
 "nbformat": 4,
 "nbformat_minor": 0
}
