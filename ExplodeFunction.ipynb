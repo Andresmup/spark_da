{
 "cells": [
  {
   "cell_type": "markdown",
   "metadata": {
    "application/vnd.databricks.v1+cell": {
     "cellMetadata": {},
     "inputWidgets": {},
     "nuid": "ffa92369-cbc6-4e86-87df-85416427a831",
     "showTitle": false,
     "title": ""
    }
   },
   "source": [
    "#EXPLODE FUNCTION"
   ]
  },
  {
   "cell_type": "code",
   "execution_count": 0,
   "metadata": {
    "application/vnd.databricks.v1+cell": {
     "cellMetadata": {
      "byteLimit": 2048000,
      "rowLimit": 10000
     },
     "inputWidgets": {},
     "nuid": "a6ca6395-85db-4da0-9103-8e0ba39ca46a",
     "showTitle": false,
     "title": ""
    }
   },
   "outputs": [],
   "source": [
    "from pyspark.sql.functions import explode, explode_outer, posexplode, posexplode_outer"
   ]
  },
  {
   "cell_type": "markdown",
   "metadata": {
    "application/vnd.databricks.v1+cell": {
     "cellMetadata": {},
     "inputWidgets": {},
     "nuid": "e2528e3e-bf23-41d0-8be8-eb852dfdccef",
     "showTitle": false,
     "title": ""
    }
   },
   "source": [
    "##Array"
   ]
  },
  {
   "cell_type": "code",
   "execution_count": 0,
   "metadata": {
    "application/vnd.databricks.v1+cell": {
     "cellMetadata": {
      "byteLimit": 2048000,
      "rowLimit": 10000
     },
     "inputWidgets": {},
     "nuid": "8884d9a2-d3b5-4817-a799-06f93b746afe",
     "showTitle": false,
     "title": ""
    }
   },
   "outputs": [],
   "source": [
    "array_fantasy = [\n",
    "    (\"Aragorn\", [\"Sword\", \"Shield\", \"Ring\"]),\n",
    "    (\"Gandalf\", [\"Staff\", \"Hat\", \"Cloak\"]),\n",
    "    (\"Legolas\", [\"Bow\", \"Arrows\", \"Dagger\"]),\n",
    "    (\"Frodo\", [\"Ring\", \"Short sword\", \"Cloak\"]),\n",
    "    (\"Gimli\", [\"Axe\", \"Helmet\", \"Shield\"]),\n",
    "    (\"Saruman\", [\"Staff\", \"Ring\", \"Magic crystal\"]),\n",
    "    (\"Bilbo\", None)\n",
    "]\n",
    "\n",
    "schema_fantasy = \"name STRING, items ARRAY<STRING>\""
   ]
  },
  {
   "cell_type": "code",
   "execution_count": 0,
   "metadata": {
    "application/vnd.databricks.v1+cell": {
     "cellMetadata": {
      "byteLimit": 2048000,
      "rowLimit": 10000
     },
     "inputWidgets": {},
     "nuid": "515b100d-3ea8-447a-948e-77763dade891",
     "showTitle": false,
     "title": ""
    }
   },
   "outputs": [],
   "source": [
    "df_fantasy_array = spark.createDataFrame(data=array_fantasy, schema=schema_fantasy)"
   ]
  },
  {
   "cell_type": "code",
   "execution_count": 0,
   "metadata": {
    "application/vnd.databricks.v1+cell": {
     "cellMetadata": {
      "byteLimit": 2048000,
      "rowLimit": 10000
     },
     "inputWidgets": {},
     "nuid": "febcae5c-949b-47c3-ae08-6dfdd3baecea",
     "showTitle": false,
     "title": ""
    }
   },
   "outputs": [
    {
     "output_type": "stream",
     "name": "stdout",
     "output_type": "stream",
     "text": [
      "+-------+--------------------+\n|   name|               items|\n+-------+--------------------+\n|Aragorn|[Sword, Shield, R...|\n|Gandalf| [Staff, Hat, Cloak]|\n|Legolas|[Bow, Arrows, Dag...|\n|  Frodo|[Ring, Short swor...|\n|  Gimli|[Axe, Helmet, Shi...|\n|Saruman|[Staff, Ring, Mag...|\n|  Bilbo|                null|\n+-------+--------------------+\n\n"
     ]
    }
   ],
   "source": [
    "df_fantasy_array.show()"
   ]
  },
  {
   "cell_type": "code",
   "execution_count": 0,
   "metadata": {
    "application/vnd.databricks.v1+cell": {
     "cellMetadata": {
      "byteLimit": 2048000,
      "rowLimit": 10000
     },
     "inputWidgets": {},
     "nuid": "12158441-23db-4f6c-b318-e29786a9fd3c",
     "showTitle": false,
     "title": ""
    }
   },
   "outputs": [
    {
     "output_type": "stream",
     "name": "stdout",
     "output_type": "stream",
     "text": [
      "root\n |-- name: string (nullable = true)\n |-- items: array (nullable = true)\n |    |-- element: string (containsNull = true)\n\n"
     ]
    }
   ],
   "source": [
    "df_fantasy_array.printSchema()"
   ]
  },
  {
   "cell_type": "markdown",
   "metadata": {
    "application/vnd.databricks.v1+cell": {
     "cellMetadata": {},
     "inputWidgets": {},
     "nuid": "6d30eae8-244a-4342-af0c-a44d4752d995",
     "showTitle": false,
     "title": ""
    }
   },
   "source": [
    "## Explode Array Field"
   ]
  },
  {
   "cell_type": "code",
   "execution_count": 0,
   "metadata": {
    "application/vnd.databricks.v1+cell": {
     "cellMetadata": {
      "byteLimit": 2048000,
      "rowLimit": 10000
     },
     "inputWidgets": {},
     "nuid": "e4f2d8da-c34b-4ae4-a3b9-97a579c8cacb",
     "showTitle": false,
     "title": ""
    }
   },
   "outputs": [
    {
     "output_type": "stream",
     "name": "stdout",
     "output_type": "stream",
     "text": [
      "+-------+-------------+\n|   name|          col|\n+-------+-------------+\n|Aragorn|        Sword|\n|Aragorn|       Shield|\n|Aragorn|         Ring|\n|Gandalf|        Staff|\n|Gandalf|          Hat|\n|Gandalf|        Cloak|\n|Legolas|          Bow|\n|Legolas|       Arrows|\n|Legolas|       Dagger|\n|  Frodo|         Ring|\n|  Frodo|  Short sword|\n|  Frodo|        Cloak|\n|  Gimli|          Axe|\n|  Gimli|       Helmet|\n|  Gimli|       Shield|\n|Saruman|        Staff|\n|Saruman|         Ring|\n|Saruman|Magic crystal|\n+-------+-------------+\n\n"
     ]
    }
   ],
   "source": [
    "df_explode_array = df_fantasy_array.select(df_fantasy_array.name, explode(df_fantasy_array.items))\n",
    "\n",
    "df_explode_array.show()"
   ]
  },
  {
   "cell_type": "code",
   "execution_count": 0,
   "metadata": {
    "application/vnd.databricks.v1+cell": {
     "cellMetadata": {
      "byteLimit": 2048000,
      "rowLimit": 10000
     },
     "inputWidgets": {},
     "nuid": "7c77350b-c599-4028-999a-9aa02ac21183",
     "showTitle": false,
     "title": ""
    }
   },
   "outputs": [
    {
     "output_type": "stream",
     "name": "stdout",
     "output_type": "stream",
     "text": [
      "root\n |-- name: string (nullable = true)\n |-- col: string (nullable = true)\n\n"
     ]
    }
   ],
   "source": [
    "df_explode_array.printSchema()"
   ]
  },
  {
   "cell_type": "markdown",
   "metadata": {
    "application/vnd.databricks.v1+cell": {
     "cellMetadata": {},
     "inputWidgets": {},
     "nuid": "49ef8933-000e-4bd9-afcb-045bfa951215",
     "showTitle": false,
     "title": ""
    }
   },
   "source": [
    "## Explode Outer Array Field"
   ]
  },
  {
   "cell_type": "code",
   "execution_count": 0,
   "metadata": {
    "application/vnd.databricks.v1+cell": {
     "cellMetadata": {
      "byteLimit": 2048000,
      "rowLimit": 10000
     },
     "inputWidgets": {},
     "nuid": "410a7da5-4241-4cb3-b85e-7029df5a35b8",
     "showTitle": false,
     "title": ""
    }
   },
   "outputs": [
    {
     "output_type": "stream",
     "name": "stdout",
     "output_type": "stream",
     "text": [
      "+-------+-------------+\n|   name|          col|\n+-------+-------------+\n|Aragorn|        Sword|\n|Aragorn|       Shield|\n|Aragorn|         Ring|\n|Gandalf|        Staff|\n|Gandalf|          Hat|\n|Gandalf|        Cloak|\n|Legolas|          Bow|\n|Legolas|       Arrows|\n|Legolas|       Dagger|\n|  Frodo|         Ring|\n|  Frodo|  Short sword|\n|  Frodo|        Cloak|\n|  Gimli|          Axe|\n|  Gimli|       Helmet|\n|  Gimli|       Shield|\n|Saruman|        Staff|\n|Saruman|         Ring|\n|Saruman|Magic crystal|\n|  Bilbo|         null|\n+-------+-------------+\n\n"
     ]
    }
   ],
   "source": [
    "df_explode_outer_array = df_fantasy_array.select(df_fantasy_array.name, explode_outer(df_fantasy_array.items))\n",
    "\n",
    "df_explode_outer_array.show()"
   ]
  },
  {
   "cell_type": "markdown",
   "metadata": {
    "application/vnd.databricks.v1+cell": {
     "cellMetadata": {},
     "inputWidgets": {},
     "nuid": "49f4bd7b-5d36-4ba0-855f-29d2d9105636",
     "showTitle": false,
     "title": ""
    }
   },
   "source": [
    "## PosExplode Array Field"
   ]
  },
  {
   "cell_type": "code",
   "execution_count": 0,
   "metadata": {
    "application/vnd.databricks.v1+cell": {
     "cellMetadata": {
      "byteLimit": 2048000,
      "rowLimit": 10000
     },
     "inputWidgets": {},
     "nuid": "55ca20c1-c0a9-4b83-a7eb-5f1ca033ebe1",
     "showTitle": false,
     "title": ""
    }
   },
   "outputs": [
    {
     "output_type": "stream",
     "name": "stdout",
     "output_type": "stream",
     "text": [
      "+-------+---+-------------+\n|   name|pos|          col|\n+-------+---+-------------+\n|Aragorn|  0|        Sword|\n|Aragorn|  1|       Shield|\n|Aragorn|  2|         Ring|\n|Gandalf|  0|        Staff|\n|Gandalf|  1|          Hat|\n|Gandalf|  2|        Cloak|\n|Legolas|  0|          Bow|\n|Legolas|  1|       Arrows|\n|Legolas|  2|       Dagger|\n|  Frodo|  0|         Ring|\n|  Frodo|  1|  Short sword|\n|  Frodo|  2|        Cloak|\n|  Gimli|  0|          Axe|\n|  Gimli|  1|       Helmet|\n|  Gimli|  2|       Shield|\n|Saruman|  0|        Staff|\n|Saruman|  1|         Ring|\n|Saruman|  2|Magic crystal|\n+-------+---+-------------+\n\n"
     ]
    }
   ],
   "source": [
    "df_posexplode_array = df_fantasy_array.select(df_fantasy_array.name, posexplode(df_fantasy_array.items))\n",
    "\n",
    "df_posexplode_array.show()"
   ]
  },
  {
   "cell_type": "markdown",
   "metadata": {
    "application/vnd.databricks.v1+cell": {
     "cellMetadata": {},
     "inputWidgets": {},
     "nuid": "7e317419-9ae4-463c-b151-da603c43d35d",
     "showTitle": false,
     "title": ""
    }
   },
   "source": [
    "## PosExplode Outer Array Field"
   ]
  },
  {
   "cell_type": "code",
   "execution_count": 0,
   "metadata": {
    "application/vnd.databricks.v1+cell": {
     "cellMetadata": {
      "byteLimit": 2048000,
      "rowLimit": 10000
     },
     "inputWidgets": {},
     "nuid": "1eea8c40-0107-4495-ba68-7f5c1007995b",
     "showTitle": false,
     "title": ""
    }
   },
   "outputs": [
    {
     "output_type": "stream",
     "name": "stdout",
     "output_type": "stream",
     "text": [
      "+-------+----+-------------+\n|   name| pos|          col|\n+-------+----+-------------+\n|Aragorn|   0|        Sword|\n|Aragorn|   1|       Shield|\n|Aragorn|   2|         Ring|\n|Gandalf|   0|        Staff|\n|Gandalf|   1|          Hat|\n|Gandalf|   2|        Cloak|\n|Legolas|   0|          Bow|\n|Legolas|   1|       Arrows|\n|Legolas|   2|       Dagger|\n|  Frodo|   0|         Ring|\n|  Frodo|   1|  Short sword|\n|  Frodo|   2|        Cloak|\n|  Gimli|   0|          Axe|\n|  Gimli|   1|       Helmet|\n|  Gimli|   2|       Shield|\n|Saruman|   0|        Staff|\n|Saruman|   1|         Ring|\n|Saruman|   2|Magic crystal|\n|  Bilbo|null|         null|\n+-------+----+-------------+\n\n"
     ]
    }
   ],
   "source": [
    "df_posexplode_outer_array = df_fantasy_array.select(df_fantasy_array.name, posexplode_outer(df_fantasy_array.items))\n",
    "\n",
    "df_posexplode_outer_array.show()"
   ]
  },
  {
   "cell_type": "code",
   "execution_count": 0,
   "metadata": {
    "application/vnd.databricks.v1+cell": {
     "cellMetadata": {
      "byteLimit": 2048000,
      "rowLimit": 10000
     },
     "inputWidgets": {},
     "nuid": "fa4dd7fe-ddc8-46bb-99aa-ef1da1a77802",
     "showTitle": false,
     "title": ""
    }
   },
   "outputs": [],
   "source": [
    "map_fantasy = [\n",
    "    (\"Aragorn\", {\"Weapon\": \"\", \"Defense\": \"Shield\", \"Accessory\": \"Ring\"}),\n",
    "    (\"Gandalf\", {\"Weapon\": \"Staff\", \"Headgear\": \"Hat\", \"Clothing\": \"Cloak\"}),\n",
    "    (\"Legolas\", {\"Weapon\": \"Bow\", \"Ammunition\": \"Arrows\", \"Weapon2\": \"Dagger\"}),\n",
    "    (\"Frodo\", {\"Accessory\": \"Ring\", \"Weapon\": \"Short sword\", \"Clothing\": \"\"}),\n",
    "    (\"Gimli\", {\"Weapon\": \"Axe\", \"Headgear\": \"Helmet\", \"Defense\":\"\"}),\n",
    "    (\"Saruman\", {\"Weapon\": \"Staff\", \"Accessory\": \"Ring\", \"MagicItem\": \"Magic crystal\"}),\n",
    "    (\"Bilbo\", None)\n",
    "]\n",
    "\n",
    "schema_map_fantasy = \"name STRING, inventory MAP<STRING, STRING>\""
   ]
  },
  {
   "cell_type": "code",
   "execution_count": 0,
   "metadata": {
    "application/vnd.databricks.v1+cell": {
     "cellMetadata": {
      "byteLimit": 2048000,
      "rowLimit": 10000
     },
     "inputWidgets": {},
     "nuid": "ec7ca4d0-6644-408a-947e-c1e277ed66e2",
     "showTitle": false,
     "title": ""
    }
   },
   "outputs": [],
   "source": [
    "df_fantasy_map = spark.createDataFrame(data=map_fantasy, schema=schema_map_fantasy)"
   ]
  },
  {
   "cell_type": "code",
   "execution_count": 0,
   "metadata": {
    "application/vnd.databricks.v1+cell": {
     "cellMetadata": {
      "byteLimit": 2048000,
      "rowLimit": 10000
     },
     "inputWidgets": {},
     "nuid": "2d750656-4684-4d0f-9599-4ab49aed011b",
     "showTitle": false,
     "title": ""
    }
   },
   "outputs": [
    {
     "output_type": "stream",
     "name": "stdout",
     "output_type": "stream",
     "text": [
      "+-------+----------------------------------------------------------------+\n|name   |inventory                                                       |\n+-------+----------------------------------------------------------------+\n|Aragorn|{Accessory -> Ring, Defense -> Shield, Weapon -> }              |\n|Gandalf|{Clothing -> Cloak, Headgear -> Hat, Weapon -> Staff}           |\n|Legolas|{Weapon2 -> Dagger, Ammunition -> Arrows, Weapon -> Bow}        |\n|Frodo  |{Accessory -> Ring, Clothing -> , Weapon -> Short sword}        |\n|Gimli  |{Defense -> , Headgear -> Helmet, Weapon -> Axe}                |\n|Saruman|{Accessory -> Ring, MagicItem -> Magic crystal, Weapon -> Staff}|\n|Bilbo  |null                                                            |\n+-------+----------------------------------------------------------------+\n\n"
     ]
    }
   ],
   "source": [
    "df_fantasy_map.show(truncate=False)"
   ]
  },
  {
   "cell_type": "code",
   "execution_count": 0,
   "metadata": {
    "application/vnd.databricks.v1+cell": {
     "cellMetadata": {
      "byteLimit": 2048000,
      "rowLimit": 10000
     },
     "inputWidgets": {},
     "nuid": "acbbcde0-1134-4ee1-9b34-27fa52ab247b",
     "showTitle": false,
     "title": ""
    }
   },
   "outputs": [
    {
     "output_type": "stream",
     "name": "stdout",
     "output_type": "stream",
     "text": [
      "root\n |-- name: string (nullable = true)\n |-- inventory: map (nullable = true)\n |    |-- key: string\n |    |-- value: string (valueContainsNull = true)\n\n"
     ]
    }
   ],
   "source": [
    "df_fantasy_map.printSchema()"
   ]
  },
  {
   "cell_type": "markdown",
   "metadata": {
    "application/vnd.databricks.v1+cell": {
     "cellMetadata": {},
     "inputWidgets": {},
     "nuid": "bcdc80fa-c503-46ac-b466-11992db59ff1",
     "showTitle": false,
     "title": ""
    }
   },
   "source": [
    "## Explode Map Field"
   ]
  },
  {
   "cell_type": "code",
   "execution_count": 0,
   "metadata": {
    "application/vnd.databricks.v1+cell": {
     "cellMetadata": {
      "byteLimit": 2048000,
      "rowLimit": 10000
     },
     "inputWidgets": {},
     "nuid": "c0359568-7df8-454b-bf74-3f0d564b55bb",
     "showTitle": false,
     "title": ""
    }
   },
   "outputs": [
    {
     "output_type": "stream",
     "name": "stdout",
     "output_type": "stream",
     "text": [
      "+-------+----------+-------------+\n|   name|       key|        value|\n+-------+----------+-------------+\n|Aragorn| Accessory|         Ring|\n|Aragorn|   Defense|       Shield|\n|Aragorn|    Weapon|             |\n|Gandalf|  Clothing|        Cloak|\n|Gandalf|  Headgear|          Hat|\n|Gandalf|    Weapon|        Staff|\n|Legolas|   Weapon2|       Dagger|\n|Legolas|Ammunition|       Arrows|\n|Legolas|    Weapon|          Bow|\n|  Frodo| Accessory|         Ring|\n|  Frodo|  Clothing|             |\n|  Frodo|    Weapon|  Short sword|\n|  Gimli|   Defense|             |\n|  Gimli|  Headgear|       Helmet|\n|  Gimli|    Weapon|          Axe|\n|Saruman| Accessory|         Ring|\n|Saruman| MagicItem|Magic crystal|\n|Saruman|    Weapon|        Staff|\n+-------+----------+-------------+\n\n"
     ]
    }
   ],
   "source": [
    "df_explode_map = df_fantasy_map.select(df_fantasy_map.name, explode(df_fantasy_map.inventory))\n",
    "\n",
    "df_explode_map.show()"
   ]
  },
  {
   "cell_type": "code",
   "execution_count": 0,
   "metadata": {
    "application/vnd.databricks.v1+cell": {
     "cellMetadata": {
      "byteLimit": 2048000,
      "rowLimit": 10000
     },
     "inputWidgets": {},
     "nuid": "3174504d-bae8-4451-8fd9-826e7d91eb23",
     "showTitle": false,
     "title": ""
    }
   },
   "outputs": [
    {
     "output_type": "stream",
     "name": "stdout",
     "output_type": "stream",
     "text": [
      "root\n |-- name: string (nullable = true)\n |-- key: string (nullable = false)\n |-- value: string (nullable = true)\n\n"
     ]
    }
   ],
   "source": [
    "df_explode_map.printSchema()"
   ]
  },
  {
   "cell_type": "markdown",
   "metadata": {
    "application/vnd.databricks.v1+cell": {
     "cellMetadata": {},
     "inputWidgets": {},
     "nuid": "8d292b99-e8cf-4ac7-90d3-ab3d7a4753ef",
     "showTitle": false,
     "title": ""
    }
   },
   "source": [
    "## Explode Outer Map Field"
   ]
  },
  {
   "cell_type": "code",
   "execution_count": 0,
   "metadata": {
    "application/vnd.databricks.v1+cell": {
     "cellMetadata": {
      "byteLimit": 2048000,
      "rowLimit": 10000
     },
     "inputWidgets": {},
     "nuid": "8b6fb099-7948-482f-b403-03c4bb4d454c",
     "showTitle": false,
     "title": ""
    }
   },
   "outputs": [
    {
     "output_type": "stream",
     "name": "stdout",
     "output_type": "stream",
     "text": [
      "+-------+----------+-------------+\n|   name|       key|        value|\n+-------+----------+-------------+\n|Aragorn| Accessory|         Ring|\n|Aragorn|   Defense|       Shield|\n|Aragorn|    Weapon|             |\n|Gandalf|  Clothing|        Cloak|\n|Gandalf|  Headgear|          Hat|\n|Gandalf|    Weapon|        Staff|\n|Legolas|   Weapon2|       Dagger|\n|Legolas|Ammunition|       Arrows|\n|Legolas|    Weapon|          Bow|\n|  Frodo| Accessory|         Ring|\n|  Frodo|  Clothing|             |\n|  Frodo|    Weapon|  Short sword|\n|  Gimli|   Defense|             |\n|  Gimli|  Headgear|       Helmet|\n|  Gimli|    Weapon|          Axe|\n|Saruman| Accessory|         Ring|\n|Saruman| MagicItem|Magic crystal|\n|Saruman|    Weapon|        Staff|\n|  Bilbo|      null|         null|\n+-------+----------+-------------+\n\n"
     ]
    }
   ],
   "source": [
    "df_explode_outer_map = df_fantasy_map.select(df_fantasy_map.name, explode_outer(df_fantasy_map.inventory))\n",
    "\n",
    "df_explode_outer_map.show()"
   ]
  },
  {
   "cell_type": "markdown",
   "metadata": {
    "application/vnd.databricks.v1+cell": {
     "cellMetadata": {},
     "inputWidgets": {},
     "nuid": "55124e5c-bc3b-4921-b6e3-e8fa09f30747",
     "showTitle": false,
     "title": ""
    }
   },
   "source": [
    "## PosExplode Map Field"
   ]
  },
  {
   "cell_type": "code",
   "execution_count": 0,
   "metadata": {
    "application/vnd.databricks.v1+cell": {
     "cellMetadata": {
      "byteLimit": 2048000,
      "rowLimit": 10000
     },
     "inputWidgets": {},
     "nuid": "bea0e9a7-20df-403c-9052-8860bf927455",
     "showTitle": false,
     "title": ""
    }
   },
   "outputs": [
    {
     "output_type": "stream",
     "name": "stdout",
     "output_type": "stream",
     "text": [
      "+-------+---+----------+-------------+\n|   name|pos|       key|        value|\n+-------+---+----------+-------------+\n|Aragorn|  0| Accessory|         Ring|\n|Aragorn|  1|   Defense|       Shield|\n|Aragorn|  2|    Weapon|             |\n|Gandalf|  0|  Clothing|        Cloak|\n|Gandalf|  1|  Headgear|          Hat|\n|Gandalf|  2|    Weapon|        Staff|\n|Legolas|  0|   Weapon2|       Dagger|\n|Legolas|  1|Ammunition|       Arrows|\n|Legolas|  2|    Weapon|          Bow|\n|  Frodo|  0| Accessory|         Ring|\n|  Frodo|  1|  Clothing|             |\n|  Frodo|  2|    Weapon|  Short sword|\n|  Gimli|  0|   Defense|             |\n|  Gimli|  1|  Headgear|       Helmet|\n|  Gimli|  2|    Weapon|          Axe|\n|Saruman|  0| Accessory|         Ring|\n|Saruman|  1| MagicItem|Magic crystal|\n|Saruman|  2|    Weapon|        Staff|\n+-------+---+----------+-------------+\n\n"
     ]
    }
   ],
   "source": [
    "df_posexplode_map = df_fantasy_map.select(df_fantasy_map.name, posexplode(df_fantasy_map.inventory))\n",
    "\n",
    "df_posexplode_map.show()"
   ]
  },
  {
   "cell_type": "markdown",
   "metadata": {
    "application/vnd.databricks.v1+cell": {
     "cellMetadata": {},
     "inputWidgets": {},
     "nuid": "a59c4df6-b47f-4ce5-83cb-8cd88839d146",
     "showTitle": false,
     "title": ""
    }
   },
   "source": [
    "## PosExplode Outer Map Field"
   ]
  },
  {
   "cell_type": "code",
   "execution_count": 0,
   "metadata": {
    "application/vnd.databricks.v1+cell": {
     "cellMetadata": {
      "byteLimit": 2048000,
      "rowLimit": 10000
     },
     "inputWidgets": {},
     "nuid": "82153716-eb5b-4922-8101-865435444e97",
     "showTitle": false,
     "title": ""
    }
   },
   "outputs": [
    {
     "output_type": "stream",
     "name": "stdout",
     "output_type": "stream",
     "text": [
      "+-------+----+----------+-------------+\n|   name| pos|       key|        value|\n+-------+----+----------+-------------+\n|Aragorn|   0| Accessory|         Ring|\n|Aragorn|   1|   Defense|       Shield|\n|Aragorn|   2|    Weapon|             |\n|Gandalf|   0|  Clothing|        Cloak|\n|Gandalf|   1|  Headgear|          Hat|\n|Gandalf|   2|    Weapon|        Staff|\n|Legolas|   0|   Weapon2|       Dagger|\n|Legolas|   1|Ammunition|       Arrows|\n|Legolas|   2|    Weapon|          Bow|\n|  Frodo|   0| Accessory|         Ring|\n|  Frodo|   1|  Clothing|             |\n|  Frodo|   2|    Weapon|  Short sword|\n|  Gimli|   0|   Defense|             |\n|  Gimli|   1|  Headgear|       Helmet|\n|  Gimli|   2|    Weapon|          Axe|\n|Saruman|   0| Accessory|         Ring|\n|Saruman|   1| MagicItem|Magic crystal|\n|Saruman|   2|    Weapon|        Staff|\n|  Bilbo|null|      null|         null|\n+-------+----+----------+-------------+\n\n"
     ]
    }
   ],
   "source": [
    "df_posexplode_outer_map = df_fantasy_map.select(df_fantasy_map.name, posexplode_outer(df_fantasy_map.inventory))\n",
    "\n",
    "df_posexplode_outer_map.show()"
   ]
  }
 ],
 "metadata": {
  "application/vnd.databricks.v1+notebook": {
   "dashboards": [],
   "environmentMetadata": null,
   "language": "python",
   "notebookMetadata": {
    "pythonIndentUnit": 4
   },
   "notebookName": "ExplodeFunction",
   "widgets": {}
  }
 },
 "nbformat": 4,
 "nbformat_minor": 0
}
