{
 "cells": [
  {
   "cell_type": "code",
   "execution_count": 1,
   "id": "d5e0f2fa-2a76-4098-8839-17d9a14d38cf",
   "metadata": {},
   "outputs": [],
   "source": [
    "import findspark\n",
    "findspark.init()"
   ]
  },
  {
   "cell_type": "code",
   "execution_count": 2,
   "id": "819b8bc1-2b44-4ba7-94a8-245dcde9f6ee",
   "metadata": {},
   "outputs": [
    {
     "name": "stderr",
     "output_type": "stream",
     "text": [
      "Setting default log level to \"WARN\".\n",
      "To adjust logging level use sc.setLogLevel(newLevel). For SparkR, use setLogLevel(newLevel).\n",
      "24/09/01 02:38:57 WARN NativeCodeLoader: Unable to load native-hadoop library for your platform... using builtin-java classes where applicable\n"
     ]
    }
   ],
   "source": [
    "from pyspark.sql import SparkSession\n",
    "spark = SparkSession.builder.getOrCreate()"
   ]
  },
  {
   "cell_type": "code",
   "execution_count": 3,
   "id": "78373d5c-f087-46cb-9fd5-a40faf08db10",
   "metadata": {},
   "outputs": [],
   "source": [
    "data_employee = [\n",
    "    (1, \"Andrew\", \"James\", \"1987-12-25\", True, 140000, \"model\", 6, \"Fashion\", \"2021-05-10\"),\n",
    "    (2, \"Linda\", \"Scott\", \"1990-05-14\", False, 95000, \"engineer\", 7, \"Engineering\", \"2023-03-22\"),\n",
    "    (3, \"Michael\", \"Brown\", \"1985-11-07\", True, 120000, \"teacher\", 1, \"Education\", \"2020-11-19\"),\n",
    "    (4, \"Jessica\", \"Wilson\", \"1992-03-22\", False, 75000, \"designer\", 6, \"Design\", \"2019-08-15\"),\n",
    "    (5, \"John\", \"Davis\", \"1980-08-19\", True, 160000, \"lawyer\", 1, \"Law\", \"2022-09-30\"),\n",
    "    (6, \"Emily\", \"Clark\", \"1995-02-10\", False, 98000, \"architect\", 8, \"Architecture\", \"2024-01-12\"),\n",
    "    (7, \"David\", \"Evans\", \"1983-07-15\", True, 130000, \"doctor\", 9, \"Healthcare\", \"2023-06-05\"),\n",
    "    (8, \"Sophia\", \"Harris\", \"1988-11-30\", False, 110000, \"nurse\", 7, \"Healthcare\", \"2020-02-18\"),\n",
    "    (9, \"Daniel\", \"Martinez\", \"1991-06-01\", True, 145000, \"consultant\", 1, \"Consulting\", \"2021-12-14\"),\n",
    "    (10, \"Olivia\", \"Thompson\", \"1986-09-12\", False, 102000, \"scientist\", 8, \"Research\", \"2022-07-23\"),\n",
    "    (11, \"Grace\", \"Morgan\", \"1984-05-18\", True, 135000, \"lawyer\", 2, \"Law\", \"2020-03-01\"),\n",
    "    (12, \"Henry\", \"Turner\", \"1993-11-29\", False, 92000, \"engineer\", 7, \"Engineering\", \"2023-05-21\"),\n",
    "    (13, \"Isabella\", \"Phillips\", \"1982-07-09\", True, 125000, \"teacher\", 8, \"Education\", \"2024-04-11\"),\n",
    "    (14, \"Jack\", \"Mitchell\", \"1990-10-16\", False, 80000, \"designer\", 6, \"Design\", \"2019-12-20\"),\n",
    "    (15, \"Karen\", \"Parker\", \"1987-01-27\", True, 155000, \"lawyer\", 10, \"Law\", \"2022-10-05\"),\n",
    "    (16, \"Leo\", \"Nelson\", \"1994-02-03\", False, 98000, \"architect\", 3, \"Architecture\", \"2021-07-08\"),\n",
    "    (17, \"Mia\", \"Baker\", \"1981-09-30\", True, 140000, \"doctor\", 3, \"Healthcare\", \"2020-06-14\"),\n",
    "    (18, \"Nathan\", \"Gonzalez\", \"1992-11-02\", False, 115000, \"nurse\", 4, \"Healthcare\", \"2023-02-25\"),\n",
    "    (19, \"Olivia\", \"Hall\", \"1986-03-11\", True, 150000, \"consultant\", 5, \"Consulting\", \"2019-09-19\"),\n",
    "    (20, \"Paul\", \"Rodriguez\", \"1990-08-20\", False, 105000, \"scientist\", 8, \"Research\", \"2021-11-30\")\n",
    "]\n",
    "\n",
    "schema_employee = \"id INTEGER, first_name STRING, last_name STRING, date_of_birth STRING, bonus BOOLEAN, salary INTEGER, title STRING, experience INTEGER, dept STRING, join_date STRING\""
   ]
  },
  {
   "cell_type": "code",
   "execution_count": 4,
   "id": "58788fc8-6467-4dea-a173-6bd3892e03e1",
   "metadata": {},
   "outputs": [
    {
     "name": "stderr",
     "output_type": "stream",
     "text": [
      "                                                                                \r"
     ]
    },
    {
     "name": "stdout",
     "output_type": "stream",
     "text": [
      "+---+----------+---------+-------------+-----+------+----------+----------+------------+----------+\n",
      "|id |first_name|last_name|date_of_birth|bonus|salary|title     |experience|dept        |join_date |\n",
      "+---+----------+---------+-------------+-----+------+----------+----------+------------+----------+\n",
      "|1  |Andrew    |James    |1987-12-25   |true |140000|model     |6         |Fashion     |2021-05-10|\n",
      "|2  |Linda     |Scott    |1990-05-14   |false|95000 |engineer  |7         |Engineering |2023-03-22|\n",
      "|3  |Michael   |Brown    |1985-11-07   |true |120000|teacher   |1         |Education   |2020-11-19|\n",
      "|4  |Jessica   |Wilson   |1992-03-22   |false|75000 |designer  |6         |Design      |2019-08-15|\n",
      "|5  |John      |Davis    |1980-08-19   |true |160000|lawyer    |1         |Law         |2022-09-30|\n",
      "|6  |Emily     |Clark    |1995-02-10   |false|98000 |architect |8         |Architecture|2024-01-12|\n",
      "|7  |David     |Evans    |1983-07-15   |true |130000|doctor    |9         |Healthcare  |2023-06-05|\n",
      "|8  |Sophia    |Harris   |1988-11-30   |false|110000|nurse     |7         |Healthcare  |2020-02-18|\n",
      "|9  |Daniel    |Martinez |1991-06-01   |true |145000|consultant|1         |Consulting  |2021-12-14|\n",
      "|10 |Olivia    |Thompson |1986-09-12   |false|102000|scientist |8         |Research    |2022-07-23|\n",
      "|11 |Grace     |Morgan   |1984-05-18   |true |135000|lawyer    |2         |Law         |2020-03-01|\n",
      "|12 |Henry     |Turner   |1993-11-29   |false|92000 |engineer  |7         |Engineering |2023-05-21|\n",
      "|13 |Isabella  |Phillips |1982-07-09   |true |125000|teacher   |8         |Education   |2024-04-11|\n",
      "|14 |Jack      |Mitchell |1990-10-16   |false|80000 |designer  |6         |Design      |2019-12-20|\n",
      "|15 |Karen     |Parker   |1987-01-27   |true |155000|lawyer    |10        |Law         |2022-10-05|\n",
      "|16 |Leo       |Nelson   |1994-02-03   |false|98000 |architect |3         |Architecture|2021-07-08|\n",
      "|17 |Mia       |Baker    |1981-09-30   |true |140000|doctor    |3         |Healthcare  |2020-06-14|\n",
      "|18 |Nathan    |Gonzalez |1992-11-02   |false|115000|nurse     |4         |Healthcare  |2023-02-25|\n",
      "|19 |Olivia    |Hall     |1986-03-11   |true |150000|consultant|5         |Consulting  |2019-09-19|\n",
      "|20 |Paul      |Rodriguez|1990-08-20   |false|105000|scientist |8         |Research    |2021-11-30|\n",
      "+---+----------+---------+-------------+-----+------+----------+----------+------------+----------+\n",
      "\n"
     ]
    }
   ],
   "source": [
    "df_employee = spark.createDataFrame(data=data_employee,schema=schema_employee)\n",
    "\n",
    "df_employee.show(truncate=False)"
   ]
  },
  {
   "cell_type": "markdown",
   "id": "03e1c609-7f03-40eb-b13f-dd318835359c",
   "metadata": {},
   "source": [
    "## Transformation"
   ]
  },
  {
   "cell_type": "code",
   "execution_count": 5,
   "id": "deb35424-e37f-4b7b-bb76-c6c2fb5e8674",
   "metadata": {},
   "outputs": [],
   "source": [
    "from pyspark.sql.functions import col, when, to_date, concat_ws"
   ]
  },
  {
   "cell_type": "code",
   "execution_count": 6,
   "id": "55d4a855-49b5-46a0-a963-2773c70ec280",
   "metadata": {},
   "outputs": [],
   "source": [
    "def example_trasformation(df, percentaje):\n",
    "    return df.withColumn(\"extra_pay\", \n",
    "                         when(col(\"bonus\") == True, col(\"salary\")*percentaje)\n",
    "                         .otherwise(0))"
   ]
  },
  {
   "cell_type": "code",
   "execution_count": 7,
   "id": "2849d4af-0e05-4f10-87cc-f7f6eb591698",
   "metadata": {},
   "outputs": [
    {
     "name": "stdout",
     "output_type": "stream",
     "text": [
      "+---+----------+---------+-------------+-----+------+----------+----------+------------+----------+---------+\n",
      "| id|first_name|last_name|date_of_birth|bonus|salary|     title|experience|        dept| join_date|extra_pay|\n",
      "+---+----------+---------+-------------+-----+------+----------+----------+------------+----------+---------+\n",
      "|  1|    Andrew|    James|   1987-12-25| true|140000|     model|         6|     Fashion|2021-05-10|  14000.0|\n",
      "|  2|     Linda|    Scott|   1990-05-14|false| 95000|  engineer|         7| Engineering|2023-03-22|      0.0|\n",
      "|  3|   Michael|    Brown|   1985-11-07| true|120000|   teacher|         1|   Education|2020-11-19|  12000.0|\n",
      "|  4|   Jessica|   Wilson|   1992-03-22|false| 75000|  designer|         6|      Design|2019-08-15|      0.0|\n",
      "|  5|      John|    Davis|   1980-08-19| true|160000|    lawyer|         1|         Law|2022-09-30|  16000.0|\n",
      "|  6|     Emily|    Clark|   1995-02-10|false| 98000| architect|         8|Architecture|2024-01-12|      0.0|\n",
      "|  7|     David|    Evans|   1983-07-15| true|130000|    doctor|         9|  Healthcare|2023-06-05|  13000.0|\n",
      "|  8|    Sophia|   Harris|   1988-11-30|false|110000|     nurse|         7|  Healthcare|2020-02-18|      0.0|\n",
      "|  9|    Daniel| Martinez|   1991-06-01| true|145000|consultant|         1|  Consulting|2021-12-14|  14500.0|\n",
      "| 10|    Olivia| Thompson|   1986-09-12|false|102000| scientist|         8|    Research|2022-07-23|      0.0|\n",
      "| 11|     Grace|   Morgan|   1984-05-18| true|135000|    lawyer|         2|         Law|2020-03-01|  13500.0|\n",
      "| 12|     Henry|   Turner|   1993-11-29|false| 92000|  engineer|         7| Engineering|2023-05-21|      0.0|\n",
      "| 13|  Isabella| Phillips|   1982-07-09| true|125000|   teacher|         8|   Education|2024-04-11|  12500.0|\n",
      "| 14|      Jack| Mitchell|   1990-10-16|false| 80000|  designer|         6|      Design|2019-12-20|      0.0|\n",
      "| 15|     Karen|   Parker|   1987-01-27| true|155000|    lawyer|        10|         Law|2022-10-05|  15500.0|\n",
      "| 16|       Leo|   Nelson|   1994-02-03|false| 98000| architect|         3|Architecture|2021-07-08|      0.0|\n",
      "| 17|       Mia|    Baker|   1981-09-30| true|140000|    doctor|         3|  Healthcare|2020-06-14|  14000.0|\n",
      "| 18|    Nathan| Gonzalez|   1992-11-02|false|115000|     nurse|         4|  Healthcare|2023-02-25|      0.0|\n",
      "| 19|    Olivia|     Hall|   1986-03-11| true|150000|consultant|         5|  Consulting|2019-09-19|  15000.0|\n",
      "| 20|      Paul|Rodriguez|   1990-08-20|false|105000| scientist|         8|    Research|2021-11-30|      0.0|\n",
      "+---+----------+---------+-------------+-----+------+----------+----------+------------+----------+---------+\n",
      "\n"
     ]
    }
   ],
   "source": [
    "df_employee.transform(example_trasformation,0.1).show()"
   ]
  },
  {
   "cell_type": "code",
   "execution_count": 8,
   "id": "06587940-de8b-435d-bf42-d83d21dc5df3",
   "metadata": {},
   "outputs": [
    {
     "name": "stdout",
     "output_type": "stream",
     "text": [
      "+---+----------+---------+-------------+-----+------+----------+----------+------------+----------+---------+\n",
      "| id|first_name|last_name|date_of_birth|bonus|salary|     title|experience|        dept| join_date|extra_pay|\n",
      "+---+----------+---------+-------------+-----+------+----------+----------+------------+----------+---------+\n",
      "|  1|    Andrew|    James|   1987-12-25| true|140000|     model|         6|     Fashion|2021-05-10|  14000.0|\n",
      "|  2|     Linda|    Scott|   1990-05-14|false| 95000|  engineer|         7| Engineering|2023-03-22|      0.0|\n",
      "|  3|   Michael|    Brown|   1985-11-07| true|120000|   teacher|         1|   Education|2020-11-19|  12000.0|\n",
      "|  4|   Jessica|   Wilson|   1992-03-22|false| 75000|  designer|         6|      Design|2019-08-15|      0.0|\n",
      "|  5|      John|    Davis|   1980-08-19| true|160000|    lawyer|         1|         Law|2022-09-30|  16000.0|\n",
      "|  6|     Emily|    Clark|   1995-02-10|false| 98000| architect|         8|Architecture|2024-01-12|      0.0|\n",
      "|  7|     David|    Evans|   1983-07-15| true|130000|    doctor|         9|  Healthcare|2023-06-05|  13000.0|\n",
      "|  8|    Sophia|   Harris|   1988-11-30|false|110000|     nurse|         7|  Healthcare|2020-02-18|      0.0|\n",
      "|  9|    Daniel| Martinez|   1991-06-01| true|145000|consultant|         1|  Consulting|2021-12-14|  14500.0|\n",
      "| 10|    Olivia| Thompson|   1986-09-12|false|102000| scientist|         8|    Research|2022-07-23|      0.0|\n",
      "| 11|     Grace|   Morgan|   1984-05-18| true|135000|    lawyer|         2|         Law|2020-03-01|  13500.0|\n",
      "| 12|     Henry|   Turner|   1993-11-29|false| 92000|  engineer|         7| Engineering|2023-05-21|      0.0|\n",
      "| 13|  Isabella| Phillips|   1982-07-09| true|125000|   teacher|         8|   Education|2024-04-11|  12500.0|\n",
      "| 14|      Jack| Mitchell|   1990-10-16|false| 80000|  designer|         6|      Design|2019-12-20|      0.0|\n",
      "| 15|     Karen|   Parker|   1987-01-27| true|155000|    lawyer|        10|         Law|2022-10-05|  15500.0|\n",
      "| 16|       Leo|   Nelson|   1994-02-03|false| 98000| architect|         3|Architecture|2021-07-08|      0.0|\n",
      "| 17|       Mia|    Baker|   1981-09-30| true|140000|    doctor|         3|  Healthcare|2020-06-14|  14000.0|\n",
      "| 18|    Nathan| Gonzalez|   1992-11-02|false|115000|     nurse|         4|  Healthcare|2023-02-25|      0.0|\n",
      "| 19|    Olivia|     Hall|   1986-03-11| true|150000|consultant|         5|  Consulting|2019-09-19|  15000.0|\n",
      "| 20|      Paul|Rodriguez|   1990-08-20|false|105000| scientist|         8|    Research|2021-11-30|      0.0|\n",
      "+---+----------+---------+-------------+-----+------+----------+----------+------------+----------+---------+\n",
      "\n"
     ]
    }
   ],
   "source": [
    "df_employee.transform(example_trasformation,percentaje=0.1).show()"
   ]
  },
  {
   "cell_type": "code",
   "execution_count": 9,
   "id": "d619f9fb-8baf-420e-ac09-21e138873736",
   "metadata": {},
   "outputs": [
    {
     "name": "stdout",
     "output_type": "stream",
     "text": [
      "+---+----------+---------+-------------+-----+------+----------+----------+------------+----------+---------+\n",
      "| id|first_name|last_name|date_of_birth|bonus|salary|     title|experience|        dept| join_date|extra_pay|\n",
      "+---+----------+---------+-------------+-----+------+----------+----------+------------+----------+---------+\n",
      "|  1|    Andrew|    James|   1987-12-25| true|140000|     model|         6|     Fashion|2021-05-10|  14000.0|\n",
      "|  2|     Linda|    Scott|   1990-05-14|false| 95000|  engineer|         7| Engineering|2023-03-22|      0.0|\n",
      "|  3|   Michael|    Brown|   1985-11-07| true|120000|   teacher|         1|   Education|2020-11-19|  12000.0|\n",
      "|  4|   Jessica|   Wilson|   1992-03-22|false| 75000|  designer|         6|      Design|2019-08-15|      0.0|\n",
      "|  5|      John|    Davis|   1980-08-19| true|160000|    lawyer|         1|         Law|2022-09-30|  16000.0|\n",
      "|  6|     Emily|    Clark|   1995-02-10|false| 98000| architect|         8|Architecture|2024-01-12|      0.0|\n",
      "|  7|     David|    Evans|   1983-07-15| true|130000|    doctor|         9|  Healthcare|2023-06-05|  13000.0|\n",
      "|  8|    Sophia|   Harris|   1988-11-30|false|110000|     nurse|         7|  Healthcare|2020-02-18|      0.0|\n",
      "|  9|    Daniel| Martinez|   1991-06-01| true|145000|consultant|         1|  Consulting|2021-12-14|  14500.0|\n",
      "| 10|    Olivia| Thompson|   1986-09-12|false|102000| scientist|         8|    Research|2022-07-23|      0.0|\n",
      "| 11|     Grace|   Morgan|   1984-05-18| true|135000|    lawyer|         2|         Law|2020-03-01|  13500.0|\n",
      "| 12|     Henry|   Turner|   1993-11-29|false| 92000|  engineer|         7| Engineering|2023-05-21|      0.0|\n",
      "| 13|  Isabella| Phillips|   1982-07-09| true|125000|   teacher|         8|   Education|2024-04-11|  12500.0|\n",
      "| 14|      Jack| Mitchell|   1990-10-16|false| 80000|  designer|         6|      Design|2019-12-20|      0.0|\n",
      "| 15|     Karen|   Parker|   1987-01-27| true|155000|    lawyer|        10|         Law|2022-10-05|  15500.0|\n",
      "| 16|       Leo|   Nelson|   1994-02-03|false| 98000| architect|         3|Architecture|2021-07-08|      0.0|\n",
      "| 17|       Mia|    Baker|   1981-09-30| true|140000|    doctor|         3|  Healthcare|2020-06-14|  14000.0|\n",
      "| 18|    Nathan| Gonzalez|   1992-11-02|false|115000|     nurse|         4|  Healthcare|2023-02-25|      0.0|\n",
      "| 19|    Olivia|     Hall|   1986-03-11| true|150000|consultant|         5|  Consulting|2019-09-19|  15000.0|\n",
      "| 20|      Paul|Rodriguez|   1990-08-20|false|105000| scientist|         8|    Research|2021-11-30|      0.0|\n",
      "+---+----------+---------+-------------+-----+------+----------+----------+------------+----------+---------+\n",
      "\n"
     ]
    }
   ],
   "source": [
    "df_employee.transform(lambda df: example_trasformation(df,percentaje=0.1)).show()"
   ]
  },
  {
   "cell_type": "markdown",
   "id": "4f2a4811-11d4-43eb-9170-441f7e80c196",
   "metadata": {},
   "source": [
    "## Multi Transform"
   ]
  },
  {
   "cell_type": "code",
   "execution_count": 14,
   "id": "97e6fe01-ee2a-41d4-8750-7e721c22a6dd",
   "metadata": {},
   "outputs": [],
   "source": [
    "def convert_to_date(df, new_name, col_name):\n",
    "    return df.select(\"*\",(to_date(col(col_name),\"yyyy-mm-dd\")).alias(new_name)).drop(col_name)"
   ]
  },
  {
   "cell_type": "code",
   "execution_count": 11,
   "id": "3b7fece1-d468-4caf-9926-6f78a78e4467",
   "metadata": {},
   "outputs": [],
   "source": [
    "def cal_bonus(df, new_name, percentaje):\n",
    "    return df.select(\"*\",(when(col(\"bonus\") == True, col(\"salary\")*percentaje).otherwise(0)).alias(new_name))"
   ]
  },
  {
   "cell_type": "code",
   "execution_count": 12,
   "id": "8c1eee61-6897-49ae-9726-dc48c960ed34",
   "metadata": {},
   "outputs": [],
   "source": [
    "def fire(df, new_name):\n",
    "    return df.select(\"*\",(when(col(\"dept\") == \"Healthcare\", True).otherwise(False)).alias(new_name))"
   ]
  },
  {
   "cell_type": "code",
   "execution_count": 15,
   "id": "51ffee1c-9316-46e1-9ec3-f51515c7b66d",
   "metadata": {},
   "outputs": [
    {
     "name": "stdout",
     "output_type": "stream",
     "text": [
      "+---+----------+---------+-----+------+----------+----------+------------+----------+----------+------------+-----+\n",
      "| id|first_name|last_name|bonus|salary|     title|experience|        dept| born_date| date_join|bonus_amount|fired|\n",
      "+---+----------+---------+-----+------+----------+----------+------------+----------+----------+------------+-----+\n",
      "|  1|    Andrew|    James| true|140000|     model|         6|     Fashion|1987-01-25|2021-01-10|     14000.0|false|\n",
      "|  2|     Linda|    Scott|false| 95000|  engineer|         7| Engineering|1990-01-14|2023-01-22|         0.0|false|\n",
      "|  3|   Michael|    Brown| true|120000|   teacher|         1|   Education|1985-01-07|2020-01-19|     12000.0|false|\n",
      "|  4|   Jessica|   Wilson|false| 75000|  designer|         6|      Design|1992-01-22|2019-01-15|         0.0|false|\n",
      "|  5|      John|    Davis| true|160000|    lawyer|         1|         Law|1980-01-19|2022-01-30|     16000.0|false|\n",
      "|  6|     Emily|    Clark|false| 98000| architect|         8|Architecture|1995-01-10|2024-01-12|         0.0|false|\n",
      "|  7|     David|    Evans| true|130000|    doctor|         9|  Healthcare|1983-01-15|2023-01-05|     13000.0| true|\n",
      "|  8|    Sophia|   Harris|false|110000|     nurse|         7|  Healthcare|1988-01-30|2020-01-18|         0.0| true|\n",
      "|  9|    Daniel| Martinez| true|145000|consultant|         1|  Consulting|1991-01-01|2021-01-14|     14500.0|false|\n",
      "| 10|    Olivia| Thompson|false|102000| scientist|         8|    Research|1986-01-12|2022-01-23|         0.0|false|\n",
      "| 11|     Grace|   Morgan| true|135000|    lawyer|         2|         Law|1984-01-18|2020-01-01|     13500.0|false|\n",
      "| 12|     Henry|   Turner|false| 92000|  engineer|         7| Engineering|1993-01-29|2023-01-21|         0.0|false|\n",
      "| 13|  Isabella| Phillips| true|125000|   teacher|         8|   Education|1982-01-09|2024-01-11|     12500.0|false|\n",
      "| 14|      Jack| Mitchell|false| 80000|  designer|         6|      Design|1990-01-16|2019-01-20|         0.0|false|\n",
      "| 15|     Karen|   Parker| true|155000|    lawyer|        10|         Law|1987-01-27|2022-01-05|     15500.0|false|\n",
      "| 16|       Leo|   Nelson|false| 98000| architect|         3|Architecture|1994-01-03|2021-01-08|         0.0|false|\n",
      "| 17|       Mia|    Baker| true|140000|    doctor|         3|  Healthcare|1981-01-30|2020-01-14|     14000.0| true|\n",
      "| 18|    Nathan| Gonzalez|false|115000|     nurse|         4|  Healthcare|1992-01-02|2023-01-25|         0.0| true|\n",
      "| 19|    Olivia|     Hall| true|150000|consultant|         5|  Consulting|1986-01-11|2019-01-19|     15000.0|false|\n",
      "| 20|      Paul|Rodriguez|false|105000| scientist|         8|    Research|1990-01-20|2021-01-30|         0.0|false|\n",
      "+---+----------+---------+-----+------+----------+----------+------------+----------+----------+------------+-----+\n",
      "\n"
     ]
    }
   ],
   "source": [
    "df_employee_v2 = (\n",
    "    df_employee \\\n",
    "        .transform(convert_to_date,\"born_date\",\"date_of_birth\")\n",
    "        .transform(convert_to_date,\"date_join\",\"join_date\")\n",
    "        .transform(cal_bonus,\"bonus_amount\",0.1)\n",
    "        .transform(fire,\"fired\")\n",
    "    )\n",
    "df_employee_v2.show()"
   ]
  },
  {
   "cell_type": "code",
   "execution_count": 16,
   "id": "615f5f34-d4e4-4af7-816e-fe104a35da83",
   "metadata": {},
   "outputs": [
    {
     "name": "stdout",
     "output_type": "stream",
     "text": [
      "root\n",
      " |-- id: integer (nullable = true)\n",
      " |-- first_name: string (nullable = true)\n",
      " |-- last_name: string (nullable = true)\n",
      " |-- bonus: boolean (nullable = true)\n",
      " |-- salary: integer (nullable = true)\n",
      " |-- title: string (nullable = true)\n",
      " |-- experience: integer (nullable = true)\n",
      " |-- dept: string (nullable = true)\n",
      " |-- born_date: date (nullable = true)\n",
      " |-- date_join: date (nullable = true)\n",
      " |-- bonus_amount: double (nullable = true)\n",
      " |-- fired: boolean (nullable = false)\n",
      "\n"
     ]
    }
   ],
   "source": [
    "df_employee_v2.printSchema()"
   ]
  },
  {
   "cell_type": "code",
   "execution_count": null,
   "id": "a9d1a3d8-69ff-4d89-8fd7-aa0805d2c091",
   "metadata": {},
   "outputs": [],
   "source": []
  }
 ],
 "metadata": {
  "kernelspec": {
   "display_name": "Python 3 (ipykernel)",
   "language": "python",
   "name": "python3"
  },
  "language_info": {
   "codemirror_mode": {
    "name": "ipython",
    "version": 3
   },
   "file_extension": ".py",
   "mimetype": "text/x-python",
   "name": "python",
   "nbconvert_exporter": "python",
   "pygments_lexer": "ipython3",
   "version": "3.11.7"
  }
 },
 "nbformat": 4,
 "nbformat_minor": 5
}
