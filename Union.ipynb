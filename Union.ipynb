{
 "cells": [
  {
   "cell_type": "markdown",
   "metadata": {
    "application/vnd.databricks.v1+cell": {
     "cellMetadata": {},
     "inputWidgets": {},
     "nuid": "9b977303-a1bd-4adf-9455-8a58280f77b4",
     "showTitle": false,
     "title": ""
    }
   },
   "source": [
    "#UNION"
   ]
  },
  {
   "cell_type": "code",
   "execution_count": 0,
   "metadata": {
    "application/vnd.databricks.v1+cell": {
     "cellMetadata": {
      "byteLimit": 2048000,
      "rowLimit": 10000
     },
     "inputWidgets": {},
     "nuid": "d69df3c5-9683-4e57-b2fb-f276d1435831",
     "showTitle": false,
     "title": ""
    }
   },
   "outputs": [],
   "source": [
    "schema_people = [\"id\",\"name\"]\n",
    "\n",
    "people_1 = [\n",
    "    (1,\"Alice\"),\n",
    "    (2,\"Bob\"),\n",
    "    (3,\"Charlie\")\n",
    "]\n",
    "\n",
    "people_2 = [\n",
    "    (3,\"Charlie\"),\n",
    "    (4,\"David\"),\n",
    "    (5,\"Edward\"),\n",
    "]\n",
    "\n",
    "df_people_1 = spark.createDataFrame(data=people_1,schema=schema_people)\n",
    "df_people_2 = spark.createDataFrame(data=people_2,schema=schema_people)"
   ]
  },
  {
   "cell_type": "code",
   "execution_count": 0,
   "metadata": {
    "application/vnd.databricks.v1+cell": {
     "cellMetadata": {
      "byteLimit": 2048000,
      "rowLimit": 10000
     },
     "inputWidgets": {},
     "nuid": "92fd004b-95c3-49bb-a713-5580dc3adc77",
     "showTitle": false,
     "title": ""
    }
   },
   "outputs": [
    {
     "output_type": "stream",
     "name": "stdout",
     "output_type": "stream",
     "text": [
      "+---+-------+\n| id|   name|\n+---+-------+\n|  1|  Alice|\n|  2|    Bob|\n|  3|Charlie|\n+---+-------+\n\n"
     ]
    }
   ],
   "source": [
    "df_people_1.show()"
   ]
  },
  {
   "cell_type": "code",
   "execution_count": 0,
   "metadata": {
    "application/vnd.databricks.v1+cell": {
     "cellMetadata": {
      "byteLimit": 2048000,
      "rowLimit": 10000
     },
     "inputWidgets": {},
     "nuid": "d99e16a4-9fd4-4a30-83e7-395044adc102",
     "showTitle": false,
     "title": ""
    }
   },
   "outputs": [
    {
     "output_type": "stream",
     "name": "stdout",
     "output_type": "stream",
     "text": [
      "+---+-------+\n| id|   name|\n+---+-------+\n|  3|Charlie|\n|  4|  David|\n|  5| Edward|\n+---+-------+\n\n"
     ]
    }
   ],
   "source": [
    "df_people_2.show()"
   ]
  },
  {
   "cell_type": "markdown",
   "metadata": {
    "application/vnd.databricks.v1+cell": {
     "cellMetadata": {},
     "inputWidgets": {},
     "nuid": "bb8fcf2c-dd88-4cb9-a8f8-2b21ba1c26e4",
     "showTitle": false,
     "title": ""
    }
   },
   "source": [
    "##Union"
   ]
  },
  {
   "cell_type": "code",
   "execution_count": 0,
   "metadata": {
    "application/vnd.databricks.v1+cell": {
     "cellMetadata": {
      "byteLimit": 2048000,
      "rowLimit": 10000
     },
     "inputWidgets": {},
     "nuid": "9f0de506-b203-4a10-9eb0-c64ac3fa648e",
     "showTitle": false,
     "title": ""
    }
   },
   "outputs": [
    {
     "output_type": "stream",
     "name": "stdout",
     "output_type": "stream",
     "text": [
      "+---+-------+\n| id|   name|\n+---+-------+\n|  1|  Alice|\n|  2|    Bob|\n|  3|Charlie|\n|  3|Charlie|\n|  4|  David|\n|  5| Edward|\n+---+-------+\n\n"
     ]
    }
   ],
   "source": [
    "df_people_1.union(df_people_2).show()"
   ]
  },
  {
   "cell_type": "markdown",
   "metadata": {
    "application/vnd.databricks.v1+cell": {
     "cellMetadata": {},
     "inputWidgets": {},
     "nuid": "2421b5ca-a674-40d6-9ec5-345278f695a3",
     "showTitle": false,
     "title": ""
    }
   },
   "source": [
    "##Union w/dropDuplicates"
   ]
  },
  {
   "cell_type": "code",
   "execution_count": 0,
   "metadata": {
    "application/vnd.databricks.v1+cell": {
     "cellMetadata": {
      "byteLimit": 2048000,
      "rowLimit": 10000
     },
     "inputWidgets": {},
     "nuid": "6dde2bad-5d84-4814-b373-18f9198e1758",
     "showTitle": false,
     "title": ""
    }
   },
   "outputs": [
    {
     "output_type": "stream",
     "name": "stdout",
     "output_type": "stream",
     "text": [
      "+---+-------+\n| id|   name|\n+---+-------+\n|  1|  Alice|\n|  2|    Bob|\n|  3|Charlie|\n|  4|  David|\n|  5| Edward|\n+---+-------+\n\n"
     ]
    }
   ],
   "source": [
    "df_people_1.union(df_people_2).dropDuplicates().show()"
   ]
  },
  {
   "cell_type": "markdown",
   "metadata": {
    "application/vnd.databricks.v1+cell": {
     "cellMetadata": {},
     "inputWidgets": {},
     "nuid": "94043922-dd44-4d64-8769-37e63cfe3a25",
     "showTitle": false,
     "title": ""
    }
   },
   "source": [
    "##Union All"
   ]
  },
  {
   "cell_type": "code",
   "execution_count": 0,
   "metadata": {
    "application/vnd.databricks.v1+cell": {
     "cellMetadata": {
      "byteLimit": 2048000,
      "rowLimit": 10000
     },
     "inputWidgets": {},
     "nuid": "7ada0ed9-e451-479c-8ef2-481979f7a9aa",
     "showTitle": false,
     "title": ""
    }
   },
   "outputs": [
    {
     "output_type": "stream",
     "name": "stdout",
     "output_type": "stream",
     "text": [
      "+---+-------+\n| id|   name|\n+---+-------+\n|  1|  Alice|\n|  2|    Bob|\n|  3|Charlie|\n|  3|Charlie|\n|  4|  David|\n|  5| Edward|\n+---+-------+\n\n"
     ]
    }
   ],
   "source": [
    "#It's the same\n",
    "df_people_1.unionAll(df_people_2).show()"
   ]
  }
 ],
 "metadata": {
  "application/vnd.databricks.v1+notebook": {
   "dashboards": [],
   "environmentMetadata": null,
   "language": "python",
   "notebookMetadata": {
    "pythonIndentUnit": 4
   },
   "notebookName": "Union",
   "widgets": {}
  }
 },
 "nbformat": 4,
 "nbformat_minor": 0
}
