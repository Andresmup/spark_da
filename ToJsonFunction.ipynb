{
 "cells": [
  {
   "cell_type": "markdown",
   "id": "a477288d-2d84-46cf-8697-50c430b0e730",
   "metadata": {},
   "source": [
    "# ToJson Function"
   ]
  },
  {
   "cell_type": "code",
   "execution_count": 1,
   "id": "4477cf2e-fb9a-4363-bae8-f26379707729",
   "metadata": {},
   "outputs": [],
   "source": [
    "import findspark\n",
    "findspark.init()"
   ]
  },
  {
   "cell_type": "code",
   "execution_count": 2,
   "id": "2a05f79a-70d2-400e-9a9a-4efaafca185e",
   "metadata": {},
   "outputs": [
    {
     "name": "stderr",
     "output_type": "stream",
     "text": [
      "Setting default log level to \"WARN\".\n",
      "To adjust logging level use sc.setLogLevel(newLevel). For SparkR, use setLogLevel(newLevel).\n",
      "24/08/30 00:17:02 WARN NativeCodeLoader: Unable to load native-hadoop library for your platform... using builtin-java classes where applicable\n",
      "24/08/30 00:17:04 WARN Utils: Service 'SparkUI' could not bind on port 4040. Attempting port 4041.\n"
     ]
    }
   ],
   "source": [
    "from pyspark.sql import SparkSession\n",
    "spark = SparkSession.builder.getOrCreate()"
   ]
  },
  {
   "cell_type": "markdown",
   "id": "95c703b6-6b1b-4e1b-8eb4-2623db7b9d23",
   "metadata": {},
   "source": [
    "## Base nested dataframe"
   ]
  },
  {
   "cell_type": "code",
   "execution_count": 4,
   "id": "8f4924c5-bafe-4a47-90ad-5671d5f47ff4",
   "metadata": {},
   "outputs": [],
   "source": [
    "from pyspark.sql.types import StructType, StructField, IntegerType, StringType, BooleanType"
   ]
  },
  {
   "cell_type": "code",
   "execution_count": 5,
   "id": "89a528b5-2c12-467b-912c-acf6fb1d3c28",
   "metadata": {},
   "outputs": [],
   "source": [
    "data_students = [\n",
    "    (1, ('Jacob', 'Kyle', 'Smith'), (8, 10, 2), (\"math\", True, 4)),\n",
    "    (2, ('Linda', 'Mia', 'Jonh'), (8, 10, 2), (\"science\", False, 10)),\n",
    "    (3, ('Oliver', 'James', 'Johnson'), (7, 9, 3), (\"english\", True, 7)),\n",
    "    (4, ('Emma', 'Sophia', 'Williams'), (6, 8, 5), (\"history\", False, 9)),\n",
    "    (5, ('Liam', 'Lucas', 'Brown'), (9, 7, 4), (\"math\", True, 6)),\n",
    "    (6, ('Ava', 'Isabella', 'Jones'), (10, 8, 6), (\"science\", True, 8)),\n",
    "    (7, ('Noah', 'Mason', 'Davis'), (5, 7, 2), (\"english\", False, 5)),\n",
    "    (8, ('Olivia', 'Emily', 'Miller'), (8, 9, 3), (\"history\", True, 10)),\n",
    "    (9, ('Elijah', 'Logan', 'Garcia'), (7, 6, 4), (\"math\", False, 3)),\n",
    "    (10, ('Sophia', 'Charlotte', 'Martinez'), (9, 8, 7), (\"science\", True, 7)),\n",
    "]\n",
    "\n",
    "schema_students = StructType([\n",
    "    StructField(\"id\",IntegerType(),False),\n",
    "    StructField(\"names\",StructType([\n",
    "        StructField(\"first_name\",StringType(),False),\n",
    "        StructField(\"middle_name\",StringType(),True),\n",
    "        StructField(\"last_name\",StringType(),False)\n",
    "    ])),\n",
    "    StructField(\"notes\",StructType([\n",
    "        StructField(\"exam_1\",IntegerType(),True),\n",
    "        StructField(\"exam_2\",IntegerType(),True),\n",
    "        StructField(\"exam_3\",IntegerType(),True)\n",
    "    ])),\n",
    "    StructField(\"area\",StructType([\n",
    "        StructField(\"subject\",StringType(),True),\n",
    "        StructField(\"approve\",BooleanType(),True),\n",
    "        StructField(\"assistance\",IntegerType(),True)\n",
    "    ]))\n",
    "])"
   ]
  },
  {
   "cell_type": "code",
   "execution_count": 6,
   "id": "2dd4a153-43c5-4a84-b03e-862833ceea7d",
   "metadata": {},
   "outputs": [
    {
     "name": "stderr",
     "output_type": "stream",
     "text": [
      "                                                                                \r"
     ]
    },
    {
     "name": "stdout",
     "output_type": "stream",
     "text": [
      "+---+-----------------------------+----------+--------------------+\n",
      "|id |names                        |notes     |area                |\n",
      "+---+-----------------------------+----------+--------------------+\n",
      "|1  |{Jacob, Kyle, Smith}         |{8, 10, 2}|{math, true, 4}     |\n",
      "|2  |{Linda, Mia, Jonh}           |{8, 10, 2}|{science, false, 10}|\n",
      "|3  |{Oliver, James, Johnson}     |{7, 9, 3} |{english, true, 7}  |\n",
      "|4  |{Emma, Sophia, Williams}     |{6, 8, 5} |{history, false, 9} |\n",
      "|5  |{Liam, Lucas, Brown}         |{9, 7, 4} |{math, true, 6}     |\n",
      "|6  |{Ava, Isabella, Jones}       |{10, 8, 6}|{science, true, 8}  |\n",
      "|7  |{Noah, Mason, Davis}         |{5, 7, 2} |{english, false, 5} |\n",
      "|8  |{Olivia, Emily, Miller}      |{8, 9, 3} |{history, true, 10} |\n",
      "|9  |{Elijah, Logan, Garcia}      |{7, 6, 4} |{math, false, 3}    |\n",
      "|10 |{Sophia, Charlotte, Martinez}|{9, 8, 7} |{science, true, 7}  |\n",
      "+---+-----------------------------+----------+--------------------+\n",
      "\n"
     ]
    }
   ],
   "source": [
    "df_students = spark.createDataFrame(data=data_students,schema=schema_students)\n",
    "df_students.show(truncate=False)"
   ]
  },
  {
   "cell_type": "code",
   "execution_count": 7,
   "id": "8a13b3af-bc0c-4e9a-9b42-8fa3d152fe4f",
   "metadata": {},
   "outputs": [
    {
     "name": "stdout",
     "output_type": "stream",
     "text": [
      "root\n",
      " |-- id: integer (nullable = false)\n",
      " |-- names: struct (nullable = true)\n",
      " |    |-- first_name: string (nullable = false)\n",
      " |    |-- middle_name: string (nullable = true)\n",
      " |    |-- last_name: string (nullable = false)\n",
      " |-- notes: struct (nullable = true)\n",
      " |    |-- exam_1: integer (nullable = true)\n",
      " |    |-- exam_2: integer (nullable = true)\n",
      " |    |-- exam_3: integer (nullable = true)\n",
      " |-- area: struct (nullable = true)\n",
      " |    |-- subject: string (nullable = true)\n",
      " |    |-- approve: boolean (nullable = true)\n",
      " |    |-- assistance: integer (nullable = true)\n",
      "\n"
     ]
    }
   ],
   "source": [
    "df_students.printSchema()"
   ]
  },
  {
   "cell_type": "markdown",
   "id": "301e9eba-0fb8-40f7-b3ba-200f8fb95339",
   "metadata": {},
   "source": [
    "## ToJson Function"
   ]
  },
  {
   "cell_type": "code",
   "execution_count": 8,
   "id": "4369afa7-19fd-4394-b0cc-44cf48118b7e",
   "metadata": {},
   "outputs": [],
   "source": [
    "from pyspark.sql.functions import to_json, col"
   ]
  },
  {
   "cell_type": "code",
   "execution_count": 9,
   "id": "17e6da8a-c954-42af-89f4-41706dab6db9",
   "metadata": {},
   "outputs": [
    {
     "name": "stdout",
     "output_type": "stream",
     "text": [
      "+---+------------------------------------------------------------------------+-----------------------------------+-----------------------------------------------------+\n",
      "|id |names                                                                   |notes                              |area                                                 |\n",
      "+---+------------------------------------------------------------------------+-----------------------------------+-----------------------------------------------------+\n",
      "|1  |{\"first_name\":\"Jacob\",\"middle_name\":\"Kyle\",\"last_name\":\"Smith\"}         |{\"exam_1\":8,\"exam_2\":10,\"exam_3\":2}|{\"subject\":\"math\",\"approve\":true,\"assistance\":4}     |\n",
      "|2  |{\"first_name\":\"Linda\",\"middle_name\":\"Mia\",\"last_name\":\"Jonh\"}           |{\"exam_1\":8,\"exam_2\":10,\"exam_3\":2}|{\"subject\":\"science\",\"approve\":false,\"assistance\":10}|\n",
      "|3  |{\"first_name\":\"Oliver\",\"middle_name\":\"James\",\"last_name\":\"Johnson\"}     |{\"exam_1\":7,\"exam_2\":9,\"exam_3\":3} |{\"subject\":\"english\",\"approve\":true,\"assistance\":7}  |\n",
      "|4  |{\"first_name\":\"Emma\",\"middle_name\":\"Sophia\",\"last_name\":\"Williams\"}     |{\"exam_1\":6,\"exam_2\":8,\"exam_3\":5} |{\"subject\":\"history\",\"approve\":false,\"assistance\":9} |\n",
      "|5  |{\"first_name\":\"Liam\",\"middle_name\":\"Lucas\",\"last_name\":\"Brown\"}         |{\"exam_1\":9,\"exam_2\":7,\"exam_3\":4} |{\"subject\":\"math\",\"approve\":true,\"assistance\":6}     |\n",
      "|6  |{\"first_name\":\"Ava\",\"middle_name\":\"Isabella\",\"last_name\":\"Jones\"}       |{\"exam_1\":10,\"exam_2\":8,\"exam_3\":6}|{\"subject\":\"science\",\"approve\":true,\"assistance\":8}  |\n",
      "|7  |{\"first_name\":\"Noah\",\"middle_name\":\"Mason\",\"last_name\":\"Davis\"}         |{\"exam_1\":5,\"exam_2\":7,\"exam_3\":2} |{\"subject\":\"english\",\"approve\":false,\"assistance\":5} |\n",
      "|8  |{\"first_name\":\"Olivia\",\"middle_name\":\"Emily\",\"last_name\":\"Miller\"}      |{\"exam_1\":8,\"exam_2\":9,\"exam_3\":3} |{\"subject\":\"history\",\"approve\":true,\"assistance\":10} |\n",
      "|9  |{\"first_name\":\"Elijah\",\"middle_name\":\"Logan\",\"last_name\":\"Garcia\"}      |{\"exam_1\":7,\"exam_2\":6,\"exam_3\":4} |{\"subject\":\"math\",\"approve\":false,\"assistance\":3}    |\n",
      "|10 |{\"first_name\":\"Sophia\",\"middle_name\":\"Charlotte\",\"last_name\":\"Martinez\"}|{\"exam_1\":9,\"exam_2\":8,\"exam_3\":7} |{\"subject\":\"science\",\"approve\":true,\"assistance\":7}  |\n",
      "+---+------------------------------------------------------------------------+-----------------------------------+-----------------------------------------------------+\n",
      "\n"
     ]
    }
   ],
   "source": [
    "df_students_json = df_students.select(\n",
    "    col(\"id\"),\n",
    "    to_json(col(\"names\")).alias(\"names\"),\n",
    "    to_json(col(\"notes\")).alias(\"notes\"),\n",
    "    to_json(col(\"area\")).alias(\"area\")\n",
    ")\n",
    "\n",
    "df_students_json.show(truncate=False)"
   ]
  },
  {
   "cell_type": "code",
   "execution_count": 10,
   "id": "32da4832-adf8-4b1a-ac93-16a904a0cac5",
   "metadata": {},
   "outputs": [
    {
     "name": "stdout",
     "output_type": "stream",
     "text": [
      "root\n",
      " |-- id: integer (nullable = false)\n",
      " |-- names: string (nullable = true)\n",
      " |-- notes: string (nullable = true)\n",
      " |-- area: string (nullable = true)\n",
      "\n"
     ]
    }
   ],
   "source": [
    "df_students_json.printSchema()"
   ]
  }
 ],
 "metadata": {
  "kernelspec": {
   "display_name": "Python 3 (ipykernel)",
   "language": "python",
   "name": "python3"
  },
  "language_info": {
   "codemirror_mode": {
    "name": "ipython",
    "version": 3
   },
   "file_extension": ".py",
   "mimetype": "text/x-python",
   "name": "python",
   "nbconvert_exporter": "python",
   "pygments_lexer": "ipython3",
   "version": "3.11.7"
  }
 },
 "nbformat": 4,
 "nbformat_minor": 5
}
