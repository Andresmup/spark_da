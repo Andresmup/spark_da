{
 "cells": [
  {
   "cell_type": "markdown",
   "metadata": {
    "application/vnd.databricks.v1+cell": {
     "cellMetadata": {},
     "inputWidgets": {},
     "nuid": "4e5ad5ac-4c7d-4e09-8b95-fa7e28378d45",
     "showTitle": false,
     "title": ""
    }
   },
   "source": [
    "# EXCEPT COLUMNS"
   ]
  },
  {
   "cell_type": "markdown",
   "metadata": {
    "application/vnd.databricks.v1+cell": {
     "cellMetadata": {},
     "inputWidgets": {},
     "nuid": "91abcac2-b571-433a-b60f-a14010be28fc",
     "showTitle": false,
     "title": ""
    }
   },
   "source": [
    "## Dataframes"
   ]
  },
  {
   "cell_type": "code",
   "execution_count": 0,
   "metadata": {
    "application/vnd.databricks.v1+cell": {
     "cellMetadata": {
      "byteLimit": 2048000,
      "rowLimit": 10000
     },
     "inputWidgets": {},
     "nuid": "c5b6e9b3-7bc7-48a3-b71f-012a19076f47",
     "showTitle": false,
     "title": ""
    }
   },
   "outputs": [],
   "source": [
    "data_employees = [\n",
    "    (1, 'Alice', 'HR', 'Manager', 50000, 'New York', 5),\n",
    "    (2, 'Bob', 'IT', 'Developer', 70000, 'San Francisco', 3),\n",
    "    (3, 'Charlie', 'Finance', 'Analyst', 65000, 'Chicago', 4),\n",
    "    (4, 'Diane', 'Marketing', 'Specialist', 55000, 'Los Angeles', 2),\n",
    "    (5, 'Eve', 'Sales', 'Executive', 60000, 'Miami', 6),\n",
    "    (6, 'Frank', 'IT', 'Developer', 72000, 'Austin', 3),\n",
    "    (7, 'Grace', 'HR', 'Assistant', 48000, 'Boston', 2),\n",
    "    (8, 'Henry', 'Finance', 'Manager', 80000, 'Seattle', 7),\n",
    "    (9, 'Irene', 'Marketing', 'Coordinator', 53000, 'Denver', 4),\n",
    "    (10, 'Jack', 'Sales', 'Executive', 62000, 'San Diego', 5),\n",
    "    (11, 'Karen', 'HR', 'Manager', 52000, 'Atlanta', 5),\n",
    "    (12, 'Liam', 'IT', 'Support', 50000, 'San Francisco', 3),\n",
    "    (13, 'Mia', 'Finance', 'Analyst', 64000, 'Chicago', 4),\n",
    "    (14, 'Noah', 'Marketing', 'Specialist', 56000, 'Los Angeles', 2),\n",
    "    (15, 'Olivia', 'Sales', 'Executive', 61000, 'Miami', 6),\n",
    "    (16, 'Paul', 'IT', 'Developer', 73000, 'Austin', 3),\n",
    "    (17, 'Quinn', 'HR', 'Assistant', 49000, 'Boston', 2),\n",
    "    (18, 'Ruth', 'Finance', 'Manager', 81000, 'Seattle', 7),\n",
    "    (19, 'Sam', 'Marketing', 'Coordinator', 54000, 'Denver', 4),\n",
    "    (20, 'Tina', 'Sales', 'Executive', 63000, 'San Diego', 5)\n",
    "]\n",
    "\n",
    "schema_employees = \"employee_id INTEGER, name STRING, dept STRING, title STRING, salary STRING, city STRING, experience INTEGER\""
   ]
  },
  {
   "cell_type": "code",
   "execution_count": 0,
   "metadata": {
    "application/vnd.databricks.v1+cell": {
     "cellMetadata": {
      "byteLimit": 2048000,
      "rowLimit": 10000
     },
     "inputWidgets": {},
     "nuid": "15fff617-fcdc-4d9b-95ed-9717a616bb82",
     "showTitle": false,
     "title": ""
    }
   },
   "outputs": [
    {
     "output_type": "stream",
     "name": "stdout",
     "output_type": "stream",
     "text": [
      "+-----------+-------+---------+-----------+------+-------------+----------+\n|employee_id|   name|     dept|      title|salary|         city|experience|\n+-----------+-------+---------+-----------+------+-------------+----------+\n|          1|  Alice|       HR|    Manager| 50000|     New York|         5|\n|          2|    Bob|       IT|  Developer| 70000|San Francisco|         3|\n|          3|Charlie|  Finance|    Analyst| 65000|      Chicago|         4|\n|          4|  Diane|Marketing| Specialist| 55000|  Los Angeles|         2|\n|          5|    Eve|    Sales|  Executive| 60000|        Miami|         6|\n|          6|  Frank|       IT|  Developer| 72000|       Austin|         3|\n|          7|  Grace|       HR|  Assistant| 48000|       Boston|         2|\n|          8|  Henry|  Finance|    Manager| 80000|      Seattle|         7|\n|          9|  Irene|Marketing|Coordinator| 53000|       Denver|         4|\n|         10|   Jack|    Sales|  Executive| 62000|    San Diego|         5|\n|         11|  Karen|       HR|    Manager| 52000|      Atlanta|         5|\n|         12|   Liam|       IT|    Support| 50000|San Francisco|         3|\n|         13|    Mia|  Finance|    Analyst| 64000|      Chicago|         4|\n|         14|   Noah|Marketing| Specialist| 56000|  Los Angeles|         2|\n|         15| Olivia|    Sales|  Executive| 61000|        Miami|         6|\n|         16|   Paul|       IT|  Developer| 73000|       Austin|         3|\n|         17|  Quinn|       HR|  Assistant| 49000|       Boston|         2|\n|         18|   Ruth|  Finance|    Manager| 81000|      Seattle|         7|\n|         19|    Sam|Marketing|Coordinator| 54000|       Denver|         4|\n|         20|   Tina|    Sales|  Executive| 63000|    San Diego|         5|\n+-----------+-------+---------+-----------+------+-------------+----------+\n\n"
     ]
    }
   ],
   "source": [
    "df_employees = spark.createDataFrame(data=data_employees, schema=schema_employees)\n",
    "df_employees.show()"
   ]
  },
  {
   "cell_type": "code",
   "execution_count": 0,
   "metadata": {
    "application/vnd.databricks.v1+cell": {
     "cellMetadata": {
      "byteLimit": 2048000,
      "rowLimit": 10000
     },
     "inputWidgets": {},
     "nuid": "7db97820-5020-4e90-8794-2784e64422b9",
     "showTitle": false,
     "title": ""
    }
   },
   "outputs": [],
   "source": [
    "data_departments = [\n",
    "    ('HR', 120, 500000, 'New York'),\n",
    "    ('IT', 150, 1200000, 'San Francisco'),\n",
    "    ('Finance', 100, 750000, 'Chicago'),\n",
    "    ('Marketing', 80, 600000, 'Los Angeles'),\n",
    "    ('Sales', 130, 850000, 'Miami'),\n",
    "    ('Support', 60, 400000, 'Austin'),\n",
    "    ('Operations', 90, 700000, 'Seattle'),\n",
    "    ('Legal', 50, 300000, 'Denver'),\n",
    "    ('R&D', 110, 950000, 'Boston'),\n",
    "    ('Customer Service', 70, 450000, 'San Diego')\n",
    "]\n",
    "\n",
    "schema_departments = \"dept STRING, num_employees INTEGER, budget INTEGER, headquarters STRING\""
   ]
  },
  {
   "cell_type": "code",
   "execution_count": 0,
   "metadata": {
    "application/vnd.databricks.v1+cell": {
     "cellMetadata": {
      "byteLimit": 2048000,
      "rowLimit": 10000
     },
     "inputWidgets": {},
     "nuid": "7b0732d6-cb80-4be9-a211-3484e5efdebc",
     "showTitle": false,
     "title": ""
    }
   },
   "outputs": [
    {
     "output_type": "stream",
     "name": "stdout",
     "output_type": "stream",
     "text": [
      "+----------------+-------------+-------+-------------+\n|            dept|num_employees| budget| headquarters|\n+----------------+-------------+-------+-------------+\n|              HR|          120| 500000|     New York|\n|              IT|          150|1200000|San Francisco|\n|         Finance|          100| 750000|      Chicago|\n|       Marketing|           80| 600000|  Los Angeles|\n|           Sales|          130| 850000|        Miami|\n|         Support|           60| 400000|       Austin|\n|      Operations|           90| 700000|      Seattle|\n|           Legal|           50| 300000|       Denver|\n|             R&D|          110| 950000|       Boston|\n|Customer Service|           70| 450000|    San Diego|\n+----------------+-------------+-------+-------------+\n\n"
     ]
    }
   ],
   "source": [
    "df_departments = spark.createDataFrame(data=data_departments, schema=schema_departments)\n",
    "df_departments.show()"
   ]
  },
  {
   "cell_type": "markdown",
   "metadata": {
    "application/vnd.databricks.v1+cell": {
     "cellMetadata": {},
     "inputWidgets": {},
     "nuid": "65faf619-71f3-4465-9f36-2e48ad27c7d1",
     "showTitle": false,
     "title": ""
    }
   },
   "source": [
    "## TempView"
   ]
  },
  {
   "cell_type": "code",
   "execution_count": 0,
   "metadata": {
    "application/vnd.databricks.v1+cell": {
     "cellMetadata": {
      "byteLimit": 2048000,
      "rowLimit": 10000
     },
     "inputWidgets": {},
     "nuid": "7d724fb8-a7a0-492b-b0b3-4c86afbbaa88",
     "showTitle": false,
     "title": ""
    }
   },
   "outputs": [],
   "source": [
    "df_employees.createOrReplaceTempView(\"employees\")\n",
    "df_departments.createOrReplaceTempView(\"departments\")"
   ]
  },
  {
   "cell_type": "markdown",
   "metadata": {
    "application/vnd.databricks.v1+cell": {
     "cellMetadata": {},
     "inputWidgets": {},
     "nuid": "77f99d47-cf6c-4b23-bfb2-0a01c6f1f016",
     "showTitle": false,
     "title": ""
    }
   },
   "source": [
    "## Normal Select"
   ]
  },
  {
   "cell_type": "code",
   "execution_count": 0,
   "metadata": {
    "application/vnd.databricks.v1+cell": {
     "cellMetadata": {
      "byteLimit": 2048000,
      "implicitDf": true,
      "rowLimit": 10000
     },
     "inputWidgets": {},
     "nuid": "9ef1aa23-7d60-445e-951c-0a0a2b78ff12",
     "showTitle": false,
     "title": ""
    }
   },
   "outputs": [
    {
     "output_type": "display_data",
     "data": {
      "text/html": [
       "<style scoped>\n",
       "  .table-result-container {\n",
       "    max-height: 300px;\n",
       "    overflow: auto;\n",
       "  }\n",
       "  table, th, td {\n",
       "    border: 1px solid black;\n",
       "    border-collapse: collapse;\n",
       "  }\n",
       "  th, td {\n",
       "    padding: 5px;\n",
       "  }\n",
       "  th {\n",
       "    text-align: left;\n",
       "  }\n",
       "</style><div class='table-result-container'><table class='table-result'><thead style='background-color: white'><tr><th>employee_id</th><th>name</th><th>dept</th><th>title</th><th>salary</th><th>city</th><th>experience</th></tr></thead><tbody><tr><td>1</td><td>Alice</td><td>HR</td><td>Manager</td><td>50000</td><td>New York</td><td>5</td></tr><tr><td>2</td><td>Bob</td><td>IT</td><td>Developer</td><td>70000</td><td>San Francisco</td><td>3</td></tr><tr><td>3</td><td>Charlie</td><td>Finance</td><td>Analyst</td><td>65000</td><td>Chicago</td><td>4</td></tr><tr><td>4</td><td>Diane</td><td>Marketing</td><td>Specialist</td><td>55000</td><td>Los Angeles</td><td>2</td></tr><tr><td>5</td><td>Eve</td><td>Sales</td><td>Executive</td><td>60000</td><td>Miami</td><td>6</td></tr><tr><td>6</td><td>Frank</td><td>IT</td><td>Developer</td><td>72000</td><td>Austin</td><td>3</td></tr><tr><td>7</td><td>Grace</td><td>HR</td><td>Assistant</td><td>48000</td><td>Boston</td><td>2</td></tr><tr><td>8</td><td>Henry</td><td>Finance</td><td>Manager</td><td>80000</td><td>Seattle</td><td>7</td></tr><tr><td>9</td><td>Irene</td><td>Marketing</td><td>Coordinator</td><td>53000</td><td>Denver</td><td>4</td></tr><tr><td>10</td><td>Jack</td><td>Sales</td><td>Executive</td><td>62000</td><td>San Diego</td><td>5</td></tr><tr><td>11</td><td>Karen</td><td>HR</td><td>Manager</td><td>52000</td><td>Atlanta</td><td>5</td></tr><tr><td>12</td><td>Liam</td><td>IT</td><td>Support</td><td>50000</td><td>San Francisco</td><td>3</td></tr><tr><td>13</td><td>Mia</td><td>Finance</td><td>Analyst</td><td>64000</td><td>Chicago</td><td>4</td></tr><tr><td>14</td><td>Noah</td><td>Marketing</td><td>Specialist</td><td>56000</td><td>Los Angeles</td><td>2</td></tr><tr><td>15</td><td>Olivia</td><td>Sales</td><td>Executive</td><td>61000</td><td>Miami</td><td>6</td></tr><tr><td>16</td><td>Paul</td><td>IT</td><td>Developer</td><td>73000</td><td>Austin</td><td>3</td></tr><tr><td>17</td><td>Quinn</td><td>HR</td><td>Assistant</td><td>49000</td><td>Boston</td><td>2</td></tr><tr><td>18</td><td>Ruth</td><td>Finance</td><td>Manager</td><td>81000</td><td>Seattle</td><td>7</td></tr><tr><td>19</td><td>Sam</td><td>Marketing</td><td>Coordinator</td><td>54000</td><td>Denver</td><td>4</td></tr><tr><td>20</td><td>Tina</td><td>Sales</td><td>Executive</td><td>63000</td><td>San Diego</td><td>5</td></tr></tbody></table></div>"
      ]
     },
     "metadata": {
      "application/vnd.databricks.v1+output": {
       "addedWidgets": {},
       "aggData": [],
       "aggError": "",
       "aggOverflow": false,
       "aggSchema": [],
       "aggSeriesLimitReached": false,
       "aggType": "",
       "arguments": {},
       "columnCustomDisplayInfos": {},
       "data": [
        [
         1,
         "Alice",
         "HR",
         "Manager",
         "50000",
         "New York",
         5
        ],
        [
         2,
         "Bob",
         "IT",
         "Developer",
         "70000",
         "San Francisco",
         3
        ],
        [
         3,
         "Charlie",
         "Finance",
         "Analyst",
         "65000",
         "Chicago",
         4
        ],
        [
         4,
         "Diane",
         "Marketing",
         "Specialist",
         "55000",
         "Los Angeles",
         2
        ],
        [
         5,
         "Eve",
         "Sales",
         "Executive",
         "60000",
         "Miami",
         6
        ],
        [
         6,
         "Frank",
         "IT",
         "Developer",
         "72000",
         "Austin",
         3
        ],
        [
         7,
         "Grace",
         "HR",
         "Assistant",
         "48000",
         "Boston",
         2
        ],
        [
         8,
         "Henry",
         "Finance",
         "Manager",
         "80000",
         "Seattle",
         7
        ],
        [
         9,
         "Irene",
         "Marketing",
         "Coordinator",
         "53000",
         "Denver",
         4
        ],
        [
         10,
         "Jack",
         "Sales",
         "Executive",
         "62000",
         "San Diego",
         5
        ],
        [
         11,
         "Karen",
         "HR",
         "Manager",
         "52000",
         "Atlanta",
         5
        ],
        [
         12,
         "Liam",
         "IT",
         "Support",
         "50000",
         "San Francisco",
         3
        ],
        [
         13,
         "Mia",
         "Finance",
         "Analyst",
         "64000",
         "Chicago",
         4
        ],
        [
         14,
         "Noah",
         "Marketing",
         "Specialist",
         "56000",
         "Los Angeles",
         2
        ],
        [
         15,
         "Olivia",
         "Sales",
         "Executive",
         "61000",
         "Miami",
         6
        ],
        [
         16,
         "Paul",
         "IT",
         "Developer",
         "73000",
         "Austin",
         3
        ],
        [
         17,
         "Quinn",
         "HR",
         "Assistant",
         "49000",
         "Boston",
         2
        ],
        [
         18,
         "Ruth",
         "Finance",
         "Manager",
         "81000",
         "Seattle",
         7
        ],
        [
         19,
         "Sam",
         "Marketing",
         "Coordinator",
         "54000",
         "Denver",
         4
        ],
        [
         20,
         "Tina",
         "Sales",
         "Executive",
         "63000",
         "San Diego",
         5
        ]
       ],
       "datasetInfos": [],
       "dbfsResultPath": null,
       "isJsonSchema": true,
       "metadata": {},
       "overflow": false,
       "plotOptions": {
        "customPlotOptions": {},
        "displayType": "table",
        "pivotAggregation": null,
        "pivotColumns": null,
        "xColumns": null,
        "yColumns": null
       },
       "removedWidgets": [],
       "schema": [
        {
         "metadata": "{}",
         "name": "employee_id",
         "type": "\"integer\""
        },
        {
         "metadata": "{}",
         "name": "name",
         "type": "\"string\""
        },
        {
         "metadata": "{}",
         "name": "dept",
         "type": "\"string\""
        },
        {
         "metadata": "{}",
         "name": "title",
         "type": "\"string\""
        },
        {
         "metadata": "{}",
         "name": "salary",
         "type": "\"string\""
        },
        {
         "metadata": "{}",
         "name": "city",
         "type": "\"string\""
        },
        {
         "metadata": "{}",
         "name": "experience",
         "type": "\"integer\""
        }
       ],
       "type": "table"
      }
     },
     "output_type": "display_data"
    }
   ],
   "source": [
    "%sql\n",
    "\n",
    "SELECT * FROM employees;"
   ]
  },
  {
   "cell_type": "markdown",
   "metadata": {
    "application/vnd.databricks.v1+cell": {
     "cellMetadata": {},
     "inputWidgets": {},
     "nuid": "7b296f76-05ce-4e94-9c74-da7c00ab341b",
     "showTitle": false,
     "title": ""
    }
   },
   "source": [
    "## SQL "
   ]
  },
  {
   "cell_type": "code",
   "execution_count": 0,
   "metadata": {
    "application/vnd.databricks.v1+cell": {
     "cellMetadata": {
      "byteLimit": 2048000,
      "implicitDf": true,
      "rowLimit": 10000
     },
     "inputWidgets": {},
     "nuid": "0533e4d8-fd5d-4dec-b145-ddcf8627a4d4",
     "showTitle": false,
     "title": ""
    }
   },
   "outputs": [
    {
     "output_type": "display_data",
     "data": {
      "text/html": [
       "<style scoped>\n",
       "  .table-result-container {\n",
       "    max-height: 300px;\n",
       "    overflow: auto;\n",
       "  }\n",
       "  table, th, td {\n",
       "    border: 1px solid black;\n",
       "    border-collapse: collapse;\n",
       "  }\n",
       "  th, td {\n",
       "    padding: 5px;\n",
       "  }\n",
       "  th {\n",
       "    text-align: left;\n",
       "  }\n",
       "</style><div class='table-result-container'><table class='table-result'><thead style='background-color: white'><tr><th>employee_id</th><th>dept</th><th>title</th><th>salary</th></tr></thead><tbody><tr><td>1</td><td>HR</td><td>Manager</td><td>50000</td></tr><tr><td>2</td><td>IT</td><td>Developer</td><td>70000</td></tr><tr><td>3</td><td>Finance</td><td>Analyst</td><td>65000</td></tr><tr><td>4</td><td>Marketing</td><td>Specialist</td><td>55000</td></tr><tr><td>5</td><td>Sales</td><td>Executive</td><td>60000</td></tr><tr><td>6</td><td>IT</td><td>Developer</td><td>72000</td></tr><tr><td>7</td><td>HR</td><td>Assistant</td><td>48000</td></tr><tr><td>8</td><td>Finance</td><td>Manager</td><td>80000</td></tr><tr><td>9</td><td>Marketing</td><td>Coordinator</td><td>53000</td></tr><tr><td>10</td><td>Sales</td><td>Executive</td><td>62000</td></tr><tr><td>11</td><td>HR</td><td>Manager</td><td>52000</td></tr><tr><td>12</td><td>IT</td><td>Support</td><td>50000</td></tr><tr><td>13</td><td>Finance</td><td>Analyst</td><td>64000</td></tr><tr><td>14</td><td>Marketing</td><td>Specialist</td><td>56000</td></tr><tr><td>15</td><td>Sales</td><td>Executive</td><td>61000</td></tr><tr><td>16</td><td>IT</td><td>Developer</td><td>73000</td></tr><tr><td>17</td><td>HR</td><td>Assistant</td><td>49000</td></tr><tr><td>18</td><td>Finance</td><td>Manager</td><td>81000</td></tr><tr><td>19</td><td>Marketing</td><td>Coordinator</td><td>54000</td></tr><tr><td>20</td><td>Sales</td><td>Executive</td><td>63000</td></tr></tbody></table></div>"
      ]
     },
     "metadata": {
      "application/vnd.databricks.v1+output": {
       "addedWidgets": {},
       "aggData": [],
       "aggError": "",
       "aggOverflow": false,
       "aggSchema": [],
       "aggSeriesLimitReached": false,
       "aggType": "",
       "arguments": {},
       "columnCustomDisplayInfos": {},
       "data": [
        [
         1,
         "HR",
         "Manager",
         "50000"
        ],
        [
         2,
         "IT",
         "Developer",
         "70000"
        ],
        [
         3,
         "Finance",
         "Analyst",
         "65000"
        ],
        [
         4,
         "Marketing",
         "Specialist",
         "55000"
        ],
        [
         5,
         "Sales",
         "Executive",
         "60000"
        ],
        [
         6,
         "IT",
         "Developer",
         "72000"
        ],
        [
         7,
         "HR",
         "Assistant",
         "48000"
        ],
        [
         8,
         "Finance",
         "Manager",
         "80000"
        ],
        [
         9,
         "Marketing",
         "Coordinator",
         "53000"
        ],
        [
         10,
         "Sales",
         "Executive",
         "62000"
        ],
        [
         11,
         "HR",
         "Manager",
         "52000"
        ],
        [
         12,
         "IT",
         "Support",
         "50000"
        ],
        [
         13,
         "Finance",
         "Analyst",
         "64000"
        ],
        [
         14,
         "Marketing",
         "Specialist",
         "56000"
        ],
        [
         15,
         "Sales",
         "Executive",
         "61000"
        ],
        [
         16,
         "IT",
         "Developer",
         "73000"
        ],
        [
         17,
         "HR",
         "Assistant",
         "49000"
        ],
        [
         18,
         "Finance",
         "Manager",
         "81000"
        ],
        [
         19,
         "Marketing",
         "Coordinator",
         "54000"
        ],
        [
         20,
         "Sales",
         "Executive",
         "63000"
        ]
       ],
       "datasetInfos": [],
       "dbfsResultPath": null,
       "isJsonSchema": true,
       "metadata": {},
       "overflow": false,
       "plotOptions": {
        "customPlotOptions": {},
        "displayType": "table",
        "pivotAggregation": null,
        "pivotColumns": null,
        "xColumns": null,
        "yColumns": null
       },
       "removedWidgets": [],
       "schema": [
        {
         "metadata": "{}",
         "name": "employee_id",
         "type": "\"integer\""
        },
        {
         "metadata": "{}",
         "name": "dept",
         "type": "\"string\""
        },
        {
         "metadata": "{}",
         "name": "title",
         "type": "\"string\""
        },
        {
         "metadata": "{}",
         "name": "salary",
         "type": "\"string\""
        }
       ],
       "type": "table"
      }
     },
     "output_type": "display_data"
    }
   ],
   "source": [
    "%sql\n",
    "\n",
    "SELECT * EXCEPT(name,city,experience)FROM employees;"
   ]
  },
  {
   "cell_type": "code",
   "execution_count": 0,
   "metadata": {
    "application/vnd.databricks.v1+cell": {
     "cellMetadata": {
      "byteLimit": 2048000,
      "implicitDf": true,
      "rowLimit": 10000
     },
     "inputWidgets": {},
     "nuid": "1fc5e7c1-7bb9-4e3a-8223-88ff90e24a25",
     "showTitle": false,
     "title": ""
    }
   },
   "outputs": [
    {
     "output_type": "display_data",
     "data": {
      "text/html": [
       "<style scoped>\n",
       "  .table-result-container {\n",
       "    max-height: 300px;\n",
       "    overflow: auto;\n",
       "  }\n",
       "  table, th, td {\n",
       "    border: 1px solid black;\n",
       "    border-collapse: collapse;\n",
       "  }\n",
       "  th, td {\n",
       "    padding: 5px;\n",
       "  }\n",
       "  th {\n",
       "    text-align: left;\n",
       "  }\n",
       "</style><div class='table-result-container'><table class='table-result'><thead style='background-color: white'><tr><th>name</th><th>title</th><th>city</th><th>experience</th><th>dept</th><th>budget</th><th>headquarters</th></tr></thead><tbody><tr><td>Charlie</td><td>Analyst</td><td>Chicago</td><td>4</td><td>Finance</td><td>750000</td><td>Chicago</td></tr><tr><td>Henry</td><td>Manager</td><td>Seattle</td><td>7</td><td>Finance</td><td>750000</td><td>Chicago</td></tr><tr><td>Mia</td><td>Analyst</td><td>Chicago</td><td>4</td><td>Finance</td><td>750000</td><td>Chicago</td></tr><tr><td>Ruth</td><td>Manager</td><td>Seattle</td><td>7</td><td>Finance</td><td>750000</td><td>Chicago</td></tr><tr><td>Alice</td><td>Manager</td><td>New York</td><td>5</td><td>HR</td><td>500000</td><td>New York</td></tr><tr><td>Grace</td><td>Assistant</td><td>Boston</td><td>2</td><td>HR</td><td>500000</td><td>New York</td></tr><tr><td>Karen</td><td>Manager</td><td>Atlanta</td><td>5</td><td>HR</td><td>500000</td><td>New York</td></tr><tr><td>Quinn</td><td>Assistant</td><td>Boston</td><td>2</td><td>HR</td><td>500000</td><td>New York</td></tr><tr><td>Bob</td><td>Developer</td><td>San Francisco</td><td>3</td><td>IT</td><td>1200000</td><td>San Francisco</td></tr><tr><td>Frank</td><td>Developer</td><td>Austin</td><td>3</td><td>IT</td><td>1200000</td><td>San Francisco</td></tr><tr><td>Liam</td><td>Support</td><td>San Francisco</td><td>3</td><td>IT</td><td>1200000</td><td>San Francisco</td></tr><tr><td>Paul</td><td>Developer</td><td>Austin</td><td>3</td><td>IT</td><td>1200000</td><td>San Francisco</td></tr><tr><td>Diane</td><td>Specialist</td><td>Los Angeles</td><td>2</td><td>Marketing</td><td>600000</td><td>Los Angeles</td></tr><tr><td>Irene</td><td>Coordinator</td><td>Denver</td><td>4</td><td>Marketing</td><td>600000</td><td>Los Angeles</td></tr><tr><td>Noah</td><td>Specialist</td><td>Los Angeles</td><td>2</td><td>Marketing</td><td>600000</td><td>Los Angeles</td></tr><tr><td>Sam</td><td>Coordinator</td><td>Denver</td><td>4</td><td>Marketing</td><td>600000</td><td>Los Angeles</td></tr><tr><td>Eve</td><td>Executive</td><td>Miami</td><td>6</td><td>Sales</td><td>850000</td><td>Miami</td></tr><tr><td>Jack</td><td>Executive</td><td>San Diego</td><td>5</td><td>Sales</td><td>850000</td><td>Miami</td></tr><tr><td>Olivia</td><td>Executive</td><td>Miami</td><td>6</td><td>Sales</td><td>850000</td><td>Miami</td></tr><tr><td>Tina</td><td>Executive</td><td>San Diego</td><td>5</td><td>Sales</td><td>850000</td><td>Miami</td></tr></tbody></table></div>"
      ]
     },
     "metadata": {
      "application/vnd.databricks.v1+output": {
       "addedWidgets": {},
       "aggData": [],
       "aggError": "",
       "aggOverflow": false,
       "aggSchema": [],
       "aggSeriesLimitReached": false,
       "aggType": "",
       "arguments": {},
       "columnCustomDisplayInfos": {},
       "data": [
        [
         "Charlie",
         "Analyst",
         "Chicago",
         4,
         "Finance",
         750000,
         "Chicago"
        ],
        [
         "Henry",
         "Manager",
         "Seattle",
         7,
         "Finance",
         750000,
         "Chicago"
        ],
        [
         "Mia",
         "Analyst",
         "Chicago",
         4,
         "Finance",
         750000,
         "Chicago"
        ],
        [
         "Ruth",
         "Manager",
         "Seattle",
         7,
         "Finance",
         750000,
         "Chicago"
        ],
        [
         "Alice",
         "Manager",
         "New York",
         5,
         "HR",
         500000,
         "New York"
        ],
        [
         "Grace",
         "Assistant",
         "Boston",
         2,
         "HR",
         500000,
         "New York"
        ],
        [
         "Karen",
         "Manager",
         "Atlanta",
         5,
         "HR",
         500000,
         "New York"
        ],
        [
         "Quinn",
         "Assistant",
         "Boston",
         2,
         "HR",
         500000,
         "New York"
        ],
        [
         "Bob",
         "Developer",
         "San Francisco",
         3,
         "IT",
         1200000,
         "San Francisco"
        ],
        [
         "Frank",
         "Developer",
         "Austin",
         3,
         "IT",
         1200000,
         "San Francisco"
        ],
        [
         "Liam",
         "Support",
         "San Francisco",
         3,
         "IT",
         1200000,
         "San Francisco"
        ],
        [
         "Paul",
         "Developer",
         "Austin",
         3,
         "IT",
         1200000,
         "San Francisco"
        ],
        [
         "Diane",
         "Specialist",
         "Los Angeles",
         2,
         "Marketing",
         600000,
         "Los Angeles"
        ],
        [
         "Irene",
         "Coordinator",
         "Denver",
         4,
         "Marketing",
         600000,
         "Los Angeles"
        ],
        [
         "Noah",
         "Specialist",
         "Los Angeles",
         2,
         "Marketing",
         600000,
         "Los Angeles"
        ],
        [
         "Sam",
         "Coordinator",
         "Denver",
         4,
         "Marketing",
         600000,
         "Los Angeles"
        ],
        [
         "Eve",
         "Executive",
         "Miami",
         6,
         "Sales",
         850000,
         "Miami"
        ],
        [
         "Jack",
         "Executive",
         "San Diego",
         5,
         "Sales",
         850000,
         "Miami"
        ],
        [
         "Olivia",
         "Executive",
         "Miami",
         6,
         "Sales",
         850000,
         "Miami"
        ],
        [
         "Tina",
         "Executive",
         "San Diego",
         5,
         "Sales",
         850000,
         "Miami"
        ]
       ],
       "datasetInfos": [],
       "dbfsResultPath": null,
       "isJsonSchema": true,
       "metadata": {},
       "overflow": false,
       "plotOptions": {
        "customPlotOptions": {},
        "displayType": "table",
        "pivotAggregation": null,
        "pivotColumns": null,
        "xColumns": null,
        "yColumns": null
       },
       "removedWidgets": [],
       "schema": [
        {
         "metadata": "{}",
         "name": "name",
         "type": "\"string\""
        },
        {
         "metadata": "{}",
         "name": "title",
         "type": "\"string\""
        },
        {
         "metadata": "{}",
         "name": "city",
         "type": "\"string\""
        },
        {
         "metadata": "{}",
         "name": "experience",
         "type": "\"integer\""
        },
        {
         "metadata": "{}",
         "name": "dept",
         "type": "\"string\""
        },
        {
         "metadata": "{}",
         "name": "budget",
         "type": "\"integer\""
        },
        {
         "metadata": "{}",
         "name": "headquarters",
         "type": "\"string\""
        }
       ],
       "type": "table"
      }
     },
     "output_type": "display_data"
    }
   ],
   "source": [
    "%sql\n",
    "SELECT \n",
    "  e.* EXCEPT (employee_id, dept, salary),\n",
    "  d.* EXCEPT (num_employees)\n",
    "FROM employees AS e\n",
    "JOIN departments AS d\n",
    "ON e.dept=d.dept"
   ]
  },
  {
   "cell_type": "markdown",
   "metadata": {
    "application/vnd.databricks.v1+cell": {
     "cellMetadata": {},
     "inputWidgets": {},
     "nuid": "f0f54ef8-6659-4d55-a43c-8adf1f591aab",
     "showTitle": false,
     "title": ""
    }
   },
   "source": [
    "##Spark"
   ]
  },
  {
   "cell_type": "code",
   "execution_count": 0,
   "metadata": {
    "application/vnd.databricks.v1+cell": {
     "cellMetadata": {
      "byteLimit": 2048000,
      "rowLimit": 10000
     },
     "inputWidgets": {},
     "nuid": "f17f72b4-0474-4154-9051-fb003cdfb717",
     "showTitle": false,
     "title": ""
    }
   },
   "outputs": [],
   "source": [
    "from pyspark.sql.functions import col"
   ]
  },
  {
   "cell_type": "code",
   "execution_count": 0,
   "metadata": {
    "application/vnd.databricks.v1+cell": {
     "cellMetadata": {
      "byteLimit": 2048000,
      "rowLimit": 10000
     },
     "inputWidgets": {},
     "nuid": "b370c7bf-8dd3-4a25-9320-fbcc754b1c25",
     "showTitle": false,
     "title": ""
    }
   },
   "outputs": [
    {
     "output_type": "stream",
     "name": "stdout",
     "output_type": "stream",
     "text": [
      "+----------------+-------------+\n|            dept|num_employees|\n+----------------+-------------+\n|              HR|          120|\n|              IT|          150|\n|         Finance|          100|\n|       Marketing|           80|\n|           Sales|          130|\n|         Support|           60|\n|      Operations|           90|\n|           Legal|           50|\n|             R&D|          110|\n|Customer Service|           70|\n+----------------+-------------+\n\n"
     ]
    }
   ],
   "source": [
    "df_departments.select([\n",
    "    col for col in df_departments.columns if col not in {\"budget\",\"headquarters\"}\n",
    "]).show()"
   ]
  }
 ],
 "metadata": {
  "application/vnd.databricks.v1+notebook": {
   "dashboards": [],
   "environmentMetadata": null,
   "language": "python",
   "notebookMetadata": {
    "mostRecentlyExecutedCommandWithImplicitDF": {
     "commandId": 3109497771138587,
     "dataframes": [
      "_sqldf"
     ]
    },
    "pythonIndentUnit": 4
   },
   "notebookName": "ExceptColumns",
   "widgets": {}
  }
 },
 "nbformat": 4,
 "nbformat_minor": 0
}
