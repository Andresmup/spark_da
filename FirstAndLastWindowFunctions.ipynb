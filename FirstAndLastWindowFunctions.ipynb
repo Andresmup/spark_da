{
 "cells": [
  {
   "cell_type": "markdown",
   "id": "4fd7a49d-9766-49ab-a770-c54413208686",
   "metadata": {},
   "source": [
    "# FIRST AND LAS WINDOW FUNCTIONS"
   ]
  },
  {
   "cell_type": "markdown",
   "id": "0b9ad7ef-7f4c-4124-befb-519903754558",
   "metadata": {},
   "source": [
    "## Create DataFrame"
   ]
  },
  {
   "cell_type": "code",
   "execution_count": 1,
   "id": "bf448947-899e-499d-bb69-8b3140c52d2e",
   "metadata": {},
   "outputs": [],
   "source": [
    "import findspark\n",
    "findspark.init()"
   ]
  },
  {
   "cell_type": "code",
   "execution_count": 2,
   "id": "8bb025af-406b-4089-bea8-fec8c1f584a4",
   "metadata": {},
   "outputs": [
    {
     "name": "stderr",
     "output_type": "stream",
     "text": [
      "Setting default log level to \"WARN\".\n",
      "To adjust logging level use sc.setLogLevel(newLevel). For SparkR, use setLogLevel(newLevel).\n",
      "24/08/30 19:43:08 WARN NativeCodeLoader: Unable to load native-hadoop library for your platform... using builtin-java classes where applicable\n"
     ]
    }
   ],
   "source": [
    "from pyspark.sql import SparkSession\n",
    "spark = SparkSession.builder.getOrCreate()"
   ]
  },
  {
   "cell_type": "code",
   "execution_count": 3,
   "id": "bd7aa168-a5b5-4b30-831f-6921b4d6f3a2",
   "metadata": {},
   "outputs": [],
   "source": [
    "data_payments = [\n",
    "    (\"C1\",\"2024-08-12\",150),\n",
    "    (\"C1\",\"2024-08-13\",33),\n",
    "    (\"C2\",\"2024-06-01\",45),\n",
    "    (\"C2\",\"2024-07-29\",110),\n",
    "    (\"C3\",\"2024-01-01\",20),\n",
    "    (\"C3\",\"2024-01-02\",23),\n",
    "    (\"C3\",\"2024-02-24\",78),\n",
    "    (\"C3\",\"2024-05-11\",91),\n",
    "    (\"C1\",\"2024-08-14\",75),\n",
    "    (\"C1\",\"2024-08-15\",120),\n",
    "    (\"C2\",\"2024-08-01\",60),\n",
    "    (\"C2\",\"2024-08-05\",95),\n",
    "    (\"C3\",\"2024-05-12\",85),\n",
    "    (\"C3\",\"2024-06-01\",88),\n",
    "    (\"C3\",\"2024-06-15\",30),\n",
    "    (\"C3\",\"2024-07-01\",99),\n",
    "    (\"C1\",\"2024-08-16\",130),\n",
    "    (\"C1\",\"2024-08-17\",200),\n",
    "    (\"C2\",\"2024-08-10\",72),\n",
    "    (\"C2\",\"2024-08-20\",110),\n",
    "    (\"C3\",\"2024-07-02\",105),\n",
    "    (\"C3\",\"2024-08-01\",140),\n",
    "    (\"C3\",\"2024-08-15\",50),\n",
    "    (\"C3\",\"2024-08-20\",115)\n",
    "]\n",
    "\n",
    "schema_payments = \"id_customer STRING, payment_day STRING, amount INTEGER\""
   ]
  },
  {
   "cell_type": "code",
   "execution_count": 4,
   "id": "6a59c6c2-9007-49b0-87a8-05a0d5497e4d",
   "metadata": {},
   "outputs": [
    {
     "name": "stdout",
     "output_type": "stream",
     "text": [
      "root\n",
      " |-- id_customer: string (nullable = true)\n",
      " |-- payment_day: string (nullable = true)\n",
      " |-- amount: integer (nullable = true)\n",
      "\n"
     ]
    }
   ],
   "source": [
    "df_payments_original = spark.createDataFrame(data=data_payments,schema=schema_payments)\n",
    "df_payments_original.printSchema()"
   ]
  },
  {
   "cell_type": "code",
   "execution_count": 5,
   "id": "2c6e3fde-b415-4e51-abf9-beec016bab4f",
   "metadata": {},
   "outputs": [],
   "source": [
    "from pyspark.sql.functions import to_date"
   ]
  },
  {
   "cell_type": "code",
   "execution_count": 6,
   "id": "cbc2c631-696d-4265-84d9-2b252ecf890c",
   "metadata": {},
   "outputs": [
    {
     "name": "stdout",
     "output_type": "stream",
     "text": [
      "root\n",
      " |-- id_customer: string (nullable = true)\n",
      " |-- amount: integer (nullable = true)\n",
      " |-- payment_date: date (nullable = true)\n",
      "\n"
     ]
    }
   ],
   "source": [
    "df_payments = df_payments_original.withColumn(\"payment_date\", to_date(\"payment_day\", \"yyyy-MM-dd\")).drop(\"payment_day\")\n",
    "df_payments.printSchema()"
   ]
  },
  {
   "cell_type": "code",
   "execution_count": 7,
   "id": "e0430e48-d893-420e-9099-b167dec62b88",
   "metadata": {},
   "outputs": [
    {
     "name": "stderr",
     "output_type": "stream",
     "text": [
      "                                                                                \r"
     ]
    },
    {
     "name": "stdout",
     "output_type": "stream",
     "text": [
      "+-----------+------+------------+\n",
      "|id_customer|amount|payment_date|\n",
      "+-----------+------+------------+\n",
      "|         C1|   150|  2024-08-12|\n",
      "|         C1|    33|  2024-08-13|\n",
      "|         C2|    45|  2024-06-01|\n",
      "|         C2|   110|  2024-07-29|\n",
      "|         C3|    20|  2024-01-01|\n",
      "|         C3|    23|  2024-01-02|\n",
      "|         C3|    78|  2024-02-24|\n",
      "|         C3|    91|  2024-05-11|\n",
      "|         C1|    75|  2024-08-14|\n",
      "|         C1|   120|  2024-08-15|\n",
      "|         C2|    60|  2024-08-01|\n",
      "|         C2|    95|  2024-08-05|\n",
      "|         C3|    85|  2024-05-12|\n",
      "|         C3|    88|  2024-06-01|\n",
      "|         C3|    30|  2024-06-15|\n",
      "|         C3|    99|  2024-07-01|\n",
      "|         C1|   130|  2024-08-16|\n",
      "|         C1|   200|  2024-08-17|\n",
      "|         C2|    72|  2024-08-10|\n",
      "|         C2|   110|  2024-08-20|\n",
      "+-----------+------+------------+\n",
      "only showing top 20 rows\n",
      "\n"
     ]
    }
   ],
   "source": [
    "df_payments.show()"
   ]
  },
  {
   "cell_type": "markdown",
   "id": "e43d1966-51ad-4dc5-9cd4-5c27997bde0e",
   "metadata": {},
   "source": [
    "## Window Function"
   ]
  },
  {
   "cell_type": "code",
   "execution_count": 8,
   "id": "295e8878-48cf-4639-81ec-51c5076039bb",
   "metadata": {},
   "outputs": [],
   "source": [
    "from pyspark.sql.window import Window\n",
    "\n",
    "window_function = Window.partitionBy(\"id_customer\")"
   ]
  },
  {
   "cell_type": "markdown",
   "id": "ff473502-f5af-459e-8150-573e637f784a",
   "metadata": {},
   "source": [
    "## Generate Columns for First and Last Payment"
   ]
  },
  {
   "cell_type": "code",
   "execution_count": 9,
   "id": "168fe775-7bf8-4c42-927a-4d7fd4ab79df",
   "metadata": {},
   "outputs": [],
   "source": [
    "from pyspark.sql.functions import first, last"
   ]
  },
  {
   "cell_type": "code",
   "execution_count": 10,
   "id": "abfb5a2b-28dd-4eb3-9c58-62711d3a4f8a",
   "metadata": {},
   "outputs": [
    {
     "name": "stdout",
     "output_type": "stream",
     "text": [
      "+-----------+------+------------+-------------+------------+\n",
      "|id_customer|amount|payment_date|first_payment|last_payment|\n",
      "+-----------+------+------------+-------------+------------+\n",
      "|         C1|   150|  2024-08-12|   2024-08-12|  2024-08-17|\n",
      "|         C1|    33|  2024-08-13|   2024-08-12|  2024-08-17|\n",
      "|         C1|    75|  2024-08-14|   2024-08-12|  2024-08-17|\n",
      "|         C1|   120|  2024-08-15|   2024-08-12|  2024-08-17|\n",
      "|         C1|   130|  2024-08-16|   2024-08-12|  2024-08-17|\n",
      "|         C1|   200|  2024-08-17|   2024-08-12|  2024-08-17|\n",
      "|         C2|    45|  2024-06-01|   2024-06-01|  2024-08-20|\n",
      "|         C2|   110|  2024-07-29|   2024-06-01|  2024-08-20|\n",
      "|         C2|    60|  2024-08-01|   2024-06-01|  2024-08-20|\n",
      "|         C2|    95|  2024-08-05|   2024-06-01|  2024-08-20|\n",
      "|         C2|    72|  2024-08-10|   2024-06-01|  2024-08-20|\n",
      "|         C2|   110|  2024-08-20|   2024-06-01|  2024-08-20|\n",
      "|         C3|    20|  2024-01-01|   2024-01-01|  2024-08-20|\n",
      "|         C3|    23|  2024-01-02|   2024-01-01|  2024-08-20|\n",
      "|         C3|    78|  2024-02-24|   2024-01-01|  2024-08-20|\n",
      "|         C3|    91|  2024-05-11|   2024-01-01|  2024-08-20|\n",
      "|         C3|    85|  2024-05-12|   2024-01-01|  2024-08-20|\n",
      "|         C3|    88|  2024-06-01|   2024-01-01|  2024-08-20|\n",
      "|         C3|    30|  2024-06-15|   2024-01-01|  2024-08-20|\n",
      "|         C3|    99|  2024-07-01|   2024-01-01|  2024-08-20|\n",
      "+-----------+------+------------+-------------+------------+\n",
      "only showing top 20 rows\n",
      "\n"
     ]
    }
   ],
   "source": [
    "df_payments_calculate = df_payments \\\n",
    "                        .withColumn(\"first_payment\", first(\"payment_date\").over(window_function)) \\\n",
    "                        .withColumn(\"last_payment\", last(\"payment_date\").over(window_function))\n",
    "\n",
    "df_payments_calculate.show()"
   ]
  },
  {
   "cell_type": "markdown",
   "id": "ad0ad67e-db23-4ed5-9675-33c753745f15",
   "metadata": {},
   "source": [
    "## Get especific values"
   ]
  },
  {
   "cell_type": "code",
   "execution_count": 11,
   "id": "4ab9c522-f8f4-43d1-96b5-a514e6968694",
   "metadata": {},
   "outputs": [
    {
     "name": "stdout",
     "output_type": "stream",
     "text": [
      "+-----------+-------------+------------+\n",
      "|id_customer|first_payment|last_payment|\n",
      "+-----------+-------------+------------+\n",
      "|         C1|   2024-08-12|  2024-08-17|\n",
      "|         C2|   2024-06-01|  2024-08-20|\n",
      "|         C3|   2024-01-01|  2024-08-20|\n",
      "+-----------+-------------+------------+\n",
      "\n"
     ]
    }
   ],
   "source": [
    "df_payments_calculate.drop(\"payment_date\",\"amount\").distinct().show()"
   ]
  }
 ],
 "metadata": {
  "kernelspec": {
   "display_name": "Python 3 (ipykernel)",
   "language": "python",
   "name": "python3"
  },
  "language_info": {
   "codemirror_mode": {
    "name": "ipython",
    "version": 3
   },
   "file_extension": ".py",
   "mimetype": "text/x-python",
   "name": "python",
   "nbconvert_exporter": "python",
   "pygments_lexer": "ipython3",
   "version": "3.11.7"
  }
 },
 "nbformat": 4,
 "nbformat_minor": 5
}
