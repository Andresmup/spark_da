{
 "cells": [
  {
   "cell_type": "markdown",
   "metadata": {
    "application/vnd.databricks.v1+cell": {
     "cellMetadata": {},
     "inputWidgets": {},
     "nuid": "f479b88a-c0db-457b-a027-e8e4bba4836a",
     "showTitle": false,
     "title": ""
    }
   },
   "source": [
    "# DATA ENCRIPTION"
   ]
  },
  {
   "cell_type": "markdown",
   "metadata": {
    "application/vnd.databricks.v1+cell": {
     "cellMetadata": {},
     "inputWidgets": {},
     "nuid": "5e4d6f90-1e59-444f-8941-c5ffa5c01c86",
     "showTitle": false,
     "title": ""
    }
   },
   "source": [
    "## Create Delta Table"
   ]
  },
  {
   "cell_type": "code",
   "execution_count": 0,
   "metadata": {
    "application/vnd.databricks.v1+cell": {
     "cellMetadata": {
      "byteLimit": 2048000,
      "rowLimit": 10000
     },
     "inputWidgets": {},
     "nuid": "db77974d-7368-4fb3-865a-e2eebdc1bed4",
     "showTitle": false,
     "title": ""
    }
   },
   "outputs": [],
   "source": [
    "from delta.tables import *"
   ]
  },
  {
   "cell_type": "code",
   "execution_count": 0,
   "metadata": {
    "application/vnd.databricks.v1+cell": {
     "cellMetadata": {
      "byteLimit": 2048000,
      "rowLimit": 10000
     },
     "inputWidgets": {},
     "nuid": "ac9fc981-a7b7-46a5-9cc9-46568236f36e",
     "showTitle": false,
     "title": ""
    }
   },
   "outputs": [
    {
     "output_type": "stream",
     "name": "stdout",
     "output_type": "stream",
     "text": [
      "Out[14]: True"
     ]
    }
   ],
   "source": [
    "dbutils.fs.rm('dbfs:/user/hive/warehouse/ssn_table/', True)"
   ]
  },
  {
   "cell_type": "code",
   "execution_count": 0,
   "metadata": {
    "application/vnd.databricks.v1+cell": {
     "cellMetadata": {
      "byteLimit": 2048000,
      "rowLimit": 10000
     },
     "inputWidgets": {},
     "nuid": "e4d68c54-b110-47bd-b45d-53337d5a25b7",
     "showTitle": false,
     "title": ""
    }
   },
   "outputs": [
    {
     "output_type": "stream",
     "name": "stdout",
     "output_type": "stream",
     "text": [
      "Out[15]: <delta.tables.DeltaTable at 0x7fa133d78b80>"
     ]
    }
   ],
   "source": [
    "DeltaTable.createOrReplace(spark) \\\n",
    "    .tableName(\"ssn_table\") \\\n",
    "    .addColumn(\"id\", \"INT\") \\\n",
    "    .addColumn(\"name\", \"STRING\") \\\n",
    "    .addColumn(\"gender\", \"STRING\") \\\n",
    "    .addColumn(\"ssn\", \"STRING\") \\\n",
    "    .addColumn(\"dept\", \"STRING\") \\\n",
    "    .execute()"
   ]
  },
  {
   "cell_type": "code",
   "execution_count": 0,
   "metadata": {
    "application/vnd.databricks.v1+cell": {
     "cellMetadata": {
      "byteLimit": 2048000,
      "implicitDf": true,
      "rowLimit": 10000
     },
     "inputWidgets": {},
     "nuid": "35d191ac-78c6-4432-8e09-d3ff53890ae1",
     "showTitle": false,
     "title": ""
    }
   },
   "outputs": [
    {
     "output_type": "display_data",
     "data": {
      "text/html": [
       "<style scoped>\n",
       "  .table-result-container {\n",
       "    max-height: 300px;\n",
       "    overflow: auto;\n",
       "  }\n",
       "  table, th, td {\n",
       "    border: 1px solid black;\n",
       "    border-collapse: collapse;\n",
       "  }\n",
       "  th, td {\n",
       "    padding: 5px;\n",
       "  }\n",
       "  th {\n",
       "    text-align: left;\n",
       "  }\n",
       "</style><div class='table-result-container'><table class='table-result'><thead style='background-color: white'><tr><th>num_affected_rows</th><th>num_inserted_rows</th></tr></thead><tbody><tr><td>1</td><td>1</td></tr></tbody></table></div>"
      ]
     },
     "metadata": {
      "application/vnd.databricks.v1+output": {
       "addedWidgets": {},
       "aggData": [],
       "aggError": "",
       "aggOverflow": false,
       "aggSchema": [],
       "aggSeriesLimitReached": false,
       "aggType": "",
       "arguments": {},
       "columnCustomDisplayInfos": {},
       "data": [
        [
         1,
         1
        ]
       ],
       "datasetInfos": [],
       "dbfsResultPath": null,
       "isJsonSchema": true,
       "metadata": {},
       "overflow": false,
       "plotOptions": {
        "customPlotOptions": {},
        "displayType": "table",
        "pivotAggregation": null,
        "pivotColumns": null,
        "xColumns": null,
        "yColumns": null
       },
       "removedWidgets": [],
       "schema": [
        {
         "metadata": "{}",
         "name": "num_affected_rows",
         "type": "\"long\""
        },
        {
         "metadata": "{}",
         "name": "num_inserted_rows",
         "type": "\"long\""
        }
       ],
       "type": "table"
      }
     },
     "output_type": "display_data"
    }
   ],
   "source": [
    "%sql\n",
    "\n",
    "INSERT INTO ssn_table VALUES (1, \"Carl Mike\", \"m\", \"170000\", \"Support\");\n",
    "INSERT INTO ssn_table VALUES (2, \"Mikel Clark\", \"m\", \"254300\", \"IT\");\n",
    "INSERT INTO ssn_table VALUES (3, \"Bob Smith\", \"m\", \"220000\", \"IT\");\n",
    "INSERT INTO ssn_table VALUES (4, \"Mary Scala\", \"f\", \"230000\", \"Sales\");;\n",
    "INSERT INTO ssn_table VALUES (5, \"Susan Liam\", \"f\", \"150000\", \"Sales\");\n",
    "INSERT INTO ssn_table VALUES (6, \"Xi Wuan\", \"f\", \"150000\", \"IT\");\n",
    "INSERT INTO ssn_table VALUES (7, \"Luis Fuentes\", \"m\", \"257100\", \"IT\");\n",
    "INSERT INTO ssn_table VALUES (8, \"Pedro Jose\", \"m\", \"254300\", \"IT\");"
   ]
  },
  {
   "cell_type": "code",
   "execution_count": 0,
   "metadata": {
    "application/vnd.databricks.v1+cell": {
     "cellMetadata": {
      "byteLimit": 2048000,
      "implicitDf": true,
      "rowLimit": 10000
     },
     "inputWidgets": {},
     "nuid": "9c42abb3-cc46-4d11-bc47-7e7fa9bc68e3",
     "showTitle": false,
     "title": ""
    }
   },
   "outputs": [
    {
     "output_type": "display_data",
     "data": {
      "text/html": [
       "<style scoped>\n",
       "  .table-result-container {\n",
       "    max-height: 300px;\n",
       "    overflow: auto;\n",
       "  }\n",
       "  table, th, td {\n",
       "    border: 1px solid black;\n",
       "    border-collapse: collapse;\n",
       "  }\n",
       "  th, td {\n",
       "    padding: 5px;\n",
       "  }\n",
       "  th {\n",
       "    text-align: left;\n",
       "  }\n",
       "</style><div class='table-result-container'><table class='table-result'><thead style='background-color: white'><tr><th>id</th><th>name</th><th>gender</th><th>ssn</th><th>dept</th></tr></thead><tbody><tr><td>1</td><td>Carl Mike</td><td>m</td><td>170000</td><td>Support</td></tr><tr><td>4</td><td>Mary Scala</td><td>f</td><td>230000</td><td>Sales</td></tr><tr><td>5</td><td>Susan Liam</td><td>f</td><td>150000</td><td>Sales</td></tr><tr><td>7</td><td>Luis Fuentes</td><td>m</td><td>257100</td><td>IT</td></tr><tr><td>2</td><td>Mikel Clark</td><td>m</td><td>254300</td><td>IT</td></tr><tr><td>8</td><td>Pedro Jose</td><td>m</td><td>254300</td><td>IT</td></tr><tr><td>3</td><td>Bob Smith</td><td>m</td><td>220000</td><td>IT</td></tr><tr><td>6</td><td>Xi Wuan</td><td>f</td><td>150000</td><td>IT</td></tr></tbody></table></div>"
      ]
     },
     "metadata": {
      "application/vnd.databricks.v1+output": {
       "addedWidgets": {},
       "aggData": [],
       "aggError": "",
       "aggOverflow": false,
       "aggSchema": [],
       "aggSeriesLimitReached": false,
       "aggType": "",
       "arguments": {},
       "columnCustomDisplayInfos": {},
       "data": [
        [
         1,
         "Carl Mike",
         "m",
         "170000",
         "Support"
        ],
        [
         4,
         "Mary Scala",
         "f",
         "230000",
         "Sales"
        ],
        [
         5,
         "Susan Liam",
         "f",
         "150000",
         "Sales"
        ],
        [
         7,
         "Luis Fuentes",
         "m",
         "257100",
         "IT"
        ],
        [
         2,
         "Mikel Clark",
         "m",
         "254300",
         "IT"
        ],
        [
         8,
         "Pedro Jose",
         "m",
         "254300",
         "IT"
        ],
        [
         3,
         "Bob Smith",
         "m",
         "220000",
         "IT"
        ],
        [
         6,
         "Xi Wuan",
         "f",
         "150000",
         "IT"
        ]
       ],
       "datasetInfos": [],
       "dbfsResultPath": null,
       "isJsonSchema": true,
       "metadata": {},
       "overflow": false,
       "plotOptions": {
        "customPlotOptions": {},
        "displayType": "table",
        "pivotAggregation": null,
        "pivotColumns": null,
        "xColumns": null,
        "yColumns": null
       },
       "removedWidgets": [],
       "schema": [
        {
         "metadata": "{}",
         "name": "id",
         "type": "\"integer\""
        },
        {
         "metadata": "{}",
         "name": "name",
         "type": "\"string\""
        },
        {
         "metadata": "{}",
         "name": "gender",
         "type": "\"string\""
        },
        {
         "metadata": "{}",
         "name": "ssn",
         "type": "\"string\""
        },
        {
         "metadata": "{}",
         "name": "dept",
         "type": "\"string\""
        }
       ],
       "type": "table"
      }
     },
     "output_type": "display_data"
    }
   ],
   "source": [
    "%sql\n",
    "\n",
    "SELECT * FROM ssn_table;"
   ]
  },
  {
   "cell_type": "markdown",
   "metadata": {
    "application/vnd.databricks.v1+cell": {
     "cellMetadata": {},
     "inputWidgets": {},
     "nuid": "a16ea7aa-379f-4d03-b52f-c79be6aff589",
     "showTitle": false,
     "title": ""
    }
   },
   "source": [
    "## Pip install cryptography"
   ]
  },
  {
   "cell_type": "code",
   "execution_count": 0,
   "metadata": {
    "application/vnd.databricks.v1+cell": {
     "cellMetadata": {
      "byteLimit": 2048000,
      "rowLimit": 10000
     },
     "inputWidgets": {},
     "nuid": "acf25236-8108-4c87-afb4-78d5b89fef6d",
     "showTitle": false,
     "title": ""
    }
   },
   "outputs": [
    {
     "output_type": "stream",
     "name": "stdout",
     "output_type": "stream",
     "text": [
      "Requirement already satisfied: cryptography in /databricks/python3/lib/python3.9/site-packages (3.4.8)\r\nRequirement already satisfied: cffi>=1.12 in /databricks/python3/lib/python3.9/site-packages (from cryptography) (1.15.0)\r\nRequirement already satisfied: pycparser in /databricks/python3/lib/python3.9/site-packages (from cffi>=1.12->cryptography) (2.21)\r\n\u001B[33mWARNING: You are using pip version 21.2.4; however, version 24.2 is available.\r\nYou should consider upgrading via the '/local_disk0/.ephemeral_nfs/envs/pythonEnv-218d0b2b-b715-4e22-b4c2-21abdc5753fa/bin/python -m pip install --upgrade pip' command.\u001B[0m\r\n"
     ]
    }
   ],
   "source": [
    "!pip install cryptography"
   ]
  },
  {
   "cell_type": "markdown",
   "metadata": {
    "application/vnd.databricks.v1+cell": {
     "cellMetadata": {},
     "inputWidgets": {},
     "nuid": "984f5793-502f-490f-aebd-3520ae01c27b",
     "showTitle": false,
     "title": ""
    }
   },
   "source": [
    "## Generate key"
   ]
  },
  {
   "cell_type": "code",
   "execution_count": 0,
   "metadata": {
    "application/vnd.databricks.v1+cell": {
     "cellMetadata": {
      "byteLimit": 2048000,
      "rowLimit": 10000
     },
     "inputWidgets": {},
     "nuid": "27d81e0f-903c-4788-b4b8-c3ad50d97909",
     "showTitle": false,
     "title": ""
    }
   },
   "outputs": [],
   "source": [
    "from cryptography.fernet import Fernet\n",
    "\n",
    "key = Fernet.generate_key()\n",
    "f = Fernet(key)"
   ]
  },
  {
   "cell_type": "markdown",
   "metadata": {
    "application/vnd.databricks.v1+cell": {
     "cellMetadata": {},
     "inputWidgets": {},
     "nuid": "3de19d3f-c6cc-431f-9629-d189e3ae78a5",
     "showTitle": false,
     "title": ""
    }
   },
   "source": [
    "## Encript Sample Data"
   ]
  },
  {
   "cell_type": "code",
   "execution_count": 0,
   "metadata": {
    "application/vnd.databricks.v1+cell": {
     "cellMetadata": {
      "byteLimit": 2048000,
      "rowLimit": 10000
     },
     "inputWidgets": {},
     "nuid": "1d519610-1e17-4810-b99b-1d0202053a23",
     "showTitle": false,
     "title": ""
    }
   },
   "outputs": [
    {
     "output_type": "stream",
     "name": "stdout",
     "output_type": "stream",
     "text": [
      "b'gAAAAABm0g_0mHQdnoQNpq_Ddd3FdUPlcP2QXkPyZdh9dlvZQkQwF5QJhVT1Man6CZuk4445lpg-HuD4dT2NkNaJwTDmE5KwAljzlgMtYMKnmdj3dEWiCxY='\n"
     ]
    }
   ],
   "source": [
    "sensitive_data = b\"sensitive_email@gmail.com\"\n",
    "encript_test_data = f.encrypt(sensitive_data)\n",
    "print(encript_test_data)"
   ]
  },
  {
   "cell_type": "markdown",
   "metadata": {
    "application/vnd.databricks.v1+cell": {
     "cellMetadata": {},
     "inputWidgets": {},
     "nuid": "c32e9017-5b09-4249-bdcd-d84a8a48e6f2",
     "showTitle": false,
     "title": ""
    }
   },
   "source": [
    "## Decript Sample Data"
   ]
  },
  {
   "cell_type": "code",
   "execution_count": 0,
   "metadata": {
    "application/vnd.databricks.v1+cell": {
     "cellMetadata": {
      "byteLimit": 2048000,
      "rowLimit": 10000
     },
     "inputWidgets": {},
     "nuid": "43161fc7-1aa0-4cbf-8dbf-0f92fb0379bd",
     "showTitle": false,
     "title": ""
    }
   },
   "outputs": [
    {
     "output_type": "stream",
     "name": "stdout",
     "output_type": "stream",
     "text": [
      "b'sensitive_email@gmail.com'\n"
     ]
    }
   ],
   "source": [
    "print(f.decrypt(encript_test_data))"
   ]
  },
  {
   "cell_type": "markdown",
   "metadata": {
    "application/vnd.databricks.v1+cell": {
     "cellMetadata": {},
     "inputWidgets": {},
     "nuid": "e0c507cd-f470-4397-83a6-b2ca1a1b4976",
     "showTitle": false,
     "title": ""
    }
   },
   "source": [
    "## Define UDFs"
   ]
  },
  {
   "cell_type": "code",
   "execution_count": 0,
   "metadata": {
    "application/vnd.databricks.v1+cell": {
     "cellMetadata": {
      "byteLimit": 2048000,
      "rowLimit": 10000
     },
     "inputWidgets": {},
     "nuid": "2d85a799-06bf-40f1-ab60-107aac5c2197",
     "showTitle": false,
     "title": ""
    }
   },
   "outputs": [],
   "source": [
    "def encrypt_data(data, key):\n",
    "    from cryptography.fernet import Fernet\n",
    "    f = Fernet(key)\n",
    "    data_b = bytes(data, 'utf-8')\n",
    "    return str(f.encrypt(data_b).decode('ascii'))"
   ]
  },
  {
   "cell_type": "code",
   "execution_count": 0,
   "metadata": {
    "application/vnd.databricks.v1+cell": {
     "cellMetadata": {
      "byteLimit": 2048000,
      "rowLimit": 10000
     },
     "inputWidgets": {},
     "nuid": "ab46345f-a05e-4e59-80fb-3c525cc4eb95",
     "showTitle": false,
     "title": ""
    }
   },
   "outputs": [],
   "source": [
    "def decrypt_data(data, key):\n",
    "    from cryptography.fernet import Fernet\n",
    "    f = Fernet(key)\n",
    "    return f.decrypt(data.encode()).decode()"
   ]
  },
  {
   "cell_type": "markdown",
   "metadata": {
    "application/vnd.databricks.v1+cell": {
     "cellMetadata": {},
     "inputWidgets": {},
     "nuid": "b92bad49-8d21-4849-83a0-72a0cb5d06bc",
     "showTitle": false,
     "title": ""
    }
   },
   "source": [
    "## Register UDFs"
   ]
  },
  {
   "cell_type": "code",
   "execution_count": 0,
   "metadata": {
    "application/vnd.databricks.v1+cell": {
     "cellMetadata": {
      "byteLimit": 2048000,
      "rowLimit": 10000
     },
     "inputWidgets": {},
     "nuid": "f66ca7b1-9a08-47e2-8c1a-c90023d8e7b5",
     "showTitle": false,
     "title": ""
    }
   },
   "outputs": [],
   "source": [
    "from pyspark.sql.functions import udf, lit, md5\n",
    "from pyspark.sql.types import StringType"
   ]
  },
  {
   "cell_type": "code",
   "execution_count": 0,
   "metadata": {
    "application/vnd.databricks.v1+cell": {
     "cellMetadata": {
      "byteLimit": 2048000,
      "rowLimit": 10000
     },
     "inputWidgets": {},
     "nuid": "db9abb11-1819-4a90-a990-da598373142d",
     "showTitle": false,
     "title": ""
    }
   },
   "outputs": [],
   "source": [
    "encryption = udf(encrypt_data, StringType())\n",
    "decryption = udf(decrypt_data, StringType())"
   ]
  },
  {
   "cell_type": "markdown",
   "metadata": {
    "application/vnd.databricks.v1+cell": {
     "cellMetadata": {},
     "inputWidgets": {},
     "nuid": "036847f8-0bd7-4014-b986-c3f3f971cbe7",
     "showTitle": false,
     "title": ""
    }
   },
   "source": [
    "## Encrypt data using UDF"
   ]
  },
  {
   "cell_type": "code",
   "execution_count": 0,
   "metadata": {
    "application/vnd.databricks.v1+cell": {
     "cellMetadata": {
      "byteLimit": 2048000,
      "rowLimit": 10000
     },
     "inputWidgets": {},
     "nuid": "5e556baa-480e-46bd-b988-79e103ba5eab",
     "showTitle": false,
     "title": ""
    }
   },
   "outputs": [
    {
     "output_type": "stream",
     "name": "stdout",
     "output_type": "stream",
     "text": [
      "+---+------------+------+------+-------+----------------------------------------------------------------------------------------------------+\n|id |name        |gender|ssn   |dept   |ssn_encript                                                                                         |\n+---+------------+------+------+-------+----------------------------------------------------------------------------------------------------+\n|1  |Carl Mike   |m     |170000|Support|gAAAAABm0hCqlTZeS1oJdYRI0leRLLuZmAOHYCkneuXGAJjmMwuv69oZEQEvkjjApygPG4K12enHBINNkKE45vciVxKomliWqA==|\n|4  |Mary Scala  |f     |230000|Sales  |gAAAAABm0hCrxz2BkTeg5VKvBFE7dFhzEhT2c8C5GOpXcoy0kEeykC6h-xTUzLy2DzRn90Zf9l3-IODEj8weoHczH_1haZgLmg==|\n|5  |Susan Liam  |f     |150000|Sales  |gAAAAABm0hCrgJM_qd850V6IQSSKOAPj_2zFWcAwO_8NJby2Gf27e1iNC-KqkgaothRN-Tz51n8vNJQXPrTESxUeFlFAZTEiZA==|\n|7  |Luis Fuentes|m     |257100|IT     |gAAAAABm0hCrkOfVb0FybPXo6mqJSDVQKZUznbl7X0TSrctbgnvjxSzvlBc3xesECEeCowekYWlj3b3qkMsYhyW_gYVe6RhVaQ==|\n|2  |Mikel Clark |m     |254300|IT     |gAAAAABm0hCr_cElaBVCdogFFylQvnsRoid-dxKvsXNmEA8rfJAvwoCcqMmWrt49DDwDM2LNHOqiGUI3wfzZCErr29WIGNDChA==|\n|8  |Pedro Jose  |m     |254300|IT     |gAAAAABm0hCsUIXRrbLaGnBDzHm37wydAVVQMY9kVDLTWgI0DgkJmouX3MuvLojML1f7djbOSoLIzF6CfzahgsNBTCiSu8zhYA==|\n|3  |Bob Smith   |m     |220000|IT     |gAAAAABm0hCsvKTuRgC86RcosNlyF5aj0QvQhKAdKTKBmJMj4WuOFJ1JZyqdswQ_jxDHnRWoww910X3SQmIbNdXbpf4hwoqQCw==|\n|6  |Xi Wuan     |f     |150000|IT     |gAAAAABm0hCshHN3i7uGc1x5MVPco-YNKkrg5PGI4XLd_JSnSNHveFYbNrO4vpBVcA0pESaCMeF0S2gAz2bMMiIx-qO8da3N4w==|\n+---+------------+------+------+-------+----------------------------------------------------------------------------------------------------+\n\n"
     ]
    }
   ],
   "source": [
    "df = spark.table(\"ssn_table\")\n",
    "\n",
    "df_encrypt = df.withColumn(\"ssn_encript\", encryption(\"ssn\", lit(key)))\n",
    "\n",
    "df_encrypt.show(truncate=False)"
   ]
  },
  {
   "cell_type": "markdown",
   "metadata": {
    "application/vnd.databricks.v1+cell": {
     "cellMetadata": {},
     "inputWidgets": {},
     "nuid": "9a4ed668-2cb3-4439-8466-e1c1f92b5cd2",
     "showTitle": false,
     "title": ""
    }
   },
   "source": [
    "## Decrypt data using UDF"
   ]
  },
  {
   "cell_type": "code",
   "execution_count": 0,
   "metadata": {
    "application/vnd.databricks.v1+cell": {
     "cellMetadata": {
      "byteLimit": 2048000,
      "rowLimit": 10000
     },
     "inputWidgets": {},
     "nuid": "0f277be6-cc0b-4e1d-bdc2-b665e4935f58",
     "showTitle": false,
     "title": ""
    }
   },
   "outputs": [
    {
     "output_type": "stream",
     "name": "stdout",
     "output_type": "stream",
     "text": [
      "+---+------------+------+------+-------+-----------+\n|id |name        |gender|ssn   |dept   |ssn_decript|\n+---+------------+------+------+-------+-----------+\n|1  |Carl Mike   |m     |170000|Support|170000     |\n|4  |Mary Scala  |f     |230000|Sales  |230000     |\n|5  |Susan Liam  |f     |150000|Sales  |150000     |\n|7  |Luis Fuentes|m     |257100|IT     |257100     |\n|2  |Mikel Clark |m     |254300|IT     |254300     |\n|8  |Pedro Jose  |m     |254300|IT     |254300     |\n|3  |Bob Smith   |m     |220000|IT     |220000     |\n|6  |Xi Wuan     |f     |150000|IT     |150000     |\n+---+------------+------+------+-------+-----------+\n\n"
     ]
    }
   ],
   "source": [
    "df_decrypt = df_encrypt.withColumn(\"ssn_decript\", decryption(\"ssn_encript\", lit(key))).drop(\"ssn_encript\")\n",
    "\n",
    "df_decrypt.show(truncate=False)"
   ]
  }
 ],
 "metadata": {
  "application/vnd.databricks.v1+notebook": {
   "dashboards": [],
   "environmentMetadata": null,
   "language": "python",
   "notebookMetadata": {
    "mostRecentlyExecutedCommandWithImplicitDF": {
     "commandId": 3675700737665195,
     "dataframes": [
      "_sqldf"
     ]
    },
    "pythonIndentUnit": 4
   },
   "notebookName": "DataEncript",
   "widgets": {}
  }
 },
 "nbformat": 4,
 "nbformat_minor": 0
}
