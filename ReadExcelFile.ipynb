{
 "cells": [
  {
   "cell_type": "markdown",
   "metadata": {
    "application/vnd.databricks.v1+cell": {
     "cellMetadata": {},
     "inputWidgets": {},
     "nuid": "06b607c6-057e-49bf-af09-995d97090199",
     "showTitle": false,
     "title": ""
    }
   },
   "source": [
    "# READ EXCEL FILE"
   ]
  },
  {
   "cell_type": "code",
   "execution_count": 0,
   "metadata": {
    "application/vnd.databricks.v1+cell": {
     "cellMetadata": {
      "byteLimit": 2048000,
      "rowLimit": 10000
     },
     "inputWidgets": {},
     "nuid": "e829ba52-680a-4627-bc5e-c9adf0b0ce5f",
     "showTitle": false,
     "title": ""
    }
   },
   "outputs": [
    {
     "output_type": "execute_result",
     "data": {
      "text/plain": [
       "[FileInfo(path='dbfs:/FileStore/tables/sample_excel_data.xlsx', name='sample_excel_data.xlsx', size=12154, modificationTime=1724960953000)]"
      ]
     },
     "execution_count": 1,
     "metadata": {},
     "output_type": "execute_result"
    }
   ],
   "source": [
    "dbutils.fs.ls(\"dbfs:/FileStore/tables/sample_excel_data.xlsx\")"
   ]
  },
  {
   "cell_type": "markdown",
   "metadata": {
    "application/vnd.databricks.v1+cell": {
     "cellMetadata": {},
     "inputWidgets": {},
     "nuid": "d040f580-d07d-4cef-9e78-7e115e0409a8",
     "showTitle": false,
     "title": ""
    }
   },
   "source": [
    "Maven package com.crealytics:spark-excel_2.12:3.1.3_0.20.4"
   ]
  },
  {
   "cell_type": "markdown",
   "metadata": {
    "application/vnd.databricks.v1+cell": {
     "cellMetadata": {},
     "inputWidgets": {},
     "nuid": "47e137d2-8754-4a9c-90c8-5193a1292f14",
     "showTitle": false,
     "title": ""
    }
   },
   "source": [
    "## Read xlsx file"
   ]
  },
  {
   "cell_type": "code",
   "execution_count": 0,
   "metadata": {
    "application/vnd.databricks.v1+cell": {
     "cellMetadata": {
      "byteLimit": 2048000,
      "rowLimit": 10000
     },
     "inputWidgets": {},
     "nuid": "f600a297-ab86-4dc6-a0fe-d251189cb45d",
     "showTitle": false,
     "title": ""
    }
   },
   "outputs": [
    {
     "output_type": "stream",
     "name": "stdout",
     "output_type": "stream",
     "text": [
      "+---+------------+----+----+\n| id|        name| age|mark|\n+---+------------+----+----+\n|1.0| James Smith|24.0| 9.0|\n|2.0|Rebeca Malon|26.0|10.0|\n|3.0|      Xi Lou|20.0| 8.0|\n+---+------------+----+----+\n\n"
     ]
    }
   ],
   "source": [
    "df_students = spark.read.format(\"com.crealytics.spark.excel\").option(\"inferschema\",True).option(\"header\",True).option(\"dataAddress\",\"students!\").load(\"dbfs:/FileStore/tables/sample_excel_data.xlsx\")\n",
    "\n",
    "df_students.show()"
   ]
  },
  {
   "cell_type": "code",
   "execution_count": 0,
   "metadata": {
    "application/vnd.databricks.v1+cell": {
     "cellMetadata": {
      "byteLimit": 2048000,
      "rowLimit": 10000
     },
     "inputWidgets": {},
     "nuid": "394407b2-ac77-47d7-a7b0-984961270702",
     "showTitle": false,
     "title": ""
    }
   },
   "outputs": [
    {
     "output_type": "stream",
     "name": "stdout",
     "output_type": "stream",
     "text": [
      "root\n |-- id: double (nullable = true)\n |-- name: string (nullable = true)\n |-- age: double (nullable = true)\n |-- mark: double (nullable = true)\n\n"
     ]
    }
   ],
   "source": [
    "df_students.printSchema()"
   ]
  },
  {
   "cell_type": "code",
   "execution_count": 0,
   "metadata": {
    "application/vnd.databricks.v1+cell": {
     "cellMetadata": {
      "byteLimit": 2048000,
      "rowLimit": 10000
     },
     "inputWidgets": {},
     "nuid": "b275b102-40ec-4c10-9771-5c49cfe332fa",
     "showTitle": false,
     "title": ""
    }
   },
   "outputs": [],
   "source": [
    "schema_professors = \"id INTEGER, name STRING, subject STRING\""
   ]
  },
  {
   "cell_type": "code",
   "execution_count": 0,
   "metadata": {
    "application/vnd.databricks.v1+cell": {
     "cellMetadata": {
      "byteLimit": 2048000,
      "rowLimit": 10000
     },
     "inputWidgets": {},
     "nuid": "7c878769-8f97-49f0-802b-2aadd3b6ca25",
     "showTitle": false,
     "title": ""
    }
   },
   "outputs": [
    {
     "output_type": "stream",
     "name": "stdout",
     "output_type": "stream",
     "text": [
      "+---+----------------+-------+\n| id|            name|subject|\n+---+----------------+-------+\n|  1|        Leo Mark|   Math|\n|  2|      Liam Scoot|Science|\n|  3|Carlos Rodriguez|   NULL|\n+---+----------------+-------+\n\n"
     ]
    }
   ],
   "source": [
    "df_professors = spark.read.format(\"com.crealytics.spark.excel\").option(\"header\",True).option(\"dataAddress\",\"professors!\").schema(schema_professors).load(\"dbfs:/FileStore/tables/sample_excel_data.xlsx\")\n",
    "\n",
    "df_professors.show()"
   ]
  },
  {
   "cell_type": "code",
   "execution_count": 0,
   "metadata": {
    "application/vnd.databricks.v1+cell": {
     "cellMetadata": {
      "byteLimit": 2048000,
      "rowLimit": 10000
     },
     "inputWidgets": {},
     "nuid": "fdf4af68-42b8-49f3-86df-b3fe4bebc6d9",
     "showTitle": false,
     "title": ""
    }
   },
   "outputs": [
    {
     "output_type": "stream",
     "name": "stdout",
     "output_type": "stream",
     "text": [
      "root\n |-- id: integer (nullable = true)\n |-- name: string (nullable = true)\n |-- subject: string (nullable = true)\n\n"
     ]
    }
   ],
   "source": [
    "df_professors.printSchema()"
   ]
  },
  {
   "cell_type": "code",
   "execution_count": 0,
   "metadata": {
    "application/vnd.databricks.v1+cell": {
     "cellMetadata": {
      "byteLimit": 2048000,
      "rowLimit": 10000
     },
     "inputWidgets": {},
     "nuid": "11982589-f1e9-440d-898f-f2e83953e660",
     "showTitle": false,
     "title": ""
    }
   },
   "outputs": [],
   "source": [
    "schema_rooms = \"number_room INTEGER, active Boolean\""
   ]
  },
  {
   "cell_type": "code",
   "execution_count": 0,
   "metadata": {
    "application/vnd.databricks.v1+cell": {
     "cellMetadata": {
      "byteLimit": 2048000,
      "rowLimit": 10000
     },
     "inputWidgets": {},
     "nuid": "bc7da0ab-e3a0-4a1d-b079-0633eb648f5d",
     "showTitle": false,
     "title": ""
    }
   },
   "outputs": [
    {
     "output_type": "stream",
     "name": "stdout",
     "output_type": "stream",
     "text": [
      "+-----------+------+\n|number_room|active|\n+-----------+------+\n|          1|  true|\n|          2|  true|\n|          4| false|\n+-----------+------+\n\n"
     ]
    }
   ],
   "source": [
    "df_rooms = spark.read.format(\"com.crealytics.spark.excel\").option(\"header\",True).option(\"dataAddress\",\"rooms!\").schema(schema_rooms).load(\"dbfs:/FileStore/tables/sample_excel_data.xlsx\")\n",
    "\n",
    "df_rooms.show()"
   ]
  },
  {
   "cell_type": "code",
   "execution_count": 0,
   "metadata": {
    "application/vnd.databricks.v1+cell": {
     "cellMetadata": {
      "byteLimit": 2048000,
      "rowLimit": 10000
     },
     "inputWidgets": {},
     "nuid": "1662f60d-e648-4c0b-8398-e298c465338e",
     "showTitle": false,
     "title": ""
    }
   },
   "outputs": [
    {
     "output_type": "stream",
     "name": "stdout",
     "output_type": "stream",
     "text": [
      "root\n |-- number_room: integer (nullable = true)\n |-- active: boolean (nullable = true)\n\n"
     ]
    }
   ],
   "source": [
    "df_rooms.printSchema()"
   ]
  }
 ],
 "metadata": {
  "application/vnd.databricks.v1+notebook": {
   "dashboards": [],
   "environmentMetadata": null,
   "language": "python",
   "notebookMetadata": {
    "pythonIndentUnit": 4
   },
   "notebookName": "ReadExcelFile",
   "widgets": {}
  }
 },
 "nbformat": 4,
 "nbformat_minor": 0
}
