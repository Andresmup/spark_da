{
 "cells": [
  {
   "cell_type": "markdown",
   "id": "0f2e94be-91c6-4103-9d71-b7d100d6fbe1",
   "metadata": {},
   "source": [
    "# QUERY DATAFRAME USING SPARK SQL"
   ]
  },
  {
   "cell_type": "code",
   "execution_count": 1,
   "id": "86dd3a4d-d28f-44f9-9aef-15c33a2968e5",
   "metadata": {},
   "outputs": [],
   "source": [
    "import findspark\n",
    "findspark.init()"
   ]
  },
  {
   "cell_type": "code",
   "execution_count": 2,
   "id": "1a47cf4f-086f-4b85-8982-3ecd854415e1",
   "metadata": {},
   "outputs": [
    {
     "name": "stderr",
     "output_type": "stream",
     "text": [
      "Setting default log level to \"WARN\".\n",
      "To adjust logging level use sc.setLogLevel(newLevel). For SparkR, use setLogLevel(newLevel).\n",
      "24/08/31 00:14:12 WARN NativeCodeLoader: Unable to load native-hadoop library for your platform... using builtin-java classes where applicable\n"
     ]
    }
   ],
   "source": [
    "from pyspark.sql import SparkSession\n",
    "spark = SparkSession.builder.getOrCreate()"
   ]
  },
  {
   "cell_type": "code",
   "execution_count": 3,
   "id": "d946f455-f81b-49b0-b370-7e93c89ff674",
   "metadata": {},
   "outputs": [],
   "source": [
    "data_students = [\n",
    "    (\"Alice\", \"Johnson\", \"Math\", 85, 72, 65, 88, 94, True, 95),\n",
    "    (\"Alice\", \"Johnson\", \"English\", 78, 84, 57, 91, 89, True, 88),\n",
    "    (\"Alice\", \"Johnson\", \"History\", 92, 76, 82, 93, 80, True, 97),\n",
    "    (\"Alice\", \"Johnson\", \"Science\", 67, 70, 85, 66, 73, True, 80),\n",
    "    (\"Alice\", \"Johnson\", \"Art\", 55, 59, 47, 60, 62, False, 70),\n",
    "    \n",
    "    (\"Bob\", \"Smith\", \"Math\", 72, 66, 81, 75, 83, True, 85),\n",
    "    (\"Bob\", \"Smith\", \"English\", 81, 92, 74, 68, 77, True, 90),\n",
    "    (\"Bob\", \"Smith\", \"History\", 60, 54, 69, 61, 65, True, 75),\n",
    "    (\"Bob\", \"Smith\", \"Science\", 50, 48, 56, 53, 60, False, 65),\n",
    "    (\"Bob\", \"Smith\", \"Art\", 58, 61, 63, 57, 55, True, 77),\n",
    "\n",
    "    (\"Charlie\", \"Wood\", \"Math\", 93, 88, 79, 91, 85, True, 98),\n",
    "    (\"Charlie\", \"Wood\", \"English\", 89, 83, 87, 92, 90, True, 92),\n",
    "    (\"Charlie\", \"Wood\", \"History\", 74, 68, 77, 72, 70, True, 84),\n",
    "    (\"Charlie\", \"Wood\", \"Science\", 88, 91, 85, 87, 89, True, 91),\n",
    "    (\"Charlie\", \"Wood\", \"Art\", 79, 74, 81, 76, 78, True, 87),\n",
    "\n",
    "    (\"Diane\", \"Brown\", \"Math\", 61, 55, 64, 58, 62, True, 82),\n",
    "    (\"Diane\", \"Brown\", \"English\", 57, 49, 53, 61, 50, False, 68),\n",
    "    (\"Diane\", \"Brown\", \"History\", 69, 63, 71, 66, 67, True, 80),\n",
    "    (\"Diane\", \"Brown\", \"Science\", 73, 78, 70, 74, 72, True, 85),\n",
    "    (\"Diane\", \"Brown\", \"Art\", 62, 58, 65, 60, 63, True, 76),\n",
    "\n",
    "    (\"Eve\", \"Davis\", \"Math\", 54, 47, 52, 56, 50, False, 66),\n",
    "    (\"Eve\", \"Davis\", \"English\", 48, 42, 45, 49, 44, False, 58),\n",
    "    (\"Eve\", \"Davis\", \"History\", 63, 68, 61, 66, 62, True, 77),\n",
    "    (\"Eve\", \"Davis\", \"Science\", 70, 73, 75, 69, 71, True, 83),\n",
    "    (\"Eve\", \"Davis\", \"Art\", 66, 64, 69, 61, 67, True, 81)\n",
    "]\n",
    "\n",
    "\n",
    "schema_students = \"first_name STRING, last_name STRING, suject STRING, exam_1 INTEGER, exam_2 INTEGER, exam_3 INTEGER, exam_4 INTEGER, exam_5 INTEGER, approved BOOLEAN, attendance INTEGER\""
   ]
  },
  {
   "cell_type": "code",
   "execution_count": 4,
   "id": "3a46864d-92e6-431f-9e71-2df7448c0c35",
   "metadata": {},
   "outputs": [
    {
     "name": "stderr",
     "output_type": "stream",
     "text": [
      "                                                                                \r"
     ]
    },
    {
     "name": "stdout",
     "output_type": "stream",
     "text": [
      "+----------+---------+-------+------+------+------+------+------+--------+----------+\n",
      "|first_name|last_name|suject |exam_1|exam_2|exam_3|exam_4|exam_5|approved|attendance|\n",
      "+----------+---------+-------+------+------+------+------+------+--------+----------+\n",
      "|Alice     |Johnson  |Math   |85    |72    |65    |88    |94    |true    |95        |\n",
      "|Alice     |Johnson  |English|78    |84    |57    |91    |89    |true    |88        |\n",
      "|Alice     |Johnson  |History|92    |76    |82    |93    |80    |true    |97        |\n",
      "|Alice     |Johnson  |Science|67    |70    |85    |66    |73    |true    |80        |\n",
      "|Alice     |Johnson  |Art    |55    |59    |47    |60    |62    |false   |70        |\n",
      "|Bob       |Smith    |Math   |72    |66    |81    |75    |83    |true    |85        |\n",
      "|Bob       |Smith    |English|81    |92    |74    |68    |77    |true    |90        |\n",
      "|Bob       |Smith    |History|60    |54    |69    |61    |65    |true    |75        |\n",
      "|Bob       |Smith    |Science|50    |48    |56    |53    |60    |false   |65        |\n",
      "|Bob       |Smith    |Art    |58    |61    |63    |57    |55    |true    |77        |\n",
      "|Charlie   |Wood     |Math   |93    |88    |79    |91    |85    |true    |98        |\n",
      "|Charlie   |Wood     |English|89    |83    |87    |92    |90    |true    |92        |\n",
      "|Charlie   |Wood     |History|74    |68    |77    |72    |70    |true    |84        |\n",
      "|Charlie   |Wood     |Science|88    |91    |85    |87    |89    |true    |91        |\n",
      "|Charlie   |Wood     |Art    |79    |74    |81    |76    |78    |true    |87        |\n",
      "|Diane     |Brown    |Math   |61    |55    |64    |58    |62    |true    |82        |\n",
      "|Diane     |Brown    |English|57    |49    |53    |61    |50    |false   |68        |\n",
      "|Diane     |Brown    |History|69    |63    |71    |66    |67    |true    |80        |\n",
      "|Diane     |Brown    |Science|73    |78    |70    |74    |72    |true    |85        |\n",
      "|Diane     |Brown    |Art    |62    |58    |65    |60    |63    |true    |76        |\n",
      "+----------+---------+-------+------+------+------+------+------+--------+----------+\n",
      "only showing top 20 rows\n",
      "\n"
     ]
    }
   ],
   "source": [
    "df_students = spark.createDataFrame(data=data_students,schema=schema_students)\n",
    "\n",
    "df_students.show(truncate=False)"
   ]
  },
  {
   "cell_type": "code",
   "execution_count": 6,
   "id": "a59330af-b6c2-4e74-ae6a-b24a271f8dff",
   "metadata": {},
   "outputs": [
    {
     "name": "stdout",
     "output_type": "stream",
     "text": [
      "+----------+---------+-------+------+------+------+------+------+--------+----------+\n",
      "|first_name|last_name|suject |exam_1|exam_2|exam_3|exam_4|exam_5|approved|attendance|\n",
      "+----------+---------+-------+------+------+------+------+------+--------+----------+\n",
      "|Alice     |Johnson  |Math   |85    |72    |65    |88    |94    |true    |95        |\n",
      "|Alice     |Johnson  |English|78    |84    |57    |91    |89    |true    |88        |\n",
      "|Alice     |Johnson  |History|92    |76    |82    |93    |80    |true    |97        |\n",
      "|Alice     |Johnson  |Science|67    |70    |85    |66    |73    |true    |80        |\n",
      "|Alice     |Johnson  |Art    |55    |59    |47    |60    |62    |false   |70        |\n",
      "|Bob       |Smith    |Math   |72    |66    |81    |75    |83    |true    |85        |\n",
      "|Bob       |Smith    |English|81    |92    |74    |68    |77    |true    |90        |\n",
      "|Bob       |Smith    |History|60    |54    |69    |61    |65    |true    |75        |\n",
      "|Bob       |Smith    |Science|50    |48    |56    |53    |60    |false   |65        |\n",
      "|Bob       |Smith    |Art    |58    |61    |63    |57    |55    |true    |77        |\n",
      "|Charlie   |Wood     |Math   |93    |88    |79    |91    |85    |true    |98        |\n",
      "|Charlie   |Wood     |English|89    |83    |87    |92    |90    |true    |92        |\n",
      "|Charlie   |Wood     |History|74    |68    |77    |72    |70    |true    |84        |\n",
      "|Charlie   |Wood     |Science|88    |91    |85    |87    |89    |true    |91        |\n",
      "|Charlie   |Wood     |Art    |79    |74    |81    |76    |78    |true    |87        |\n",
      "|Diane     |Brown    |Math   |61    |55    |64    |58    |62    |true    |82        |\n",
      "|Diane     |Brown    |English|57    |49    |53    |61    |50    |false   |68        |\n",
      "|Diane     |Brown    |History|69    |63    |71    |66    |67    |true    |80        |\n",
      "|Diane     |Brown    |Science|73    |78    |70    |74    |72    |true    |85        |\n",
      "|Diane     |Brown    |Art    |62    |58    |65    |60    |63    |true    |76        |\n",
      "+----------+---------+-------+------+------+------+------+------+--------+----------+\n",
      "only showing top 20 rows\n",
      "\n"
     ]
    }
   ],
   "source": [
    "spark.sql(\"select * from {table}\",table=df_students).show(truncate=False)"
   ]
  },
  {
   "cell_type": "code",
   "execution_count": 7,
   "id": "23a4e738-9a18-41a4-9d6d-1e8e295076ef",
   "metadata": {},
   "outputs": [],
   "source": [
    "from pyspark.sql.functions import col"
   ]
  },
  {
   "cell_type": "code",
   "execution_count": 12,
   "id": "5a5ce4a6-687e-4a09-9a92-3656d60a35d0",
   "metadata": {},
   "outputs": [
    {
     "name": "stdout",
     "output_type": "stream",
     "text": [
      "+----------+\n",
      "|first_name|\n",
      "+----------+\n",
      "|Alice     |\n",
      "|Alice     |\n",
      "|Alice     |\n",
      "|Alice     |\n",
      "|Alice     |\n",
      "|Bob       |\n",
      "|Bob       |\n",
      "|Bob       |\n",
      "|Bob       |\n",
      "|Bob       |\n",
      "|Charlie   |\n",
      "|Charlie   |\n",
      "|Charlie   |\n",
      "|Charlie   |\n",
      "|Charlie   |\n",
      "|Diane     |\n",
      "|Diane     |\n",
      "|Diane     |\n",
      "|Diane     |\n",
      "|Diane     |\n",
      "+----------+\n",
      "only showing top 20 rows\n",
      "\n"
     ]
    }
   ],
   "source": [
    "spark.sql(\"select {columns} from {table}\",columns=col(\"first_name\") ,table=df_students).show(truncate=False)"
   ]
  },
  {
   "cell_type": "code",
   "execution_count": 15,
   "id": "ec83038a-3f4f-450c-b3d6-c9699f2b857b",
   "metadata": {},
   "outputs": [
    {
     "name": "stdout",
     "output_type": "stream",
     "text": [
      "+----------+--------+-----+\n",
      "|first_name|approved|total|\n",
      "+----------+--------+-----+\n",
      "|Alice     |true    |404  |\n",
      "|Alice     |true    |399  |\n",
      "|Alice     |true    |423  |\n",
      "|Alice     |true    |361  |\n",
      "|Alice     |false   |283  |\n",
      "|Bob       |true    |377  |\n",
      "|Bob       |true    |392  |\n",
      "|Bob       |true    |309  |\n",
      "|Bob       |false   |267  |\n",
      "|Bob       |true    |294  |\n",
      "|Charlie   |true    |436  |\n",
      "|Charlie   |true    |441  |\n",
      "|Charlie   |true    |361  |\n",
      "|Charlie   |true    |440  |\n",
      "|Charlie   |true    |388  |\n",
      "|Diane     |true    |300  |\n",
      "|Diane     |false   |270  |\n",
      "|Diane     |true    |336  |\n",
      "|Diane     |true    |367  |\n",
      "|Diane     |true    |308  |\n",
      "+----------+--------+-----+\n",
      "only showing top 20 rows\n",
      "\n"
     ]
    }
   ],
   "source": [
    "spark.sql(\"select first_name, approved, (exam_1+exam_2+exam_3+exam_4+exam_5) AS total from {table}\",table=df_students).show(truncate=False)"
   ]
  }
 ],
 "metadata": {
  "kernelspec": {
   "display_name": "Python 3 (ipykernel)",
   "language": "python",
   "name": "python3"
  },
  "language_info": {
   "codemirror_mode": {
    "name": "ipython",
    "version": 3
   },
   "file_extension": ".py",
   "mimetype": "text/x-python",
   "name": "python",
   "nbconvert_exporter": "python",
   "pygments_lexer": "ipython3",
   "version": "3.11.7"
  }
 },
 "nbformat": 4,
 "nbformat_minor": 5
}
