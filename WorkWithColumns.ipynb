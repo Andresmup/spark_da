{
 "cells": [
  {
   "cell_type": "markdown",
   "metadata": {
    "application/vnd.databricks.v1+cell": {
     "cellMetadata": {},
     "inputWidgets": {},
     "nuid": "2a2a883c-c22b-47ce-92aa-1d631d296873",
     "showTitle": false,
     "title": ""
    }
   },
   "source": [
    "# WORK WITH COLUMNS"
   ]
  },
  {
   "cell_type": "code",
   "execution_count": 0,
   "metadata": {
    "application/vnd.databricks.v1+cell": {
     "cellMetadata": {
      "byteLimit": 2048000,
      "rowLimit": 10000
     },
     "inputWidgets": {},
     "nuid": "7963b003-d09c-4769-b1c9-895b4cc6e1c1",
     "showTitle": false,
     "title": ""
    }
   },
   "outputs": [],
   "source": [
    "schema_characters = \"id INTEGER, name STRING, guild STRING, class STRING, level INTEGER, experience INTEGER, health DOUBLE, is_alive BOOLEAN, last_active TIMESTAMP, mentor_id INTEGER\""
   ]
  },
  {
   "cell_type": "code",
   "execution_count": 0,
   "metadata": {
    "application/vnd.databricks.v1+cell": {
     "cellMetadata": {
      "byteLimit": 2048000,
      "rowLimit": 10000
     },
     "inputWidgets": {},
     "nuid": "0a688b1c-4623-4a98-85fc-6128003df515",
     "showTitle": false,
     "title": ""
    }
   },
   "outputs": [],
   "source": [
    "df_characters = spark.read.format(\"csv\").option(\"header\",True).option(\"sep\",\",\").schema(schema_characters).load('dbfs:/FileStore/tables/fantasy/characters.csv')"
   ]
  },
  {
   "cell_type": "code",
   "execution_count": 0,
   "metadata": {
    "application/vnd.databricks.v1+cell": {
     "cellMetadata": {
      "byteLimit": 2048000,
      "rowLimit": 10000
     },
     "inputWidgets": {},
     "nuid": "5a876902-ffc2-4c2a-ba6d-99e15b03b67d",
     "showTitle": false,
     "title": ""
    }
   },
   "outputs": [
    {
     "output_type": "stream",
     "name": "stdout",
     "output_type": "stream",
     "text": [
      "+---+---------+----------+-------+-----+----------+------+--------+-------------------+---------+\n| id|     name|     guild|  class|level|experience|health|is_alive|        last_active|mentor_id|\n+---+---------+----------+-------+-----+----------+------+--------+-------------------+---------+\n|  1|  Aragorn|   Rangers|Warrior|   25|      9000| 120.5|    true|2023-09-20 08:00:00|     null|\n|  2|  Legolas|  Mirkwood| Archer|   22|      7500|100.75|    true|2023-09-21 09:00:00|     null|\n|  3|    Gimli|    Erebor|Warrior|   20|      6000|130.25|    true|2023-09-22 07:00:00|     null|\n|  4|    Frodo| Shirefolk| Hobbit|   12|      2500|  50.5|   false|2023-09-23 10:00:00|        1|\n|  5|      Sam| Shirefolk| Hobbit|   13|      2750|  52.5|    true|2023-09-23 10:05:00|        1|\n|  6|  Gandalf|    Istari|   Mage|   30|     10000|  90.0|    true|2023-09-20 11:00:00|     null|\n|  7|  Boromir|    Gondor|Warrior|   18|      5500| 115.5|   false|2023-09-21 12:00:00|     null|\n|  8|    Merry| Shirefolk| Hobbit|   11|      2200|  48.5|    true|2023-09-22 10:00:00|        4|\n|  9|   Pippin| Shirefolk| Hobbit|   11|      2100|  47.5|    true|2023-09-22 10:01:00|        4|\n| 10|   Sauron|Dark Lords|   Mage|   40|     15000|  85.0|   false|2023-09-23 01:00:00|     null|\n| 11|  Saruman|    Istari|   Mage|   28|      8500|  88.5|   false|2023-09-20 03:00:00|        6|\n| 12|   Elrond| Rivendell|   Mage|   27|      8200|  87.5|    true|2023-09-21 04:00:00|        6|\n| 13|Thranduil|  Mirkwood| Archer|   26|      7900|  97.0|    true|2023-09-22 02:00:00|        2|\n| 14|    Eowyn|     Rohan|Warrior|   17|      5200| 112.5|    true|2023-09-23 05:00:00|        7|\n| 15|  Faramir|    Gondor| Archer|   19|      5700| 118.5|    true|2023-09-20 06:00:00|        7|\n+---+---------+----------+-------+-----+----------+------+--------+-------------------+---------+\n\n"
     ]
    }
   ],
   "source": [
    "df_characters.show()"
   ]
  },
  {
   "cell_type": "code",
   "execution_count": 0,
   "metadata": {
    "application/vnd.databricks.v1+cell": {
     "cellMetadata": {
      "byteLimit": 2048000,
      "rowLimit": 10000
     },
     "inputWidgets": {},
     "nuid": "6e1f1782-a521-44aa-ae9a-a15fdd058fe6",
     "showTitle": false,
     "title": ""
    }
   },
   "outputs": [
    {
     "output_type": "stream",
     "name": "stdout",
     "output_type": "stream",
     "text": [
      "+---+-------+----------+-------+-----+----------+------+--------+-------------------+---------+\n| id|   name|     guild|  class|level|experience|health|is_alive|        last_active|mentor_id|\n+---+-------+----------+-------+-----+----------+------+--------+-------------------+---------+\n|  4|  Frodo| Shirefolk| Hobbit|   12|      2500|  50.5|   false|2023-09-23 10:00:00|        1|\n|  7|Boromir|    Gondor|Warrior|   18|      5500| 115.5|   false|2023-09-21 12:00:00|     null|\n| 10| Sauron|Dark Lords|   Mage|   40|     15000|  85.0|   false|2023-09-23 01:00:00|     null|\n| 11|Saruman|    Istari|   Mage|   28|      8500|  88.5|   false|2023-09-20 03:00:00|        6|\n+---+-------+----------+-------+-----+----------+------+--------+-------------------+---------+\n\n"
     ]
    }
   ],
   "source": [
    "df_dead_characters = df_characters.filter(df_characters.is_alive == False)\n",
    "df_dead_characters.show()"
   ]
  },
  {
   "cell_type": "markdown",
   "metadata": {
    "application/vnd.databricks.v1+cell": {
     "cellMetadata": {},
     "inputWidgets": {},
     "nuid": "f6a3d6ef-aee1-41fe-9f97-5a04f6031238",
     "showTitle": false,
     "title": ""
    }
   },
   "source": [
    "## Add column using constrant literal"
   ]
  },
  {
   "cell_type": "code",
   "execution_count": 0,
   "metadata": {
    "application/vnd.databricks.v1+cell": {
     "cellMetadata": {
      "byteLimit": 2048000,
      "rowLimit": 10000
     },
     "inputWidgets": {},
     "nuid": "dc3d770f-ffdd-4f16-83ac-00056f91bb79",
     "showTitle": false,
     "title": ""
    }
   },
   "outputs": [],
   "source": [
    "from pyspark.sql.functions import lit"
   ]
  },
  {
   "cell_type": "code",
   "execution_count": 0,
   "metadata": {
    "application/vnd.databricks.v1+cell": {
     "cellMetadata": {
      "byteLimit": 2048000,
      "rowLimit": 10000
     },
     "inputWidgets": {},
     "nuid": "d9b4e598-c2c8-4fb4-97c7-62c09da49c8a",
     "showTitle": false,
     "title": ""
    }
   },
   "outputs": [
    {
     "output_type": "stream",
     "name": "stdout",
     "output_type": "stream",
     "text": [
      "+---+-------+----------+-------+-----+----------+------+--------+-------------------+---------+-------+\n| id|   name|     guild|  class|level|experience|health|is_alive|        last_active|mentor_id|dead_by|\n+---+-------+----------+-------+-----+----------+------+--------+-------------------+---------+-------+\n|  4|  Frodo| Shirefolk| Hobbit|   12|      2500|  50.5|   false|2023-09-23 10:00:00|        1|  Arrow|\n|  7|Boromir|    Gondor|Warrior|   18|      5500| 115.5|   false|2023-09-21 12:00:00|     null|  Arrow|\n| 10| Sauron|Dark Lords|   Mage|   40|     15000|  85.0|   false|2023-09-23 01:00:00|     null|  Arrow|\n| 11|Saruman|    Istari|   Mage|   28|      8500|  88.5|   false|2023-09-20 03:00:00|        6|  Arrow|\n+---+-------+----------+-------+-----+----------+------+--------+-------------------+---------+-------+\n\n"
     ]
    }
   ],
   "source": [
    "df_dead_characters.withColumn(\"dead_by\",lit(\"Arrow\")).show()"
   ]
  },
  {
   "cell_type": "markdown",
   "metadata": {
    "application/vnd.databricks.v1+cell": {
     "cellMetadata": {},
     "inputWidgets": {},
     "nuid": "43493e7b-a3d7-4e3d-8efb-08b274570259",
     "showTitle": false,
     "title": ""
    }
   },
   "source": [
    "## Add column by calculation"
   ]
  },
  {
   "cell_type": "code",
   "execution_count": 0,
   "metadata": {
    "application/vnd.databricks.v1+cell": {
     "cellMetadata": {
      "byteLimit": 2048000,
      "rowLimit": 10000
     },
     "inputWidgets": {},
     "nuid": "2ee2d3b4-dcd5-4cc2-ace0-caf57c8d4718",
     "showTitle": false,
     "title": ""
    }
   },
   "outputs": [],
   "source": [
    "from pyspark.sql.functions import concat"
   ]
  },
  {
   "cell_type": "code",
   "execution_count": 0,
   "metadata": {
    "application/vnd.databricks.v1+cell": {
     "cellMetadata": {
      "byteLimit": 2048000,
      "rowLimit": 10000
     },
     "inputWidgets": {},
     "nuid": "221990fd-8203-4214-9d56-2df803de8750",
     "showTitle": false,
     "title": ""
    }
   },
   "outputs": [
    {
     "output_type": "stream",
     "name": "stdout",
     "output_type": "stream",
     "text": [
      "+---+-------+----------+-------+-----+----------+------+--------+-------------------+---------+--------+--------------------+\n| id|   name|     guild|  class|level|experience|health|is_alive|        last_active|mentor_id|ultra_xp|         battle_name|\n+---+-------+----------+-------+-----+----------+------+--------+-------------------+---------+--------+--------------------+\n|  4|  Frodo| Shirefolk| Hobbit|   12|      2500|  50.5|   false|2023-09-23 10:00:00|        1|   30000|Frodo from Shirefolk|\n|  7|Boromir|    Gondor|Warrior|   18|      5500| 115.5|   false|2023-09-21 12:00:00|     null|   99000| Boromir from Gondor|\n| 10| Sauron|Dark Lords|   Mage|   40|     15000|  85.0|   false|2023-09-23 01:00:00|     null|  600000|Sauron from Dark ...|\n| 11|Saruman|    Istari|   Mage|   28|      8500|  88.5|   false|2023-09-20 03:00:00|        6|  238000| Saruman from Istari|\n+---+-------+----------+-------+-----+----------+------+--------+-------------------+---------+--------+--------------------+\n\n"
     ]
    }
   ],
   "source": [
    "df_dead_characters.withColumn(\"ultra_xp\",df_dead_characters.level * df_dead_characters.experience).withColumn(\"battle_name\",concat(\"name\",lit(\" from \"),\"guild\")).show()"
   ]
  },
  {
   "cell_type": "markdown",
   "metadata": {
    "application/vnd.databricks.v1+cell": {
     "cellMetadata": {},
     "inputWidgets": {},
     "nuid": "d6b73b36-3b09-4940-8844-fd772740bd68",
     "showTitle": false,
     "title": ""
    }
   },
   "source": [
    "## Rename column"
   ]
  },
  {
   "cell_type": "code",
   "execution_count": 0,
   "metadata": {
    "application/vnd.databricks.v1+cell": {
     "cellMetadata": {
      "byteLimit": 2048000,
      "rowLimit": 10000
     },
     "inputWidgets": {},
     "nuid": "14dd6fd6-895c-4c15-a115-da4711a42625",
     "showTitle": false,
     "title": ""
    }
   },
   "outputs": [
    {
     "output_type": "stream",
     "name": "stdout",
     "output_type": "stream",
     "text": [
      "+---+-------+----------+-------+-----+----------+------+--------+-------------------+---------+\n| id|   name|  homeland|  class|level|experience|health|is_alive|        last_active|mentor_id|\n+---+-------+----------+-------+-----+----------+------+--------+-------------------+---------+\n|  4|  Frodo| Shirefolk| Hobbit|   12|      2500|  50.5|   false|2023-09-23 10:00:00|        1|\n|  7|Boromir|    Gondor|Warrior|   18|      5500| 115.5|   false|2023-09-21 12:00:00|     null|\n| 10| Sauron|Dark Lords|   Mage|   40|     15000|  85.0|   false|2023-09-23 01:00:00|     null|\n| 11|Saruman|    Istari|   Mage|   28|      8500|  88.5|   false|2023-09-20 03:00:00|        6|\n+---+-------+----------+-------+-----+----------+------+--------+-------------------+---------+\n\n"
     ]
    }
   ],
   "source": [
    "df_dead_characters.withColumnRenamed(\"guild\",\"homeland\").show()"
   ]
  },
  {
   "cell_type": "markdown",
   "metadata": {
    "application/vnd.databricks.v1+cell": {
     "cellMetadata": {},
     "inputWidgets": {},
     "nuid": "2098a3f2-7c08-4f53-9d11-d6172b348b37",
     "showTitle": false,
     "title": ""
    }
   },
   "source": [
    "## Drop column"
   ]
  },
  {
   "cell_type": "code",
   "execution_count": 0,
   "metadata": {
    "application/vnd.databricks.v1+cell": {
     "cellMetadata": {
      "byteLimit": 2048000,
      "rowLimit": 10000
     },
     "inputWidgets": {},
     "nuid": "db047935-2f37-4f45-87f9-447e09aaea32",
     "showTitle": false,
     "title": ""
    }
   },
   "outputs": [
    {
     "output_type": "stream",
     "name": "stdout",
     "output_type": "stream",
     "text": [
      "+---+-------+--------+\n| id|   name|is_alive|\n+---+-------+--------+\n|  4|  Frodo|   false|\n|  7|Boromir|   false|\n| 10| Sauron|   false|\n| 11|Saruman|   false|\n+---+-------+--------+\n\n"
     ]
    }
   ],
   "source": [
    "df_dead_characters.drop(\"guild\",\"class\",\"level\",\"experience\",\"health\",\"last_active\",\"mentor_id\").show()"
   ]
  }
 ],
 "metadata": {
  "application/vnd.databricks.v1+notebook": {
   "dashboards": [],
   "environmentMetadata": null,
   "language": "python",
   "notebookMetadata": {
    "pythonIndentUnit": 4
   },
   "notebookName": "WorkWithColumns",
   "widgets": {}
  }
 },
 "nbformat": 4,
 "nbformat_minor": 0
}
