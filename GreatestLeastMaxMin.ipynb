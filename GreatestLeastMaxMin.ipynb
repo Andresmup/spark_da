{
 "cells": [
  {
   "cell_type": "markdown",
   "id": "3b219fa8-0e84-407f-bab4-7b8590e4f320",
   "metadata": {},
   "source": [
    "# GREATEST, LEAST, MAX & MIN"
   ]
  },
  {
   "cell_type": "code",
   "execution_count": 1,
   "id": "9c59ddf0-298e-419e-96c7-b92829fa1cd9",
   "metadata": {},
   "outputs": [],
   "source": [
    "import findspark\n",
    "findspark.init()"
   ]
  },
  {
   "cell_type": "code",
   "execution_count": 2,
   "id": "f98acb28-2e1c-419e-aeb8-a051244ef11a",
   "metadata": {},
   "outputs": [
    {
     "name": "stderr",
     "output_type": "stream",
     "text": [
      "Setting default log level to \"WARN\".\n",
      "To adjust logging level use sc.setLogLevel(newLevel). For SparkR, use setLogLevel(newLevel).\n",
      "24/08/21 17:15:12 WARN NativeCodeLoader: Unable to load native-hadoop library for your platform... using builtin-java classes where applicable\n"
     ]
    }
   ],
   "source": [
    "from pyspark.sql import SparkSession\n",
    "spark = SparkSession.builder.getOrCreate()"
   ]
  },
  {
   "cell_type": "code",
   "execution_count": 3,
   "id": "0813203a-105e-4d9d-8d2a-650dd48fd851",
   "metadata": {},
   "outputs": [],
   "source": [
    "data_student = [\n",
    "    (\"Alice Johnson\", \"Math\", 85, 72, 65, 88, 94, True, 95),\n",
    "    (\"Alice Johnson\", \"English\", 78, 84, 57, 91, 89, True, 88),\n",
    "    (\"Alice Johnson\", \"History\", 92, 76, 82, 93, 80, True, 97),\n",
    "    (\"Alice Johnson\", \"Science\", 67, 70, 85, 66, 73, True, 80),\n",
    "    (\"Alice Johnson\", \"Art\", 55, 59, 47, 60, 62, False, 70),\n",
    "    \n",
    "    (\"Bob Smith\", \"Math\", 72, 66, 81, 75, 83, True, 85),\n",
    "    (\"Bob Smith\", \"English\", 81, 92, 74, 68, 77, True, 90),\n",
    "    (\"Bob Smith\", \"History\", 60, 54, 69, 61, 65, True, 75),\n",
    "    (\"Bob Smith\", \"Science\", 50, 48, 56, 53, 60, False, 65),\n",
    "    (\"Bob Smith\", \"Art\", 58, 61, 63, 57, 55, True, 77),\n",
    "\n",
    "    (\"Charlie Wood\", \"Math\", 93, 88, 79, 91, 85, True, 98),\n",
    "    (\"Charlie Wood\", \"English\", 89, 83, 87, 92, 90, True, 92),\n",
    "    (\"Charlie Wood\", \"History\", 74, 68, 77, 72, 70, True, 84),\n",
    "    (\"Charlie Wood\", \"Science\", 88, 91, 85, 87, 89, True, 91),\n",
    "    (\"Charlie Wood\", \"Art\", 79, 74, 81, 76, 78, True, 87),\n",
    "\n",
    "    (\"Diane Brown\", \"Math\", 61, 55, 64, 58, 62, True, 82),\n",
    "    (\"Diane Brown\", \"English\", 57, 49, 53, 61, 50, False, 68),\n",
    "    (\"Diane Brown\", \"History\", 69, 63, 71, 66, 67, True, 80),\n",
    "    (\"Diane Brown\", \"Science\", 73, 78, 70, 74, 72, True, 85),\n",
    "    (\"Diane Brown\", \"Art\", 62, 58, 65, 60, 63, True, 76),\n",
    "\n",
    "    (\"Eve Davis\", \"Math\", 54, 47, 52, 56, 50, False, 66),\n",
    "    (\"Eve Davis\", \"English\", 48, 42, 45, 49, 44, False, 58),\n",
    "    (\"Eve Davis\", \"History\", 63, 68, 61, 66, 62, True, 77),\n",
    "    (\"Eve Davis\", \"Science\", 70, 73, 75, 69, 71, True, 83),\n",
    "    (\"Eve Davis\", \"Art\", 66, 64, 69, 61, 67, True, 81)\n",
    "]\n",
    "\n",
    "\n",
    "schema_student = [\"name\",\"suject\",\"exam_1\",\"exam_2\",\"exam_3\",\"exam_4\",\"exam_5\",\"approved\",\"attendance\"]"
   ]
  },
  {
   "cell_type": "code",
   "execution_count": 4,
   "id": "e2a8c4d1-bfb4-4ce9-a368-65d37bdb7528",
   "metadata": {},
   "outputs": [],
   "source": [
    "df_student = spark.createDataFrame(data=data_student,schema=schema_student)"
   ]
  },
  {
   "cell_type": "code",
   "execution_count": 5,
   "id": "78263319-afab-4fe1-9664-78f7debf74f4",
   "metadata": {},
   "outputs": [
    {
     "name": "stderr",
     "output_type": "stream",
     "text": [
      "                                                                                \r"
     ]
    },
    {
     "name": "stdout",
     "output_type": "stream",
     "text": [
      "+-------------+-------+------+------+------+------+------+--------+----------+\n",
      "|         name| suject|exam_1|exam_2|exam_3|exam_4|exam_5|approved|attendance|\n",
      "+-------------+-------+------+------+------+------+------+--------+----------+\n",
      "|Alice Johnson|   Math|    85|    72|    65|    88|    94|    true|        95|\n",
      "|Alice Johnson|English|    78|    84|    57|    91|    89|    true|        88|\n",
      "|Alice Johnson|History|    92|    76|    82|    93|    80|    true|        97|\n",
      "|Alice Johnson|Science|    67|    70|    85|    66|    73|    true|        80|\n",
      "|Alice Johnson|    Art|    55|    59|    47|    60|    62|   false|        70|\n",
      "|    Bob Smith|   Math|    72|    66|    81|    75|    83|    true|        85|\n",
      "|    Bob Smith|English|    81|    92|    74|    68|    77|    true|        90|\n",
      "|    Bob Smith|History|    60|    54|    69|    61|    65|    true|        75|\n",
      "|    Bob Smith|Science|    50|    48|    56|    53|    60|   false|        65|\n",
      "|    Bob Smith|    Art|    58|    61|    63|    57|    55|    true|        77|\n",
      "| Charlie Wood|   Math|    93|    88|    79|    91|    85|    true|        98|\n",
      "| Charlie Wood|English|    89|    83|    87|    92|    90|    true|        92|\n",
      "| Charlie Wood|History|    74|    68|    77|    72|    70|    true|        84|\n",
      "| Charlie Wood|Science|    88|    91|    85|    87|    89|    true|        91|\n",
      "| Charlie Wood|    Art|    79|    74|    81|    76|    78|    true|        87|\n",
      "|  Diane Brown|   Math|    61|    55|    64|    58|    62|    true|        82|\n",
      "|  Diane Brown|English|    57|    49|    53|    61|    50|   false|        68|\n",
      "|  Diane Brown|History|    69|    63|    71|    66|    67|    true|        80|\n",
      "|  Diane Brown|Science|    73|    78|    70|    74|    72|    true|        85|\n",
      "|  Diane Brown|    Art|    62|    58|    65|    60|    63|    true|        76|\n",
      "+-------------+-------+------+------+------+------+------+--------+----------+\n",
      "only showing top 20 rows\n",
      "\n"
     ]
    }
   ],
   "source": [
    "df_student.show()"
   ]
  },
  {
   "cell_type": "code",
   "execution_count": 6,
   "id": "b63e60ce-dbf9-4267-9842-612a10282eb6",
   "metadata": {},
   "outputs": [],
   "source": [
    "from pyspark.sql.functions import greatest, max, least, min, col"
   ]
  },
  {
   "cell_type": "markdown",
   "id": "fa2e2503-de93-4980-9094-a303aa9b8d0b",
   "metadata": {},
   "source": [
    "## GREATEST\n",
    "\n",
    "Apply across multiple columns and return the biggest value"
   ]
  },
  {
   "cell_type": "code",
   "execution_count": 7,
   "id": "fa6f1323-4f79-43ac-bdda-b3ac08dc7bc2",
   "metadata": {},
   "outputs": [
    {
     "name": "stdout",
     "output_type": "stream",
     "text": [
      "+-------------+-------+------+------+------+------+------+--------+----------+----------+\n",
      "|         name| suject|exam_1|exam_2|exam_3|exam_4|exam_5|approved|attendance|best_score|\n",
      "+-------------+-------+------+------+------+------+------+--------+----------+----------+\n",
      "|Alice Johnson|   Math|    85|    72|    65|    88|    94|    true|        95|        94|\n",
      "|Alice Johnson|English|    78|    84|    57|    91|    89|    true|        88|        91|\n",
      "|Alice Johnson|History|    92|    76|    82|    93|    80|    true|        97|        93|\n",
      "|Alice Johnson|Science|    67|    70|    85|    66|    73|    true|        80|        85|\n",
      "|Alice Johnson|    Art|    55|    59|    47|    60|    62|   false|        70|        62|\n",
      "|    Bob Smith|   Math|    72|    66|    81|    75|    83|    true|        85|        83|\n",
      "|    Bob Smith|English|    81|    92|    74|    68|    77|    true|        90|        92|\n",
      "|    Bob Smith|History|    60|    54|    69|    61|    65|    true|        75|        69|\n",
      "|    Bob Smith|Science|    50|    48|    56|    53|    60|   false|        65|        60|\n",
      "|    Bob Smith|    Art|    58|    61|    63|    57|    55|    true|        77|        63|\n",
      "| Charlie Wood|   Math|    93|    88|    79|    91|    85|    true|        98|        93|\n",
      "| Charlie Wood|English|    89|    83|    87|    92|    90|    true|        92|        92|\n",
      "| Charlie Wood|History|    74|    68|    77|    72|    70|    true|        84|        77|\n",
      "| Charlie Wood|Science|    88|    91|    85|    87|    89|    true|        91|        91|\n",
      "| Charlie Wood|    Art|    79|    74|    81|    76|    78|    true|        87|        81|\n",
      "|  Diane Brown|   Math|    61|    55|    64|    58|    62|    true|        82|        64|\n",
      "|  Diane Brown|English|    57|    49|    53|    61|    50|   false|        68|        61|\n",
      "|  Diane Brown|History|    69|    63|    71|    66|    67|    true|        80|        71|\n",
      "|  Diane Brown|Science|    73|    78|    70|    74|    72|    true|        85|        78|\n",
      "|  Diane Brown|    Art|    62|    58|    65|    60|    63|    true|        76|        65|\n",
      "+-------------+-------+------+------+------+------+------+--------+----------+----------+\n",
      "only showing top 20 rows\n",
      "\n"
     ]
    }
   ],
   "source": [
    "df_student.withColumn(\"best_score\", greatest(\"exam_1\",\"exam_2\",\"exam_3\",\"exam_4\",\"exam_5\")).show()"
   ]
  },
  {
   "cell_type": "markdown",
   "id": "2b90b5d8-9a4e-4c74-b49a-673a4c96a6ef",
   "metadata": {},
   "source": [
    "## MAX\n",
    "\n",
    "Apply across multiple rows and return the biggest value"
   ]
  },
  {
   "cell_type": "code",
   "execution_count": 8,
   "id": "42ebb40a-f1c1-4f1a-94e3-ebc7a56818f6",
   "metadata": {},
   "outputs": [
    {
     "name": "stdout",
     "output_type": "stream",
     "text": [
      "+---------------+\n",
      "|max(attendance)|\n",
      "+---------------+\n",
      "|             98|\n",
      "+---------------+\n",
      "\n"
     ]
    }
   ],
   "source": [
    "df_student.select(max(col(\"attendance\"))).show()"
   ]
  },
  {
   "cell_type": "code",
   "execution_count": 9,
   "id": "0048e321-7bf5-4cf7-8178-24b71aadd025",
   "metadata": {},
   "outputs": [
    {
     "name": "stdout",
     "output_type": "stream",
     "text": [
      "+---------------+\n",
      "|max(attendance)|\n",
      "+---------------+\n",
      "|             98|\n",
      "+---------------+\n",
      "\n"
     ]
    }
   ],
   "source": [
    "df_student.agg({\"attendance\":\"max\"}).show()"
   ]
  },
  {
   "cell_type": "code",
   "execution_count": 10,
   "id": "c4fd2fde-13f4-4663-a636-354615bcd9dd",
   "metadata": {},
   "outputs": [
    {
     "name": "stdout",
     "output_type": "stream",
     "text": [
      "+-----------+-----------+-----------+-----------+-----------+\n",
      "|best_exam_1|best_exam_2|best_exam_3|best_exam_4|best_exam_5|\n",
      "+-----------+-----------+-----------+-----------+-----------+\n",
      "|         93|         92|         87|         93|         94|\n",
      "+-----------+-----------+-----------+-----------+-----------+\n",
      "\n"
     ]
    }
   ],
   "source": [
    "df_student.select(\n",
    "    max(col(\"exam_1\")).alias(\"best_exam_1\"),\n",
    "    max(col(\"exam_2\")).alias(\"best_exam_2\"),\n",
    "    max(col(\"exam_3\")).alias(\"best_exam_3\"),\n",
    "    max(col(\"exam_4\")).alias(\"best_exam_4\"),\n",
    "    max(col(\"exam_5\")).alias(\"best_exam_5\")).show()"
   ]
  },
  {
   "cell_type": "code",
   "execution_count": 11,
   "id": "445f6b1c-7bdb-412c-8700-d40286c17ad3",
   "metadata": {},
   "outputs": [
    {
     "name": "stdout",
     "output_type": "stream",
     "text": [
      "+-----------+-----------+-----------+-----------+-----------+\n",
      "|max(exam_1)|max(exam_2)|max(exam_3)|max(exam_5)|max(exam_4)|\n",
      "+-----------+-----------+-----------+-----------+-----------+\n",
      "|         93|         92|         87|         94|         93|\n",
      "+-----------+-----------+-----------+-----------+-----------+\n",
      "\n"
     ]
    }
   ],
   "source": [
    "df_student.agg({\n",
    "    \"exam_1\":\"max\",\n",
    "    \"exam_2\":\"max\",\n",
    "    \"exam_3\":\"max\",\n",
    "    \"exam_4\":\"max\",\n",
    "    \"exam_5\":\"max\"}).show()"
   ]
  },
  {
   "cell_type": "markdown",
   "id": "f7c2281b-63b7-4088-ac19-85d61fda61ed",
   "metadata": {},
   "source": [
    "## LEAST\n",
    "\n",
    "Apply across multiple rows and return the smallest value"
   ]
  },
  {
   "cell_type": "code",
   "execution_count": 12,
   "id": "3122f3b0-6252-4a35-8ca7-7b2f7e61b179",
   "metadata": {},
   "outputs": [
    {
     "name": "stdout",
     "output_type": "stream",
     "text": [
      "+-------------+-------+------+------+------+------+------+--------+----------+-----------+\n",
      "|         name| suject|exam_1|exam_2|exam_3|exam_4|exam_5|approved|attendance|worst_score|\n",
      "+-------------+-------+------+------+------+------+------+--------+----------+-----------+\n",
      "|Alice Johnson|   Math|    85|    72|    65|    88|    94|    true|        95|         65|\n",
      "|Alice Johnson|English|    78|    84|    57|    91|    89|    true|        88|         57|\n",
      "|Alice Johnson|History|    92|    76|    82|    93|    80|    true|        97|         76|\n",
      "|Alice Johnson|Science|    67|    70|    85|    66|    73|    true|        80|         66|\n",
      "|Alice Johnson|    Art|    55|    59|    47|    60|    62|   false|        70|         47|\n",
      "|    Bob Smith|   Math|    72|    66|    81|    75|    83|    true|        85|         66|\n",
      "|    Bob Smith|English|    81|    92|    74|    68|    77|    true|        90|         68|\n",
      "|    Bob Smith|History|    60|    54|    69|    61|    65|    true|        75|         54|\n",
      "|    Bob Smith|Science|    50|    48|    56|    53|    60|   false|        65|         48|\n",
      "|    Bob Smith|    Art|    58|    61|    63|    57|    55|    true|        77|         55|\n",
      "| Charlie Wood|   Math|    93|    88|    79|    91|    85|    true|        98|         79|\n",
      "| Charlie Wood|English|    89|    83|    87|    92|    90|    true|        92|         83|\n",
      "| Charlie Wood|History|    74|    68|    77|    72|    70|    true|        84|         68|\n",
      "| Charlie Wood|Science|    88|    91|    85|    87|    89|    true|        91|         85|\n",
      "| Charlie Wood|    Art|    79|    74|    81|    76|    78|    true|        87|         74|\n",
      "|  Diane Brown|   Math|    61|    55|    64|    58|    62|    true|        82|         55|\n",
      "|  Diane Brown|English|    57|    49|    53|    61|    50|   false|        68|         49|\n",
      "|  Diane Brown|History|    69|    63|    71|    66|    67|    true|        80|         63|\n",
      "|  Diane Brown|Science|    73|    78|    70|    74|    72|    true|        85|         70|\n",
      "|  Diane Brown|    Art|    62|    58|    65|    60|    63|    true|        76|         58|\n",
      "+-------------+-------+------+------+------+------+------+--------+----------+-----------+\n",
      "only showing top 20 rows\n",
      "\n"
     ]
    }
   ],
   "source": [
    "df_student.withColumn(\"worst_score\", least(\"exam_1\",\"exam_2\",\"exam_3\",\"exam_4\",\"exam_5\")).show()"
   ]
  },
  {
   "cell_type": "markdown",
   "id": "d43aa551-b9b3-4ba9-9bc7-2f0b7e4fef20",
   "metadata": {},
   "source": [
    "## MIN\n",
    "\n",
    "Apply across multiple rows and return the smallest value"
   ]
  },
  {
   "cell_type": "code",
   "execution_count": 13,
   "id": "b047fbd4-6155-4124-a526-8831c0acd10e",
   "metadata": {},
   "outputs": [
    {
     "name": "stdout",
     "output_type": "stream",
     "text": [
      "+---------------+\n",
      "|min(attendance)|\n",
      "+---------------+\n",
      "|             58|\n",
      "+---------------+\n",
      "\n"
     ]
    }
   ],
   "source": [
    "df_student.select(min(col(\"attendance\"))).show()"
   ]
  },
  {
   "cell_type": "code",
   "execution_count": 14,
   "id": "788489cd-1831-4c74-abb2-5f6fa63f3342",
   "metadata": {},
   "outputs": [
    {
     "name": "stdout",
     "output_type": "stream",
     "text": [
      "+---------------+\n",
      "|min(attendance)|\n",
      "+---------------+\n",
      "|             58|\n",
      "+---------------+\n",
      "\n"
     ]
    }
   ],
   "source": [
    "df_student.agg({\"attendance\":\"min\"}).show()"
   ]
  },
  {
   "cell_type": "code",
   "execution_count": 15,
   "id": "2905bd4f-66fb-42ce-966e-b2b2797de943",
   "metadata": {},
   "outputs": [
    {
     "name": "stdout",
     "output_type": "stream",
     "text": [
      "+------------+------------+------------+------------+------------+\n",
      "|worst_exam_1|worst_exam_2|worst_exam_3|worst_exam_4|worst_exam_5|\n",
      "+------------+------------+------------+------------+------------+\n",
      "|          48|          42|          45|          49|          44|\n",
      "+------------+------------+------------+------------+------------+\n",
      "\n"
     ]
    }
   ],
   "source": [
    "df_student.select(\n",
    "    min(col(\"exam_1\")).alias(\"worst_exam_1\"),\n",
    "    min(col(\"exam_2\")).alias(\"worst_exam_2\"),\n",
    "    min(col(\"exam_3\")).alias(\"worst_exam_3\"),\n",
    "    min(col(\"exam_4\")).alias(\"worst_exam_4\"),\n",
    "    min(col(\"exam_5\")).alias(\"worst_exam_5\")).show()"
   ]
  },
  {
   "cell_type": "code",
   "execution_count": 16,
   "id": "6c90bf3f-5915-4b83-9193-4031bbdc11d9",
   "metadata": {},
   "outputs": [
    {
     "name": "stdout",
     "output_type": "stream",
     "text": [
      "+-----------+-----------+-----------+-----------+-----------+\n",
      "|min(exam_1)|min(exam_2)|min(exam_3)|min(exam_5)|min(exam_4)|\n",
      "+-----------+-----------+-----------+-----------+-----------+\n",
      "|         48|         42|         45|         44|         49|\n",
      "+-----------+-----------+-----------+-----------+-----------+\n",
      "\n"
     ]
    },
    {
     "name": "stderr",
     "output_type": "stream",
     "text": [
      "----------------------------------------\n",
      "Exception occurred during processing of request from ('127.0.0.1', 42602)\n",
      "Traceback (most recent call last):\n",
      "  File \"/home/andresmunozpampillon/anaconda3/lib/python3.11/socketserver.py\", line 317, in _handle_request_noblock\n",
      "    self.process_request(request, client_address)\n",
      "  File \"/home/andresmunozpampillon/anaconda3/lib/python3.11/socketserver.py\", line 348, in process_request\n",
      "    self.finish_request(request, client_address)\n",
      "  File \"/home/andresmunozpampillon/anaconda3/lib/python3.11/socketserver.py\", line 361, in finish_request\n",
      "    self.RequestHandlerClass(request, client_address, self)\n",
      "  File \"/home/andresmunozpampillon/anaconda3/lib/python3.11/socketserver.py\", line 755, in __init__\n",
      "    self.handle()\n",
      "  File \"/home/andresmunozpampillon/spark-3.5.2-bin-hadoop3/python/pyspark/accumulators.py\", line 295, in handle\n",
      "    poll(accum_updates)\n",
      "  File \"/home/andresmunozpampillon/spark-3.5.2-bin-hadoop3/python/pyspark/accumulators.py\", line 267, in poll\n",
      "    if self.rfile in r and func():\n",
      "                           ^^^^^^\n",
      "  File \"/home/andresmunozpampillon/spark-3.5.2-bin-hadoop3/python/pyspark/accumulators.py\", line 271, in accum_updates\n",
      "    num_updates = read_int(self.rfile)\n",
      "                  ^^^^^^^^^^^^^^^^^^^^\n",
      "  File \"/home/andresmunozpampillon/spark-3.5.2-bin-hadoop3/python/pyspark/serializers.py\", line 596, in read_int\n",
      "    raise EOFError\n",
      "EOFError\n",
      "----------------------------------------\n"
     ]
    }
   ],
   "source": [
    "df_student.agg({\n",
    "    \"exam_1\":\"min\",\n",
    "    \"exam_2\":\"min\",\n",
    "    \"exam_3\":\"min\",\n",
    "    \"exam_4\":\"min\",\n",
    "    \"exam_5\":\"min\"}).show()"
   ]
  },
  {
   "cell_type": "code",
   "execution_count": null,
   "id": "4d437ec6-f98f-4a94-a892-a7c0f9da6915",
   "metadata": {},
   "outputs": [],
   "source": []
  }
 ],
 "metadata": {
  "kernelspec": {
   "display_name": "Python 3 (ipykernel)",
   "language": "python",
   "name": "python3"
  },
  "language_info": {
   "codemirror_mode": {
    "name": "ipython",
    "version": 3
   },
   "file_extension": ".py",
   "mimetype": "text/x-python",
   "name": "python",
   "nbconvert_exporter": "python",
   "pygments_lexer": "ipython3",
   "version": "3.11.7"
  }
 },
 "nbformat": 4,
 "nbformat_minor": 5
}
