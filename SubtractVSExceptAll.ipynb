{
 "cells": [
  {
   "cell_type": "markdown",
   "id": "280c577d-68db-4b6d-939a-ca1045fd18f9",
   "metadata": {},
   "source": [
    "# SUBTRACT VS EXCEPT ALL FUNCTIONS"
   ]
  },
  {
   "cell_type": "markdown",
   "id": "7252a821-62f5-44cb-b339-65007944f707",
   "metadata": {},
   "source": [
    "## Create DataFrames"
   ]
  },
  {
   "cell_type": "code",
   "execution_count": 3,
   "id": "e492f250-594e-4082-8f76-20b6626f3a92",
   "metadata": {},
   "outputs": [],
   "source": [
    "import findspark\n",
    "findspark.init()"
   ]
  },
  {
   "cell_type": "code",
   "execution_count": 4,
   "id": "1686ca21-de84-4434-95f6-1e7245d4ad40",
   "metadata": {},
   "outputs": [
    {
     "name": "stderr",
     "output_type": "stream",
     "text": [
      "Setting default log level to \"WARN\".\n",
      "To adjust logging level use sc.setLogLevel(newLevel). For SparkR, use setLogLevel(newLevel).\n",
      "24/08/30 19:11:04 WARN NativeCodeLoader: Unable to load native-hadoop library for your platform... using builtin-java classes where applicable\n"
     ]
    }
   ],
   "source": [
    "from pyspark.sql import SparkSession\n",
    "spark = SparkSession.builder.getOrCreate()"
   ]
  },
  {
   "cell_type": "code",
   "execution_count": 2,
   "id": "14be0d0d-4e68-482e-8c54-7c33e8280b56",
   "metadata": {},
   "outputs": [],
   "source": [
    "data_catalog_1 = [\n",
    "    (\"P_00A\",10),\n",
    "    (\"P_00B\",20),\n",
    "    (\"P_00C\",30),\n",
    "    (\"P_00D\",0),\n",
    "    (\"P_00E\",None),\n",
    "]\n",
    "\n",
    "data_catalog_2 = [\n",
    "    (\"P_001\",30),\n",
    "    (\"P_00B\",20),\n",
    "    (\"P_00D\",0),\n",
    "    (\"P_00D\",0),\n",
    "    (\"P_00E\",50),\n",
    "]\n",
    "\n",
    "schema_catalog = \"item STRING, price INTEGER\""
   ]
  },
  {
   "cell_type": "code",
   "execution_count": 7,
   "id": "a356383b-3268-4790-bb1c-e4202e29167d",
   "metadata": {},
   "outputs": [
    {
     "name": "stderr",
     "output_type": "stream",
     "text": [
      "                                                                                \r"
     ]
    },
    {
     "name": "stdout",
     "output_type": "stream",
     "text": [
      "+-----+-----+\n",
      "| item|price|\n",
      "+-----+-----+\n",
      "|P_00A|   10|\n",
      "|P_00B|   20|\n",
      "|P_00C|   30|\n",
      "|P_00D|    0|\n",
      "|P_00E| NULL|\n",
      "+-----+-----+\n",
      "\n"
     ]
    }
   ],
   "source": [
    "df_catalog_1 = spark.createDataFrame(data=data_catalog_1, schema=schema_catalog)\n",
    "df_catalog_1.show()"
   ]
  },
  {
   "cell_type": "code",
   "execution_count": 8,
   "id": "c2457d4f-6304-4626-bb2b-f26d3f254bf7",
   "metadata": {},
   "outputs": [
    {
     "name": "stdout",
     "output_type": "stream",
     "text": [
      "+-----+-----+\n",
      "| item|price|\n",
      "+-----+-----+\n",
      "|P_001|   30|\n",
      "|P_00B|   20|\n",
      "|P_00D|    0|\n",
      "|P_00D|    0|\n",
      "|P_00E|   50|\n",
      "+-----+-----+\n",
      "\n"
     ]
    }
   ],
   "source": [
    "df_catalog_2 = spark.createDataFrame(data=data_catalog_2, schema=schema_catalog)\n",
    "df_catalog_2.show()"
   ]
  },
  {
   "cell_type": "markdown",
   "id": "043d6797-d84e-4d45-a759-ff7cb5e2c0c1",
   "metadata": {},
   "source": [
    "## Substract"
   ]
  },
  {
   "cell_type": "code",
   "execution_count": 9,
   "id": "922df310-4409-4a0d-81ec-8fe7e76115f0",
   "metadata": {},
   "outputs": [
    {
     "name": "stderr",
     "output_type": "stream",
     "text": [
      "                                                                                \r"
     ]
    },
    {
     "name": "stdout",
     "output_type": "stream",
     "text": [
      "+-----+-----+\n",
      "| item|price|\n",
      "+-----+-----+\n",
      "|P_00C|   30|\n",
      "|P_00A|   10|\n",
      "|P_00E| NULL|\n",
      "+-----+-----+\n",
      "\n"
     ]
    }
   ],
   "source": [
    "df_catalog_1.subtract(df_catalog_2).show()"
   ]
  },
  {
   "cell_type": "code",
   "execution_count": 10,
   "id": "bef5ebd9-0f31-455b-9fff-681646a8ecc8",
   "metadata": {},
   "outputs": [
    {
     "name": "stderr",
     "output_type": "stream",
     "text": [
      "                                                                                \r"
     ]
    },
    {
     "name": "stdout",
     "output_type": "stream",
     "text": [
      "+-----+-----+\n",
      "| item|price|\n",
      "+-----+-----+\n",
      "|P_00E|   50|\n",
      "|P_001|   30|\n",
      "+-----+-----+\n",
      "\n"
     ]
    }
   ],
   "source": [
    "df_catalog_2.subtract(df_catalog_1).show()"
   ]
  },
  {
   "cell_type": "markdown",
   "id": "f39bcb97-8cb1-4ec6-95fd-b3ae9c71fbf4",
   "metadata": {},
   "source": [
    "## ExceptAll"
   ]
  },
  {
   "cell_type": "code",
   "execution_count": 12,
   "id": "8502f246-fe4b-485c-a0c7-3f665ff05ecc",
   "metadata": {},
   "outputs": [
    {
     "name": "stderr",
     "output_type": "stream",
     "text": [
      "[Stage 22:==================================================>       (7 + 1) / 8]\r"
     ]
    },
    {
     "name": "stdout",
     "output_type": "stream",
     "text": [
      "+-----+-----+\n",
      "| item|price|\n",
      "+-----+-----+\n",
      "|P_00A|   10|\n",
      "|P_00C|   30|\n",
      "|P_00E| NULL|\n",
      "+-----+-----+\n",
      "\n"
     ]
    },
    {
     "name": "stderr",
     "output_type": "stream",
     "text": [
      "                                                                                \r"
     ]
    }
   ],
   "source": [
    "df_catalog_1.exceptAll(df_catalog_2).show()"
   ]
  },
  {
   "cell_type": "code",
   "execution_count": 13,
   "id": "da405171-9744-41d7-b4fe-dbd26b239bbd",
   "metadata": {},
   "outputs": [
    {
     "name": "stderr",
     "output_type": "stream",
     "text": [
      "[Stage 25:==================================================>       (7 + 1) / 8]\r"
     ]
    },
    {
     "name": "stdout",
     "output_type": "stream",
     "text": [
      "+-----+-----+\n",
      "| item|price|\n",
      "+-----+-----+\n",
      "|P_001|   30|\n",
      "|P_00D|    0|\n",
      "|P_00E|   50|\n",
      "+-----+-----+\n",
      "\n"
     ]
    },
    {
     "name": "stderr",
     "output_type": "stream",
     "text": [
      "                                                                                \r"
     ]
    }
   ],
   "source": [
    "df_catalog_2.exceptAll(df_catalog_1).show()"
   ]
  }
 ],
 "metadata": {
  "kernelspec": {
   "display_name": "Python 3 (ipykernel)",
   "language": "python",
   "name": "python3"
  },
  "language_info": {
   "codemirror_mode": {
    "name": "ipython",
    "version": 3
   },
   "file_extension": ".py",
   "mimetype": "text/x-python",
   "name": "python",
   "nbconvert_exporter": "python",
   "pygments_lexer": "ipython3",
   "version": "3.11.7"
  }
 },
 "nbformat": 4,
 "nbformat_minor": 5
}
