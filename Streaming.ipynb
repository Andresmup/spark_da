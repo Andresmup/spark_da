{
 "cells": [
  {
   "cell_type": "markdown",
   "metadata": {
    "application/vnd.databricks.v1+cell": {
     "cellMetadata": {},
     "inputWidgets": {},
     "nuid": "add4c2e0-d621-46e1-beac-245f18fcb77c",
     "showTitle": false,
     "title": ""
    }
   },
   "source": [
    "#STREAMING"
   ]
  },
  {
   "cell_type": "code",
   "execution_count": 0,
   "metadata": {
    "application/vnd.databricks.v1+cell": {
     "cellMetadata": {
      "byteLimit": 2048000,
      "rowLimit": 10000
     },
     "inputWidgets": {},
     "nuid": "4acf830f-00ea-4f5e-a91b-dffc94708555",
     "showTitle": false,
     "title": ""
    }
   },
   "outputs": [
    {
     "output_type": "stream",
     "name": "stdout",
     "output_type": "stream",
     "text": [
      "Out[6]: True"
     ]
    }
   ],
   "source": [
    "dbutils.fs.mkdirs(\"FileStore/tables/stream/landing_files/\")\n",
    "dbutils.fs.mkdirs(\"FileStore/tables/stream/output_files/\")\n",
    "dbutils.fs.mkdirs(\"FileStore/tables/stream/stream_checkpoints/\")"
   ]
  },
  {
   "cell_type": "code",
   "execution_count": 0,
   "metadata": {
    "application/vnd.databricks.v1+cell": {
     "cellMetadata": {
      "byteLimit": 2048000,
      "rowLimit": 10000
     },
     "inputWidgets": {},
     "nuid": "bdf1db3e-1671-4295-bb81-d32cd980e952",
     "showTitle": false,
     "title": ""
    }
   },
   "outputs": [
    {
     "output_type": "stream",
     "name": "stdout",
     "output_type": "stream",
     "text": [
      "Out[22]: []"
     ]
    }
   ],
   "source": [
    "dbutils.fs.ls(\"dbfs:/FileStore/tables/stream/landing_files/\")"
   ]
  },
  {
   "cell_type": "code",
   "execution_count": 0,
   "metadata": {
    "application/vnd.databricks.v1+cell": {
     "cellMetadata": {
      "byteLimit": 2048000,
      "rowLimit": 10000
     },
     "inputWidgets": {},
     "nuid": "fc9a7d9e-2ebb-4886-bcae-8dcafc11d266",
     "showTitle": false,
     "title": ""
    }
   },
   "outputs": [],
   "source": [
    "from pyspark.sql.types import StructType, StructField, StringType, IntegerType\n",
    "\n",
    "resume_sales_schema = StructType([\n",
    "    StructField(\"file\",StringType(),True),\n",
    "    StructField(\"vendor\",StringType(),True),\n",
    "    StructField(\"profit\",IntegerType(),True)\n",
    "])"
   ]
  },
  {
   "cell_type": "markdown",
   "metadata": {
    "application/vnd.databricks.v1+cell": {
     "cellMetadata": {},
     "inputWidgets": {},
     "nuid": "53039419-84a8-47af-a3c5-a04ab168c062",
     "showTitle": false,
     "title": ""
    }
   },
   "source": [
    "##Read streaming data aggregated"
   ]
  },
  {
   "cell_type": "code",
   "execution_count": 0,
   "metadata": {
    "application/vnd.databricks.v1+cell": {
     "cellMetadata": {
      "byteLimit": 2048000,
      "rowLimit": 10000
     },
     "inputWidgets": {},
     "nuid": "3983db12-095f-4288-bb28-3e2f29af9642",
     "showTitle": false,
     "title": ""
    }
   },
   "outputs": [
    {
     "output_type": "display_data",
     "data": {
      "text/html": [
       "<style scoped>\n",
       "  .table-result-container {\n",
       "    max-height: 300px;\n",
       "    overflow: auto;\n",
       "  }\n",
       "  table, th, td {\n",
       "    border: 1px solid black;\n",
       "    border-collapse: collapse;\n",
       "  }\n",
       "  th, td {\n",
       "    padding: 5px;\n",
       "  }\n",
       "  th {\n",
       "    text-align: left;\n",
       "  }\n",
       "</style><div class='table-result-container'><table class='table-result'><thead style='background-color: white'><tr><th>vendor</th><th>sum(profit)</th></tr></thead><tbody><tr><td>grigor</td><td>728</td></tr><tr><td>mile</td><td>1078</td></tr><tr><td>paulo</td><td>1587</td></tr><tr><td>zack</td><td>973</td></tr><tr><td>andres</td><td>867</td></tr></tbody></table></div>"
      ]
     },
     "metadata": {
      "application/vnd.databricks.v1+output": {
       "addedWidgets": {},
       "aggData": [],
       "aggError": "",
       "aggOverflow": false,
       "aggSchema": [],
       "aggSeriesLimitReached": false,
       "aggType": "",
       "arguments": {},
       "columnCustomDisplayInfos": {},
       "data": [
        [
         "grigor",
         728
        ],
        [
         "mile",
         1078
        ],
        [
         "paulo",
         1587
        ],
        [
         "zack",
         973
        ],
        [
         "andres",
         867
        ]
       ],
       "datasetInfos": [],
       "dbfsResultPath": null,
       "isJsonSchema": true,
       "metadata": {
        "isDbfsCommandResult": false
       },
       "overflow": false,
       "plotOptions": {
        "customPlotOptions": {},
        "displayType": "table",
        "pivotAggregation": null,
        "pivotColumns": null,
        "xColumns": null,
        "yColumns": null
       },
       "removedWidgets": [],
       "schema": [
        {
         "metadata": "{}",
         "name": "vendor",
         "type": "\"string\""
        },
        {
         "metadata": "{}",
         "name": "sum(profit)",
         "type": "\"long\""
        }
       ],
       "type": "table"
      }
     },
     "output_type": "display_data"
    }
   ],
   "source": [
    "df_resume_sales = spark.readStream.format(\"csv\").schema(resume_sales_schema).option(\"header\",True).load(\"dbfs:/FileStore/tables/stream/landing_files/\")\n",
    "\n",
    "display(df_resume_sales.groupBy(\"vendor\").sum(\"profit\"))"
   ]
  },
  {
   "cell_type": "markdown",
   "metadata": {
    "application/vnd.databricks.v1+cell": {
     "cellMetadata": {},
     "inputWidgets": {},
     "nuid": "c71dbcb6-cb82-4807-a08f-b59360149a5c",
     "showTitle": false,
     "title": ""
    }
   },
   "source": [
    "##Write streaming data"
   ]
  },
  {
   "cell_type": "code",
   "execution_count": 0,
   "metadata": {
    "application/vnd.databricks.v1+cell": {
     "cellMetadata": {
      "byteLimit": 2048000,
      "rowLimit": 10000
     },
     "inputWidgets": {},
     "nuid": "7e6f526f-2607-499b-97a5-d840c3e5c4fb",
     "showTitle": false,
     "title": ""
    }
   },
   "outputs": [
    {
     "output_type": "stream",
     "name": "stdout",
     "output_type": "stream",
     "text": [
      "Out[18]: True"
     ]
    }
   ],
   "source": [
    "dbutils.fs.rm(\"dbfs:/FileStore/tables/stream/landing_files/\",True)"
   ]
  },
  {
   "cell_type": "code",
   "execution_count": 0,
   "metadata": {
    "application/vnd.databricks.v1+cell": {
     "cellMetadata": {
      "byteLimit": 2048000,
      "rowLimit": 10000
     },
     "inputWidgets": {},
     "nuid": "8f6cce7d-841d-4860-984d-5c2ae2f35c76",
     "showTitle": false,
     "title": ""
    }
   },
   "outputs": [
    {
     "output_type": "stream",
     "name": "stdout",
     "output_type": "stream",
     "text": [
      "Out[20]: True"
     ]
    }
   ],
   "source": [
    "dbutils.fs.mkdirs(\"FileStore/tables/stream/landing_files/\")"
   ]
  },
  {
   "cell_type": "code",
   "execution_count": 0,
   "metadata": {
    "application/vnd.databricks.v1+cell": {
     "cellMetadata": {
      "byteLimit": 2048000,
      "rowLimit": 10000
     },
     "inputWidgets": {},
     "nuid": "8be76b06-3b4e-4b10-8712-cc20b4d553c0",
     "showTitle": false,
     "title": ""
    }
   },
   "outputs": [
    {
     "output_type": "stream",
     "name": "stdout",
     "output_type": "stream",
     "text": [
      "Out[21]: []"
     ]
    }
   ],
   "source": [
    "dbutils.fs.ls(\"dbfs:/FileStore/tables/stream/landing_files/\")"
   ]
  },
  {
   "cell_type": "code",
   "execution_count": 0,
   "metadata": {
    "application/vnd.databricks.v1+cell": {
     "cellMetadata": {
      "byteLimit": 2048000,
      "rowLimit": 10000
     },
     "inputWidgets": {},
     "nuid": "ac8c6604-704b-4651-9a4a-5fad96e5bff5",
     "showTitle": false,
     "title": ""
    }
   },
   "outputs": [
    {
     "output_type": "display_data",
     "data": {
      "text/html": [
       "<style scoped>\n",
       "  .ansiout {\n",
       "    display: block;\n",
       "    unicode-bidi: embed;\n",
       "    white-space: pre-wrap;\n",
       "    word-wrap: break-word;\n",
       "    word-break: break-all;\n",
       "    font-family: \"Menlo\", \"Monaco\", \"Consolas\", \"Ubuntu Mono\", \"Source Code Pro\", monospace;\n",
       "    font-size: 13px;\n",
       "    color: #555;\n",
       "    margin-left: 4px;\n",
       "    line-height: 19px;\n",
       "  }\n",
       "</style>"
      ]
     },
     "metadata": {
      "application/vnd.databricks.v1+output": {
       "arguments": {},
       "data": "",
       "errorSummary": "Cancelled",
       "errorTraceType": "html",
       "metadata": {},
       "type": "ipynbError"
      }
     },
     "output_type": "display_data"
    }
   ],
   "source": [
    "df_read_resume_sales = spark.readStream.format(\"csv\").schema(resume_sales_schema).option(\"header\",True).load(\"dbfs:/FileStore/tables/stream/landing_files/\")"
   ]
  },
  {
   "cell_type": "code",
   "execution_count": 0,
   "metadata": {
    "application/vnd.databricks.v1+cell": {
     "cellMetadata": {
      "byteLimit": 2048000,
      "rowLimit": 10000
     },
     "inputWidgets": {},
     "nuid": "a4ab3f52-97fe-4de2-9922-422eea4c5ef3",
     "showTitle": false,
     "title": ""
    }
   },
   "outputs": [
    {
     "output_type": "display_data",
     "data": {
      "text/html": [
       "<style scoped>\n",
       "  .ansiout {\n",
       "    display: block;\n",
       "    unicode-bidi: embed;\n",
       "    white-space: pre-wrap;\n",
       "    word-wrap: break-word;\n",
       "    word-break: break-all;\n",
       "    font-family: \"Menlo\", \"Monaco\", \"Consolas\", \"Ubuntu Mono\", \"Source Code Pro\", monospace;\n",
       "    font-size: 13px;\n",
       "    color: #555;\n",
       "    margin-left: 4px;\n",
       "    line-height: 19px;\n",
       "  }\n",
       "</style>"
      ]
     },
     "metadata": {
      "application/vnd.databricks.v1+output": {
       "arguments": {},
       "data": "",
       "errorSummary": "Cancelled",
       "errorTraceType": "html",
       "metadata": {},
       "type": "ipynbError"
      }
     },
     "output_type": "display_data"
    }
   ],
   "source": [
    "df_write_resume_sales = df_read_resume_sales.writeStream.format(\"parquet\").outputMode(\"append\").option(\"path\",\"dbfs:/FileStore/tables/stream/output_files/\").option(\"checkpointLocation\",\"dbfs:/FileStore/tables/stream/stream_checkpoints/\").start().awaitTermination()"
   ]
  },
  {
   "cell_type": "code",
   "execution_count": 0,
   "metadata": {
    "application/vnd.databricks.v1+cell": {
     "cellMetadata": {
      "byteLimit": 2048000,
      "rowLimit": 10000
     },
     "inputWidgets": {},
     "nuid": "3546bf22-bffb-4958-ae8b-8c6bfa22fa6d",
     "showTitle": false,
     "title": ""
    }
   },
   "outputs": [
    {
     "output_type": "stream",
     "name": "stdout",
     "output_type": "stream",
     "text": [
      "Out[29]: [FileInfo(path='dbfs:/FileStore/tables/stream/output_files/_spark_metadata/', name='_spark_metadata/', size=0, modificationTime=0),\n FileInfo(path='dbfs:/FileStore/tables/stream/output_files/part-00000-3dd7dc3f-17a4-48f7-91a3-6c96adfc1fca-c000.snappy.parquet', name='part-00000-3dd7dc3f-17a4-48f7-91a3-6c96adfc1fca-c000.snappy.parquet', size=1171, modificationTime=1723509450000),\n FileInfo(path='dbfs:/FileStore/tables/stream/output_files/part-00000-ae62440d-ccf3-4b5c-aa26-fdbce895e661-c000.snappy.parquet', name='part-00000-ae62440d-ccf3-4b5c-aa26-fdbce895e661-c000.snappy.parquet', size=1167, modificationTime=1723509440000)]"
     ]
    }
   ],
   "source": [
    "dbutils.fs.ls(\"dbfs:/FileStore/tables/stream/output_files/\")"
   ]
  },
  {
   "cell_type": "code",
   "execution_count": 0,
   "metadata": {
    "application/vnd.databricks.v1+cell": {
     "cellMetadata": {
      "byteLimit": 2048000,
      "rowLimit": 10000
     },
     "inputWidgets": {},
     "nuid": "96fd93bf-cea9-45b7-b449-2028ec47672c",
     "showTitle": false,
     "title": ""
    }
   },
   "outputs": [
    {
     "output_type": "display_data",
     "data": {
      "text/html": [
       "<style scoped>\n",
       "  .table-result-container {\n",
       "    max-height: 300px;\n",
       "    overflow: auto;\n",
       "  }\n",
       "  table, th, td {\n",
       "    border: 1px solid black;\n",
       "    border-collapse: collapse;\n",
       "  }\n",
       "  th, td {\n",
       "    padding: 5px;\n",
       "  }\n",
       "  th {\n",
       "    text-align: left;\n",
       "  }\n",
       "</style><div class='table-result-container'><table class='table-result'><thead style='background-color: white'><tr><th>file</th><th>vendor</th><th>profit</th></tr></thead><tbody><tr><td>resume_2</td><td>andres</td><td>215</td></tr><tr><td>resume_2</td><td>paulo</td><td>246</td></tr><tr><td>resume_2</td><td>grigor</td><td>452</td></tr><tr><td>resume_2</td><td>mile</td><td>12</td></tr><tr><td>resume_2</td><td>zack</td><td>45</td></tr><tr><td>resume_1</td><td>andres</td><td>10</td></tr><tr><td>resume_1</td><td>paulo</td><td>1000</td></tr><tr><td>resume_1</td><td>grigor</td><td>25</td></tr><tr><td>resume_1</td><td>mile</td><td>80</td></tr><tr><td>resume_1</td><td>zack</td><td>null</td></tr></tbody></table></div>"
      ]
     },
     "metadata": {
      "application/vnd.databricks.v1+output": {
       "addedWidgets": {},
       "aggData": [],
       "aggError": "",
       "aggOverflow": false,
       "aggSchema": [],
       "aggSeriesLimitReached": false,
       "aggType": "",
       "arguments": {},
       "columnCustomDisplayInfos": {},
       "data": [
        [
         "resume_2",
         "andres",
         215
        ],
        [
         "resume_2",
         "paulo",
         246
        ],
        [
         "resume_2",
         "grigor",
         452
        ],
        [
         "resume_2",
         "mile",
         12
        ],
        [
         "resume_2",
         "zack",
         45
        ],
        [
         "resume_1",
         "andres",
         10
        ],
        [
         "resume_1",
         "paulo",
         1000
        ],
        [
         "resume_1",
         "grigor",
         25
        ],
        [
         "resume_1",
         "mile",
         80
        ],
        [
         "resume_1",
         "zack",
         null
        ]
       ],
       "datasetInfos": [],
       "dbfsResultPath": null,
       "isJsonSchema": true,
       "metadata": {},
       "overflow": false,
       "plotOptions": {
        "customPlotOptions": {},
        "displayType": "table",
        "pivotAggregation": null,
        "pivotColumns": null,
        "xColumns": null,
        "yColumns": null
       },
       "removedWidgets": [],
       "schema": [
        {
         "metadata": "{}",
         "name": "file",
         "type": "\"string\""
        },
        {
         "metadata": "{}",
         "name": "vendor",
         "type": "\"string\""
        },
        {
         "metadata": "{}",
         "name": "profit",
         "type": "\"integer\""
        }
       ],
       "type": "table"
      }
     },
     "output_type": "display_data"
    }
   ],
   "source": [
    "display(spark.read.format(\"parquet\").load(\"dbfs:/FileStore/tables/stream/output_files/*.parquet\"))"
   ]
  }
 ],
 "metadata": {
  "application/vnd.databricks.v1+notebook": {
   "dashboards": [],
   "environmentMetadata": null,
   "language": "python",
   "notebookMetadata": {
    "mostRecentlyExecutedCommandWithImplicitDF": {
     "commandId": 3559147140873119,
     "dataframes": [
      "_sqldf"
     ]
    },
    "pythonIndentUnit": 4
   },
   "notebookName": "Streaming",
   "widgets": {}
  }
 },
 "nbformat": 4,
 "nbformat_minor": 0
}
