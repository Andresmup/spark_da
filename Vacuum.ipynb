{
 "cells": [
  {
   "cell_type": "markdown",
   "metadata": {
    "application/vnd.databricks.v1+cell": {
     "cellMetadata": {
      "byteLimit": 2048000,
      "rowLimit": 10000
     },
     "inputWidgets": {},
     "nuid": "bd63c9f2-f367-4d5a-94cf-9a0bf562acdb",
     "showTitle": false,
     "title": ""
    }
   },
   "source": [
    "# VACUUM"
   ]
  },
  {
   "cell_type": "code",
   "execution_count": 0,
   "metadata": {
    "application/vnd.databricks.v1+cell": {
     "cellMetadata": {
      "byteLimit": 2048000,
      "rowLimit": 10000
     },
     "inputWidgets": {},
     "nuid": "74958c54-309d-448f-87dc-5970f175e169",
     "showTitle": false,
     "title": ""
    }
   },
   "outputs": [],
   "source": [
    "from delta.tables import *"
   ]
  },
  {
   "cell_type": "code",
   "execution_count": 0,
   "metadata": {
    "application/vnd.databricks.v1+cell": {
     "cellMetadata": {
      "byteLimit": 2048000,
      "rowLimit": 10000
     },
     "inputWidgets": {},
     "nuid": "345affa4-1b65-4b87-8481-7c0ee47573f2",
     "showTitle": false,
     "title": ""
    }
   },
   "outputs": [
    {
     "output_type": "stream",
     "name": "stdout",
     "output_type": "stream",
     "text": [
      "Out[15]: <delta.tables.DeltaTable at 0x7f97ca50a310>"
     ]
    }
   ],
   "source": [
    "DeltaTable.createOrReplace(spark) \\\n",
    "    .tableName(\"vacuum_table\") \\\n",
    "    .addColumn(\"id\", \"INT\") \\\n",
    "    .addColumn(\"name\", \"STRING\") \\\n",
    "    .addColumn(\"gender\", \"STRING\") \\\n",
    "    .addColumn(\"salary\", \"INT\") \\\n",
    "    .addColumn(\"dept\", \"STRING\") \\\n",
    "    .location('dbfs:/FileStore/tables/delta/vacuum_table') \\\n",
    "    .execute()"
   ]
  },
  {
   "cell_type": "code",
   "execution_count": 0,
   "metadata": {
    "application/vnd.databricks.v1+cell": {
     "cellMetadata": {
      "byteLimit": 2048000,
      "implicitDf": true,
      "rowLimit": 10000
     },
     "inputWidgets": {},
     "nuid": "7906760a-ceb3-40e3-9b7e-dc819d42b947",
     "showTitle": false,
     "title": ""
    }
   },
   "outputs": [
    {
     "output_type": "display_data",
     "data": {
      "text/html": [
       "<style scoped>\n",
       "  .table-result-container {\n",
       "    max-height: 300px;\n",
       "    overflow: auto;\n",
       "  }\n",
       "  table, th, td {\n",
       "    border: 1px solid black;\n",
       "    border-collapse: collapse;\n",
       "  }\n",
       "  th, td {\n",
       "    padding: 5px;\n",
       "  }\n",
       "  th {\n",
       "    text-align: left;\n",
       "  }\n",
       "</style><div class='table-result-container'><table class='table-result'><thead style='background-color: white'><tr><th>num_affected_rows</th><th>num_inserted_rows</th></tr></thead><tbody><tr><td>1</td><td>1</td></tr></tbody></table></div>"
      ]
     },
     "metadata": {
      "application/vnd.databricks.v1+output": {
       "addedWidgets": {},
       "aggData": [],
       "aggError": "",
       "aggOverflow": false,
       "aggSchema": [],
       "aggSeriesLimitReached": false,
       "aggType": "",
       "arguments": {},
       "columnCustomDisplayInfos": {},
       "data": [
        [
         1,
         1
        ]
       ],
       "datasetInfos": [],
       "dbfsResultPath": null,
       "isJsonSchema": true,
       "metadata": {},
       "overflow": false,
       "plotOptions": {
        "customPlotOptions": {},
        "displayType": "table",
        "pivotAggregation": null,
        "pivotColumns": null,
        "xColumns": null,
        "yColumns": null
       },
       "removedWidgets": [],
       "schema": [
        {
         "metadata": "{}",
         "name": "num_affected_rows",
         "type": "\"long\""
        },
        {
         "metadata": "{}",
         "name": "num_inserted_rows",
         "type": "\"long\""
        }
       ],
       "type": "table"
      }
     },
     "output_type": "display_data"
    }
   ],
   "source": [
    "%sql\n",
    "\n",
    "INSERT INTO vacuum_table VALUES (1, \"Carl Mike\", \"m\", 170000, \"Support\");\n",
    "INSERT INTO vacuum_table VALUES (2, \"Mikel Clark\", \"m\", 254300, \"IT\");\n",
    "INSERT INTO vacuum_table VALUES (3, \"Bob Smith\", \"m\", 220000, \"IT\");\n",
    "INSERT INTO vacuum_table VALUES (4, \"Mary Scala\", \"f\", 230000, \"Sales\");;\n",
    "INSERT INTO vacuum_table VALUES (5, \"Susan Liam\", \"f\", 150000, \"Sales\");\n",
    "INSERT INTO vacuum_table VALUES (6, \"Xi Wuan\", \"f\", 150000, \"IT\");\n",
    "INSERT INTO vacuum_table VALUES (7, \"Luis Fuentes\", \"m\", 257100, \"IT\");\n",
    "INSERT INTO vacuum_table VALUES (8, \"Pedro Jose\", \"m\", 254300, \"IT\");"
   ]
  },
  {
   "cell_type": "code",
   "execution_count": 0,
   "metadata": {
    "application/vnd.databricks.v1+cell": {
     "cellMetadata": {
      "byteLimit": 2048000,
      "implicitDf": true,
      "rowLimit": 10000
     },
     "inputWidgets": {},
     "nuid": "1d1299fc-a9c4-4210-8dff-9b1ba1f1e955",
     "showTitle": false,
     "title": ""
    }
   },
   "outputs": [
    {
     "output_type": "display_data",
     "data": {
      "text/html": [
       "<style scoped>\n",
       "  .table-result-container {\n",
       "    max-height: 300px;\n",
       "    overflow: auto;\n",
       "  }\n",
       "  table, th, td {\n",
       "    border: 1px solid black;\n",
       "    border-collapse: collapse;\n",
       "  }\n",
       "  th, td {\n",
       "    padding: 5px;\n",
       "  }\n",
       "  th {\n",
       "    text-align: left;\n",
       "  }\n",
       "</style><div class='table-result-container'><table class='table-result'><thead style='background-color: white'><tr><th>num_affected_rows</th></tr></thead><tbody><tr><td>1</td></tr></tbody></table></div>"
      ]
     },
     "metadata": {
      "application/vnd.databricks.v1+output": {
       "addedWidgets": {},
       "aggData": [],
       "aggError": "",
       "aggOverflow": false,
       "aggSchema": [],
       "aggSeriesLimitReached": false,
       "aggType": "",
       "arguments": {},
       "columnCustomDisplayInfos": {},
       "data": [
        [
         1
        ]
       ],
       "datasetInfos": [],
       "dbfsResultPath": null,
       "isJsonSchema": true,
       "metadata": {},
       "overflow": false,
       "plotOptions": {
        "customPlotOptions": {},
        "displayType": "table",
        "pivotAggregation": null,
        "pivotColumns": null,
        "xColumns": null,
        "yColumns": null
       },
       "removedWidgets": [],
       "schema": [
        {
         "metadata": "{}",
         "name": "num_affected_rows",
         "type": "\"long\""
        }
       ],
       "type": "table"
      }
     },
     "output_type": "display_data"
    }
   ],
   "source": [
    "%sql\n",
    "\n",
    "DELETE FROM vacuum_table WHERE id=1;"
   ]
  },
  {
   "cell_type": "code",
   "execution_count": 0,
   "metadata": {
    "application/vnd.databricks.v1+cell": {
     "cellMetadata": {
      "byteLimit": 2048000,
      "implicitDf": true,
      "rowLimit": 10000
     },
     "inputWidgets": {},
     "nuid": "ec1547a4-0d49-496a-a3db-b3141f6346c7",
     "showTitle": false,
     "title": ""
    }
   },
   "outputs": [
    {
     "output_type": "display_data",
     "data": {
      "text/html": [
       "<style scoped>\n",
       "  .table-result-container {\n",
       "    max-height: 300px;\n",
       "    overflow: auto;\n",
       "  }\n",
       "  table, th, td {\n",
       "    border: 1px solid black;\n",
       "    border-collapse: collapse;\n",
       "  }\n",
       "  th, td {\n",
       "    padding: 5px;\n",
       "  }\n",
       "  th {\n",
       "    text-align: left;\n",
       "  }\n",
       "</style><div class='table-result-container'><table class='table-result'><thead style='background-color: white'><tr><th>num_affected_rows</th></tr></thead><tbody><tr><td>1</td></tr></tbody></table></div>"
      ]
     },
     "metadata": {
      "application/vnd.databricks.v1+output": {
       "addedWidgets": {},
       "aggData": [],
       "aggError": "",
       "aggOverflow": false,
       "aggSchema": [],
       "aggSeriesLimitReached": false,
       "aggType": "",
       "arguments": {},
       "columnCustomDisplayInfos": {},
       "data": [
        [
         1
        ]
       ],
       "datasetInfos": [],
       "dbfsResultPath": null,
       "isJsonSchema": true,
       "metadata": {},
       "overflow": false,
       "plotOptions": {
        "customPlotOptions": {},
        "displayType": "table",
        "pivotAggregation": null,
        "pivotColumns": null,
        "xColumns": null,
        "yColumns": null
       },
       "removedWidgets": [],
       "schema": [
        {
         "metadata": "{}",
         "name": "num_affected_rows",
         "type": "\"long\""
        }
       ],
       "type": "table"
      }
     },
     "output_type": "display_data"
    }
   ],
   "source": [
    "%sql\n",
    "\n",
    "UPDATE vacuum_table SET salary=15000 WHERE id=2;\n",
    "UPDATE vacuum_table SET salary=15000 WHERE id=3;\n",
    "UPDATE vacuum_table SET salary=15000 WHERE id=4;\n",
    "UPDATE vacuum_table SET salary=15000 WHERE id=5;\n",
    "UPDATE vacuum_table SET dept=\"HR\" WHERE id=6;\n",
    "UPDATE vacuum_table SET dept=\"HR\" WHERE id=7;\n",
    "UPDATE vacuum_table SET dept=\"HR\" WHERE id=8;"
   ]
  },
  {
   "cell_type": "code",
   "execution_count": 0,
   "metadata": {
    "application/vnd.databricks.v1+cell": {
     "cellMetadata": {
      "byteLimit": 2048000,
      "implicitDf": true,
      "rowLimit": 10000
     },
     "inputWidgets": {},
     "nuid": "65368192-37bd-4ba4-b1ed-a70e1560b5a9",
     "showTitle": false,
     "title": ""
    }
   },
   "outputs": [
    {
     "output_type": "display_data",
     "data": {
      "text/html": [
       "<style scoped>\n",
       "  .table-result-container {\n",
       "    max-height: 300px;\n",
       "    overflow: auto;\n",
       "  }\n",
       "  table, th, td {\n",
       "    border: 1px solid black;\n",
       "    border-collapse: collapse;\n",
       "  }\n",
       "  th, td {\n",
       "    padding: 5px;\n",
       "  }\n",
       "  th {\n",
       "    text-align: left;\n",
       "  }\n",
       "</style><div class='table-result-container'><table class='table-result'><thead style='background-color: white'><tr><th>id</th><th>name</th><th>gender</th><th>salary</th><th>dept</th></tr></thead><tbody><tr><td>4</td><td>Mary Scala</td><td>f</td><td>15000</td><td>Sales</td></tr><tr><td>5</td><td>Susan Liam</td><td>f</td><td>15000</td><td>Sales</td></tr><tr><td>7</td><td>Luis Fuentes</td><td>m</td><td>257100</td><td>HR</td></tr><tr><td>2</td><td>Mikel Clark</td><td>m</td><td>15000</td><td>IT</td></tr><tr><td>8</td><td>Pedro Jose</td><td>m</td><td>254300</td><td>HR</td></tr><tr><td>3</td><td>Bob Smith</td><td>m</td><td>15000</td><td>IT</td></tr><tr><td>6</td><td>Xi Wuan</td><td>f</td><td>150000</td><td>HR</td></tr></tbody></table></div>"
      ]
     },
     "metadata": {
      "application/vnd.databricks.v1+output": {
       "addedWidgets": {},
       "aggData": [],
       "aggError": "",
       "aggOverflow": false,
       "aggSchema": [],
       "aggSeriesLimitReached": false,
       "aggType": "",
       "arguments": {},
       "columnCustomDisplayInfos": {},
       "data": [
        [
         4,
         "Mary Scala",
         "f",
         15000,
         "Sales"
        ],
        [
         5,
         "Susan Liam",
         "f",
         15000,
         "Sales"
        ],
        [
         7,
         "Luis Fuentes",
         "m",
         257100,
         "HR"
        ],
        [
         2,
         "Mikel Clark",
         "m",
         15000,
         "IT"
        ],
        [
         8,
         "Pedro Jose",
         "m",
         254300,
         "HR"
        ],
        [
         3,
         "Bob Smith",
         "m",
         15000,
         "IT"
        ],
        [
         6,
         "Xi Wuan",
         "f",
         150000,
         "HR"
        ]
       ],
       "datasetInfos": [],
       "dbfsResultPath": null,
       "isJsonSchema": true,
       "metadata": {},
       "overflow": false,
       "plotOptions": {
        "customPlotOptions": {},
        "displayType": "table",
        "pivotAggregation": null,
        "pivotColumns": null,
        "xColumns": null,
        "yColumns": null
       },
       "removedWidgets": [],
       "schema": [
        {
         "metadata": "{}",
         "name": "id",
         "type": "\"integer\""
        },
        {
         "metadata": "{}",
         "name": "name",
         "type": "\"string\""
        },
        {
         "metadata": "{}",
         "name": "gender",
         "type": "\"string\""
        },
        {
         "metadata": "{}",
         "name": "salary",
         "type": "\"integer\""
        },
        {
         "metadata": "{}",
         "name": "dept",
         "type": "\"string\""
        }
       ],
       "type": "table"
      }
     },
     "output_type": "display_data"
    }
   ],
   "source": [
    "%sql\n",
    "\n",
    "SELECT * FROM vacuum_table;"
   ]
  },
  {
   "cell_type": "code",
   "execution_count": 0,
   "metadata": {
    "application/vnd.databricks.v1+cell": {
     "cellMetadata": {
      "byteLimit": 2048000,
      "rowLimit": 10000
     },
     "inputWidgets": {},
     "nuid": "ca382f43-3936-4ed5-aec5-1954e4a90c54",
     "showTitle": false,
     "title": ""
    }
   },
   "outputs": [
    {
     "output_type": "display_data",
     "data": {
      "text/html": [
       "<style scoped>\n",
       "  .table-result-container {\n",
       "    max-height: 300px;\n",
       "    overflow: auto;\n",
       "  }\n",
       "  table, th, td {\n",
       "    border: 1px solid black;\n",
       "    border-collapse: collapse;\n",
       "  }\n",
       "  th, td {\n",
       "    padding: 5px;\n",
       "  }\n",
       "  th {\n",
       "    text-align: left;\n",
       "  }\n",
       "</style><div class='table-result-container'><table class='table-result'><thead style='background-color: white'><tr><th>path</th><th>name</th><th>size</th><th>modificationTime</th></tr></thead><tbody><tr><td>dbfs:/FileStore/tables/delta/vacuum_table/_delta_log/</td><td>_delta_log/</td><td>0</td><td>0</td></tr><tr><td>dbfs:/FileStore/tables/delta/vacuum_table/part-00000-048ab9a7-eba3-4976-8158-8d1ebcbdb1b4-c000.snappy.parquet</td><td>part-00000-048ab9a7-eba3-4976-8158-8d1ebcbdb1b4-c000.snappy.parquet</td><td>1497</td><td>1724714567000</td></tr><tr><td>dbfs:/FileStore/tables/delta/vacuum_table/part-00000-08dd12c6-81d7-4bdb-b134-92c82fed8388-c000.snappy.parquet</td><td>part-00000-08dd12c6-81d7-4bdb-b134-92c82fed8388-c000.snappy.parquet</td><td>1532</td><td>1724714529000</td></tr><tr><td>dbfs:/FileStore/tables/delta/vacuum_table/part-00000-0de4d417-49e4-4706-b6e5-d7c9141e7f02-c000.snappy.parquet</td><td>part-00000-0de4d417-49e4-4706-b6e5-d7c9141e7f02-c000.snappy.parquet</td><td>1539</td><td>1724714863000</td></tr><tr><td>dbfs:/FileStore/tables/delta/vacuum_table/part-00000-0dfc1c36-3265-4621-a819-2c1ae0b4f3dd-c000.snappy.parquet</td><td>part-00000-0dfc1c36-3265-4621-a819-2c1ae0b4f3dd-c000.snappy.parquet</td><td>1539</td><td>1724714860000</td></tr><tr><td>dbfs:/FileStore/tables/delta/vacuum_table/part-00000-10936dfa-7100-42d7-bd4f-1b7871253602-c000.snappy.parquet</td><td>part-00000-10936dfa-7100-42d7-bd4f-1b7871253602-c000.snappy.parquet</td><td>1539</td><td>1724714523000</td></tr><tr><td>dbfs:/FileStore/tables/delta/vacuum_table/part-00000-236bbcb3-9302-4032-8b9c-b83068731803-c000.snappy.parquet</td><td>part-00000-236bbcb3-9302-4032-8b9c-b83068731803-c000.snappy.parquet</td><td>1511</td><td>1724714853000</td></tr><tr><td>dbfs:/FileStore/tables/delta/vacuum_table/part-00000-2383a5da-349c-48b8-88c9-cc80dc963d20-c000.snappy.parquet</td><td>part-00000-2383a5da-349c-48b8-88c9-cc80dc963d20-c000.snappy.parquet</td><td>1511</td><td>1724714887000</td></tr><tr><td>dbfs:/FileStore/tables/delta/vacuum_table/part-00000-2617a563-198b-41b3-aead-c3fb8f09cae6-c000.snappy.parquet</td><td>part-00000-2617a563-198b-41b3-aead-c3fb8f09cae6-c000.snappy.parquet</td><td>1525</td><td>1724714881000</td></tr><tr><td>dbfs:/FileStore/tables/delta/vacuum_table/part-00000-30c9d776-793d-4ff7-8d43-714b37fff8eb-c000.snappy.parquet</td><td>part-00000-30c9d776-793d-4ff7-8d43-714b37fff8eb-c000.snappy.parquet</td><td>1532</td><td>1724714573000</td></tr><tr><td>dbfs:/FileStore/tables/delta/vacuum_table/part-00000-34630e5c-eee9-4a29-876d-983498128a22-c000.snappy.parquet</td><td>part-00000-34630e5c-eee9-4a29-876d-983498128a22-c000.snappy.parquet</td><td>1546</td><td>1724714847000</td></tr><tr><td>dbfs:/FileStore/tables/delta/vacuum_table/part-00000-3dbbf812-1cda-47ce-91ed-94e17ab0ce57-c000.snappy.parquet</td><td>part-00000-3dbbf812-1cda-47ce-91ed-94e17ab0ce57-c000.snappy.parquet</td><td>1511</td><td>1724714550000</td></tr><tr><td>dbfs:/FileStore/tables/delta/vacuum_table/part-00000-50cc7fae-9fad-44f0-a6f4-95e0371fca74-c000.snappy.parquet</td><td>part-00000-50cc7fae-9fad-44f0-a6f4-95e0371fca74-c000.snappy.parquet</td><td>1539</td><td>1724714892000</td></tr><tr><td>dbfs:/FileStore/tables/delta/vacuum_table/part-00000-59972bcb-5250-43fe-9c41-eacd80d8293d-c000.snappy.parquet</td><td>part-00000-59972bcb-5250-43fe-9c41-eacd80d8293d-c000.snappy.parquet</td><td>1525</td><td>1724714850000</td></tr><tr><td>dbfs:/FileStore/tables/delta/vacuum_table/part-00000-59e2624a-9f67-4f4f-8edd-083b20e43d4d-c000.snappy.parquet</td><td>part-00000-59e2624a-9f67-4f4f-8edd-083b20e43d4d-c000.snappy.parquet</td><td>1532</td><td>1724714908000</td></tr><tr><td>dbfs:/FileStore/tables/delta/vacuum_table/part-00000-6584635c-c793-4100-a86e-6efe30f4e403-c000.snappy.parquet</td><td>part-00000-6584635c-c793-4100-a86e-6efe30f4e403-c000.snappy.parquet</td><td>1518</td><td>1724714913000</td></tr><tr><td>dbfs:/FileStore/tables/delta/vacuum_table/part-00000-8c33a469-b2a0-4c1f-aa94-983e86345dfa-c000.snappy.parquet</td><td>part-00000-8c33a469-b2a0-4c1f-aa94-983e86345dfa-c000.snappy.parquet</td><td>1525</td><td>1724714543000</td></tr><tr><td>dbfs:/FileStore/tables/delta/vacuum_table/part-00000-93ed6016-ad28-4565-a200-128eac89a15b-c000.snappy.parquet</td><td>part-00000-93ed6016-ad28-4565-a200-128eac89a15b-c000.snappy.parquet</td><td>1518</td><td>1724714577000</td></tr><tr><td>dbfs:/FileStore/tables/delta/vacuum_table/part-00000-968c4d61-274e-4b27-bf27-77b86b394258-c000.snappy.parquet</td><td>part-00000-968c4d61-274e-4b27-bf27-77b86b394258-c000.snappy.parquet</td><td>1539</td><td>1724714562000</td></tr><tr><td>dbfs:/FileStore/tables/delta/vacuum_table/part-00000-995aa444-ad75-48e4-a7f4-6c08dd60f910-c000.snappy.parquet</td><td>part-00000-995aa444-ad75-48e4-a7f4-6c08dd60f910-c000.snappy.parquet</td><td>1532</td><td>1724714869000</td></tr><tr><td>dbfs:/FileStore/tables/delta/vacuum_table/part-00000-9fcc54e7-5132-4ed0-bc08-0ee72bf69188-c000.snappy.parquet</td><td>part-00000-9fcc54e7-5132-4ed0-bc08-0ee72bf69188-c000.snappy.parquet</td><td>1539</td><td>1724714521000</td></tr><tr><td>dbfs:/FileStore/tables/delta/vacuum_table/part-00000-bb9acd91-9b15-49ca-8332-434568758e61-c000.snappy.parquet</td><td>part-00000-bb9acd91-9b15-49ca-8332-434568758e61-c000.snappy.parquet</td><td>1497</td><td>1724714866000</td></tr><tr><td>dbfs:/FileStore/tables/delta/vacuum_table/part-00000-ca1225f5-b6ab-4242-a91c-264e8b6c5025-c000.snappy.parquet</td><td>part-00000-ca1225f5-b6ab-4242-a91c-264e8b6c5025-c000.snappy.parquet</td><td>1518</td><td>1724714532000</td></tr><tr><td>dbfs:/FileStore/tables/delta/vacuum_table/part-00000-cad45039-0055-46ed-b16f-09ebdd00dae2-c000.snappy.parquet</td><td>part-00000-cad45039-0055-46ed-b16f-09ebdd00dae2-c000.snappy.parquet</td><td>1525</td><td>1724714514000</td></tr><tr><td>dbfs:/FileStore/tables/delta/vacuum_table/part-00000-cd103d12-9bed-4a6f-8a92-391ac074171c-c000.snappy.parquet</td><td>part-00000-cd103d12-9bed-4a6f-8a92-391ac074171c-c000.snappy.parquet</td><td>1497</td><td>1724714526000</td></tr><tr><td>dbfs:/FileStore/tables/delta/vacuum_table/part-00000-d52aa889-e177-4854-aab6-41dd55e58002-c000.snappy.parquet</td><td>part-00000-d52aa889-e177-4854-aab6-41dd55e58002-c000.snappy.parquet</td><td>1546</td><td>1724714512000</td></tr><tr><td>dbfs:/FileStore/tables/delta/vacuum_table/part-00000-d792951e-01ac-4e98-9b12-c7a643a6ccb0-c000.snappy.parquet</td><td>part-00000-d792951e-01ac-4e98-9b12-c7a643a6ccb0-c000.snappy.parquet</td><td>1518</td><td>1724714871000</td></tr><tr><td>dbfs:/FileStore/tables/delta/vacuum_table/part-00000-e1358d0c-aca5-4a84-ae39-abe7a2aacbfd-c000.snappy.parquet</td><td>part-00000-e1358d0c-aca5-4a84-ae39-abe7a2aacbfd-c000.snappy.parquet</td><td>1497</td><td>1724714904000</td></tr><tr><td>dbfs:/FileStore/tables/delta/vacuum_table/part-00000-e3df6501-9b56-4800-8c2a-e25b4d558bdb-c000.snappy.parquet</td><td>part-00000-e3df6501-9b56-4800-8c2a-e25b4d558bdb-c000.snappy.parquet</td><td>1539</td><td>1724714897000</td></tr><tr><td>dbfs:/FileStore/tables/delta/vacuum_table/part-00000-e83f1a71-bc54-45b6-9e2a-eb430afa8e29-c000.snappy.parquet</td><td>part-00000-e83f1a71-bc54-45b6-9e2a-eb430afa8e29-c000.snappy.parquet</td><td>1511</td><td>1724714518000</td></tr><tr><td>dbfs:/FileStore/tables/delta/vacuum_table/part-00000-f2a8f960-e43d-4164-9341-7a01ec7177ef-c000.snappy.parquet</td><td>part-00000-f2a8f960-e43d-4164-9341-7a01ec7177ef-c000.snappy.parquet</td><td>1539</td><td>1724714556000</td></tr></tbody></table></div>"
      ]
     },
     "metadata": {
      "application/vnd.databricks.v1+output": {
       "addedWidgets": {},
       "aggData": [],
       "aggError": "",
       "aggOverflow": false,
       "aggSchema": [],
       "aggSeriesLimitReached": false,
       "aggType": "",
       "arguments": {},
       "columnCustomDisplayInfos": {},
       "data": [
        [
         "dbfs:/FileStore/tables/delta/vacuum_table/_delta_log/",
         "_delta_log/",
         0,
         0
        ],
        [
         "dbfs:/FileStore/tables/delta/vacuum_table/part-00000-048ab9a7-eba3-4976-8158-8d1ebcbdb1b4-c000.snappy.parquet",
         "part-00000-048ab9a7-eba3-4976-8158-8d1ebcbdb1b4-c000.snappy.parquet",
         1497,
         1724714567000
        ],
        [
         "dbfs:/FileStore/tables/delta/vacuum_table/part-00000-08dd12c6-81d7-4bdb-b134-92c82fed8388-c000.snappy.parquet",
         "part-00000-08dd12c6-81d7-4bdb-b134-92c82fed8388-c000.snappy.parquet",
         1532,
         1724714529000
        ],
        [
         "dbfs:/FileStore/tables/delta/vacuum_table/part-00000-0de4d417-49e4-4706-b6e5-d7c9141e7f02-c000.snappy.parquet",
         "part-00000-0de4d417-49e4-4706-b6e5-d7c9141e7f02-c000.snappy.parquet",
         1539,
         1724714863000
        ],
        [
         "dbfs:/FileStore/tables/delta/vacuum_table/part-00000-0dfc1c36-3265-4621-a819-2c1ae0b4f3dd-c000.snappy.parquet",
         "part-00000-0dfc1c36-3265-4621-a819-2c1ae0b4f3dd-c000.snappy.parquet",
         1539,
         1724714860000
        ],
        [
         "dbfs:/FileStore/tables/delta/vacuum_table/part-00000-10936dfa-7100-42d7-bd4f-1b7871253602-c000.snappy.parquet",
         "part-00000-10936dfa-7100-42d7-bd4f-1b7871253602-c000.snappy.parquet",
         1539,
         1724714523000
        ],
        [
         "dbfs:/FileStore/tables/delta/vacuum_table/part-00000-236bbcb3-9302-4032-8b9c-b83068731803-c000.snappy.parquet",
         "part-00000-236bbcb3-9302-4032-8b9c-b83068731803-c000.snappy.parquet",
         1511,
         1724714853000
        ],
        [
         "dbfs:/FileStore/tables/delta/vacuum_table/part-00000-2383a5da-349c-48b8-88c9-cc80dc963d20-c000.snappy.parquet",
         "part-00000-2383a5da-349c-48b8-88c9-cc80dc963d20-c000.snappy.parquet",
         1511,
         1724714887000
        ],
        [
         "dbfs:/FileStore/tables/delta/vacuum_table/part-00000-2617a563-198b-41b3-aead-c3fb8f09cae6-c000.snappy.parquet",
         "part-00000-2617a563-198b-41b3-aead-c3fb8f09cae6-c000.snappy.parquet",
         1525,
         1724714881000
        ],
        [
         "dbfs:/FileStore/tables/delta/vacuum_table/part-00000-30c9d776-793d-4ff7-8d43-714b37fff8eb-c000.snappy.parquet",
         "part-00000-30c9d776-793d-4ff7-8d43-714b37fff8eb-c000.snappy.parquet",
         1532,
         1724714573000
        ],
        [
         "dbfs:/FileStore/tables/delta/vacuum_table/part-00000-34630e5c-eee9-4a29-876d-983498128a22-c000.snappy.parquet",
         "part-00000-34630e5c-eee9-4a29-876d-983498128a22-c000.snappy.parquet",
         1546,
         1724714847000
        ],
        [
         "dbfs:/FileStore/tables/delta/vacuum_table/part-00000-3dbbf812-1cda-47ce-91ed-94e17ab0ce57-c000.snappy.parquet",
         "part-00000-3dbbf812-1cda-47ce-91ed-94e17ab0ce57-c000.snappy.parquet",
         1511,
         1724714550000
        ],
        [
         "dbfs:/FileStore/tables/delta/vacuum_table/part-00000-50cc7fae-9fad-44f0-a6f4-95e0371fca74-c000.snappy.parquet",
         "part-00000-50cc7fae-9fad-44f0-a6f4-95e0371fca74-c000.snappy.parquet",
         1539,
         1724714892000
        ],
        [
         "dbfs:/FileStore/tables/delta/vacuum_table/part-00000-59972bcb-5250-43fe-9c41-eacd80d8293d-c000.snappy.parquet",
         "part-00000-59972bcb-5250-43fe-9c41-eacd80d8293d-c000.snappy.parquet",
         1525,
         1724714850000
        ],
        [
         "dbfs:/FileStore/tables/delta/vacuum_table/part-00000-59e2624a-9f67-4f4f-8edd-083b20e43d4d-c000.snappy.parquet",
         "part-00000-59e2624a-9f67-4f4f-8edd-083b20e43d4d-c000.snappy.parquet",
         1532,
         1724714908000
        ],
        [
         "dbfs:/FileStore/tables/delta/vacuum_table/part-00000-6584635c-c793-4100-a86e-6efe30f4e403-c000.snappy.parquet",
         "part-00000-6584635c-c793-4100-a86e-6efe30f4e403-c000.snappy.parquet",
         1518,
         1724714913000
        ],
        [
         "dbfs:/FileStore/tables/delta/vacuum_table/part-00000-8c33a469-b2a0-4c1f-aa94-983e86345dfa-c000.snappy.parquet",
         "part-00000-8c33a469-b2a0-4c1f-aa94-983e86345dfa-c000.snappy.parquet",
         1525,
         1724714543000
        ],
        [
         "dbfs:/FileStore/tables/delta/vacuum_table/part-00000-93ed6016-ad28-4565-a200-128eac89a15b-c000.snappy.parquet",
         "part-00000-93ed6016-ad28-4565-a200-128eac89a15b-c000.snappy.parquet",
         1518,
         1724714577000
        ],
        [
         "dbfs:/FileStore/tables/delta/vacuum_table/part-00000-968c4d61-274e-4b27-bf27-77b86b394258-c000.snappy.parquet",
         "part-00000-968c4d61-274e-4b27-bf27-77b86b394258-c000.snappy.parquet",
         1539,
         1724714562000
        ],
        [
         "dbfs:/FileStore/tables/delta/vacuum_table/part-00000-995aa444-ad75-48e4-a7f4-6c08dd60f910-c000.snappy.parquet",
         "part-00000-995aa444-ad75-48e4-a7f4-6c08dd60f910-c000.snappy.parquet",
         1532,
         1724714869000
        ],
        [
         "dbfs:/FileStore/tables/delta/vacuum_table/part-00000-9fcc54e7-5132-4ed0-bc08-0ee72bf69188-c000.snappy.parquet",
         "part-00000-9fcc54e7-5132-4ed0-bc08-0ee72bf69188-c000.snappy.parquet",
         1539,
         1724714521000
        ],
        [
         "dbfs:/FileStore/tables/delta/vacuum_table/part-00000-bb9acd91-9b15-49ca-8332-434568758e61-c000.snappy.parquet",
         "part-00000-bb9acd91-9b15-49ca-8332-434568758e61-c000.snappy.parquet",
         1497,
         1724714866000
        ],
        [
         "dbfs:/FileStore/tables/delta/vacuum_table/part-00000-ca1225f5-b6ab-4242-a91c-264e8b6c5025-c000.snappy.parquet",
         "part-00000-ca1225f5-b6ab-4242-a91c-264e8b6c5025-c000.snappy.parquet",
         1518,
         1724714532000
        ],
        [
         "dbfs:/FileStore/tables/delta/vacuum_table/part-00000-cad45039-0055-46ed-b16f-09ebdd00dae2-c000.snappy.parquet",
         "part-00000-cad45039-0055-46ed-b16f-09ebdd00dae2-c000.snappy.parquet",
         1525,
         1724714514000
        ],
        [
         "dbfs:/FileStore/tables/delta/vacuum_table/part-00000-cd103d12-9bed-4a6f-8a92-391ac074171c-c000.snappy.parquet",
         "part-00000-cd103d12-9bed-4a6f-8a92-391ac074171c-c000.snappy.parquet",
         1497,
         1724714526000
        ],
        [
         "dbfs:/FileStore/tables/delta/vacuum_table/part-00000-d52aa889-e177-4854-aab6-41dd55e58002-c000.snappy.parquet",
         "part-00000-d52aa889-e177-4854-aab6-41dd55e58002-c000.snappy.parquet",
         1546,
         1724714512000
        ],
        [
         "dbfs:/FileStore/tables/delta/vacuum_table/part-00000-d792951e-01ac-4e98-9b12-c7a643a6ccb0-c000.snappy.parquet",
         "part-00000-d792951e-01ac-4e98-9b12-c7a643a6ccb0-c000.snappy.parquet",
         1518,
         1724714871000
        ],
        [
         "dbfs:/FileStore/tables/delta/vacuum_table/part-00000-e1358d0c-aca5-4a84-ae39-abe7a2aacbfd-c000.snappy.parquet",
         "part-00000-e1358d0c-aca5-4a84-ae39-abe7a2aacbfd-c000.snappy.parquet",
         1497,
         1724714904000
        ],
        [
         "dbfs:/FileStore/tables/delta/vacuum_table/part-00000-e3df6501-9b56-4800-8c2a-e25b4d558bdb-c000.snappy.parquet",
         "part-00000-e3df6501-9b56-4800-8c2a-e25b4d558bdb-c000.snappy.parquet",
         1539,
         1724714897000
        ],
        [
         "dbfs:/FileStore/tables/delta/vacuum_table/part-00000-e83f1a71-bc54-45b6-9e2a-eb430afa8e29-c000.snappy.parquet",
         "part-00000-e83f1a71-bc54-45b6-9e2a-eb430afa8e29-c000.snappy.parquet",
         1511,
         1724714518000
        ],
        [
         "dbfs:/FileStore/tables/delta/vacuum_table/part-00000-f2a8f960-e43d-4164-9341-7a01ec7177ef-c000.snappy.parquet",
         "part-00000-f2a8f960-e43d-4164-9341-7a01ec7177ef-c000.snappy.parquet",
         1539,
         1724714556000
        ]
       ],
       "datasetInfos": [],
       "dbfsResultPath": null,
       "isJsonSchema": true,
       "metadata": {
        "isDbfsCommandResult": false
       },
       "overflow": false,
       "plotOptions": {
        "customPlotOptions": {},
        "displayType": "table",
        "pivotAggregation": null,
        "pivotColumns": null,
        "xColumns": null,
        "yColumns": null
       },
       "removedWidgets": [],
       "schema": [
        {
         "metadata": "{}",
         "name": "path",
         "type": "\"string\""
        },
        {
         "metadata": "{}",
         "name": "name",
         "type": "\"string\""
        },
        {
         "metadata": "{}",
         "name": "size",
         "type": "\"long\""
        },
        {
         "metadata": "{}",
         "name": "modificationTime",
         "type": "\"long\""
        }
       ],
       "type": "table"
      }
     },
     "output_type": "display_data"
    }
   ],
   "source": [
    "%fs\n",
    "\n",
    "ls dbfs:/FileStore/tables/delta/vacuum_table"
   ]
  },
  {
   "cell_type": "markdown",
   "metadata": {
    "application/vnd.databricks.v1+cell": {
     "cellMetadata": {
      "byteLimit": 2048000,
      "rowLimit": 10000
     },
     "inputWidgets": {},
     "nuid": "200f55a1-a517-4fef-88f6-99f28f5490cb",
     "showTitle": false,
     "title": ""
    }
   },
   "source": [
    "## SQL Method"
   ]
  },
  {
   "cell_type": "code",
   "execution_count": 0,
   "metadata": {
    "application/vnd.databricks.v1+cell": {
     "cellMetadata": {
      "byteLimit": 2048000,
      "implicitDf": true,
      "rowLimit": 10000
     },
     "inputWidgets": {},
     "nuid": "e29df071-9089-4913-92b8-aa164ccef7e2",
     "showTitle": false,
     "title": ""
    }
   },
   "outputs": [
    {
     "output_type": "display_data",
     "data": {
      "text/html": [
       "<style scoped>\n",
       "  .table-result-container {\n",
       "    max-height: 300px;\n",
       "    overflow: auto;\n",
       "  }\n",
       "  table, th, td {\n",
       "    border: 1px solid black;\n",
       "    border-collapse: collapse;\n",
       "  }\n",
       "  th, td {\n",
       "    padding: 5px;\n",
       "  }\n",
       "  th {\n",
       "    text-align: left;\n",
       "  }\n",
       "</style><div class='table-result-container'><table class='table-result'><thead style='background-color: white'><tr><th>path</th></tr></thead><tbody></tbody></table></div>"
      ]
     },
     "metadata": {
      "application/vnd.databricks.v1+output": {
       "addedWidgets": {},
       "aggData": [],
       "aggError": "",
       "aggOverflow": false,
       "aggSchema": [],
       "aggSeriesLimitReached": false,
       "aggType": "",
       "arguments": {},
       "columnCustomDisplayInfos": {},
       "data": [],
       "datasetInfos": [],
       "dbfsResultPath": null,
       "isJsonSchema": true,
       "metadata": {},
       "overflow": false,
       "plotOptions": {
        "customPlotOptions": {},
        "displayType": "table",
        "pivotAggregation": null,
        "pivotColumns": null,
        "xColumns": null,
        "yColumns": null
       },
       "removedWidgets": [],
       "schema": [
        {
         "metadata": "{}",
         "name": "path",
         "type": "\"string\""
        }
       ],
       "type": "table"
      }
     },
     "output_type": "display_data"
    }
   ],
   "source": [
    "%sql\n",
    "\n",
    "VACUUM optimize_file_compaction RETAIN 0 HOURS DRY RUN;"
   ]
  },
  {
   "cell_type": "code",
   "execution_count": 0,
   "metadata": {
    "application/vnd.databricks.v1+cell": {
     "cellMetadata": {
      "byteLimit": 2048000,
      "implicitDf": true,
      "rowLimit": 10000
     },
     "inputWidgets": {},
     "nuid": "8a75056d-5858-4c89-aad5-62f7f161c114",
     "showTitle": false,
     "title": ""
    }
   },
   "outputs": [
    {
     "output_type": "display_data",
     "data": {
      "text/html": [
       "<style scoped>\n",
       "  .table-result-container {\n",
       "    max-height: 300px;\n",
       "    overflow: auto;\n",
       "  }\n",
       "  table, th, td {\n",
       "    border: 1px solid black;\n",
       "    border-collapse: collapse;\n",
       "  }\n",
       "  th, td {\n",
       "    padding: 5px;\n",
       "  }\n",
       "  th {\n",
       "    text-align: left;\n",
       "  }\n",
       "</style><div class='table-result-container'><table class='table-result'><thead style='background-color: white'><tr><th>path</th></tr></thead><tbody><tr><td>dbfs:/FileStore/tables/delta/optimize_file_compaction</td></tr></tbody></table></div>"
      ]
     },
     "metadata": {
      "application/vnd.databricks.v1+output": {
       "addedWidgets": {},
       "aggData": [],
       "aggError": "",
       "aggOverflow": false,
       "aggSchema": [],
       "aggSeriesLimitReached": false,
       "aggType": "",
       "arguments": {},
       "columnCustomDisplayInfos": {},
       "data": [
        [
         "dbfs:/FileStore/tables/delta/optimize_file_compaction"
        ]
       ],
       "datasetInfos": [],
       "dbfsResultPath": null,
       "isJsonSchema": true,
       "metadata": {},
       "overflow": false,
       "plotOptions": {
        "customPlotOptions": {},
        "displayType": "table",
        "pivotAggregation": null,
        "pivotColumns": null,
        "xColumns": null,
        "yColumns": null
       },
       "removedWidgets": [],
       "schema": [
        {
         "metadata": "{}",
         "name": "path",
         "type": "\"string\""
        }
       ],
       "type": "table"
      }
     },
     "output_type": "display_data"
    }
   ],
   "source": [
    "%sql\n",
    "\n",
    "VACUUM optimize_file_compaction RETAIN 168 HOURS;"
   ]
  },
  {
   "cell_type": "markdown",
   "metadata": {
    "application/vnd.databricks.v1+cell": {
     "cellMetadata": {
      "byteLimit": 2048000,
      "rowLimit": 10000
     },
     "inputWidgets": {},
     "nuid": "cb234c23-31b2-49c8-92a0-226d18efe3a0",
     "showTitle": false,
     "title": ""
    }
   },
   "source": [
    "##Spark Method"
   ]
  },
  {
   "cell_type": "code",
   "execution_count": 0,
   "metadata": {
    "application/vnd.databricks.v1+cell": {
     "cellMetadata": {
      "byteLimit": 2048000,
      "rowLimit": 10000
     },
     "inputWidgets": {},
     "nuid": "11abed64-e0b7-4aa8-91fb-8775e123f5cd",
     "showTitle": false,
     "title": ""
    }
   },
   "outputs": [],
   "source": [
    "deltaTable = DeltaTable.forPath(spark, 'dbfs:/FileStore/tables/delta/vacuum_table')"
   ]
  },
  {
   "cell_type": "code",
   "execution_count": 0,
   "metadata": {
    "application/vnd.databricks.v1+cell": {
     "cellMetadata": {
      "byteLimit": 2048000,
      "implicitDf": true,
      "rowLimit": 10000
     },
     "inputWidgets": {},
     "nuid": "8f1c2910-a794-45e9-a720-feb7aad13d66",
     "showTitle": false,
     "title": ""
    }
   },
   "outputs": [
    {
     "output_type": "display_data",
     "data": {
      "text/html": [
       "<style scoped>\n",
       "  .table-result-container {\n",
       "    max-height: 300px;\n",
       "    overflow: auto;\n",
       "  }\n",
       "  table, th, td {\n",
       "    border: 1px solid black;\n",
       "    border-collapse: collapse;\n",
       "  }\n",
       "  th, td {\n",
       "    padding: 5px;\n",
       "  }\n",
       "  th {\n",
       "    text-align: left;\n",
       "  }\n",
       "</style><div class='table-result-container'><table class='table-result'><thead style='background-color: white'><tr><th>key</th><th>value</th></tr></thead><tbody><tr><td>spark.databricks.delta.retentionDurationCheck.enabled</td><td>false</td></tr></tbody></table></div>"
      ]
     },
     "metadata": {
      "application/vnd.databricks.v1+output": {
       "addedWidgets": {},
       "aggData": [],
       "aggError": "",
       "aggOverflow": false,
       "aggSchema": [],
       "aggSeriesLimitReached": false,
       "aggType": "",
       "arguments": {},
       "columnCustomDisplayInfos": {},
       "data": [
        [
         "spark.databricks.delta.retentionDurationCheck.enabled",
         "false"
        ]
       ],
       "datasetInfos": [],
       "dbfsResultPath": null,
       "isJsonSchema": true,
       "metadata": {},
       "overflow": false,
       "plotOptions": {
        "customPlotOptions": {},
        "displayType": "table",
        "pivotAggregation": null,
        "pivotColumns": null,
        "xColumns": null,
        "yColumns": null
       },
       "removedWidgets": [],
       "schema": [
        {
         "metadata": "{}",
         "name": "key",
         "type": "\"string\""
        },
        {
         "metadata": "{}",
         "name": "value",
         "type": "\"string\""
        }
       ],
       "type": "table"
      }
     },
     "output_type": "display_data"
    }
   ],
   "source": [
    "%sql\n",
    "set spark.databricks.delta.retentionDurationCheck.enabled = false"
   ]
  },
  {
   "cell_type": "code",
   "execution_count": 0,
   "metadata": {
    "application/vnd.databricks.v1+cell": {
     "cellMetadata": {
      "byteLimit": 2048000,
      "rowLimit": 10000
     },
     "inputWidgets": {},
     "nuid": "a31f5b81-2ca7-4cc3-aaf3-805b3bfbb9d8",
     "showTitle": false,
     "title": ""
    }
   },
   "outputs": [
    {
     "output_type": "stream",
     "name": "stdout",
     "output_type": "stream",
     "text": [
      "Out[27]: DataFrame[]"
     ]
    }
   ],
   "source": [
    "deltaTable.vacuum(0)"
   ]
  }
 ],
 "metadata": {
  "application/vnd.databricks.v1+notebook": {
   "dashboards": [],
   "environmentMetadata": null,
   "language": "python",
   "notebookMetadata": {
    "mostRecentlyExecutedCommandWithImplicitDF": {
     "commandId": 3238416350764480,
     "dataframes": [
      "_sqldf"
     ]
    },
    "pythonIndentUnit": 4
   },
   "notebookName": "Vacuum",
   "widgets": {}
  }
 },
 "nbformat": 4,
 "nbformat_minor": 0
}
