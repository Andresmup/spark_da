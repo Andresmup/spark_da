{
 "cells": [
  {
   "cell_type": "markdown",
   "metadata": {
    "application/vnd.databricks.v1+cell": {
     "cellMetadata": {},
     "inputWidgets": {},
     "nuid": "d230113e-8250-43e2-9a78-db64b91d5e65",
     "showTitle": false,
     "title": ""
    }
   },
   "source": [
    "#CASE FUNCTION"
   ]
  },
  {
   "cell_type": "code",
   "execution_count": 0,
   "metadata": {
    "application/vnd.databricks.v1+cell": {
     "cellMetadata": {
      "byteLimit": 2048000,
      "rowLimit": 10000
     },
     "inputWidgets": {},
     "nuid": "0a8cc55d-6cbf-403f-a777-e75338b377b8",
     "showTitle": false,
     "title": ""
    }
   },
   "outputs": [],
   "source": [
    "from pyspark.sql.functions import when, expr"
   ]
  },
  {
   "cell_type": "code",
   "execution_count": 0,
   "metadata": {
    "application/vnd.databricks.v1+cell": {
     "cellMetadata": {
      "byteLimit": 2048000,
      "rowLimit": 10000
     },
     "inputWidgets": {},
     "nuid": "d2b7fb2c-caa0-4104-aea3-64279891ef66",
     "showTitle": false,
     "title": ""
    }
   },
   "outputs": [
    {
     "output_type": "stream",
     "name": "stdout",
     "output_type": "stream",
     "text": [
      "+---+---------+----------+-------+-----+----------+------+--------+-------------------+---------+\n| id|     name|     guild|  class|level|experience|health|is_alive|        last_active|mentor_id|\n+---+---------+----------+-------+-----+----------+------+--------+-------------------+---------+\n|  1|  Aragorn|   Rangers|Warrior|   25|      9000| 120.5|    true|2023-09-20 08:00:00|     null|\n|  2|  Legolas|  Mirkwood| Archer|   22|      7500|100.75|    true|2023-09-21 09:00:00|     null|\n|  3|    Gimli|    Erebor|Warrior|   20|      6000|130.25|    true|2023-09-22 07:00:00|     null|\n|  4|    Frodo| Shirefolk| Hobbit|   12|      2500|  50.5|   false|2023-09-23 10:00:00|        1|\n|  5|      Sam| Shirefolk| Hobbit|   13|      2750|  52.5|    true|2023-09-23 10:05:00|        1|\n|  6|  Gandalf|    Istari|   Mage|   30|     10000|  90.0|    true|2023-09-20 11:00:00|     null|\n|  7|  Boromir|    Gondor|Warrior|   18|      5500| 115.5|   false|2023-09-21 12:00:00|     null|\n|  8|    Merry| Shirefolk| Hobbit|   11|      2200|  48.5|    true|2023-09-22 10:00:00|        4|\n|  9|   Pippin| Shirefolk| Hobbit|   11|      2100|  47.5|    true|2023-09-22 10:01:00|        4|\n| 10|   Sauron|Dark Lords|   Mage|   40|     15000|  85.0|   false|2023-09-23 01:00:00|     null|\n| 11|  Saruman|    Istari|   Mage|   28|      8500|  88.5|   false|2023-09-20 03:00:00|        6|\n| 12|   Elrond| Rivendell|   Mage|   27|      8200|  87.5|    true|2023-09-21 04:00:00|        6|\n| 13|Thranduil|  Mirkwood| Archer|   26|      7900|  97.0|    true|2023-09-22 02:00:00|        2|\n| 14|    Eowyn|     Rohan|Warrior|   17|      5200| 112.5|    true|2023-09-23 05:00:00|        7|\n| 15|  Faramir|    Gondor| Archer|   19|      5700| 118.5|    true|2023-09-20 06:00:00|        7|\n+---+---------+----------+-------+-----+----------+------+--------+-------------------+---------+\n\n"
     ]
    }
   ],
   "source": [
    "schema_characters = \"id INTEGER, name STRING, guild STRING, class STRING, level INTEGER, experience INTEGER, health DOUBLE, is_alive BOOLEAN, last_active TIMESTAMP, mentor_id INTEGER\"\n",
    "\n",
    "df_characters = spark.read.format(\"csv\").option(\"header\",True).option(\"sep\",\",\").schema(schema_characters).load('dbfs:/FileStore/tables/fantasy/characters.csv')\n",
    "\n",
    "df_characters.show()"
   ]
  },
  {
   "cell_type": "markdown",
   "metadata": {
    "application/vnd.databricks.v1+cell": {
     "cellMetadata": {},
     "inputWidgets": {},
     "nuid": "dda0d3b7-5d95-4707-a21e-93e41ca07b2e",
     "showTitle": false,
     "title": ""
    }
   },
   "source": [
    "##Spark"
   ]
  },
  {
   "cell_type": "code",
   "execution_count": 0,
   "metadata": {
    "application/vnd.databricks.v1+cell": {
     "cellMetadata": {
      "byteLimit": 2048000,
      "rowLimit": 10000
     },
     "inputWidgets": {},
     "nuid": "1160b329-3960-4f5b-9d86-82695ed3c176",
     "showTitle": false,
     "title": ""
    }
   },
   "outputs": [
    {
     "output_type": "stream",
     "name": "stdout",
     "output_type": "stream",
     "text": [
      "+---+---------+----------+-------+-----+----------+------+--------+-------------------+---------+------+\n| id|     name|     guild|  class|level|experience|health|is_alive|        last_active|mentor_id|  tier|\n+---+---------+----------+-------+-----+----------+------+--------+-------------------+---------+------+\n|  1|  Aragorn|   Rangers|Warrior|   25|      9000| 120.5|    true|2023-09-20 08:00:00|     null|  Noob|\n|  2|  Legolas|  Mirkwood| Archer|   22|      7500|100.75|    true|2023-09-21 09:00:00|     null|Expert|\n|  3|    Gimli|    Erebor|Warrior|   20|      6000|130.25|    true|2023-09-22 07:00:00|     null|  Noob|\n|  4|    Frodo| Shirefolk| Hobbit|   12|      2500|  50.5|   false|2023-09-23 10:00:00|        1|   Mid|\n|  5|      Sam| Shirefolk| Hobbit|   13|      2750|  52.5|    true|2023-09-23 10:05:00|        1|   Mid|\n|  6|  Gandalf|    Istari|   Mage|   30|     10000|  90.0|    true|2023-09-20 11:00:00|     null|   God|\n|  7|  Boromir|    Gondor|Warrior|   18|      5500| 115.5|   false|2023-09-21 12:00:00|     null|  Noob|\n|  8|    Merry| Shirefolk| Hobbit|   11|      2200|  48.5|    true|2023-09-22 10:00:00|        4|   Mid|\n|  9|   Pippin| Shirefolk| Hobbit|   11|      2100|  47.5|    true|2023-09-22 10:01:00|        4|   Mid|\n| 10|   Sauron|Dark Lords|   Mage|   40|     15000|  85.0|   false|2023-09-23 01:00:00|     null|   God|\n| 11|  Saruman|    Istari|   Mage|   28|      8500|  88.5|   false|2023-09-20 03:00:00|        6|Expert|\n| 12|   Elrond| Rivendell|   Mage|   27|      8200|  87.5|    true|2023-09-21 04:00:00|        6|Expert|\n| 13|Thranduil|  Mirkwood| Archer|   26|      7900|  97.0|    true|2023-09-22 02:00:00|        2|Expert|\n| 14|    Eowyn|     Rohan|Warrior|   17|      5200| 112.5|    true|2023-09-23 05:00:00|        7|  Noob|\n| 15|  Faramir|    Gondor| Archer|   19|      5700| 118.5|    true|2023-09-20 06:00:00|        7|Expert|\n+---+---------+----------+-------+-----+----------+------+--------+-------------------+---------+------+\n\n"
     ]
    }
   ],
   "source": [
    "df_characters.withColumn(\"tier\",\n",
    "                          when((df_characters.level < 10) | (df_characters[\"class\"] == \"Warrior\"), \"Noob\")\n",
    "                          .when((df_characters.level < 30) & (df_characters.experience > 5000), \"Expert\")\n",
    "                          .when(df_characters.level < 30, \"Mid\")\n",
    "                          .otherwise(\"God\")\n",
    ").show()"
   ]
  },
  {
   "cell_type": "markdown",
   "metadata": {
    "application/vnd.databricks.v1+cell": {
     "cellMetadata": {},
     "inputWidgets": {},
     "nuid": "eb4268ad-6002-4827-a8f7-c02f0221401e",
     "showTitle": false,
     "title": ""
    }
   },
   "source": [
    "##SQL"
   ]
  },
  {
   "cell_type": "code",
   "execution_count": 0,
   "metadata": {
    "application/vnd.databricks.v1+cell": {
     "cellMetadata": {
      "byteLimit": 2048000,
      "rowLimit": 10000
     },
     "inputWidgets": {},
     "nuid": "66baf44a-0c6a-434d-8475-7d7bcf6fd30f",
     "showTitle": false,
     "title": ""
    }
   },
   "outputs": [
    {
     "output_type": "stream",
     "name": "stdout",
     "output_type": "stream",
     "text": [
      "+---+---------+----------+-------+-----+----------+------+--------+-------------------+---------+------+\n| id|     name|     guild|  class|level|experience|health|is_alive|        last_active|mentor_id|  tier|\n+---+---------+----------+-------+-----+----------+------+--------+-------------------+---------+------+\n|  1|  Aragorn|   Rangers|Warrior|   25|      9000| 120.5|    true|2023-09-20 08:00:00|     null|  Noob|\n|  2|  Legolas|  Mirkwood| Archer|   22|      7500|100.75|    true|2023-09-21 09:00:00|     null|Expert|\n|  3|    Gimli|    Erebor|Warrior|   20|      6000|130.25|    true|2023-09-22 07:00:00|     null|  Noob|\n|  4|    Frodo| Shirefolk| Hobbit|   12|      2500|  50.5|   false|2023-09-23 10:00:00|        1|   Mid|\n|  5|      Sam| Shirefolk| Hobbit|   13|      2750|  52.5|    true|2023-09-23 10:05:00|        1|   Mid|\n|  6|  Gandalf|    Istari|   Mage|   30|     10000|  90.0|    true|2023-09-20 11:00:00|     null|   God|\n|  7|  Boromir|    Gondor|Warrior|   18|      5500| 115.5|   false|2023-09-21 12:00:00|     null|  Noob|\n|  8|    Merry| Shirefolk| Hobbit|   11|      2200|  48.5|    true|2023-09-22 10:00:00|        4|   Mid|\n|  9|   Pippin| Shirefolk| Hobbit|   11|      2100|  47.5|    true|2023-09-22 10:01:00|        4|   Mid|\n| 10|   Sauron|Dark Lords|   Mage|   40|     15000|  85.0|   false|2023-09-23 01:00:00|     null|   God|\n| 11|  Saruman|    Istari|   Mage|   28|      8500|  88.5|   false|2023-09-20 03:00:00|        6|Expert|\n| 12|   Elrond| Rivendell|   Mage|   27|      8200|  87.5|    true|2023-09-21 04:00:00|        6|Expert|\n| 13|Thranduil|  Mirkwood| Archer|   26|      7900|  97.0|    true|2023-09-22 02:00:00|        2|Expert|\n| 14|    Eowyn|     Rohan|Warrior|   17|      5200| 112.5|    true|2023-09-23 05:00:00|        7|  Noob|\n| 15|  Faramir|    Gondor| Archer|   19|      5700| 118.5|    true|2023-09-20 06:00:00|        7|Expert|\n+---+---------+----------+-------+-----+----------+------+--------+-------------------+---------+------+\n\n"
     ]
    }
   ],
   "source": [
    "df_characters.withColumn(\"tier\", expr(\n",
    "    \"CASE \" +\n",
    "        \"WHEN level < 10 OR class = 'Warrior' THEN 'Noob' \" + \n",
    "        \"WHEN level < 30 AND Experience > 5000 THEN 'Expert' \" +\n",
    "        \"WHEN level < 30 THEN 'Mid' \" +\n",
    "        \"ELSE 'God' \"\n",
    "    \"END\"\n",
    ")).show()"
   ]
  }
 ],
 "metadata": {
  "application/vnd.databricks.v1+notebook": {
   "dashboards": [],
   "environmentMetadata": null,
   "language": "python",
   "notebookMetadata": {
    "pythonIndentUnit": 4
   },
   "notebookName": "CaseFunction",
   "widgets": {}
  }
 },
 "nbformat": 4,
 "nbformat_minor": 0
}
