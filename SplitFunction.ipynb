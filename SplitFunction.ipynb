{
 "cells": [
  {
   "cell_type": "code",
   "execution_count": 1,
   "id": "98b72c84-8edd-4ff7-8c96-2f2e7ad35a9a",
   "metadata": {},
   "outputs": [],
   "source": [
    "import findspark\n",
    "findspark.init()"
   ]
  },
  {
   "cell_type": "code",
   "execution_count": 2,
   "id": "97ff7d2d-4e51-42aa-aecb-c7ee2a5f1c50",
   "metadata": {},
   "outputs": [],
   "source": [
    "import pyspark"
   ]
  },
  {
   "cell_type": "code",
   "execution_count": 3,
   "id": "55deb663-3822-4d5e-802b-9071ced61090",
   "metadata": {},
   "outputs": [],
   "source": [
    "from pyspark.sql import SparkSession"
   ]
  },
  {
   "cell_type": "code",
   "execution_count": 4,
   "id": "f377c69d-2b0f-4b0a-9397-cf8b99bcbe83",
   "metadata": {},
   "outputs": [
    {
     "name": "stderr",
     "output_type": "stream",
     "text": [
      "Setting default log level to \"WARN\".\n",
      "To adjust logging level use sc.setLogLevel(newLevel). For SparkR, use setLogLevel(newLevel).\n",
      "24/08/18 17:18:15 WARN NativeCodeLoader: Unable to load native-hadoop library for your platform... using builtin-java classes where applicable\n"
     ]
    }
   ],
   "source": [
    "spark = (SparkSession.builder.appName(\"SplitFunctionTest\").getOrCreate())"
   ]
  },
  {
   "cell_type": "code",
   "execution_count": 6,
   "id": "4e890f0b-68f4-47d7-8879-d3fd3528dec1",
   "metadata": {},
   "outputs": [],
   "source": [
    "people_data = [\n",
    "    (1, \"Andrew James\", \"1987-12-25\", True, 140000, \"model\"),\n",
    "    (2, \"Linda Scott\", \"1990-05-14\", False, 95000, \"engineer\"),\n",
    "    (3, \"Michael Brown\", \"1985-11-07\", True, 120000, \"teacher\"),\n",
    "    (4, \"Jessica Wilson\", \"1992-03-22\", False, 75000, \"designer\"),\n",
    "    (5, \"John Davis\", \"1980-08-19\", True, 160000, \"lawyer\"),\n",
    "    (6, \"Emily Clark\", \"1995-02-10\", False, 98000, \"architect\"),\n",
    "    (7, \"David Evans\", \"1983-07-15\", True, 130000, \"doctor\"),\n",
    "    (8, \"Sophia Harris\", \"1988-11-30\", False, 110000, \"nurse\"),\n",
    "    (9, \"Daniel Martinez\", \"1991-06-01\", True, 145000, \"consultant\"),\n",
    "    (10, \"Olivia Thompson\", \"1986-09-12\", False, 102000, \"scientist\")\n",
    "]\n",
    "\n",
    "people_schema = (\"id\",\"full name\",\"birth_date\",\"married\",\"anual_salary\",\"profession\")"
   ]
  },
  {
   "cell_type": "code",
   "execution_count": 7,
   "id": "aeaeba46-c260-4ee6-a3e1-8820ba64152f",
   "metadata": {},
   "outputs": [],
   "source": [
    "df_people = spark.createDataFrame(data=people_data, schema=people_schema)"
   ]
  },
  {
   "cell_type": "code",
   "execution_count": 8,
   "id": "1a4b6e73-3c5e-42f9-982a-40a86e15e5a2",
   "metadata": {},
   "outputs": [
    {
     "name": "stderr",
     "output_type": "stream",
     "text": [
      "                                                                                \r"
     ]
    },
    {
     "name": "stdout",
     "output_type": "stream",
     "text": [
      "+---+---------------+----------+-------+------------+----------+\n",
      "| id|      full name|birth_date|married|anual_salary|profession|\n",
      "+---+---------------+----------+-------+------------+----------+\n",
      "|  1|   Andrew James|1987-12-25|   true|      140000|     model|\n",
      "|  2|    Linda Scott|1990-05-14|  false|       95000|  engineer|\n",
      "|  3|  Michael Brown|1985-11-07|   true|      120000|   teacher|\n",
      "|  4| Jessica Wilson|1992-03-22|  false|       75000|  designer|\n",
      "|  5|     John Davis|1980-08-19|   true|      160000|    lawyer|\n",
      "|  6|    Emily Clark|1995-02-10|  false|       98000| architect|\n",
      "|  7|    David Evans|1983-07-15|   true|      130000|    doctor|\n",
      "|  8|  Sophia Harris|1988-11-30|  false|      110000|     nurse|\n",
      "|  9|Daniel Martinez|1991-06-01|   true|      145000|consultant|\n",
      "| 10|Olivia Thompson|1986-09-12|  false|      102000| scientist|\n",
      "+---+---------------+----------+-------+------------+----------+\n",
      "\n"
     ]
    }
   ],
   "source": [
    "df_people.show()"
   ]
  },
  {
   "cell_type": "markdown",
   "id": "48ac9c62-7b6c-40df-8206-c8ff65409a4f",
   "metadata": {},
   "source": [
    "## First method"
   ]
  },
  {
   "cell_type": "code",
   "execution_count": 9,
   "id": "3788c5f6-70b8-4a8a-be3b-d9c23d7a0430",
   "metadata": {},
   "outputs": [],
   "source": [
    "from pyspark.sql.functions import split"
   ]
  },
  {
   "cell_type": "code",
   "execution_count": 22,
   "id": "7d700286-5310-4bf8-83be-c92ae0cfd781",
   "metadata": {},
   "outputs": [
    {
     "name": "stdout",
     "output_type": "stream",
     "text": [
      "+---+---------------+----------+-------+------------+----------+----------+---------+\n",
      "| id|      full name|birth_date|married|anual_salary|profession|first_name|last_name|\n",
      "+---+---------------+----------+-------+------------+----------+----------+---------+\n",
      "|  1|   Andrew James|1987-12-25|   true|      140000|     model|    Andrew|    James|\n",
      "|  2|    Linda Scott|1990-05-14|  false|       95000|  engineer|     Linda|    Scott|\n",
      "|  3|  Michael Brown|1985-11-07|   true|      120000|   teacher|   Michael|    Brown|\n",
      "|  4| Jessica Wilson|1992-03-22|  false|       75000|  designer|   Jessica|   Wilson|\n",
      "|  5|     John Davis|1980-08-19|   true|      160000|    lawyer|      John|    Davis|\n",
      "|  6|    Emily Clark|1995-02-10|  false|       98000| architect|     Emily|    Clark|\n",
      "|  7|    David Evans|1983-07-15|   true|      130000|    doctor|     David|    Evans|\n",
      "|  8|  Sophia Harris|1988-11-30|  false|      110000|     nurse|    Sophia|   Harris|\n",
      "|  9|Daniel Martinez|1991-06-01|   true|      145000|consultant|    Daniel| Martinez|\n",
      "| 10|Olivia Thompson|1986-09-12|  false|      102000| scientist|    Olivia| Thompson|\n",
      "+---+---------------+----------+-------+------------+----------+----------+---------+\n",
      "\n"
     ]
    }
   ],
   "source": [
    "df_split_1 = df_people.withColumn(\"first_name\",split(df_people['full name'], ' ').getItem(0))\\\n",
    "                .withColumn(\"last_name\",split(df_people['full name'], ' ').getItem(1))\n",
    "\n",
    "df_split_1.show()"
   ]
  },
  {
   "cell_type": "markdown",
   "id": "b73906cd-a405-4d55-91d8-bb3864eb6e8c",
   "metadata": {},
   "source": [
    "## Second method"
   ]
  },
  {
   "cell_type": "code",
   "execution_count": 17,
   "id": "ca75db4c-6f38-48b0-b02a-121a66f7f8b2",
   "metadata": {},
   "outputs": [],
   "source": [
    "split_col = split(df_people['full name'], ' ')"
   ]
  },
  {
   "cell_type": "code",
   "execution_count": 26,
   "id": "2e970bcd-32fb-440a-9490-a189570cde08",
   "metadata": {},
   "outputs": [
    {
     "name": "stdout",
     "output_type": "stream",
     "text": [
      "+---+---------------+----------+-------+------------+----------+----------+---------+\n",
      "| id|      full name|birth_date|married|anual_salary|profession|first_name|last_name|\n",
      "+---+---------------+----------+-------+------------+----------+----------+---------+\n",
      "|  1|   Andrew James|1987-12-25|   true|      140000|     model|    Andrew|    James|\n",
      "|  2|    Linda Scott|1990-05-14|  false|       95000|  engineer|     Linda|    Scott|\n",
      "|  3|  Michael Brown|1985-11-07|   true|      120000|   teacher|   Michael|    Brown|\n",
      "|  4| Jessica Wilson|1992-03-22|  false|       75000|  designer|   Jessica|   Wilson|\n",
      "|  5|     John Davis|1980-08-19|   true|      160000|    lawyer|      John|    Davis|\n",
      "|  6|    Emily Clark|1995-02-10|  false|       98000| architect|     Emily|    Clark|\n",
      "|  7|    David Evans|1983-07-15|   true|      130000|    doctor|     David|    Evans|\n",
      "|  8|  Sophia Harris|1988-11-30|  false|      110000|     nurse|    Sophia|   Harris|\n",
      "|  9|Daniel Martinez|1991-06-01|   true|      145000|consultant|    Daniel| Martinez|\n",
      "| 10|Olivia Thompson|1986-09-12|  false|      102000| scientist|    Olivia| Thompson|\n",
      "+---+---------------+----------+-------+------------+----------+----------+---------+\n",
      "\n"
     ]
    }
   ],
   "source": [
    "df_split_2 = df_people.withColumn(\"first_name\",split_col.getItem(0)).withColumn(\"last_name\",split_col.getItem(1))\n",
    "df_split_2.show()"
   ]
  },
  {
   "cell_type": "markdown",
   "id": "1e7c6d53-d1b9-4e17-aa65-7b025ca2068a",
   "metadata": {},
   "source": [
    "## Third method"
   ]
  },
  {
   "cell_type": "code",
   "execution_count": 20,
   "id": "7c97c1fb-ce19-4525-8963-9538fe6e4c42",
   "metadata": {},
   "outputs": [
    {
     "name": "stdout",
     "output_type": "stream",
     "text": [
      "+---+---------------+-------+----+\n",
      "| id|      full name|married|year|\n",
      "+---+---------------+-------+----+\n",
      "|  1|   Andrew James|   true|1987|\n",
      "|  2|    Linda Scott|  false|1990|\n",
      "|  3|  Michael Brown|   true|1985|\n",
      "|  4| Jessica Wilson|  false|1992|\n",
      "|  5|     John Davis|   true|1980|\n",
      "|  6|    Emily Clark|  false|1995|\n",
      "|  7|    David Evans|   true|1983|\n",
      "|  8|  Sophia Harris|  false|1988|\n",
      "|  9|Daniel Martinez|   true|1991|\n",
      "| 10|Olivia Thompson|  false|1986|\n",
      "+---+---------------+-------+----+\n",
      "\n"
     ]
    }
   ],
   "source": [
    "split_date = split(df_people['birth_date'], '-')\n",
    "\n",
    "df_split_date= df_people.select(\"id\",\"full name\",\"married\",split_date.getItem(0).alias(\"year\"))\n",
    "\n",
    "df_split_date.show()"
   ]
  },
  {
   "cell_type": "markdown",
   "id": "3f95c292-37e9-4e10-9f0c-0f4a5a1687a8",
   "metadata": {},
   "source": [
    "## Combine Method"
   ]
  },
  {
   "cell_type": "code",
   "execution_count": 32,
   "id": "babc0f51-40b3-4ed3-bf9f-fcb8b1164ccb",
   "metadata": {},
   "outputs": [
    {
     "name": "stdout",
     "output_type": "stream",
     "text": [
      "+---+-------+----------+---------+---------+\n",
      "| id|married|first_name|last_name|born_year|\n",
      "+---+-------+----------+---------+---------+\n",
      "|  1|   true|    Andrew|    James|     1987|\n",
      "|  2|  false|     Linda|    Scott|     1990|\n",
      "|  3|   true|   Michael|    Brown|     1985|\n",
      "|  4|  false|   Jessica|   Wilson|     1992|\n",
      "|  5|   true|      John|    Davis|     1980|\n",
      "|  6|  false|     Emily|    Clark|     1995|\n",
      "|  7|   true|     David|    Evans|     1983|\n",
      "|  8|  false|    Sophia|   Harris|     1988|\n",
      "|  9|   true|    Daniel| Martinez|     1991|\n",
      "| 10|  false|    Olivia| Thompson|     1986|\n",
      "+---+-------+----------+---------+---------+\n",
      "\n"
     ]
    }
   ],
   "source": [
    "df_split_combine = df_people.select(\"id\",\"married\",\\\n",
    "                                split(df_people['full name'], ' ').getItem(0).alias(\"first_name\"),\\\n",
    "                                split(df_people['full name'], ' ').getItem(1).alias(\"last_name\"),\\\n",
    "                                split(df_people['birth_date'], '-').getItem(0).alias(\"born_year\"))\n",
    "\n",
    "df_split_combine.show()"
   ]
  },
  {
   "cell_type": "markdown",
   "id": "0d1c5803-2fef-430e-9bc7-fae4944794c3",
   "metadata": {},
   "source": [
    "## Drop columns"
   ]
  },
  {
   "cell_type": "code",
   "execution_count": 37,
   "id": "cd6a9185-4648-4e7a-a479-2c50e25045eb",
   "metadata": {},
   "outputs": [
    {
     "name": "stdout",
     "output_type": "stream",
     "text": [
      "+---+----------+-------+------------+----------+----------+\n",
      "| id|birth_date|married|anual_salary|profession|first_name|\n",
      "+---+----------+-------+------------+----------+----------+\n",
      "|  1|1987-12-25|   true|      140000|     model|    Andrew|\n",
      "|  2|1990-05-14|  false|       95000|  engineer|     Linda|\n",
      "|  3|1985-11-07|   true|      120000|   teacher|   Michael|\n",
      "|  4|1992-03-22|  false|       75000|  designer|   Jessica|\n",
      "|  5|1980-08-19|   true|      160000|    lawyer|      John|\n",
      "|  6|1995-02-10|  false|       98000| architect|     Emily|\n",
      "|  7|1983-07-15|   true|      130000|    doctor|     David|\n",
      "|  8|1988-11-30|  false|      110000|     nurse|    Sophia|\n",
      "|  9|1991-06-01|   true|      145000|consultant|    Daniel|\n",
      "| 10|1986-09-12|  false|      102000| scientist|    Olivia|\n",
      "+---+----------+-------+------------+----------+----------+\n",
      "\n"
     ]
    }
   ],
   "source": [
    "df_split_drop = df_people.withColumn(\"first_name\",split(df_people['full name'], ' ').getItem(0)).drop(df_people['full name'])\n",
    "df_split_drop.show()"
   ]
  },
  {
   "cell_type": "code",
   "execution_count": null,
   "id": "45b3d5aa-b703-49fb-bd93-f9a63552f61e",
   "metadata": {},
   "outputs": [],
   "source": []
  }
 ],
 "metadata": {
  "kernelspec": {
   "display_name": "Python 3 (ipykernel)",
   "language": "python",
   "name": "python3"
  },
  "language_info": {
   "codemirror_mode": {
    "name": "ipython",
    "version": 3
   },
   "file_extension": ".py",
   "mimetype": "text/x-python",
   "name": "python",
   "nbconvert_exporter": "python",
   "pygments_lexer": "ipython3",
   "version": "3.11.7"
  }
 },
 "nbformat": 4,
 "nbformat_minor": 5
}
