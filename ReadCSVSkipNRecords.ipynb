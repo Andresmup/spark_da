{
 "cells": [
  {
   "cell_type": "markdown",
   "metadata": {
    "application/vnd.databricks.v1+cell": {
     "cellMetadata": {},
     "inputWidgets": {},
     "nuid": "7b7f5016-145e-4146-a42c-fe551098183d",
     "showTitle": false,
     "title": ""
    }
   },
   "source": [
    "# READ CSV SKIP N RECORDS"
   ]
  },
  {
   "cell_type": "markdown",
   "metadata": {
    "application/vnd.databricks.v1+cell": {
     "cellMetadata": {},
     "inputWidgets": {},
     "nuid": "a280ee0c-65f4-48f9-9617-cbb00ba2dd20",
     "showTitle": false,
     "title": ""
    }
   },
   "source": [
    "## Option skipRows Only Databrics"
   ]
  },
  {
   "cell_type": "code",
   "execution_count": 0,
   "metadata": {
    "application/vnd.databricks.v1+cell": {
     "cellMetadata": {
      "byteLimit": 2048000,
      "rowLimit": 10000
     },
     "inputWidgets": {},
     "nuid": "11281086-d496-44ce-b314-01274ed9cd34",
     "showTitle": false,
     "title": ""
    }
   },
   "outputs": [
    {
     "output_type": "stream",
     "name": "stdout",
     "output_type": "stream",
     "text": [
      "+----+----------+-----------+---+-----+\n|Year|First Name|     County|Sex|Count|\n+----+----------+-----------+---+-----+\n|2007|      ZOEY|      KINGS|  F|   11|\n|2007|      ZOEY|    SUFFOLK|  F|    6|\n|2007|      ZOEY|     MONROE|  F|    6|\n|2007|      ZOEY|       ERIE|  F|    9|\n|2007|       ZOE|     ULSTER|  F|    5|\n|2007|       ZOE|WESTCHESTER|  F|   24|\n|2007|       ZOE|      BRONX|  F|   13|\n|2007|       ZOE|   NEW YORK|  F|   55|\n|2007|       ZOE|     NASSAU|  F|   15|\n|2007|       ZOE|       ERIE|  F|    6|\n|2007|       ZOE|    SUFFOLK|  F|   14|\n|2007|       ZOE|      KINGS|  F|   34|\n|2007|       ZOE|     MONROE|  F|    9|\n|2007|       ZOE|     QUEENS|  F|   26|\n|2007|       ZOE|     ALBANY|  F|    5|\n|2007|     ZISSY|   ROCKLAND|  F|    5|\n|2007|     ZISSY|      KINGS|  F|   27|\n|2007|      ZION|      KINGS|  M|   15|\n|2007|      ZION|      BRONX|  M|   14|\n|2007|       ZEV|   ROCKLAND|  M|    6|\n+----+----------+-----------+---+-----+\nonly showing top 20 rows\n\n"
     ]
    }
   ],
   "source": [
    "df_normal = spark.read.format(\"csv\") \\\n",
    "    .options(inferSchema=\"True\", \n",
    "        header=\"True\",\n",
    "        sep=\",\") \\\n",
    "    .load(\"dbfs:/FileStore/tables/baby_names.csv\")\n",
    "\n",
    "df_normal.show()"
   ]
  },
  {
   "cell_type": "code",
   "execution_count": 0,
   "metadata": {
    "application/vnd.databricks.v1+cell": {
     "cellMetadata": {
      "byteLimit": 2048000,
      "rowLimit": 10000
     },
     "inputWidgets": {},
     "nuid": "56686b81-dadf-4292-9efe-62f869284de2",
     "showTitle": false,
     "title": ""
    }
   },
   "outputs": [
    {
     "output_type": "stream",
     "name": "stdout",
     "output_type": "stream",
     "text": [
      "Out[6]: 52252"
     ]
    }
   ],
   "source": [
    "df_normal.count()"
   ]
  },
  {
   "cell_type": "code",
   "execution_count": 0,
   "metadata": {
    "application/vnd.databricks.v1+cell": {
     "cellMetadata": {
      "byteLimit": 2048000,
      "rowLimit": 10000
     },
     "inputWidgets": {},
     "nuid": "02606804-b772-4424-9b70-0dbeb927218b",
     "showTitle": false,
     "title": ""
    }
   },
   "outputs": [
    {
     "output_type": "stream",
     "name": "stdout",
     "output_type": "stream",
     "text": [
      "+----+-------+-----------+---+---+\n|2007|   ZOEY|       ERIE|  F|  9|\n+----+-------+-----------+---+---+\n|2007|    ZOE|     ULSTER|  F|  5|\n|2007|    ZOE|WESTCHESTER|  F| 24|\n|2007|    ZOE|      BRONX|  F| 13|\n|2007|    ZOE|   NEW YORK|  F| 55|\n|2007|    ZOE|     NASSAU|  F| 15|\n|2007|    ZOE|       ERIE|  F|  6|\n|2007|    ZOE|    SUFFOLK|  F| 14|\n|2007|    ZOE|      KINGS|  F| 34|\n|2007|    ZOE|     MONROE|  F|  9|\n|2007|    ZOE|     QUEENS|  F| 26|\n|2007|    ZOE|     ALBANY|  F|  5|\n|2007|  ZISSY|   ROCKLAND|  F|  5|\n|2007|  ZISSY|      KINGS|  F| 27|\n|2007|   ZION|      KINGS|  M| 15|\n|2007|   ZION|      BRONX|  M| 14|\n|2007|    ZEV|   ROCKLAND|  M|  6|\n|2007|    ZEV|      KINGS|  M| 30|\n|2007|   ZARA|     QUEENS|  F| 10|\n|2007|  ZAIRE|      KINGS|  M| 14|\n|2007|ZACKARY|    SUFFOLK|  M|  6|\n+----+-------+-----------+---+---+\nonly showing top 20 rows\n\n"
     ]
    }
   ],
   "source": [
    "df_skip = spark.read.format(\"csv\") \\\n",
    "    .options(inferSchema=\"True\", \n",
    "        header=\"True\",\n",
    "        sep=\",\",\n",
    "        skipRows=4) \\\n",
    "    .load(\"dbfs:/FileStore/tables/baby_names.csv\")\n",
    "\n",
    "df_skip.show()"
   ]
  },
  {
   "cell_type": "code",
   "execution_count": 0,
   "metadata": {
    "application/vnd.databricks.v1+cell": {
     "cellMetadata": {
      "byteLimit": 2048000,
      "rowLimit": 10000
     },
     "inputWidgets": {},
     "nuid": "8a56df15-b15d-4246-b3b9-72cda3fa791c",
     "showTitle": false,
     "title": ""
    }
   },
   "outputs": [
    {
     "output_type": "stream",
     "name": "stdout",
     "output_type": "stream",
     "text": [
      "Out[8]: 52248"
     ]
    }
   ],
   "source": [
    "df_skip.count()"
   ]
  }
 ],
 "metadata": {
  "application/vnd.databricks.v1+notebook": {
   "dashboards": [],
   "environmentMetadata": null,
   "language": "python",
   "notebookMetadata": {
    "pythonIndentUnit": 4
   },
   "notebookName": "ReadCSVSkipNRecords",
   "widgets": {}
  }
 },
 "nbformat": 4,
 "nbformat_minor": 0
}
