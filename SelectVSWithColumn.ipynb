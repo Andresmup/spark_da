{
 "cells": [
  {
   "cell_type": "markdown",
   "id": "e334a8f7-bd68-4d3d-a3eb-876bac8379cd",
   "metadata": {},
   "source": [
    "# SELECT VS WITH COLUMN"
   ]
  },
  {
   "cell_type": "markdown",
   "id": "c0c5e913-b26a-4b18-801c-ef34558cbe4b",
   "metadata": {},
   "source": [
    "## Raw dataframe"
   ]
  },
  {
   "cell_type": "code",
   "execution_count": 1,
   "id": "957ffa81-8c99-4e17-ad55-0a285234148d",
   "metadata": {},
   "outputs": [],
   "source": [
    "import findspark\n",
    "findspark.init()"
   ]
  },
  {
   "cell_type": "code",
   "execution_count": 2,
   "id": "03f3916f-2498-468a-b0dd-bc63a166d2fc",
   "metadata": {},
   "outputs": [
    {
     "name": "stderr",
     "output_type": "stream",
     "text": [
      "Setting default log level to \"WARN\".\n",
      "To adjust logging level use sc.setLogLevel(newLevel). For SparkR, use setLogLevel(newLevel).\n",
      "24/08/29 20:36:52 WARN NativeCodeLoader: Unable to load native-hadoop library for your platform... using builtin-java classes where applicable\n"
     ]
    }
   ],
   "source": [
    "from pyspark.sql import SparkSession\n",
    "spark = SparkSession.builder.getOrCreate()"
   ]
  },
  {
   "cell_type": "code",
   "execution_count": 3,
   "id": "6797f677-f010-41cd-92f0-4b8a7b888886",
   "metadata": {},
   "outputs": [],
   "source": [
    "data_students = [\n",
    "    (\"Alice\", \"Johnson\", \"Math\", 85, 72, 65, 88, 94, True, 95),\n",
    "    (\"Alice\", \"Johnson\", \"English\", 78, 84, 57, 91, 89, True, 88),\n",
    "    (\"Alice\", \"Johnson\", \"History\", 92, 76, 82, 93, 80, True, 97),\n",
    "    (\"Alice\", \"Johnson\", \"Science\", 67, 70, 85, 66, 73, True, 80),\n",
    "    (\"Alice\", \"Johnson\", \"Art\", 55, 59, 47, 60, 62, False, 70),\n",
    "    \n",
    "    (\"Bob\", \"Smith\", \"Math\", 72, 66, 81, 75, 83, True, 85),\n",
    "    (\"Bob\", \"Smith\", \"English\", 81, 92, 74, 68, 77, True, 90),\n",
    "    (\"Bob\", \"Smith\", \"History\", 60, 54, 69, 61, 65, True, 75),\n",
    "    (\"Bob\", \"Smith\", \"Science\", 50, 48, 56, 53, 60, False, 65),\n",
    "    (\"Bob\", \"Smith\", \"Art\", 58, 61, 63, 57, 55, True, 77),\n",
    "\n",
    "    (\"Charlie\", \"Wood\", \"Math\", 93, 88, 79, 91, 85, True, 98),\n",
    "    (\"Charlie\", \"Wood\", \"English\", 89, 83, 87, 92, 90, True, 92),\n",
    "    (\"Charlie\", \"Wood\", \"History\", 74, 68, 77, 72, 70, True, 84),\n",
    "    (\"Charlie\", \"Wood\", \"Science\", 88, 91, 85, 87, 89, True, 91),\n",
    "    (\"Charlie\", \"Wood\", \"Art\", 79, 74, 81, 76, 78, True, 87),\n",
    "\n",
    "    (\"Diane\", \"Brown\", \"Math\", 61, 55, 64, 58, 62, True, 82),\n",
    "    (\"Diane\", \"Brown\", \"English\", 57, 49, 53, 61, 50, False, 68),\n",
    "    (\"Diane\", \"Brown\", \"History\", 69, 63, 71, 66, 67, True, 80),\n",
    "    (\"Diane\", \"Brown\", \"Science\", 73, 78, 70, 74, 72, True, 85),\n",
    "    (\"Diane\", \"Brown\", \"Art\", 62, 58, 65, 60, 63, True, 76),\n",
    "\n",
    "    (\"Eve\", \"Davis\", \"Math\", 54, 47, 52, 56, 50, False, 66),\n",
    "    (\"Eve\", \"Davis\", \"English\", 48, 42, 45, 49, 44, False, 58),\n",
    "    (\"Eve\", \"Davis\", \"History\", 63, 68, 61, 66, 62, True, 77),\n",
    "    (\"Eve\", \"Davis\", \"Science\", 70, 73, 75, 69, 71, True, 83),\n",
    "    (\"Eve\", \"Davis\", \"Art\", 66, 64, 69, 61, 67, True, 81)\n",
    "]\n",
    "\n",
    "\n",
    "schema_students = \"first_name STRING, last_name STRING, suject STRING, exam_1 INTEGER, exam_2 INTEGER, exam_3 INTEGER, exam_4 INTEGER, exam_5 INTEGER, approved BOOLEAN, attendance INTEGER\""
   ]
  },
  {
   "cell_type": "code",
   "execution_count": 4,
   "id": "44d95b77-c529-4205-a07b-6b1fa7db93b6",
   "metadata": {},
   "outputs": [
    {
     "name": "stderr",
     "output_type": "stream",
     "text": [
      "                                                                                \r"
     ]
    },
    {
     "name": "stdout",
     "output_type": "stream",
     "text": [
      "+----------+---------+-------+------+------+------+------+------+--------+----------+\n",
      "|first_name|last_name|suject |exam_1|exam_2|exam_3|exam_4|exam_5|approved|attendance|\n",
      "+----------+---------+-------+------+------+------+------+------+--------+----------+\n",
      "|Alice     |Johnson  |Math   |85    |72    |65    |88    |94    |true    |95        |\n",
      "|Alice     |Johnson  |English|78    |84    |57    |91    |89    |true    |88        |\n",
      "|Alice     |Johnson  |History|92    |76    |82    |93    |80    |true    |97        |\n",
      "|Alice     |Johnson  |Science|67    |70    |85    |66    |73    |true    |80        |\n",
      "|Alice     |Johnson  |Art    |55    |59    |47    |60    |62    |false   |70        |\n",
      "|Bob       |Smith    |Math   |72    |66    |81    |75    |83    |true    |85        |\n",
      "|Bob       |Smith    |English|81    |92    |74    |68    |77    |true    |90        |\n",
      "|Bob       |Smith    |History|60    |54    |69    |61    |65    |true    |75        |\n",
      "|Bob       |Smith    |Science|50    |48    |56    |53    |60    |false   |65        |\n",
      "|Bob       |Smith    |Art    |58    |61    |63    |57    |55    |true    |77        |\n",
      "|Charlie   |Wood     |Math   |93    |88    |79    |91    |85    |true    |98        |\n",
      "|Charlie   |Wood     |English|89    |83    |87    |92    |90    |true    |92        |\n",
      "|Charlie   |Wood     |History|74    |68    |77    |72    |70    |true    |84        |\n",
      "|Charlie   |Wood     |Science|88    |91    |85    |87    |89    |true    |91        |\n",
      "|Charlie   |Wood     |Art    |79    |74    |81    |76    |78    |true    |87        |\n",
      "|Diane     |Brown    |Math   |61    |55    |64    |58    |62    |true    |82        |\n",
      "|Diane     |Brown    |English|57    |49    |53    |61    |50    |false   |68        |\n",
      "|Diane     |Brown    |History|69    |63    |71    |66    |67    |true    |80        |\n",
      "|Diane     |Brown    |Science|73    |78    |70    |74    |72    |true    |85        |\n",
      "|Diane     |Brown    |Art    |62    |58    |65    |60    |63    |true    |76        |\n",
      "+----------+---------+-------+------+------+------+------+------+--------+----------+\n",
      "only showing top 20 rows\n",
      "\n"
     ]
    }
   ],
   "source": [
    "df_students = spark.createDataFrame(data=data_students,schema=schema_students)\n",
    "\n",
    "df_students.show(truncate=False)"
   ]
  },
  {
   "cell_type": "markdown",
   "id": "16547082-9e7b-4b02-8572-b1096b9c600e",
   "metadata": {},
   "source": [
    "## Add new columns multiple withColumns"
   ]
  },
  {
   "cell_type": "code",
   "execution_count": 5,
   "id": "919590ee-c67b-4d45-b38d-4e981f622387",
   "metadata": {},
   "outputs": [],
   "source": [
    "from pyspark.sql.functions import col, lit, concat, current_date, when, round"
   ]
  },
  {
   "cell_type": "code",
   "execution_count": 6,
   "id": "2fcaec76-0d7a-4c2f-820b-44a8494009bc",
   "metadata": {},
   "outputs": [
    {
     "name": "stderr",
     "output_type": "stream",
     "text": [
      "                                                                                \r"
     ]
    },
    {
     "name": "stdout",
     "output_type": "stream",
     "text": [
      "+----------+---------+-------+------+------+------+------+------+--------+----------+-------------+-------+--------------+-----------+\n",
      "|first_name|last_name| suject|exam_1|exam_2|exam_3|exam_4|exam_5|approved|attendance|    full_name|average|final_exam_day|extra_point|\n",
      "+----------+---------+-------+------+------+------+------+------+--------+----------+-------------+-------+--------------+-----------+\n",
      "|     Alice|  Johnson|   Math|    85|    72|    65|    88|    94|    true|        95|Alice Johnson|   80.8|    2024-09-28|       true|\n",
      "|     Alice|  Johnson|English|    78|    84|    57|    91|    89|    true|        88|Alice Johnson|   79.8|    2024-09-28|       true|\n",
      "|     Alice|  Johnson|History|    92|    76|    82|    93|    80|    true|        97|Alice Johnson|   84.6|    2024-09-28|       true|\n",
      "|     Alice|  Johnson|Science|    67|    70|    85|    66|    73|    true|        80|Alice Johnson|   72.2|    2024-09-28|      false|\n",
      "|     Alice|  Johnson|    Art|    55|    59|    47|    60|    62|   false|        70|Alice Johnson|   56.6|    2024-09-28|      false|\n",
      "|       Bob|    Smith|   Math|    72|    66|    81|    75|    83|    true|        85|    Bob Smith|   75.4|    2024-09-28|       true|\n",
      "|       Bob|    Smith|English|    81|    92|    74|    68|    77|    true|        90|    Bob Smith|   78.4|    2024-09-28|       true|\n",
      "|       Bob|    Smith|History|    60|    54|    69|    61|    65|    true|        75|    Bob Smith|   61.8|    2024-09-28|      false|\n",
      "|       Bob|    Smith|Science|    50|    48|    56|    53|    60|   false|        65|    Bob Smith|   53.4|    2024-09-28|      false|\n",
      "|       Bob|    Smith|    Art|    58|    61|    63|    57|    55|    true|        77|    Bob Smith|   58.8|    2024-09-28|      false|\n",
      "|   Charlie|     Wood|   Math|    93|    88|    79|    91|    85|    true|        98| Charlie Wood|   87.2|    2024-09-28|       true|\n",
      "|   Charlie|     Wood|English|    89|    83|    87|    92|    90|    true|        92| Charlie Wood|   88.2|    2024-09-28|       true|\n",
      "|   Charlie|     Wood|History|    74|    68|    77|    72|    70|    true|        84| Charlie Wood|   72.2|    2024-09-28|       true|\n",
      "|   Charlie|     Wood|Science|    88|    91|    85|    87|    89|    true|        91| Charlie Wood|   88.0|    2024-09-28|       true|\n",
      "|   Charlie|     Wood|    Art|    79|    74|    81|    76|    78|    true|        87| Charlie Wood|   77.6|    2024-09-28|       true|\n",
      "|     Diane|    Brown|   Math|    61|    55|    64|    58|    62|    true|        82|  Diane Brown|   60.0|    2024-09-28|       true|\n",
      "|     Diane|    Brown|English|    57|    49|    53|    61|    50|   false|        68|  Diane Brown|   54.0|    2024-09-28|      false|\n",
      "|     Diane|    Brown|History|    69|    63|    71|    66|    67|    true|        80|  Diane Brown|   67.2|    2024-09-28|      false|\n",
      "|     Diane|    Brown|Science|    73|    78|    70|    74|    72|    true|        85|  Diane Brown|   73.4|    2024-09-28|       true|\n",
      "|     Diane|    Brown|    Art|    62|    58|    65|    60|    63|    true|        76|  Diane Brown|   61.6|    2024-09-28|      false|\n",
      "+----------+---------+-------+------+------+------+------+------+--------+----------+-------------+-------+--------------+-----------+\n",
      "only showing top 20 rows\n",
      "\n"
     ]
    },
    {
     "name": "stderr",
     "output_type": "stream",
     "text": [
      "                                                                                \r"
     ]
    }
   ],
   "source": [
    "df_multi_with = df_students.withColumn(\"full_name\", concat(col(\"first_name\"), lit(\" \"), col(\"last_name\"))) \\\n",
    "                            .withColumn(\"average\", round((col(\"exam_1\") + col(\"exam_2\") + col(\"exam_3\") + col(\"exam_4\") + col(\"exam_5\")) / 5, 2)) \\\n",
    "                            .withColumn(\"final_exam_day\", current_date()+30) \\\n",
    "                            .withColumn(\"extra_point\",when(col(\"attendance\") > 80, True).otherwise(False))\n",
    "df_multi_with.show()"
   ]
  },
  {
   "cell_type": "markdown",
   "id": "d7fc0f8c-27b2-4a5c-9679-69fd997c5d2f",
   "metadata": {},
   "source": [
    "## Add new columns multiple dataframe"
   ]
  },
  {
   "cell_type": "code",
   "execution_count": 7,
   "id": "19679a95-4026-4b25-a3c0-7c02ce4f3c3c",
   "metadata": {},
   "outputs": [
    {
     "name": "stderr",
     "output_type": "stream",
     "text": [
      "                                                                                \r"
     ]
    },
    {
     "name": "stdout",
     "output_type": "stream",
     "text": [
      "+----------+---------+-------+------+------+------+------+------+--------+----------+-------------+-------+--------------+-----------+\n",
      "|first_name|last_name| suject|exam_1|exam_2|exam_3|exam_4|exam_5|approved|attendance|    full_name|average|final_exam_day|extra_point|\n",
      "+----------+---------+-------+------+------+------+------+------+--------+----------+-------------+-------+--------------+-----------+\n",
      "|     Alice|  Johnson|   Math|    85|    72|    65|    88|    94|    true|        95|Alice Johnson|   80.8|    2024-09-28|       true|\n",
      "|     Alice|  Johnson|English|    78|    84|    57|    91|    89|    true|        88|Alice Johnson|   79.8|    2024-09-28|       true|\n",
      "|     Alice|  Johnson|History|    92|    76|    82|    93|    80|    true|        97|Alice Johnson|   84.6|    2024-09-28|       true|\n",
      "|     Alice|  Johnson|Science|    67|    70|    85|    66|    73|    true|        80|Alice Johnson|   72.2|    2024-09-28|      false|\n",
      "|     Alice|  Johnson|    Art|    55|    59|    47|    60|    62|   false|        70|Alice Johnson|   56.6|    2024-09-28|      false|\n",
      "|       Bob|    Smith|   Math|    72|    66|    81|    75|    83|    true|        85|    Bob Smith|   75.4|    2024-09-28|       true|\n",
      "|       Bob|    Smith|English|    81|    92|    74|    68|    77|    true|        90|    Bob Smith|   78.4|    2024-09-28|       true|\n",
      "|       Bob|    Smith|History|    60|    54|    69|    61|    65|    true|        75|    Bob Smith|   61.8|    2024-09-28|      false|\n",
      "|       Bob|    Smith|Science|    50|    48|    56|    53|    60|   false|        65|    Bob Smith|   53.4|    2024-09-28|      false|\n",
      "|       Bob|    Smith|    Art|    58|    61|    63|    57|    55|    true|        77|    Bob Smith|   58.8|    2024-09-28|      false|\n",
      "|   Charlie|     Wood|   Math|    93|    88|    79|    91|    85|    true|        98| Charlie Wood|   87.2|    2024-09-28|       true|\n",
      "|   Charlie|     Wood|English|    89|    83|    87|    92|    90|    true|        92| Charlie Wood|   88.2|    2024-09-28|       true|\n",
      "|   Charlie|     Wood|History|    74|    68|    77|    72|    70|    true|        84| Charlie Wood|   72.2|    2024-09-28|       true|\n",
      "|   Charlie|     Wood|Science|    88|    91|    85|    87|    89|    true|        91| Charlie Wood|   88.0|    2024-09-28|       true|\n",
      "|   Charlie|     Wood|    Art|    79|    74|    81|    76|    78|    true|        87| Charlie Wood|   77.6|    2024-09-28|       true|\n",
      "|     Diane|    Brown|   Math|    61|    55|    64|    58|    62|    true|        82|  Diane Brown|   60.0|    2024-09-28|       true|\n",
      "|     Diane|    Brown|English|    57|    49|    53|    61|    50|   false|        68|  Diane Brown|   54.0|    2024-09-28|      false|\n",
      "|     Diane|    Brown|History|    69|    63|    71|    66|    67|    true|        80|  Diane Brown|   67.2|    2024-09-28|      false|\n",
      "|     Diane|    Brown|Science|    73|    78|    70|    74|    72|    true|        85|  Diane Brown|   73.4|    2024-09-28|       true|\n",
      "|     Diane|    Brown|    Art|    62|    58|    65|    60|    63|    true|        76|  Diane Brown|   61.6|    2024-09-28|      false|\n",
      "+----------+---------+-------+------+------+------+------+------+--------+----------+-------------+-------+--------------+-----------+\n",
      "only showing top 20 rows\n",
      "\n"
     ]
    }
   ],
   "source": [
    "df_multi_df = df_students.withColumn(\"full_name\", concat(col(\"first_name\"), lit(\" \"), col(\"last_name\")))\n",
    "\n",
    "df_multi_df = df_multi_df.withColumn(\"average\", round((col(\"exam_1\") + col(\"exam_2\") + col(\"exam_3\") + col(\"exam_4\") + col(\"exam_5\")) / 5, 2))\n",
    "df_multi_df = df_multi_df.withColumn(\"final_exam_day\", current_date()+30)\n",
    "\n",
    "df_multi_df = df_multi_df.withColumn(\"extra_point\",when(col(\"attendance\") > 80, True).otherwise(False))\n",
    "\n",
    "df_multi_df.show()"
   ]
  },
  {
   "cell_type": "markdown",
   "id": "5023b551-0df2-4951-b12e-9c00d9b73bbf",
   "metadata": {},
   "source": [
    "## Select"
   ]
  },
  {
   "cell_type": "code",
   "execution_count": 8,
   "id": "c5ab5319-09c8-4916-9795-84b30a9b6412",
   "metadata": {},
   "outputs": [
    {
     "name": "stdout",
     "output_type": "stream",
     "text": [
      "+----------+---------+-------+------+------+------+------+------+--------+----------+-------------+-------+--------------+-----------+\n",
      "|first_name|last_name| suject|exam_1|exam_2|exam_3|exam_4|exam_5|approved|attendance|    full_name|average|final_exam_day|extra_point|\n",
      "+----------+---------+-------+------+------+------+------+------+--------+----------+-------------+-------+--------------+-----------+\n",
      "|     Alice|  Johnson|   Math|    85|    72|    65|    88|    94|    true|        95|Alice Johnson|   80.8|    2024-09-28|       true|\n",
      "|     Alice|  Johnson|English|    78|    84|    57|    91|    89|    true|        88|Alice Johnson|   79.8|    2024-09-28|       true|\n",
      "|     Alice|  Johnson|History|    92|    76|    82|    93|    80|    true|        97|Alice Johnson|   84.6|    2024-09-28|       true|\n",
      "|     Alice|  Johnson|Science|    67|    70|    85|    66|    73|    true|        80|Alice Johnson|   72.2|    2024-09-28|      false|\n",
      "|     Alice|  Johnson|    Art|    55|    59|    47|    60|    62|   false|        70|Alice Johnson|   56.6|    2024-09-28|      false|\n",
      "|       Bob|    Smith|   Math|    72|    66|    81|    75|    83|    true|        85|    Bob Smith|   75.4|    2024-09-28|       true|\n",
      "|       Bob|    Smith|English|    81|    92|    74|    68|    77|    true|        90|    Bob Smith|   78.4|    2024-09-28|       true|\n",
      "|       Bob|    Smith|History|    60|    54|    69|    61|    65|    true|        75|    Bob Smith|   61.8|    2024-09-28|      false|\n",
      "|       Bob|    Smith|Science|    50|    48|    56|    53|    60|   false|        65|    Bob Smith|   53.4|    2024-09-28|      false|\n",
      "|       Bob|    Smith|    Art|    58|    61|    63|    57|    55|    true|        77|    Bob Smith|   58.8|    2024-09-28|      false|\n",
      "|   Charlie|     Wood|   Math|    93|    88|    79|    91|    85|    true|        98| Charlie Wood|   87.2|    2024-09-28|       true|\n",
      "|   Charlie|     Wood|English|    89|    83|    87|    92|    90|    true|        92| Charlie Wood|   88.2|    2024-09-28|       true|\n",
      "|   Charlie|     Wood|History|    74|    68|    77|    72|    70|    true|        84| Charlie Wood|   72.2|    2024-09-28|       true|\n",
      "|   Charlie|     Wood|Science|    88|    91|    85|    87|    89|    true|        91| Charlie Wood|   88.0|    2024-09-28|       true|\n",
      "|   Charlie|     Wood|    Art|    79|    74|    81|    76|    78|    true|        87| Charlie Wood|   77.6|    2024-09-28|       true|\n",
      "|     Diane|    Brown|   Math|    61|    55|    64|    58|    62|    true|        82|  Diane Brown|   60.0|    2024-09-28|       true|\n",
      "|     Diane|    Brown|English|    57|    49|    53|    61|    50|   false|        68|  Diane Brown|   54.0|    2024-09-28|      false|\n",
      "|     Diane|    Brown|History|    69|    63|    71|    66|    67|    true|        80|  Diane Brown|   67.2|    2024-09-28|      false|\n",
      "|     Diane|    Brown|Science|    73|    78|    70|    74|    72|    true|        85|  Diane Brown|   73.4|    2024-09-28|       true|\n",
      "|     Diane|    Brown|    Art|    62|    58|    65|    60|    63|    true|        76|  Diane Brown|   61.6|    2024-09-28|      false|\n",
      "+----------+---------+-------+------+------+------+------+------+--------+----------+-------------+-------+--------------+-----------+\n",
      "only showing top 20 rows\n",
      "\n"
     ]
    }
   ],
   "source": [
    "df_select = df_students.select(\"*\",\n",
    "                               concat(col(\"first_name\"), lit(\" \"), col(\"last_name\")).alias(\"full_name\"),\n",
    "                               round((col(\"exam_1\") + col(\"exam_2\") + col(\"exam_3\") + col(\"exam_4\") + col(\"exam_5\")) / 5, 2).alias(\"average\"),\n",
    "                               (current_date()+30).alias(\"final_exam_day\"), \n",
    "                               when(col(\"attendance\") > 80, True).otherwise(False).alias(\"extra_point\"))\n",
    "df_select.show()"
   ]
  }
 ],
 "metadata": {
  "kernelspec": {
   "display_name": "Python 3 (ipykernel)",
   "language": "python",
   "name": "python3"
  },
  "language_info": {
   "codemirror_mode": {
    "name": "ipython",
    "version": 3
   },
   "file_extension": ".py",
   "mimetype": "text/x-python",
   "name": "python",
   "nbconvert_exporter": "python",
   "pygments_lexer": "ipython3",
   "version": "3.11.7"
  }
 },
 "nbformat": 4,
 "nbformat_minor": 5
}
