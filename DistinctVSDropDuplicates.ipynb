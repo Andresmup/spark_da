{
 "cells": [
  {
   "cell_type": "markdown",
   "id": "c30d8100-1513-4205-9fec-e15fe629d0f5",
   "metadata": {},
   "source": [
    "# DISTINCT VS DROP DUPLICATES"
   ]
  },
  {
   "cell_type": "code",
   "execution_count": 1,
   "id": "9a36469c-9c55-4025-aaad-7275dafa3a1b",
   "metadata": {},
   "outputs": [],
   "source": [
    "import findspark\n",
    "findspark.init()"
   ]
  },
  {
   "cell_type": "code",
   "execution_count": 2,
   "id": "8aea1e00-862f-4acc-8289-8bbacd9e4c33",
   "metadata": {},
   "outputs": [
    {
     "name": "stderr",
     "output_type": "stream",
     "text": [
      "Setting default log level to \"WARN\".\n",
      "To adjust logging level use sc.setLogLevel(newLevel). For SparkR, use setLogLevel(newLevel).\n",
      "24/08/29 17:25:55 WARN NativeCodeLoader: Unable to load native-hadoop library for your platform... using builtin-java classes where applicable\n"
     ]
    }
   ],
   "source": [
    "from pyspark.sql import SparkSession\n",
    "spark = SparkSession.builder.getOrCreate()"
   ]
  },
  {
   "cell_type": "code",
   "execution_count": 3,
   "id": "a6f3377f-5210-4e91-9ba5-e5da3ebdde93",
   "metadata": {},
   "outputs": [],
   "source": [
    "data_vendors = [\n",
    "    (\"Andres\",\"T1\",600),\n",
    "    (\"Andres\",\"T2\",700),\n",
    "    (\"Andres\",\"T2\",700),\n",
    "    (\"Andres\",\"T1\",1000),\n",
    "    (\"Carlos\",\"T1\",0),\n",
    "    (\"Carlos\",\"T1\",0),\n",
    "    (\"Carlos\",\"T3\",None),\n",
    "    (\"Carlos\",\"T4\",500),\n",
    "    (\"Lucia\",\"T1\",200),\n",
    "    (\"Lucia\",\"T2\",2000),\n",
    "    (\"Lucia\",\"T2\",500),\n",
    "    (\"Lucia\",\"T2\",500),\n",
    "    (\"Lucia\",\"T4\",800),\n",
    "    (\"Luis\",\"T1\",None),\n",
    "    (\"Luis\",\"T1\",100),\n",
    "    (\"Luis\",\"T1\",900),\n",
    "    (\"Luis\",\"T1\",None),\n",
    "]\n",
    "\n",
    "schema_vendors = \"name STRING, period STRING, amount INTEGER\""
   ]
  },
  {
   "cell_type": "code",
   "execution_count": 4,
   "id": "ac289899-2760-471c-8577-1b5b77f114bb",
   "metadata": {},
   "outputs": [
    {
     "name": "stderr",
     "output_type": "stream",
     "text": [
      "                                                                                \r"
     ]
    },
    {
     "name": "stdout",
     "output_type": "stream",
     "text": [
      "+------+------+------+\n",
      "|  name|period|amount|\n",
      "+------+------+------+\n",
      "|Andres|    T1|   600|\n",
      "|Andres|    T2|   700|\n",
      "|Andres|    T2|   700|\n",
      "|Andres|    T1|  1000|\n",
      "|Carlos|    T1|     0|\n",
      "|Carlos|    T1|     0|\n",
      "|Carlos|    T3|  NULL|\n",
      "|Carlos|    T4|   500|\n",
      "| Lucia|    T1|   200|\n",
      "| Lucia|    T2|  2000|\n",
      "| Lucia|    T2|   500|\n",
      "| Lucia|    T2|   500|\n",
      "| Lucia|    T4|   800|\n",
      "|  Luis|    T1|  NULL|\n",
      "|  Luis|    T1|   100|\n",
      "|  Luis|    T1|   900|\n",
      "|  Luis|    T1|  NULL|\n",
      "+------+------+------+\n",
      "\n"
     ]
    }
   ],
   "source": [
    "df_vendors = spark.createDataFrame(data=data_vendors, schema=schema_vendors)\n",
    "df_vendors.show()"
   ]
  },
  {
   "cell_type": "code",
   "execution_count": 5,
   "id": "af6d9db7-16cf-4317-baaf-eff5dc4b5d2a",
   "metadata": {},
   "outputs": [
    {
     "data": {
      "text/plain": [
       "17"
      ]
     },
     "execution_count": 5,
     "metadata": {},
     "output_type": "execute_result"
    }
   ],
   "source": [
    "df_vendors.count()"
   ]
  },
  {
   "cell_type": "markdown",
   "id": "a5177de7-bc8d-46ff-b09e-064572f548f6",
   "metadata": {},
   "source": [
    "## Distinct remove duplicates"
   ]
  },
  {
   "cell_type": "code",
   "execution_count": 12,
   "id": "5aafc61d-7fb7-41c7-9e79-37a3401b9335",
   "metadata": {},
   "outputs": [
    {
     "name": "stdout",
     "output_type": "stream",
     "text": [
      "+------+------+------+\n",
      "|  name|period|amount|\n",
      "+------+------+------+\n",
      "|Andres|    T1|   600|\n",
      "|Andres|    T1|  1000|\n",
      "|Andres|    T2|   700|\n",
      "|Carlos|    T1|     0|\n",
      "|Carlos|    T3|  NULL|\n",
      "|Carlos|    T4|   500|\n",
      "| Lucia|    T1|   200|\n",
      "| Lucia|    T2|  2000|\n",
      "| Lucia|    T2|   500|\n",
      "| Lucia|    T4|   800|\n",
      "|  Luis|    T1|   100|\n",
      "|  Luis|    T1|   900|\n",
      "|  Luis|    T1|  NULL|\n",
      "+------+------+------+\n",
      "\n"
     ]
    },
    {
     "name": "stderr",
     "output_type": "stream",
     "text": [
      "                                                                                \r"
     ]
    }
   ],
   "source": [
    "df_vendors.distinct().orderBy(\"name\",\"period\").show()"
   ]
  },
  {
   "cell_type": "code",
   "execution_count": 7,
   "id": "60aa8d68-12d0-490c-8df7-ca1292c5985a",
   "metadata": {},
   "outputs": [
    {
     "data": {
      "text/plain": [
       "13"
      ]
     },
     "execution_count": 7,
     "metadata": {},
     "output_type": "execute_result"
    }
   ],
   "source": [
    "df_vendors.distinct().count()"
   ]
  },
  {
   "cell_type": "markdown",
   "id": "a6f1f1d3-42ed-4dff-b8c1-179207b68a0a",
   "metadata": {},
   "source": [
    "## Distinct with subset"
   ]
  },
  {
   "cell_type": "code",
   "execution_count": 11,
   "id": "44d2632b-7058-4ba1-bbf7-549d812ecc44",
   "metadata": {},
   "outputs": [
    {
     "name": "stdout",
     "output_type": "stream",
     "text": [
      "+------+------+\n",
      "|  name|period|\n",
      "+------+------+\n",
      "|Andres|    T1|\n",
      "|Andres|    T2|\n",
      "|Carlos|    T1|\n",
      "|Carlos|    T3|\n",
      "|Carlos|    T4|\n",
      "| Lucia|    T1|\n",
      "| Lucia|    T2|\n",
      "| Lucia|    T4|\n",
      "|  Luis|    T1|\n",
      "+------+------+\n",
      "\n"
     ]
    }
   ],
   "source": [
    "df_vendors.select(\"name\",\"period\").distinct().orderBy(\"name\",\"period\").show()"
   ]
  },
  {
   "cell_type": "code",
   "execution_count": 10,
   "id": "0622256c-50b1-4f26-b02a-90adec7addf6",
   "metadata": {},
   "outputs": [
    {
     "data": {
      "text/plain": [
       "9"
      ]
     },
     "execution_count": 10,
     "metadata": {},
     "output_type": "execute_result"
    }
   ],
   "source": [
    "df_vendors.select(\"name\",\"period\").distinct().count()"
   ]
  },
  {
   "cell_type": "markdown",
   "id": "604dc14f-87c3-4ebe-85dd-746bf4c6f111",
   "metadata": {},
   "source": [
    "## dropDuplicates without subset"
   ]
  },
  {
   "cell_type": "code",
   "execution_count": 13,
   "id": "687667ef-b02a-44f5-aa3f-57356afc145e",
   "metadata": {},
   "outputs": [
    {
     "name": "stdout",
     "output_type": "stream",
     "text": [
      "+------+------+------+\n",
      "|  name|period|amount|\n",
      "+------+------+------+\n",
      "|Andres|    T1|   600|\n",
      "|Andres|    T1|  1000|\n",
      "|Andres|    T2|   700|\n",
      "|Carlos|    T1|     0|\n",
      "|Carlos|    T3|  NULL|\n",
      "|Carlos|    T4|   500|\n",
      "| Lucia|    T1|   200|\n",
      "| Lucia|    T2|  2000|\n",
      "| Lucia|    T2|   500|\n",
      "| Lucia|    T4|   800|\n",
      "|  Luis|    T1|   100|\n",
      "|  Luis|    T1|   900|\n",
      "|  Luis|    T1|  NULL|\n",
      "+------+------+------+\n",
      "\n"
     ]
    },
    {
     "name": "stderr",
     "output_type": "stream",
     "text": [
      "                                                                                \r"
     ]
    }
   ],
   "source": [
    "df_vendors.dropDuplicates().orderBy(\"name\",\"period\").show()"
   ]
  },
  {
   "cell_type": "code",
   "execution_count": 15,
   "id": "238f032d-798e-4aad-9037-1f699395aa41",
   "metadata": {},
   "outputs": [
    {
     "name": "stderr",
     "output_type": "stream",
     "text": [
      "                                                                                \r"
     ]
    },
    {
     "data": {
      "text/plain": [
       "13"
      ]
     },
     "execution_count": 15,
     "metadata": {},
     "output_type": "execute_result"
    }
   ],
   "source": [
    "df_vendors.dropDuplicates().count()"
   ]
  },
  {
   "cell_type": "markdown",
   "id": "b4aff8ff-0036-42fc-a73c-3e9a63095973",
   "metadata": {},
   "source": [
    "## drop_duplicates withouth subset"
   ]
  },
  {
   "cell_type": "code",
   "execution_count": 21,
   "id": "cea80444-2d9c-4b35-a8ba-46c807ee7352",
   "metadata": {},
   "outputs": [
    {
     "name": "stdout",
     "output_type": "stream",
     "text": [
      "+------+------+------+\n",
      "|  name|period|amount|\n",
      "+------+------+------+\n",
      "|Andres|    T1|   600|\n",
      "|Andres|    T1|  1000|\n",
      "|Andres|    T2|   700|\n",
      "|Carlos|    T1|     0|\n",
      "|Carlos|    T3|  NULL|\n",
      "|Carlos|    T4|   500|\n",
      "| Lucia|    T1|   200|\n",
      "| Lucia|    T2|  2000|\n",
      "| Lucia|    T2|   500|\n",
      "| Lucia|    T4|   800|\n",
      "|  Luis|    T1|   100|\n",
      "|  Luis|    T1|   900|\n",
      "|  Luis|    T1|  NULL|\n",
      "+------+------+------+\n",
      "\n"
     ]
    }
   ],
   "source": [
    "df_vendors.drop_duplicates().orderBy(\"name\",\"period\").show()"
   ]
  },
  {
   "cell_type": "code",
   "execution_count": 22,
   "id": "d17ed365-bb23-4b5b-abab-b540f0d51e94",
   "metadata": {},
   "outputs": [
    {
     "name": "stderr",
     "output_type": "stream",
     "text": [
      "                                                                                \r"
     ]
    },
    {
     "data": {
      "text/plain": [
       "13"
      ]
     },
     "execution_count": 22,
     "metadata": {},
     "output_type": "execute_result"
    }
   ],
   "source": [
    "df_vendors.drop_duplicates().count()"
   ]
  },
  {
   "cell_type": "markdown",
   "id": "c870ea1f-06b8-4075-a4ba-3164f76ddc32",
   "metadata": {},
   "source": [
    "## dropDuplicates with subset"
   ]
  },
  {
   "cell_type": "code",
   "execution_count": 19,
   "id": "537c1d3e-2d01-44be-9ea7-2c90852b6eb1",
   "metadata": {},
   "outputs": [
    {
     "name": "stdout",
     "output_type": "stream",
     "text": [
      "+------+------+------+\n",
      "|  name|period|amount|\n",
      "+------+------+------+\n",
      "|Andres|    T1|   600|\n",
      "|Andres|    T2|   700|\n",
      "|Carlos|    T1|     0|\n",
      "|Carlos|    T3|  NULL|\n",
      "|Carlos|    T4|   500|\n",
      "| Lucia|    T1|   200|\n",
      "| Lucia|    T2|  2000|\n",
      "| Lucia|    T4|   800|\n",
      "|  Luis|    T1|  NULL|\n",
      "+------+------+------+\n",
      "\n"
     ]
    }
   ],
   "source": [
    "df_vendors.dropDuplicates(subset=[\"name\",\"period\"]).orderBy(\"name\",\"period\").show()"
   ]
  },
  {
   "cell_type": "code",
   "execution_count": 20,
   "id": "beaa5597-57f1-4abb-bd7f-e8477779adb9",
   "metadata": {},
   "outputs": [
    {
     "data": {
      "text/plain": [
       "9"
      ]
     },
     "execution_count": 20,
     "metadata": {},
     "output_type": "execute_result"
    }
   ],
   "source": [
    "df_vendors.dropDuplicates(subset=[\"name\",\"period\"]).count()"
   ]
  },
  {
   "cell_type": "markdown",
   "id": "42c33cd7-2bd3-42c9-bcb7-c50d3d0bfd04",
   "metadata": {},
   "source": [
    "## drop_duplicates with subset"
   ]
  },
  {
   "cell_type": "code",
   "execution_count": 23,
   "id": "6ee60f79-39c5-4be0-b7d6-b204ded87455",
   "metadata": {},
   "outputs": [
    {
     "name": "stdout",
     "output_type": "stream",
     "text": [
      "+------+------+------+\n",
      "|  name|period|amount|\n",
      "+------+------+------+\n",
      "|Andres|    T1|   600|\n",
      "|Andres|    T2|   700|\n",
      "|Carlos|    T1|     0|\n",
      "|Carlos|    T3|  NULL|\n",
      "|Carlos|    T4|   500|\n",
      "| Lucia|    T1|   200|\n",
      "| Lucia|    T2|  2000|\n",
      "| Lucia|    T4|   800|\n",
      "|  Luis|    T1|  NULL|\n",
      "+------+------+------+\n",
      "\n"
     ]
    }
   ],
   "source": [
    "df_vendors.drop_duplicates(subset=[\"name\",\"period\"]).orderBy(\"name\",\"period\").show()"
   ]
  },
  {
   "cell_type": "code",
   "execution_count": 24,
   "id": "f249b8d1-d3ee-43c5-a050-1d988ffc08db",
   "metadata": {},
   "outputs": [
    {
     "data": {
      "text/plain": [
       "9"
      ]
     },
     "execution_count": 24,
     "metadata": {},
     "output_type": "execute_result"
    }
   ],
   "source": [
    "df_vendors.drop_duplicates(subset=[\"name\",\"period\"]).count()"
   ]
  }
 ],
 "metadata": {
  "kernelspec": {
   "display_name": "Python 3 (ipykernel)",
   "language": "python",
   "name": "python3"
  },
  "language_info": {
   "codemirror_mode": {
    "name": "ipython",
    "version": 3
   },
   "file_extension": ".py",
   "mimetype": "text/x-python",
   "name": "python",
   "nbconvert_exporter": "python",
   "pygments_lexer": "ipython3",
   "version": "3.11.7"
  }
 },
 "nbformat": 4,
 "nbformat_minor": 5
}
