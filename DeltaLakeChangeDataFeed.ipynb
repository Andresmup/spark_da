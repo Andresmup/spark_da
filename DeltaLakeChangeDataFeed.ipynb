{
 "cells": [
  {
   "cell_type": "markdown",
   "metadata": {
    "application/vnd.databricks.v1+cell": {
     "cellMetadata": {
      "byteLimit": 2048000,
      "rowLimit": 10000
     },
     "inputWidgets": {},
     "nuid": "0bcc11bd-c2b9-4186-82e7-116a89ccdddd",
     "showTitle": false,
     "title": ""
    }
   },
   "source": [
    "# Delta Lake Change Data Feed"
   ]
  },
  {
   "cell_type": "code",
   "execution_count": 0,
   "metadata": {
    "application/vnd.databricks.v1+cell": {
     "cellMetadata": {
      "byteLimit": 2048000,
      "implicitDf": true,
      "rowLimit": 10000
     },
     "inputWidgets": {},
     "nuid": "60f88009-2ba4-4588-b0a8-a0dd140599f0",
     "showTitle": false,
     "title": ""
    }
   },
   "outputs": [
    {
     "output_type": "display_data",
     "data": {
      "text/html": [
       "<style scoped>\n",
       "  .table-result-container {\n",
       "    max-height: 300px;\n",
       "    overflow: auto;\n",
       "  }\n",
       "  table, th, td {\n",
       "    border: 1px solid black;\n",
       "    border-collapse: collapse;\n",
       "  }\n",
       "  th, td {\n",
       "    padding: 5px;\n",
       "  }\n",
       "  th {\n",
       "    text-align: left;\n",
       "  }\n",
       "</style><div class='table-result-container'><table class='table-result'><thead style='background-color: white'><tr></tr></thead><tbody></tbody></table></div>"
      ]
     },
     "metadata": {
      "application/vnd.databricks.v1+output": {
       "addedWidgets": {},
       "aggData": [],
       "aggError": "",
       "aggOverflow": false,
       "aggSchema": [],
       "aggSeriesLimitReached": false,
       "aggType": "",
       "arguments": {},
       "columnCustomDisplayInfos": {},
       "data": [],
       "datasetInfos": [],
       "dbfsResultPath": null,
       "isJsonSchema": true,
       "metadata": {},
       "overflow": false,
       "plotOptions": {
        "customPlotOptions": {},
        "displayType": "table",
        "pivotAggregation": null,
        "pivotColumns": null,
        "xColumns": null,
        "yColumns": null
       },
       "removedWidgets": [],
       "schema": [],
       "type": "table"
      }
     },
     "output_type": "display_data"
    }
   ],
   "source": [
    "%sql\n",
    "\n",
    "DROP TABLE gold_product_dt;\n",
    "DROP TABLE silver_product_dt;\n",
    "DROP VIEW silver_product_dt_last_version;"
   ]
  },
  {
   "cell_type": "markdown",
   "metadata": {
    "application/vnd.databricks.v1+cell": {
     "cellMetadata": {
      "byteLimit": 2048000,
      "rowLimit": 10000
     },
     "inputWidgets": {},
     "nuid": "b118c832-fc70-4de8-b642-01a634357651",
     "showTitle": false,
     "title": ""
    }
   },
   "source": [
    "## Silvet table product"
   ]
  },
  {
   "cell_type": "code",
   "execution_count": 0,
   "metadata": {
    "application/vnd.databricks.v1+cell": {
     "cellMetadata": {
      "byteLimit": 2048000,
      "rowLimit": 10000
     },
     "inputWidgets": {},
     "nuid": "60ad075a-3ac7-46c5-9e33-19ca6e6d0d29",
     "showTitle": false,
     "title": ""
    }
   },
   "outputs": [],
   "source": [
    "data_product = [\n",
    "  (1,\"mobile\",1000, 10, 7),\n",
    "  (2,\"smartphone\",1400, 5, 8),\n",
    "  (3,\"cellphone\",1200, 7, 10),\n",
    "  (4,\"laptop\",2250, 2, 27),\n",
    "  (5,\"notebook\",3150, 14, 29),\n",
    "  (6,\"pc\",3000, 8, 25),\n",
    "  (7,\"netbook\",4500, 2, 27)\n",
    "]\n",
    "\n",
    "schema_product = \"id INTEGER, device STRING, price INTEGER, discount INTEGER, size INTEGER\""
   ]
  },
  {
   "cell_type": "code",
   "execution_count": 0,
   "metadata": {
    "application/vnd.databricks.v1+cell": {
     "cellMetadata": {
      "byteLimit": 2048000,
      "rowLimit": 10000
     },
     "inputWidgets": {},
     "nuid": "2f3e4a0f-bd9e-4190-893a-19f69f50aa6f",
     "showTitle": false,
     "title": ""
    }
   },
   "outputs": [],
   "source": [
    "df_product = spark.createDataFrame(data = data_product, schema = schema_product)\n",
    "\n",
    "df_product.write.format(\"delta\").mode(\"overwrite\").saveAsTable(\"silver_product_dt\")"
   ]
  },
  {
   "cell_type": "code",
   "execution_count": 0,
   "metadata": {
    "application/vnd.databricks.v1+cell": {
     "cellMetadata": {
      "byteLimit": 2048000,
      "implicitDf": true,
      "rowLimit": 10000
     },
     "inputWidgets": {},
     "nuid": "675c15f1-8b6e-4ba2-a0b1-d921480237b5",
     "showTitle": false,
     "title": ""
    }
   },
   "outputs": [
    {
     "output_type": "display_data",
     "data": {
      "text/html": [
       "<style scoped>\n",
       "  .table-result-container {\n",
       "    max-height: 300px;\n",
       "    overflow: auto;\n",
       "  }\n",
       "  table, th, td {\n",
       "    border: 1px solid black;\n",
       "    border-collapse: collapse;\n",
       "  }\n",
       "  th, td {\n",
       "    padding: 5px;\n",
       "  }\n",
       "  th {\n",
       "    text-align: left;\n",
       "  }\n",
       "</style><div class='table-result-container'><table class='table-result'><thead style='background-color: white'><tr><th>id</th><th>device</th><th>price</th><th>discount</th><th>size</th></tr></thead><tbody><tr><td>2</td><td>smartphone</td><td>1400</td><td>5</td><td>8</td></tr><tr><td>3</td><td>cellphone</td><td>1200</td><td>7</td><td>10</td></tr><tr><td>5</td><td>notebook</td><td>3150</td><td>14</td><td>29</td></tr><tr><td>7</td><td>netbook</td><td>4500</td><td>2</td><td>27</td></tr><tr><td>1</td><td>mobile</td><td>1000</td><td>10</td><td>7</td></tr><tr><td>4</td><td>laptop</td><td>2250</td><td>2</td><td>27</td></tr><tr><td>6</td><td>pc</td><td>3000</td><td>8</td><td>25</td></tr></tbody></table></div>"
      ]
     },
     "metadata": {
      "application/vnd.databricks.v1+output": {
       "addedWidgets": {},
       "aggData": [],
       "aggError": "",
       "aggOverflow": false,
       "aggSchema": [],
       "aggSeriesLimitReached": false,
       "aggType": "",
       "arguments": {},
       "columnCustomDisplayInfos": {},
       "data": [
        [
         2,
         "smartphone",
         1400,
         5,
         8
        ],
        [
         3,
         "cellphone",
         1200,
         7,
         10
        ],
        [
         5,
         "notebook",
         3150,
         14,
         29
        ],
        [
         7,
         "netbook",
         4500,
         2,
         27
        ],
        [
         1,
         "mobile",
         1000,
         10,
         7
        ],
        [
         4,
         "laptop",
         2250,
         2,
         27
        ],
        [
         6,
         "pc",
         3000,
         8,
         25
        ]
       ],
       "datasetInfos": [],
       "dbfsResultPath": null,
       "isJsonSchema": true,
       "metadata": {},
       "overflow": false,
       "plotOptions": {
        "customPlotOptions": {},
        "displayType": "table",
        "pivotAggregation": null,
        "pivotColumns": null,
        "xColumns": null,
        "yColumns": null
       },
       "removedWidgets": [],
       "schema": [
        {
         "metadata": "{}",
         "name": "id",
         "type": "\"integer\""
        },
        {
         "metadata": "{}",
         "name": "device",
         "type": "\"string\""
        },
        {
         "metadata": "{}",
         "name": "price",
         "type": "\"integer\""
        },
        {
         "metadata": "{}",
         "name": "discount",
         "type": "\"integer\""
        },
        {
         "metadata": "{}",
         "name": "size",
         "type": "\"integer\""
        }
       ],
       "type": "table"
      }
     },
     "output_type": "display_data"
    }
   ],
   "source": [
    "%sql\n",
    "\n",
    "SELECT * FROM silver_product_dt;"
   ]
  },
  {
   "cell_type": "markdown",
   "metadata": {
    "application/vnd.databricks.v1+cell": {
     "cellMetadata": {
      "byteLimit": 2048000,
      "rowLimit": 10000
     },
     "inputWidgets": {},
     "nuid": "365c27f9-8fc4-414c-a213-19ae2183e4aa",
     "showTitle": false,
     "title": ""
    }
   },
   "source": [
    "## Gold table product"
   ]
  },
  {
   "cell_type": "code",
   "execution_count": 0,
   "metadata": {
    "application/vnd.databricks.v1+cell": {
     "cellMetadata": {
      "byteLimit": 2048000,
      "rowLimit": 10000
     },
     "inputWidgets": {},
     "nuid": "6f50347d-981b-49c8-a04b-0034efed625e",
     "showTitle": false,
     "title": ""
    }
   },
   "outputs": [],
   "source": [
    "from pyspark.sql.functions import col, when, round"
   ]
  },
  {
   "cell_type": "code",
   "execution_count": 0,
   "metadata": {
    "application/vnd.databricks.v1+cell": {
     "cellMetadata": {
      "byteLimit": 2048000,
      "rowLimit": 10000
     },
     "inputWidgets": {},
     "nuid": "80ec2239-8dd1-4409-a48b-ef7a0f537dbb",
     "showTitle": false,
     "title": ""
    }
   },
   "outputs": [],
   "source": [
    "df_product.select(\"*\",\n",
    "                (round(col(\"price\") - (col(\"price\") * col(\"discount\")/100),2)).alias(\"final_price\"),\n",
    "                (when(col(\"size\") >= 10, False).otherwise(True)).alias(\"free_shipping\")\n",
    "                ).drop(\"price\",\"discount\").write.format(\"delta\").mode(\"overwrite\").saveAsTable(\"gold_product_dt\")"
   ]
  },
  {
   "cell_type": "code",
   "execution_count": 0,
   "metadata": {
    "application/vnd.databricks.v1+cell": {
     "cellMetadata": {
      "byteLimit": 2048000,
      "implicitDf": true,
      "rowLimit": 10000
     },
     "inputWidgets": {},
     "nuid": "c41e288d-cbc2-4e79-9980-3c4cab006f50",
     "showTitle": false,
     "title": ""
    }
   },
   "outputs": [
    {
     "output_type": "display_data",
     "data": {
      "text/html": [
       "<style scoped>\n",
       "  .table-result-container {\n",
       "    max-height: 300px;\n",
       "    overflow: auto;\n",
       "  }\n",
       "  table, th, td {\n",
       "    border: 1px solid black;\n",
       "    border-collapse: collapse;\n",
       "  }\n",
       "  th, td {\n",
       "    padding: 5px;\n",
       "  }\n",
       "  th {\n",
       "    text-align: left;\n",
       "  }\n",
       "</style><div class='table-result-container'><table class='table-result'><thead style='background-color: white'><tr><th>id</th><th>device</th><th>size</th><th>final_price</th><th>free_shipping</th></tr></thead><tbody><tr><td>2</td><td>smartphone</td><td>8</td><td>1330.0</td><td>true</td></tr><tr><td>3</td><td>cellphone</td><td>10</td><td>1116.0</td><td>false</td></tr><tr><td>5</td><td>notebook</td><td>29</td><td>2709.0</td><td>false</td></tr><tr><td>7</td><td>netbook</td><td>27</td><td>4410.0</td><td>false</td></tr><tr><td>1</td><td>mobile</td><td>7</td><td>900.0</td><td>true</td></tr><tr><td>4</td><td>laptop</td><td>27</td><td>2205.0</td><td>false</td></tr><tr><td>6</td><td>pc</td><td>25</td><td>2760.0</td><td>false</td></tr></tbody></table></div>"
      ]
     },
     "metadata": {
      "application/vnd.databricks.v1+output": {
       "addedWidgets": {},
       "aggData": [],
       "aggError": "",
       "aggOverflow": false,
       "aggSchema": [],
       "aggSeriesLimitReached": false,
       "aggType": "",
       "arguments": {},
       "columnCustomDisplayInfos": {},
       "data": [
        [
         2,
         "smartphone",
         8,
         1330.0,
         true
        ],
        [
         3,
         "cellphone",
         10,
         1116.0,
         false
        ],
        [
         5,
         "notebook",
         29,
         2709.0,
         false
        ],
        [
         7,
         "netbook",
         27,
         4410.0,
         false
        ],
        [
         1,
         "mobile",
         7,
         900.0,
         true
        ],
        [
         4,
         "laptop",
         27,
         2205.0,
         false
        ],
        [
         6,
         "pc",
         25,
         2760.0,
         false
        ]
       ],
       "datasetInfos": [],
       "dbfsResultPath": null,
       "isJsonSchema": true,
       "metadata": {},
       "overflow": false,
       "plotOptions": {
        "customPlotOptions": {},
        "displayType": "table",
        "pivotAggregation": null,
        "pivotColumns": null,
        "xColumns": null,
        "yColumns": null
       },
       "removedWidgets": [],
       "schema": [
        {
         "metadata": "{}",
         "name": "id",
         "type": "\"integer\""
        },
        {
         "metadata": "{}",
         "name": "device",
         "type": "\"string\""
        },
        {
         "metadata": "{}",
         "name": "size",
         "type": "\"integer\""
        },
        {
         "metadata": "{}",
         "name": "final_price",
         "type": "\"double\""
        },
        {
         "metadata": "{}",
         "name": "free_shipping",
         "type": "\"boolean\""
        }
       ],
       "type": "table"
      }
     },
     "output_type": "display_data"
    }
   ],
   "source": [
    "%sql\n",
    "\n",
    "SELECT * FROM gold_product_dt;"
   ]
  },
  {
   "cell_type": "markdown",
   "metadata": {
    "application/vnd.databricks.v1+cell": {
     "cellMetadata": {
      "byteLimit": 2048000,
      "rowLimit": 10000
     },
     "inputWidgets": {},
     "nuid": "325e1905-5c51-491e-9136-b7162768b757",
     "showTitle": false,
     "title": ""
    }
   },
   "source": [
    "## Enable change data feed silver table"
   ]
  },
  {
   "cell_type": "code",
   "execution_count": 0,
   "metadata": {
    "application/vnd.databricks.v1+cell": {
     "cellMetadata": {
      "byteLimit": 2048000,
      "implicitDf": true,
      "rowLimit": 10000
     },
     "inputWidgets": {},
     "nuid": "c2c05228-27d5-4c42-bf37-694bb62ca993",
     "showTitle": false,
     "title": ""
    }
   },
   "outputs": [
    {
     "output_type": "display_data",
     "data": {
      "text/html": [
       "<style scoped>\n",
       "  .table-result-container {\n",
       "    max-height: 300px;\n",
       "    overflow: auto;\n",
       "  }\n",
       "  table, th, td {\n",
       "    border: 1px solid black;\n",
       "    border-collapse: collapse;\n",
       "  }\n",
       "  th, td {\n",
       "    padding: 5px;\n",
       "  }\n",
       "  th {\n",
       "    text-align: left;\n",
       "  }\n",
       "</style><div class='table-result-container'><table class='table-result'><thead style='background-color: white'><tr></tr></thead><tbody></tbody></table></div>"
      ]
     },
     "metadata": {
      "application/vnd.databricks.v1+output": {
       "addedWidgets": {},
       "aggData": [],
       "aggError": "",
       "aggOverflow": false,
       "aggSchema": [],
       "aggSeriesLimitReached": false,
       "aggType": "",
       "arguments": {},
       "columnCustomDisplayInfos": {},
       "data": [],
       "datasetInfos": [],
       "dbfsResultPath": null,
       "isJsonSchema": true,
       "metadata": {},
       "overflow": false,
       "plotOptions": {
        "customPlotOptions": {},
        "displayType": "table",
        "pivotAggregation": null,
        "pivotColumns": null,
        "xColumns": null,
        "yColumns": null
       },
       "removedWidgets": [],
       "schema": [],
       "type": "table"
      }
     },
     "output_type": "display_data"
    }
   ],
   "source": [
    "%sql\n",
    "\n",
    "ALTER TABLE silver_product_dt SET TBLPROPERTIES (delta.enableChangeDataFeed = true)"
   ]
  },
  {
   "cell_type": "markdown",
   "metadata": {
    "application/vnd.databricks.v1+cell": {
     "cellMetadata": {
      "byteLimit": 2048000,
      "rowLimit": 10000
     },
     "inputWidgets": {},
     "nuid": "743ce8b8-4b0d-4a8f-aeea-3bd811747887",
     "showTitle": false,
     "title": ""
    }
   },
   "source": [
    "## Insert, update, delete silvet table"
   ]
  },
  {
   "cell_type": "code",
   "execution_count": 0,
   "metadata": {
    "application/vnd.databricks.v1+cell": {
     "cellMetadata": {
      "byteLimit": 2048000,
      "rowLimit": 10000
     },
     "inputWidgets": {},
     "nuid": "c8949115-b542-41a4-a4a7-f798fa69bd7d",
     "showTitle": false,
     "title": ""
    }
   },
   "outputs": [],
   "source": [
    "data_product_v2 = [\n",
    "  (8,\"e-bike\",7000, 2, 50),\n",
    "  (9,\"mp5\",300, 10, 3)\n",
    "]"
   ]
  },
  {
   "cell_type": "code",
   "execution_count": 0,
   "metadata": {
    "application/vnd.databricks.v1+cell": {
     "cellMetadata": {
      "byteLimit": 2048000,
      "rowLimit": 10000
     },
     "inputWidgets": {},
     "nuid": "d63b01fa-2b40-4d5f-9c3f-3e45092cef6e",
     "showTitle": false,
     "title": ""
    }
   },
   "outputs": [],
   "source": [
    "spark.createDataFrame(data = data_product_v2, schema = schema_product).write.format(\"delta\").mode(\"append\").saveAsTable(\"silver_product_dt\")"
   ]
  },
  {
   "cell_type": "code",
   "execution_count": 0,
   "metadata": {
    "application/vnd.databricks.v1+cell": {
     "cellMetadata": {
      "byteLimit": 2048000,
      "implicitDf": true,
      "rowLimit": 10000
     },
     "inputWidgets": {},
     "nuid": "ff89191a-7141-4da2-9062-d85a8177f845",
     "showTitle": false,
     "title": ""
    }
   },
   "outputs": [
    {
     "output_type": "display_data",
     "data": {
      "text/html": [
       "<style scoped>\n",
       "  .table-result-container {\n",
       "    max-height: 300px;\n",
       "    overflow: auto;\n",
       "  }\n",
       "  table, th, td {\n",
       "    border: 1px solid black;\n",
       "    border-collapse: collapse;\n",
       "  }\n",
       "  th, td {\n",
       "    padding: 5px;\n",
       "  }\n",
       "  th {\n",
       "    text-align: left;\n",
       "  }\n",
       "</style><div class='table-result-container'><table class='table-result'><thead style='background-color: white'><tr><th>num_affected_rows</th></tr></thead><tbody><tr><td>1</td></tr></tbody></table></div>"
      ]
     },
     "metadata": {
      "application/vnd.databricks.v1+output": {
       "addedWidgets": {},
       "aggData": [],
       "aggError": "",
       "aggOverflow": false,
       "aggSchema": [],
       "aggSeriesLimitReached": false,
       "aggType": "",
       "arguments": {},
       "columnCustomDisplayInfos": {},
       "data": [
        [
         1
        ]
       ],
       "datasetInfos": [],
       "dbfsResultPath": null,
       "isJsonSchema": true,
       "metadata": {},
       "overflow": false,
       "plotOptions": {
        "customPlotOptions": {},
        "displayType": "table",
        "pivotAggregation": null,
        "pivotColumns": null,
        "xColumns": null,
        "yColumns": null
       },
       "removedWidgets": [],
       "schema": [
        {
         "metadata": "{}",
         "name": "num_affected_rows",
         "type": "\"long\""
        }
       ],
       "type": "table"
      }
     },
     "output_type": "display_data"
    }
   ],
   "source": [
    "%sql\n",
    "\n",
    "UPDATE silver_product_dt SET size = 9 WHERE id = 7;\n",
    "\n",
    "UPDATE silver_product_dt SET price = 1700 WHERE id = 1;"
   ]
  },
  {
   "cell_type": "code",
   "execution_count": 0,
   "metadata": {
    "application/vnd.databricks.v1+cell": {
     "cellMetadata": {
      "byteLimit": 2048000,
      "implicitDf": true,
      "rowLimit": 10000
     },
     "inputWidgets": {},
     "nuid": "55279f3a-74ad-49be-8384-a6a522b69258",
     "showTitle": false,
     "title": ""
    }
   },
   "outputs": [
    {
     "output_type": "display_data",
     "data": {
      "text/html": [
       "<style scoped>\n",
       "  .table-result-container {\n",
       "    max-height: 300px;\n",
       "    overflow: auto;\n",
       "  }\n",
       "  table, th, td {\n",
       "    border: 1px solid black;\n",
       "    border-collapse: collapse;\n",
       "  }\n",
       "  th, td {\n",
       "    padding: 5px;\n",
       "  }\n",
       "  th {\n",
       "    text-align: left;\n",
       "  }\n",
       "</style><div class='table-result-container'><table class='table-result'><thead style='background-color: white'><tr><th>num_affected_rows</th></tr></thead><tbody><tr><td>1</td></tr></tbody></table></div>"
      ]
     },
     "metadata": {
      "application/vnd.databricks.v1+output": {
       "addedWidgets": {},
       "aggData": [],
       "aggError": "",
       "aggOverflow": false,
       "aggSchema": [],
       "aggSeriesLimitReached": false,
       "aggType": "",
       "arguments": {},
       "columnCustomDisplayInfos": {},
       "data": [
        [
         1
        ]
       ],
       "datasetInfos": [],
       "dbfsResultPath": null,
       "isJsonSchema": true,
       "metadata": {},
       "overflow": false,
       "plotOptions": {
        "customPlotOptions": {},
        "displayType": "table",
        "pivotAggregation": null,
        "pivotColumns": null,
        "xColumns": null,
        "yColumns": null
       },
       "removedWidgets": [],
       "schema": [
        {
         "metadata": "{}",
         "name": "num_affected_rows",
         "type": "\"long\""
        }
       ],
       "type": "table"
      }
     },
     "output_type": "display_data"
    }
   ],
   "source": [
    "%sql\n",
    "\n",
    "DELETE FROM silver_product_dt WHERE id = 5;"
   ]
  },
  {
   "cell_type": "code",
   "execution_count": 0,
   "metadata": {
    "application/vnd.databricks.v1+cell": {
     "cellMetadata": {
      "byteLimit": 2048000,
      "implicitDf": true,
      "rowLimit": 10000
     },
     "inputWidgets": {},
     "nuid": "756137f6-a5c1-4cdd-848b-fd1d47c801ba",
     "showTitle": false,
     "title": ""
    }
   },
   "outputs": [
    {
     "output_type": "display_data",
     "data": {
      "text/html": [
       "<style scoped>\n",
       "  .table-result-container {\n",
       "    max-height: 300px;\n",
       "    overflow: auto;\n",
       "  }\n",
       "  table, th, td {\n",
       "    border: 1px solid black;\n",
       "    border-collapse: collapse;\n",
       "  }\n",
       "  th, td {\n",
       "    padding: 5px;\n",
       "  }\n",
       "  th {\n",
       "    text-align: left;\n",
       "  }\n",
       "</style><div class='table-result-container'><table class='table-result'><thead style='background-color: white'><tr><th>id</th><th>device</th><th>price</th><th>discount</th><th>size</th></tr></thead><tbody><tr><td>7</td><td>netbook</td><td>4500</td><td>2</td><td>9</td></tr><tr><td>1</td><td>mobile</td><td>1700</td><td>10</td><td>7</td></tr><tr><td>2</td><td>smartphone</td><td>1400</td><td>5</td><td>8</td></tr><tr><td>3</td><td>cellphone</td><td>1200</td><td>7</td><td>10</td></tr><tr><td>4</td><td>laptop</td><td>2250</td><td>2</td><td>27</td></tr><tr><td>8</td><td>e-bike</td><td>7000</td><td>2</td><td>50</td></tr><tr><td>9</td><td>mp5</td><td>300</td><td>10</td><td>3</td></tr><tr><td>6</td><td>pc</td><td>3000</td><td>8</td><td>25</td></tr></tbody></table></div>"
      ]
     },
     "metadata": {
      "application/vnd.databricks.v1+output": {
       "addedWidgets": {},
       "aggData": [],
       "aggError": "",
       "aggOverflow": false,
       "aggSchema": [],
       "aggSeriesLimitReached": false,
       "aggType": "",
       "arguments": {},
       "columnCustomDisplayInfos": {},
       "data": [
        [
         7,
         "netbook",
         4500,
         2,
         9
        ],
        [
         1,
         "mobile",
         1700,
         10,
         7
        ],
        [
         2,
         "smartphone",
         1400,
         5,
         8
        ],
        [
         3,
         "cellphone",
         1200,
         7,
         10
        ],
        [
         4,
         "laptop",
         2250,
         2,
         27
        ],
        [
         8,
         "e-bike",
         7000,
         2,
         50
        ],
        [
         9,
         "mp5",
         300,
         10,
         3
        ],
        [
         6,
         "pc",
         3000,
         8,
         25
        ]
       ],
       "datasetInfos": [],
       "dbfsResultPath": null,
       "isJsonSchema": true,
       "metadata": {},
       "overflow": false,
       "plotOptions": {
        "customPlotOptions": {},
        "displayType": "table",
        "pivotAggregation": null,
        "pivotColumns": null,
        "xColumns": null,
        "yColumns": null
       },
       "removedWidgets": [],
       "schema": [
        {
         "metadata": "{}",
         "name": "id",
         "type": "\"integer\""
        },
        {
         "metadata": "{}",
         "name": "device",
         "type": "\"string\""
        },
        {
         "metadata": "{}",
         "name": "price",
         "type": "\"integer\""
        },
        {
         "metadata": "{}",
         "name": "discount",
         "type": "\"integer\""
        },
        {
         "metadata": "{}",
         "name": "size",
         "type": "\"integer\""
        }
       ],
       "type": "table"
      }
     },
     "output_type": "display_data"
    }
   ],
   "source": [
    "%sql\n",
    "\n",
    "SELECT * FROM silver_product_dt"
   ]
  },
  {
   "cell_type": "markdown",
   "metadata": {
    "application/vnd.databricks.v1+cell": {
     "cellMetadata": {
      "byteLimit": 2048000,
      "rowLimit": 10000
     },
     "inputWidgets": {},
     "nuid": "62b042eb-43f0-47c3-9caa-51da94070ae1",
     "showTitle": false,
     "title": ""
    }
   },
   "source": [
    "## Explore change data silver table"
   ]
  },
  {
   "cell_type": "code",
   "execution_count": 0,
   "metadata": {
    "application/vnd.databricks.v1+cell": {
     "cellMetadata": {
      "byteLimit": 2048000,
      "implicitDf": true,
      "rowLimit": 10000
     },
     "inputWidgets": {},
     "nuid": "e3cf03d5-487d-4926-8c30-06be8314be51",
     "showTitle": false,
     "title": ""
    }
   },
   "outputs": [
    {
     "output_type": "display_data",
     "data": {
      "text/html": [
       "<style scoped>\n",
       "  .table-result-container {\n",
       "    max-height: 300px;\n",
       "    overflow: auto;\n",
       "  }\n",
       "  table, th, td {\n",
       "    border: 1px solid black;\n",
       "    border-collapse: collapse;\n",
       "  }\n",
       "  th, td {\n",
       "    padding: 5px;\n",
       "  }\n",
       "  th {\n",
       "    text-align: left;\n",
       "  }\n",
       "</style><div class='table-result-container'><table class='table-result'><thead style='background-color: white'><tr><th>version</th><th>timestamp</th><th>userId</th><th>userName</th><th>operation</th><th>operationParameters</th><th>job</th><th>notebook</th><th>clusterId</th><th>readVersion</th><th>isolationLevel</th><th>isBlindAppend</th><th>operationMetrics</th><th>userMetadata</th><th>engineInfo</th></tr></thead><tbody><tr><td>5</td><td>2024-09-01T17:32:20.000+0000</td><td>8904480319608266</td><td>andresmunozpampillonaws@gmail.com</td><td>DELETE</td><td>Map(predicate -> [\"(id#28774 = 5)\"])</td><td>null</td><td>List(1305275586066613)</td><td>0901-170612-2jv4zi0w</td><td>4</td><td>WriteSerializable</td><td>false</td><td>Map(numRemovedFiles -> 1, numRemovedBytes -> 1529, numCopiedRows -> 0, numDeletionVectorsAdded -> 0, numDeletionVectorsRemoved -> 0, numAddedChangeFiles -> 1, executionTimeMs -> 1465, numDeletedRows -> 1, scanTimeMs -> 824, numAddedFiles -> 0, numAddedBytes -> 0, rewriteTimeMs -> 641)</td><td>null</td><td>Databricks-Runtime/12.2.x-scala2.12</td></tr><tr><td>4</td><td>2024-09-01T17:32:16.000+0000</td><td>8904480319608266</td><td>andresmunozpampillonaws@gmail.com</td><td>UPDATE</td><td>Map(predicate -> [\"(id#28094 = 1)\"])</td><td>null</td><td>List(1305275586066613)</td><td>0901-170612-2jv4zi0w</td><td>3</td><td>WriteSerializable</td><td>false</td><td>Map(numRemovedFiles -> 1, numRemovedBytes -> 1516, numCopiedRows -> 0, numDeletionVectorsAdded -> 0, numDeletionVectorsRemoved -> 0, numAddedChangeFiles -> 1, executionTimeMs -> 2501, scanTimeMs -> 1327, numAddedFiles -> 1, numUpdatedRows -> 1, numAddedBytes -> 1733, rewriteTimeMs -> 1174)</td><td>null</td><td>Databricks-Runtime/12.2.x-scala2.12</td></tr><tr><td>3</td><td>2024-09-01T17:32:11.000+0000</td><td>8904480319608266</td><td>andresmunozpampillonaws@gmail.com</td><td>UPDATE</td><td>Map(predicate -> [\"(id#27417 = 7)\"])</td><td>null</td><td>List(1305275586066613)</td><td>0901-170612-2jv4zi0w</td><td>2</td><td>WriteSerializable</td><td>false</td><td>Map(numRemovedFiles -> 1, numRemovedBytes -> 1523, numCopiedRows -> 0, numDeletionVectorsAdded -> 0, numDeletionVectorsRemoved -> 0, numAddedChangeFiles -> 1, executionTimeMs -> 2384, scanTimeMs -> 1291, numAddedFiles -> 1, numUpdatedRows -> 1, numAddedBytes -> 1740, rewriteTimeMs -> 1093)</td><td>null</td><td>Databricks-Runtime/12.2.x-scala2.12</td></tr><tr><td>2</td><td>2024-09-01T17:32:06.000+0000</td><td>8904480319608266</td><td>andresmunozpampillonaws@gmail.com</td><td>WRITE</td><td>Map(mode -> Append, partitionBy -> [])</td><td>null</td><td>List(1305275586066613)</td><td>0901-170612-2jv4zi0w</td><td>1</td><td>WriteSerializable</td><td>true</td><td>Map(numFiles -> 2, numOutputRows -> 2, numOutputBytes -> 3010)</td><td>null</td><td>Databricks-Runtime/12.2.x-scala2.12</td></tr><tr><td>1</td><td>2024-09-01T17:32:01.000+0000</td><td>8904480319608266</td><td>andresmunozpampillonaws@gmail.com</td><td>SET TBLPROPERTIES</td><td>Map(properties -> {\"delta.enableChangeDataFeed\":\"true\"})</td><td>null</td><td>List(1305275586066613)</td><td>0901-170612-2jv4zi0w</td><td>0</td><td>WriteSerializable</td><td>true</td><td>Map()</td><td>null</td><td>Databricks-Runtime/12.2.x-scala2.12</td></tr><tr><td>0</td><td>2024-09-01T17:31:48.000+0000</td><td>8904480319608266</td><td>andresmunozpampillonaws@gmail.com</td><td>CREATE OR REPLACE TABLE AS SELECT</td><td>Map(isManaged -> true, description -> null, partitionBy -> [], properties -> {})</td><td>null</td><td>List(1305275586066613)</td><td>0901-170612-2jv4zi0w</td><td>null</td><td>WriteSerializable</td><td>false</td><td>Map(numFiles -> 7, numOutputRows -> 7, numOutputBytes -> 10652)</td><td>null</td><td>Databricks-Runtime/12.2.x-scala2.12</td></tr></tbody></table></div>"
      ]
     },
     "metadata": {
      "application/vnd.databricks.v1+output": {
       "addedWidgets": {},
       "aggData": [],
       "aggError": "",
       "aggOverflow": false,
       "aggSchema": [],
       "aggSeriesLimitReached": false,
       "aggType": "",
       "arguments": {},
       "columnCustomDisplayInfos": {},
       "data": [
        [
         5,
         "2024-09-01T17:32:20.000+0000",
         "8904480319608266",
         "andresmunozpampillonaws@gmail.com",
         "DELETE",
         {
          "predicate": "[\"(id#28774 = 5)\"]"
         },
         null,
         [
          "1305275586066613"
         ],
         "0901-170612-2jv4zi0w",
         4,
         "WriteSerializable",
         false,
         {
          "executionTimeMs": "1465",
          "numAddedBytes": "0",
          "numAddedChangeFiles": "1",
          "numAddedFiles": "0",
          "numCopiedRows": "0",
          "numDeletedRows": "1",
          "numDeletionVectorsAdded": "0",
          "numDeletionVectorsRemoved": "0",
          "numRemovedBytes": "1529",
          "numRemovedFiles": "1",
          "rewriteTimeMs": "641",
          "scanTimeMs": "824"
         },
         null,
         "Databricks-Runtime/12.2.x-scala2.12"
        ],
        [
         4,
         "2024-09-01T17:32:16.000+0000",
         "8904480319608266",
         "andresmunozpampillonaws@gmail.com",
         "UPDATE",
         {
          "predicate": "[\"(id#28094 = 1)\"]"
         },
         null,
         [
          "1305275586066613"
         ],
         "0901-170612-2jv4zi0w",
         3,
         "WriteSerializable",
         false,
         {
          "executionTimeMs": "2501",
          "numAddedBytes": "1733",
          "numAddedChangeFiles": "1",
          "numAddedFiles": "1",
          "numCopiedRows": "0",
          "numDeletionVectorsAdded": "0",
          "numDeletionVectorsRemoved": "0",
          "numRemovedBytes": "1516",
          "numRemovedFiles": "1",
          "numUpdatedRows": "1",
          "rewriteTimeMs": "1174",
          "scanTimeMs": "1327"
         },
         null,
         "Databricks-Runtime/12.2.x-scala2.12"
        ],
        [
         3,
         "2024-09-01T17:32:11.000+0000",
         "8904480319608266",
         "andresmunozpampillonaws@gmail.com",
         "UPDATE",
         {
          "predicate": "[\"(id#27417 = 7)\"]"
         },
         null,
         [
          "1305275586066613"
         ],
         "0901-170612-2jv4zi0w",
         2,
         "WriteSerializable",
         false,
         {
          "executionTimeMs": "2384",
          "numAddedBytes": "1740",
          "numAddedChangeFiles": "1",
          "numAddedFiles": "1",
          "numCopiedRows": "0",
          "numDeletionVectorsAdded": "0",
          "numDeletionVectorsRemoved": "0",
          "numRemovedBytes": "1523",
          "numRemovedFiles": "1",
          "numUpdatedRows": "1",
          "rewriteTimeMs": "1093",
          "scanTimeMs": "1291"
         },
         null,
         "Databricks-Runtime/12.2.x-scala2.12"
        ],
        [
         2,
         "2024-09-01T17:32:06.000+0000",
         "8904480319608266",
         "andresmunozpampillonaws@gmail.com",
         "WRITE",
         {
          "mode": "Append",
          "partitionBy": "[]"
         },
         null,
         [
          "1305275586066613"
         ],
         "0901-170612-2jv4zi0w",
         1,
         "WriteSerializable",
         true,
         {
          "numFiles": "2",
          "numOutputBytes": "3010",
          "numOutputRows": "2"
         },
         null,
         "Databricks-Runtime/12.2.x-scala2.12"
        ],
        [
         1,
         "2024-09-01T17:32:01.000+0000",
         "8904480319608266",
         "andresmunozpampillonaws@gmail.com",
         "SET TBLPROPERTIES",
         {
          "properties": "{\"delta.enableChangeDataFeed\":\"true\"}"
         },
         null,
         [
          "1305275586066613"
         ],
         "0901-170612-2jv4zi0w",
         0,
         "WriteSerializable",
         true,
         {},
         null,
         "Databricks-Runtime/12.2.x-scala2.12"
        ],
        [
         0,
         "2024-09-01T17:31:48.000+0000",
         "8904480319608266",
         "andresmunozpampillonaws@gmail.com",
         "CREATE OR REPLACE TABLE AS SELECT",
         {
          "description": null,
          "isManaged": "true",
          "partitionBy": "[]",
          "properties": "{}"
         },
         null,
         [
          "1305275586066613"
         ],
         "0901-170612-2jv4zi0w",
         null,
         "WriteSerializable",
         false,
         {
          "numFiles": "7",
          "numOutputBytes": "10652",
          "numOutputRows": "7"
         },
         null,
         "Databricks-Runtime/12.2.x-scala2.12"
        ]
       ],
       "datasetInfos": [],
       "dbfsResultPath": null,
       "isJsonSchema": true,
       "metadata": {},
       "overflow": false,
       "plotOptions": {
        "customPlotOptions": {},
        "displayType": "table",
        "pivotAggregation": null,
        "pivotColumns": null,
        "xColumns": null,
        "yColumns": null
       },
       "removedWidgets": [],
       "schema": [
        {
         "metadata": "{}",
         "name": "version",
         "type": "\"long\""
        },
        {
         "metadata": "{}",
         "name": "timestamp",
         "type": "\"timestamp\""
        },
        {
         "metadata": "{}",
         "name": "userId",
         "type": "\"string\""
        },
        {
         "metadata": "{}",
         "name": "userName",
         "type": "\"string\""
        },
        {
         "metadata": "{}",
         "name": "operation",
         "type": "\"string\""
        },
        {
         "metadata": "{}",
         "name": "operationParameters",
         "type": "{\"type\":\"map\",\"keyType\":\"string\",\"valueType\":\"string\",\"valueContainsNull\":true}"
        },
        {
         "metadata": "{}",
         "name": "job",
         "type": "{\"type\":\"struct\",\"fields\":[{\"name\":\"jobId\",\"type\":\"string\",\"nullable\":true,\"metadata\":{}},{\"name\":\"jobName\",\"type\":\"string\",\"nullable\":true,\"metadata\":{}},{\"name\":\"jobRunId\",\"type\":\"string\",\"nullable\":true,\"metadata\":{}},{\"name\":\"runId\",\"type\":\"string\",\"nullable\":true,\"metadata\":{}},{\"name\":\"jobOwnerId\",\"type\":\"string\",\"nullable\":true,\"metadata\":{}},{\"name\":\"triggerType\",\"type\":\"string\",\"nullable\":true,\"metadata\":{}}]}"
        },
        {
         "metadata": "{}",
         "name": "notebook",
         "type": "{\"type\":\"struct\",\"fields\":[{\"name\":\"notebookId\",\"type\":\"string\",\"nullable\":true,\"metadata\":{}}]}"
        },
        {
         "metadata": "{}",
         "name": "clusterId",
         "type": "\"string\""
        },
        {
         "metadata": "{}",
         "name": "readVersion",
         "type": "\"long\""
        },
        {
         "metadata": "{}",
         "name": "isolationLevel",
         "type": "\"string\""
        },
        {
         "metadata": "{}",
         "name": "isBlindAppend",
         "type": "\"boolean\""
        },
        {
         "metadata": "{}",
         "name": "operationMetrics",
         "type": "{\"type\":\"map\",\"keyType\":\"string\",\"valueType\":\"string\",\"valueContainsNull\":true}"
        },
        {
         "metadata": "{}",
         "name": "userMetadata",
         "type": "\"string\""
        },
        {
         "metadata": "{}",
         "name": "engineInfo",
         "type": "\"string\""
        }
       ],
       "type": "table"
      }
     },
     "output_type": "display_data"
    }
   ],
   "source": [
    "%sql\n",
    "\n",
    "DESCRIBE HISTORY silver_product_dt;"
   ]
  },
  {
   "cell_type": "code",
   "execution_count": 0,
   "metadata": {
    "application/vnd.databricks.v1+cell": {
     "cellMetadata": {
      "byteLimit": 2048000,
      "implicitDf": true,
      "rowLimit": 10000
     },
     "inputWidgets": {},
     "nuid": "9d6e6ac4-d9aa-49f0-a170-95b1f9ec4e50",
     "showTitle": false,
     "title": ""
    }
   },
   "outputs": [
    {
     "output_type": "display_data",
     "data": {
      "text/html": [
       "<style scoped>\n",
       "  .table-result-container {\n",
       "    max-height: 300px;\n",
       "    overflow: auto;\n",
       "  }\n",
       "  table, th, td {\n",
       "    border: 1px solid black;\n",
       "    border-collapse: collapse;\n",
       "  }\n",
       "  th, td {\n",
       "    padding: 5px;\n",
       "  }\n",
       "  th {\n",
       "    text-align: left;\n",
       "  }\n",
       "</style><div class='table-result-container'><table class='table-result'><thead style='background-color: white'><tr><th>id</th><th>device</th><th>price</th><th>discount</th><th>size</th><th>_change_type</th><th>_commit_version</th><th>_commit_timestamp</th></tr></thead><tbody><tr><td>8</td><td>e-bike</td><td>7000</td><td>2</td><td>50</td><td>insert</td><td>2</td><td>2024-09-01T17:32:06.000+0000</td></tr><tr><td>9</td><td>mp5</td><td>300</td><td>10</td><td>3</td><td>insert</td><td>2</td><td>2024-09-01T17:32:06.000+0000</td></tr><tr><td>7</td><td>netbook</td><td>4500</td><td>2</td><td>27</td><td>update_preimage</td><td>3</td><td>2024-09-01T17:32:11.000+0000</td></tr><tr><td>7</td><td>netbook</td><td>4500</td><td>2</td><td>9</td><td>update_postimage</td><td>3</td><td>2024-09-01T17:32:11.000+0000</td></tr><tr><td>1</td><td>mobile</td><td>1000</td><td>10</td><td>7</td><td>update_preimage</td><td>4</td><td>2024-09-01T17:32:16.000+0000</td></tr><tr><td>1</td><td>mobile</td><td>1700</td><td>10</td><td>7</td><td>update_postimage</td><td>4</td><td>2024-09-01T17:32:16.000+0000</td></tr><tr><td>5</td><td>notebook</td><td>3150</td><td>14</td><td>29</td><td>delete</td><td>5</td><td>2024-09-01T17:32:20.000+0000</td></tr></tbody></table></div>"
      ]
     },
     "metadata": {
      "application/vnd.databricks.v1+output": {
       "addedWidgets": {},
       "aggData": [],
       "aggError": "",
       "aggOverflow": false,
       "aggSchema": [],
       "aggSeriesLimitReached": false,
       "aggType": "",
       "arguments": {},
       "columnCustomDisplayInfos": {},
       "data": [
        [
         8,
         "e-bike",
         7000,
         2,
         50,
         "insert",
         2,
         "2024-09-01T17:32:06.000+0000"
        ],
        [
         9,
         "mp5",
         300,
         10,
         3,
         "insert",
         2,
         "2024-09-01T17:32:06.000+0000"
        ],
        [
         7,
         "netbook",
         4500,
         2,
         27,
         "update_preimage",
         3,
         "2024-09-01T17:32:11.000+0000"
        ],
        [
         7,
         "netbook",
         4500,
         2,
         9,
         "update_postimage",
         3,
         "2024-09-01T17:32:11.000+0000"
        ],
        [
         1,
         "mobile",
         1000,
         10,
         7,
         "update_preimage",
         4,
         "2024-09-01T17:32:16.000+0000"
        ],
        [
         1,
         "mobile",
         1700,
         10,
         7,
         "update_postimage",
         4,
         "2024-09-01T17:32:16.000+0000"
        ],
        [
         5,
         "notebook",
         3150,
         14,
         29,
         "delete",
         5,
         "2024-09-01T17:32:20.000+0000"
        ]
       ],
       "datasetInfos": [],
       "dbfsResultPath": null,
       "isJsonSchema": true,
       "metadata": {},
       "overflow": false,
       "plotOptions": {
        "customPlotOptions": {},
        "displayType": "table",
        "pivotAggregation": null,
        "pivotColumns": null,
        "xColumns": null,
        "yColumns": null
       },
       "removedWidgets": [],
       "schema": [
        {
         "metadata": "{}",
         "name": "id",
         "type": "\"integer\""
        },
        {
         "metadata": "{}",
         "name": "device",
         "type": "\"string\""
        },
        {
         "metadata": "{}",
         "name": "price",
         "type": "\"integer\""
        },
        {
         "metadata": "{}",
         "name": "discount",
         "type": "\"integer\""
        },
        {
         "metadata": "{}",
         "name": "size",
         "type": "\"integer\""
        },
        {
         "metadata": "{}",
         "name": "_change_type",
         "type": "\"string\""
        },
        {
         "metadata": "{}",
         "name": "_commit_version",
         "type": "\"long\""
        },
        {
         "metadata": "{}",
         "name": "_commit_timestamp",
         "type": "\"timestamp\""
        }
       ],
       "type": "table"
      }
     },
     "output_type": "display_data"
    }
   ],
   "source": [
    "%sql\n",
    "\n",
    "SELECT * FROM table_changes('silver_product_dt', 1) ORDER BY _commit_timestamp"
   ]
  },
  {
   "cell_type": "code",
   "execution_count": 0,
   "metadata": {
    "application/vnd.databricks.v1+cell": {
     "cellMetadata": {
      "byteLimit": 2048000,
      "rowLimit": 10000
     },
     "inputWidgets": {},
     "nuid": "4a527a2d-c2a5-4661-883c-e7f791443847",
     "showTitle": false,
     "title": ""
    }
   },
   "outputs": [
    {
     "output_type": "stream",
     "name": "stdout",
     "output_type": "stream",
     "text": [
      "+---+--------+-----+--------+----+----------------+---------------+-------------------+\n|id |device  |price|discount|size|_change_type    |_commit_version|_commit_timestamp  |\n+---+--------+-----+--------+----+----------------+---------------+-------------------+\n|7  |netbook |4500 |2       |27  |update_preimage |3              |2024-09-01 17:32:11|\n|7  |netbook |4500 |2       |9   |update_postimage|3              |2024-09-01 17:32:11|\n|1  |mobile  |1000 |10      |7   |update_preimage |4              |2024-09-01 17:32:16|\n|1  |mobile  |1700 |10      |7   |update_postimage|4              |2024-09-01 17:32:16|\n|5  |notebook|3150 |14      |29  |delete          |5              |2024-09-01 17:32:20|\n|8  |e-bike  |7000 |2       |50  |insert          |2              |2024-09-01 17:32:06|\n|9  |mp5     |300  |10      |3   |insert          |2              |2024-09-01 17:32:06|\n+---+--------+-----+--------+----+----------------+---------------+-------------------+\n\n"
     ]
    }
   ],
   "source": [
    "spark.read.format(\"delta\").option(\"readChangeData\", True).option(\"startingVersion\", 2).table(\"silver_product_dt\").show(truncate=False)"
   ]
  },
  {
   "cell_type": "markdown",
   "metadata": {
    "application/vnd.databricks.v1+cell": {
     "cellMetadata": {
      "byteLimit": 2048000,
      "rowLimit": 10000
     },
     "inputWidgets": {},
     "nuid": "9d5ccc0c-9ac1-43a7-af26-45d96860ff27",
     "showTitle": false,
     "title": ""
    }
   },
   "source": [
    "## Propagate changes from silver to gold table"
   ]
  },
  {
   "cell_type": "code",
   "execution_count": 0,
   "metadata": {
    "application/vnd.databricks.v1+cell": {
     "cellMetadata": {
      "byteLimit": 2048000,
      "implicitDf": true,
      "rowLimit": 10000
     },
     "inputWidgets": {},
     "nuid": "84b9b06b-721c-4d50-bec8-eb1c0041e8b4",
     "showTitle": false,
     "title": ""
    }
   },
   "outputs": [
    {
     "output_type": "display_data",
     "data": {
      "text/html": [
       "<style scoped>\n",
       "  .table-result-container {\n",
       "    max-height: 300px;\n",
       "    overflow: auto;\n",
       "  }\n",
       "  table, th, td {\n",
       "    border: 1px solid black;\n",
       "    border-collapse: collapse;\n",
       "  }\n",
       "  th, td {\n",
       "    padding: 5px;\n",
       "  }\n",
       "  th {\n",
       "    text-align: left;\n",
       "  }\n",
       "</style><div class='table-result-container'><table class='table-result'><thead style='background-color: white'><tr></tr></thead><tbody></tbody></table></div>"
      ]
     },
     "metadata": {
      "application/vnd.databricks.v1+output": {
       "addedWidgets": {},
       "aggData": [],
       "aggError": "",
       "aggOverflow": false,
       "aggSchema": [],
       "aggSeriesLimitReached": false,
       "aggType": "",
       "arguments": {},
       "columnCustomDisplayInfos": {},
       "data": [],
       "datasetInfos": [],
       "dbfsResultPath": null,
       "isJsonSchema": true,
       "metadata": {},
       "overflow": false,
       "plotOptions": {
        "customPlotOptions": {},
        "displayType": "table",
        "pivotAggregation": null,
        "pivotColumns": null,
        "xColumns": null,
        "yColumns": null
       },
       "removedWidgets": [],
       "schema": [],
       "type": "table"
      }
     },
     "output_type": "display_data"
    }
   ],
   "source": [
    "%sql\n",
    "\n",
    "CREATE OR REPLACE TEMPORARY VIEW silver_product_dt_last_version AS\n",
    "  SELECT *\n",
    "  FROM (\n",
    "      SELECT * , RANK() OVER (PARTITION BY id, device ORDER BY _commit_version DESC) AS rank\n",
    "      FROM table_changes('silver_product_dt', 1)\n",
    "      WHERE _change_type != \"update_preimage\"\n",
    "    )\n",
    "    WHERE rank = 1"
   ]
  },
  {
   "cell_type": "code",
   "execution_count": 0,
   "metadata": {
    "application/vnd.databricks.v1+cell": {
     "cellMetadata": {
      "byteLimit": 2048000,
      "implicitDf": true,
      "rowLimit": 10000
     },
     "inputWidgets": {},
     "nuid": "e8fb5606-a262-4ccc-b82a-e2cdaa6d6854",
     "showTitle": false,
     "title": ""
    }
   },
   "outputs": [
    {
     "output_type": "display_data",
     "data": {
      "text/html": [
       "<style scoped>\n",
       "  .table-result-container {\n",
       "    max-height: 300px;\n",
       "    overflow: auto;\n",
       "  }\n",
       "  table, th, td {\n",
       "    border: 1px solid black;\n",
       "    border-collapse: collapse;\n",
       "  }\n",
       "  th, td {\n",
       "    padding: 5px;\n",
       "  }\n",
       "  th {\n",
       "    text-align: left;\n",
       "  }\n",
       "</style><div class='table-result-container'><table class='table-result'><thead style='background-color: white'><tr><th>id</th><th>device</th><th>price</th><th>discount</th><th>size</th><th>_change_type</th><th>_commit_version</th><th>_commit_timestamp</th><th>rank</th></tr></thead><tbody><tr><td>1</td><td>mobile</td><td>1700</td><td>10</td><td>7</td><td>update_postimage</td><td>4</td><td>2024-09-01T17:32:16.000+0000</td><td>1</td></tr><tr><td>5</td><td>notebook</td><td>3150</td><td>14</td><td>29</td><td>delete</td><td>5</td><td>2024-09-01T17:32:20.000+0000</td><td>1</td></tr><tr><td>7</td><td>netbook</td><td>4500</td><td>2</td><td>9</td><td>update_postimage</td><td>3</td><td>2024-09-01T17:32:11.000+0000</td><td>1</td></tr><tr><td>8</td><td>e-bike</td><td>7000</td><td>2</td><td>50</td><td>insert</td><td>2</td><td>2024-09-01T17:32:06.000+0000</td><td>1</td></tr><tr><td>9</td><td>mp5</td><td>300</td><td>10</td><td>3</td><td>insert</td><td>2</td><td>2024-09-01T17:32:06.000+0000</td><td>1</td></tr></tbody></table></div>"
      ]
     },
     "metadata": {
      "application/vnd.databricks.v1+output": {
       "addedWidgets": {},
       "aggData": [],
       "aggError": "",
       "aggOverflow": false,
       "aggSchema": [],
       "aggSeriesLimitReached": false,
       "aggType": "",
       "arguments": {},
       "columnCustomDisplayInfos": {},
       "data": [
        [
         1,
         "mobile",
         1700,
         10,
         7,
         "update_postimage",
         4,
         "2024-09-01T17:32:16.000+0000",
         1
        ],
        [
         5,
         "notebook",
         3150,
         14,
         29,
         "delete",
         5,
         "2024-09-01T17:32:20.000+0000",
         1
        ],
        [
         7,
         "netbook",
         4500,
         2,
         9,
         "update_postimage",
         3,
         "2024-09-01T17:32:11.000+0000",
         1
        ],
        [
         8,
         "e-bike",
         7000,
         2,
         50,
         "insert",
         2,
         "2024-09-01T17:32:06.000+0000",
         1
        ],
        [
         9,
         "mp5",
         300,
         10,
         3,
         "insert",
         2,
         "2024-09-01T17:32:06.000+0000",
         1
        ]
       ],
       "datasetInfos": [],
       "dbfsResultPath": null,
       "isJsonSchema": true,
       "metadata": {},
       "overflow": false,
       "plotOptions": {
        "customPlotOptions": {},
        "displayType": "table",
        "pivotAggregation": null,
        "pivotColumns": null,
        "xColumns": null,
        "yColumns": null
       },
       "removedWidgets": [],
       "schema": [
        {
         "metadata": "{}",
         "name": "id",
         "type": "\"integer\""
        },
        {
         "metadata": "{}",
         "name": "device",
         "type": "\"string\""
        },
        {
         "metadata": "{}",
         "name": "price",
         "type": "\"integer\""
        },
        {
         "metadata": "{}",
         "name": "discount",
         "type": "\"integer\""
        },
        {
         "metadata": "{}",
         "name": "size",
         "type": "\"integer\""
        },
        {
         "metadata": "{}",
         "name": "_change_type",
         "type": "\"string\""
        },
        {
         "metadata": "{}",
         "name": "_commit_version",
         "type": "\"long\""
        },
        {
         "metadata": "{}",
         "name": "_commit_timestamp",
         "type": "\"timestamp\""
        },
        {
         "metadata": "{}",
         "name": "rank",
         "type": "\"integer\""
        }
       ],
       "type": "table"
      }
     },
     "output_type": "display_data"
    }
   ],
   "source": [
    "%sql\n",
    "\n",
    "SELECT * FROM silver_product_dt_last_version;"
   ]
  },
  {
   "cell_type": "code",
   "execution_count": 0,
   "metadata": {
    "application/vnd.databricks.v1+cell": {
     "cellMetadata": {
      "byteLimit": 2048000,
      "implicitDf": true,
      "rowLimit": 10000
     },
     "inputWidgets": {},
     "nuid": "b178a5c3-9322-4bcd-84f3-bf2076b2986e",
     "showTitle": false,
     "title": ""
    }
   },
   "outputs": [
    {
     "output_type": "display_data",
     "data": {
      "text/html": [
       "<style scoped>\n",
       "  .table-result-container {\n",
       "    max-height: 300px;\n",
       "    overflow: auto;\n",
       "  }\n",
       "  table, th, td {\n",
       "    border: 1px solid black;\n",
       "    border-collapse: collapse;\n",
       "  }\n",
       "  th, td {\n",
       "    padding: 5px;\n",
       "  }\n",
       "  th {\n",
       "    text-align: left;\n",
       "  }\n",
       "</style><div class='table-result-container'><table class='table-result'><thead style='background-color: white'><tr><th>num_affected_rows</th><th>num_updated_rows</th><th>num_deleted_rows</th><th>num_inserted_rows</th></tr></thead><tbody><tr><td>5</td><td>2</td><td>1</td><td>2</td></tr></tbody></table></div>"
      ]
     },
     "metadata": {
      "application/vnd.databricks.v1+output": {
       "addedWidgets": {},
       "aggData": [],
       "aggError": "",
       "aggOverflow": false,
       "aggSchema": [],
       "aggSeriesLimitReached": false,
       "aggType": "",
       "arguments": {},
       "columnCustomDisplayInfos": {},
       "data": [
        [
         5,
         2,
         1,
         2
        ]
       ],
       "datasetInfos": [],
       "dbfsResultPath": null,
       "isJsonSchema": true,
       "metadata": {},
       "overflow": false,
       "plotOptions": {
        "customPlotOptions": {},
        "displayType": "table",
        "pivotAggregation": null,
        "pivotColumns": null,
        "xColumns": null,
        "yColumns": null
       },
       "removedWidgets": [],
       "schema": [
        {
         "metadata": "{}",
         "name": "num_affected_rows",
         "type": "\"long\""
        },
        {
         "metadata": "{}",
         "name": "num_updated_rows",
         "type": "\"long\""
        },
        {
         "metadata": "{}",
         "name": "num_deleted_rows",
         "type": "\"long\""
        },
        {
         "metadata": "{}",
         "name": "num_inserted_rows",
         "type": "\"long\""
        }
       ],
       "type": "table"
      }
     },
     "output_type": "display_data"
    }
   ],
   "source": [
    "%sql\n",
    "\n",
    "MERGE INTO gold_product_dt AS g USING silver_product_dt_last_version AS s\n",
    "  ON g.id = s.id AND g.device = s.device\n",
    "  WHEN MATCHED AND s._change_type = 'update_postimage' THEN\n",
    "    UPDATE SET\n",
    "      size = s.size,\n",
    "      final_price = ROUND(s.price - (s.price * s.discount / 100), 2),\n",
    "      free_shipping = CASE WHEN s.size >= 10 THEN False ELSE True END\n",
    "  WHEN MATCHED AND s._change_type = 'delete' THEN\n",
    "    DELETE\n",
    "  WHEN NOT MATCHED THEN\n",
    "    INSERT (id, device, size, final_price, free_shipping) VALUES (s.id, s.device, s.size, ROUND(s.price - (s.price * s.discount / 100), 2),CASE WHEN s.size >= 10 THEN False ELSE True END)"
   ]
  },
  {
   "cell_type": "code",
   "execution_count": 0,
   "metadata": {
    "application/vnd.databricks.v1+cell": {
     "cellMetadata": {
      "byteLimit": 2048000,
      "implicitDf": true,
      "rowLimit": 10000
     },
     "inputWidgets": {},
     "nuid": "0861654e-1d88-46c9-9d51-d50d50e5486f",
     "showTitle": false,
     "title": ""
    }
   },
   "outputs": [
    {
     "output_type": "display_data",
     "data": {
      "text/html": [
       "<style scoped>\n",
       "  .table-result-container {\n",
       "    max-height: 300px;\n",
       "    overflow: auto;\n",
       "  }\n",
       "  table, th, td {\n",
       "    border: 1px solid black;\n",
       "    border-collapse: collapse;\n",
       "  }\n",
       "  th, td {\n",
       "    padding: 5px;\n",
       "  }\n",
       "  th {\n",
       "    text-align: left;\n",
       "  }\n",
       "</style><div class='table-result-container'><table class='table-result'><thead style='background-color: white'><tr><th>id</th><th>device</th><th>size</th><th>final_price</th><th>free_shipping</th></tr></thead><tbody><tr><td>1</td><td>mobile</td><td>7</td><td>1530.0</td><td>true</td></tr><tr><td>7</td><td>netbook</td><td>9</td><td>4410.0</td><td>true</td></tr><tr><td>8</td><td>e-bike</td><td>50</td><td>6860.0</td><td>false</td></tr><tr><td>9</td><td>mp5</td><td>3</td><td>270.0</td><td>true</td></tr><tr><td>2</td><td>smartphone</td><td>8</td><td>1330.0</td><td>true</td></tr><tr><td>3</td><td>cellphone</td><td>10</td><td>1116.0</td><td>false</td></tr><tr><td>4</td><td>laptop</td><td>27</td><td>2205.0</td><td>false</td></tr><tr><td>6</td><td>pc</td><td>25</td><td>2760.0</td><td>false</td></tr></tbody></table></div>"
      ]
     },
     "metadata": {
      "application/vnd.databricks.v1+output": {
       "addedWidgets": {},
       "aggData": [],
       "aggError": "",
       "aggOverflow": false,
       "aggSchema": [],
       "aggSeriesLimitReached": false,
       "aggType": "",
       "arguments": {},
       "columnCustomDisplayInfos": {},
       "data": [
        [
         1,
         "mobile",
         7,
         1530.0,
         true
        ],
        [
         7,
         "netbook",
         9,
         4410.0,
         true
        ],
        [
         8,
         "e-bike",
         50,
         6860.0,
         false
        ],
        [
         9,
         "mp5",
         3,
         270.0,
         true
        ],
        [
         2,
         "smartphone",
         8,
         1330.0,
         true
        ],
        [
         3,
         "cellphone",
         10,
         1116.0,
         false
        ],
        [
         4,
         "laptop",
         27,
         2205.0,
         false
        ],
        [
         6,
         "pc",
         25,
         2760.0,
         false
        ]
       ],
       "datasetInfos": [],
       "dbfsResultPath": null,
       "isJsonSchema": true,
       "metadata": {},
       "overflow": false,
       "plotOptions": {
        "customPlotOptions": {},
        "displayType": "table",
        "pivotAggregation": null,
        "pivotColumns": null,
        "xColumns": null,
        "yColumns": null
       },
       "removedWidgets": [],
       "schema": [
        {
         "metadata": "{}",
         "name": "id",
         "type": "\"integer\""
        },
        {
         "metadata": "{}",
         "name": "device",
         "type": "\"string\""
        },
        {
         "metadata": "{}",
         "name": "size",
         "type": "\"integer\""
        },
        {
         "metadata": "{}",
         "name": "final_price",
         "type": "\"double\""
        },
        {
         "metadata": "{}",
         "name": "free_shipping",
         "type": "\"boolean\""
        }
       ],
       "type": "table"
      }
     },
     "output_type": "display_data"
    }
   ],
   "source": [
    "%sql\n",
    "\n",
    "SELECT * FROM gold_product_dt;"
   ]
  }
 ],
 "metadata": {
  "application/vnd.databricks.v1+notebook": {
   "dashboards": [],
   "environmentMetadata": null,
   "language": "python",
   "notebookMetadata": {
    "mostRecentlyExecutedCommandWithImplicitDF": {
     "commandId": 2928642920457973,
     "dataframes": [
      "_sqldf"
     ]
    },
    "pythonIndentUnit": 4
   },
   "notebookName": "DeltaLakeChangeDataFeed",
   "widgets": {}
  }
 },
 "nbformat": 4,
 "nbformat_minor": 0
}
