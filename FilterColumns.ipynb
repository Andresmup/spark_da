{
 "cells": [
  {
   "cell_type": "markdown",
   "metadata": {
    "application/vnd.databricks.v1+cell": {
     "cellMetadata": {},
     "inputWidgets": {},
     "nuid": "678df60e-d55f-4c03-a420-dde563511276",
     "showTitle": false,
     "title": ""
    }
   },
   "source": [
    "#FILTER COLUMNS"
   ]
  },
  {
   "cell_type": "code",
   "execution_count": 0,
   "metadata": {
    "application/vnd.databricks.v1+cell": {
     "cellMetadata": {
      "byteLimit": 2048000,
      "rowLimit": 10000
     },
     "inputWidgets": {},
     "nuid": "a9e31bc2-03a8-4fee-92a1-30fb18232f3a",
     "showTitle": false,
     "title": ""
    }
   },
   "outputs": [],
   "source": [
    "schema_characters = \"id INTEGER, name STRING, guild STRING, class STRING, level INTEGER, experience INTEGER, health DOUBLE, is_alive BOOLEAN, last_active TIMESTAMP, mentor_id INTEGER\""
   ]
  },
  {
   "cell_type": "code",
   "execution_count": 0,
   "metadata": {
    "application/vnd.databricks.v1+cell": {
     "cellMetadata": {
      "byteLimit": 2048000,
      "rowLimit": 10000
     },
     "inputWidgets": {},
     "nuid": "b083e64d-e7e4-47f4-a539-bd54a26e0d94",
     "showTitle": false,
     "title": ""
    }
   },
   "outputs": [],
   "source": [
    "df_characters = spark.read.format(\"csv\").option(\"header\",True).option(\"sep\",\",\").schema(schema_characters).load('dbfs:/FileStore/tables/fantasy/characters.csv')"
   ]
  },
  {
   "cell_type": "code",
   "execution_count": 0,
   "metadata": {
    "application/vnd.databricks.v1+cell": {
     "cellMetadata": {
      "byteLimit": 2048000,
      "rowLimit": 10000
     },
     "inputWidgets": {},
     "nuid": "4dec9bb2-c7cc-47cc-81da-992d3b7af943",
     "showTitle": false,
     "title": ""
    }
   },
   "outputs": [
    {
     "output_type": "stream",
     "name": "stdout",
     "output_type": "stream",
     "text": [
      "+---+---------+----------+-------+-----+----------+------+--------+-------------------+---------+\n| id|     name|     guild|  class|level|experience|health|is_alive|        last_active|mentor_id|\n+---+---------+----------+-------+-----+----------+------+--------+-------------------+---------+\n|  1|  Aragorn|   Rangers|Warrior|   25|      9000| 120.5|    true|2023-09-20 08:00:00|     null|\n|  2|  Legolas|  Mirkwood| Archer|   22|      7500|100.75|    true|2023-09-21 09:00:00|     null|\n|  3|    Gimli|    Erebor|Warrior|   20|      6000|130.25|    true|2023-09-22 07:00:00|     null|\n|  4|    Frodo| Shirefolk| Hobbit|   12|      2500|  50.5|   false|2023-09-23 10:00:00|        1|\n|  5|      Sam| Shirefolk| Hobbit|   13|      2750|  52.5|    true|2023-09-23 10:05:00|        1|\n|  6|  Gandalf|    Istari|   Mage|   30|     10000|  90.0|    true|2023-09-20 11:00:00|     null|\n|  7|  Boromir|    Gondor|Warrior|   18|      5500| 115.5|   false|2023-09-21 12:00:00|     null|\n|  8|    Merry| Shirefolk| Hobbit|   11|      2200|  48.5|    true|2023-09-22 10:00:00|        4|\n|  9|   Pippin| Shirefolk| Hobbit|   11|      2100|  47.5|    true|2023-09-22 10:01:00|        4|\n| 10|   Sauron|Dark Lords|   Mage|   40|     15000|  85.0|   false|2023-09-23 01:00:00|     null|\n| 11|  Saruman|    Istari|   Mage|   28|      8500|  88.5|   false|2023-09-20 03:00:00|        6|\n| 12|   Elrond| Rivendell|   Mage|   27|      8200|  87.5|    true|2023-09-21 04:00:00|        6|\n| 13|Thranduil|  Mirkwood| Archer|   26|      7900|  97.0|    true|2023-09-22 02:00:00|        2|\n| 14|    Eowyn|     Rohan|Warrior|   17|      5200| 112.5|    true|2023-09-23 05:00:00|        7|\n| 15|  Faramir|    Gondor| Archer|   19|      5700| 118.5|    true|2023-09-20 06:00:00|        7|\n+---+---------+----------+-------+-----+----------+------+--------+-------------------+---------+\n\n"
     ]
    }
   ],
   "source": [
    "df_characters.show()"
   ]
  },
  {
   "cell_type": "code",
   "execution_count": 0,
   "metadata": {
    "application/vnd.databricks.v1+cell": {
     "cellMetadata": {
      "byteLimit": 2048000,
      "rowLimit": 10000
     },
     "inputWidgets": {},
     "nuid": "6369bf58-091d-4a0f-a83a-175af38c7d38",
     "showTitle": false,
     "title": ""
    }
   },
   "outputs": [
    {
     "output_type": "stream",
     "name": "stdout",
     "output_type": "stream",
     "text": [
      "root\n |-- id: integer (nullable = true)\n |-- name: string (nullable = true)\n |-- guild: string (nullable = true)\n |-- class: string (nullable = true)\n |-- level: integer (nullable = true)\n |-- experience: integer (nullable = true)\n |-- health: double (nullable = true)\n |-- is_alive: boolean (nullable = true)\n |-- last_active: timestamp (nullable = true)\n |-- mentor_id: integer (nullable = true)\n\n"
     ]
    }
   ],
   "source": [
    "df_characters.printSchema()"
   ]
  },
  {
   "cell_type": "markdown",
   "metadata": {
    "application/vnd.databricks.v1+cell": {
     "cellMetadata": {},
     "inputWidgets": {},
     "nuid": "f612abbc-bd07-4b07-92b6-dcf677392832",
     "showTitle": false,
     "title": ""
    }
   },
   "source": [
    "## Logic filter"
   ]
  },
  {
   "cell_type": "code",
   "execution_count": 0,
   "metadata": {
    "application/vnd.databricks.v1+cell": {
     "cellMetadata": {
      "byteLimit": 2048000,
      "rowLimit": 10000
     },
     "inputWidgets": {},
     "nuid": "46f40ca8-ed37-44c6-9b62-d1a1192669d5",
     "showTitle": false,
     "title": ""
    }
   },
   "outputs": [
    {
     "output_type": "stream",
     "name": "stdout",
     "output_type": "stream",
     "text": [
      "+---+-------+-------+-------+-----+----------+------+--------+-------------------+---------+\n| id|   name|  guild|  class|level|experience|health|is_alive|        last_active|mentor_id|\n+---+-------+-------+-------+-----+----------+------+--------+-------------------+---------+\n|  1|Aragorn|Rangers|Warrior|   25|      9000| 120.5|    true|2023-09-20 08:00:00|     null|\n+---+-------+-------+-------+-----+----------+------+--------+-------------------+---------+\n\n"
     ]
    }
   ],
   "source": [
    "df_characters.filter(df_characters.id == 1).show()"
   ]
  },
  {
   "cell_type": "code",
   "execution_count": 0,
   "metadata": {
    "application/vnd.databricks.v1+cell": {
     "cellMetadata": {
      "byteLimit": 2048000,
      "rowLimit": 10000
     },
     "inputWidgets": {},
     "nuid": "783a6a4c-8830-4843-aa9d-316301bba8cf",
     "showTitle": false,
     "title": ""
    }
   },
   "outputs": [
    {
     "output_type": "stream",
     "name": "stdout",
     "output_type": "stream",
     "text": [
      "+---+-------+----------+-------+-----+----------+------+--------+-------------------+---------+\n| id|   name|     guild|  class|level|experience|health|is_alive|        last_active|mentor_id|\n+---+-------+----------+-------+-----+----------+------+--------+-------------------+---------+\n|  7|Boromir|    Gondor|Warrior|   18|      5500| 115.5|   false|2023-09-21 12:00:00|     null|\n| 10| Sauron|Dark Lords|   Mage|   40|     15000|  85.0|   false|2023-09-23 01:00:00|     null|\n| 11|Saruman|    Istari|   Mage|   28|      8500|  88.5|   false|2023-09-20 03:00:00|        6|\n+---+-------+----------+-------+-----+----------+------+--------+-------------------+---------+\n\n"
     ]
    }
   ],
   "source": [
    "df_characters.filter((df_characters.id >= 7) & (df_characters.is_alive == False)).show()"
   ]
  },
  {
   "cell_type": "markdown",
   "metadata": {
    "application/vnd.databricks.v1+cell": {
     "cellMetadata": {},
     "inputWidgets": {},
     "nuid": "c75bc786-90e9-45a7-9f2e-b0b943f785ae",
     "showTitle": false,
     "title": ""
    }
   },
   "source": [
    "## Null filter"
   ]
  },
  {
   "cell_type": "code",
   "execution_count": 0,
   "metadata": {
    "application/vnd.databricks.v1+cell": {
     "cellMetadata": {
      "byteLimit": 2048000,
      "rowLimit": 10000
     },
     "inputWidgets": {},
     "nuid": "75983059-3c25-4e8b-bc22-6cbd3e453558",
     "showTitle": false,
     "title": ""
    }
   },
   "outputs": [
    {
     "output_type": "stream",
     "name": "stdout",
     "output_type": "stream",
     "text": [
      "+---+-------+----------+-------+-----+----------+------+--------+-------------------+---------+\n| id|   name|     guild|  class|level|experience|health|is_alive|        last_active|mentor_id|\n+---+-------+----------+-------+-----+----------+------+--------+-------------------+---------+\n|  1|Aragorn|   Rangers|Warrior|   25|      9000| 120.5|    true|2023-09-20 08:00:00|     null|\n|  2|Legolas|  Mirkwood| Archer|   22|      7500|100.75|    true|2023-09-21 09:00:00|     null|\n|  3|  Gimli|    Erebor|Warrior|   20|      6000|130.25|    true|2023-09-22 07:00:00|     null|\n|  6|Gandalf|    Istari|   Mage|   30|     10000|  90.0|    true|2023-09-20 11:00:00|     null|\n|  7|Boromir|    Gondor|Warrior|   18|      5500| 115.5|   false|2023-09-21 12:00:00|     null|\n| 10| Sauron|Dark Lords|   Mage|   40|     15000|  85.0|   false|2023-09-23 01:00:00|     null|\n+---+-------+----------+-------+-----+----------+------+--------+-------------------+---------+\n\n"
     ]
    }
   ],
   "source": [
    "df_characters_null_mentor = df_characters.filter(df_characters.mentor_id.isNull())\n",
    "df_characters_null_mentor.show()"
   ]
  },
  {
   "cell_type": "markdown",
   "metadata": {
    "application/vnd.databricks.v1+cell": {
     "cellMetadata": {},
     "inputWidgets": {},
     "nuid": "c9956b61-0516-4743-80e7-3a7c7548756d",
     "showTitle": false,
     "title": ""
    }
   },
   "source": [
    "## Is in"
   ]
  },
  {
   "cell_type": "code",
   "execution_count": 0,
   "metadata": {
    "application/vnd.databricks.v1+cell": {
     "cellMetadata": {
      "byteLimit": 2048000,
      "rowLimit": 10000
     },
     "inputWidgets": {},
     "nuid": "27029917-e3c7-40a4-9d25-26ead7f85791",
     "showTitle": false,
     "title": ""
    }
   },
   "outputs": [
    {
     "output_type": "stream",
     "name": "stdout",
     "output_type": "stream",
     "text": [
      "+---+-------+----------+-------+-----+----------+------+--------+-------------------+---------+\n| id|   name|     guild|  class|level|experience|health|is_alive|        last_active|mentor_id|\n+---+-------+----------+-------+-----+----------+------+--------+-------------------+---------+\n|  6|Gandalf|    Istari|   Mage|   30|     10000|  90.0|    true|2023-09-20 11:00:00|     null|\n|  7|Boromir|    Gondor|Warrior|   18|      5500| 115.5|   false|2023-09-21 12:00:00|     null|\n| 10| Sauron|Dark Lords|   Mage|   40|     15000|  85.0|   false|2023-09-23 01:00:00|     null|\n+---+-------+----------+-------+-----+----------+------+--------+-------------------+---------+\n\n"
     ]
    }
   ],
   "source": [
    "df_characters.filter(df_characters.level.isin(18,40,30)).show()"
   ]
  },
  {
   "cell_type": "markdown",
   "metadata": {
    "application/vnd.databricks.v1+cell": {
     "cellMetadata": {},
     "inputWidgets": {},
     "nuid": "8de87420-3cdd-449d-aa54-90d362feaf32",
     "showTitle": false,
     "title": ""
    }
   },
   "source": [
    "##String filtering"
   ]
  },
  {
   "cell_type": "code",
   "execution_count": 0,
   "metadata": {
    "application/vnd.databricks.v1+cell": {
     "cellMetadata": {
      "byteLimit": 2048000,
      "rowLimit": 10000
     },
     "inputWidgets": {},
     "nuid": "e3a15f6c-0555-4197-b629-92cfdd4059fd",
     "showTitle": false,
     "title": ""
    }
   },
   "outputs": [
    {
     "output_type": "stream",
     "name": "stdout",
     "output_type": "stream",
     "text": [
      "+---+-------+------+-------+-----+----------+------+--------+-------------------+---------+\n| id|   name| guild|  class|level|experience|health|is_alive|        last_active|mentor_id|\n+---+-------+------+-------+-----+----------+------+--------+-------------------+---------+\n|  7|Boromir|Gondor|Warrior|   18|      5500| 115.5|   false|2023-09-21 12:00:00|     null|\n| 15|Faramir|Gondor| Archer|   19|      5700| 118.5|    true|2023-09-20 06:00:00|        7|\n+---+-------+------+-------+-----+----------+------+--------+-------------------+---------+\n\n"
     ]
    }
   ],
   "source": [
    "#CASE SENSITIVE\n",
    "df_characters.filter(df_characters.guild.like(\"%Gondor%\")).show()"
   ]
  },
  {
   "cell_type": "code",
   "execution_count": 0,
   "metadata": {
    "application/vnd.databricks.v1+cell": {
     "cellMetadata": {
      "byteLimit": 2048000,
      "rowLimit": 10000
     },
     "inputWidgets": {},
     "nuid": "8e00e286-5dbd-42f1-91f8-5bcfc0f06eee",
     "showTitle": false,
     "title": ""
    }
   },
   "outputs": [
    {
     "output_type": "stream",
     "name": "stdout",
     "output_type": "stream",
     "text": [
      "+---+-------+------+-------+-----+----------+------+--------+-------------------+---------+\n| id|   name| guild|  class|level|experience|health|is_alive|        last_active|mentor_id|\n+---+-------+------+-------+-----+----------+------+--------+-------------------+---------+\n|  7|Boromir|Gondor|Warrior|   18|      5500| 115.5|   false|2023-09-21 12:00:00|     null|\n| 15|Faramir|Gondor| Archer|   19|      5700| 118.5|    true|2023-09-20 06:00:00|        7|\n+---+-------+------+-------+-----+----------+------+--------+-------------------+---------+\n\n"
     ]
    }
   ],
   "source": [
    "#CASE SENSITIVE\n",
    "df_characters.filter(df_characters.guild.contains(\"Go\")).show()"
   ]
  },
  {
   "cell_type": "code",
   "execution_count": 0,
   "metadata": {
    "application/vnd.databricks.v1+cell": {
     "cellMetadata": {
      "byteLimit": 2048000,
      "rowLimit": 10000
     },
     "inputWidgets": {},
     "nuid": "f229fe1d-d3d0-4459-a533-8f26f9089063",
     "showTitle": false,
     "title": ""
    }
   },
   "outputs": [
    {
     "output_type": "stream",
     "name": "stdout",
     "output_type": "stream",
     "text": [
      "+---+-------+------+-------+-----+----------+------+--------+-------------------+---------+\n| id|   name| guild|  class|level|experience|health|is_alive|        last_active|mentor_id|\n+---+-------+------+-------+-----+----------+------+--------+-------------------+---------+\n|  7|Boromir|Gondor|Warrior|   18|      5500| 115.5|   false|2023-09-21 12:00:00|     null|\n| 15|Faramir|Gondor| Archer|   19|      5700| 118.5|    true|2023-09-20 06:00:00|        7|\n+---+-------+------+-------+-----+----------+------+--------+-------------------+---------+\n\n"
     ]
    }
   ],
   "source": [
    "#CASE SENSITIVE\n",
    "df_characters.filter(df_characters.guild.startswith(\"G\")).show()"
   ]
  },
  {
   "cell_type": "code",
   "execution_count": 0,
   "metadata": {
    "application/vnd.databricks.v1+cell": {
     "cellMetadata": {
      "byteLimit": 2048000,
      "rowLimit": 10000
     },
     "inputWidgets": {},
     "nuid": "1585b4e6-abac-4704-bed3-d461fb9941fb",
     "showTitle": false,
     "title": ""
    }
   },
   "outputs": [
    {
     "output_type": "stream",
     "name": "stdout",
     "output_type": "stream",
     "text": [
      "+---+-------+------+-------+-----+----------+------+--------+-------------------+---------+\n| id|   name| guild|  class|level|experience|health|is_alive|        last_active|mentor_id|\n+---+-------+------+-------+-----+----------+------+--------+-------------------+---------+\n|  3|  Gimli|Erebor|Warrior|   20|      6000|130.25|    true|2023-09-22 07:00:00|     null|\n|  7|Boromir|Gondor|Warrior|   18|      5500| 115.5|   false|2023-09-21 12:00:00|     null|\n| 15|Faramir|Gondor| Archer|   19|      5700| 118.5|    true|2023-09-20 06:00:00|        7|\n+---+-------+------+-------+-----+----------+------+--------+-------------------+---------+\n\n"
     ]
    }
   ],
   "source": [
    "#CASE SENSITIVE\n",
    "df_characters.filter(df_characters.guild.endswith(\"r\")).show()"
   ]
  }
 ],
 "metadata": {
  "application/vnd.databricks.v1+notebook": {
   "dashboards": [],
   "environmentMetadata": null,
   "language": "python",
   "notebookMetadata": {
    "pythonIndentUnit": 4
   },
   "notebookName": "FilterColumns",
   "widgets": {}
  }
 },
 "nbformat": 4,
 "nbformat_minor": 0
}
