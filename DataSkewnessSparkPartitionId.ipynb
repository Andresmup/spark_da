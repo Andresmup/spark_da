{
 "cells": [
  {
   "cell_type": "markdown",
   "id": "b3a0496e-88d8-4741-8028-8b88201ca328",
   "metadata": {},
   "source": [
    "# DATA SKEWNESS SPARK_PARTITION_ID"
   ]
  },
  {
   "cell_type": "code",
   "execution_count": 1,
   "id": "10601642-c4e3-4e2d-874c-ca602ba63078",
   "metadata": {},
   "outputs": [],
   "source": [
    "import findspark\n",
    "findspark.init()"
   ]
  },
  {
   "cell_type": "code",
   "execution_count": 2,
   "id": "b5a2b454-c1c8-4ba7-8ce4-5d09d10f4b20",
   "metadata": {},
   "outputs": [
    {
     "name": "stderr",
     "output_type": "stream",
     "text": [
      "Setting default log level to \"WARN\".\n",
      "To adjust logging level use sc.setLogLevel(newLevel). For SparkR, use setLogLevel(newLevel).\n",
      "24/08/27 18:45:02 WARN NativeCodeLoader: Unable to load native-hadoop library for your platform... using builtin-java classes where applicable\n"
     ]
    }
   ],
   "source": [
    "from pyspark.sql import SparkSession\n",
    "spark = SparkSession.builder.getOrCreate()"
   ]
  },
  {
   "cell_type": "code",
   "execution_count": 3,
   "id": "449f0575-64a9-4159-aece-5b91d25b5fd0",
   "metadata": {},
   "outputs": [],
   "source": [
    "from pyspark.sql.types import StructType, StructField, StringType, IntegerType"
   ]
  },
  {
   "cell_type": "code",
   "execution_count": 8,
   "id": "1fc3e053-58f5-4a30-af1c-6b08c279b3c8",
   "metadata": {},
   "outputs": [],
   "source": [
    "schema = StructType([\n",
    "    StructField(\"Year\",IntegerType(),False),\n",
    "    StructField(\"First Name\",StringType(),True),\n",
    "    StructField(\"County\",StringType(),True),\n",
    "    StructField(\"Sex\",StringType(),True),\n",
    "    StructField(\"Count\",IntegerType(),True),\n",
    "    \n",
    "])"
   ]
  },
  {
   "cell_type": "code",
   "execution_count": 9,
   "id": "ed6384ba-2762-45da-8b3f-d89a4b341d16",
   "metadata": {},
   "outputs": [],
   "source": [
    "df_names = spark.read.format(\"csv\").schema(schema).option(\"header\",\"true\").load(\"../datasets/baby_names.csv\")"
   ]
  },
  {
   "cell_type": "code",
   "execution_count": 10,
   "id": "2cd3f123-8437-497e-b364-9d8812d6b43c",
   "metadata": {},
   "outputs": [
    {
     "name": "stdout",
     "output_type": "stream",
     "text": [
      "+----+----------+-----------+---+-----+\n",
      "|Year|First Name|     County|Sex|Count|\n",
      "+----+----------+-----------+---+-----+\n",
      "|2007|      ZOEY|      KINGS|  F|   11|\n",
      "|2007|      ZOEY|    SUFFOLK|  F|    6|\n",
      "|2007|      ZOEY|     MONROE|  F|    6|\n",
      "|2007|      ZOEY|       ERIE|  F|    9|\n",
      "|2007|       ZOE|     ULSTER|  F|    5|\n",
      "|2007|       ZOE|WESTCHESTER|  F|   24|\n",
      "|2007|       ZOE|      BRONX|  F|   13|\n",
      "|2007|       ZOE|   NEW YORK|  F|   55|\n",
      "|2007|       ZOE|     NASSAU|  F|   15|\n",
      "|2007|       ZOE|       ERIE|  F|    6|\n",
      "|2007|       ZOE|    SUFFOLK|  F|   14|\n",
      "|2007|       ZOE|      KINGS|  F|   34|\n",
      "|2007|       ZOE|     MONROE|  F|    9|\n",
      "|2007|       ZOE|     QUEENS|  F|   26|\n",
      "|2007|       ZOE|     ALBANY|  F|    5|\n",
      "|2007|     ZISSY|   ROCKLAND|  F|    5|\n",
      "|2007|     ZISSY|      KINGS|  F|   27|\n",
      "|2007|      ZION|      KINGS|  M|   15|\n",
      "|2007|      ZION|      BRONX|  M|   14|\n",
      "|2007|       ZEV|   ROCKLAND|  M|    6|\n",
      "+----+----------+-----------+---+-----+\n",
      "only showing top 20 rows\n",
      "\n"
     ]
    }
   ],
   "source": [
    "df_names.show()"
   ]
  },
  {
   "cell_type": "code",
   "execution_count": 11,
   "id": "6efc165d-2cce-4633-9318-b7d032160755",
   "metadata": {},
   "outputs": [
    {
     "data": {
      "text/plain": [
       "1"
      ]
     },
     "execution_count": 11,
     "metadata": {},
     "output_type": "execute_result"
    }
   ],
   "source": [
    "df_names.rdd.getNumPartitions()"
   ]
  },
  {
   "cell_type": "markdown",
   "id": "90318099-73d3-4efa-a200-3ffb4620308d",
   "metadata": {},
   "source": [
    "## CHECK PARTITION ID"
   ]
  },
  {
   "cell_type": "code",
   "execution_count": 12,
   "id": "ee0273fe-bc32-43ba-a733-060d84c77ce8",
   "metadata": {},
   "outputs": [],
   "source": [
    "from pyspark.sql.functions import spark_partition_id"
   ]
  },
  {
   "cell_type": "code",
   "execution_count": 14,
   "id": "633ac695-c292-4192-86b5-841d05ac41d5",
   "metadata": {},
   "outputs": [
    {
     "name": "stdout",
     "output_type": "stream",
     "text": [
      "+----+----------+-----------+---+-----+------------+\n",
      "|Year|First Name|     County|Sex|Count|partition_id|\n",
      "+----+----------+-----------+---+-----+------------+\n",
      "|2007|      ZOEY|      KINGS|  F|   11|           0|\n",
      "|2007|      ZOEY|    SUFFOLK|  F|    6|           0|\n",
      "|2007|      ZOEY|     MONROE|  F|    6|           0|\n",
      "|2007|      ZOEY|       ERIE|  F|    9|           0|\n",
      "|2007|       ZOE|     ULSTER|  F|    5|           0|\n",
      "|2007|       ZOE|WESTCHESTER|  F|   24|           0|\n",
      "|2007|       ZOE|      BRONX|  F|   13|           0|\n",
      "|2007|       ZOE|   NEW YORK|  F|   55|           0|\n",
      "|2007|       ZOE|     NASSAU|  F|   15|           0|\n",
      "|2007|       ZOE|       ERIE|  F|    6|           0|\n",
      "|2007|       ZOE|    SUFFOLK|  F|   14|           0|\n",
      "|2007|       ZOE|      KINGS|  F|   34|           0|\n",
      "|2007|       ZOE|     MONROE|  F|    9|           0|\n",
      "|2007|       ZOE|     QUEENS|  F|   26|           0|\n",
      "|2007|       ZOE|     ALBANY|  F|    5|           0|\n",
      "|2007|     ZISSY|   ROCKLAND|  F|    5|           0|\n",
      "|2007|     ZISSY|      KINGS|  F|   27|           0|\n",
      "|2007|      ZION|      KINGS|  M|   15|           0|\n",
      "|2007|      ZION|      BRONX|  M|   14|           0|\n",
      "|2007|       ZEV|   ROCKLAND|  M|    6|           0|\n",
      "+----+----------+-----------+---+-----+------------+\n",
      "only showing top 20 rows\n",
      "\n"
     ]
    }
   ],
   "source": [
    "df_names.withColumn(\"partition_id\",spark_partition_id()).show()"
   ]
  },
  {
   "cell_type": "code",
   "execution_count": 15,
   "id": "4c9aabc3-140b-4761-a4d3-4b83eca5f3da",
   "metadata": {},
   "outputs": [
    {
     "name": "stderr",
     "output_type": "stream",
     "text": [
      "[Stage 3:>                                                          (0 + 1) / 1]\r"
     ]
    },
    {
     "name": "stdout",
     "output_type": "stream",
     "text": [
      "+----+-----------+-----------+---+-----+------------+\n",
      "|Year| First Name|     County|Sex|Count|partition_id|\n",
      "+----+-----------+-----------+---+-----+------------+\n",
      "|2008|     BRENDA|   ROCKLAND|  F|    5|           0|\n",
      "|2011|     ALEXIS|      KINGS|  M|   14|           0|\n",
      "|2014|   ISABELLA|     Oswego|  F|    7|           0|\n",
      "|2010|    AALIYAH|   DUTCHESS|  F|    7|           0|\n",
      "|2014|     MORGAN|     Monroe|  F|   10|           0|\n",
      "|2009|      DYLAN|    SUFFOLK|  M|   87|           0|\n",
      "|2009|     SAWYER|       ERIE|  M|    5|           0|\n",
      "|2009|     MARIAM|      BRONX|  F|   17|           0|\n",
      "|2014|     GEORGE|       Erie|  M|    5|           0|\n",
      "|2008|     GIANNA|       ERIE|  F|   35|           0|\n",
      "|2013|       ADAM|   DUTCHESS|  M|    5|           0|\n",
      "|2014|   KINGSTON|      Kings|  M|    9|           0|\n",
      "|2013|       NORA|     MONROE|  F|    9|           0|\n",
      "|2008|      GRACE|     ONEIDA|  F|    9|           0|\n",
      "|2012|  ALEXANDER|   SARATOGA|  M|   15|           0|\n",
      "|2012|    MADELYN|     MONROE|  F|   13|           0|\n",
      "|2009|      CHAVY|      KINGS|  F|   21|           0|\n",
      "|2009|      LAYLA|      BRONX|  F|   23|           0|\n",
      "|2007|       OWEN|   NEW YORK|  M|   35|           0|\n",
      "|2010|     MEGHAN|   ONONDAGA|  F|    5|           0|\n",
      "|2008|     SYDNEY|     ORANGE|  F|    7|           0|\n",
      "|2013|      ROIZA|      KINGS|  F|   11|           0|\n",
      "|2010|    ADRIANA|       ERIE|  F|    5|           0|\n",
      "|2007|      DIANA|   NEW YORK|  F|   16|           0|\n",
      "|2009|     EMILIA|     QUEENS|  F|   10|           0|\n",
      "|2012|     DECLAN|     MONROE|  M|   13|           0|\n",
      "|2012|     JOSHUA|   NEW YORK|  M|   50|           0|\n",
      "|2011|      EMILY|   ONONDAGA|  F|   20|           0|\n",
      "|2007|    NATALIE|   DELAWARE|  F|    6|           0|\n",
      "|2009|      FIONA|WESTCHESTER|  F|    6|           0|\n",
      "|2007|    CAITLIN|WESTCHESTER|  F|   14|           0|\n",
      "|2014|    BRENDAN|Westchester|  M|    9|           0|\n",
      "|2014|     ELIANA|     Monroe|  F|    9|           0|\n",
      "|2008|      SHIRA|     NASSAU|  F|    5|           0|\n",
      "|2013|      SHANE|WESTCHESTER|  M|    7|           0|\n",
      "|2010|CHRISTOPHER|   NEW YORK|  M|   48|           0|\n",
      "|2014|    DOMINIC|     Queens|  M|   18|           0|\n",
      "|2012|       ZION|     MONROE|  M|    6|           0|\n",
      "|2007|     CAYDEN|     ALBANY|  M|    5|           0|\n",
      "|2011|   GIOVANNI|       ERIE|  M|   11|           0|\n",
      "|2011|     CONNOR| CHAUTAUQUA|  M|    7|           0|\n",
      "|2014|     GIANNA|     Orange|  F|    8|           0|\n",
      "|2008|   BENJAMIN|      BRONX|  M|   17|           0|\n",
      "|2012|  ALEXANDRA|       ERIE|  F|   10|           0|\n",
      "|2011|     ANDREW|   ROCKLAND|  M|   12|           0|\n",
      "|2010|      NAHLA|      KINGS|  F|   11|           0|\n",
      "|2014|      MARIA|Westchester|  F|   12|           0|\n",
      "|2009|      PAIGE|     ONEIDA|  F|    6|           0|\n",
      "|2008|     JOHNNY|    SUFFOLK|  M|    5|           0|\n",
      "|2013|   KIMBERLY|      BRONX|  F|   18|           0|\n",
      "|2014|       ZOEY|Schenectady|  F|    5|           0|\n",
      "|2009|      LUCAS|     CAYUGA|  M|    5|           0|\n",
      "|2013|    ARIANNA|   ROCKLAND|  F|    7|           0|\n",
      "|2012|       LUCA|    SUFFOLK|  M|   19|           0|\n",
      "|2014|     JORDAN|   Dutchess|  M|    5|           0|\n",
      "|2012|     KAYLEE|     ORANGE|  F|    6|           0|\n",
      "|2007|      MASON| RENSSELAER|  M|    7|           0|\n",
      "|2013|  CHRISTIAN| RENSSELAER|  M|    5|           0|\n",
      "|2012|       SIMA|   ROCKLAND|  F|    7|           0|\n",
      "|2008|       EMMA|    CLINTON|  F|    9|           0|\n",
      "|2007|     GIANNA|     ORANGE|  F|   15|           0|\n",
      "|2014|    DANIELA|      Kings|  F|   12|           0|\n",
      "|2007|     PHILIP|WESTCHESTER|  M|    5|           0|\n",
      "|2014|      ISAAC|   New York|  M|   37|           0|\n",
      "|2007|     LAUREN|    ONTARIO|  F|    7|           0|\n",
      "|2010|    ABRAHAM|     NASSAU|  M|    5|           0|\n",
      "|2014|      MAEVE|     Monroe|  F|    6|           0|\n",
      "|2009|     HAYDEN|ST LAWRENCE|  M|    6|           0|\n",
      "|2009|     CARLOS|     NASSAU|  M|   18|           0|\n",
      "|2007|     HAILEY|      KINGS|  F|   31|           0|\n",
      "|2007|    MOHAMED|      BRONX|  M|   28|           0|\n",
      "|2013|       LIAM|     CAYUGA|  M|    5|           0|\n",
      "|2011|  CHRISTIAN|      BRONX|  M|   73|           0|\n",
      "|2010|    JAMESON|   SARATOGA|  M|    5|           0|\n",
      "|2013|      JAMES|      BRONX|  M|   33|           0|\n",
      "|2010|     SOPHIA|   TOMPKINS|  F|    7|           0|\n",
      "|2014|   VICTORIA|   Dutchess|  F|    7|           0|\n",
      "|2007|       MARK|   ROCKLAND|  M|    5|           0|\n",
      "|2009|        ALI|      KINGS|  M|   31|           0|\n",
      "|2013|      RILEY|     NASSAU|  F|   32|           0|\n",
      "|2007|       JADA|      BRONX|  F|   44|           0|\n",
      "|2013|        ELI|   TOMPKINS|  M|    7|           0|\n",
      "|2008|   ISABELLA|SCHENECTADY|  F|   26|           0|\n",
      "|2008|  CHRISTIAN|   RICHMOND|  M|   30|           0|\n",
      "|2014|  GENEVIEVE|     Monroe|  F|    5|           0|\n",
      "|2009|      BRADY| RENSSELAER|  M|    5|           0|\n",
      "|2008|   SAMANTHA|   SARATOGA|  F|    8|           0|\n",
      "|2010|    MARIAMA|      BRONX|  F|   12|           0|\n",
      "|2014|      AMARE|      Kings|  M|    6|           0|\n",
      "|2007|     ISAIAH|SCHENECTADY|  M|    7|           0|\n",
      "|2012|       ELLA|      KINGS|  F|   57|           0|\n",
      "|2007|     ALISON|WESTCHESTER|  F|    9|           0|\n",
      "|2014|    SHERLYN|      Kings|  F|    5|           0|\n",
      "|2008|  ALEXANDER|    SUFFOLK|  M|  115|           0|\n",
      "|2008|      KARLA|    SUFFOLK|  F|    8|           0|\n",
      "|2010|     SOPHIE|WESTCHESTER|  F|   14|           0|\n",
      "|2013|       ABEL|      BRONX|  M|   15|           0|\n",
      "|2008|    MADISON|     ALBANY|  F|   13|           0|\n",
      "|2010|       LANA|    SUFFOLK|  F|    5|           0|\n",
      "|2009|     ALEXIS|      BRONX|  F|   16|           0|\n",
      "+----+-----------+-----------+---+-----+------------+\n",
      "only showing top 100 rows\n",
      "\n"
     ]
    },
    {
     "name": "stderr",
     "output_type": "stream",
     "text": [
      "                                                                                \r"
     ]
    }
   ],
   "source": [
    "df_names_re = df_names.repartition(20).withColumn(\"partition_id\",spark_partition_id())\n",
    "\n",
    "df_names_re.show(100)"
   ]
  },
  {
   "cell_type": "code",
   "execution_count": 16,
   "id": "0534ad19-7954-4ef5-8a50-4f1b8db4f842",
   "metadata": {},
   "outputs": [
    {
     "data": {
      "text/plain": [
       "20"
      ]
     },
     "execution_count": 16,
     "metadata": {},
     "output_type": "execute_result"
    }
   ],
   "source": [
    "df_names_re.rdd.getNumPartitions()"
   ]
  },
  {
   "cell_type": "markdown",
   "id": "44becf55-f4ff-4ee3-82c1-7320a149a280",
   "metadata": {},
   "source": [
    "## Show Records Per Partition"
   ]
  },
  {
   "cell_type": "code",
   "execution_count": 18,
   "id": "cb33416d-6ccc-4eb8-87cb-44343d6f06a1",
   "metadata": {},
   "outputs": [],
   "source": [
    "from pyspark.sql.functions import asc, desc"
   ]
  },
  {
   "cell_type": "code",
   "execution_count": 19,
   "id": "c057d4d8-b112-4a2f-a552-68e2697079fb",
   "metadata": {},
   "outputs": [
    {
     "name": "stderr",
     "output_type": "stream",
     "text": [
      "[Stage 9:=============================================>           (16 + 4) / 20]\r"
     ]
    },
    {
     "name": "stdout",
     "output_type": "stream",
     "text": [
      "+------------+-----+\n",
      "|partition_id|count|\n",
      "+------------+-----+\n",
      "|           0| 2613|\n",
      "|           9| 2613|\n",
      "|          10| 2613|\n",
      "|          11| 2613|\n",
      "|          12| 2613|\n",
      "|          13| 2613|\n",
      "|          14| 2613|\n",
      "|          15| 2613|\n",
      "|          16| 2613|\n",
      "|          17| 2613|\n",
      "|          18| 2613|\n",
      "|          19| 2613|\n",
      "|           1| 2612|\n",
      "|           2| 2612|\n",
      "|           3| 2612|\n",
      "|           4| 2612|\n",
      "|           5| 2612|\n",
      "|           6| 2612|\n",
      "|           7| 2612|\n",
      "|           8| 2612|\n",
      "+------------+-----+\n",
      "\n"
     ]
    },
    {
     "name": "stderr",
     "output_type": "stream",
     "text": [
      "                                                                                \r"
     ]
    }
   ],
   "source": [
    "df_names_re.groupBy(\"partition_id\").count().orderBy(desc(\"count\")).show()"
   ]
  },
  {
   "cell_type": "code",
   "execution_count": null,
   "id": "1c8b4360-d923-4b36-bce3-5d1d47113898",
   "metadata": {},
   "outputs": [],
   "source": []
  }
 ],
 "metadata": {
  "kernelspec": {
   "display_name": "Python 3 (ipykernel)",
   "language": "python",
   "name": "python3"
  },
  "language_info": {
   "codemirror_mode": {
    "name": "ipython",
    "version": 3
   },
   "file_extension": ".py",
   "mimetype": "text/x-python",
   "name": "python",
   "nbconvert_exporter": "python",
   "pygments_lexer": "ipython3",
   "version": "3.11.7"
  }
 },
 "nbformat": 4,
 "nbformat_minor": 5
}
