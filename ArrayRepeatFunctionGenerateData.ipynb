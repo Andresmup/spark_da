{
 "cells": [
  {
   "cell_type": "markdown",
   "id": "86cf2227-de31-40b2-8542-06051efbf69d",
   "metadata": {},
   "source": [
    "# ARRAY REPEAT"
   ]
  },
  {
   "cell_type": "code",
   "execution_count": 1,
   "id": "1c3c2dd5-95e0-4008-ae67-db810bba465a",
   "metadata": {},
   "outputs": [],
   "source": [
    "import findspark\n",
    "findspark.init()"
   ]
  },
  {
   "cell_type": "code",
   "execution_count": 2,
   "id": "da52e3ec-b133-46d8-b7c6-42e7ac4fd2e7",
   "metadata": {},
   "outputs": [
    {
     "name": "stderr",
     "output_type": "stream",
     "text": [
      "Setting default log level to \"WARN\".\n",
      "To adjust logging level use sc.setLogLevel(newLevel). For SparkR, use setLogLevel(newLevel).\n",
      "24/08/30 16:04:51 WARN NativeCodeLoader: Unable to load native-hadoop library for your platform... using builtin-java classes where applicable\n"
     ]
    }
   ],
   "source": [
    "from pyspark.sql import SparkSession\n",
    "spark = SparkSession.builder.getOrCreate()"
   ]
  },
  {
   "cell_type": "code",
   "execution_count": 3,
   "id": "aa9f2d5b-bf2b-4c57-9994-b982e8f08fcb",
   "metadata": {},
   "outputs": [],
   "source": [
    "data_people = [\n",
    "    (1, \"Andrew James\", \"1987-12-25\", True, 140000, \"model\"),\n",
    "    (2, \"Linda Scott\", \"1990-05-14\", False, 95000, \"engineer\"),\n",
    "    (3, \"Michael Brown\", \"1985-11-07\", True, 120000, \"teacher\"),\n",
    "    (4, \"Jessica Wilson\", \"1992-03-22\", False, 75000, \"designer\"),\n",
    "    (5, \"John Davis\", \"1980-08-19\", True, 160000, \"lawyer\"),\n",
    "    (6, \"Emily Clark\", \"1995-02-10\", False, 98000, \"architect\"),\n",
    "    (7, \"David Evans\", \"1983-07-15\", True, 130000, \"doctor\"),\n",
    "    (8, \"Sophia Harris\", \"1988-11-30\", False, 110000, \"nurse\"),\n",
    "    (9, \"Daniel Martinez\", \"1991-06-01\", True, 145000, \"consultant\"),\n",
    "    (10, \"Olivia Thompson\", \"1986-09-12\", False, 102000, \"scientist\")\n",
    "]\n",
    "\n",
    "schema_people = \"id INTEGER, name STRING, birth_date STRING, married BOOLEAN, salary INTEGER, profession STRING\""
   ]
  },
  {
   "cell_type": "code",
   "execution_count": 4,
   "id": "1f1fab8f-44c2-4278-988b-50932b93ea61",
   "metadata": {},
   "outputs": [
    {
     "name": "stderr",
     "output_type": "stream",
     "text": [
      "                                                                                \r"
     ]
    },
    {
     "name": "stdout",
     "output_type": "stream",
     "text": [
      "+---+---------------+----------+-------+------+----------+\n",
      "| id|           name|birth_date|married|salary|profession|\n",
      "+---+---------------+----------+-------+------+----------+\n",
      "|  1|   Andrew James|1987-12-25|   true|140000|     model|\n",
      "|  2|    Linda Scott|1990-05-14|  false| 95000|  engineer|\n",
      "|  3|  Michael Brown|1985-11-07|   true|120000|   teacher|\n",
      "|  4| Jessica Wilson|1992-03-22|  false| 75000|  designer|\n",
      "|  5|     John Davis|1980-08-19|   true|160000|    lawyer|\n",
      "|  6|    Emily Clark|1995-02-10|  false| 98000| architect|\n",
      "|  7|    David Evans|1983-07-15|   true|130000|    doctor|\n",
      "|  8|  Sophia Harris|1988-11-30|  false|110000|     nurse|\n",
      "|  9|Daniel Martinez|1991-06-01|   true|145000|consultant|\n",
      "| 10|Olivia Thompson|1986-09-12|  false|102000| scientist|\n",
      "+---+---------------+----------+-------+------+----------+\n",
      "\n"
     ]
    }
   ],
   "source": [
    "df_people = spark.createDataFrame(data=data_people,schema=schema_people)\n",
    "df_people.show()"
   ]
  },
  {
   "cell_type": "markdown",
   "id": "8fd307fe-1adf-478a-a663-4489d334f883",
   "metadata": {},
   "source": [
    "## Array repeat"
   ]
  },
  {
   "cell_type": "code",
   "execution_count": 6,
   "id": "7e81035c-4c98-4090-bfe4-c4679088f6c1",
   "metadata": {},
   "outputs": [],
   "source": [
    "from pyspark.sql.functions import array_repeat, explode, col"
   ]
  },
  {
   "cell_type": "code",
   "execution_count": 9,
   "id": "06a14f9a-b2cc-424a-872b-530446a1f43a",
   "metadata": {},
   "outputs": [
    {
     "name": "stdout",
     "output_type": "stream",
     "text": [
      "+---+---------------+----------+-------+------+----------+----------------------------------------+\n",
      "|id |name           |birth_date|married|salary|profession|key_col                                 |\n",
      "+---+---------------+----------+-------+------+----------+----------------------------------------+\n",
      "|1  |Andrew James   |1987-12-25|true   |140000|model     |[1, 1, 1, 1, 1, 1, 1, 1, 1, 1]          |\n",
      "|2  |Linda Scott    |1990-05-14|false  |95000 |engineer  |[2, 2, 2, 2, 2, 2, 2, 2, 2, 2]          |\n",
      "|3  |Michael Brown  |1985-11-07|true   |120000|teacher   |[3, 3, 3, 3, 3, 3, 3, 3, 3, 3]          |\n",
      "|4  |Jessica Wilson |1992-03-22|false  |75000 |designer  |[4, 4, 4, 4, 4, 4, 4, 4, 4, 4]          |\n",
      "|5  |John Davis     |1980-08-19|true   |160000|lawyer    |[5, 5, 5, 5, 5, 5, 5, 5, 5, 5]          |\n",
      "|6  |Emily Clark    |1995-02-10|false  |98000 |architect |[6, 6, 6, 6, 6, 6, 6, 6, 6, 6]          |\n",
      "|7  |David Evans    |1983-07-15|true   |130000|doctor    |[7, 7, 7, 7, 7, 7, 7, 7, 7, 7]          |\n",
      "|8  |Sophia Harris  |1988-11-30|false  |110000|nurse     |[8, 8, 8, 8, 8, 8, 8, 8, 8, 8]          |\n",
      "|9  |Daniel Martinez|1991-06-01|true   |145000|consultant|[9, 9, 9, 9, 9, 9, 9, 9, 9, 9]          |\n",
      "|10 |Olivia Thompson|1986-09-12|false  |102000|scientist |[10, 10, 10, 10, 10, 10, 10, 10, 10, 10]|\n",
      "+---+---------------+----------+-------+------+----------+----------------------------------------+\n",
      "\n"
     ]
    },
    {
     "name": "stderr",
     "output_type": "stream",
     "text": [
      "                                                                                \r"
     ]
    }
   ],
   "source": [
    "df_people_repeat = df_people.withColumn(\"key_col\", array_repeat(col(\"id\"),10))\n",
    "df_people_repeat.show(truncate=False)"
   ]
  },
  {
   "cell_type": "markdown",
   "id": "6d5e76e3-1a9b-48a5-a97e-5706cb11e862",
   "metadata": {},
   "source": [
    "## Array repeat explode"
   ]
  },
  {
   "cell_type": "code",
   "execution_count": 10,
   "id": "8a6323fd-affa-41a0-9d95-7d09ce5c04b3",
   "metadata": {},
   "outputs": [
    {
     "name": "stdout",
     "output_type": "stream",
     "text": [
      "+---+------------+----------+-------+------+----------+-------+\n",
      "|id |name        |birth_date|married|salary|profession|key_col|\n",
      "+---+------------+----------+-------+------+----------+-------+\n",
      "|1  |Andrew James|1987-12-25|true   |140000|model     |1      |\n",
      "|1  |Andrew James|1987-12-25|true   |140000|model     |1      |\n",
      "|1  |Andrew James|1987-12-25|true   |140000|model     |1      |\n",
      "|1  |Andrew James|1987-12-25|true   |140000|model     |1      |\n",
      "|1  |Andrew James|1987-12-25|true   |140000|model     |1      |\n",
      "|1  |Andrew James|1987-12-25|true   |140000|model     |1      |\n",
      "|1  |Andrew James|1987-12-25|true   |140000|model     |1      |\n",
      "|1  |Andrew James|1987-12-25|true   |140000|model     |1      |\n",
      "|1  |Andrew James|1987-12-25|true   |140000|model     |1      |\n",
      "|1  |Andrew James|1987-12-25|true   |140000|model     |1      |\n",
      "|2  |Linda Scott |1990-05-14|false  |95000 |engineer  |2      |\n",
      "|2  |Linda Scott |1990-05-14|false  |95000 |engineer  |2      |\n",
      "|2  |Linda Scott |1990-05-14|false  |95000 |engineer  |2      |\n",
      "|2  |Linda Scott |1990-05-14|false  |95000 |engineer  |2      |\n",
      "|2  |Linda Scott |1990-05-14|false  |95000 |engineer  |2      |\n",
      "|2  |Linda Scott |1990-05-14|false  |95000 |engineer  |2      |\n",
      "|2  |Linda Scott |1990-05-14|false  |95000 |engineer  |2      |\n",
      "|2  |Linda Scott |1990-05-14|false  |95000 |engineer  |2      |\n",
      "|2  |Linda Scott |1990-05-14|false  |95000 |engineer  |2      |\n",
      "|2  |Linda Scott |1990-05-14|false  |95000 |engineer  |2      |\n",
      "+---+------------+----------+-------+------+----------+-------+\n",
      "only showing top 20 rows\n",
      "\n"
     ]
    }
   ],
   "source": [
    "df_people_explode = df_people.withColumn(\"key_col\", explode(array_repeat(col(\"id\"),10)))\n",
    "df_people_explode.show(truncate=False)"
   ]
  },
  {
   "cell_type": "markdown",
   "id": "f8a2528c-9ef8-40fd-b99b-81b3a391f13d",
   "metadata": {},
   "source": [
    "## Using Window function"
   ]
  },
  {
   "cell_type": "code",
   "execution_count": 21,
   "id": "8c5eec30-c9d0-4a0d-8784-94071f967fe3",
   "metadata": {},
   "outputs": [],
   "source": [
    "from pyspark.sql.functions import lit, row_number, concat_ws\n",
    "from pyspark.sql.window import Window"
   ]
  },
  {
   "cell_type": "code",
   "execution_count": 17,
   "id": "2b3b9907-e1ea-4c80-9ef6-abd809d37826",
   "metadata": {},
   "outputs": [],
   "source": [
    "window_function = Window().partitionBy(\"id\").orderBy(lit(\"A\"))"
   ]
  },
  {
   "cell_type": "code",
   "execution_count": 24,
   "id": "89368149-2fe1-4dee-ba44-b1573a4e0e88",
   "metadata": {},
   "outputs": [
    {
     "name": "stdout",
     "output_type": "stream",
     "text": [
      "+------------+----------+-------+------+----------+------+\n",
      "|        name|birth_date|married|salary|profession|id_new|\n",
      "+------------+----------+-------+------+----------+------+\n",
      "|Andrew James|1987-12-25|   true|140000|     model|   1_1|\n",
      "|Andrew James|1987-12-25|   true|140000|     model|   1_2|\n",
      "|Andrew James|1987-12-25|   true|140000|     model|   1_3|\n",
      "|Andrew James|1987-12-25|   true|140000|     model|   1_4|\n",
      "|Andrew James|1987-12-25|   true|140000|     model|   1_5|\n",
      "|Andrew James|1987-12-25|   true|140000|     model|   1_6|\n",
      "|Andrew James|1987-12-25|   true|140000|     model|   1_7|\n",
      "|Andrew James|1987-12-25|   true|140000|     model|   1_8|\n",
      "|Andrew James|1987-12-25|   true|140000|     model|   1_9|\n",
      "|Andrew James|1987-12-25|   true|140000|     model|  1_10|\n",
      "| Linda Scott|1990-05-14|  false| 95000|  engineer|   2_1|\n",
      "| Linda Scott|1990-05-14|  false| 95000|  engineer|   2_2|\n",
      "| Linda Scott|1990-05-14|  false| 95000|  engineer|   2_3|\n",
      "| Linda Scott|1990-05-14|  false| 95000|  engineer|   2_4|\n",
      "| Linda Scott|1990-05-14|  false| 95000|  engineer|   2_5|\n",
      "| Linda Scott|1990-05-14|  false| 95000|  engineer|   2_6|\n",
      "| Linda Scott|1990-05-14|  false| 95000|  engineer|   2_7|\n",
      "| Linda Scott|1990-05-14|  false| 95000|  engineer|   2_8|\n",
      "| Linda Scott|1990-05-14|  false| 95000|  engineer|   2_9|\n",
      "| Linda Scott|1990-05-14|  false| 95000|  engineer|  2_10|\n",
      "+------------+----------+-------+------+----------+------+\n",
      "only showing top 20 rows\n",
      "\n"
     ]
    }
   ],
   "source": [
    "df_people_window = df_people_explode.withColumn(\"row_n\", row_number().over(window_function))\n",
    "\n",
    "df_people_extended = df_people_window.withColumn(\"id_new\", concat_ws(\"_\", col(\"id\"),col(\"row_n\"))).drop(\"id\",\"key_col\",\"row_n\")\n",
    "\n",
    "df_people_extended.show()"
   ]
  },
  {
   "cell_type": "code",
   "execution_count": 23,
   "id": "502aa3e7-e9c1-4258-9890-d9553bae3c37",
   "metadata": {},
   "outputs": [
    {
     "data": {
      "text/plain": [
       "100"
      ]
     },
     "execution_count": 23,
     "metadata": {},
     "output_type": "execute_result"
    }
   ],
   "source": [
    "df_people_extended.count()"
   ]
  },
  {
   "cell_type": "code",
   "execution_count": null,
   "id": "7701a02e-795c-4d02-ab3f-458e6970d1be",
   "metadata": {},
   "outputs": [],
   "source": []
  }
 ],
 "metadata": {
  "kernelspec": {
   "display_name": "Python 3 (ipykernel)",
   "language": "python",
   "name": "python3"
  },
  "language_info": {
   "codemirror_mode": {
    "name": "ipython",
    "version": 3
   },
   "file_extension": ".py",
   "mimetype": "text/x-python",
   "name": "python",
   "nbconvert_exporter": "python",
   "pygments_lexer": "ipython3",
   "version": "3.11.7"
  }
 },
 "nbformat": 4,
 "nbformat_minor": 5
}
