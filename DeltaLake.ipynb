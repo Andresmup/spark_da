{
 "cells": [
  {
   "cell_type": "markdown",
   "metadata": {
    "application/vnd.databricks.v1+cell": {
     "cellMetadata": {},
     "inputWidgets": {},
     "nuid": "3b1c684e-06d4-49b5-8d32-22aae467b168",
     "showTitle": false,
     "title": ""
    }
   },
   "source": [
    "#DELTA LAKE"
   ]
  },
  {
   "cell_type": "code",
   "execution_count": 0,
   "metadata": {
    "application/vnd.databricks.v1+cell": {
     "cellMetadata": {
      "byteLimit": 2048000,
      "rowLimit": 10000
     },
     "inputWidgets": {},
     "nuid": "e523a713-b172-4a2b-bddb-a4f5f6ca05cd",
     "showTitle": false,
     "title": ""
    }
   },
   "outputs": [
    {
     "output_type": "stream",
     "name": "stdout",
     "output_type": "stream",
     "text": [
      "Out[56]: [FileInfo(path='dbfs:/FileStore/tables/delta/demo/_delta_log/.s3-optimization-0', name='.s3-optimization-0', size=0, modificationTime=1724365801000),\n FileInfo(path='dbfs:/FileStore/tables/delta/demo/_delta_log/.s3-optimization-1', name='.s3-optimization-1', size=0, modificationTime=1724365801000),\n FileInfo(path='dbfs:/FileStore/tables/delta/demo/_delta_log/.s3-optimization-2', name='.s3-optimization-2', size=0, modificationTime=1724365801000),\n FileInfo(path='dbfs:/FileStore/tables/delta/demo/_delta_log/00000000000000000000.crc', name='00000000000000000000.crc', size=2206, modificationTime=1724365830000),\n FileInfo(path='dbfs:/FileStore/tables/delta/demo/_delta_log/00000000000000000000.json', name='00000000000000000000.json', size=1228, modificationTime=1724365802000),\n FileInfo(path='dbfs:/FileStore/tables/delta/demo/_delta_log/00000000000000000001.crc', name='00000000000000000001.crc', size=2847, modificationTime=1724366399000),\n FileInfo(path='dbfs:/FileStore/tables/delta/demo/_delta_log/00000000000000000001.json', name='00000000000000000001.json', size=1173, modificationTime=1724366394000),\n FileInfo(path='dbfs:/FileStore/tables/delta/demo/_delta_log/00000000000000000002.crc', name='00000000000000000002.crc', size=3489, modificationTime=1724366791000),\n FileInfo(path='dbfs:/FileStore/tables/delta/demo/_delta_log/00000000000000000002.json', name='00000000000000000002.json', size=1178, modificationTime=1724366786000),\n FileInfo(path='dbfs:/FileStore/tables/delta/demo/_delta_log/00000000000000000003.crc', name='00000000000000000003.crc', size=4127, modificationTime=1724366796000),\n FileInfo(path='dbfs:/FileStore/tables/delta/demo/_delta_log/00000000000000000003.json', name='00000000000000000003.json', size=1174, modificationTime=1724366793000),\n FileInfo(path='dbfs:/FileStore/tables/delta/demo/_delta_log/00000000000000000004.crc', name='00000000000000000004.crc', size=4751, modificationTime=1724366800000),\n FileInfo(path='dbfs:/FileStore/tables/delta/demo/_delta_log/00000000000000000004.json', name='00000000000000000004.json', size=1160, modificationTime=1724366797000),\n FileInfo(path='dbfs:/FileStore/tables/delta/demo/_delta_log/00000000000000000005.crc', name='00000000000000000005.crc', size=5386, modificationTime=1724366804000),\n FileInfo(path='dbfs:/FileStore/tables/delta/demo/_delta_log/00000000000000000005.json', name='00000000000000000005.json', size=1171, modificationTime=1724366801000)]"
     ]
    }
   ],
   "source": [
    "dbutils.fs.ls(\"dbfs:/FileStore/tables/delta/demo/_delta_log/\")"
   ]
  },
  {
   "cell_type": "markdown",
   "metadata": {
    "application/vnd.databricks.v1+cell": {
     "cellMetadata": {},
     "inputWidgets": {},
     "nuid": "16d7ad9d-c57c-4a6d-817c-a90d0ae84170",
     "showTitle": false,
     "title": ""
    }
   },
   "source": [
    "## Create delta table"
   ]
  },
  {
   "cell_type": "code",
   "execution_count": 0,
   "metadata": {
    "application/vnd.databricks.v1+cell": {
     "cellMetadata": {
      "byteLimit": 2048000,
      "rowLimit": 10000
     },
     "inputWidgets": {},
     "nuid": "d5d906b4-2d45-4621-9b39-9d05b29ae06a",
     "showTitle": false,
     "title": ""
    }
   },
   "outputs": [],
   "source": [
    "from delta.tables import *"
   ]
  },
  {
   "cell_type": "code",
   "execution_count": 0,
   "metadata": {
    "application/vnd.databricks.v1+cell": {
     "cellMetadata": {
      "byteLimit": 2048000,
      "rowLimit": 10000
     },
     "inputWidgets": {},
     "nuid": "82e89285-7b40-4ed1-b5a4-51fbc8e3351c",
     "showTitle": false,
     "title": ""
    }
   },
   "outputs": [
    {
     "output_type": "stream",
     "name": "stdout",
     "output_type": "stream",
     "text": [
      "Out[3]: <delta.tables.DeltaTable at 0x7fe9f83c9a90>"
     ]
    }
   ],
   "source": [
    "DeltaTable.createOrReplace(spark) \\\n",
    "    .tableName(\"delta_demo\") \\\n",
    "    .addColumn(\"id\",\"INT\") \\\n",
    "    .addColumn(\"name\",\"STRING\") \\\n",
    "    .addColumn(\"gender\",\"STRING\") \\\n",
    "    .addColumn(\"salary\",\"INT\") \\\n",
    "    .addColumn(\"dept\",\"STRING\") \\\n",
    "    .property(\"description\",\"delta table\") \\\n",
    "    .location(\"dbfs:/FileStore/tables/delta/demo\") \\\n",
    "    .execute()"
   ]
  },
  {
   "cell_type": "code",
   "execution_count": 0,
   "metadata": {
    "application/vnd.databricks.v1+cell": {
     "cellMetadata": {
      "byteLimit": 2048000,
      "rowLimit": 10000
     },
     "inputWidgets": {},
     "nuid": "54fcf5ad-8743-4014-a055-828dcd681f66",
     "showTitle": false,
     "title": ""
    }
   },
   "outputs": [
    {
     "output_type": "stream",
     "name": "stdout",
     "output_type": "stream",
     "text": [
      "Out[34]: [FileInfo(path='dbfs:/FileStore/tables/delta/demo/_delta_log/', name='_delta_log/', size=0, modificationTime=0),\n FileInfo(path='dbfs:/FileStore/tables/delta/demo/part-00000-12a7ba5d-e268-4016-8e92-22c2e32c959d-c000.snappy.parquet', name='part-00000-12a7ba5d-e268-4016-8e92-22c2e32c959d-c000.snappy.parquet', size=1619, modificationTime=1724366792000),\n FileInfo(path='dbfs:/FileStore/tables/delta/demo/part-00000-2cfb560d-2ce2-4bff-bbfa-8c5243815ca2-c000.snappy.parquet', name='part-00000-2cfb560d-2ce2-4bff-bbfa-8c5243815ca2-c000.snappy.parquet', size=1504, modificationTime=1724366797000),\n FileInfo(path='dbfs:/FileStore/tables/delta/demo/part-00000-7aff10f2-fa7b-45a7-823b-180d3a4902e0-c000.snappy.parquet', name='part-00000-7aff10f2-fa7b-45a7-823b-180d3a4902e0-c000.snappy.parquet', size=1632, modificationTime=1724366785000),\n FileInfo(path='dbfs:/FileStore/tables/delta/demo/part-00000-e173d0e8-84be-42d8-a991-462cae3e8f79-c000.snappy.parquet', name='part-00000-e173d0e8-84be-42d8-a991-462cae3e8f79-c000.snappy.parquet', size=1603, modificationTime=1724366801000),\n FileInfo(path='dbfs:/FileStore/tables/delta/demo/part-00000-e2b4d272-d57a-4660-b6e3-cce454f057f7-c000.snappy.parquet', name='part-00000-e2b4d272-d57a-4660-b6e3-cce454f057f7-c000.snappy.parquet', size=1820, modificationTime=1724366393000)]"
     ]
    }
   ],
   "source": [
    "dbutils.fs.ls(\"dbfs:/FileStore/tables/delta/demo\")"
   ]
  },
  {
   "cell_type": "code",
   "execution_count": 0,
   "metadata": {
    "application/vnd.databricks.v1+cell": {
     "cellMetadata": {
      "byteLimit": 2048000,
      "rowLimit": 10000
     },
     "inputWidgets": {},
     "nuid": "b486063b-9b88-4a37-a026-ab8e811a7379",
     "showTitle": false,
     "title": ""
    }
   },
   "outputs": [
    {
     "output_type": "stream",
     "name": "stdout",
     "output_type": "stream",
     "text": [
      "Out[61]: [FileInfo(path='dbfs:/FileStore/tables/delta/demo/_delta_log/.s3-optimization-0', name='.s3-optimization-0', size=0, modificationTime=1724365801000),\n FileInfo(path='dbfs:/FileStore/tables/delta/demo/_delta_log/.s3-optimization-1', name='.s3-optimization-1', size=0, modificationTime=1724365801000),\n FileInfo(path='dbfs:/FileStore/tables/delta/demo/_delta_log/.s3-optimization-2', name='.s3-optimization-2', size=0, modificationTime=1724365801000),\n FileInfo(path='dbfs:/FileStore/tables/delta/demo/_delta_log/00000000000000000000.crc', name='00000000000000000000.crc', size=2206, modificationTime=1724365830000),\n FileInfo(path='dbfs:/FileStore/tables/delta/demo/_delta_log/00000000000000000000.json', name='00000000000000000000.json', size=1228, modificationTime=1724365802000),\n FileInfo(path='dbfs:/FileStore/tables/delta/demo/_delta_log/00000000000000000001.crc', name='00000000000000000001.crc', size=2847, modificationTime=1724366399000),\n FileInfo(path='dbfs:/FileStore/tables/delta/demo/_delta_log/00000000000000000001.json', name='00000000000000000001.json', size=1173, modificationTime=1724366394000),\n FileInfo(path='dbfs:/FileStore/tables/delta/demo/_delta_log/00000000000000000002.crc', name='00000000000000000002.crc', size=3489, modificationTime=1724366791000),\n FileInfo(path='dbfs:/FileStore/tables/delta/demo/_delta_log/00000000000000000002.json', name='00000000000000000002.json', size=1178, modificationTime=1724366786000),\n FileInfo(path='dbfs:/FileStore/tables/delta/demo/_delta_log/00000000000000000003.crc', name='00000000000000000003.crc', size=4127, modificationTime=1724366796000),\n FileInfo(path='dbfs:/FileStore/tables/delta/demo/_delta_log/00000000000000000003.json', name='00000000000000000003.json', size=1174, modificationTime=1724366793000),\n FileInfo(path='dbfs:/FileStore/tables/delta/demo/_delta_log/00000000000000000004.crc', name='00000000000000000004.crc', size=4751, modificationTime=1724366800000),\n FileInfo(path='dbfs:/FileStore/tables/delta/demo/_delta_log/00000000000000000004.json', name='00000000000000000004.json', size=1160, modificationTime=1724366797000),\n FileInfo(path='dbfs:/FileStore/tables/delta/demo/_delta_log/00000000000000000005.crc', name='00000000000000000005.crc', size=5386, modificationTime=1724366804000),\n FileInfo(path='dbfs:/FileStore/tables/delta/demo/_delta_log/00000000000000000005.json', name='00000000000000000005.json', size=1171, modificationTime=1724366801000),\n FileInfo(path='dbfs:/FileStore/tables/delta/demo/_delta_log/00000000000000000006.crc', name='00000000000000000006.crc', size=5387, modificationTime=1724368120000),\n FileInfo(path='dbfs:/FileStore/tables/delta/demo/_delta_log/00000000000000000006.json', name='00000000000000000006.json', size=1765, modificationTime=1724368116000)]"
     ]
    }
   ],
   "source": [
    "dbutils.fs.ls(\"dbfs:/FileStore/tables/delta/demo/_delta_log/\")"
   ]
  },
  {
   "cell_type": "code",
   "execution_count": 0,
   "metadata": {
    "application/vnd.databricks.v1+cell": {
     "cellMetadata": {
      "byteLimit": 2048000,
      "rowLimit": 10000
     },
     "inputWidgets": {},
     "nuid": "443f5e03-57a5-44e5-975c-1820c54e4197",
     "showTitle": false,
     "title": ""
    }
   },
   "outputs": [
    {
     "output_type": "stream",
     "name": "stdout",
     "output_type": "stream",
     "text": [
      "Out[38]: '{\"commitInfo\":{\"timestamp\":1724365800831,\"userId\":\"8904480319608266\",\"userName\":\"andresmunozpampillonaws@gmail.com\",\"operation\":\"CREATE OR REPLACE TABLE\",\"operationParameters\":{\"isManaged\":\"false\",\"description\":null,\"partitionBy\":\"[]\",\"properties\":\"{\\\\\"description\\\\\":\\\\\"delta table\\\\\"}\"},\"notebook\":{\"notebookId\":\"4274380949678301\"},\"clusterId\":\"0822-222704-adku0mbt\",\"isolationLevel\":\"WriteSerializable\",\"isBlindAppend\":true,\"operationMetrics\":{},\"engineInfo\":\"Databricks-Runtime/12.2.x-scala2.12\",\"txnId\":\"c060e96b-eb74-4708-8fb6-ed5b0353dce5\"}}\\n{\"protocol\":{\"minReaderVersion\":1,\"minWriterVersion\":2}}\\n{\"metaData\":{\"id\":\"28e17eef-4097-4262-9106-612a721e87e8\",\"format\":{\"provider\":\"parquet\",\"options\":{}},\"schemaString\":\"{\\\\\"type\\\\\":\\\\\"struct\\\\\",\\\\\"fields\\\\\":[{\\\\\"name\\\\\":\\\\\"id\\\\\",\\\\\"type\\\\\":\\\\\"integer\\\\\",\\\\\"nullable\\\\\":true,\\\\\"metadata\\\\\":{}},{\\\\\"name\\\\\":\\\\\"name\\\\\",\\\\\"type\\\\\":\\\\\"string\\\\\",\\\\\"nullable\\\\\":true,\\\\\"metadata\\\\\":{}},{\\\\\"name\\\\\":\\\\\"gender\\\\\",\\\\\"type\\\\\":\\\\\"string\\\\\",\\\\\"nullable\\\\\":true,\\\\\"metadata\\\\\":{}},{\\\\\"name\\\\\":\\\\\"salary\\\\\",\\\\\"type\\\\\":\\\\\"integer\\\\\",\\\\\"nullable\\\\\":true,\\\\\"metadata\\\\\":{}},{\\\\\"name\\\\\":\\\\\"dept\\\\\",\\\\\"type\\\\\":\\\\\"string\\\\\",\\\\\"nullable\\\\\":true,\\\\\"metadata\\\\\":{}}]}\",\"partitionColumns\":[],\"configuration\":{\"description\":\"delta table\"},\"createdTime\":1724365798452}}\\n'"
     ]
    }
   ],
   "source": [
    "dbutils.fs.head(\"dbfs:/FileStore/tables/delta/demo/_delta_log/00000000000000000000.json\")"
   ]
  },
  {
   "cell_type": "code",
   "execution_count": 0,
   "metadata": {
    "application/vnd.databricks.v1+cell": {
     "cellMetadata": {
      "byteLimit": 2048000,
      "rowLimit": 10000
     },
     "inputWidgets": {},
     "nuid": "d2e28ad4-580b-4469-88e8-baf87c6f154b",
     "showTitle": false,
     "title": ""
    }
   },
   "outputs": [
    {
     "output_type": "stream",
     "name": "stdout",
     "output_type": "stream",
     "text": [
      "Out[39]: '{\"commitInfo\":{\"timestamp\":1724366393157,\"userId\":\"8904480319608266\",\"userName\":\"andresmunozpampillonaws@gmail.com\",\"operation\":\"WRITE\",\"operationParameters\":{\"mode\":\"Append\",\"partitionBy\":\"[]\"},\"notebook\":{\"notebookId\":\"4274380949678301\"},\"clusterId\":\"0822-222704-adku0mbt\",\"readVersion\":0,\"isolationLevel\":\"WriteSerializable\",\"isBlindAppend\":true,\"operationMetrics\":{\"numFiles\":\"1\",\"numOutputRows\":\"10\",\"numOutputBytes\":\"1820\"},\"engineInfo\":\"Databricks-Runtime/12.2.x-scala2.12\",\"txnId\":\"7834cdc8-b0d6-45bc-996e-a955f1d5783d\"}}\\n{\"add\":{\"path\":\"part-00000-e2b4d272-d57a-4660-b6e3-cce454f057f7-c000.snappy.parquet\",\"partitionValues\":{},\"size\":1820,\"modificationTime\":1724366393000,\"dataChange\":true,\"stats\":\"{\\\\\"numRecords\\\\\":10,\\\\\"minValues\\\\\":{\\\\\"id\\\\\":1,\\\\\"name\\\\\":\\\\\"Alice Johnson\\\\\",\\\\\"gender\\\\\":\\\\\"f\\\\\",\\\\\"salary\\\\\":175000,\\\\\"dept\\\\\":\\\\\"HR\\\\\"},\\\\\"maxValues\\\\\":{\\\\\"id\\\\\":10,\\\\\"name\\\\\":\\\\\"Jack White\\\\\",\\\\\"gender\\\\\":\\\\\"m\\\\\",\\\\\"salary\\\\\":250000,\\\\\"dept\\\\\":\\\\\"Support\\\\\"},\\\\\"nullCount\\\\\":{\\\\\"id\\\\\":0,\\\\\"name\\\\\":0,\\\\\"gender\\\\\":0,\\\\\"salary\\\\\":0,\\\\\"dept\\\\\":0}}\",\"tags\":{\"INSERTION_TIME\":\"1724366393000000\",\"MIN_INSERTION_TIME\":\"1724366393000000\",\"MAX_INSERTION_TIME\":\"1724366393000000\",\"OPTIMIZE_TARGET_SIZE\":\"268435456\"}}}\\n'"
     ]
    }
   ],
   "source": [
    "dbutils.fs.head(\"dbfs:/FileStore/tables/delta/demo/_delta_log/00000000000000000001.json\")"
   ]
  },
  {
   "cell_type": "code",
   "execution_count": 0,
   "metadata": {
    "application/vnd.databricks.v1+cell": {
     "cellMetadata": {
      "byteLimit": 2048000,
      "rowLimit": 10000
     },
     "inputWidgets": {},
     "nuid": "c9007a50-64f9-49a9-9020-8b53562502f2",
     "showTitle": false,
     "title": ""
    }
   },
   "outputs": [
    {
     "output_type": "stream",
     "name": "stdout",
     "output_type": "stream",
     "text": [
      "Out[41]: '{\"commitInfo\":{\"timestamp\":1724366784951,\"userId\":\"8904480319608266\",\"userName\":\"andresmunozpampillonaws@gmail.com\",\"operation\":\"WRITE\",\"operationParameters\":{\"mode\":\"Append\",\"partitionBy\":\"[]\"},\"notebook\":{\"notebookId\":\"4274380949678301\"},\"clusterId\":\"0822-222704-adku0mbt\",\"readVersion\":1,\"isolationLevel\":\"WriteSerializable\",\"isBlindAppend\":true,\"operationMetrics\":{\"numFiles\":\"1\",\"numOutputRows\":\"3\",\"numOutputBytes\":\"1632\"},\"engineInfo\":\"Databricks-Runtime/12.2.x-scala2.12\",\"txnId\":\"23ba80a3-f046-4322-8a64-e965a8bea192\"}}\\n{\"add\":{\"path\":\"part-00000-7aff10f2-fa7b-45a7-823b-180d3a4902e0-c000.snappy.parquet\",\"partitionValues\":{},\"size\":1632,\"modificationTime\":1724366785000,\"dataChange\":true,\"stats\":\"{\\\\\"numRecords\\\\\":3,\\\\\"minValues\\\\\":{\\\\\"id\\\\\":11,\\\\\"name\\\\\":\\\\\"Leonard Harris\\\\\",\\\\\"gender\\\\\":\\\\\"f\\\\\",\\\\\"salary\\\\\":185000,\\\\\"dept\\\\\":\\\\\"Finance\\\\\"},\\\\\"maxValues\\\\\":{\\\\\"id\\\\\":13,\\\\\"name\\\\\":\\\\\"Nancy Hall\\\\\",\\\\\"gender\\\\\":\\\\\"m\\\\\",\\\\\"salary\\\\\":215000,\\\\\"dept\\\\\":\\\\\"Support\\\\\"},\\\\\"nullCount\\\\\":{\\\\\"id\\\\\":0,\\\\\"name\\\\\":0,\\\\\"gender\\\\\":0,\\\\\"salary\\\\\":0,\\\\\"dept\\\\\":0}}\",\"tags\":{\"INSERTION_TIME\":\"1724366785000000\",\"MIN_INSERTION_TIME\":\"1724366785000000\",\"MAX_INSERTION_TIME\":\"1724366785000000\",\"OPTIMIZE_TARGET_SIZE\":\"268435456\"}}}\\n'"
     ]
    }
   ],
   "source": [
    "dbutils.fs.head(\"dbfs:/FileStore/tables/delta/demo/_delta_log/00000000000000000002.json\")"
   ]
  },
  {
   "cell_type": "code",
   "execution_count": 0,
   "metadata": {
    "application/vnd.databricks.v1+cell": {
     "cellMetadata": {
      "byteLimit": 2048000,
      "rowLimit": 10000
     },
     "inputWidgets": {},
     "nuid": "b4f536eb-e80e-43ab-af74-7e295fffb414",
     "showTitle": false,
     "title": ""
    }
   },
   "outputs": [
    {
     "output_type": "stream",
     "name": "stdout",
     "output_type": "stream",
     "text": [
      "Out[62]: '{\"commitInfo\":{\"timestamp\":1724368115750,\"userId\":\"8904480319608266\",\"userName\":\"andresmunozpampillonaws@gmail.com\",\"operation\":\"DELETE\",\"operationParameters\":{\"predicate\":\"[\\\\\"(id#3921 = 20)\\\\\"]\"},\"notebook\":{\"notebookId\":\"4274380949678301\"},\"clusterId\":\"0822-222704-adku0mbt\",\"readVersion\":5,\"isolationLevel\":\"WriteSerializable\",\"isBlindAppend\":false,\"operationMetrics\":{\"numRemovedFiles\":\"1\",\"numRemovedBytes\":\"1603\",\"numCopiedRows\":\"2\",\"numDeletionVectorsAdded\":\"0\",\"numDeletionVectorsRemoved\":\"0\",\"numAddedChangeFiles\":\"0\",\"executionTimeMs\":\"3706\",\"numDeletedRows\":\"1\",\"scanTimeMs\":\"2181\",\"numAddedFiles\":\"1\",\"numAddedBytes\":\"1536\",\"rewriteTimeMs\":\"1497\"},\"engineInfo\":\"Databricks-Runtime/12.2.x-scala2.12\",\"txnId\":\"d230331f-bbbc-4fa8-ba28-bda350392885\"}}\\n{\"remove\":{\"path\":\"part-00000-e173d0e8-84be-42d8-a991-462cae3e8f79-c000.snappy.parquet\",\"deletionTimestamp\":1724368115735,\"dataChange\":true,\"extendedFileMetadata\":true,\"partitionValues\":{},\"size\":1603,\"tags\":{\"INSERTION_TIME\":\"1724366801000000\",\"MIN_INSERTION_TIME\":\"1724366801000000\",\"MAX_INSERTION_TIME\":\"1724366801000000\",\"OPTIMIZE_TARGET_SIZE\":\"268435456\"}}}\\n{\"add\":{\"path\":\"part-00000-716d9358-849e-4cbb-b3a5-42f3b17865d0-c000.snappy.parquet\",\"partitionValues\":{},\"size\":1536,\"modificationTime\":1724368116000,\"dataChange\":true,\"stats\":\"{\\\\\"numRecords\\\\\":2,\\\\\"minValues\\\\\":{\\\\\"id\\\\\":18,\\\\\"name\\\\\":\\\\\"Victor Adams\\\\\",\\\\\"gender\\\\\":\\\\\"f\\\\\",\\\\\"salary\\\\\":220000,\\\\\"dept\\\\\":\\\\\"IT\\\\\"},\\\\\"maxValues\\\\\":{\\\\\"id\\\\\":19,\\\\\"name\\\\\":\\\\\"Wendy Scott\\\\\",\\\\\"gender\\\\\":\\\\\"m\\\\\",\\\\\"salary\\\\\":235000,\\\\\"dept\\\\\":\\\\\"Support\\\\\"},\\\\\"nullCount\\\\\":{\\\\\"id\\\\\":0,\\\\\"name\\\\\":0,\\\\\"gender\\\\\":0,\\\\\"salary\\\\\":0,\\\\\"dept\\\\\":0}}\",\"tags\":{\"MAX_INSERTION_TIME\":\"1724366801000000\",\"INSERTION_TIME\":\"1724366801000000\",\"MIN_INSERTION_TIME\":\"1724366801000000\",\"OPTIMIZE_TARGET_SIZE\":\"268435456\"}}}\\n'"
     ]
    }
   ],
   "source": [
    "dbutils.fs.head(\"dbfs:/FileStore/tables/delta/demo/_delta_log/00000000000000000006.json\")"
   ]
  },
  {
   "cell_type": "markdown",
   "metadata": {
    "application/vnd.databricks.v1+cell": {
     "cellMetadata": {},
     "inputWidgets": {},
     "nuid": "e2b57e4c-491b-4baf-ad8c-934c86e6a271",
     "showTitle": false,
     "title": ""
    }
   },
   "source": [
    "## Read data from table"
   ]
  },
  {
   "cell_type": "code",
   "execution_count": 0,
   "metadata": {
    "application/vnd.databricks.v1+cell": {
     "cellMetadata": {
      "byteLimit": 2048000,
      "rowLimit": 10000
     },
     "inputWidgets": {},
     "nuid": "81393195-1ec8-4a5d-96dc-af1b9924c8e4",
     "showTitle": false,
     "title": ""
    }
   },
   "outputs": [
    {
     "output_type": "display_data",
     "data": {
      "text/html": [
       "<style scoped>\n",
       "  .table-result-container {\n",
       "    max-height: 300px;\n",
       "    overflow: auto;\n",
       "  }\n",
       "  table, th, td {\n",
       "    border: 1px solid black;\n",
       "    border-collapse: collapse;\n",
       "  }\n",
       "  th, td {\n",
       "    padding: 5px;\n",
       "  }\n",
       "  th {\n",
       "    text-align: left;\n",
       "  }\n",
       "</style><div class='table-result-container'><table class='table-result'><thead style='background-color: white'><tr><th>id</th><th>name</th><th>gender</th><th>salary</th><th>dept</th></tr></thead><tbody><tr><td>1</td><td>Charlie Wood</td><td>m</td><td>250000</td><td>IT</td></tr><tr><td>2</td><td>Alice Johnson</td><td>f</td><td>180000</td><td>HR</td></tr><tr><td>3</td><td>Bob Smith</td><td>m</td><td>220000</td><td>IT</td></tr><tr><td>4</td><td>Diane Brown</td><td>f</td><td>200000</td><td>IT</td></tr><tr><td>5</td><td>Eve Davis</td><td>f</td><td>195000</td><td>HR</td></tr><tr><td>6</td><td>Frank Martin</td><td>m</td><td>240000</td><td>Support</td></tr><tr><td>7</td><td>Grace Lee</td><td>f</td><td>210000</td><td>IT</td></tr><tr><td>8</td><td>Henry Clark</td><td>m</td><td>230000</td><td>Sales</td></tr><tr><td>9</td><td>Irene Turner</td><td>f</td><td>175000</td><td>HR</td></tr><tr><td>10</td><td>Jack White</td><td>m</td><td>190000</td><td>IT</td></tr><tr><td>11</td><td>Marta Evans</td><td>f</td><td>205000</td><td>Marketing</td></tr><tr><td>12</td><td>Leonard Harris</td><td>m</td><td>215000</td><td>Finance</td></tr><tr><td>13</td><td>Nancy Hall</td><td>f</td><td>185000</td><td>Support</td></tr><tr><td>14</td><td>Robert Young</td><td>m</td><td>225000</td><td>Sales</td></tr><tr><td>15</td><td>Susan Moore</td><td>f</td><td>210000</td><td>Marketing</td></tr><tr><td>16</td><td>Tom Wright</td><td>m</td><td>230000</td><td>Finance</td></tr><tr><td>18</td><td>Victor Adams</td><td>m</td><td>235000</td><td>IT</td></tr><tr><td>19</td><td>Wendy Scott</td><td>f</td><td>220000</td><td>Support</td></tr><tr><td>17</td><td>Uma King</td><td>f</td><td>190000</td><td>HR</td></tr></tbody></table></div>"
      ]
     },
     "metadata": {
      "application/vnd.databricks.v1+output": {
       "addedWidgets": {},
       "aggData": [],
       "aggError": "",
       "aggOverflow": false,
       "aggSchema": [],
       "aggSeriesLimitReached": false,
       "aggType": "",
       "arguments": {},
       "columnCustomDisplayInfos": {},
       "data": [
        [
         1,
         "Charlie Wood",
         "m",
         250000,
         "IT"
        ],
        [
         2,
         "Alice Johnson",
         "f",
         180000,
         "HR"
        ],
        [
         3,
         "Bob Smith",
         "m",
         220000,
         "IT"
        ],
        [
         4,
         "Diane Brown",
         "f",
         200000,
         "IT"
        ],
        [
         5,
         "Eve Davis",
         "f",
         195000,
         "HR"
        ],
        [
         6,
         "Frank Martin",
         "m",
         240000,
         "Support"
        ],
        [
         7,
         "Grace Lee",
         "f",
         210000,
         "IT"
        ],
        [
         8,
         "Henry Clark",
         "m",
         230000,
         "Sales"
        ],
        [
         9,
         "Irene Turner",
         "f",
         175000,
         "HR"
        ],
        [
         10,
         "Jack White",
         "m",
         190000,
         "IT"
        ],
        [
         11,
         "Marta Evans",
         "f",
         205000,
         "Marketing"
        ],
        [
         12,
         "Leonard Harris",
         "m",
         215000,
         "Finance"
        ],
        [
         13,
         "Nancy Hall",
         "f",
         185000,
         "Support"
        ],
        [
         14,
         "Robert Young",
         "m",
         225000,
         "Sales"
        ],
        [
         15,
         "Susan Moore",
         "f",
         210000,
         "Marketing"
        ],
        [
         16,
         "Tom Wright",
         "m",
         230000,
         "Finance"
        ],
        [
         18,
         "Victor Adams",
         "m",
         235000,
         "IT"
        ],
        [
         19,
         "Wendy Scott",
         "f",
         220000,
         "Support"
        ],
        [
         17,
         "Uma King",
         "f",
         190000,
         "HR"
        ]
       ],
       "datasetInfos": [],
       "dbfsResultPath": null,
       "isJsonSchema": true,
       "metadata": {},
       "overflow": false,
       "plotOptions": {
        "customPlotOptions": {},
        "displayType": "table",
        "pivotAggregation": null,
        "pivotColumns": null,
        "xColumns": null,
        "yColumns": null
       },
       "removedWidgets": [],
       "schema": [
        {
         "metadata": "{}",
         "name": "id",
         "type": "\"integer\""
        },
        {
         "metadata": "{}",
         "name": "name",
         "type": "\"string\""
        },
        {
         "metadata": "{}",
         "name": "gender",
         "type": "\"string\""
        },
        {
         "metadata": "{}",
         "name": "salary",
         "type": "\"integer\""
        },
        {
         "metadata": "{}",
         "name": "dept",
         "type": "\"string\""
        }
       ],
       "type": "table"
      }
     },
     "output_type": "display_data"
    }
   ],
   "source": [
    "display(spark.read.format(\"delta\").load(\"dbfs:/FileStore/tables/delta/demo/\"))"
   ]
  },
  {
   "cell_type": "code",
   "execution_count": 0,
   "metadata": {
    "application/vnd.databricks.v1+cell": {
     "cellMetadata": {
      "byteLimit": 2048000,
      "implicitDf": true,
      "rowLimit": 10000
     },
     "inputWidgets": {},
     "nuid": "cf3c477c-b611-495e-9ba8-0c89f36dd592",
     "showTitle": false,
     "title": ""
    }
   },
   "outputs": [
    {
     "output_type": "display_data",
     "data": {
      "text/html": [
       "<style scoped>\n",
       "  .table-result-container {\n",
       "    max-height: 300px;\n",
       "    overflow: auto;\n",
       "  }\n",
       "  table, th, td {\n",
       "    border: 1px solid black;\n",
       "    border-collapse: collapse;\n",
       "  }\n",
       "  th, td {\n",
       "    padding: 5px;\n",
       "  }\n",
       "  th {\n",
       "    text-align: left;\n",
       "  }\n",
       "</style><div class='table-result-container'><table class='table-result'><thead style='background-color: white'><tr><th>id</th><th>name</th><th>gender</th><th>salary</th><th>dept</th></tr></thead><tbody><tr><td>1</td><td>Charlie Wood</td><td>m</td><td>250000</td><td>IT</td></tr><tr><td>2</td><td>Alice Johnson</td><td>f</td><td>180000</td><td>HR</td></tr><tr><td>3</td><td>Bob Smith</td><td>m</td><td>220000</td><td>IT</td></tr><tr><td>4</td><td>Diane Brown</td><td>f</td><td>200000</td><td>IT</td></tr><tr><td>5</td><td>Eve Davis</td><td>f</td><td>195000</td><td>HR</td></tr><tr><td>6</td><td>Frank Martin</td><td>m</td><td>240000</td><td>Support</td></tr><tr><td>7</td><td>Grace Lee</td><td>f</td><td>210000</td><td>IT</td></tr><tr><td>8</td><td>Henry Clark</td><td>m</td><td>230000</td><td>Sales</td></tr><tr><td>9</td><td>Irene Turner</td><td>f</td><td>175000</td><td>HR</td></tr><tr><td>10</td><td>Jack White</td><td>m</td><td>190000</td><td>IT</td></tr><tr><td>11</td><td>Marta Evans</td><td>f</td><td>205000</td><td>Marketing</td></tr><tr><td>12</td><td>Leonard Harris</td><td>m</td><td>215000</td><td>Finance</td></tr><tr><td>13</td><td>Nancy Hall</td><td>f</td><td>185000</td><td>Support</td></tr><tr><td>14</td><td>Robert Young</td><td>m</td><td>225000</td><td>Sales</td></tr><tr><td>15</td><td>Susan Moore</td><td>f</td><td>210000</td><td>Marketing</td></tr><tr><td>16</td><td>Tom Wright</td><td>m</td><td>230000</td><td>Finance</td></tr><tr><td>18</td><td>Victor Adams</td><td>m</td><td>235000</td><td>IT</td></tr><tr><td>19</td><td>Wendy Scott</td><td>f</td><td>220000</td><td>Support</td></tr><tr><td>20</td><td>Xavier Lee</td><td>m</td><td>245000</td><td>Sales</td></tr><tr><td>17</td><td>Uma King</td><td>f</td><td>190000</td><td>HR</td></tr></tbody></table></div>"
      ]
     },
     "metadata": {
      "application/vnd.databricks.v1+output": {
       "addedWidgets": {},
       "aggData": [],
       "aggError": "",
       "aggOverflow": false,
       "aggSchema": [],
       "aggSeriesLimitReached": false,
       "aggType": "",
       "arguments": {},
       "columnCustomDisplayInfos": {},
       "data": [
        [
         1,
         "Charlie Wood",
         "m",
         250000,
         "IT"
        ],
        [
         2,
         "Alice Johnson",
         "f",
         180000,
         "HR"
        ],
        [
         3,
         "Bob Smith",
         "m",
         220000,
         "IT"
        ],
        [
         4,
         "Diane Brown",
         "f",
         200000,
         "IT"
        ],
        [
         5,
         "Eve Davis",
         "f",
         195000,
         "HR"
        ],
        [
         6,
         "Frank Martin",
         "m",
         240000,
         "Support"
        ],
        [
         7,
         "Grace Lee",
         "f",
         210000,
         "IT"
        ],
        [
         8,
         "Henry Clark",
         "m",
         230000,
         "Sales"
        ],
        [
         9,
         "Irene Turner",
         "f",
         175000,
         "HR"
        ],
        [
         10,
         "Jack White",
         "m",
         190000,
         "IT"
        ],
        [
         11,
         "Marta Evans",
         "f",
         205000,
         "Marketing"
        ],
        [
         12,
         "Leonard Harris",
         "m",
         215000,
         "Finance"
        ],
        [
         13,
         "Nancy Hall",
         "f",
         185000,
         "Support"
        ],
        [
         14,
         "Robert Young",
         "m",
         225000,
         "Sales"
        ],
        [
         15,
         "Susan Moore",
         "f",
         210000,
         "Marketing"
        ],
        [
         16,
         "Tom Wright",
         "m",
         230000,
         "Finance"
        ],
        [
         18,
         "Victor Adams",
         "m",
         235000,
         "IT"
        ],
        [
         19,
         "Wendy Scott",
         "f",
         220000,
         "Support"
        ],
        [
         20,
         "Xavier Lee",
         "m",
         245000,
         "Sales"
        ],
        [
         17,
         "Uma King",
         "f",
         190000,
         "HR"
        ]
       ],
       "datasetInfos": [],
       "dbfsResultPath": null,
       "isJsonSchema": true,
       "metadata": {},
       "overflow": false,
       "plotOptions": {
        "customPlotOptions": {},
        "displayType": "table",
        "pivotAggregation": null,
        "pivotColumns": null,
        "xColumns": null,
        "yColumns": null
       },
       "removedWidgets": [],
       "schema": [
        {
         "metadata": "{}",
         "name": "id",
         "type": "\"integer\""
        },
        {
         "metadata": "{}",
         "name": "name",
         "type": "\"string\""
        },
        {
         "metadata": "{}",
         "name": "gender",
         "type": "\"string\""
        },
        {
         "metadata": "{}",
         "name": "salary",
         "type": "\"integer\""
        },
        {
         "metadata": "{}",
         "name": "dept",
         "type": "\"string\""
        }
       ],
       "type": "table"
      }
     },
     "output_type": "display_data"
    }
   ],
   "source": [
    "%sql\n",
    "\n",
    "SELECT * FROM delta_demo"
   ]
  },
  {
   "cell_type": "markdown",
   "metadata": {
    "application/vnd.databricks.v1+cell": {
     "cellMetadata": {},
     "inputWidgets": {},
     "nuid": "d90b064a-e62b-4e80-bee5-21691dae86a9",
     "showTitle": false,
     "title": ""
    }
   },
   "source": [
    "## Insert data into the table"
   ]
  },
  {
   "cell_type": "code",
   "execution_count": 0,
   "metadata": {
    "application/vnd.databricks.v1+cell": {
     "cellMetadata": {
      "byteLimit": 2048000,
      "implicitDf": true,
      "rowLimit": 10000
     },
     "inputWidgets": {},
     "nuid": "b3f92f2d-91d1-4583-b381-bcd8f2c8f4fc",
     "showTitle": false,
     "title": ""
    }
   },
   "outputs": [
    {
     "output_type": "display_data",
     "data": {
      "text/html": [
       "<style scoped>\n",
       "  .table-result-container {\n",
       "    max-height: 300px;\n",
       "    overflow: auto;\n",
       "  }\n",
       "  table, th, td {\n",
       "    border: 1px solid black;\n",
       "    border-collapse: collapse;\n",
       "  }\n",
       "  th, td {\n",
       "    padding: 5px;\n",
       "  }\n",
       "  th {\n",
       "    text-align: left;\n",
       "  }\n",
       "</style><div class='table-result-container'><table class='table-result'><thead style='background-color: white'><tr><th>num_affected_rows</th><th>num_inserted_rows</th></tr></thead><tbody><tr><td>10</td><td>10</td></tr></tbody></table></div>"
      ]
     },
     "metadata": {
      "application/vnd.databricks.v1+output": {
       "addedWidgets": {},
       "aggData": [],
       "aggError": "",
       "aggOverflow": false,
       "aggSchema": [],
       "aggSeriesLimitReached": false,
       "aggType": "",
       "arguments": {},
       "columnCustomDisplayInfos": {},
       "data": [
        [
         10,
         10
        ]
       ],
       "datasetInfos": [],
       "dbfsResultPath": null,
       "isJsonSchema": true,
       "metadata": {},
       "overflow": false,
       "plotOptions": {
        "customPlotOptions": {},
        "displayType": "table",
        "pivotAggregation": null,
        "pivotColumns": null,
        "xColumns": null,
        "yColumns": null
       },
       "removedWidgets": [],
       "schema": [
        {
         "metadata": "{}",
         "name": "num_affected_rows",
         "type": "\"long\""
        },
        {
         "metadata": "{}",
         "name": "num_inserted_rows",
         "type": "\"long\""
        }
       ],
       "type": "table"
      }
     },
     "output_type": "display_data"
    }
   ],
   "source": [
    "%sql\n",
    "\n",
    "INSERT INTO delta_demo (id, name, gender, salary, dept) VALUES\n",
    "(1, \"Charlie Wood\", \"m\", 250000, \"IT\"),\n",
    "(2, \"Alice Johnson\", \"f\", 180000, \"HR\"),\n",
    "(3, \"Bob Smith\", \"m\", 220000, \"IT\"),\n",
    "(4, \"Diane Brown\", \"f\", 200000, \"IT\"),\n",
    "(5, \"Eve Davis\", \"f\", 195000, \"HR\"),\n",
    "(6, \"Frank Martin\", \"m\", 240000, \"Support\"),\n",
    "(7, \"Grace Lee\", \"f\", 210000, \"IT\"),\n",
    "(8, \"Henry Clark\", \"m\", 230000, \"Sales\"),\n",
    "(9, \"Irene Turner\", \"f\", 175000, \"HR\"),\n",
    "(10, \"Jack White\", \"m\", 190000, \"IT\");"
   ]
  },
  {
   "cell_type": "code",
   "execution_count": 0,
   "metadata": {
    "application/vnd.databricks.v1+cell": {
     "cellMetadata": {
      "byteLimit": 2048000,
      "implicitDf": true,
      "rowLimit": 10000
     },
     "inputWidgets": {},
     "nuid": "9043b860-94f9-4723-a0c4-349c8eb8c3da",
     "showTitle": false,
     "title": ""
    }
   },
   "outputs": [
    {
     "output_type": "display_data",
     "data": {
      "text/html": [
       "<style scoped>\n",
       "  .table-result-container {\n",
       "    max-height: 300px;\n",
       "    overflow: auto;\n",
       "  }\n",
       "  table, th, td {\n",
       "    border: 1px solid black;\n",
       "    border-collapse: collapse;\n",
       "  }\n",
       "  th, td {\n",
       "    padding: 5px;\n",
       "  }\n",
       "  th {\n",
       "    text-align: left;\n",
       "  }\n",
       "</style><div class='table-result-container'><table class='table-result'><thead style='background-color: white'><tr><th>num_affected_rows</th><th>num_inserted_rows</th></tr></thead><tbody><tr><td>3</td><td>3</td></tr></tbody></table></div>"
      ]
     },
     "metadata": {
      "application/vnd.databricks.v1+output": {
       "addedWidgets": {},
       "aggData": [],
       "aggError": "",
       "aggOverflow": false,
       "aggSchema": [],
       "aggSeriesLimitReached": false,
       "aggType": "",
       "arguments": {},
       "columnCustomDisplayInfos": {},
       "data": [
        [
         3,
         3
        ]
       ],
       "datasetInfos": [],
       "dbfsResultPath": null,
       "isJsonSchema": true,
       "metadata": {},
       "overflow": false,
       "plotOptions": {
        "customPlotOptions": {},
        "displayType": "table",
        "pivotAggregation": null,
        "pivotColumns": null,
        "xColumns": null,
        "yColumns": null
       },
       "removedWidgets": [],
       "schema": [
        {
         "metadata": "{}",
         "name": "num_affected_rows",
         "type": "\"long\""
        },
        {
         "metadata": "{}",
         "name": "num_inserted_rows",
         "type": "\"long\""
        }
       ],
       "type": "table"
      }
     },
     "output_type": "display_data"
    }
   ],
   "source": [
    "%sql\n",
    "\n",
    "INSERT INTO delta_demo (id, name, gender, salary, dept) VALUES\n",
    "(11, \"Marta Evans\", \"f\", 205000, \"Marketing\"),\n",
    "(12, \"Leonard Harris\", \"m\", 215000, \"Finance\"),\n",
    "(13, \"Nancy Hall\", \"f\", 185000, \"Support\");"
   ]
  },
  {
   "cell_type": "code",
   "execution_count": 0,
   "metadata": {
    "application/vnd.databricks.v1+cell": {
     "cellMetadata": {
      "byteLimit": 2048000,
      "implicitDf": true,
      "rowLimit": 10000
     },
     "inputWidgets": {},
     "nuid": "b84c2c6f-0a37-495c-b752-b112d6043a8f",
     "showTitle": false,
     "title": ""
    }
   },
   "outputs": [
    {
     "output_type": "display_data",
     "data": {
      "text/html": [
       "<style scoped>\n",
       "  .table-result-container {\n",
       "    max-height: 300px;\n",
       "    overflow: auto;\n",
       "  }\n",
       "  table, th, td {\n",
       "    border: 1px solid black;\n",
       "    border-collapse: collapse;\n",
       "  }\n",
       "  th, td {\n",
       "    padding: 5px;\n",
       "  }\n",
       "  th {\n",
       "    text-align: left;\n",
       "  }\n",
       "</style><div class='table-result-container'><table class='table-result'><thead style='background-color: white'><tr><th>num_affected_rows</th><th>num_inserted_rows</th></tr></thead><tbody><tr><td>3</td><td>3</td></tr></tbody></table></div>"
      ]
     },
     "metadata": {
      "application/vnd.databricks.v1+output": {
       "addedWidgets": {},
       "aggData": [],
       "aggError": "",
       "aggOverflow": false,
       "aggSchema": [],
       "aggSeriesLimitReached": false,
       "aggType": "",
       "arguments": {},
       "columnCustomDisplayInfos": {},
       "data": [
        [
         3,
         3
        ]
       ],
       "datasetInfos": [],
       "dbfsResultPath": null,
       "isJsonSchema": true,
       "metadata": {},
       "overflow": false,
       "plotOptions": {
        "customPlotOptions": {},
        "displayType": "table",
        "pivotAggregation": null,
        "pivotColumns": null,
        "xColumns": null,
        "yColumns": null
       },
       "removedWidgets": [],
       "schema": [
        {
         "metadata": "{}",
         "name": "num_affected_rows",
         "type": "\"long\""
        },
        {
         "metadata": "{}",
         "name": "num_inserted_rows",
         "type": "\"long\""
        }
       ],
       "type": "table"
      }
     },
     "output_type": "display_data"
    }
   ],
   "source": [
    "%sql\n",
    "\n",
    "INSERT INTO delta_demo (id, name, gender, salary, dept) VALUES\n",
    "(14, \"Robert Young\", \"m\", 225000, \"Sales\"),\n",
    "(15, \"Susan Moore\", \"f\", 210000, \"Marketing\"),\n",
    "(16, \"Tom Wright\", \"m\", 230000, \"Finance\");"
   ]
  },
  {
   "cell_type": "code",
   "execution_count": 0,
   "metadata": {
    "application/vnd.databricks.v1+cell": {
     "cellMetadata": {
      "byteLimit": 2048000,
      "implicitDf": true,
      "rowLimit": 10000
     },
     "inputWidgets": {},
     "nuid": "3eef4229-f1b7-43b2-a06a-dc076f647221",
     "showTitle": false,
     "title": ""
    }
   },
   "outputs": [
    {
     "output_type": "display_data",
     "data": {
      "text/html": [
       "<style scoped>\n",
       "  .table-result-container {\n",
       "    max-height: 300px;\n",
       "    overflow: auto;\n",
       "  }\n",
       "  table, th, td {\n",
       "    border: 1px solid black;\n",
       "    border-collapse: collapse;\n",
       "  }\n",
       "  th, td {\n",
       "    padding: 5px;\n",
       "  }\n",
       "  th {\n",
       "    text-align: left;\n",
       "  }\n",
       "</style><div class='table-result-container'><table class='table-result'><thead style='background-color: white'><tr><th>num_affected_rows</th><th>num_inserted_rows</th></tr></thead><tbody><tr><td>1</td><td>1</td></tr></tbody></table></div>"
      ]
     },
     "metadata": {
      "application/vnd.databricks.v1+output": {
       "addedWidgets": {},
       "aggData": [],
       "aggError": "",
       "aggOverflow": false,
       "aggSchema": [],
       "aggSeriesLimitReached": false,
       "aggType": "",
       "arguments": {},
       "columnCustomDisplayInfos": {},
       "data": [
        [
         1,
         1
        ]
       ],
       "datasetInfos": [],
       "dbfsResultPath": null,
       "isJsonSchema": true,
       "metadata": {},
       "overflow": false,
       "plotOptions": {
        "customPlotOptions": {},
        "displayType": "table",
        "pivotAggregation": null,
        "pivotColumns": null,
        "xColumns": null,
        "yColumns": null
       },
       "removedWidgets": [],
       "schema": [
        {
         "metadata": "{}",
         "name": "num_affected_rows",
         "type": "\"long\""
        },
        {
         "metadata": "{}",
         "name": "num_inserted_rows",
         "type": "\"long\""
        }
       ],
       "type": "table"
      }
     },
     "output_type": "display_data"
    }
   ],
   "source": [
    "%sql\n",
    "\n",
    "INSERT INTO delta_demo (id, name, gender, salary, dept) VALUES\n",
    "(17, \"Uma King\", \"f\", 190000, \"HR\");"
   ]
  },
  {
   "cell_type": "code",
   "execution_count": 0,
   "metadata": {
    "application/vnd.databricks.v1+cell": {
     "cellMetadata": {
      "byteLimit": 2048000,
      "implicitDf": true,
      "rowLimit": 10000
     },
     "inputWidgets": {},
     "nuid": "b298d4e5-8b14-4e5c-8092-17e9f0171677",
     "showTitle": false,
     "title": ""
    }
   },
   "outputs": [
    {
     "output_type": "display_data",
     "data": {
      "text/html": [
       "<style scoped>\n",
       "  .table-result-container {\n",
       "    max-height: 300px;\n",
       "    overflow: auto;\n",
       "  }\n",
       "  table, th, td {\n",
       "    border: 1px solid black;\n",
       "    border-collapse: collapse;\n",
       "  }\n",
       "  th, td {\n",
       "    padding: 5px;\n",
       "  }\n",
       "  th {\n",
       "    text-align: left;\n",
       "  }\n",
       "</style><div class='table-result-container'><table class='table-result'><thead style='background-color: white'><tr><th>num_affected_rows</th><th>num_inserted_rows</th></tr></thead><tbody><tr><td>3</td><td>3</td></tr></tbody></table></div>"
      ]
     },
     "metadata": {
      "application/vnd.databricks.v1+output": {
       "addedWidgets": {},
       "aggData": [],
       "aggError": "",
       "aggOverflow": false,
       "aggSchema": [],
       "aggSeriesLimitReached": false,
       "aggType": "",
       "arguments": {},
       "columnCustomDisplayInfos": {},
       "data": [
        [
         3,
         3
        ]
       ],
       "datasetInfos": [],
       "dbfsResultPath": null,
       "isJsonSchema": true,
       "metadata": {},
       "overflow": false,
       "plotOptions": {
        "customPlotOptions": {},
        "displayType": "table",
        "pivotAggregation": null,
        "pivotColumns": null,
        "xColumns": null,
        "yColumns": null
       },
       "removedWidgets": [],
       "schema": [
        {
         "metadata": "{}",
         "name": "num_affected_rows",
         "type": "\"long\""
        },
        {
         "metadata": "{}",
         "name": "num_inserted_rows",
         "type": "\"long\""
        }
       ],
       "type": "table"
      }
     },
     "output_type": "display_data"
    }
   ],
   "source": [
    "%sql\n",
    "\n",
    "INSERT INTO delta_demo (id, name, gender, salary, dept) VALUES\n",
    "(18, \"Victor Adams\", \"m\", 235000, \"IT\"),\n",
    "(19, \"Wendy Scott\", \"f\", 220000, \"Support\"),\n",
    "(20, \"Xavier Lee\", \"m\", 245000, \"Sales\");"
   ]
  },
  {
   "cell_type": "markdown",
   "metadata": {
    "application/vnd.databricks.v1+cell": {
     "cellMetadata": {},
     "inputWidgets": {},
     "nuid": "f8113d6a-ae3b-4aa9-bbbb-85ab3685d98f",
     "showTitle": false,
     "title": ""
    }
   },
   "source": [
    "## Delete record"
   ]
  },
  {
   "cell_type": "code",
   "execution_count": 0,
   "metadata": {
    "application/vnd.databricks.v1+cell": {
     "cellMetadata": {
      "byteLimit": 2048000,
      "implicitDf": true,
      "rowLimit": 10000
     },
     "inputWidgets": {},
     "nuid": "9cec4876-a329-4ba4-9077-d9e1bcfb7f8e",
     "showTitle": false,
     "title": ""
    }
   },
   "outputs": [
    {
     "output_type": "display_data",
     "data": {
      "text/html": [
       "<style scoped>\n",
       "  .table-result-container {\n",
       "    max-height: 300px;\n",
       "    overflow: auto;\n",
       "  }\n",
       "  table, th, td {\n",
       "    border: 1px solid black;\n",
       "    border-collapse: collapse;\n",
       "  }\n",
       "  th, td {\n",
       "    padding: 5px;\n",
       "  }\n",
       "  th {\n",
       "    text-align: left;\n",
       "  }\n",
       "</style><div class='table-result-container'><table class='table-result'><thead style='background-color: white'><tr><th>num_affected_rows</th></tr></thead><tbody><tr><td>1</td></tr></tbody></table></div>"
      ]
     },
     "metadata": {
      "application/vnd.databricks.v1+output": {
       "addedWidgets": {},
       "aggData": [],
       "aggError": "",
       "aggOverflow": false,
       "aggSchema": [],
       "aggSeriesLimitReached": false,
       "aggType": "",
       "arguments": {},
       "columnCustomDisplayInfos": {},
       "data": [
        [
         1
        ]
       ],
       "datasetInfos": [],
       "dbfsResultPath": null,
       "isJsonSchema": true,
       "metadata": {},
       "overflow": false,
       "plotOptions": {
        "customPlotOptions": {},
        "displayType": "table",
        "pivotAggregation": null,
        "pivotColumns": null,
        "xColumns": null,
        "yColumns": null
       },
       "removedWidgets": [],
       "schema": [
        {
         "metadata": "{}",
         "name": "num_affected_rows",
         "type": "\"long\""
        }
       ],
       "type": "table"
      }
     },
     "output_type": "display_data"
    }
   ],
   "source": [
    "%sql\n",
    "\n",
    "DELETE FROM delta_demo WHERE id=20;"
   ]
  },
  {
   "cell_type": "code",
   "execution_count": 0,
   "metadata": {
    "application/vnd.databricks.v1+cell": {
     "cellMetadata": {
      "byteLimit": 2048000,
      "implicitDf": true,
      "rowLimit": 10000
     },
     "inputWidgets": {},
     "nuid": "ec17b960-c08c-4298-9eb7-183789ebaaef",
     "showTitle": false,
     "title": ""
    }
   },
   "outputs": [
    {
     "output_type": "display_data",
     "data": {
      "text/html": [
       "<style scoped>\n",
       "  .table-result-container {\n",
       "    max-height: 300px;\n",
       "    overflow: auto;\n",
       "  }\n",
       "  table, th, td {\n",
       "    border: 1px solid black;\n",
       "    border-collapse: collapse;\n",
       "  }\n",
       "  th, td {\n",
       "    padding: 5px;\n",
       "  }\n",
       "  th {\n",
       "    text-align: left;\n",
       "  }\n",
       "</style><div class='table-result-container'><table class='table-result'><thead style='background-color: white'><tr><th>id</th><th>name</th><th>gender</th><th>salary</th><th>dept</th></tr></thead><tbody><tr><td>1</td><td>Charlie Wood</td><td>m</td><td>250000</td><td>IT</td></tr><tr><td>2</td><td>Alice Johnson</td><td>f</td><td>180000</td><td>HR</td></tr><tr><td>3</td><td>Bob Smith</td><td>m</td><td>220000</td><td>IT</td></tr><tr><td>4</td><td>Diane Brown</td><td>f</td><td>200000</td><td>IT</td></tr><tr><td>5</td><td>Eve Davis</td><td>f</td><td>195000</td><td>HR</td></tr><tr><td>6</td><td>Frank Martin</td><td>m</td><td>240000</td><td>Support</td></tr><tr><td>7</td><td>Grace Lee</td><td>f</td><td>210000</td><td>IT</td></tr><tr><td>8</td><td>Henry Clark</td><td>m</td><td>230000</td><td>Sales</td></tr><tr><td>9</td><td>Irene Turner</td><td>f</td><td>175000</td><td>HR</td></tr><tr><td>10</td><td>Jack White</td><td>m</td><td>190000</td><td>IT</td></tr><tr><td>11</td><td>Marta Evans</td><td>f</td><td>205000</td><td>Marketing</td></tr><tr><td>12</td><td>Leonard Harris</td><td>m</td><td>215000</td><td>Finance</td></tr><tr><td>13</td><td>Nancy Hall</td><td>f</td><td>185000</td><td>Support</td></tr><tr><td>14</td><td>Robert Young</td><td>m</td><td>225000</td><td>Sales</td></tr><tr><td>15</td><td>Susan Moore</td><td>f</td><td>210000</td><td>Marketing</td></tr><tr><td>16</td><td>Tom Wright</td><td>m</td><td>230000</td><td>Finance</td></tr><tr><td>18</td><td>Victor Adams</td><td>m</td><td>235000</td><td>IT</td></tr><tr><td>19</td><td>Wendy Scott</td><td>f</td><td>220000</td><td>Support</td></tr><tr><td>17</td><td>Uma King</td><td>f</td><td>190000</td><td>HR</td></tr></tbody></table></div>"
      ]
     },
     "metadata": {
      "application/vnd.databricks.v1+output": {
       "addedWidgets": {},
       "aggData": [],
       "aggError": "",
       "aggOverflow": false,
       "aggSchema": [],
       "aggSeriesLimitReached": false,
       "aggType": "",
       "arguments": {},
       "columnCustomDisplayInfos": {},
       "data": [
        [
         1,
         "Charlie Wood",
         "m",
         250000,
         "IT"
        ],
        [
         2,
         "Alice Johnson",
         "f",
         180000,
         "HR"
        ],
        [
         3,
         "Bob Smith",
         "m",
         220000,
         "IT"
        ],
        [
         4,
         "Diane Brown",
         "f",
         200000,
         "IT"
        ],
        [
         5,
         "Eve Davis",
         "f",
         195000,
         "HR"
        ],
        [
         6,
         "Frank Martin",
         "m",
         240000,
         "Support"
        ],
        [
         7,
         "Grace Lee",
         "f",
         210000,
         "IT"
        ],
        [
         8,
         "Henry Clark",
         "m",
         230000,
         "Sales"
        ],
        [
         9,
         "Irene Turner",
         "f",
         175000,
         "HR"
        ],
        [
         10,
         "Jack White",
         "m",
         190000,
         "IT"
        ],
        [
         11,
         "Marta Evans",
         "f",
         205000,
         "Marketing"
        ],
        [
         12,
         "Leonard Harris",
         "m",
         215000,
         "Finance"
        ],
        [
         13,
         "Nancy Hall",
         "f",
         185000,
         "Support"
        ],
        [
         14,
         "Robert Young",
         "m",
         225000,
         "Sales"
        ],
        [
         15,
         "Susan Moore",
         "f",
         210000,
         "Marketing"
        ],
        [
         16,
         "Tom Wright",
         "m",
         230000,
         "Finance"
        ],
        [
         18,
         "Victor Adams",
         "m",
         235000,
         "IT"
        ],
        [
         19,
         "Wendy Scott",
         "f",
         220000,
         "Support"
        ],
        [
         17,
         "Uma King",
         "f",
         190000,
         "HR"
        ]
       ],
       "datasetInfos": [],
       "dbfsResultPath": null,
       "isJsonSchema": true,
       "metadata": {},
       "overflow": false,
       "plotOptions": {
        "customPlotOptions": {},
        "displayType": "table",
        "pivotAggregation": null,
        "pivotColumns": null,
        "xColumns": null,
        "yColumns": null
       },
       "removedWidgets": [],
       "schema": [
        {
         "metadata": "{}",
         "name": "id",
         "type": "\"integer\""
        },
        {
         "metadata": "{}",
         "name": "name",
         "type": "\"string\""
        },
        {
         "metadata": "{}",
         "name": "gender",
         "type": "\"string\""
        },
        {
         "metadata": "{}",
         "name": "salary",
         "type": "\"integer\""
        },
        {
         "metadata": "{}",
         "name": "dept",
         "type": "\"string\""
        }
       ],
       "type": "table"
      }
     },
     "output_type": "display_data"
    }
   ],
   "source": [
    "%sql\n",
    "\n",
    "SELECT * FROM delta_demo"
   ]
  },
  {
   "cell_type": "markdown",
   "metadata": {
    "application/vnd.databricks.v1+cell": {
     "cellMetadata": {},
     "inputWidgets": {},
     "nuid": "a1d8123b-2661-4a4a-971d-8525dc73280e",
     "showTitle": false,
     "title": ""
    }
   },
   "source": [
    "## Parquet files"
   ]
  },
  {
   "cell_type": "code",
   "execution_count": 0,
   "metadata": {
    "application/vnd.databricks.v1+cell": {
     "cellMetadata": {
      "byteLimit": 2048000,
      "rowLimit": 10000
     },
     "inputWidgets": {},
     "nuid": "98a0a1d7-83e7-4616-b614-85d45ea34550",
     "showTitle": false,
     "title": ""
    }
   },
   "outputs": [
    {
     "output_type": "stream",
     "name": "stdout",
     "output_type": "stream",
     "text": [
      "Out[68]: [FileInfo(path='dbfs:/FileStore/tables/delta/demo/_delta_log/', name='_delta_log/', size=0, modificationTime=0),\n FileInfo(path='dbfs:/FileStore/tables/delta/demo/part-00000-12a7ba5d-e268-4016-8e92-22c2e32c959d-c000.snappy.parquet', name='part-00000-12a7ba5d-e268-4016-8e92-22c2e32c959d-c000.snappy.parquet', size=1619, modificationTime=1724366792000),\n FileInfo(path='dbfs:/FileStore/tables/delta/demo/part-00000-2cfb560d-2ce2-4bff-bbfa-8c5243815ca2-c000.snappy.parquet', name='part-00000-2cfb560d-2ce2-4bff-bbfa-8c5243815ca2-c000.snappy.parquet', size=1504, modificationTime=1724366797000),\n FileInfo(path='dbfs:/FileStore/tables/delta/demo/part-00000-6ac50672-7f22-4ebc-8a79-70d1d6c1cd02-c000.snappy.parquet', name='part-00000-6ac50672-7f22-4ebc-8a79-70d1d6c1cd02-c000.snappy.parquet', size=1546, modificationTime=1724368827000),\n FileInfo(path='dbfs:/FileStore/tables/delta/demo/part-00000-716d9358-849e-4cbb-b3a5-42f3b17865d0-c000.snappy.parquet', name='part-00000-716d9358-849e-4cbb-b3a5-42f3b17865d0-c000.snappy.parquet', size=1536, modificationTime=1724368116000),\n FileInfo(path='dbfs:/FileStore/tables/delta/demo/part-00000-744e932a-0119-4790-9ca8-09ac7cebf866-c000.snappy.parquet', name='part-00000-744e932a-0119-4790-9ca8-09ac7cebf866-c000.snappy.parquet', size=1553, modificationTime=1724368832000),\n FileInfo(path='dbfs:/FileStore/tables/delta/demo/part-00000-7aff10f2-fa7b-45a7-823b-180d3a4902e0-c000.snappy.parquet', name='part-00000-7aff10f2-fa7b-45a7-823b-180d3a4902e0-c000.snappy.parquet', size=1632, modificationTime=1724366785000),\n FileInfo(path='dbfs:/FileStore/tables/delta/demo/part-00000-b62a12ab-27f7-4347-b6c4-bd9c209277a6-c000.snappy.parquet', name='part-00000-b62a12ab-27f7-4347-b6c4-bd9c209277a6-c000.snappy.parquet', size=1532, modificationTime=1724368835000),\n FileInfo(path='dbfs:/FileStore/tables/delta/demo/part-00000-e173d0e8-84be-42d8-a991-462cae3e8f79-c000.snappy.parquet', name='part-00000-e173d0e8-84be-42d8-a991-462cae3e8f79-c000.snappy.parquet', size=1603, modificationTime=1724366801000),\n FileInfo(path='dbfs:/FileStore/tables/delta/demo/part-00000-e2b4d272-d57a-4660-b6e3-cce454f057f7-c000.snappy.parquet', name='part-00000-e2b4d272-d57a-4660-b6e3-cce454f057f7-c000.snappy.parquet', size=1820, modificationTime=1724366393000)]"
     ]
    }
   ],
   "source": [
    "dbutils.fs.ls(\"dbfs:/FileStore/tables/delta/demo/\")"
   ]
  },
  {
   "cell_type": "code",
   "execution_count": 0,
   "metadata": {
    "application/vnd.databricks.v1+cell": {
     "cellMetadata": {
      "byteLimit": 2048000,
      "rowLimit": 10000
     },
     "inputWidgets": {},
     "nuid": "b3cdaa6d-ccaf-4bb8-99ea-ff7e31ada979",
     "showTitle": false,
     "title": ""
    }
   },
   "outputs": [
    {
     "output_type": "display_data",
     "data": {
      "text/html": [
       "<style scoped>\n",
       "  .table-result-container {\n",
       "    max-height: 300px;\n",
       "    overflow: auto;\n",
       "  }\n",
       "  table, th, td {\n",
       "    border: 1px solid black;\n",
       "    border-collapse: collapse;\n",
       "  }\n",
       "  th, td {\n",
       "    padding: 5px;\n",
       "  }\n",
       "  th {\n",
       "    text-align: left;\n",
       "  }\n",
       "</style><div class='table-result-container'><table class='table-result'><thead style='background-color: white'><tr><th>id</th><th>name</th><th>gender</th><th>salary</th><th>dept</th></tr></thead><tbody><tr><td>23</td><td>Marian Smith</td><td>f</td><td>665200</td><td>HR</td></tr></tbody></table></div>"
      ]
     },
     "metadata": {
      "application/vnd.databricks.v1+output": {
       "addedWidgets": {},
       "aggData": [],
       "aggError": "",
       "aggOverflow": false,
       "aggSchema": [],
       "aggSeriesLimitReached": false,
       "aggType": "",
       "arguments": {},
       "columnCustomDisplayInfos": {},
       "data": [
        [
         23,
         "Marian Smith",
         "f",
         665200,
         "HR"
        ]
       ],
       "datasetInfos": [],
       "dbfsResultPath": null,
       "isJsonSchema": true,
       "metadata": {},
       "overflow": false,
       "plotOptions": {
        "customPlotOptions": {},
        "displayType": "table",
        "pivotAggregation": null,
        "pivotColumns": null,
        "xColumns": null,
        "yColumns": null
       },
       "removedWidgets": [],
       "schema": [
        {
         "metadata": "{}",
         "name": "id",
         "type": "\"integer\""
        },
        {
         "metadata": "{}",
         "name": "name",
         "type": "\"string\""
        },
        {
         "metadata": "{}",
         "name": "gender",
         "type": "\"string\""
        },
        {
         "metadata": "{}",
         "name": "salary",
         "type": "\"integer\""
        },
        {
         "metadata": "{}",
         "name": "dept",
         "type": "\"string\""
        }
       ],
       "type": "table"
      }
     },
     "output_type": "display_data"
    }
   ],
   "source": [
    "spark.conf.set(\"spark.databricks.delta.formatCheck.enabled\", \"false\")\n",
    "display(spark.read.format(\"parquet\").load(\"dbfs:/FileStore/tables/delta/demo/part-00000-b62a12ab-27f7-4347-b6c4-bd9c209277a6-c000.snappy.parquet\"))"
   ]
  },
  {
   "cell_type": "markdown",
   "metadata": {
    "application/vnd.databricks.v1+cell": {
     "cellMetadata": {},
     "inputWidgets": {},
     "nuid": "452b1d0e-cc9f-4dc8-a817-fdd27308f4e0",
     "showTitle": false,
     "title": ""
    }
   },
   "source": [
    "## Checkpoint"
   ]
  },
  {
   "cell_type": "code",
   "execution_count": 0,
   "metadata": {
    "application/vnd.databricks.v1+cell": {
     "cellMetadata": {
      "byteLimit": 2048000,
      "implicitDf": true,
      "rowLimit": 10000
     },
     "inputWidgets": {},
     "nuid": "7ab5070c-154b-4bb2-a766-d8a79171d0e0",
     "showTitle": false,
     "title": ""
    }
   },
   "outputs": [
    {
     "output_type": "display_data",
     "data": {
      "text/html": [
       "<style scoped>\n",
       "  .table-result-container {\n",
       "    max-height: 300px;\n",
       "    overflow: auto;\n",
       "  }\n",
       "  table, th, td {\n",
       "    border: 1px solid black;\n",
       "    border-collapse: collapse;\n",
       "  }\n",
       "  th, td {\n",
       "    padding: 5px;\n",
       "  }\n",
       "  th {\n",
       "    text-align: left;\n",
       "  }\n",
       "</style><div class='table-result-container'><table class='table-result'><thead style='background-color: white'><tr><th>num_affected_rows</th><th>num_inserted_rows</th></tr></thead><tbody><tr><td>1</td><td>1</td></tr></tbody></table></div>"
      ]
     },
     "metadata": {
      "application/vnd.databricks.v1+output": {
       "addedWidgets": {},
       "aggData": [],
       "aggError": "",
       "aggOverflow": false,
       "aggSchema": [],
       "aggSeriesLimitReached": false,
       "aggType": "",
       "arguments": {},
       "columnCustomDisplayInfos": {},
       "data": [
        [
         1,
         1
        ]
       ],
       "datasetInfos": [],
       "dbfsResultPath": null,
       "isJsonSchema": true,
       "metadata": {},
       "overflow": false,
       "plotOptions": {
        "customPlotOptions": {},
        "displayType": "table",
        "pivotAggregation": null,
        "pivotColumns": null,
        "xColumns": null,
        "yColumns": null
       },
       "removedWidgets": [],
       "schema": [
        {
         "metadata": "{}",
         "name": "num_affected_rows",
         "type": "\"long\""
        },
        {
         "metadata": "{}",
         "name": "num_inserted_rows",
         "type": "\"long\""
        }
       ],
       "type": "table"
      }
     },
     "output_type": "display_data"
    }
   ],
   "source": [
    "%sql\n",
    "INSERT INTO delta_demo (id, name, gender, salary, dept) VALUES\n",
    "(21, \"Victor West\", \"m\", 3333000, \"Sales\");\n",
    "\n",
    "INSERT INTO delta_demo (id, name, gender, salary, dept) VALUES\n",
    "(22, \"Milan Sigh\", \"m\", 4738022, \"Support\");\n",
    "\n",
    "INSERT INTO delta_demo (id, name, gender, salary, dept) VALUES\n",
    "(23, \"Marian Smith\", \"f\", 665200, \"HR\");"
   ]
  },
  {
   "cell_type": "code",
   "execution_count": 0,
   "metadata": {
    "application/vnd.databricks.v1+cell": {
     "cellMetadata": {
      "byteLimit": 2048000,
      "implicitDf": true,
      "rowLimit": 10000
     },
     "inputWidgets": {},
     "nuid": "288e1b7f-7f7f-4e5f-982a-2a6a29b6deae",
     "showTitle": false,
     "title": ""
    }
   },
   "outputs": [
    {
     "output_type": "display_data",
     "data": {
      "text/html": [
       "<style scoped>\n",
       "  .table-result-container {\n",
       "    max-height: 300px;\n",
       "    overflow: auto;\n",
       "  }\n",
       "  table, th, td {\n",
       "    border: 1px solid black;\n",
       "    border-collapse: collapse;\n",
       "  }\n",
       "  th, td {\n",
       "    padding: 5px;\n",
       "  }\n",
       "  th {\n",
       "    text-align: left;\n",
       "  }\n",
       "</style><div class='table-result-container'><table class='table-result'><thead style='background-color: white'><tr><th>num_affected_rows</th></tr></thead><tbody><tr><td>3</td></tr></tbody></table></div>"
      ]
     },
     "metadata": {
      "application/vnd.databricks.v1+output": {
       "addedWidgets": {},
       "aggData": [],
       "aggError": "",
       "aggOverflow": false,
       "aggSchema": [],
       "aggSeriesLimitReached": false,
       "aggType": "",
       "arguments": {},
       "columnCustomDisplayInfos": {},
       "data": [
        [
         3
        ]
       ],
       "datasetInfos": [],
       "dbfsResultPath": null,
       "isJsonSchema": true,
       "metadata": {},
       "overflow": false,
       "plotOptions": {
        "customPlotOptions": {},
        "displayType": "table",
        "pivotAggregation": null,
        "pivotColumns": null,
        "xColumns": null,
        "yColumns": null
       },
       "removedWidgets": [],
       "schema": [
        {
         "metadata": "{}",
         "name": "num_affected_rows",
         "type": "\"long\""
        }
       ],
       "type": "table"
      }
     },
     "output_type": "display_data"
    }
   ],
   "source": [
    "%sql\n",
    "\n",
    "DELETE FROM delta_demo WHERE id>20;"
   ]
  },
  {
   "cell_type": "code",
   "execution_count": 0,
   "metadata": {
    "application/vnd.databricks.v1+cell": {
     "cellMetadata": {
      "byteLimit": 2048000,
      "rowLimit": 10000
     },
     "inputWidgets": {},
     "nuid": "0e727a4b-eb64-485b-a6a7-fa4ee925415b",
     "showTitle": false,
     "title": ""
    }
   },
   "outputs": [
    {
     "output_type": "stream",
     "name": "stdout",
     "output_type": "stream",
     "text": [
      "Out[65]: [FileInfo(path='dbfs:/FileStore/tables/delta/demo/_delta_log/.s3-optimization-0', name='.s3-optimization-0', size=0, modificationTime=1724365801000),\n FileInfo(path='dbfs:/FileStore/tables/delta/demo/_delta_log/.s3-optimization-1', name='.s3-optimization-1', size=0, modificationTime=1724365801000),\n FileInfo(path='dbfs:/FileStore/tables/delta/demo/_delta_log/.s3-optimization-2', name='.s3-optimization-2', size=0, modificationTime=1724365801000),\n FileInfo(path='dbfs:/FileStore/tables/delta/demo/_delta_log/00000000000000000000.crc', name='00000000000000000000.crc', size=2206, modificationTime=1724365830000),\n FileInfo(path='dbfs:/FileStore/tables/delta/demo/_delta_log/00000000000000000000.json', name='00000000000000000000.json', size=1228, modificationTime=1724365802000),\n FileInfo(path='dbfs:/FileStore/tables/delta/demo/_delta_log/00000000000000000001.crc', name='00000000000000000001.crc', size=2847, modificationTime=1724366399000),\n FileInfo(path='dbfs:/FileStore/tables/delta/demo/_delta_log/00000000000000000001.json', name='00000000000000000001.json', size=1173, modificationTime=1724366394000),\n FileInfo(path='dbfs:/FileStore/tables/delta/demo/_delta_log/00000000000000000002.crc', name='00000000000000000002.crc', size=3489, modificationTime=1724366791000),\n FileInfo(path='dbfs:/FileStore/tables/delta/demo/_delta_log/00000000000000000002.json', name='00000000000000000002.json', size=1178, modificationTime=1724366786000),\n FileInfo(path='dbfs:/FileStore/tables/delta/demo/_delta_log/00000000000000000003.crc', name='00000000000000000003.crc', size=4127, modificationTime=1724366796000),\n FileInfo(path='dbfs:/FileStore/tables/delta/demo/_delta_log/00000000000000000003.json', name='00000000000000000003.json', size=1174, modificationTime=1724366793000),\n FileInfo(path='dbfs:/FileStore/tables/delta/demo/_delta_log/00000000000000000004.crc', name='00000000000000000004.crc', size=4751, modificationTime=1724366800000),\n FileInfo(path='dbfs:/FileStore/tables/delta/demo/_delta_log/00000000000000000004.json', name='00000000000000000004.json', size=1160, modificationTime=1724366797000),\n FileInfo(path='dbfs:/FileStore/tables/delta/demo/_delta_log/00000000000000000005.crc', name='00000000000000000005.crc', size=5386, modificationTime=1724366804000),\n FileInfo(path='dbfs:/FileStore/tables/delta/demo/_delta_log/00000000000000000005.json', name='00000000000000000005.json', size=1171, modificationTime=1724366801000),\n FileInfo(path='dbfs:/FileStore/tables/delta/demo/_delta_log/00000000000000000006.crc', name='00000000000000000006.crc', size=5387, modificationTime=1724368120000),\n FileInfo(path='dbfs:/FileStore/tables/delta/demo/_delta_log/00000000000000000006.json', name='00000000000000000006.json', size=1765, modificationTime=1724368116000),\n FileInfo(path='dbfs:/FileStore/tables/delta/demo/_delta_log/00000000000000000007.crc', name='00000000000000000007.crc', size=6025, modificationTime=1724368831000),\n FileInfo(path='dbfs:/FileStore/tables/delta/demo/_delta_log/00000000000000000007.json', name='00000000000000000007.json', size=1174, modificationTime=1724368827000),\n FileInfo(path='dbfs:/FileStore/tables/delta/demo/_delta_log/00000000000000000008.crc', name='00000000000000000008.crc', size=6667, modificationTime=1724368834000),\n FileInfo(path='dbfs:/FileStore/tables/delta/demo/_delta_log/00000000000000000008.json', name='00000000000000000008.json', size=1176, modificationTime=1724368832000),\n FileInfo(path='dbfs:/FileStore/tables/delta/demo/_delta_log/00000000000000000009.crc', name='00000000000000000009.crc', size=7299, modificationTime=1724368839000),\n FileInfo(path='dbfs:/FileStore/tables/delta/demo/_delta_log/00000000000000000009.json', name='00000000000000000009.json', size=1168, modificationTime=1724368835000),\n FileInfo(path='dbfs:/FileStore/tables/delta/demo/_delta_log/00000000000000000010.checkpoint.parquet', name='00000000000000000010.checkpoint.parquet', size=22888, modificationTime=1724368853000),\n FileInfo(path='dbfs:/FileStore/tables/delta/demo/_delta_log/00000000000000000010.crc', name='00000000000000000010.crc', size=5387, modificationTime=1724368852000),\n FileInfo(path='dbfs:/FileStore/tables/delta/demo/_delta_log/00000000000000000010.json', name='00000000000000000010.json', size=1845, modificationTime=1724368849000),\n FileInfo(path='dbfs:/FileStore/tables/delta/demo/_delta_log/_last_checkpoint', name='_last_checkpoint', size=5639, modificationTime=1724368854000)]"
     ]
    }
   ],
   "source": [
    "dbutils.fs.ls(\"dbfs:/FileStore/tables/delta/demo/_delta_log/\")"
   ]
  },
  {
   "cell_type": "code",
   "execution_count": 0,
   "metadata": {
    "application/vnd.databricks.v1+cell": {
     "cellMetadata": {
      "byteLimit": 2048000,
      "rowLimit": 10000
     },
     "inputWidgets": {},
     "nuid": "bcbbf5ea-b1ee-42f2-ade2-65a356bb92d2",
     "showTitle": false,
     "title": ""
    }
   },
   "outputs": [
    {
     "output_type": "display_data",
     "data": {
      "text/html": [
       "<style scoped>\n",
       "  .table-result-container {\n",
       "    max-height: 300px;\n",
       "    overflow: auto;\n",
       "  }\n",
       "  table, th, td {\n",
       "    border: 1px solid black;\n",
       "    border-collapse: collapse;\n",
       "  }\n",
       "  th, td {\n",
       "    padding: 5px;\n",
       "  }\n",
       "  th {\n",
       "    text-align: left;\n",
       "  }\n",
       "</style><div class='table-result-container'><table class='table-result'><thead style='background-color: white'><tr><th>txn</th><th>add</th><th>remove</th><th>metaData</th><th>protocol</th><th>rowIdHighWaterMark</th></tr></thead><tbody><tr><td>null</td><td>null</td><td>null</td><td>null</td><td>List(1, 2, null, null)</td><td>null</td></tr><tr><td>null</td><td>null</td><td>null</td><td>List(28e17eef-4097-4262-9106-612a721e87e8, null, null, List(parquet, Map()), {\"type\":\"struct\",\"fields\":[{\"name\":\"id\",\"type\":\"integer\",\"nullable\":true,\"metadata\":{}},{\"name\":\"name\",\"type\":\"string\",\"nullable\":true,\"metadata\":{}},{\"name\":\"gender\",\"type\":\"string\",\"nullable\":true,\"metadata\":{}},{\"name\":\"salary\",\"type\":\"integer\",\"nullable\":true,\"metadata\":{}},{\"name\":\"dept\",\"type\":\"string\",\"nullable\":true,\"metadata\":{}}]}, List(), Map(description -> delta table), 1724365798452)</td><td>null</td><td>null</td></tr><tr><td>null</td><td>List(part-00000-12a7ba5d-e268-4016-8e92-22c2e32c959d-c000.snappy.parquet, Map(), 1619, 1724366792000, false, Map(INSERTION_TIME -> 1724366792000000, MIN_INSERTION_TIME -> 1724366792000000, MAX_INSERTION_TIME -> 1724366792000000, OPTIMIZE_TARGET_SIZE -> 268435456), null, null, {\"numRecords\":3,\"minValues\":{\"id\":14,\"name\":\"Robert Young\",\"gender\":\"f\",\"salary\":210000,\"dept\":\"Finance\"},\"maxValues\":{\"id\":16,\"name\":\"Tom Wright\",\"gender\":\"m\",\"salary\":230000,\"dept\":\"Sales\"},\"nullCount\":{\"id\":0,\"name\":0,\"gender\":0,\"salary\":0,\"dept\":0}}, List(3, List(14, Robert Young, f, 210000, Finance), List(16, Tom Wright, m, 230000, Sales), List(0, 0, 0, 0, 0)))</td><td>null</td><td>null</td><td>null</td><td>null</td></tr><tr><td>null</td><td>List(part-00000-2cfb560d-2ce2-4bff-bbfa-8c5243815ca2-c000.snappy.parquet, Map(), 1504, 1724366797000, false, Map(INSERTION_TIME -> 1724366797000000, MIN_INSERTION_TIME -> 1724366797000000, MAX_INSERTION_TIME -> 1724366797000000, OPTIMIZE_TARGET_SIZE -> 268435456), null, null, {\"numRecords\":1,\"minValues\":{\"id\":17,\"name\":\"Uma King\",\"gender\":\"f\",\"salary\":190000,\"dept\":\"HR\"},\"maxValues\":{\"id\":17,\"name\":\"Uma King\",\"gender\":\"f\",\"salary\":190000,\"dept\":\"HR\"},\"nullCount\":{\"id\":0,\"name\":0,\"gender\":0,\"salary\":0,\"dept\":0}}, List(1, List(17, Uma King, f, 190000, HR), List(17, Uma King, f, 190000, HR), List(0, 0, 0, 0, 0)))</td><td>null</td><td>null</td><td>null</td><td>null</td></tr><tr><td>null</td><td>null</td><td>List(part-00000-6ac50672-7f22-4ebc-8a79-70d1d6c1cd02-c000.snappy.parquet, 1724368848752, false, true, Map(), 1546, null, null)</td><td>null</td><td>null</td><td>null</td></tr><tr><td>null</td><td>List(part-00000-716d9358-849e-4cbb-b3a5-42f3b17865d0-c000.snappy.parquet, Map(), 1536, 1724368116000, false, Map(MAX_INSERTION_TIME -> 1724366801000000, INSERTION_TIME -> 1724366801000000, MIN_INSERTION_TIME -> 1724366801000000, OPTIMIZE_TARGET_SIZE -> 268435456), null, null, {\"numRecords\":2,\"minValues\":{\"id\":18,\"name\":\"Victor Adams\",\"gender\":\"f\",\"salary\":220000,\"dept\":\"IT\"},\"maxValues\":{\"id\":19,\"name\":\"Wendy Scott\",\"gender\":\"m\",\"salary\":235000,\"dept\":\"Support\"},\"nullCount\":{\"id\":0,\"name\":0,\"gender\":0,\"salary\":0,\"dept\":0}}, List(2, List(18, Victor Adams, f, 220000, IT), List(19, Wendy Scott, m, 235000, Support), List(0, 0, 0, 0, 0)))</td><td>null</td><td>null</td><td>null</td><td>null</td></tr><tr><td>null</td><td>null</td><td>List(part-00000-744e932a-0119-4790-9ca8-09ac7cebf866-c000.snappy.parquet, 1724368848752, false, true, Map(), 1553, null, null)</td><td>null</td><td>null</td><td>null</td></tr><tr><td>null</td><td>List(part-00000-7aff10f2-fa7b-45a7-823b-180d3a4902e0-c000.snappy.parquet, Map(), 1632, 1724366785000, false, Map(INSERTION_TIME -> 1724366785000000, MIN_INSERTION_TIME -> 1724366785000000, MAX_INSERTION_TIME -> 1724366785000000, OPTIMIZE_TARGET_SIZE -> 268435456), null, null, {\"numRecords\":3,\"minValues\":{\"id\":11,\"name\":\"Leonard Harris\",\"gender\":\"f\",\"salary\":185000,\"dept\":\"Finance\"},\"maxValues\":{\"id\":13,\"name\":\"Nancy Hall\",\"gender\":\"m\",\"salary\":215000,\"dept\":\"Support\"},\"nullCount\":{\"id\":0,\"name\":0,\"gender\":0,\"salary\":0,\"dept\":0}}, List(3, List(11, Leonard Harris, f, 185000, Finance), List(13, Nancy Hall, m, 215000, Support), List(0, 0, 0, 0, 0)))</td><td>null</td><td>null</td><td>null</td><td>null</td></tr><tr><td>null</td><td>null</td><td>List(part-00000-b62a12ab-27f7-4347-b6c4-bd9c209277a6-c000.snappy.parquet, 1724368848752, false, true, Map(), 1532, null, null)</td><td>null</td><td>null</td><td>null</td></tr><tr><td>null</td><td>null</td><td>List(part-00000-e173d0e8-84be-42d8-a991-462cae3e8f79-c000.snappy.parquet, 1724368115735, false, true, Map(), 1603, null, null)</td><td>null</td><td>null</td><td>null</td></tr><tr><td>null</td><td>List(part-00000-e2b4d272-d57a-4660-b6e3-cce454f057f7-c000.snappy.parquet, Map(), 1820, 1724366393000, false, Map(INSERTION_TIME -> 1724366393000000, MIN_INSERTION_TIME -> 1724366393000000, MAX_INSERTION_TIME -> 1724366393000000, OPTIMIZE_TARGET_SIZE -> 268435456), null, null, {\"numRecords\":10,\"minValues\":{\"id\":1,\"name\":\"Alice Johnson\",\"gender\":\"f\",\"salary\":175000,\"dept\":\"HR\"},\"maxValues\":{\"id\":10,\"name\":\"Jack White\",\"gender\":\"m\",\"salary\":250000,\"dept\":\"Support\"},\"nullCount\":{\"id\":0,\"name\":0,\"gender\":0,\"salary\":0,\"dept\":0}}, List(10, List(1, Alice Johnson, f, 175000, HR), List(10, Jack White, m, 250000, Support), List(0, 0, 0, 0, 0)))</td><td>null</td><td>null</td><td>null</td><td>null</td></tr></tbody></table></div>"
      ]
     },
     "metadata": {
      "application/vnd.databricks.v1+output": {
       "addedWidgets": {},
       "aggData": [],
       "aggError": "",
       "aggOverflow": false,
       "aggSchema": [],
       "aggSeriesLimitReached": false,
       "aggType": "",
       "arguments": {},
       "columnCustomDisplayInfos": {},
       "data": [
        [
         null,
         null,
         null,
         null,
         [
          1,
          2,
          null,
          null
         ],
         null
        ],
        [
         null,
         null,
         null,
         [
          "28e17eef-4097-4262-9106-612a721e87e8",
          null,
          null,
          [
           "parquet",
           {}
          ],
          "{\"type\":\"struct\",\"fields\":[{\"name\":\"id\",\"type\":\"integer\",\"nullable\":true,\"metadata\":{}},{\"name\":\"name\",\"type\":\"string\",\"nullable\":true,\"metadata\":{}},{\"name\":\"gender\",\"type\":\"string\",\"nullable\":true,\"metadata\":{}},{\"name\":\"salary\",\"type\":\"integer\",\"nullable\":true,\"metadata\":{}},{\"name\":\"dept\",\"type\":\"string\",\"nullable\":true,\"metadata\":{}}]}",
          [],
          {
           "description": "delta table"
          },
          1724365798452
         ],
         null,
         null
        ],
        [
         null,
         [
          "part-00000-12a7ba5d-e268-4016-8e92-22c2e32c959d-c000.snappy.parquet",
          {},
          1619,
          1724366792000,
          false,
          {
           "INSERTION_TIME": "1724366792000000",
           "MAX_INSERTION_TIME": "1724366792000000",
           "MIN_INSERTION_TIME": "1724366792000000",
           "OPTIMIZE_TARGET_SIZE": "268435456"
          },
          null,
          null,
          "{\"numRecords\":3,\"minValues\":{\"id\":14,\"name\":\"Robert Young\",\"gender\":\"f\",\"salary\":210000,\"dept\":\"Finance\"},\"maxValues\":{\"id\":16,\"name\":\"Tom Wright\",\"gender\":\"m\",\"salary\":230000,\"dept\":\"Sales\"},\"nullCount\":{\"id\":0,\"name\":0,\"gender\":0,\"salary\":0,\"dept\":0}}",
          [
           3,
           [
            14,
            "Robert Young",
            "f",
            210000,
            "Finance"
           ],
           [
            16,
            "Tom Wright",
            "m",
            230000,
            "Sales"
           ],
           [
            0,
            0,
            0,
            0,
            0
           ]
          ]
         ],
         null,
         null,
         null,
         null
        ],
        [
         null,
         [
          "part-00000-2cfb560d-2ce2-4bff-bbfa-8c5243815ca2-c000.snappy.parquet",
          {},
          1504,
          1724366797000,
          false,
          {
           "INSERTION_TIME": "1724366797000000",
           "MAX_INSERTION_TIME": "1724366797000000",
           "MIN_INSERTION_TIME": "1724366797000000",
           "OPTIMIZE_TARGET_SIZE": "268435456"
          },
          null,
          null,
          "{\"numRecords\":1,\"minValues\":{\"id\":17,\"name\":\"Uma King\",\"gender\":\"f\",\"salary\":190000,\"dept\":\"HR\"},\"maxValues\":{\"id\":17,\"name\":\"Uma King\",\"gender\":\"f\",\"salary\":190000,\"dept\":\"HR\"},\"nullCount\":{\"id\":0,\"name\":0,\"gender\":0,\"salary\":0,\"dept\":0}}",
          [
           1,
           [
            17,
            "Uma King",
            "f",
            190000,
            "HR"
           ],
           [
            17,
            "Uma King",
            "f",
            190000,
            "HR"
           ],
           [
            0,
            0,
            0,
            0,
            0
           ]
          ]
         ],
         null,
         null,
         null,
         null
        ],
        [
         null,
         null,
         [
          "part-00000-6ac50672-7f22-4ebc-8a79-70d1d6c1cd02-c000.snappy.parquet",
          1724368848752,
          false,
          true,
          {},
          1546,
          null,
          null
         ],
         null,
         null,
         null
        ],
        [
         null,
         [
          "part-00000-716d9358-849e-4cbb-b3a5-42f3b17865d0-c000.snappy.parquet",
          {},
          1536,
          1724368116000,
          false,
          {
           "INSERTION_TIME": "1724366801000000",
           "MAX_INSERTION_TIME": "1724366801000000",
           "MIN_INSERTION_TIME": "1724366801000000",
           "OPTIMIZE_TARGET_SIZE": "268435456"
          },
          null,
          null,
          "{\"numRecords\":2,\"minValues\":{\"id\":18,\"name\":\"Victor Adams\",\"gender\":\"f\",\"salary\":220000,\"dept\":\"IT\"},\"maxValues\":{\"id\":19,\"name\":\"Wendy Scott\",\"gender\":\"m\",\"salary\":235000,\"dept\":\"Support\"},\"nullCount\":{\"id\":0,\"name\":0,\"gender\":0,\"salary\":0,\"dept\":0}}",
          [
           2,
           [
            18,
            "Victor Adams",
            "f",
            220000,
            "IT"
           ],
           [
            19,
            "Wendy Scott",
            "m",
            235000,
            "Support"
           ],
           [
            0,
            0,
            0,
            0,
            0
           ]
          ]
         ],
         null,
         null,
         null,
         null
        ],
        [
         null,
         null,
         [
          "part-00000-744e932a-0119-4790-9ca8-09ac7cebf866-c000.snappy.parquet",
          1724368848752,
          false,
          true,
          {},
          1553,
          null,
          null
         ],
         null,
         null,
         null
        ],
        [
         null,
         [
          "part-00000-7aff10f2-fa7b-45a7-823b-180d3a4902e0-c000.snappy.parquet",
          {},
          1632,
          1724366785000,
          false,
          {
           "INSERTION_TIME": "1724366785000000",
           "MAX_INSERTION_TIME": "1724366785000000",
           "MIN_INSERTION_TIME": "1724366785000000",
           "OPTIMIZE_TARGET_SIZE": "268435456"
          },
          null,
          null,
          "{\"numRecords\":3,\"minValues\":{\"id\":11,\"name\":\"Leonard Harris\",\"gender\":\"f\",\"salary\":185000,\"dept\":\"Finance\"},\"maxValues\":{\"id\":13,\"name\":\"Nancy Hall\",\"gender\":\"m\",\"salary\":215000,\"dept\":\"Support\"},\"nullCount\":{\"id\":0,\"name\":0,\"gender\":0,\"salary\":0,\"dept\":0}}",
          [
           3,
           [
            11,
            "Leonard Harris",
            "f",
            185000,
            "Finance"
           ],
           [
            13,
            "Nancy Hall",
            "m",
            215000,
            "Support"
           ],
           [
            0,
            0,
            0,
            0,
            0
           ]
          ]
         ],
         null,
         null,
         null,
         null
        ],
        [
         null,
         null,
         [
          "part-00000-b62a12ab-27f7-4347-b6c4-bd9c209277a6-c000.snappy.parquet",
          1724368848752,
          false,
          true,
          {},
          1532,
          null,
          null
         ],
         null,
         null,
         null
        ],
        [
         null,
         null,
         [
          "part-00000-e173d0e8-84be-42d8-a991-462cae3e8f79-c000.snappy.parquet",
          1724368115735,
          false,
          true,
          {},
          1603,
          null,
          null
         ],
         null,
         null,
         null
        ],
        [
         null,
         [
          "part-00000-e2b4d272-d57a-4660-b6e3-cce454f057f7-c000.snappy.parquet",
          {},
          1820,
          1724366393000,
          false,
          {
           "INSERTION_TIME": "1724366393000000",
           "MAX_INSERTION_TIME": "1724366393000000",
           "MIN_INSERTION_TIME": "1724366393000000",
           "OPTIMIZE_TARGET_SIZE": "268435456"
          },
          null,
          null,
          "{\"numRecords\":10,\"minValues\":{\"id\":1,\"name\":\"Alice Johnson\",\"gender\":\"f\",\"salary\":175000,\"dept\":\"HR\"},\"maxValues\":{\"id\":10,\"name\":\"Jack White\",\"gender\":\"m\",\"salary\":250000,\"dept\":\"Support\"},\"nullCount\":{\"id\":0,\"name\":0,\"gender\":0,\"salary\":0,\"dept\":0}}",
          [
           10,
           [
            1,
            "Alice Johnson",
            "f",
            175000,
            "HR"
           ],
           [
            10,
            "Jack White",
            "m",
            250000,
            "Support"
           ],
           [
            0,
            0,
            0,
            0,
            0
           ]
          ]
         ],
         null,
         null,
         null,
         null
        ]
       ],
       "datasetInfos": [],
       "dbfsResultPath": null,
       "isJsonSchema": true,
       "metadata": {},
       "overflow": false,
       "plotOptions": {
        "customPlotOptions": {},
        "displayType": "table",
        "pivotAggregation": null,
        "pivotColumns": null,
        "xColumns": null,
        "yColumns": null
       },
       "removedWidgets": [],
       "schema": [
        {
         "metadata": "{}",
         "name": "txn",
         "type": "{\"type\":\"struct\",\"fields\":[{\"name\":\"appId\",\"type\":\"string\",\"nullable\":true,\"metadata\":{}},{\"name\":\"version\",\"type\":\"long\",\"nullable\":true,\"metadata\":{}},{\"name\":\"lastUpdated\",\"type\":\"long\",\"nullable\":true,\"metadata\":{}}]}"
        },
        {
         "metadata": "{}",
         "name": "add",
         "type": "{\"type\":\"struct\",\"fields\":[{\"name\":\"path\",\"type\":\"string\",\"nullable\":true,\"metadata\":{}},{\"name\":\"partitionValues\",\"type\":{\"type\":\"map\",\"keyType\":\"string\",\"valueType\":\"string\",\"valueContainsNull\":true},\"nullable\":true,\"metadata\":{}},{\"name\":\"size\",\"type\":\"long\",\"nullable\":true,\"metadata\":{}},{\"name\":\"modificationTime\",\"type\":\"long\",\"nullable\":true,\"metadata\":{}},{\"name\":\"dataChange\",\"type\":\"boolean\",\"nullable\":true,\"metadata\":{}},{\"name\":\"tags\",\"type\":{\"type\":\"map\",\"keyType\":\"string\",\"valueType\":\"string\",\"valueContainsNull\":true},\"nullable\":true,\"metadata\":{}},{\"name\":\"deletionVector\",\"type\":{\"type\":\"struct\",\"fields\":[{\"name\":\"storageType\",\"type\":\"string\",\"nullable\":true,\"metadata\":{}},{\"name\":\"pathOrInlineDv\",\"type\":\"string\",\"nullable\":true,\"metadata\":{}},{\"name\":\"offset\",\"type\":\"integer\",\"nullable\":true,\"metadata\":{}},{\"name\":\"sizeInBytes\",\"type\":\"integer\",\"nullable\":true,\"metadata\":{}},{\"name\":\"cardinality\",\"type\":\"long\",\"nullable\":true,\"metadata\":{}}]},\"nullable\":true,\"metadata\":{}},{\"name\":\"baseRowId\",\"type\":\"long\",\"nullable\":true,\"metadata\":{}},{\"name\":\"stats\",\"type\":\"string\",\"nullable\":true,\"metadata\":{}},{\"name\":\"stats_parsed\",\"type\":{\"type\":\"struct\",\"fields\":[{\"name\":\"numRecords\",\"type\":\"long\",\"nullable\":true,\"metadata\":{}},{\"name\":\"minValues\",\"type\":{\"type\":\"struct\",\"fields\":[{\"name\":\"id\",\"type\":\"integer\",\"nullable\":true,\"metadata\":{}},{\"name\":\"name\",\"type\":\"string\",\"nullable\":true,\"metadata\":{}},{\"name\":\"gender\",\"type\":\"string\",\"nullable\":true,\"metadata\":{}},{\"name\":\"salary\",\"type\":\"integer\",\"nullable\":true,\"metadata\":{}},{\"name\":\"dept\",\"type\":\"string\",\"nullable\":true,\"metadata\":{}}]},\"nullable\":true,\"metadata\":{}},{\"name\":\"maxValues\",\"type\":{\"type\":\"struct\",\"fields\":[{\"name\":\"id\",\"type\":\"integer\",\"nullable\":true,\"metadata\":{}},{\"name\":\"name\",\"type\":\"string\",\"nullable\":true,\"metadata\":{}},{\"name\":\"gender\",\"type\":\"string\",\"nullable\":true,\"metadata\":{}},{\"name\":\"salary\",\"type\":\"integer\",\"nullable\":true,\"metadata\":{}},{\"name\":\"dept\",\"type\":\"string\",\"nullable\":true,\"metadata\":{}}]},\"nullable\":true,\"metadata\":{}},{\"name\":\"nullCount\",\"type\":{\"type\":\"struct\",\"fields\":[{\"name\":\"id\",\"type\":\"long\",\"nullable\":true,\"metadata\":{}},{\"name\":\"name\",\"type\":\"long\",\"nullable\":true,\"metadata\":{}},{\"name\":\"gender\",\"type\":\"long\",\"nullable\":true,\"metadata\":{}},{\"name\":\"salary\",\"type\":\"long\",\"nullable\":true,\"metadata\":{}},{\"name\":\"dept\",\"type\":\"long\",\"nullable\":true,\"metadata\":{}}]},\"nullable\":true,\"metadata\":{}}]},\"nullable\":true,\"metadata\":{}}]}"
        },
        {
         "metadata": "{}",
         "name": "remove",
         "type": "{\"type\":\"struct\",\"fields\":[{\"name\":\"path\",\"type\":\"string\",\"nullable\":true,\"metadata\":{}},{\"name\":\"deletionTimestamp\",\"type\":\"long\",\"nullable\":true,\"metadata\":{}},{\"name\":\"dataChange\",\"type\":\"boolean\",\"nullable\":true,\"metadata\":{}},{\"name\":\"extendedFileMetadata\",\"type\":\"boolean\",\"nullable\":true,\"metadata\":{}},{\"name\":\"partitionValues\",\"type\":{\"type\":\"map\",\"keyType\":\"string\",\"valueType\":\"string\",\"valueContainsNull\":true},\"nullable\":true,\"metadata\":{}},{\"name\":\"size\",\"type\":\"long\",\"nullable\":true,\"metadata\":{}},{\"name\":\"deletionVector\",\"type\":{\"type\":\"struct\",\"fields\":[{\"name\":\"storageType\",\"type\":\"string\",\"nullable\":true,\"metadata\":{}},{\"name\":\"pathOrInlineDv\",\"type\":\"string\",\"nullable\":true,\"metadata\":{}},{\"name\":\"offset\",\"type\":\"integer\",\"nullable\":true,\"metadata\":{}},{\"name\":\"sizeInBytes\",\"type\":\"integer\",\"nullable\":true,\"metadata\":{}},{\"name\":\"cardinality\",\"type\":\"long\",\"nullable\":true,\"metadata\":{}}]},\"nullable\":true,\"metadata\":{}},{\"name\":\"baseRowId\",\"type\":\"long\",\"nullable\":true,\"metadata\":{}}]}"
        },
        {
         "metadata": "{}",
         "name": "metaData",
         "type": "{\"type\":\"struct\",\"fields\":[{\"name\":\"id\",\"type\":\"string\",\"nullable\":true,\"metadata\":{}},{\"name\":\"name\",\"type\":\"string\",\"nullable\":true,\"metadata\":{}},{\"name\":\"description\",\"type\":\"string\",\"nullable\":true,\"metadata\":{}},{\"name\":\"format\",\"type\":{\"type\":\"struct\",\"fields\":[{\"name\":\"provider\",\"type\":\"string\",\"nullable\":true,\"metadata\":{}},{\"name\":\"options\",\"type\":{\"type\":\"map\",\"keyType\":\"string\",\"valueType\":\"string\",\"valueContainsNull\":true},\"nullable\":true,\"metadata\":{}}]},\"nullable\":true,\"metadata\":{}},{\"name\":\"schemaString\",\"type\":\"string\",\"nullable\":true,\"metadata\":{}},{\"name\":\"partitionColumns\",\"type\":{\"type\":\"array\",\"elementType\":\"string\",\"containsNull\":true},\"nullable\":true,\"metadata\":{}},{\"name\":\"configuration\",\"type\":{\"type\":\"map\",\"keyType\":\"string\",\"valueType\":\"string\",\"valueContainsNull\":true},\"nullable\":true,\"metadata\":{}},{\"name\":\"createdTime\",\"type\":\"long\",\"nullable\":true,\"metadata\":{}}]}"
        },
        {
         "metadata": "{}",
         "name": "protocol",
         "type": "{\"type\":\"struct\",\"fields\":[{\"name\":\"minReaderVersion\",\"type\":\"integer\",\"nullable\":true,\"metadata\":{}},{\"name\":\"minWriterVersion\",\"type\":\"integer\",\"nullable\":true,\"metadata\":{}},{\"name\":\"readerFeatures\",\"type\":{\"type\":\"array\",\"elementType\":\"string\",\"containsNull\":true},\"nullable\":true,\"metadata\":{}},{\"name\":\"writerFeatures\",\"type\":{\"type\":\"array\",\"elementType\":\"string\",\"containsNull\":true},\"nullable\":true,\"metadata\":{}}]}"
        },
        {
         "metadata": "{}",
         "name": "rowIdHighWaterMark",
         "type": "{\"type\":\"struct\",\"fields\":[{\"name\":\"value\",\"type\":\"long\",\"nullable\":true,\"metadata\":{}}]}"
        }
       ],
       "type": "table"
      }
     },
     "output_type": "display_data"
    }
   ],
   "source": [
    "display(spark.read.format(\"parquet\").load(\"dbfs:/FileStore/tables/delta/demo/_delta_log/00000000000000000010.checkpoint.parquet\"))"
   ]
  },
  {
   "cell_type": "markdown",
   "metadata": {
    "application/vnd.databricks.v1+cell": {
     "cellMetadata": {},
     "inputWidgets": {},
     "nuid": "7567c399-e1fb-4125-a184-713870f9a41c",
     "showTitle": false,
     "title": ""
    }
   },
   "source": [
    "#CREATE DELTA TABLE"
   ]
  },
  {
   "cell_type": "markdown",
   "metadata": {
    "application/vnd.databricks.v1+cell": {
     "cellMetadata": {},
     "inputWidgets": {},
     "nuid": "9b97deee-c759-4a73-8752-2353da22a566",
     "showTitle": false,
     "title": ""
    }
   },
   "source": [
    "## PySpark"
   ]
  },
  {
   "cell_type": "code",
   "execution_count": 0,
   "metadata": {
    "application/vnd.databricks.v1+cell": {
     "cellMetadata": {
      "byteLimit": 2048000,
      "rowLimit": 10000
     },
     "inputWidgets": {},
     "nuid": "211af7dd-4ee1-4d8d-bbe3-4750dffb21bf",
     "showTitle": false,
     "title": ""
    }
   },
   "outputs": [],
   "source": [
    "from delta.tables import *"
   ]
  },
  {
   "cell_type": "markdown",
   "metadata": {
    "application/vnd.databricks.v1+cell": {
     "cellMetadata": {},
     "inputWidgets": {},
     "nuid": "71ca4988-75a9-448d-a642-9f06a1aee771",
     "showTitle": false,
     "title": ""
    }
   },
   "source": [
    "Options:\n",
    "\n",
    "```\n",
    "DeltaTable.create\n",
    "\n",
    "DeltaTable.createIfNotExist\n",
    "\n",
    "DeltaTable.createOrReplace\n",
    "```"
   ]
  },
  {
   "cell_type": "code",
   "execution_count": 0,
   "metadata": {
    "application/vnd.databricks.v1+cell": {
     "cellMetadata": {
      "byteLimit": 2048000,
      "rowLimit": 10000
     },
     "inputWidgets": {},
     "nuid": "d8c55653-a24b-4a52-bd99-4bc8c4b83e19",
     "showTitle": false,
     "title": ""
    }
   },
   "outputs": [
    {
     "output_type": "stream",
     "name": "stdout",
     "output_type": "stream",
     "text": [
      "Out[17]: <delta.tables.DeltaTable at 0x7f287c455520>"
     ]
    }
   ],
   "source": [
    "DeltaTable.createOrReplace(spark) \\\n",
    "    .tableName(\"delta_table_spark\") \\\n",
    "    .addColumn(\"id\",\"INT\") \\\n",
    "    .addColumn(\"name\",\"STRING\") \\\n",
    "    .addColumn(\"gender\",\"STRING\") \\\n",
    "    .addColumn(\"salary\",\"INT\") \\\n",
    "    .addColumn(\"dept\",\"STRING\") \\\n",
    "    .property(\"description\",\"delta table create with pyspark\") \\\n",
    "    .location(\"dbfs:/FileStore/tables/delta/spark\") \\\n",
    "    .execute()"
   ]
  },
  {
   "cell_type": "markdown",
   "metadata": {
    "application/vnd.databricks.v1+cell": {
     "cellMetadata": {},
     "inputWidgets": {},
     "nuid": "a2a9d6b9-5d02-48b0-b681-8c5083ef985b",
     "showTitle": false,
     "title": ""
    }
   },
   "source": [
    "## SQL"
   ]
  },
  {
   "cell_type": "markdown",
   "metadata": {
    "application/vnd.databricks.v1+cell": {
     "cellMetadata": {},
     "inputWidgets": {},
     "nuid": "dbe44b49-7b70-4839-9ccf-313aff4bb3be",
     "showTitle": false,
     "title": ""
    }
   },
   "source": [
    "Options:\n",
    "\n",
    "```\n",
    "CREATE TABLE\n",
    "\n",
    "CREATE TABLE IF NOT EXIST \n",
    "\n",
    "CREATE OR REPLACE\n",
    "```"
   ]
  },
  {
   "cell_type": "code",
   "execution_count": 0,
   "metadata": {
    "application/vnd.databricks.v1+cell": {
     "cellMetadata": {
      "byteLimit": 2048000,
      "implicitDf": true,
      "rowLimit": 10000
     },
     "inputWidgets": {},
     "nuid": "ac12fbfd-8716-4ad3-8a87-e5f789878eff",
     "showTitle": false,
     "title": ""
    }
   },
   "outputs": [
    {
     "output_type": "display_data",
     "data": {
      "text/html": [
       "<style scoped>\n",
       "  .table-result-container {\n",
       "    max-height: 300px;\n",
       "    overflow: auto;\n",
       "  }\n",
       "  table, th, td {\n",
       "    border: 1px solid black;\n",
       "    border-collapse: collapse;\n",
       "  }\n",
       "  th, td {\n",
       "    padding: 5px;\n",
       "  }\n",
       "  th {\n",
       "    text-align: left;\n",
       "  }\n",
       "</style><div class='table-result-container'><table class='table-result'><thead style='background-color: white'><tr></tr></thead><tbody></tbody></table></div>"
      ]
     },
     "metadata": {
      "application/vnd.databricks.v1+output": {
       "addedWidgets": {},
       "aggData": [],
       "aggError": "",
       "aggOverflow": false,
       "aggSchema": [],
       "aggSeriesLimitReached": false,
       "aggType": "",
       "arguments": {},
       "columnCustomDisplayInfos": {},
       "data": [],
       "datasetInfos": [],
       "dbfsResultPath": null,
       "isJsonSchema": true,
       "metadata": {},
       "overflow": false,
       "plotOptions": {
        "customPlotOptions": {},
        "displayType": "table",
        "pivotAggregation": null,
        "pivotColumns": null,
        "xColumns": null,
        "yColumns": null
       },
       "removedWidgets": [],
       "schema": [],
       "type": "table"
      }
     },
     "output_type": "display_data"
    }
   ],
   "source": [
    "%sql\n",
    "CREATE OR REPLACE TABLE delta_table_sql (\n",
    "  id INT,\n",
    "  name STRING,\n",
    "  gender STRING,\n",
    "  salary integer,\n",
    "  dept STRING\n",
    ") USING DELTA\n",
    "LOCATION 'dbfs:/FileStore/tables/delta/sql';"
   ]
  },
  {
   "cell_type": "markdown",
   "metadata": {
    "application/vnd.databricks.v1+cell": {
     "cellMetadata": {},
     "inputWidgets": {},
     "nuid": "866fb310-53e7-4c52-826c-8a18328a92b3",
     "showTitle": false,
     "title": ""
    }
   },
   "source": [
    "## Using Dataframe as source"
   ]
  },
  {
   "cell_type": "code",
   "execution_count": 0,
   "metadata": {
    "application/vnd.databricks.v1+cell": {
     "cellMetadata": {
      "byteLimit": 2048000,
      "rowLimit": 10000
     },
     "inputWidgets": {},
     "nuid": "5354495a-1999-4728-86b8-b52ab6acc834",
     "showTitle": false,
     "title": ""
    }
   },
   "outputs": [],
   "source": [
    "data_employee = [\n",
    "    (1, \"Charlie Wood\", \"2023-01-20\", True, 250000),\n",
    "    (2, \"Alice Johnson\", \"2021-03-15\", True, 180000),\n",
    "    (3, \"Bob Smith\", \"2019-06-12\", False, 220000),\n",
    "    (4, \"Diane Brown\", \"2022-11-05\", True, 200000),\n",
    "    (5, \"Eve Davis\", \"2020-08-30\", False, 195000),\n",
    "    (6, \"Frank Martin\", \"2018-12-22\", True, 240000),\n",
    "    (7, \"Grace Lee\", \"2023-02-10\", True, 210000),\n",
    "    (8, \"Henry Clark\", \"2022-05-17\", True, 230000),\n",
    "    (9, \"Irene Turner\", \"2017-09-25\", False, 175000),\n",
    "    (10, \"Jack White\", \"2021-07-13\", True, 190000)\n",
    "]\n",
    "\n",
    "schema_employee = [\"id\",\"name\",\"date_of_join\",\"active\",\"salary\"]"
   ]
  },
  {
   "cell_type": "code",
   "execution_count": 0,
   "metadata": {
    "application/vnd.databricks.v1+cell": {
     "cellMetadata": {
      "byteLimit": 2048000,
      "rowLimit": 10000
     },
     "inputWidgets": {},
     "nuid": "46efc195-cdd5-48b9-a528-7287a5d9266e",
     "showTitle": false,
     "title": ""
    }
   },
   "outputs": [],
   "source": [
    "df_employee = spark.createDataFrame(data=data_employee,schema=schema_employee)"
   ]
  },
  {
   "cell_type": "code",
   "execution_count": 0,
   "metadata": {
    "application/vnd.databricks.v1+cell": {
     "cellMetadata": {
      "byteLimit": 2048000,
      "rowLimit": 10000
     },
     "inputWidgets": {},
     "nuid": "0e8108b3-1a93-41bb-bfb0-84935fb7a0ee",
     "showTitle": false,
     "title": ""
    }
   },
   "outputs": [
    {
     "output_type": "stream",
     "name": "stdout",
     "output_type": "stream",
     "text": [
      "+---+-------------+------------+------+------+\n| id|         name|date_of_join|active|salary|\n+---+-------------+------------+------+------+\n|  1| Charlie Wood|  2023-01-20|  true|250000|\n|  2|Alice Johnson|  2021-03-15|  true|180000|\n|  3|    Bob Smith|  2019-06-12| false|220000|\n|  4|  Diane Brown|  2022-11-05|  true|200000|\n|  5|    Eve Davis|  2020-08-30| false|195000|\n|  6| Frank Martin|  2018-12-22|  true|240000|\n|  7|    Grace Lee|  2023-02-10|  true|210000|\n|  8|  Henry Clark|  2022-05-17|  true|230000|\n|  9| Irene Turner|  2017-09-25| false|175000|\n| 10|   Jack White|  2021-07-13|  true|190000|\n+---+-------------+------------+------+------+\n\n"
     ]
    }
   ],
   "source": [
    "df_employee.show()"
   ]
  },
  {
   "cell_type": "code",
   "execution_count": 0,
   "metadata": {
    "application/vnd.databricks.v1+cell": {
     "cellMetadata": {
      "byteLimit": 2048000,
      "rowLimit": 10000
     },
     "inputWidgets": {},
     "nuid": "17617a42-da98-4e85-91b8-e80a85ce0c60",
     "showTitle": false,
     "title": ""
    }
   },
   "outputs": [],
   "source": [
    "df_employee.write.format(\"delta\").mode(\"overwrite\").saveAsTable(\"delta_table_dataframe\")"
   ]
  },
  {
   "cell_type": "code",
   "execution_count": 0,
   "metadata": {
    "application/vnd.databricks.v1+cell": {
     "cellMetadata": {
      "byteLimit": 2048000,
      "implicitDf": true,
      "rowLimit": 10000
     },
     "inputWidgets": {},
     "nuid": "844f099f-277f-4da2-98d5-480f82a7ce9c",
     "showTitle": false,
     "title": ""
    }
   },
   "outputs": [
    {
     "output_type": "display_data",
     "data": {
      "text/html": [
       "<style scoped>\n",
       "  .table-result-container {\n",
       "    max-height: 300px;\n",
       "    overflow: auto;\n",
       "  }\n",
       "  table, th, td {\n",
       "    border: 1px solid black;\n",
       "    border-collapse: collapse;\n",
       "  }\n",
       "  th, td {\n",
       "    padding: 5px;\n",
       "  }\n",
       "  th {\n",
       "    text-align: left;\n",
       "  }\n",
       "</style><div class='table-result-container'><table class='table-result'><thead style='background-color: white'><tr><th>id</th><th>name</th><th>date_of_join</th><th>active</th><th>salary</th></tr></thead><tbody><tr><td>2</td><td>Alice Johnson</td><td>2021-03-15</td><td>true</td><td>180000</td></tr><tr><td>1</td><td>Charlie Wood</td><td>2023-01-20</td><td>true</td><td>250000</td></tr><tr><td>6</td><td>Frank Martin</td><td>2018-12-22</td><td>true</td><td>240000</td></tr><tr><td>8</td><td>Henry Clark</td><td>2022-05-17</td><td>true</td><td>230000</td></tr><tr><td>9</td><td>Irene Turner</td><td>2017-09-25</td><td>false</td><td>175000</td></tr><tr><td>10</td><td>Jack White</td><td>2021-07-13</td><td>true</td><td>190000</td></tr><tr><td>4</td><td>Diane Brown</td><td>2022-11-05</td><td>true</td><td>200000</td></tr><tr><td>5</td><td>Eve Davis</td><td>2020-08-30</td><td>false</td><td>195000</td></tr><tr><td>3</td><td>Bob Smith</td><td>2019-06-12</td><td>false</td><td>220000</td></tr><tr><td>7</td><td>Grace Lee</td><td>2023-02-10</td><td>true</td><td>210000</td></tr></tbody></table></div>"
      ]
     },
     "metadata": {
      "application/vnd.databricks.v1+output": {
       "addedWidgets": {},
       "aggData": [],
       "aggError": "",
       "aggOverflow": false,
       "aggSchema": [],
       "aggSeriesLimitReached": false,
       "aggType": "",
       "arguments": {},
       "columnCustomDisplayInfos": {},
       "data": [
        [
         2,
         "Alice Johnson",
         "2021-03-15",
         true,
         180000
        ],
        [
         1,
         "Charlie Wood",
         "2023-01-20",
         true,
         250000
        ],
        [
         6,
         "Frank Martin",
         "2018-12-22",
         true,
         240000
        ],
        [
         8,
         "Henry Clark",
         "2022-05-17",
         true,
         230000
        ],
        [
         9,
         "Irene Turner",
         "2017-09-25",
         false,
         175000
        ],
        [
         10,
         "Jack White",
         "2021-07-13",
         true,
         190000
        ],
        [
         4,
         "Diane Brown",
         "2022-11-05",
         true,
         200000
        ],
        [
         5,
         "Eve Davis",
         "2020-08-30",
         false,
         195000
        ],
        [
         3,
         "Bob Smith",
         "2019-06-12",
         false,
         220000
        ],
        [
         7,
         "Grace Lee",
         "2023-02-10",
         true,
         210000
        ]
       ],
       "datasetInfos": [],
       "dbfsResultPath": null,
       "isJsonSchema": true,
       "metadata": {},
       "overflow": false,
       "plotOptions": {
        "customPlotOptions": {},
        "displayType": "table",
        "pivotAggregation": null,
        "pivotColumns": null,
        "xColumns": null,
        "yColumns": null
       },
       "removedWidgets": [],
       "schema": [
        {
         "metadata": "{}",
         "name": "id",
         "type": "\"long\""
        },
        {
         "metadata": "{}",
         "name": "name",
         "type": "\"string\""
        },
        {
         "metadata": "{}",
         "name": "date_of_join",
         "type": "\"string\""
        },
        {
         "metadata": "{}",
         "name": "active",
         "type": "\"boolean\""
        },
        {
         "metadata": "{}",
         "name": "salary",
         "type": "\"long\""
        }
       ],
       "type": "table"
      }
     },
     "output_type": "display_data"
    }
   ],
   "source": [
    "%sql\n",
    "\n",
    "SELECT * FROM delta_table_dataframe;"
   ]
  },
  {
   "cell_type": "markdown",
   "metadata": {
    "application/vnd.databricks.v1+cell": {
     "cellMetadata": {},
     "inputWidgets": {},
     "nuid": "a8639b30-4a44-46e0-827c-c2b6c7f3d7f8",
     "showTitle": false,
     "title": ""
    }
   },
   "source": [
    "# TABLE INSTANCE"
   ]
  },
  {
   "cell_type": "markdown",
   "metadata": {
    "application/vnd.databricks.v1+cell": {
     "cellMetadata": {},
     "inputWidgets": {},
     "nuid": "9c29fd06-d4b2-406c-8b15-6c0a4b45fd34",
     "showTitle": false,
     "title": ""
    }
   },
   "source": [
    "##Create delta instace for Path"
   ]
  },
  {
   "cell_type": "code",
   "execution_count": 0,
   "metadata": {
    "application/vnd.databricks.v1+cell": {
     "cellMetadata": {
      "byteLimit": 2048000,
      "rowLimit": 10000
     },
     "inputWidgets": {},
     "nuid": "da865823-320a-4602-bd20-14481463e725",
     "showTitle": false,
     "title": ""
    }
   },
   "outputs": [],
   "source": [
    "delta_instance_path = DeltaTable.forPath(spark,\"dbfs:/FileStore/tables/delta/demo/\")"
   ]
  },
  {
   "cell_type": "code",
   "execution_count": 0,
   "metadata": {
    "application/vnd.databricks.v1+cell": {
     "cellMetadata": {
      "byteLimit": 2048000,
      "rowLimit": 10000
     },
     "inputWidgets": {},
     "nuid": "a25246dc-7c69-4eb7-b7ad-3b9e99b82aeb",
     "showTitle": false,
     "title": ""
    }
   },
   "outputs": [
    {
     "output_type": "stream",
     "name": "stdout",
     "output_type": "stream",
     "text": [
      "+---+--------------+------+------+---------+\n| id|          name|gender|salary|     dept|\n+---+--------------+------+------+---------+\n|  1|  Charlie Wood|     m|250000|       IT|\n|  2| Alice Johnson|     f|180000|       HR|\n|  3|     Bob Smith|     m|220000|       IT|\n|  4|   Diane Brown|     f|200000|       IT|\n|  5|     Eve Davis|     f|195000|       HR|\n|  6|  Frank Martin|     m|240000|  Support|\n|  7|     Grace Lee|     f|210000|       IT|\n|  8|   Henry Clark|     m|230000|    Sales|\n|  9|  Irene Turner|     f|175000|       HR|\n| 10|    Jack White|     m|190000|       IT|\n| 11|   Marta Evans|     f|205000|Marketing|\n| 12|Leonard Harris|     m|215000|  Finance|\n| 13|    Nancy Hall|     f|185000|  Support|\n| 14|  Robert Young|     m|225000|    Sales|\n| 15|   Susan Moore|     f|210000|Marketing|\n| 16|    Tom Wright|     m|230000|  Finance|\n| 18|  Victor Adams|     m|235000|       IT|\n| 19|   Wendy Scott|     f|220000|  Support|\n| 17|      Uma King|     f|190000|       HR|\n+---+--------------+------+------+---------+\n\n"
     ]
    }
   ],
   "source": [
    "delta_instance_path.toDF().show()"
   ]
  },
  {
   "cell_type": "code",
   "execution_count": 0,
   "metadata": {
    "application/vnd.databricks.v1+cell": {
     "cellMetadata": {
      "byteLimit": 2048000,
      "rowLimit": 10000
     },
     "inputWidgets": {},
     "nuid": "9381dc2d-5c61-442c-98aa-116cb2d9eec9",
     "showTitle": false,
     "title": ""
    }
   },
   "outputs": [],
   "source": [
    "delta_instance_path.delete(\"id = 17\")"
   ]
  },
  {
   "cell_type": "code",
   "execution_count": 0,
   "metadata": {
    "application/vnd.databricks.v1+cell": {
     "cellMetadata": {
      "byteLimit": 2048000,
      "rowLimit": 10000
     },
     "inputWidgets": {},
     "nuid": "08915fe4-3826-4a2b-8fe1-e5106e5c03da",
     "showTitle": false,
     "title": ""
    }
   },
   "outputs": [
    {
     "output_type": "stream",
     "name": "stdout",
     "output_type": "stream",
     "text": [
      "+---+--------------+------+------+---------+\n| id|          name|gender|salary|     dept|\n+---+--------------+------+------+---------+\n|  1|  Charlie Wood|     m|250000|       IT|\n|  2| Alice Johnson|     f|180000|       HR|\n|  3|     Bob Smith|     m|220000|       IT|\n|  4|   Diane Brown|     f|200000|       IT|\n|  5|     Eve Davis|     f|195000|       HR|\n|  6|  Frank Martin|     m|240000|  Support|\n|  7|     Grace Lee|     f|210000|       IT|\n|  8|   Henry Clark|     m|230000|    Sales|\n|  9|  Irene Turner|     f|175000|       HR|\n| 10|    Jack White|     m|190000|       IT|\n| 11|   Marta Evans|     f|205000|Marketing|\n| 12|Leonard Harris|     m|215000|  Finance|\n| 13|    Nancy Hall|     f|185000|  Support|\n| 14|  Robert Young|     m|225000|    Sales|\n| 15|   Susan Moore|     f|210000|Marketing|\n| 16|    Tom Wright|     m|230000|  Finance|\n| 18|  Victor Adams|     m|235000|       IT|\n| 19|   Wendy Scott|     f|220000|  Support|\n+---+--------------+------+------+---------+\n\n"
     ]
    }
   ],
   "source": [
    "delta_instance_path.toDF().show()"
   ]
  },
  {
   "cell_type": "code",
   "execution_count": 0,
   "metadata": {
    "application/vnd.databricks.v1+cell": {
     "cellMetadata": {
      "byteLimit": 2048000,
      "rowLimit": 10000
     },
     "inputWidgets": {},
     "nuid": "93dda1a5-5e31-4f9b-b402-1667f048eb14",
     "showTitle": false,
     "title": ""
    }
   },
   "outputs": [
    {
     "output_type": "stream",
     "name": "stdout",
     "output_type": "stream",
     "text": [
      "+---+--------------+------+------+---------+\n| id|          name|gender|salary|     dept|\n+---+--------------+------+------+---------+\n|  1|  Charlie Wood|     m|250000|       IT|\n|  2| Alice Johnson|     f|180000|       HR|\n|  3|     Bob Smith|     m|220000|       IT|\n|  4|   Diane Brown|     f|200000|       IT|\n|  5|     Eve Davis|     f|195000|       HR|\n|  6|  Frank Martin|     m|240000|  Support|\n|  7|     Grace Lee|     f|210000|       IT|\n|  8|   Henry Clark|     m|230000|    Sales|\n|  9|  Irene Turner|     f|175000|       HR|\n| 10|    Jack White|     m|190000|       IT|\n| 11|   Marta Evans|     f|205000|Marketing|\n| 12|Leonard Harris|     m|215000|  Finance|\n| 13|    Nancy Hall|     f|185000|  Support|\n| 14|  Robert Young|     m|225000|    Sales|\n| 15|   Susan Moore|     f|210000|Marketing|\n| 16|    Tom Wright|     m|230000|  Finance|\n| 18|  Victor Adams|     m|235000|       IT|\n| 19|   Wendy Scott|     f|220000|  Support|\n+---+--------------+------+------+---------+\n\n"
     ]
    }
   ],
   "source": [
    "spark.read.format(\"delta\").load(\"dbfs:/FileStore/tables/delta/demo/\").show()"
   ]
  },
  {
   "cell_type": "code",
   "execution_count": 0,
   "metadata": {
    "application/vnd.databricks.v1+cell": {
     "cellMetadata": {
      "byteLimit": 2048000,
      "rowLimit": 10000
     },
     "inputWidgets": {},
     "nuid": "edbadcac-f255-4e59-810a-158332df619e",
     "showTitle": false,
     "title": ""
    }
   },
   "outputs": [
    {
     "output_type": "display_data",
     "data": {
      "text/html": [
       "<style scoped>\n",
       "  .table-result-container {\n",
       "    max-height: 300px;\n",
       "    overflow: auto;\n",
       "  }\n",
       "  table, th, td {\n",
       "    border: 1px solid black;\n",
       "    border-collapse: collapse;\n",
       "  }\n",
       "  th, td {\n",
       "    padding: 5px;\n",
       "  }\n",
       "  th {\n",
       "    text-align: left;\n",
       "  }\n",
       "</style><div class='table-result-container'><table class='table-result'><thead style='background-color: white'><tr><th>version</th><th>timestamp</th><th>userId</th><th>userName</th><th>operation</th><th>operationParameters</th><th>job</th><th>notebook</th><th>clusterId</th><th>readVersion</th><th>isolationLevel</th><th>isBlindAppend</th><th>operationMetrics</th><th>userMetadata</th><th>engineInfo</th></tr></thead><tbody><tr><td>11</td><td>2024-08-23T19:04:01.000+0000</td><td>8904480319608266</td><td>andresmunozpampillonaws@gmail.com</td><td>DELETE</td><td>Map(predicate -> [\"(id#279 = 17)\"])</td><td>null</td><td>List(4274380949678301)</td><td>0823-185135-htz3pex8</td><td>10</td><td>WriteSerializable</td><td>false</td><td>Map(numRemovedFiles -> 1, numRemovedBytes -> 1504, numCopiedRows -> 0, numDeletionVectorsAdded -> 0, numDeletionVectorsRemoved -> 0, numAddedChangeFiles -> 0, executionTimeMs -> 4918, numDeletedRows -> 1, scanTimeMs -> 2005, numAddedFiles -> 0, numAddedBytes -> 0, rewriteTimeMs -> 2886)</td><td>null</td><td>Databricks-Runtime/12.2.x-scala2.12</td></tr><tr><td>10</td><td>2024-08-22T23:20:49.000+0000</td><td>8904480319608266</td><td>andresmunozpampillonaws@gmail.com</td><td>DELETE</td><td>Map(predicate -> [\"(id#6204 > 20)\"])</td><td>null</td><td>List(4274380949678301)</td><td>0822-222704-adku0mbt</td><td>9</td><td>WriteSerializable</td><td>false</td><td>Map(numRemovedFiles -> 3, numRemovedBytes -> 4631, numCopiedRows -> 0, numDeletionVectorsAdded -> 0, numDeletionVectorsRemoved -> 0, numAddedChangeFiles -> 0, executionTimeMs -> 3453, numDeletedRows -> 3, scanTimeMs -> 2162, numAddedFiles -> 0, numAddedBytes -> 0, rewriteTimeMs -> 1290)</td><td>null</td><td>Databricks-Runtime/12.2.x-scala2.12</td></tr><tr><td>9</td><td>2024-08-22T23:20:35.000+0000</td><td>8904480319608266</td><td>andresmunozpampillonaws@gmail.com</td><td>WRITE</td><td>Map(mode -> Append, partitionBy -> [])</td><td>null</td><td>List(4274380949678301)</td><td>0822-222704-adku0mbt</td><td>8</td><td>WriteSerializable</td><td>true</td><td>Map(numFiles -> 1, numOutputRows -> 1, numOutputBytes -> 1532)</td><td>null</td><td>Databricks-Runtime/12.2.x-scala2.12</td></tr><tr><td>8</td><td>2024-08-22T23:20:32.000+0000</td><td>8904480319608266</td><td>andresmunozpampillonaws@gmail.com</td><td>WRITE</td><td>Map(mode -> Append, partitionBy -> [])</td><td>null</td><td>List(4274380949678301)</td><td>0822-222704-adku0mbt</td><td>7</td><td>WriteSerializable</td><td>true</td><td>Map(numFiles -> 1, numOutputRows -> 1, numOutputBytes -> 1553)</td><td>null</td><td>Databricks-Runtime/12.2.x-scala2.12</td></tr><tr><td>7</td><td>2024-08-22T23:20:27.000+0000</td><td>8904480319608266</td><td>andresmunozpampillonaws@gmail.com</td><td>WRITE</td><td>Map(mode -> Append, partitionBy -> [])</td><td>null</td><td>List(4274380949678301)</td><td>0822-222704-adku0mbt</td><td>6</td><td>WriteSerializable</td><td>true</td><td>Map(numFiles -> 1, numOutputRows -> 1, numOutputBytes -> 1546)</td><td>null</td><td>Databricks-Runtime/12.2.x-scala2.12</td></tr><tr><td>6</td><td>2024-08-22T23:08:36.000+0000</td><td>8904480319608266</td><td>andresmunozpampillonaws@gmail.com</td><td>DELETE</td><td>Map(predicate -> [\"(id#3921 = 20)\"])</td><td>null</td><td>List(4274380949678301)</td><td>0822-222704-adku0mbt</td><td>5</td><td>WriteSerializable</td><td>false</td><td>Map(numRemovedFiles -> 1, numRemovedBytes -> 1603, numCopiedRows -> 2, numDeletionVectorsAdded -> 0, numDeletionVectorsRemoved -> 0, numAddedChangeFiles -> 0, executionTimeMs -> 3706, numDeletedRows -> 1, scanTimeMs -> 2181, numAddedFiles -> 1, numAddedBytes -> 1536, rewriteTimeMs -> 1497)</td><td>null</td><td>Databricks-Runtime/12.2.x-scala2.12</td></tr><tr><td>5</td><td>2024-08-22T22:46:41.000+0000</td><td>8904480319608266</td><td>andresmunozpampillonaws@gmail.com</td><td>WRITE</td><td>Map(mode -> Append, partitionBy -> [])</td><td>null</td><td>List(4274380949678301)</td><td>0822-222704-adku0mbt</td><td>4</td><td>WriteSerializable</td><td>true</td><td>Map(numFiles -> 1, numOutputRows -> 3, numOutputBytes -> 1603)</td><td>null</td><td>Databricks-Runtime/12.2.x-scala2.12</td></tr><tr><td>4</td><td>2024-08-22T22:46:37.000+0000</td><td>8904480319608266</td><td>andresmunozpampillonaws@gmail.com</td><td>WRITE</td><td>Map(mode -> Append, partitionBy -> [])</td><td>null</td><td>List(4274380949678301)</td><td>0822-222704-adku0mbt</td><td>3</td><td>WriteSerializable</td><td>true</td><td>Map(numFiles -> 1, numOutputRows -> 1, numOutputBytes -> 1504)</td><td>null</td><td>Databricks-Runtime/12.2.x-scala2.12</td></tr><tr><td>3</td><td>2024-08-22T22:46:33.000+0000</td><td>8904480319608266</td><td>andresmunozpampillonaws@gmail.com</td><td>WRITE</td><td>Map(mode -> Append, partitionBy -> [])</td><td>null</td><td>List(4274380949678301)</td><td>0822-222704-adku0mbt</td><td>2</td><td>WriteSerializable</td><td>true</td><td>Map(numFiles -> 1, numOutputRows -> 3, numOutputBytes -> 1619)</td><td>null</td><td>Databricks-Runtime/12.2.x-scala2.12</td></tr><tr><td>2</td><td>2024-08-22T22:46:26.000+0000</td><td>8904480319608266</td><td>andresmunozpampillonaws@gmail.com</td><td>WRITE</td><td>Map(mode -> Append, partitionBy -> [])</td><td>null</td><td>List(4274380949678301)</td><td>0822-222704-adku0mbt</td><td>1</td><td>WriteSerializable</td><td>true</td><td>Map(numFiles -> 1, numOutputRows -> 3, numOutputBytes -> 1632)</td><td>null</td><td>Databricks-Runtime/12.2.x-scala2.12</td></tr><tr><td>1</td><td>2024-08-22T22:39:54.000+0000</td><td>8904480319608266</td><td>andresmunozpampillonaws@gmail.com</td><td>WRITE</td><td>Map(mode -> Append, partitionBy -> [])</td><td>null</td><td>List(4274380949678301)</td><td>0822-222704-adku0mbt</td><td>0</td><td>WriteSerializable</td><td>true</td><td>Map(numFiles -> 1, numOutputRows -> 10, numOutputBytes -> 1820)</td><td>null</td><td>Databricks-Runtime/12.2.x-scala2.12</td></tr><tr><td>0</td><td>2024-08-22T22:30:02.000+0000</td><td>8904480319608266</td><td>andresmunozpampillonaws@gmail.com</td><td>CREATE OR REPLACE TABLE</td><td>Map(isManaged -> false, description -> null, partitionBy -> [], properties -> {\"description\":\"delta table\"})</td><td>null</td><td>List(4274380949678301)</td><td>0822-222704-adku0mbt</td><td>null</td><td>WriteSerializable</td><td>true</td><td>Map()</td><td>null</td><td>Databricks-Runtime/12.2.x-scala2.12</td></tr></tbody></table></div>"
      ]
     },
     "metadata": {
      "application/vnd.databricks.v1+output": {
       "addedWidgets": {},
       "aggData": [],
       "aggError": "",
       "aggOverflow": false,
       "aggSchema": [],
       "aggSeriesLimitReached": false,
       "aggType": "",
       "arguments": {},
       "columnCustomDisplayInfos": {},
       "data": [
        [
         11,
         "2024-08-23T19:04:01.000+0000",
         "8904480319608266",
         "andresmunozpampillonaws@gmail.com",
         "DELETE",
         {
          "predicate": "[\"(id#279 = 17)\"]"
         },
         null,
         [
          "4274380949678301"
         ],
         "0823-185135-htz3pex8",
         10,
         "WriteSerializable",
         false,
         {
          "executionTimeMs": "4918",
          "numAddedBytes": "0",
          "numAddedChangeFiles": "0",
          "numAddedFiles": "0",
          "numCopiedRows": "0",
          "numDeletedRows": "1",
          "numDeletionVectorsAdded": "0",
          "numDeletionVectorsRemoved": "0",
          "numRemovedBytes": "1504",
          "numRemovedFiles": "1",
          "rewriteTimeMs": "2886",
          "scanTimeMs": "2005"
         },
         null,
         "Databricks-Runtime/12.2.x-scala2.12"
        ],
        [
         10,
         "2024-08-22T23:20:49.000+0000",
         "8904480319608266",
         "andresmunozpampillonaws@gmail.com",
         "DELETE",
         {
          "predicate": "[\"(id#6204 > 20)\"]"
         },
         null,
         [
          "4274380949678301"
         ],
         "0822-222704-adku0mbt",
         9,
         "WriteSerializable",
         false,
         {
          "executionTimeMs": "3453",
          "numAddedBytes": "0",
          "numAddedChangeFiles": "0",
          "numAddedFiles": "0",
          "numCopiedRows": "0",
          "numDeletedRows": "3",
          "numDeletionVectorsAdded": "0",
          "numDeletionVectorsRemoved": "0",
          "numRemovedBytes": "4631",
          "numRemovedFiles": "3",
          "rewriteTimeMs": "1290",
          "scanTimeMs": "2162"
         },
         null,
         "Databricks-Runtime/12.2.x-scala2.12"
        ],
        [
         9,
         "2024-08-22T23:20:35.000+0000",
         "8904480319608266",
         "andresmunozpampillonaws@gmail.com",
         "WRITE",
         {
          "mode": "Append",
          "partitionBy": "[]"
         },
         null,
         [
          "4274380949678301"
         ],
         "0822-222704-adku0mbt",
         8,
         "WriteSerializable",
         true,
         {
          "numFiles": "1",
          "numOutputBytes": "1532",
          "numOutputRows": "1"
         },
         null,
         "Databricks-Runtime/12.2.x-scala2.12"
        ],
        [
         8,
         "2024-08-22T23:20:32.000+0000",
         "8904480319608266",
         "andresmunozpampillonaws@gmail.com",
         "WRITE",
         {
          "mode": "Append",
          "partitionBy": "[]"
         },
         null,
         [
          "4274380949678301"
         ],
         "0822-222704-adku0mbt",
         7,
         "WriteSerializable",
         true,
         {
          "numFiles": "1",
          "numOutputBytes": "1553",
          "numOutputRows": "1"
         },
         null,
         "Databricks-Runtime/12.2.x-scala2.12"
        ],
        [
         7,
         "2024-08-22T23:20:27.000+0000",
         "8904480319608266",
         "andresmunozpampillonaws@gmail.com",
         "WRITE",
         {
          "mode": "Append",
          "partitionBy": "[]"
         },
         null,
         [
          "4274380949678301"
         ],
         "0822-222704-adku0mbt",
         6,
         "WriteSerializable",
         true,
         {
          "numFiles": "1",
          "numOutputBytes": "1546",
          "numOutputRows": "1"
         },
         null,
         "Databricks-Runtime/12.2.x-scala2.12"
        ],
        [
         6,
         "2024-08-22T23:08:36.000+0000",
         "8904480319608266",
         "andresmunozpampillonaws@gmail.com",
         "DELETE",
         {
          "predicate": "[\"(id#3921 = 20)\"]"
         },
         null,
         [
          "4274380949678301"
         ],
         "0822-222704-adku0mbt",
         5,
         "WriteSerializable",
         false,
         {
          "executionTimeMs": "3706",
          "numAddedBytes": "1536",
          "numAddedChangeFiles": "0",
          "numAddedFiles": "1",
          "numCopiedRows": "2",
          "numDeletedRows": "1",
          "numDeletionVectorsAdded": "0",
          "numDeletionVectorsRemoved": "0",
          "numRemovedBytes": "1603",
          "numRemovedFiles": "1",
          "rewriteTimeMs": "1497",
          "scanTimeMs": "2181"
         },
         null,
         "Databricks-Runtime/12.2.x-scala2.12"
        ],
        [
         5,
         "2024-08-22T22:46:41.000+0000",
         "8904480319608266",
         "andresmunozpampillonaws@gmail.com",
         "WRITE",
         {
          "mode": "Append",
          "partitionBy": "[]"
         },
         null,
         [
          "4274380949678301"
         ],
         "0822-222704-adku0mbt",
         4,
         "WriteSerializable",
         true,
         {
          "numFiles": "1",
          "numOutputBytes": "1603",
          "numOutputRows": "3"
         },
         null,
         "Databricks-Runtime/12.2.x-scala2.12"
        ],
        [
         4,
         "2024-08-22T22:46:37.000+0000",
         "8904480319608266",
         "andresmunozpampillonaws@gmail.com",
         "WRITE",
         {
          "mode": "Append",
          "partitionBy": "[]"
         },
         null,
         [
          "4274380949678301"
         ],
         "0822-222704-adku0mbt",
         3,
         "WriteSerializable",
         true,
         {
          "numFiles": "1",
          "numOutputBytes": "1504",
          "numOutputRows": "1"
         },
         null,
         "Databricks-Runtime/12.2.x-scala2.12"
        ],
        [
         3,
         "2024-08-22T22:46:33.000+0000",
         "8904480319608266",
         "andresmunozpampillonaws@gmail.com",
         "WRITE",
         {
          "mode": "Append",
          "partitionBy": "[]"
         },
         null,
         [
          "4274380949678301"
         ],
         "0822-222704-adku0mbt",
         2,
         "WriteSerializable",
         true,
         {
          "numFiles": "1",
          "numOutputBytes": "1619",
          "numOutputRows": "3"
         },
         null,
         "Databricks-Runtime/12.2.x-scala2.12"
        ],
        [
         2,
         "2024-08-22T22:46:26.000+0000",
         "8904480319608266",
         "andresmunozpampillonaws@gmail.com",
         "WRITE",
         {
          "mode": "Append",
          "partitionBy": "[]"
         },
         null,
         [
          "4274380949678301"
         ],
         "0822-222704-adku0mbt",
         1,
         "WriteSerializable",
         true,
         {
          "numFiles": "1",
          "numOutputBytes": "1632",
          "numOutputRows": "3"
         },
         null,
         "Databricks-Runtime/12.2.x-scala2.12"
        ],
        [
         1,
         "2024-08-22T22:39:54.000+0000",
         "8904480319608266",
         "andresmunozpampillonaws@gmail.com",
         "WRITE",
         {
          "mode": "Append",
          "partitionBy": "[]"
         },
         null,
         [
          "4274380949678301"
         ],
         "0822-222704-adku0mbt",
         0,
         "WriteSerializable",
         true,
         {
          "numFiles": "1",
          "numOutputBytes": "1820",
          "numOutputRows": "10"
         },
         null,
         "Databricks-Runtime/12.2.x-scala2.12"
        ],
        [
         0,
         "2024-08-22T22:30:02.000+0000",
         "8904480319608266",
         "andresmunozpampillonaws@gmail.com",
         "CREATE OR REPLACE TABLE",
         {
          "description": null,
          "isManaged": "false",
          "partitionBy": "[]",
          "properties": "{\"description\":\"delta table\"}"
         },
         null,
         [
          "4274380949678301"
         ],
         "0822-222704-adku0mbt",
         null,
         "WriteSerializable",
         true,
         {},
         null,
         "Databricks-Runtime/12.2.x-scala2.12"
        ]
       ],
       "datasetInfos": [],
       "dbfsResultPath": null,
       "isJsonSchema": true,
       "metadata": {},
       "overflow": false,
       "plotOptions": {
        "customPlotOptions": {},
        "displayType": "table",
        "pivotAggregation": null,
        "pivotColumns": null,
        "xColumns": null,
        "yColumns": null
       },
       "removedWidgets": [],
       "schema": [
        {
         "metadata": "{}",
         "name": "version",
         "type": "\"long\""
        },
        {
         "metadata": "{}",
         "name": "timestamp",
         "type": "\"timestamp\""
        },
        {
         "metadata": "{}",
         "name": "userId",
         "type": "\"string\""
        },
        {
         "metadata": "{}",
         "name": "userName",
         "type": "\"string\""
        },
        {
         "metadata": "{}",
         "name": "operation",
         "type": "\"string\""
        },
        {
         "metadata": "{}",
         "name": "operationParameters",
         "type": "{\"type\":\"map\",\"keyType\":\"string\",\"valueType\":\"string\",\"valueContainsNull\":true}"
        },
        {
         "metadata": "{}",
         "name": "job",
         "type": "{\"type\":\"struct\",\"fields\":[{\"name\":\"jobId\",\"type\":\"string\",\"nullable\":true,\"metadata\":{}},{\"name\":\"jobName\",\"type\":\"string\",\"nullable\":true,\"metadata\":{}},{\"name\":\"jobRunId\",\"type\":\"string\",\"nullable\":true,\"metadata\":{}},{\"name\":\"runId\",\"type\":\"string\",\"nullable\":true,\"metadata\":{}},{\"name\":\"jobOwnerId\",\"type\":\"string\",\"nullable\":true,\"metadata\":{}},{\"name\":\"triggerType\",\"type\":\"string\",\"nullable\":true,\"metadata\":{}}]}"
        },
        {
         "metadata": "{}",
         "name": "notebook",
         "type": "{\"type\":\"struct\",\"fields\":[{\"name\":\"notebookId\",\"type\":\"string\",\"nullable\":true,\"metadata\":{}}]}"
        },
        {
         "metadata": "{}",
         "name": "clusterId",
         "type": "\"string\""
        },
        {
         "metadata": "{}",
         "name": "readVersion",
         "type": "\"long\""
        },
        {
         "metadata": "{}",
         "name": "isolationLevel",
         "type": "\"string\""
        },
        {
         "metadata": "{}",
         "name": "isBlindAppend",
         "type": "\"boolean\""
        },
        {
         "metadata": "{}",
         "name": "operationMetrics",
         "type": "{\"type\":\"map\",\"keyType\":\"string\",\"valueType\":\"string\",\"valueContainsNull\":true}"
        },
        {
         "metadata": "{}",
         "name": "userMetadata",
         "type": "\"string\""
        },
        {
         "metadata": "{}",
         "name": "engineInfo",
         "type": "\"string\""
        }
       ],
       "type": "table"
      }
     },
     "output_type": "display_data"
    }
   ],
   "source": [
    "display(delta_instance_path.history())"
   ]
  },
  {
   "cell_type": "markdown",
   "metadata": {
    "application/vnd.databricks.v1+cell": {
     "cellMetadata": {},
     "inputWidgets": {},
     "nuid": "3fa472b0-c09b-44f2-af31-e0f5cfd170cc",
     "showTitle": false,
     "title": ""
    }
   },
   "source": [
    "##Create delta instace for Name"
   ]
  },
  {
   "cell_type": "code",
   "execution_count": 0,
   "metadata": {
    "application/vnd.databricks.v1+cell": {
     "cellMetadata": {
      "byteLimit": 2048000,
      "rowLimit": 10000
     },
     "inputWidgets": {},
     "nuid": "513262c8-2794-4586-922f-ae94e6fedbac",
     "showTitle": false,
     "title": ""
    }
   },
   "outputs": [],
   "source": [
    "delta_instance_name = DeltaTable.forName(spark,\"delta_table_spark\")"
   ]
  },
  {
   "cell_type": "code",
   "execution_count": 0,
   "metadata": {
    "application/vnd.databricks.v1+cell": {
     "cellMetadata": {
      "byteLimit": 2048000,
      "rowLimit": 10000
     },
     "inputWidgets": {},
     "nuid": "ba8f55eb-41bb-4840-a674-6c341f6ddfc2",
     "showTitle": false,
     "title": ""
    }
   },
   "outputs": [
    {
     "output_type": "stream",
     "name": "stdout",
     "output_type": "stream",
     "text": [
      "+---+----+------+------+----+\n| id|name|gender|salary|dept|\n+---+----+------+------+----+\n+---+----+------+------+----+\n\n"
     ]
    }
   ],
   "source": [
    "delta_instance_name.toDF().show()"
   ]
  },
  {
   "cell_type": "markdown",
   "metadata": {
    "application/vnd.databricks.v1+cell": {
     "cellMetadata": {},
     "inputWidgets": {},
     "nuid": "f615fc1f-69a6-4277-977a-1604c474c189",
     "showTitle": false,
     "title": ""
    }
   },
   "source": [
    "# INSERT DATA DELTA TABLE"
   ]
  },
  {
   "cell_type": "code",
   "execution_count": 0,
   "metadata": {
    "application/vnd.databricks.v1+cell": {
     "cellMetadata": {
      "byteLimit": 2048000,
      "rowLimit": 10000
     },
     "inputWidgets": {},
     "nuid": "1c408a2a-fcc4-4a3a-94c7-c19ea45905c6",
     "showTitle": false,
     "title": ""
    }
   },
   "outputs": [],
   "source": [
    "from delta.tables import *"
   ]
  },
  {
   "cell_type": "code",
   "execution_count": 0,
   "metadata": {
    "application/vnd.databricks.v1+cell": {
     "cellMetadata": {
      "byteLimit": 2048000,
      "rowLimit": 10000
     },
     "inputWidgets": {},
     "nuid": "fdb7ae12-d120-4056-8f18-3b8c8493f945",
     "showTitle": false,
     "title": ""
    }
   },
   "outputs": [
    {
     "output_type": "stream",
     "name": "stdout",
     "output_type": "stream",
     "text": [
      "Out[28]: <delta.tables.DeltaTable at 0x7f287b6a74c0>"
     ]
    }
   ],
   "source": [
    "DeltaTable.createOrReplace(spark) \\\n",
    "    .tableName(\"employee_dt\") \\\n",
    "    .addColumn(\"id\",\"INT\") \\\n",
    "    .addColumn(\"name\",\"STRING\") \\\n",
    "    .addColumn(\"gender\",\"STRING\") \\\n",
    "    .addColumn(\"salary\",\"INT\") \\\n",
    "    .addColumn(\"dept\",\"STRING\") \\\n",
    "    .property(\"description\",\"Employee delta table\") \\\n",
    "    .location(\"dbfs:/FileStore/tables/delta/employee\") \\\n",
    "    .execute()"
   ]
  },
  {
   "cell_type": "markdown",
   "metadata": {
    "application/vnd.databricks.v1+cell": {
     "cellMetadata": {},
     "inputWidgets": {},
     "nuid": "950d5168-9618-442d-b86e-f57eb51f0db7",
     "showTitle": false,
     "title": ""
    }
   },
   "source": [
    "## SQL Insert"
   ]
  },
  {
   "cell_type": "code",
   "execution_count": 0,
   "metadata": {
    "application/vnd.databricks.v1+cell": {
     "cellMetadata": {
      "byteLimit": 2048000,
      "implicitDf": true,
      "rowLimit": 10000
     },
     "inputWidgets": {},
     "nuid": "927b90e5-dc2b-4e58-9ae1-24336840ba10",
     "showTitle": false,
     "title": ""
    }
   },
   "outputs": [
    {
     "output_type": "display_data",
     "data": {
      "text/html": [
       "<style scoped>\n",
       "  .table-result-container {\n",
       "    max-height: 300px;\n",
       "    overflow: auto;\n",
       "  }\n",
       "  table, th, td {\n",
       "    border: 1px solid black;\n",
       "    border-collapse: collapse;\n",
       "  }\n",
       "  th, td {\n",
       "    padding: 5px;\n",
       "  }\n",
       "  th {\n",
       "    text-align: left;\n",
       "  }\n",
       "</style><div class='table-result-container'><table class='table-result'><thead style='background-color: white'><tr><th>num_affected_rows</th><th>num_inserted_rows</th></tr></thead><tbody><tr><td>1</td><td>1</td></tr></tbody></table></div>"
      ]
     },
     "metadata": {
      "application/vnd.databricks.v1+output": {
       "addedWidgets": {},
       "aggData": [],
       "aggError": "",
       "aggOverflow": false,
       "aggSchema": [],
       "aggSeriesLimitReached": false,
       "aggType": "",
       "arguments": {},
       "columnCustomDisplayInfos": {},
       "data": [
        [
         1,
         1
        ]
       ],
       "datasetInfos": [],
       "dbfsResultPath": null,
       "isJsonSchema": true,
       "metadata": {},
       "overflow": false,
       "plotOptions": {
        "customPlotOptions": {},
        "displayType": "table",
        "pivotAggregation": null,
        "pivotColumns": null,
        "xColumns": null,
        "yColumns": null
       },
       "removedWidgets": [],
       "schema": [
        {
         "metadata": "{}",
         "name": "num_affected_rows",
         "type": "\"long\""
        },
        {
         "metadata": "{}",
         "name": "num_inserted_rows",
         "type": "\"long\""
        }
       ],
       "type": "table"
      }
     },
     "output_type": "display_data"
    }
   ],
   "source": [
    "%sql\n",
    "\n",
    "INSERT INTO employee_dt VALUES (1, \"Carl Mike\", \"m\", 170000, \"Support\");"
   ]
  },
  {
   "cell_type": "code",
   "execution_count": 0,
   "metadata": {
    "application/vnd.databricks.v1+cell": {
     "cellMetadata": {
      "byteLimit": 2048000,
      "implicitDf": true,
      "rowLimit": 10000
     },
     "inputWidgets": {},
     "nuid": "b04fd31f-1540-4112-8aca-1212acf723fb",
     "showTitle": false,
     "title": ""
    }
   },
   "outputs": [
    {
     "output_type": "display_data",
     "data": {
      "text/html": [
       "<style scoped>\n",
       "  .table-result-container {\n",
       "    max-height: 300px;\n",
       "    overflow: auto;\n",
       "  }\n",
       "  table, th, td {\n",
       "    border: 1px solid black;\n",
       "    border-collapse: collapse;\n",
       "  }\n",
       "  th, td {\n",
       "    padding: 5px;\n",
       "  }\n",
       "  th {\n",
       "    text-align: left;\n",
       "  }\n",
       "</style><div class='table-result-container'><table class='table-result'><thead style='background-color: white'><tr><th>num_affected_rows</th><th>num_inserted_rows</th></tr></thead><tbody><tr><td>3</td><td>3</td></tr></tbody></table></div>"
      ]
     },
     "metadata": {
      "application/vnd.databricks.v1+output": {
       "addedWidgets": {},
       "aggData": [],
       "aggError": "",
       "aggOverflow": false,
       "aggSchema": [],
       "aggSeriesLimitReached": false,
       "aggType": "",
       "arguments": {},
       "columnCustomDisplayInfos": {},
       "data": [
        [
         3,
         3
        ]
       ],
       "datasetInfos": [],
       "dbfsResultPath": null,
       "isJsonSchema": true,
       "metadata": {},
       "overflow": false,
       "plotOptions": {
        "customPlotOptions": {},
        "displayType": "table",
        "pivotAggregation": null,
        "pivotColumns": null,
        "xColumns": null,
        "yColumns": null
       },
       "removedWidgets": [],
       "schema": [
        {
         "metadata": "{}",
         "name": "num_affected_rows",
         "type": "\"long\""
        },
        {
         "metadata": "{}",
         "name": "num_inserted_rows",
         "type": "\"long\""
        }
       ],
       "type": "table"
      }
     },
     "output_type": "display_data"
    }
   ],
   "source": [
    "%sql\n",
    "\n",
    "INSERT INTO employee_dt (id, name, gender, salary, dept) VALUES\n",
    "(2, \"Mikel Clark\", \"m\", 254300, \"IT\"),\n",
    "(3, \"Bob Smith\", \"m\", 220000, \"IT\"),\n",
    "(4, \"Mary Scala\", \"f\", 230000, \"Sales\");"
   ]
  },
  {
   "cell_type": "markdown",
   "metadata": {
    "application/vnd.databricks.v1+cell": {
     "cellMetadata": {},
     "inputWidgets": {},
     "nuid": "b059db9c-95b6-4012-86b4-fba6dd12016a",
     "showTitle": false,
     "title": ""
    }
   },
   "source": [
    "## SQL Query"
   ]
  },
  {
   "cell_type": "code",
   "execution_count": 0,
   "metadata": {
    "application/vnd.databricks.v1+cell": {
     "cellMetadata": {
      "byteLimit": 2048000,
      "implicitDf": true,
      "rowLimit": 10000
     },
     "inputWidgets": {},
     "nuid": "37169c0a-709a-4176-ad9f-34c7af10c82f",
     "showTitle": false,
     "title": ""
    }
   },
   "outputs": [
    {
     "output_type": "display_data",
     "data": {
      "text/html": [
       "<style scoped>\n",
       "  .table-result-container {\n",
       "    max-height: 300px;\n",
       "    overflow: auto;\n",
       "  }\n",
       "  table, th, td {\n",
       "    border: 1px solid black;\n",
       "    border-collapse: collapse;\n",
       "  }\n",
       "  th, td {\n",
       "    padding: 5px;\n",
       "  }\n",
       "  th {\n",
       "    text-align: left;\n",
       "  }\n",
       "</style><div class='table-result-container'><table class='table-result'><thead style='background-color: white'><tr><th>id</th><th>name</th><th>gender</th><th>salary</th><th>dept</th></tr></thead><tbody><tr><td>2</td><td>Mikel Clark</td><td>m</td><td>254300</td><td>IT</td></tr><tr><td>3</td><td>Bob Smith</td><td>m</td><td>220000</td><td>IT</td></tr><tr><td>4</td><td>Mary Scala</td><td>f</td><td>230000</td><td>Sales</td></tr><tr><td>1</td><td>Carl Mike</td><td>m</td><td>170000</td><td>Support</td></tr></tbody></table></div>"
      ]
     },
     "metadata": {
      "application/vnd.databricks.v1+output": {
       "addedWidgets": {},
       "aggData": [],
       "aggError": "",
       "aggOverflow": false,
       "aggSchema": [],
       "aggSeriesLimitReached": false,
       "aggType": "",
       "arguments": {},
       "columnCustomDisplayInfos": {},
       "data": [
        [
         2,
         "Mikel Clark",
         "m",
         254300,
         "IT"
        ],
        [
         3,
         "Bob Smith",
         "m",
         220000,
         "IT"
        ],
        [
         4,
         "Mary Scala",
         "f",
         230000,
         "Sales"
        ],
        [
         1,
         "Carl Mike",
         "m",
         170000,
         "Support"
        ]
       ],
       "datasetInfos": [],
       "dbfsResultPath": null,
       "isJsonSchema": true,
       "metadata": {},
       "overflow": false,
       "plotOptions": {
        "customPlotOptions": {},
        "displayType": "table",
        "pivotAggregation": null,
        "pivotColumns": null,
        "xColumns": null,
        "yColumns": null
       },
       "removedWidgets": [],
       "schema": [
        {
         "metadata": "{}",
         "name": "id",
         "type": "\"integer\""
        },
        {
         "metadata": "{}",
         "name": "name",
         "type": "\"string\""
        },
        {
         "metadata": "{}",
         "name": "gender",
         "type": "\"string\""
        },
        {
         "metadata": "{}",
         "name": "salary",
         "type": "\"integer\""
        },
        {
         "metadata": "{}",
         "name": "dept",
         "type": "\"string\""
        }
       ],
       "type": "table"
      }
     },
     "output_type": "display_data"
    }
   ],
   "source": [
    "%sql\n",
    "\n",
    "SELECT * FROM employee_dt;"
   ]
  },
  {
   "cell_type": "markdown",
   "metadata": {
    "application/vnd.databricks.v1+cell": {
     "cellMetadata": {},
     "inputWidgets": {},
     "nuid": "2819676d-8bff-426b-8ddb-13d0d3f2f20b",
     "showTitle": false,
     "title": ""
    }
   },
   "source": [
    "## Daframe Format Method"
   ]
  },
  {
   "cell_type": "code",
   "execution_count": 0,
   "metadata": {
    "application/vnd.databricks.v1+cell": {
     "cellMetadata": {
      "byteLimit": 2048000,
      "rowLimit": 10000
     },
     "inputWidgets": {},
     "nuid": "115915b2-4664-4911-b0db-4b1eef9dbd6f",
     "showTitle": false,
     "title": ""
    }
   },
   "outputs": [],
   "source": [
    "from pyspark.sql.types import StructType, StructField, IntegerType, StringType"
   ]
  },
  {
   "cell_type": "code",
   "execution_count": 0,
   "metadata": {
    "application/vnd.databricks.v1+cell": {
     "cellMetadata": {
      "byteLimit": 2048000,
      "rowLimit": 10000
     },
     "inputWidgets": {},
     "nuid": "a01d916d-7454-422a-90ea-de9f131ce3ee",
     "showTitle": false,
     "title": ""
    }
   },
   "outputs": [],
   "source": [
    "data_employee = [\n",
    "    (5, \"Eve Davis\", \"f\", 195000, \"HR\"),\n",
    "    (6, \"Frank Martin\", \"m\", 240000, \"Support\"),\n",
    "    (7, \"Grace Lee\", \"f\", 210000, \"IT\"),\n",
    "    (8, \"Henry Clark\", \"m\", 230000, \"Sales\"),\n",
    "    (9, \"Irene Turner\", \"f\", 175000, \"HR\"),\n",
    "    (10, \"Jack White\", \"m\", 190000, \"IT\")\n",
    "    ]\n",
    "\n",
    "schema_employee = StructType([ \\\n",
    "    StructField(\"id\",IntegerType(),False), \\\n",
    "    StructField(\"name\",StringType(),True), \\\n",
    "    StructField(\"gender\",StringType(),True), \\\n",
    "    StructField(\"salary\",IntegerType(),True), \\\n",
    "    StructField(\"dept\",StringType(),True), \\\n",
    "])"
   ]
  },
  {
   "cell_type": "code",
   "execution_count": 0,
   "metadata": {
    "application/vnd.databricks.v1+cell": {
     "cellMetadata": {
      "byteLimit": 2048000,
      "rowLimit": 10000
     },
     "inputWidgets": {},
     "nuid": "fdb734f8-21fb-49eb-9b13-b2ccef5596c0",
     "showTitle": false,
     "title": ""
    }
   },
   "outputs": [],
   "source": [
    "df_employee = spark.createDataFrame(data=data_employee,schema=schema_employee)"
   ]
  },
  {
   "cell_type": "code",
   "execution_count": 0,
   "metadata": {
    "application/vnd.databricks.v1+cell": {
     "cellMetadata": {
      "byteLimit": 2048000,
      "rowLimit": 10000
     },
     "inputWidgets": {},
     "nuid": "edc6fe1e-c9f1-433b-8e82-f35bc83f5d89",
     "showTitle": false,
     "title": ""
    }
   },
   "outputs": [
    {
     "output_type": "stream",
     "name": "stdout",
     "output_type": "stream",
     "text": [
      "+---+------------+------+------+-------+\n| id|        name|gender|salary|   dept|\n+---+------------+------+------+-------+\n|  5|   Eve Davis|     f|195000|     HR|\n|  6|Frank Martin|     m|240000|Support|\n|  7|   Grace Lee|     f|210000|     IT|\n|  8| Henry Clark|     m|230000|  Sales|\n|  9|Irene Turner|     f|175000|     HR|\n| 10|  Jack White|     m|190000|     IT|\n+---+------------+------+------+-------+\n\n"
     ]
    }
   ],
   "source": [
    "df_employee.show()"
   ]
  },
  {
   "cell_type": "code",
   "execution_count": 0,
   "metadata": {
    "application/vnd.databricks.v1+cell": {
     "cellMetadata": {
      "byteLimit": 2048000,
      "rowLimit": 10000
     },
     "inputWidgets": {},
     "nuid": "fd5221a6-25cc-4acb-8de6-3ff6898a6483",
     "showTitle": false,
     "title": ""
    }
   },
   "outputs": [],
   "source": [
    "df_employee.write.format(\"delta\").mode(\"append\").saveAsTable(\"employee_dt\")"
   ]
  },
  {
   "cell_type": "markdown",
   "metadata": {
    "application/vnd.databricks.v1+cell": {
     "cellMetadata": {},
     "inputWidgets": {},
     "nuid": "2f4b6482-9a66-4576-a48e-585f12c11ec3",
     "showTitle": false,
     "title": ""
    }
   },
   "source": [
    "## Dataframe Insert Into Method"
   ]
  },
  {
   "cell_type": "code",
   "execution_count": 0,
   "metadata": {
    "application/vnd.databricks.v1+cell": {
     "cellMetadata": {
      "byteLimit": 2048000,
      "rowLimit": 10000
     },
     "inputWidgets": {},
     "nuid": "eb678c44-5e67-4fdb-ae0e-40ebc7e1acca",
     "showTitle": false,
     "title": ""
    }
   },
   "outputs": [
    {
     "output_type": "stream",
     "name": "stdout",
     "output_type": "stream",
     "text": [
      "+---+--------------+------+------+---------+\n| id|          name|gender|salary|     dept|\n+---+--------------+------+------+---------+\n| 11|   Marta Evans|     f|205000|Marketing|\n| 12|Leonard Harris|     m|215000|  Finance|\n| 13|    Nancy Hall|     f|185000|  Support|\n+---+--------------+------+------+---------+\n\n"
     ]
    }
   ],
   "source": [
    "data_employee_v2 = [\n",
    "    (11, \"Marta Evans\", \"f\", 205000, \"Marketing\"),\n",
    "    (12, \"Leonard Harris\", \"m\", 215000, \"Finance\"),\n",
    "    (13, \"Nancy Hall\", \"f\", 185000, \"Support\")\n",
    "    ]\n",
    "\n",
    "schema_employee_v2 = StructType([ \\\n",
    "    StructField(\"id\",IntegerType(),False), \\\n",
    "    StructField(\"name\",StringType(),True), \\\n",
    "    StructField(\"gender\",StringType(),True), \\\n",
    "    StructField(\"salary\",IntegerType(),True), \\\n",
    "    StructField(\"dept\",StringType(),True), \\\n",
    "])\n",
    "\n",
    "df_employee_v2 = spark.createDataFrame(data=data_employee_v2,schema=schema_employee_v2)\n",
    "\n",
    "df_employee_v2.show()"
   ]
  },
  {
   "cell_type": "code",
   "execution_count": 0,
   "metadata": {
    "application/vnd.databricks.v1+cell": {
     "cellMetadata": {
      "byteLimit": 2048000,
      "rowLimit": 10000
     },
     "inputWidgets": {},
     "nuid": "a81c455f-7c3e-423d-9b14-a1b6af851032",
     "showTitle": false,
     "title": ""
    }
   },
   "outputs": [],
   "source": [
    "df_employee_v2.write.insertInto(\"employee_dt\", overwrite=False)"
   ]
  },
  {
   "cell_type": "markdown",
   "metadata": {
    "application/vnd.databricks.v1+cell": {
     "cellMetadata": {},
     "inputWidgets": {},
     "nuid": "b5fb4a11-f141-4e2c-a810-a6bd6174facd",
     "showTitle": false,
     "title": ""
    }
   },
   "source": [
    "## Dataframe Query"
   ]
  },
  {
   "cell_type": "code",
   "execution_count": 0,
   "metadata": {
    "application/vnd.databricks.v1+cell": {
     "cellMetadata": {
      "byteLimit": 2048000,
      "rowLimit": 10000
     },
     "inputWidgets": {},
     "nuid": "0ea662fa-95b4-4b2b-bb40-2036791c3e91",
     "showTitle": false,
     "title": ""
    }
   },
   "outputs": [
    {
     "output_type": "stream",
     "name": "stdout",
     "output_type": "stream",
     "text": [
      "+---+--------------+------+------+---------+\n| id|          name|gender|salary|     dept|\n+---+--------------+------+------+---------+\n|  2|   Mikel Clark|     m|254300|       IT|\n|  3|     Bob Smith|     m|220000|       IT|\n|  4|    Mary Scala|     f|230000|    Sales|\n| 12|Leonard Harris|     m|215000|  Finance|\n| 11|   Marta Evans|     f|205000|Marketing|\n|  6|  Frank Martin|     m|240000|  Support|\n| 13|    Nancy Hall|     f|185000|  Support|\n|  1|     Carl Mike|     m|170000|  Support|\n|  8|   Henry Clark|     m|230000|    Sales|\n|  9|  Irene Turner|     f|175000|       HR|\n| 10|    Jack White|     m|190000|       IT|\n|  5|     Eve Davis|     f|195000|       HR|\n|  7|     Grace Lee|     f|210000|       IT|\n+---+--------------+------+------+---------+\n\n"
     ]
    }
   ],
   "source": [
    "DeltaTable.forName(spark,\"employee_dt\").toDF().show()"
   ]
  },
  {
   "cell_type": "markdown",
   "metadata": {
    "application/vnd.databricks.v1+cell": {
     "cellMetadata": {},
     "inputWidgets": {},
     "nuid": "306c839d-5248-4335-9d35-dc00eb94a8ee",
     "showTitle": false,
     "title": ""
    }
   },
   "source": [
    "## Temp View Insert"
   ]
  },
  {
   "cell_type": "code",
   "execution_count": 0,
   "metadata": {
    "application/vnd.databricks.v1+cell": {
     "cellMetadata": {
      "byteLimit": 2048000,
      "rowLimit": 10000
     },
     "inputWidgets": {},
     "nuid": "cc219e36-c8e1-4df1-8a18-983a26807692",
     "showTitle": false,
     "title": ""
    }
   },
   "outputs": [
    {
     "output_type": "stream",
     "name": "stdout",
     "output_type": "stream",
     "text": [
      "+---+------------+------+------+-------+\n| id|        name|gender|salary|   dept|\n+---+------------+------+------+-------+\n| 18|Victor Adams|     m|235000|     IT|\n| 19| Wendy Scott|     f|220000|Support|\n| 20|  Xavier Lee|     m|245000|  Sales|\n+---+------------+------+------+-------+\n\n"
     ]
    }
   ],
   "source": [
    "data_employee_v3 = [\n",
    "    (18, \"Victor Adams\", \"m\", 235000, \"IT\"),\n",
    "    (19, \"Wendy Scott\", \"f\", 220000, \"Support\"),\n",
    "    (20, \"Xavier Lee\", \"m\", 245000, \"Sales\")\n",
    "    ]\n",
    "\n",
    "schema_employee_v3 = StructType([ \\\n",
    "    StructField(\"id\",IntegerType(),False), \\\n",
    "    StructField(\"name\",StringType(),True), \\\n",
    "    StructField(\"gender\",StringType(),True), \\\n",
    "    StructField(\"salary\",IntegerType(),True), \\\n",
    "    StructField(\"dept\",StringType(),True), \\\n",
    "])\n",
    "\n",
    "df_employee_v3 = spark.createDataFrame(data=data_employee_v3,schema=schema_employee_v3)\n",
    "\n",
    "df_employee_v3.show()"
   ]
  },
  {
   "cell_type": "code",
   "execution_count": 0,
   "metadata": {
    "application/vnd.databricks.v1+cell": {
     "cellMetadata": {
      "byteLimit": 2048000,
      "rowLimit": 10000
     },
     "inputWidgets": {},
     "nuid": "a39a15c9-3526-410d-89ab-b96af20ceb86",
     "showTitle": false,
     "title": ""
    }
   },
   "outputs": [],
   "source": [
    "df_employee_v3.createOrReplaceTempView(\"df_employee_temp_view\")"
   ]
  },
  {
   "cell_type": "code",
   "execution_count": 0,
   "metadata": {
    "application/vnd.databricks.v1+cell": {
     "cellMetadata": {
      "byteLimit": 2048000,
      "implicitDf": true,
      "rowLimit": 10000
     },
     "inputWidgets": {},
     "nuid": "b3f74261-7d18-4af4-b1cc-0527507bc81e",
     "showTitle": false,
     "title": ""
    }
   },
   "outputs": [
    {
     "output_type": "display_data",
     "data": {
      "text/html": [
       "<style scoped>\n",
       "  .table-result-container {\n",
       "    max-height: 300px;\n",
       "    overflow: auto;\n",
       "  }\n",
       "  table, th, td {\n",
       "    border: 1px solid black;\n",
       "    border-collapse: collapse;\n",
       "  }\n",
       "  th, td {\n",
       "    padding: 5px;\n",
       "  }\n",
       "  th {\n",
       "    text-align: left;\n",
       "  }\n",
       "</style><div class='table-result-container'><table class='table-result'><thead style='background-color: white'><tr><th>id</th><th>name</th><th>gender</th><th>salary</th><th>dept</th></tr></thead><tbody><tr><td>18</td><td>Victor Adams</td><td>m</td><td>235000</td><td>IT</td></tr><tr><td>19</td><td>Wendy Scott</td><td>f</td><td>220000</td><td>Support</td></tr><tr><td>20</td><td>Xavier Lee</td><td>m</td><td>245000</td><td>Sales</td></tr></tbody></table></div>"
      ]
     },
     "metadata": {
      "application/vnd.databricks.v1+output": {
       "addedWidgets": {},
       "aggData": [],
       "aggError": "",
       "aggOverflow": false,
       "aggSchema": [],
       "aggSeriesLimitReached": false,
       "aggType": "",
       "arguments": {},
       "columnCustomDisplayInfos": {},
       "data": [
        [
         18,
         "Victor Adams",
         "m",
         235000,
         "IT"
        ],
        [
         19,
         "Wendy Scott",
         "f",
         220000,
         "Support"
        ],
        [
         20,
         "Xavier Lee",
         "m",
         245000,
         "Sales"
        ]
       ],
       "datasetInfos": [],
       "dbfsResultPath": null,
       "isJsonSchema": true,
       "metadata": {},
       "overflow": false,
       "plotOptions": {
        "customPlotOptions": {},
        "displayType": "table",
        "pivotAggregation": null,
        "pivotColumns": null,
        "xColumns": null,
        "yColumns": null
       },
       "removedWidgets": [],
       "schema": [
        {
         "metadata": "{}",
         "name": "id",
         "type": "\"integer\""
        },
        {
         "metadata": "{}",
         "name": "name",
         "type": "\"string\""
        },
        {
         "metadata": "{}",
         "name": "gender",
         "type": "\"string\""
        },
        {
         "metadata": "{}",
         "name": "salary",
         "type": "\"integer\""
        },
        {
         "metadata": "{}",
         "name": "dept",
         "type": "\"string\""
        }
       ],
       "type": "table"
      }
     },
     "output_type": "display_data"
    }
   ],
   "source": [
    "%sql\n",
    "\n",
    "SELECT * FROM df_employee_temp_view;"
   ]
  },
  {
   "cell_type": "code",
   "execution_count": 0,
   "metadata": {
    "application/vnd.databricks.v1+cell": {
     "cellMetadata": {
      "byteLimit": 2048000,
      "implicitDf": true,
      "rowLimit": 10000
     },
     "inputWidgets": {},
     "nuid": "4f3d875b-20d4-44e6-8d74-6983afa7d842",
     "showTitle": false,
     "title": ""
    }
   },
   "outputs": [
    {
     "output_type": "display_data",
     "data": {
      "text/html": [
       "<style scoped>\n",
       "  .table-result-container {\n",
       "    max-height: 300px;\n",
       "    overflow: auto;\n",
       "  }\n",
       "  table, th, td {\n",
       "    border: 1px solid black;\n",
       "    border-collapse: collapse;\n",
       "  }\n",
       "  th, td {\n",
       "    padding: 5px;\n",
       "  }\n",
       "  th {\n",
       "    text-align: left;\n",
       "  }\n",
       "</style><div class='table-result-container'><table class='table-result'><thead style='background-color: white'><tr><th>num_affected_rows</th><th>num_inserted_rows</th></tr></thead><tbody><tr><td>3</td><td>3</td></tr></tbody></table></div>"
      ]
     },
     "metadata": {
      "application/vnd.databricks.v1+output": {
       "addedWidgets": {},
       "aggData": [],
       "aggError": "",
       "aggOverflow": false,
       "aggSchema": [],
       "aggSeriesLimitReached": false,
       "aggType": "",
       "arguments": {},
       "columnCustomDisplayInfos": {},
       "data": [
        [
         3,
         3
        ]
       ],
       "datasetInfos": [],
       "dbfsResultPath": null,
       "isJsonSchema": true,
       "metadata": {},
       "overflow": false,
       "plotOptions": {
        "customPlotOptions": {},
        "displayType": "table",
        "pivotAggregation": null,
        "pivotColumns": null,
        "xColumns": null,
        "yColumns": null
       },
       "removedWidgets": [],
       "schema": [
        {
         "metadata": "{}",
         "name": "num_affected_rows",
         "type": "\"long\""
        },
        {
         "metadata": "{}",
         "name": "num_inserted_rows",
         "type": "\"long\""
        }
       ],
       "type": "table"
      }
     },
     "output_type": "display_data"
    }
   ],
   "source": [
    "%sql\n",
    "\n",
    "INSERT INTO delta.`dbfs:/FileStore/tables/delta/employee`\n",
    "  SELECT * FROM df_employee_temp_view;"
   ]
  },
  {
   "cell_type": "markdown",
   "metadata": {
    "application/vnd.databricks.v1+cell": {
     "cellMetadata": {},
     "inputWidgets": {},
     "nuid": "6e765cbb-ed2c-47c0-b616-c9a38c9ae9a1",
     "showTitle": false,
     "title": ""
    }
   },
   "source": [
    "## Spark SQL Insert"
   ]
  },
  {
   "cell_type": "code",
   "execution_count": 0,
   "metadata": {
    "application/vnd.databricks.v1+cell": {
     "cellMetadata": {
      "byteLimit": 2048000,
      "rowLimit": 10000
     },
     "inputWidgets": {},
     "nuid": "e42ba22e-7736-41f9-95e4-0cc07a6abfca",
     "showTitle": false,
     "title": ""
    }
   },
   "outputs": [
    {
     "output_type": "stream",
     "name": "stdout",
     "output_type": "stream",
     "text": [
      "+---+--------+------+------+----+\n| id|    name|gender|salary|dept|\n+---+--------+------+------+----+\n| 17|Uma King|     f|190000|  HR|\n+---+--------+------+------+----+\n\n"
     ]
    }
   ],
   "source": [
    "data_employee_v4 = [\n",
    "    (17, \"Uma King\", \"f\", 190000, \"HR\")\n",
    "    ]\n",
    "\n",
    "schema_employee_v4 = StructType([ \\\n",
    "    StructField(\"id\",IntegerType(),False), \\\n",
    "    StructField(\"name\",StringType(),True), \\\n",
    "    StructField(\"gender\",StringType(),True), \\\n",
    "    StructField(\"salary\",IntegerType(),True), \\\n",
    "    StructField(\"dept\",StringType(),True), \\\n",
    "])\n",
    "\n",
    "df_employee_v4 = spark.createDataFrame(data=data_employee_v4,schema=schema_employee_v4)\n",
    "\n",
    "df_employee_v4.show()"
   ]
  },
  {
   "cell_type": "code",
   "execution_count": 0,
   "metadata": {
    "application/vnd.databricks.v1+cell": {
     "cellMetadata": {
      "byteLimit": 2048000,
      "rowLimit": 10000
     },
     "inputWidgets": {},
     "nuid": "7dd1f96e-c506-4771-a3bd-4d1910d054cf",
     "showTitle": false,
     "title": ""
    }
   },
   "outputs": [],
   "source": [
    "df_employee_v4.createOrReplaceTempView(\"df_employee_one_row\")"
   ]
  },
  {
   "cell_type": "code",
   "execution_count": 0,
   "metadata": {
    "application/vnd.databricks.v1+cell": {
     "cellMetadata": {
      "byteLimit": 2048000,
      "rowLimit": 10000
     },
     "inputWidgets": {},
     "nuid": "50799c10-58c8-4394-84b1-bc28ace7cd59",
     "showTitle": false,
     "title": ""
    }
   },
   "outputs": [
    {
     "output_type": "stream",
     "name": "stdout",
     "output_type": "stream",
     "text": [
      "Out[54]: DataFrame[num_affected_rows: bigint, num_inserted_rows: bigint]"
     ]
    }
   ],
   "source": [
    "spark.sql('INSERT INTO employee_dt SELECT * FROM df_employee_one_row')"
   ]
  },
  {
   "cell_type": "markdown",
   "metadata": {
    "application/vnd.databricks.v1+cell": {
     "cellMetadata": {},
     "inputWidgets": {},
     "nuid": "0703da2a-9618-45c4-adad-82f26eb51c3c",
     "showTitle": false,
     "title": ""
    }
   },
   "source": [
    "## Spark SQL Select"
   ]
  },
  {
   "cell_type": "code",
   "execution_count": 0,
   "metadata": {
    "application/vnd.databricks.v1+cell": {
     "cellMetadata": {
      "byteLimit": 2048000,
      "rowLimit": 10000
     },
     "inputWidgets": {},
     "nuid": "204e5fd3-8b6e-4511-a114-d721986db980",
     "showTitle": false,
     "title": ""
    }
   },
   "outputs": [
    {
     "output_type": "stream",
     "name": "stdout",
     "output_type": "stream",
     "text": [
      "+---+--------------+------+------+---------+\n| id|          name|gender|salary|     dept|\n+---+--------------+------+------+---------+\n|  2|   Mikel Clark|     m|254300|       IT|\n|  3|     Bob Smith|     m|220000|       IT|\n|  4|    Mary Scala|     f|230000|    Sales|\n| 12|Leonard Harris|     m|215000|  Finance|\n| 11|   Marta Evans|     f|205000|Marketing|\n|  6|  Frank Martin|     m|240000|  Support|\n| 19|   Wendy Scott|     f|220000|  Support|\n| 19|   Wendy Scott|     f|220000|  Support|\n| 13|    Nancy Hall|     f|185000|  Support|\n|  1|     Carl Mike|     m|170000|  Support|\n|  8|   Henry Clark|     m|230000|    Sales|\n| 20|    Xavier Lee|     m|245000|    Sales|\n| 20|    Xavier Lee|     m|245000|    Sales|\n|  9|  Irene Turner|     f|175000|       HR|\n| 18|  Victor Adams|     m|235000|       IT|\n| 18|  Victor Adams|     m|235000|       IT|\n| 10|    Jack White|     m|190000|       IT|\n|  5|     Eve Davis|     f|195000|       HR|\n|  7|     Grace Lee|     f|210000|       IT|\n| 17|      Uma King|     f|190000|       HR|\n+---+--------------+------+------+---------+\n\n"
     ]
    }
   ],
   "source": [
    "spark.sql(\"SELECT * FROM employee_dt\").show()"
   ]
  },
  {
   "cell_type": "markdown",
   "metadata": {
    "application/vnd.databricks.v1+cell": {
     "cellMetadata": {},
     "inputWidgets": {},
     "nuid": "f664d0d8-b4a4-4d1c-b90d-745e1b953ba4",
     "showTitle": false,
     "title": ""
    }
   },
   "source": [
    "# DELETE DATA DELTA TABLE"
   ]
  },
  {
   "cell_type": "markdown",
   "metadata": {
    "application/vnd.databricks.v1+cell": {
     "cellMetadata": {},
     "inputWidgets": {},
     "nuid": "b46d4926-d92f-4b2d-8457-03521dbd8d91",
     "showTitle": false,
     "title": ""
    }
   },
   "source": [
    "## SQL Delete using Name"
   ]
  },
  {
   "cell_type": "code",
   "execution_count": 0,
   "metadata": {
    "application/vnd.databricks.v1+cell": {
     "cellMetadata": {
      "byteLimit": 2048000,
      "implicitDf": true,
      "rowLimit": 10000
     },
     "inputWidgets": {},
     "nuid": "05b36c5a-cc68-4d5b-9e0b-e6dd11b0b222",
     "showTitle": false,
     "title": ""
    }
   },
   "outputs": [
    {
     "output_type": "display_data",
     "data": {
      "text/html": [
       "<style scoped>\n",
       "  .table-result-container {\n",
       "    max-height: 300px;\n",
       "    overflow: auto;\n",
       "  }\n",
       "  table, th, td {\n",
       "    border: 1px solid black;\n",
       "    border-collapse: collapse;\n",
       "  }\n",
       "  th, td {\n",
       "    padding: 5px;\n",
       "  }\n",
       "  th {\n",
       "    text-align: left;\n",
       "  }\n",
       "</style><div class='table-result-container'><table class='table-result'><thead style='background-color: white'><tr><th>num_affected_rows</th></tr></thead><tbody><tr><td>1</td></tr></tbody></table></div>"
      ]
     },
     "metadata": {
      "application/vnd.databricks.v1+output": {
       "addedWidgets": {},
       "aggData": [],
       "aggError": "",
       "aggOverflow": false,
       "aggSchema": [],
       "aggSeriesLimitReached": false,
       "aggType": "",
       "arguments": {},
       "columnCustomDisplayInfos": {},
       "data": [
        [
         1
        ]
       ],
       "datasetInfos": [],
       "dbfsResultPath": null,
       "isJsonSchema": true,
       "metadata": {},
       "overflow": false,
       "plotOptions": {
        "customPlotOptions": {},
        "displayType": "table",
        "pivotAggregation": null,
        "pivotColumns": null,
        "xColumns": null,
        "yColumns": null
       },
       "removedWidgets": [],
       "schema": [
        {
         "metadata": "{}",
         "name": "num_affected_rows",
         "type": "\"long\""
        }
       ],
       "type": "table"
      }
     },
     "output_type": "display_data"
    }
   ],
   "source": [
    "%sql\n",
    "\n",
    "DELETE FROM employee_dt WHERE id=17;"
   ]
  },
  {
   "cell_type": "markdown",
   "metadata": {
    "application/vnd.databricks.v1+cell": {
     "cellMetadata": {},
     "inputWidgets": {},
     "nuid": "64140b06-97cd-48b8-9c66-d1c7b4e37493",
     "showTitle": false,
     "title": ""
    }
   },
   "source": [
    "## SQL Delete using Delta Location"
   ]
  },
  {
   "cell_type": "code",
   "execution_count": 0,
   "metadata": {
    "application/vnd.databricks.v1+cell": {
     "cellMetadata": {
      "byteLimit": 2048000,
      "implicitDf": true,
      "rowLimit": 10000
     },
     "inputWidgets": {},
     "nuid": "6825a4df-5b49-4bad-a4a2-94edea50a352",
     "showTitle": false,
     "title": ""
    }
   },
   "outputs": [
    {
     "output_type": "display_data",
     "data": {
      "text/html": [
       "<style scoped>\n",
       "  .table-result-container {\n",
       "    max-height: 300px;\n",
       "    overflow: auto;\n",
       "  }\n",
       "  table, th, td {\n",
       "    border: 1px solid black;\n",
       "    border-collapse: collapse;\n",
       "  }\n",
       "  th, td {\n",
       "    padding: 5px;\n",
       "  }\n",
       "  th {\n",
       "    text-align: left;\n",
       "  }\n",
       "</style><div class='table-result-container'><table class='table-result'><thead style='background-color: white'><tr><th>num_affected_rows</th></tr></thead><tbody><tr><td>1</td></tr></tbody></table></div>"
      ]
     },
     "metadata": {
      "application/vnd.databricks.v1+output": {
       "addedWidgets": {},
       "aggData": [],
       "aggError": "",
       "aggOverflow": false,
       "aggSchema": [],
       "aggSeriesLimitReached": false,
       "aggType": "",
       "arguments": {},
       "columnCustomDisplayInfos": {},
       "data": [
        [
         1
        ]
       ],
       "datasetInfos": [],
       "dbfsResultPath": null,
       "isJsonSchema": true,
       "metadata": {},
       "overflow": false,
       "plotOptions": {
        "customPlotOptions": {},
        "displayType": "table",
        "pivotAggregation": null,
        "pivotColumns": null,
        "xColumns": null,
        "yColumns": null
       },
       "removedWidgets": [],
       "schema": [
        {
         "metadata": "{}",
         "name": "num_affected_rows",
         "type": "\"long\""
        }
       ],
       "type": "table"
      }
     },
     "output_type": "display_data"
    }
   ],
   "source": [
    "%sql\n",
    "\n",
    "DELETE FROM delta.`dbfs:/FileStore/tables/delta/employee` WHERE id=1;"
   ]
  },
  {
   "cell_type": "markdown",
   "metadata": {
    "application/vnd.databricks.v1+cell": {
     "cellMetadata": {},
     "inputWidgets": {},
     "nuid": "6536717c-c6ce-4d86-aa83-9832ab57946e",
     "showTitle": false,
     "title": ""
    }
   },
   "source": [
    "## Spark SQL Delete"
   ]
  },
  {
   "cell_type": "code",
   "execution_count": 0,
   "metadata": {
    "application/vnd.databricks.v1+cell": {
     "cellMetadata": {
      "byteLimit": 2048000,
      "rowLimit": 10000
     },
     "inputWidgets": {},
     "nuid": "18684cce-732c-49b7-94a0-6af8d7f7dbb5",
     "showTitle": false,
     "title": ""
    }
   },
   "outputs": [
    {
     "output_type": "stream",
     "name": "stdout",
     "output_type": "stream",
     "text": [
      "Out[58]: DataFrame[num_affected_rows: bigint]"
     ]
    }
   ],
   "source": [
    "spark.sql(\"DELETE FROM employee_dt WHERE id=2\")"
   ]
  },
  {
   "cell_type": "markdown",
   "metadata": {
    "application/vnd.databricks.v1+cell": {
     "cellMetadata": {},
     "inputWidgets": {},
     "nuid": "2a8cfcc9-cffe-42b6-be8f-c67e1a457d16",
     "showTitle": false,
     "title": ""
    }
   },
   "source": [
    "## Spark Delta Table Instance Delete"
   ]
  },
  {
   "cell_type": "code",
   "execution_count": 0,
   "metadata": {
    "application/vnd.databricks.v1+cell": {
     "cellMetadata": {
      "byteLimit": 2048000,
      "rowLimit": 10000
     },
     "inputWidgets": {},
     "nuid": "7fde37e6-fc82-4c87-bb98-e6133ac7ae80",
     "showTitle": false,
     "title": ""
    }
   },
   "outputs": [],
   "source": [
    "dt_employee = DeltaTable.forName(spark,\"employee_dt\")"
   ]
  },
  {
   "cell_type": "code",
   "execution_count": 0,
   "metadata": {
    "application/vnd.databricks.v1+cell": {
     "cellMetadata": {
      "byteLimit": 2048000,
      "rowLimit": 10000
     },
     "inputWidgets": {},
     "nuid": "f3a75717-21c6-4912-949f-89f581fdc25a",
     "showTitle": false,
     "title": ""
    }
   },
   "outputs": [],
   "source": [
    "dt_employee.delete(\"id=4\")"
   ]
  },
  {
   "cell_type": "markdown",
   "metadata": {
    "application/vnd.databricks.v1+cell": {
     "cellMetadata": {},
     "inputWidgets": {},
     "nuid": "c672df53-09d1-444a-bba4-fee9b7eda031",
     "showTitle": false,
     "title": ""
    }
   },
   "source": [
    "## Spark SQL Predicate"
   ]
  },
  {
   "cell_type": "code",
   "execution_count": 0,
   "metadata": {
    "application/vnd.databricks.v1+cell": {
     "cellMetadata": {
      "byteLimit": 2048000,
      "rowLimit": 10000
     },
     "inputWidgets": {},
     "nuid": "c016abc8-1279-4e18-b059-39c6e6d8efc3",
     "showTitle": false,
     "title": ""
    }
   },
   "outputs": [],
   "source": [
    "from pyspark.sql.functions import col"
   ]
  },
  {
   "cell_type": "code",
   "execution_count": 0,
   "metadata": {
    "application/vnd.databricks.v1+cell": {
     "cellMetadata": {
      "byteLimit": 2048000,
      "rowLimit": 10000
     },
     "inputWidgets": {},
     "nuid": "bc8b6540-c27e-4880-a0c5-628bdbf7775e",
     "showTitle": false,
     "title": ""
    }
   },
   "outputs": [],
   "source": [
    "dt_employee.delete(col(\"id\") == 13)"
   ]
  },
  {
   "cell_type": "markdown",
   "metadata": {
    "application/vnd.databricks.v1+cell": {
     "cellMetadata": {},
     "inputWidgets": {},
     "nuid": "7f3efe5d-6787-4c27-977e-dd960fdb2e5b",
     "showTitle": false,
     "title": ""
    }
   },
   "source": [
    "## SQL CTE (drop duplicates)"
   ]
  },
  {
   "cell_type": "code",
   "execution_count": 0,
   "metadata": {
    "application/vnd.databricks.v1+cell": {
     "cellMetadata": {
      "byteLimit": 2048000,
      "implicitDf": true,
      "rowLimit": 10000
     },
     "inputWidgets": {},
     "nuid": "39406c5d-6e0a-43f5-8e07-ff2ce26a9cc4",
     "showTitle": false,
     "title": ""
    }
   },
   "outputs": [
    {
     "output_type": "display_data",
     "data": {
      "text/html": [
       "<style scoped>\n",
       "  .table-result-container {\n",
       "    max-height: 300px;\n",
       "    overflow: auto;\n",
       "  }\n",
       "  table, th, td {\n",
       "    border: 1px solid black;\n",
       "    border-collapse: collapse;\n",
       "  }\n",
       "  th, td {\n",
       "    padding: 5px;\n",
       "  }\n",
       "  th {\n",
       "    text-align: left;\n",
       "  }\n",
       "</style><div class='table-result-container'><table class='table-result'><thead style='background-color: white'><tr><th>id</th><th>name</th><th>gender</th><th>salary</th><th>dept</th></tr></thead><tbody><tr><td>12</td><td>Leonard Harris</td><td>m</td><td>215000</td><td>Finance</td></tr><tr><td>11</td><td>Marta Evans</td><td>f</td><td>205000</td><td>Marketing</td></tr><tr><td>6</td><td>Frank Martin</td><td>m</td><td>240000</td><td>Support</td></tr><tr><td>19</td><td>Wendy Scott</td><td>f</td><td>220000</td><td>Support</td></tr><tr><td>19</td><td>Wendy Scott</td><td>f</td><td>220000</td><td>Support</td></tr><tr><td>8</td><td>Henry Clark</td><td>m</td><td>230000</td><td>Sales</td></tr><tr><td>20</td><td>Xavier Lee</td><td>m</td><td>245000</td><td>Sales</td></tr><tr><td>20</td><td>Xavier Lee</td><td>m</td><td>245000</td><td>Sales</td></tr><tr><td>9</td><td>Irene Turner</td><td>f</td><td>175000</td><td>HR</td></tr><tr><td>18</td><td>Victor Adams</td><td>m</td><td>235000</td><td>IT</td></tr><tr><td>18</td><td>Victor Adams</td><td>m</td><td>235000</td><td>IT</td></tr><tr><td>10</td><td>Jack White</td><td>m</td><td>190000</td><td>IT</td></tr><tr><td>3</td><td>Bob Smith</td><td>m</td><td>220000</td><td>IT</td></tr><tr><td>5</td><td>Eve Davis</td><td>f</td><td>195000</td><td>HR</td></tr><tr><td>7</td><td>Grace Lee</td><td>f</td><td>210000</td><td>IT</td></tr></tbody></table></div>"
      ]
     },
     "metadata": {
      "application/vnd.databricks.v1+output": {
       "addedWidgets": {},
       "aggData": [],
       "aggError": "",
       "aggOverflow": false,
       "aggSchema": [],
       "aggSeriesLimitReached": false,
       "aggType": "",
       "arguments": {},
       "columnCustomDisplayInfos": {},
       "data": [
        [
         12,
         "Leonard Harris",
         "m",
         215000,
         "Finance"
        ],
        [
         11,
         "Marta Evans",
         "f",
         205000,
         "Marketing"
        ],
        [
         6,
         "Frank Martin",
         "m",
         240000,
         "Support"
        ],
        [
         19,
         "Wendy Scott",
         "f",
         220000,
         "Support"
        ],
        [
         19,
         "Wendy Scott",
         "f",
         220000,
         "Support"
        ],
        [
         8,
         "Henry Clark",
         "m",
         230000,
         "Sales"
        ],
        [
         20,
         "Xavier Lee",
         "m",
         245000,
         "Sales"
        ],
        [
         20,
         "Xavier Lee",
         "m",
         245000,
         "Sales"
        ],
        [
         9,
         "Irene Turner",
         "f",
         175000,
         "HR"
        ],
        [
         18,
         "Victor Adams",
         "m",
         235000,
         "IT"
        ],
        [
         18,
         "Victor Adams",
         "m",
         235000,
         "IT"
        ],
        [
         10,
         "Jack White",
         "m",
         190000,
         "IT"
        ],
        [
         3,
         "Bob Smith",
         "m",
         220000,
         "IT"
        ],
        [
         5,
         "Eve Davis",
         "f",
         195000,
         "HR"
        ],
        [
         7,
         "Grace Lee",
         "f",
         210000,
         "IT"
        ]
       ],
       "datasetInfos": [],
       "dbfsResultPath": null,
       "isJsonSchema": true,
       "metadata": {},
       "overflow": false,
       "plotOptions": {
        "customPlotOptions": {},
        "displayType": "table",
        "pivotAggregation": null,
        "pivotColumns": null,
        "xColumns": null,
        "yColumns": null
       },
       "removedWidgets": [],
       "schema": [
        {
         "metadata": "{}",
         "name": "id",
         "type": "\"integer\""
        },
        {
         "metadata": "{}",
         "name": "name",
         "type": "\"string\""
        },
        {
         "metadata": "{}",
         "name": "gender",
         "type": "\"string\""
        },
        {
         "metadata": "{}",
         "name": "salary",
         "type": "\"integer\""
        },
        {
         "metadata": "{}",
         "name": "dept",
         "type": "\"string\""
        }
       ],
       "type": "table"
      }
     },
     "output_type": "display_data"
    }
   ],
   "source": [
    "%sql\n",
    "\n",
    "SELECT * FROM delta.`dbfs:/FileStore/tables/delta/employee`"
   ]
  },
  {
   "cell_type": "code",
   "execution_count": 0,
   "metadata": {
    "application/vnd.databricks.v1+cell": {
     "cellMetadata": {
      "byteLimit": 2048000,
      "implicitDf": true,
      "rowLimit": 10000
     },
     "inputWidgets": {},
     "nuid": "b5f4404d-9b1a-44fc-b98f-70298fa85de0",
     "showTitle": false,
     "title": ""
    }
   },
   "outputs": [
    {
     "output_type": "display_data",
     "data": {
      "text/html": [
       "<style scoped>\n",
       "  .table-result-container {\n",
       "    max-height: 300px;\n",
       "    overflow: auto;\n",
       "  }\n",
       "  table, th, td {\n",
       "    border: 1px solid black;\n",
       "    border-collapse: collapse;\n",
       "  }\n",
       "  th, td {\n",
       "    padding: 5px;\n",
       "  }\n",
       "  th {\n",
       "    text-align: left;\n",
       "  }\n",
       "</style><div class='table-result-container'><table class='table-result'><thead style='background-color: white'><tr><th>id</th><th>name</th><th>gender</th><th>salary</th><th>dept</th><th>id_count</th></tr></thead><tbody><tr><td>3</td><td>Bob Smith</td><td>m</td><td>220000</td><td>IT</td><td>1</td></tr><tr><td>5</td><td>Eve Davis</td><td>f</td><td>195000</td><td>HR</td><td>1</td></tr><tr><td>6</td><td>Frank Martin</td><td>m</td><td>240000</td><td>Support</td><td>1</td></tr><tr><td>7</td><td>Grace Lee</td><td>f</td><td>210000</td><td>IT</td><td>1</td></tr><tr><td>8</td><td>Henry Clark</td><td>m</td><td>230000</td><td>Sales</td><td>1</td></tr><tr><td>9</td><td>Irene Turner</td><td>f</td><td>175000</td><td>HR</td><td>1</td></tr><tr><td>10</td><td>Jack White</td><td>m</td><td>190000</td><td>IT</td><td>1</td></tr><tr><td>11</td><td>Marta Evans</td><td>f</td><td>205000</td><td>Marketing</td><td>1</td></tr><tr><td>12</td><td>Leonard Harris</td><td>m</td><td>215000</td><td>Finance</td><td>1</td></tr><tr><td>18</td><td>Victor Adams</td><td>m</td><td>235000</td><td>IT</td><td>1</td></tr><tr><td>18</td><td>Victor Adams</td><td>m</td><td>235000</td><td>IT</td><td>2</td></tr><tr><td>19</td><td>Wendy Scott</td><td>f</td><td>220000</td><td>Support</td><td>1</td></tr><tr><td>19</td><td>Wendy Scott</td><td>f</td><td>220000</td><td>Support</td><td>2</td></tr><tr><td>20</td><td>Xavier Lee</td><td>m</td><td>245000</td><td>Sales</td><td>1</td></tr><tr><td>20</td><td>Xavier Lee</td><td>m</td><td>245000</td><td>Sales</td><td>2</td></tr></tbody></table></div>"
      ]
     },
     "metadata": {
      "application/vnd.databricks.v1+output": {
       "addedWidgets": {},
       "aggData": [],
       "aggError": "",
       "aggOverflow": false,
       "aggSchema": [],
       "aggSeriesLimitReached": false,
       "aggType": "",
       "arguments": {},
       "columnCustomDisplayInfos": {},
       "data": [
        [
         3,
         "Bob Smith",
         "m",
         220000,
         "IT",
         1
        ],
        [
         5,
         "Eve Davis",
         "f",
         195000,
         "HR",
         1
        ],
        [
         6,
         "Frank Martin",
         "m",
         240000,
         "Support",
         1
        ],
        [
         7,
         "Grace Lee",
         "f",
         210000,
         "IT",
         1
        ],
        [
         8,
         "Henry Clark",
         "m",
         230000,
         "Sales",
         1
        ],
        [
         9,
         "Irene Turner",
         "f",
         175000,
         "HR",
         1
        ],
        [
         10,
         "Jack White",
         "m",
         190000,
         "IT",
         1
        ],
        [
         11,
         "Marta Evans",
         "f",
         205000,
         "Marketing",
         1
        ],
        [
         12,
         "Leonard Harris",
         "m",
         215000,
         "Finance",
         1
        ],
        [
         18,
         "Victor Adams",
         "m",
         235000,
         "IT",
         1
        ],
        [
         18,
         "Victor Adams",
         "m",
         235000,
         "IT",
         2
        ],
        [
         19,
         "Wendy Scott",
         "f",
         220000,
         "Support",
         1
        ],
        [
         19,
         "Wendy Scott",
         "f",
         220000,
         "Support",
         2
        ],
        [
         20,
         "Xavier Lee",
         "m",
         245000,
         "Sales",
         1
        ],
        [
         20,
         "Xavier Lee",
         "m",
         245000,
         "Sales",
         2
        ]
       ],
       "datasetInfos": [],
       "dbfsResultPath": null,
       "isJsonSchema": true,
       "metadata": {},
       "overflow": false,
       "plotOptions": {
        "customPlotOptions": {},
        "displayType": "table",
        "pivotAggregation": null,
        "pivotColumns": null,
        "xColumns": null,
        "yColumns": null
       },
       "removedWidgets": [],
       "schema": [
        {
         "metadata": "{}",
         "name": "id",
         "type": "\"integer\""
        },
        {
         "metadata": "{}",
         "name": "name",
         "type": "\"string\""
        },
        {
         "metadata": "{}",
         "name": "gender",
         "type": "\"string\""
        },
        {
         "metadata": "{}",
         "name": "salary",
         "type": "\"integer\""
        },
        {
         "metadata": "{}",
         "name": "dept",
         "type": "\"string\""
        },
        {
         "metadata": "{}",
         "name": "id_count",
         "type": "\"integer\""
        }
       ],
       "type": "table"
      }
     },
     "output_type": "display_data"
    }
   ],
   "source": [
    "%sql\n",
    "\n",
    "WITH CTE AS (\n",
    "    SELECT id,\n",
    "           name,\n",
    "           gender,\n",
    "           salary,\n",
    "           dept,\n",
    "           ROW_NUMBER() OVER(PARTITION BY id, name, gender, salary, dept ORDER BY id) AS id_count\n",
    "    FROM delta.`dbfs:/FileStore/tables/delta/employee`\n",
    ")\n",
    "\n",
    "SELECT * FROM CTE"
   ]
  },
  {
   "cell_type": "code",
   "execution_count": 0,
   "metadata": {
    "application/vnd.databricks.v1+cell": {
     "cellMetadata": {
      "byteLimit": 2048000,
      "implicitDf": true,
      "rowLimit": 10000
     },
     "inputWidgets": {},
     "nuid": "e444a219-294f-4fcb-b3a2-d871e18f02ff",
     "showTitle": false,
     "title": ""
    }
   },
   "outputs": [
    {
     "output_type": "display_data",
     "data": {
      "text/html": [
       "<style scoped>\n",
       "  .table-result-container {\n",
       "    max-height: 300px;\n",
       "    overflow: auto;\n",
       "  }\n",
       "  table, th, td {\n",
       "    border: 1px solid black;\n",
       "    border-collapse: collapse;\n",
       "  }\n",
       "  th, td {\n",
       "    padding: 5px;\n",
       "  }\n",
       "  th {\n",
       "    text-align: left;\n",
       "  }\n",
       "</style><div class='table-result-container'><table class='table-result'><thead style='background-color: white'><tr></tr></thead><tbody></tbody></table></div>"
      ]
     },
     "metadata": {
      "application/vnd.databricks.v1+output": {
       "addedWidgets": {},
       "aggData": [],
       "aggError": "",
       "aggOverflow": false,
       "aggSchema": [],
       "aggSeriesLimitReached": false,
       "aggType": "",
       "arguments": {},
       "columnCustomDisplayInfos": {},
       "data": [],
       "datasetInfos": [],
       "dbfsResultPath": null,
       "isJsonSchema": true,
       "metadata": {},
       "overflow": false,
       "plotOptions": {
        "customPlotOptions": {},
        "displayType": "table",
        "pivotAggregation": null,
        "pivotColumns": null,
        "xColumns": null,
        "yColumns": null
       },
       "removedWidgets": [],
       "schema": [],
       "type": "table"
      }
     },
     "output_type": "display_data"
    }
   ],
   "source": [
    "%sql\n",
    "\n",
    "CREATE OR REPLACE TABLE temp_employee AS\n",
    "WITH CTE AS (\n",
    "    SELECT id,\n",
    "           name,\n",
    "           gender,\n",
    "           salary,\n",
    "           dept,\n",
    "           ROW_NUMBER() OVER(PARTITION BY id, name, gender, salary, dept ORDER BY id) AS id_count\n",
    "    FROM delta.`dbfs:/FileStore/tables/delta/employee`\n",
    ")\n",
    "SELECT id, name, gender, salary, dept\n",
    "FROM CTE\n",
    "WHERE id_count = 1;\n",
    "\n",
    "CREATE OR REPLACE TABLE delta.`dbfs:/FileStore/tables/delta/employee` AS\n",
    "SELECT * FROM temp_employee;\n",
    "\n",
    "DROP TABLE temp_employee;"
   ]
  },
  {
   "cell_type": "code",
   "execution_count": 0,
   "metadata": {
    "application/vnd.databricks.v1+cell": {
     "cellMetadata": {
      "byteLimit": 2048000,
      "implicitDf": true,
      "rowLimit": 10000
     },
     "inputWidgets": {},
     "nuid": "6cd562c0-7486-44c0-b433-d70b137c05de",
     "showTitle": false,
     "title": ""
    }
   },
   "outputs": [
    {
     "output_type": "display_data",
     "data": {
      "text/html": [
       "<style scoped>\n",
       "  .table-result-container {\n",
       "    max-height: 300px;\n",
       "    overflow: auto;\n",
       "  }\n",
       "  table, th, td {\n",
       "    border: 1px solid black;\n",
       "    border-collapse: collapse;\n",
       "  }\n",
       "  th, td {\n",
       "    padding: 5px;\n",
       "  }\n",
       "  th {\n",
       "    text-align: left;\n",
       "  }\n",
       "</style><div class='table-result-container'><table class='table-result'><thead style='background-color: white'><tr><th>id</th><th>name</th><th>gender</th><th>salary</th><th>dept</th></tr></thead><tbody><tr><td>3</td><td>Bob Smith</td><td>m</td><td>220000</td><td>IT</td></tr><tr><td>5</td><td>Eve Davis</td><td>f</td><td>195000</td><td>HR</td></tr><tr><td>6</td><td>Frank Martin</td><td>m</td><td>240000</td><td>Support</td></tr><tr><td>7</td><td>Grace Lee</td><td>f</td><td>210000</td><td>IT</td></tr><tr><td>8</td><td>Henry Clark</td><td>m</td><td>230000</td><td>Sales</td></tr><tr><td>9</td><td>Irene Turner</td><td>f</td><td>175000</td><td>HR</td></tr><tr><td>10</td><td>Jack White</td><td>m</td><td>190000</td><td>IT</td></tr><tr><td>11</td><td>Marta Evans</td><td>f</td><td>205000</td><td>Marketing</td></tr><tr><td>12</td><td>Leonard Harris</td><td>m</td><td>215000</td><td>Finance</td></tr><tr><td>18</td><td>Victor Adams</td><td>m</td><td>235000</td><td>IT</td></tr><tr><td>19</td><td>Wendy Scott</td><td>f</td><td>220000</td><td>Support</td></tr><tr><td>20</td><td>Xavier Lee</td><td>m</td><td>245000</td><td>Sales</td></tr></tbody></table></div>"
      ]
     },
     "metadata": {
      "application/vnd.databricks.v1+output": {
       "addedWidgets": {},
       "aggData": [],
       "aggError": "",
       "aggOverflow": false,
       "aggSchema": [],
       "aggSeriesLimitReached": false,
       "aggType": "",
       "arguments": {},
       "columnCustomDisplayInfos": {},
       "data": [
        [
         3,
         "Bob Smith",
         "m",
         220000,
         "IT"
        ],
        [
         5,
         "Eve Davis",
         "f",
         195000,
         "HR"
        ],
        [
         6,
         "Frank Martin",
         "m",
         240000,
         "Support"
        ],
        [
         7,
         "Grace Lee",
         "f",
         210000,
         "IT"
        ],
        [
         8,
         "Henry Clark",
         "m",
         230000,
         "Sales"
        ],
        [
         9,
         "Irene Turner",
         "f",
         175000,
         "HR"
        ],
        [
         10,
         "Jack White",
         "m",
         190000,
         "IT"
        ],
        [
         11,
         "Marta Evans",
         "f",
         205000,
         "Marketing"
        ],
        [
         12,
         "Leonard Harris",
         "m",
         215000,
         "Finance"
        ],
        [
         18,
         "Victor Adams",
         "m",
         235000,
         "IT"
        ],
        [
         19,
         "Wendy Scott",
         "f",
         220000,
         "Support"
        ],
        [
         20,
         "Xavier Lee",
         "m",
         245000,
         "Sales"
        ]
       ],
       "datasetInfos": [],
       "dbfsResultPath": null,
       "isJsonSchema": true,
       "metadata": {},
       "overflow": false,
       "plotOptions": {
        "customPlotOptions": {},
        "displayType": "table",
        "pivotAggregation": null,
        "pivotColumns": null,
        "xColumns": null,
        "yColumns": null
       },
       "removedWidgets": [],
       "schema": [
        {
         "metadata": "{}",
         "name": "id",
         "type": "\"integer\""
        },
        {
         "metadata": "{}",
         "name": "name",
         "type": "\"string\""
        },
        {
         "metadata": "{}",
         "name": "gender",
         "type": "\"string\""
        },
        {
         "metadata": "{}",
         "name": "salary",
         "type": "\"integer\""
        },
        {
         "metadata": "{}",
         "name": "dept",
         "type": "\"string\""
        }
       ],
       "type": "table"
      }
     },
     "output_type": "display_data"
    }
   ],
   "source": [
    "%sql\n",
    "\n",
    "SELECT * FROM delta.`dbfs:/FileStore/tables/delta/employee`"
   ]
  },
  {
   "cell_type": "markdown",
   "metadata": {
    "application/vnd.databricks.v1+cell": {
     "cellMetadata": {},
     "inputWidgets": {},
     "nuid": "5bd646f8-4c7d-403a-ac71-38e0266c9c1a",
     "showTitle": false,
     "title": ""
    }
   },
   "source": [
    "# UPDATE DATA DELTA TABLE"
   ]
  },
  {
   "cell_type": "code",
   "execution_count": 0,
   "metadata": {
    "application/vnd.databricks.v1+cell": {
     "cellMetadata": {
      "byteLimit": 2048000,
      "rowLimit": 10000
     },
     "inputWidgets": {},
     "nuid": "1579f4e1-2773-4d43-82cf-4739a1071888",
     "showTitle": false,
     "title": ""
    }
   },
   "outputs": [],
   "source": [
    "from delta.tables import *"
   ]
  },
  {
   "cell_type": "code",
   "execution_count": 0,
   "metadata": {
    "application/vnd.databricks.v1+cell": {
     "cellMetadata": {
      "byteLimit": 2048000,
      "rowLimit": 10000
     },
     "inputWidgets": {},
     "nuid": "fc097a26-ba02-487d-a0e0-6dbe4cff6c22",
     "showTitle": false,
     "title": ""
    }
   },
   "outputs": [],
   "source": [
    "from pyspark.sql.types import StructType, StructField, IntegerType, BooleanType"
   ]
  },
  {
   "cell_type": "code",
   "execution_count": 0,
   "metadata": {
    "application/vnd.databricks.v1+cell": {
     "cellMetadata": {
      "byteLimit": 2048000,
      "rowLimit": 10000
     },
     "inputWidgets": {},
     "nuid": "a6334ace-7ba4-4fcc-a5bb-8789ead3595e",
     "showTitle": false,
     "title": ""
    }
   },
   "outputs": [
    {
     "output_type": "stream",
     "name": "stdout",
     "output_type": "stream",
     "text": [
      "Out[24]: <delta.tables.DeltaTable at 0x7ff9a2f30cd0>"
     ]
    }
   ],
   "source": [
    "DeltaTable.createOrReplace(spark) \\\n",
    "    .tableName(\"student_dt\") \\\n",
    "    .addColumn(\"name\",\"STRING\") \\\n",
    "    .addColumn(\"subject\",\"STRING\") \\\n",
    "    .addColumn(\"exam_1\",\"INT\") \\\n",
    "    .addColumn(\"exam_2\",\"INT\") \\\n",
    "    .addColumn(\"exam_3\",\"INT\") \\\n",
    "    .addColumn(\"exam_4\",\"INT\") \\\n",
    "    .addColumn(\"exam_5\",\"INT\") \\\n",
    "    .addColumn(\"approved\",\"BOOLEAN\") \\\n",
    "    .addColumn(\"attendance\",\"STRING\") \\\n",
    "    .property(\"description\",\"Student delta table\") \\\n",
    "    .location(\"dbfs:/FileStore/tables/delta/student\") \\\n",
    "    .execute()\n"
   ]
  },
  {
   "cell_type": "code",
   "execution_count": 0,
   "metadata": {
    "application/vnd.databricks.v1+cell": {
     "cellMetadata": {
      "byteLimit": 2048000,
      "rowLimit": 10000
     },
     "inputWidgets": {},
     "nuid": "94c21ff3-8f45-4719-aaab-e311e9b4cdd7",
     "showTitle": false,
     "title": ""
    }
   },
   "outputs": [],
   "source": [
    "data_student = [\n",
    "    (\"Alice Johnson\", \"Math\", 85, 72, 65, 88, 94, True, 95),\n",
    "    (\"Alice Johnson\", \"English\", 78, 84, 57, 91, 89, True, 88),\n",
    "    (\"Alice Johnson\", \"History\", 92, 76, 82, 93, 80, True, 97),\n",
    "    (\"Alice Johnson\", \"Science\", 67, 70, 85, 66, 73, True, 80),\n",
    "    (\"Alice Johnson\", \"Art\", 55, 59, 47, 60, 62, False, 70),\n",
    "    \n",
    "    (\"Bob Smith\", \"Math\", 72, 66, 81, 75, 83, True, 85),\n",
    "    (\"Bob Smith\", \"English\", 81, 92, 74, 68, 77, True, 90),\n",
    "    (\"Bob Smith\", \"History\", 60, 54, 69, 61, 65, True, 75),\n",
    "    (\"Bob Smith\", \"Science\", 50, 48, 56, 53, 60, False, 65),\n",
    "    (\"Bob Smith\", \"Art\", 58, 61, 63, 57, 55, True, 77),\n",
    "\n",
    "    (\"Charlie Wood\", \"Math\", 93, 88, 79, 91, 85, True, 98),\n",
    "    (\"Charlie Wood\", \"English\", 89, 83, 87, 92, 90, True, 92),\n",
    "    (\"Charlie Wood\", \"History\", 74, 68, 77, 72, 70, True, 84),\n",
    "    (\"Charlie Wood\", \"Science\", 88, 91, 85, 87, 89, True, 91),\n",
    "    (\"Charlie Wood\", \"Art\", 79, 74, 81, 76, 78, True, 87),\n",
    "\n",
    "    (\"Diane Brown\", \"Math\", 61, 55, 64, 58, 62, True, 82),\n",
    "    (\"Diane Brown\", \"English\", 57, 49, 53, 61, 50, False, 68),\n",
    "    (\"Diane Brown\", \"History\", 69, 63, 71, 66, 67, True, 80),\n",
    "    (\"Diane Brown\", \"Science\", 73, 78, 70, 74, 72, True, 85),\n",
    "    (\"Diane Brown\", \"Art\", 62, 58, 65, 60, 63, True, 76),\n",
    "\n",
    "    (\"Eve Davis\", \"Math\", 54, 47, 52, 56, 50, False, 66),\n",
    "    (\"Eve Davis\", \"English\", 48, 42, 45, 49, 44, False, 58),\n",
    "    (\"Eve Davis\", \"History\", 63, 68, 61, 66, 62, True, 77),\n",
    "    (\"Eve Davis\", \"Science\", 70, 73, 75, 69, 71, True, 83),\n",
    "    (\"Eve Davis\", \"Art\", 66, 64, 69, 61, 67, True, 81)\n",
    "]\n",
    "\n",
    "schema_student = StructType([ \\\n",
    "    StructField(\"name\",StringType(),False), \\\n",
    "    StructField(\"subject\",StringType(),False), \\\n",
    "    StructField(\"exam_1\",IntegerType(),True), \\\n",
    "    StructField(\"exam_2\",IntegerType(),True), \\\n",
    "    StructField(\"exam_3\",IntegerType(),True), \\\n",
    "    StructField(\"exam_4\",IntegerType(),True), \\\n",
    "    StructField(\"exam_5\",IntegerType(),True), \\\n",
    "    StructField(\"approved\",BooleanType(),True), \\\n",
    "    StructField(\"attendance\",StringType(),True), \\\n",
    "])"
   ]
  },
  {
   "cell_type": "code",
   "execution_count": 0,
   "metadata": {
    "application/vnd.databricks.v1+cell": {
     "cellMetadata": {
      "byteLimit": 2048000,
      "rowLimit": 10000
     },
     "inputWidgets": {},
     "nuid": "0073505e-9718-4f0a-b442-0781d2932f9f",
     "showTitle": false,
     "title": ""
    }
   },
   "outputs": [],
   "source": [
    "df_student = spark.createDataFrame(data=data_student,schema=schema_student)"
   ]
  },
  {
   "cell_type": "code",
   "execution_count": 0,
   "metadata": {
    "application/vnd.databricks.v1+cell": {
     "cellMetadata": {
      "byteLimit": 2048000,
      "rowLimit": 10000
     },
     "inputWidgets": {},
     "nuid": "72e35cac-8fab-4901-b83a-20410db72299",
     "showTitle": false,
     "title": ""
    }
   },
   "outputs": [],
   "source": [
    "df_student.write.format(\"delta\").mode(\"append\").saveAsTable(\"student_dt\")"
   ]
  },
  {
   "cell_type": "markdown",
   "metadata": {
    "application/vnd.databricks.v1+cell": {
     "cellMetadata": {},
     "inputWidgets": {},
     "nuid": "e2b5bf87-e912-4da5-a73b-466aeab07832",
     "showTitle": false,
     "title": ""
    }
   },
   "source": [
    "## SQL Update using Table Name"
   ]
  },
  {
   "cell_type": "code",
   "execution_count": 0,
   "metadata": {
    "application/vnd.databricks.v1+cell": {
     "cellMetadata": {
      "byteLimit": 2048000,
      "implicitDf": true,
      "rowLimit": 10000
     },
     "inputWidgets": {},
     "nuid": "c44ba95b-f4f4-46c9-92a5-67fe5f454b95",
     "showTitle": false,
     "title": ""
    }
   },
   "outputs": [
    {
     "output_type": "display_data",
     "data": {
      "text/html": [
       "<style scoped>\n",
       "  .table-result-container {\n",
       "    max-height: 300px;\n",
       "    overflow: auto;\n",
       "  }\n",
       "  table, th, td {\n",
       "    border: 1px solid black;\n",
       "    border-collapse: collapse;\n",
       "  }\n",
       "  th, td {\n",
       "    padding: 5px;\n",
       "  }\n",
       "  th {\n",
       "    text-align: left;\n",
       "  }\n",
       "</style><div class='table-result-container'><table class='table-result'><thead style='background-color: white'><tr><th>num_affected_rows</th></tr></thead><tbody><tr><td>1</td></tr></tbody></table></div>"
      ]
     },
     "metadata": {
      "application/vnd.databricks.v1+output": {
       "addedWidgets": {},
       "aggData": [],
       "aggError": "",
       "aggOverflow": false,
       "aggSchema": [],
       "aggSeriesLimitReached": false,
       "aggType": "",
       "arguments": {},
       "columnCustomDisplayInfos": {},
       "data": [
        [
         1
        ]
       ],
       "datasetInfos": [],
       "dbfsResultPath": null,
       "isJsonSchema": true,
       "metadata": {},
       "overflow": false,
       "plotOptions": {
        "customPlotOptions": {},
        "displayType": "table",
        "pivotAggregation": null,
        "pivotColumns": null,
        "xColumns": null,
        "yColumns": null
       },
       "removedWidgets": [],
       "schema": [
        {
         "metadata": "{}",
         "name": "num_affected_rows",
         "type": "\"long\""
        }
       ],
       "type": "table"
      }
     },
     "output_type": "display_data"
    }
   ],
   "source": [
    "%sql\n",
    "\n",
    "UPDATE student_dt SET exam_1 = 80 WHERE name = \"Alice Johnson\" AND subject = \"Math\""
   ]
  },
  {
   "cell_type": "markdown",
   "metadata": {
    "application/vnd.databricks.v1+cell": {
     "cellMetadata": {},
     "inputWidgets": {},
     "nuid": "2a9cacd3-d346-4c17-87be-3954ff660df8",
     "showTitle": false,
     "title": ""
    }
   },
   "source": [
    "## SQL Update using Table Path"
   ]
  },
  {
   "cell_type": "code",
   "execution_count": 0,
   "metadata": {
    "application/vnd.databricks.v1+cell": {
     "cellMetadata": {
      "byteLimit": 2048000,
      "implicitDf": true,
      "rowLimit": 10000
     },
     "inputWidgets": {},
     "nuid": "13e9f22a-fc30-4206-b41e-d1a6ebcbda52",
     "showTitle": false,
     "title": ""
    }
   },
   "outputs": [
    {
     "output_type": "display_data",
     "data": {
      "text/html": [
       "<style scoped>\n",
       "  .table-result-container {\n",
       "    max-height: 300px;\n",
       "    overflow: auto;\n",
       "  }\n",
       "  table, th, td {\n",
       "    border: 1px solid black;\n",
       "    border-collapse: collapse;\n",
       "  }\n",
       "  th, td {\n",
       "    padding: 5px;\n",
       "  }\n",
       "  th {\n",
       "    text-align: left;\n",
       "  }\n",
       "</style><div class='table-result-container'><table class='table-result'><thead style='background-color: white'><tr><th>num_affected_rows</th></tr></thead><tbody><tr><td>5</td></tr></tbody></table></div>"
      ]
     },
     "metadata": {
      "application/vnd.databricks.v1+output": {
       "addedWidgets": {},
       "aggData": [],
       "aggError": "",
       "aggOverflow": false,
       "aggSchema": [],
       "aggSeriesLimitReached": false,
       "aggType": "",
       "arguments": {},
       "columnCustomDisplayInfos": {},
       "data": [
        [
         5
        ]
       ],
       "datasetInfos": [],
       "dbfsResultPath": null,
       "isJsonSchema": true,
       "metadata": {},
       "overflow": false,
       "plotOptions": {
        "customPlotOptions": {},
        "displayType": "table",
        "pivotAggregation": null,
        "pivotColumns": null,
        "xColumns": null,
        "yColumns": null
       },
       "removedWidgets": [],
       "schema": [
        {
         "metadata": "{}",
         "name": "num_affected_rows",
         "type": "\"long\""
        }
       ],
       "type": "table"
      }
     },
     "output_type": "display_data"
    }
   ],
   "source": [
    "%sql\n",
    "UPDATE delta.`dbfs:/FileStore/tables/delta/student` SET attendance = 100 WHERE subject = \"Art\""
   ]
  },
  {
   "cell_type": "markdown",
   "metadata": {
    "application/vnd.databricks.v1+cell": {
     "cellMetadata": {},
     "inputWidgets": {},
     "nuid": "166600b3-b8e8-44de-bb0b-a8de4d0ec7c7",
     "showTitle": false,
     "title": ""
    }
   },
   "source": [
    "## Spark Delta Table Instance Update"
   ]
  },
  {
   "cell_type": "code",
   "execution_count": 0,
   "metadata": {
    "application/vnd.databricks.v1+cell": {
     "cellMetadata": {
      "byteLimit": 2048000,
      "rowLimit": 10000
     },
     "inputWidgets": {},
     "nuid": "82c0d7ec-cd03-4595-a1d6-cf46a91bff34",
     "showTitle": false,
     "title": ""
    }
   },
   "outputs": [],
   "source": [
    "students_dt = DeltaTable.forPath(spark,\"dbfs:/FileStore/tables/delta/student\")"
   ]
  },
  {
   "cell_type": "code",
   "execution_count": 0,
   "metadata": {
    "application/vnd.databricks.v1+cell": {
     "cellMetadata": {
      "byteLimit": 2048000,
      "rowLimit": 10000
     },
     "inputWidgets": {},
     "nuid": "bdbac4c3-ee3f-4d33-8676-986e65675efd",
     "showTitle": false,
     "title": ""
    }
   },
   "outputs": [],
   "source": [
    "students_dt.update(\n",
    "    condition=\"subject = 'Math' AND exam_1 < 70\",\n",
    "    set={\n",
    "        \"approved\":\"False\"\n",
    "    }\n",
    ")"
   ]
  }
 ],
 "metadata": {
  "application/vnd.databricks.v1+notebook": {
   "dashboards": [],
   "environmentMetadata": null,
   "language": "python",
   "notebookMetadata": {
    "mostRecentlyExecutedCommandWithImplicitDF": {
     "commandId": 3584707438427923,
     "dataframes": [
      "_sqldf"
     ]
    },
    "pythonIndentUnit": 4
   },
   "notebookName": "DeltaLake",
   "widgets": {}
  }
 },
 "nbformat": 4,
 "nbformat_minor": 0
}
