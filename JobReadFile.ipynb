{
 "cells": [
  {
   "cell_type": "markdown",
   "id": "72ff07d7-830a-4c06-9df8-505393bebd86",
   "metadata": {},
   "source": [
    "# NUMBER OF JOBS READING FILE"
   ]
  },
  {
   "cell_type": "code",
   "execution_count": 1,
   "id": "57c98193-eae6-4042-b496-240c51dd5d54",
   "metadata": {},
   "outputs": [],
   "source": [
    "import findspark\n",
    "findspark.init()"
   ]
  },
  {
   "cell_type": "code",
   "execution_count": 3,
   "id": "6cf873f2-d9f9-4f7a-885c-dca434711714",
   "metadata": {},
   "outputs": [
    {
     "name": "stderr",
     "output_type": "stream",
     "text": [
      "Setting default log level to \"WARN\".\n",
      "To adjust logging level use sc.setLogLevel(newLevel). For SparkR, use setLogLevel(newLevel).\n",
      "24/08/21 16:16:48 WARN NativeCodeLoader: Unable to load native-hadoop library for your platform... using builtin-java classes where applicable\n"
     ]
    }
   ],
   "source": [
    "from pyspark.sql import SparkSession\n",
    "spark = SparkSession.builder.getOrCreate()"
   ]
  },
  {
   "cell_type": "markdown",
   "id": "16f86b13-4bed-4dba-96c5-bf5f99fd03c8",
   "metadata": {},
   "source": [
    "## Read without options"
   ]
  },
  {
   "cell_type": "code",
   "execution_count": 6,
   "id": "536ef4a4-d5fb-47d0-b7f7-91d546901657",
   "metadata": {},
   "outputs": [
    {
     "name": "stderr",
     "output_type": "stream",
     "text": [
      "                                                                                \r"
     ]
    }
   ],
   "source": [
    "df_no_option = spark.read.format(\"csv\").load(\"../datasets/baby_names.csv\")"
   ]
  },
  {
   "cell_type": "code",
   "execution_count": 7,
   "id": "93427c26-f384-4672-8078-f2c8ea036139",
   "metadata": {},
   "outputs": [
    {
     "name": "stdout",
     "output_type": "stream",
     "text": [
      "+----+----------+-----------+---+-----+\n",
      "| _c0|       _c1|        _c2|_c3|  _c4|\n",
      "+----+----------+-----------+---+-----+\n",
      "|Year|First Name|     County|Sex|Count|\n",
      "|2007|      ZOEY|      KINGS|  F|   11|\n",
      "|2007|      ZOEY|    SUFFOLK|  F|    6|\n",
      "|2007|      ZOEY|     MONROE|  F|    6|\n",
      "|2007|      ZOEY|       ERIE|  F|    9|\n",
      "|2007|       ZOE|     ULSTER|  F|    5|\n",
      "|2007|       ZOE|WESTCHESTER|  F|   24|\n",
      "|2007|       ZOE|      BRONX|  F|   13|\n",
      "|2007|       ZOE|   NEW YORK|  F|   55|\n",
      "|2007|       ZOE|     NASSAU|  F|   15|\n",
      "|2007|       ZOE|       ERIE|  F|    6|\n",
      "|2007|       ZOE|    SUFFOLK|  F|   14|\n",
      "|2007|       ZOE|      KINGS|  F|   34|\n",
      "|2007|       ZOE|     MONROE|  F|    9|\n",
      "|2007|       ZOE|     QUEENS|  F|   26|\n",
      "|2007|       ZOE|     ALBANY|  F|    5|\n",
      "|2007|     ZISSY|   ROCKLAND|  F|    5|\n",
      "|2007|     ZISSY|      KINGS|  F|   27|\n",
      "|2007|      ZION|      KINGS|  M|   15|\n",
      "|2007|      ZION|      BRONX|  M|   14|\n",
      "+----+----------+-----------+---+-----+\n",
      "only showing top 20 rows\n",
      "\n"
     ]
    }
   ],
   "source": [
    "df_no_option.show()"
   ]
  },
  {
   "cell_type": "markdown",
   "id": "4a5251a9-b8e6-4853-a066-572a3323a01d",
   "metadata": {},
   "source": [
    "## Read with inferSchema"
   ]
  },
  {
   "cell_type": "code",
   "execution_count": 8,
   "id": "ff9527c5-3cfa-4e70-9b56-66af5bf4c222",
   "metadata": {},
   "outputs": [],
   "source": [
    "df_infer_schema = spark.read.format(\"csv\").option(\"inferSchema\",True).load(\"../datasets/baby_names.csv\")"
   ]
  },
  {
   "cell_type": "markdown",
   "id": "ff871b1e-2b08-4d25-a941-6fcc9164e15f",
   "metadata": {},
   "source": [
    "## Read with schema defined"
   ]
  },
  {
   "cell_type": "code",
   "execution_count": 14,
   "id": "51f0deef-23fc-4222-9f83-ad8bc8fd5e6c",
   "metadata": {},
   "outputs": [],
   "source": [
    "from pyspark.sql.types import StructType, StructField, StringType, IntegerType\n",
    "\n",
    "schema = StructType([\n",
    "    StructField(\"Year\",IntegerType(),False),\n",
    "    StructField(\"FirstName\",StringType(),True),\n",
    "    StructField(\"Country\",StringType(),True),\n",
    "    StructField(\"Sex\",StringType(),True),\n",
    "    StructField(\"Count\",IntegerType(),True),\n",
    "    \n",
    "])"
   ]
  },
  {
   "cell_type": "code",
   "execution_count": 15,
   "id": "e7543c48-b52d-498e-b98a-62a121df7250",
   "metadata": {},
   "outputs": [],
   "source": [
    "df_schema_defined = spark.read.format(\"csv\").schema(schema).load(\"../datasets/baby_names.csv\")"
   ]
  },
  {
   "cell_type": "code",
   "execution_count": null,
   "id": "2742ac67-8e48-48d2-8442-8bdf1fa0dbe5",
   "metadata": {},
   "outputs": [],
   "source": []
  }
 ],
 "metadata": {
  "kernelspec": {
   "display_name": "Python 3 (ipykernel)",
   "language": "python",
   "name": "python3"
  },
  "language_info": {
   "codemirror_mode": {
    "name": "ipython",
    "version": 3
   },
   "file_extension": ".py",
   "mimetype": "text/x-python",
   "name": "python",
   "nbconvert_exporter": "python",
   "pygments_lexer": "ipython3",
   "version": "3.11.7"
  }
 },
 "nbformat": 4,
 "nbformat_minor": 5
}
