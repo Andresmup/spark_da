{
 "cells": [
  {
   "cell_type": "markdown",
   "id": "17706ba3-f984-497c-bee2-60eb422e473b",
   "metadata": {},
   "source": [
    "# TOP AND BOTTOM N ROWS PER GROUP"
   ]
  },
  {
   "cell_type": "code",
   "execution_count": 1,
   "id": "d5167953-e15c-4726-a42c-60890632495e",
   "metadata": {},
   "outputs": [],
   "source": [
    "import findspark\n",
    "findspark.init()"
   ]
  },
  {
   "cell_type": "code",
   "execution_count": 2,
   "id": "8f445b7c-4987-4124-8f0a-a3b8c1dd96b7",
   "metadata": {},
   "outputs": [
    {
     "name": "stderr",
     "output_type": "stream",
     "text": [
      "Setting default log level to \"WARN\".\n",
      "To adjust logging level use sc.setLogLevel(newLevel). For SparkR, use setLogLevel(newLevel).\n",
      "24/08/20 20:05:43 WARN NativeCodeLoader: Unable to load native-hadoop library for your platform... using builtin-java classes where applicable\n"
     ]
    }
   ],
   "source": [
    "from pyspark.sql import SparkSession\n",
    "spark = SparkSession.builder.getOrCreate()"
   ]
  },
  {
   "cell_type": "code",
   "execution_count": 3,
   "id": "6f7b6b7c-a4c5-47a5-9918-a516e8c04922",
   "metadata": {},
   "outputs": [],
   "source": [
    "student_data = [\n",
    "    (\"Alice Johnson\", \"Math\", 85, True, 95),\n",
    "    (\"Alice Johnson\", \"English\", 78, True, 88),\n",
    "    (\"Alice Johnson\", \"History\", 92, True, 97),\n",
    "    (\"Alice Johnson\", \"Science\", 67, True, 80),\n",
    "    (\"Alice Johnson\", \"Art\", 55, False, 70),\n",
    "    (\"Bob Smith\", \"Math\", 72, True, 85),\n",
    "    (\"Bob Smith\", \"English\", 81, True, 90),\n",
    "    (\"Bob Smith\", \"History\", 60, True, 75),\n",
    "    (\"Bob Smith\", \"Science\", 50, False, 65),\n",
    "    (\"Bob Smith\", \"Art\", 58, True, 77),\n",
    "    (\"Charlie Wood\", \"Math\", 93, True, 98),\n",
    "    (\"Charlie Wood\", \"English\", 89, True, 92),\n",
    "    (\"Charlie Wood\", \"History\", 74, True, 84),\n",
    "    (\"Charlie Wood\", \"Science\", 88, True, 91),\n",
    "    (\"Charlie Wood\", \"Art\", 79, True, 87),\n",
    "    (\"Diane Brown\", \"Math\", 61, True, 82),\n",
    "    (\"Diane Brown\", \"English\", 57, False, 68),\n",
    "    (\"Diane Brown\", \"History\", 69, True, 80),\n",
    "    (\"Diane Brown\", \"Science\", 73, True, 85),\n",
    "    (\"Diane Brown\", \"Art\", 62, True, 76),\n",
    "    (\"Eve Davis\", \"Math\", 54, False, 66),\n",
    "    (\"Eve Davis\", \"English\", 48, False, 58),\n",
    "    (\"Eve Davis\", \"History\", 63, True, 77),\n",
    "    (\"Eve Davis\", \"Science\", 70, True, 83),\n",
    "    (\"Eve Davis\", \"Art\", 66, True, 81)\n",
    "]\n",
    "\n",
    "student_schema = [\"name\",\"subject\",\"mark\",\"approve\",\"attendance\"]"
   ]
  },
  {
   "cell_type": "code",
   "execution_count": 4,
   "id": "6d70611b-b5dc-4827-95e1-5306a8800bc8",
   "metadata": {},
   "outputs": [
    {
     "name": "stderr",
     "output_type": "stream",
     "text": [
      "                                                                                \r"
     ]
    },
    {
     "name": "stdout",
     "output_type": "stream",
     "text": [
      "+-------------+-------+----+-------+----------+\n",
      "|         name|subject|mark|approve|attendance|\n",
      "+-------------+-------+----+-------+----------+\n",
      "|Alice Johnson|   Math|  85|   true|        95|\n",
      "|Alice Johnson|English|  78|   true|        88|\n",
      "|Alice Johnson|History|  92|   true|        97|\n",
      "|Alice Johnson|Science|  67|   true|        80|\n",
      "|Alice Johnson|    Art|  55|  false|        70|\n",
      "|    Bob Smith|   Math|  72|   true|        85|\n",
      "|    Bob Smith|English|  81|   true|        90|\n",
      "|    Bob Smith|History|  60|   true|        75|\n",
      "|    Bob Smith|Science|  50|  false|        65|\n",
      "|    Bob Smith|    Art|  58|   true|        77|\n",
      "| Charlie Wood|   Math|  93|   true|        98|\n",
      "| Charlie Wood|English|  89|   true|        92|\n",
      "| Charlie Wood|History|  74|   true|        84|\n",
      "| Charlie Wood|Science|  88|   true|        91|\n",
      "| Charlie Wood|    Art|  79|   true|        87|\n",
      "|  Diane Brown|   Math|  61|   true|        82|\n",
      "|  Diane Brown|English|  57|  false|        68|\n",
      "|  Diane Brown|History|  69|   true|        80|\n",
      "|  Diane Brown|Science|  73|   true|        85|\n",
      "|  Diane Brown|    Art|  62|   true|        76|\n",
      "+-------------+-------+----+-------+----------+\n",
      "only showing top 20 rows\n",
      "\n"
     ]
    }
   ],
   "source": [
    "df_student = spark.createDataFrame(data=student_data,schema=student_schema)\n",
    "\n",
    "df_student.show()"
   ]
  },
  {
   "cell_type": "markdown",
   "id": "3ed4ecd8-f6e4-439e-adb2-35ff1693efcb",
   "metadata": {},
   "source": [
    "## GroupBy and Rank using Window and Functions"
   ]
  },
  {
   "cell_type": "code",
   "execution_count": 5,
   "id": "2ceea247-8401-47f9-b773-bc4662a818be",
   "metadata": {},
   "outputs": [],
   "source": [
    "from pyspark.sql.window import Window\n",
    "from pyspark.sql.functions import col, row_number"
   ]
  },
  {
   "cell_type": "code",
   "execution_count": 10,
   "id": "bbddc3c7-a487-4e91-9770-41a7d98900f8",
   "metadata": {},
   "outputs": [],
   "source": [
    "window_spec = Window.partitionBy(\"name\").orderBy(col(\"mark\").desc())"
   ]
  },
  {
   "cell_type": "code",
   "execution_count": 12,
   "id": "3a018923-5611-49bd-a031-b6e9faade1ad",
   "metadata": {},
   "outputs": [
    {
     "name": "stdout",
     "output_type": "stream",
     "text": [
      "+-------------+-------+----+-------+----------+---+\n",
      "|         name|subject|mark|approve|attendance|row|\n",
      "+-------------+-------+----+-------+----------+---+\n",
      "|Alice Johnson|History|  92|   true|        97|  1|\n",
      "|Alice Johnson|   Math|  85|   true|        95|  2|\n",
      "|Alice Johnson|English|  78|   true|        88|  3|\n",
      "|Alice Johnson|Science|  67|   true|        80|  4|\n",
      "|Alice Johnson|    Art|  55|  false|        70|  5|\n",
      "|    Bob Smith|English|  81|   true|        90|  1|\n",
      "|    Bob Smith|   Math|  72|   true|        85|  2|\n",
      "|    Bob Smith|History|  60|   true|        75|  3|\n",
      "|    Bob Smith|    Art|  58|   true|        77|  4|\n",
      "|    Bob Smith|Science|  50|  false|        65|  5|\n",
      "| Charlie Wood|   Math|  93|   true|        98|  1|\n",
      "| Charlie Wood|English|  89|   true|        92|  2|\n",
      "| Charlie Wood|Science|  88|   true|        91|  3|\n",
      "| Charlie Wood|    Art|  79|   true|        87|  4|\n",
      "| Charlie Wood|History|  74|   true|        84|  5|\n",
      "|  Diane Brown|Science|  73|   true|        85|  1|\n",
      "|  Diane Brown|History|  69|   true|        80|  2|\n",
      "|  Diane Brown|    Art|  62|   true|        76|  3|\n",
      "|  Diane Brown|   Math|  61|   true|        82|  4|\n",
      "|  Diane Brown|English|  57|  false|        68|  5|\n",
      "+-------------+-------+----+-------+----------+---+\n",
      "only showing top 20 rows\n",
      "\n"
     ]
    }
   ],
   "source": [
    "df_student_v2 = df_student.withColumn(\"row\",row_number().over(window_spec)).orderBy(\"name\",\"row\")\n",
    "df_student_v2.show()"
   ]
  },
  {
   "cell_type": "markdown",
   "id": "8e29892a-dbfc-4adb-a87c-1c2ac9850644",
   "metadata": {},
   "source": [
    "## Get Top N row per group name"
   ]
  },
  {
   "cell_type": "code",
   "execution_count": 14,
   "id": "d07ea9b6-f09f-4f71-9cf2-204ca049bfa9",
   "metadata": {},
   "outputs": [
    {
     "name": "stderr",
     "output_type": "stream",
     "text": [
      "[Stage 5:============================================>              (3 + 1) / 4]\r"
     ]
    },
    {
     "name": "stdout",
     "output_type": "stream",
     "text": [
      "+-------------+-------+----+-------+----------+---+\n",
      "|         name|subject|mark|approve|attendance|row|\n",
      "+-------------+-------+----+-------+----------+---+\n",
      "|Alice Johnson|History|  92|   true|        97|  1|\n",
      "|    Bob Smith|English|  81|   true|        90|  1|\n",
      "| Charlie Wood|   Math|  93|   true|        98|  1|\n",
      "|  Diane Brown|Science|  73|   true|        85|  1|\n",
      "|    Eve Davis|Science|  70|   true|        83|  1|\n",
      "+-------------+-------+----+-------+----------+---+\n",
      "\n"
     ]
    },
    {
     "name": "stderr",
     "output_type": "stream",
     "text": [
      "                                                                                \r"
     ]
    }
   ],
   "source": [
    "df_student_v2.filter(col(\"row\") <=1 ).show()"
   ]
  },
  {
   "cell_type": "markdown",
   "id": "9cc1706b-f144-48d8-b80a-c7730ce24f22",
   "metadata": {},
   "source": [
    "## Partition by subject with top 1 "
   ]
  },
  {
   "cell_type": "code",
   "execution_count": 20,
   "id": "b867a7c9-ac81-443f-b256-c47b4c2a6880",
   "metadata": {},
   "outputs": [
    {
     "name": "stderr",
     "output_type": "stream",
     "text": [
      "[Stage 23:>                                                         (0 + 4) / 4]\r"
     ]
    },
    {
     "name": "stdout",
     "output_type": "stream",
     "text": [
      "+-------------+-------+----+-------+----------+---+\n",
      "|         name|subject|mark|approve|attendance|row|\n",
      "+-------------+-------+----+-------+----------+---+\n",
      "| Charlie Wood|    Art|  79|   true|        87|  1|\n",
      "|    Eve Davis|    Art|  66|   true|        81|  2|\n",
      "|  Diane Brown|    Art|  62|   true|        76|  3|\n",
      "|    Bob Smith|    Art|  58|   true|        77|  4|\n",
      "|Alice Johnson|    Art|  55|  false|        70|  5|\n",
      "| Charlie Wood|English|  89|   true|        92|  1|\n",
      "|    Bob Smith|English|  81|   true|        90|  2|\n",
      "|Alice Johnson|English|  78|   true|        88|  3|\n",
      "|  Diane Brown|English|  57|  false|        68|  4|\n",
      "|    Eve Davis|English|  48|  false|        58|  5|\n",
      "|Alice Johnson|History|  92|   true|        97|  1|\n",
      "| Charlie Wood|History|  74|   true|        84|  2|\n",
      "|  Diane Brown|History|  69|   true|        80|  3|\n",
      "|    Eve Davis|History|  63|   true|        77|  4|\n",
      "|    Bob Smith|History|  60|   true|        75|  5|\n",
      "| Charlie Wood|   Math|  93|   true|        98|  1|\n",
      "|Alice Johnson|   Math|  85|   true|        95|  2|\n",
      "|    Bob Smith|   Math|  72|   true|        85|  3|\n",
      "|  Diane Brown|   Math|  61|   true|        82|  4|\n",
      "|    Eve Davis|   Math|  54|  false|        66|  5|\n",
      "+-------------+-------+----+-------+----------+---+\n",
      "only showing top 20 rows\n",
      "\n"
     ]
    },
    {
     "name": "stderr",
     "output_type": "stream",
     "text": [
      "                                                                                \r"
     ]
    }
   ],
   "source": [
    "window_spec = Window.partitionBy(\"subject\").orderBy(col(\"mark\").desc())\n",
    "df_student_v3 = df_student.withColumn(\"row\",row_number().over(window_spec)).orderBy(\"subject\",\"row\")\n",
    "df_student_v3.show()"
   ]
  },
  {
   "cell_type": "code",
   "execution_count": 16,
   "id": "99326341-3d3e-4f64-85e3-9b17adcc7c02",
   "metadata": {},
   "outputs": [
    {
     "name": "stderr",
     "output_type": "stream",
     "text": [
      "[Stage 11:===========================================>              (3 + 1) / 4]\r"
     ]
    },
    {
     "name": "stdout",
     "output_type": "stream",
     "text": [
      "+-------------+-------+----+-------+----------+---+\n",
      "|         name|subject|mark|approve|attendance|row|\n",
      "+-------------+-------+----+-------+----------+---+\n",
      "|Alice Johnson|History|  92|   true|        97|  1|\n",
      "| Charlie Wood|    Art|  79|   true|        87|  1|\n",
      "| Charlie Wood|English|  89|   true|        92|  1|\n",
      "| Charlie Wood|   Math|  93|   true|        98|  1|\n",
      "| Charlie Wood|Science|  88|   true|        91|  1|\n",
      "+-------------+-------+----+-------+----------+---+\n",
      "\n"
     ]
    },
    {
     "name": "stderr",
     "output_type": "stream",
     "text": [
      "                                                                                \r"
     ]
    }
   ],
   "source": [
    "df_student_v3.filter(col(\"row\") <=1 ).show()"
   ]
  },
  {
   "cell_type": "markdown",
   "id": "abafeafc-5216-484b-992a-16b0a904c03d",
   "metadata": {},
   "source": [
    "## Reverse rank to get Bottom N"
   ]
  },
  {
   "cell_type": "code",
   "execution_count": 18,
   "id": "558b1ee9-d8ed-497f-bf92-e8d08f767640",
   "metadata": {},
   "outputs": [
    {
     "name": "stdout",
     "output_type": "stream",
     "text": [
      "+-------------+-------+----+-------+----------+---+\n",
      "|         name|subject|mark|approve|attendance|row|\n",
      "+-------------+-------+----+-------+----------+---+\n",
      "|Alice Johnson|    Art|  55|  false|        70|  1|\n",
      "|Alice Johnson|Science|  67|   true|        80|  2|\n",
      "|Alice Johnson|English|  78|   true|        88|  3|\n",
      "|Alice Johnson|   Math|  85|   true|        95|  4|\n",
      "|Alice Johnson|History|  92|   true|        97|  5|\n",
      "|    Bob Smith|Science|  50|  false|        65|  1|\n",
      "|    Bob Smith|    Art|  58|   true|        77|  2|\n",
      "|    Bob Smith|History|  60|   true|        75|  3|\n",
      "|    Bob Smith|   Math|  72|   true|        85|  4|\n",
      "|    Bob Smith|English|  81|   true|        90|  5|\n",
      "| Charlie Wood|History|  74|   true|        84|  1|\n",
      "| Charlie Wood|    Art|  79|   true|        87|  2|\n",
      "| Charlie Wood|Science|  88|   true|        91|  3|\n",
      "| Charlie Wood|English|  89|   true|        92|  4|\n",
      "| Charlie Wood|   Math|  93|   true|        98|  5|\n",
      "|  Diane Brown|English|  57|  false|        68|  1|\n",
      "|  Diane Brown|   Math|  61|   true|        82|  2|\n",
      "|  Diane Brown|    Art|  62|   true|        76|  3|\n",
      "|  Diane Brown|History|  69|   true|        80|  4|\n",
      "|  Diane Brown|Science|  73|   true|        85|  5|\n",
      "+-------------+-------+----+-------+----------+---+\n",
      "only showing top 20 rows\n",
      "\n"
     ]
    }
   ],
   "source": [
    "window_spec = Window.partitionBy(\"name\").orderBy(col(\"mark\").asc())\n",
    "\n",
    "df_student_v4 = df_student.withColumn(\"row\",row_number().over(window_spec)).orderBy(\"name\",\"row\")\n",
    "df_student_v4.show()"
   ]
  },
  {
   "cell_type": "code",
   "execution_count": 19,
   "id": "1ab5a13f-4bfa-4e8f-83c6-170ab3042bf4",
   "metadata": {},
   "outputs": [
    {
     "name": "stdout",
     "output_type": "stream",
     "text": [
      "+-------------+-------+----+-------+----------+---+\n",
      "|         name|subject|mark|approve|attendance|row|\n",
      "+-------------+-------+----+-------+----------+---+\n",
      "|Alice Johnson|    Art|  55|  false|        70|  1|\n",
      "|    Bob Smith|Science|  50|  false|        65|  1|\n",
      "| Charlie Wood|History|  74|   true|        84|  1|\n",
      "|  Diane Brown|English|  57|  false|        68|  1|\n",
      "|    Eve Davis|English|  48|  false|        58|  1|\n",
      "+-------------+-------+----+-------+----------+---+\n",
      "\n"
     ]
    }
   ],
   "source": [
    "df_student_v4.filter(col(\"row\") <=1 ).show()"
   ]
  },
  {
   "cell_type": "code",
   "execution_count": 21,
   "id": "6cc4dc5d-3722-44a8-970d-174ab283168c",
   "metadata": {},
   "outputs": [
    {
     "name": "stdout",
     "output_type": "stream",
     "text": [
      "+-------------+-------+----+-------+----------+---+\n",
      "|         name|subject|mark|approve|attendance|row|\n",
      "+-------------+-------+----+-------+----------+---+\n",
      "|Alice Johnson|    Art|  55|  false|        70|  1|\n",
      "|    Bob Smith|    Art|  58|   true|        77|  2|\n",
      "|  Diane Brown|    Art|  62|   true|        76|  3|\n",
      "|    Eve Davis|    Art|  66|   true|        81|  4|\n",
      "| Charlie Wood|    Art|  79|   true|        87|  5|\n",
      "|    Eve Davis|English|  48|  false|        58|  1|\n",
      "|  Diane Brown|English|  57|  false|        68|  2|\n",
      "|Alice Johnson|English|  78|   true|        88|  3|\n",
      "|    Bob Smith|English|  81|   true|        90|  4|\n",
      "| Charlie Wood|English|  89|   true|        92|  5|\n",
      "|    Bob Smith|History|  60|   true|        75|  1|\n",
      "|    Eve Davis|History|  63|   true|        77|  2|\n",
      "|  Diane Brown|History|  69|   true|        80|  3|\n",
      "| Charlie Wood|History|  74|   true|        84|  4|\n",
      "|Alice Johnson|History|  92|   true|        97|  5|\n",
      "|    Eve Davis|   Math|  54|  false|        66|  1|\n",
      "|  Diane Brown|   Math|  61|   true|        82|  2|\n",
      "|    Bob Smith|   Math|  72|   true|        85|  3|\n",
      "|Alice Johnson|   Math|  85|   true|        95|  4|\n",
      "| Charlie Wood|   Math|  93|   true|        98|  5|\n",
      "+-------------+-------+----+-------+----------+---+\n",
      "only showing top 20 rows\n",
      "\n"
     ]
    }
   ],
   "source": [
    "window_spec = Window.partitionBy(\"subject\").orderBy(col(\"mark\").asc())\n",
    "df_student_v5 = df_student.withColumn(\"row\",row_number().over(window_spec)).orderBy(\"subject\",\"row\")\n",
    "df_student_v5.show()"
   ]
  },
  {
   "cell_type": "code",
   "execution_count": 22,
   "id": "05a89cdd-0a4d-4841-919c-b0b4cc53cf35",
   "metadata": {},
   "outputs": [
    {
     "name": "stdout",
     "output_type": "stream",
     "text": [
      "+-------------+-------+----+-------+----------+---+\n",
      "|         name|subject|mark|approve|attendance|row|\n",
      "+-------------+-------+----+-------+----------+---+\n",
      "|Alice Johnson|    Art|  55|  false|        70|  1|\n",
      "|    Eve Davis|English|  48|  false|        58|  1|\n",
      "|    Bob Smith|History|  60|   true|        75|  1|\n",
      "|    Eve Davis|   Math|  54|  false|        66|  1|\n",
      "|    Bob Smith|Science|  50|  false|        65|  1|\n",
      "+-------------+-------+----+-------+----------+---+\n",
      "\n"
     ]
    }
   ],
   "source": [
    "df_student_v5.filter(col(\"row\") <=1 ).show()"
   ]
  },
  {
   "cell_type": "code",
   "execution_count": null,
   "id": "a4460e07-d2ee-453d-b999-fc451b4ef90c",
   "metadata": {},
   "outputs": [],
   "source": []
  }
 ],
 "metadata": {
  "kernelspec": {
   "display_name": "Python 3 (ipykernel)",
   "language": "python",
   "name": "python3"
  },
  "language_info": {
   "codemirror_mode": {
    "name": "ipython",
    "version": 3
   },
   "file_extension": ".py",
   "mimetype": "text/x-python",
   "name": "python",
   "nbconvert_exporter": "python",
   "pygments_lexer": "ipython3",
   "version": "3.11.7"
  }
 },
 "nbformat": 4,
 "nbformat_minor": 5
}
