{
 "cells": [
  {
   "cell_type": "markdown",
   "id": "2099cbfd-8997-4fe5-bc29-79dd9732cd74",
   "metadata": {},
   "source": [
    "# LagLeadWindowFunction"
   ]
  },
  {
   "cell_type": "code",
   "execution_count": 1,
   "id": "d8a13f74-6b9e-4bf4-a8ab-c0657cd1eb8a",
   "metadata": {},
   "outputs": [],
   "source": [
    "import findspark\n",
    "findspark.init()"
   ]
  },
  {
   "cell_type": "code",
   "execution_count": 2,
   "id": "753d6782-09fd-45f6-99ae-69b1dba85ac8",
   "metadata": {},
   "outputs": [
    {
     "name": "stderr",
     "output_type": "stream",
     "text": [
      "Setting default log level to \"WARN\".\n",
      "To adjust logging level use sc.setLogLevel(newLevel). For SparkR, use setLogLevel(newLevel).\n",
      "24/08/27 21:32:57 WARN NativeCodeLoader: Unable to load native-hadoop library for your platform... using builtin-java classes where applicable\n"
     ]
    }
   ],
   "source": [
    "from pyspark.sql import SparkSession\n",
    "\n",
    "spark = SparkSession.builder.getOrCreate()"
   ]
  },
  {
   "cell_type": "code",
   "execution_count": 3,
   "id": "2158b8f9-87a1-4873-8e32-667ee636a264",
   "metadata": {},
   "outputs": [],
   "source": [
    "data_employee = [(1, \"Carl Mike\", \"m\", 170000, \"Support\"),\n",
    "                 (2, \"Mikel Clark\", \"m\", 254300, \"IT\"),\n",
    "                 (3, \"Bob Smith\", \"m\", 220000, \"IT\"),\n",
    "                 (4, \"Mary Scala\", \"f\", 230000, \"Sales\"),\n",
    "                 (5, \"Susan Liam\", \"f\", 150000, \"Sales\"),\n",
    "                 (6, \"Xi Wuan\", \"f\", 150000, \"IT\"),\n",
    "                 (7, \"Kyla Stewart\", \"f\", 185000, \"Support\"),\n",
    "                 (8, \"Mia Lebrin\", \"f\", 242000, \"IT\")]\n",
    "\n",
    "\n",
    "schema_employee = \"id INTEGER, name STRING, gender STRING, salary INTEGER, dept STRING\""
   ]
  },
  {
   "cell_type": "code",
   "execution_count": 4,
   "id": "3c75bb87-0525-4744-b63c-75ae5d45524b",
   "metadata": {},
   "outputs": [
    {
     "name": "stderr",
     "output_type": "stream",
     "text": [
      "                                                                                \r"
     ]
    },
    {
     "name": "stdout",
     "output_type": "stream",
     "text": [
      "+---+------------+------+------+-------+\n",
      "| id|        name|gender|salary|   dept|\n",
      "+---+------------+------+------+-------+\n",
      "|  1|   Carl Mike|     m|170000|Support|\n",
      "|  2| Mikel Clark|     m|254300|     IT|\n",
      "|  3|   Bob Smith|     m|220000|     IT|\n",
      "|  4|  Mary Scala|     f|230000|  Sales|\n",
      "|  5|  Susan Liam|     f|150000|  Sales|\n",
      "|  6|     Xi Wuan|     f|150000|     IT|\n",
      "|  7|Kyla Stewart|     f|185000|Support|\n",
      "|  8|  Mia Lebrin|     f|242000|     IT|\n",
      "+---+------------+------+------+-------+\n",
      "\n"
     ]
    }
   ],
   "source": [
    "df_employee = spark.createDataFrame(data=data_employee, schema=schema_employee)\n",
    "\n",
    "df_employee.show()"
   ]
  },
  {
   "cell_type": "markdown",
   "id": "b5edd648-7a07-445e-bc87-8af8332267b2",
   "metadata": {},
   "source": [
    "## Window Function"
   ]
  },
  {
   "cell_type": "code",
   "execution_count": 5,
   "id": "0e7045fd-becc-4091-b191-5541df90c0be",
   "metadata": {},
   "outputs": [],
   "source": [
    "from pyspark.sql.window import Window\n",
    "from pyspark.sql.functions import row_number"
   ]
  },
  {
   "cell_type": "code",
   "execution_count": 8,
   "id": "09ed7b05-6090-4c77-8f79-2e644bc382cf",
   "metadata": {},
   "outputs": [],
   "source": [
    "window_definition = Window.partitionBy(\"dept\").orderBy(\"salary\")"
   ]
  },
  {
   "cell_type": "markdown",
   "id": "00bf1012-3c63-4dbc-bc5f-2e93b9ef950d",
   "metadata": {},
   "source": [
    "## Lag Window Function"
   ]
  },
  {
   "cell_type": "code",
   "execution_count": 7,
   "id": "bb6d2fe7-8a49-493e-995e-7a463ad72ff2",
   "metadata": {},
   "outputs": [],
   "source": [
    "from pyspark.sql.functions import lag"
   ]
  },
  {
   "cell_type": "code",
   "execution_count": 10,
   "id": "e8b3506c-5ae6-4efe-b111-21466b90af84",
   "metadata": {},
   "outputs": [
    {
     "name": "stderr",
     "output_type": "stream",
     "text": [
      "[Stage 2:=============================>                             (2 + 2) / 4]\r"
     ]
    },
    {
     "name": "stdout",
     "output_type": "stream",
     "text": [
      "+---+------------+------+------+-------+------+\n",
      "| id|        name|gender|salary|   dept|   lag|\n",
      "+---+------------+------+------+-------+------+\n",
      "|  6|     Xi Wuan|     f|150000|     IT|  NULL|\n",
      "|  3|   Bob Smith|     m|220000|     IT|150000|\n",
      "|  8|  Mia Lebrin|     f|242000|     IT|220000|\n",
      "|  2| Mikel Clark|     m|254300|     IT|242000|\n",
      "|  5|  Susan Liam|     f|150000|  Sales|  NULL|\n",
      "|  4|  Mary Scala|     f|230000|  Sales|150000|\n",
      "|  1|   Carl Mike|     m|170000|Support|  NULL|\n",
      "|  7|Kyla Stewart|     f|185000|Support|170000|\n",
      "+---+------------+------+------+-------+------+\n",
      "\n"
     ]
    },
    {
     "name": "stderr",
     "output_type": "stream",
     "text": [
      "                                                                                \r"
     ]
    }
   ],
   "source": [
    "df_employee.withColumn(\"lag\",lag(\"salary\",1).over(window_definition)).show()"
   ]
  },
  {
   "cell_type": "markdown",
   "id": "35d27d31-780a-45d1-8ed4-02c8daf94c16",
   "metadata": {},
   "source": [
    "## Lead Window Function"
   ]
  },
  {
   "cell_type": "code",
   "execution_count": 11,
   "id": "0281e523-1c18-48fb-8155-6ceb5d9aa104",
   "metadata": {},
   "outputs": [],
   "source": [
    "from pyspark.sql.functions import lead"
   ]
  },
  {
   "cell_type": "code",
   "execution_count": 12,
   "id": "6645a08e-e957-405c-996d-7596d2e30cbc",
   "metadata": {},
   "outputs": [
    {
     "name": "stdout",
     "output_type": "stream",
     "text": [
      "+---+------------+------+------+-------+------+\n",
      "| id|        name|gender|salary|   dept|  lead|\n",
      "+---+------------+------+------+-------+------+\n",
      "|  6|     Xi Wuan|     f|150000|     IT|220000|\n",
      "|  3|   Bob Smith|     m|220000|     IT|242000|\n",
      "|  8|  Mia Lebrin|     f|242000|     IT|254300|\n",
      "|  2| Mikel Clark|     m|254300|     IT|  NULL|\n",
      "|  5|  Susan Liam|     f|150000|  Sales|230000|\n",
      "|  4|  Mary Scala|     f|230000|  Sales|  NULL|\n",
      "|  1|   Carl Mike|     m|170000|Support|185000|\n",
      "|  7|Kyla Stewart|     f|185000|Support|  NULL|\n",
      "+---+------------+------+------+-------+------+\n",
      "\n"
     ]
    }
   ],
   "source": [
    "df_employee.withColumn(\"lead\",lead(\"salary\",1).over(window_definition)).show()"
   ]
  }
 ],
 "metadata": {
  "kernelspec": {
   "display_name": "Python 3 (ipykernel)",
   "language": "python",
   "name": "python3"
  },
  "language_info": {
   "codemirror_mode": {
    "name": "ipython",
    "version": 3
   },
   "file_extension": ".py",
   "mimetype": "text/x-python",
   "name": "python",
   "nbconvert_exporter": "python",
   "pygments_lexer": "ipython3",
   "version": "3.11.7"
  }
 },
 "nbformat": 4,
 "nbformat_minor": 5
}
