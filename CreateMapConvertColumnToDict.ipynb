{
 "cells": [
  {
   "cell_type": "markdown",
   "id": "15fdb5ac-80f8-4f03-8cdb-c9de808a86a8",
   "metadata": {},
   "source": [
    "# CREATE MAP"
   ]
  },
  {
   "cell_type": "code",
   "execution_count": 1,
   "id": "30a375cf-0d4a-4a40-8e92-be144755a7cf",
   "metadata": {},
   "outputs": [],
   "source": [
    "import findspark\n",
    "findspark.init()"
   ]
  },
  {
   "cell_type": "code",
   "execution_count": 2,
   "id": "89e75bf3-a120-423d-89db-aad952a7d015",
   "metadata": {},
   "outputs": [
    {
     "name": "stderr",
     "output_type": "stream",
     "text": [
      "Setting default log level to \"WARN\".\n",
      "To adjust logging level use sc.setLogLevel(newLevel). For SparkR, use setLogLevel(newLevel).\n",
      "24/08/28 15:38:45 WARN NativeCodeLoader: Unable to load native-hadoop library for your platform... using builtin-java classes where applicable\n",
      "24/08/28 15:38:48 WARN Utils: Service 'SparkUI' could not bind on port 4040. Attempting port 4041.\n"
     ]
    }
   ],
   "source": [
    "from pyspark.sql import SparkSession\n",
    "\n",
    "spark = SparkSession.builder.getOrCreate()"
   ]
  },
  {
   "cell_type": "code",
   "execution_count": 3,
   "id": "b0ac519a-71e6-46fb-8c02-d4bf321d91d0",
   "metadata": {},
   "outputs": [],
   "source": [
    "data_product = [\n",
    "    (1,\"mobile\",1000, 10, 7),\n",
    "    (2,\"smartphone\",1400, 5, 8),\n",
    "    (3,\"cellphone\",1200, 7, 10),\n",
    "    (4,\"laptop\",2250, 2, 27),\n",
    "    (5,\"notebook\",3150, 14, 29),\n",
    "    (6,\"pc\",3000, 8, 25),\n",
    "    (7,\"netbook\",4500, 2, 27)\n",
    "]\n",
    "\n",
    "schema_product = \"id INTEGER, device STRING, price INTEGER, discount INTEGER, size INTEGER\""
   ]
  },
  {
   "cell_type": "code",
   "execution_count": 4,
   "id": "39174192-8fbc-42bb-9722-63c8b27da568",
   "metadata": {},
   "outputs": [
    {
     "name": "stderr",
     "output_type": "stream",
     "text": [
      "                                                                                \r"
     ]
    },
    {
     "name": "stdout",
     "output_type": "stream",
     "text": [
      "+---+----------+-----+--------+----+\n",
      "| id|    device|price|discount|size|\n",
      "+---+----------+-----+--------+----+\n",
      "|  1|    mobile| 1000|      10|   7|\n",
      "|  2|smartphone| 1400|       5|   8|\n",
      "|  3| cellphone| 1200|       7|  10|\n",
      "|  4|    laptop| 2250|       2|  27|\n",
      "|  5|  notebook| 3150|      14|  29|\n",
      "|  6|        pc| 3000|       8|  25|\n",
      "|  7|   netbook| 4500|       2|  27|\n",
      "+---+----------+-----+--------+----+\n",
      "\n"
     ]
    }
   ],
   "source": [
    "df_product = spark.createDataFrame(data = data_product, schema = schema_product)\n",
    "df_product.show()"
   ]
  },
  {
   "cell_type": "markdown",
   "id": "d5992f5d-a617-4899-b725-cd14beae706b",
   "metadata": {},
   "source": [
    "## CREATE MAP CONVERT COLUMN TO DICT"
   ]
  },
  {
   "cell_type": "code",
   "execution_count": 5,
   "id": "a63dfd68-b592-41be-9a0c-475a734f8df5",
   "metadata": {},
   "outputs": [],
   "source": [
    "from pyspark.sql.functions import col, lit, create_map"
   ]
  },
  {
   "cell_type": "code",
   "execution_count": 7,
   "id": "27b71304-74f0-476b-b2c6-75d3cb9a8ed1",
   "metadata": {},
   "outputs": [
    {
     "name": "stdout",
     "output_type": "stream",
     "text": [
      "+---+----------+-----+--------+----+--------------------+\n",
      "| id|    device|price|discount|size|          dict_price|\n",
      "+---+----------+-----+--------+----+--------------------+\n",
      "|  1|    mobile| 1000|      10|   7|    {mobile -> 1000}|\n",
      "|  2|smartphone| 1400|       5|   8|{smartphone -> 1400}|\n",
      "|  3| cellphone| 1200|       7|  10| {cellphone -> 1200}|\n",
      "|  4|    laptop| 2250|       2|  27|    {laptop -> 2250}|\n",
      "|  5|  notebook| 3150|      14|  29|  {notebook -> 3150}|\n",
      "|  6|        pc| 3000|       8|  25|        {pc -> 3000}|\n",
      "|  7|   netbook| 4500|       2|  27|   {netbook -> 4500}|\n",
      "+---+----------+-----+--------+----+--------------------+\n",
      "\n"
     ]
    }
   ],
   "source": [
    "df_product_dict_v1 = df_product.select(col(\"id\"),\n",
    "                                    col(\"device\"),\n",
    "                                    col(\"price\"),\n",
    "                                    col(\"discount\"),\n",
    "                                    col(\"size\"),\n",
    "                                    create_map(col(\"device\"),col(\"price\")).alias(\"dict_price\"))\n",
    "\n",
    "df_product_dict_v1.show()"
   ]
  },
  {
   "cell_type": "code",
   "execution_count": 8,
   "id": "79c0b304-8ea3-4880-8aa9-47838428a7db",
   "metadata": {},
   "outputs": [
    {
     "name": "stdout",
     "output_type": "stream",
     "text": [
      "root\n",
      " |-- id: integer (nullable = true)\n",
      " |-- device: string (nullable = true)\n",
      " |-- price: integer (nullable = true)\n",
      " |-- discount: integer (nullable = true)\n",
      " |-- size: integer (nullable = true)\n",
      " |-- dict_price: map (nullable = false)\n",
      " |    |-- key: string\n",
      " |    |-- value: integer (valueContainsNull = true)\n",
      "\n"
     ]
    }
   ],
   "source": [
    "df_product_dict_v1.printSchema()"
   ]
  },
  {
   "cell_type": "code",
   "execution_count": 11,
   "id": "5b04bdac-5d49-4517-9db0-607810993573",
   "metadata": {},
   "outputs": [
    {
     "name": "stdout",
     "output_type": "stream",
     "text": [
      "+---+----------+-----+--------+----+---------------------------------------------------------------+\n",
      "|id |device    |price|discount|size|dict_values                                                    |\n",
      "+---+----------+-----+--------+----+---------------------------------------------------------------+\n",
      "|1  |mobile    |1000 |10      |7   |{device -> mobile, price -> 1000, discount -> 10, size -> 7}   |\n",
      "|2  |smartphone|1400 |5       |8   |{device -> smartphone, price -> 1400, discount -> 5, size -> 8}|\n",
      "|3  |cellphone |1200 |7       |10  |{device -> cellphone, price -> 1200, discount -> 7, size -> 10}|\n",
      "|4  |laptop    |2250 |2       |27  |{device -> laptop, price -> 2250, discount -> 2, size -> 27}   |\n",
      "|5  |notebook  |3150 |14      |29  |{device -> notebook, price -> 3150, discount -> 14, size -> 29}|\n",
      "|6  |pc        |3000 |8       |25  |{device -> pc, price -> 3000, discount -> 8, size -> 25}       |\n",
      "|7  |netbook   |4500 |2       |27  |{device -> netbook, price -> 4500, discount -> 2, size -> 27}  |\n",
      "+---+----------+-----+--------+----+---------------------------------------------------------------+\n",
      "\n"
     ]
    }
   ],
   "source": [
    "df_product_dict_v2 = df_product.withColumn(\"dict_values\", \n",
    "                                           create_map(lit(\"device\"), col(\"device\"),\n",
    "                                                      lit(\"price\"), col(\"price\"),\n",
    "                                                      lit(\"discount\"), col(\"discount\"),\n",
    "                                                      lit(\"size\"), col(\"size\")))\n",
    "\n",
    "df_product_dict_v2.show(truncate=False)"
   ]
  },
  {
   "cell_type": "code",
   "execution_count": 12,
   "id": "f8511e2a-6a2d-4932-9455-2eb4a474c484",
   "metadata": {},
   "outputs": [
    {
     "name": "stdout",
     "output_type": "stream",
     "text": [
      "root\n",
      " |-- id: integer (nullable = true)\n",
      " |-- device: string (nullable = true)\n",
      " |-- price: integer (nullable = true)\n",
      " |-- discount: integer (nullable = true)\n",
      " |-- size: integer (nullable = true)\n",
      " |-- dict_values: map (nullable = false)\n",
      " |    |-- key: string\n",
      " |    |-- value: string (valueContainsNull = true)\n",
      "\n"
     ]
    }
   ],
   "source": [
    "df_product_dict_v2.printSchema()"
   ]
  },
  {
   "cell_type": "code",
   "execution_count": null,
   "id": "6b5a31be-91ae-4948-bfa1-be140bd8ce4f",
   "metadata": {},
   "outputs": [],
   "source": []
  }
 ],
 "metadata": {
  "kernelspec": {
   "display_name": "Python 3 (ipykernel)",
   "language": "python",
   "name": "python3"
  },
  "language_info": {
   "codemirror_mode": {
    "name": "ipython",
    "version": 3
   },
   "file_extension": ".py",
   "mimetype": "text/x-python",
   "name": "python",
   "nbconvert_exporter": "python",
   "pygments_lexer": "ipython3",
   "version": "3.11.7"
  }
 },
 "nbformat": 4,
 "nbformat_minor": 5
}
