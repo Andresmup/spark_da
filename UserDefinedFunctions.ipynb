{
 "cells": [
  {
   "cell_type": "markdown",
   "metadata": {
    "application/vnd.databricks.v1+cell": {
     "cellMetadata": {},
     "inputWidgets": {},
     "nuid": "9e33f4a3-c48d-4c43-b7cd-976bf1310074",
     "showTitle": false,
     "title": ""
    }
   },
   "source": [
    "#USER DEFINED FUNCTIONS"
   ]
  },
  {
   "cell_type": "code",
   "execution_count": 0,
   "metadata": {
    "application/vnd.databricks.v1+cell": {
     "cellMetadata": {
      "byteLimit": 2048000,
      "rowLimit": 10000
     },
     "inputWidgets": {},
     "nuid": "7ca29b9d-85d4-4a7b-a2c4-ec6bc6281894",
     "showTitle": false,
     "title": ""
    }
   },
   "outputs": [
    {
     "output_type": "display_data",
     "data": {
      "text/html": [
       "<style scoped>\n",
       "  .table-result-container {\n",
       "    max-height: 300px;\n",
       "    overflow: auto;\n",
       "  }\n",
       "  table, th, td {\n",
       "    border: 1px solid black;\n",
       "    border-collapse: collapse;\n",
       "  }\n",
       "  th, td {\n",
       "    padding: 5px;\n",
       "  }\n",
       "  th {\n",
       "    text-align: left;\n",
       "  }\n",
       "</style><div class='table-result-container'><table class='table-result'><thead style='background-color: white'><tr><th>id</th><th>company</th><th>value_B</th><th>last_update</th></tr></thead><tbody><tr><td>1</td><td>pepsi</td><td>50</td><td>2024-08-10</td></tr><tr><td>2</td><td>porche</td><td>30</td><td>2024-08-11</td></tr><tr><td>3</td><td>aws</td><td>20</td><td>2024-08-12</td></tr><tr><td>4</td><td>cocacola</td><td>10</td><td>2024-08-13</td></tr><tr><td>6</td><td>vans</td><td>60</td><td>2024-08-14</td></tr></tbody></table></div>"
      ]
     },
     "metadata": {
      "application/vnd.databricks.v1+output": {
       "addedWidgets": {},
       "aggData": [],
       "aggError": "",
       "aggOverflow": false,
       "aggSchema": [],
       "aggSeriesLimitReached": false,
       "aggType": "",
       "arguments": {},
       "columnCustomDisplayInfos": {},
       "data": [
        [
         1,
         "pepsi",
         50,
         "2024-08-10"
        ],
        [
         2,
         "porche",
         30,
         "2024-08-11"
        ],
        [
         3,
         "aws",
         20,
         "2024-08-12"
        ],
        [
         4,
         "cocacola",
         10,
         "2024-08-13"
        ],
        [
         6,
         "vans",
         60,
         "2024-08-14"
        ]
       ],
       "datasetInfos": [],
       "dbfsResultPath": null,
       "isJsonSchema": true,
       "metadata": {},
       "overflow": false,
       "plotOptions": {
        "customPlotOptions": {},
        "displayType": "table",
        "pivotAggregation": null,
        "pivotColumns": null,
        "xColumns": null,
        "yColumns": null
       },
       "removedWidgets": [],
       "schema": [
        {
         "metadata": "{}",
         "name": "id",
         "type": "\"long\""
        },
        {
         "metadata": "{}",
         "name": "company",
         "type": "\"string\""
        },
        {
         "metadata": "{}",
         "name": "value_B",
         "type": "\"long\""
        },
        {
         "metadata": "{}",
         "name": "last_update",
         "type": "\"string\""
        }
       ],
       "type": "table"
      }
     },
     "output_type": "display_data"
    }
   ],
   "source": [
    "data_lowercase = [\n",
    "    (1, 'pepsi', 50, '2024-08-10'),\n",
    "    (2, 'porche', 30, '2024-08-11'),\n",
    "    (3, 'aws', 20, '2024-08-12'),\n",
    "    (4, 'cocacola', 10, '2024-08-13'),\n",
    "    (6, 'vans', 60, '2024-08-14')\n",
    "]\n",
    "\n",
    "df_data_lowercase = spark.createDataFrame(data=data_lowercase,schema=['id', 'company', 'value_B', 'last_update'])\n",
    "\n",
    "display(df_data_lowercase)"
   ]
  },
  {
   "cell_type": "code",
   "execution_count": 0,
   "metadata": {
    "application/vnd.databricks.v1+cell": {
     "cellMetadata": {
      "byteLimit": 2048000,
      "rowLimit": 10000
     },
     "inputWidgets": {},
     "nuid": "886da29f-637c-48ee-a64d-d5f7b6e7ab30",
     "showTitle": false,
     "title": ""
    }
   },
   "outputs": [],
   "source": [
    "from pyspark.sql.functions import upper"
   ]
  },
  {
   "cell_type": "code",
   "execution_count": 0,
   "metadata": {
    "application/vnd.databricks.v1+cell": {
     "cellMetadata": {
      "byteLimit": 2048000,
      "rowLimit": 10000
     },
     "inputWidgets": {},
     "nuid": "7beb0fcb-cc33-4dad-9152-7001e5499e9c",
     "showTitle": false,
     "title": ""
    }
   },
   "outputs": [],
   "source": [
    "def udf_column_uppercase(df):\n",
    "    column_uppercase = df.withColumn(\"company_uppercase\", upper(df.company))\n",
    "    return column_uppercase"
   ]
  },
  {
   "cell_type": "code",
   "execution_count": 0,
   "metadata": {
    "application/vnd.databricks.v1+cell": {
     "cellMetadata": {
      "byteLimit": 2048000,
      "rowLimit": 10000
     },
     "inputWidgets": {},
     "nuid": "7dba91d6-c62e-42e8-a143-433a59aa852f",
     "showTitle": false,
     "title": ""
    }
   },
   "outputs": [
    {
     "output_type": "stream",
     "name": "stdout",
     "output_type": "stream",
     "text": [
      "+---+--------+-------+-----------+-----------------+\n| id| company|value_B|last_update|company_uppercase|\n+---+--------+-------+-----------+-----------------+\n|  1|   pepsi|     50| 2024-08-10|            PEPSI|\n|  2|  porche|     30| 2024-08-11|           PORCHE|\n|  3|     aws|     20| 2024-08-12|              AWS|\n|  4|cocacola|     10| 2024-08-13|         COCACOLA|\n|  6|    vans|     60| 2024-08-14|             VANS|\n+---+--------+-------+-----------+-----------------+\n\n"
     ]
    }
   ],
   "source": [
    "df_data_uppercase = udf_column_uppercase (df_data_lowercase)\n",
    "df_data_uppercase.show()"
   ]
  }
 ],
 "metadata": {
  "application/vnd.databricks.v1+notebook": {
   "dashboards": [],
   "environmentMetadata": null,
   "language": "python",
   "notebookMetadata": {
    "pythonIndentUnit": 4
   },
   "notebookName": "UserDefinedFunctions",
   "widgets": {}
  }
 },
 "nbformat": 4,
 "nbformat_minor": 0
}
