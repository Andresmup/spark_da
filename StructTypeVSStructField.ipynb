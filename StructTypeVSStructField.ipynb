{
 "cells": [
  {
   "cell_type": "markdown",
   "id": "9fb5e37c-a752-4962-a640-589f9c7b2e8a",
   "metadata": {},
   "source": [
    "# StructType VS StructField"
   ]
  },
  {
   "cell_type": "code",
   "execution_count": 1,
   "id": "89ce423b-dc85-4d0a-91f5-bda9ca9999ef",
   "metadata": {},
   "outputs": [],
   "source": [
    "import findspark\n",
    "findspark.init()"
   ]
  },
  {
   "cell_type": "code",
   "execution_count": 2,
   "id": "450c0456-12ed-4966-967a-7d25bc62bd0d",
   "metadata": {},
   "outputs": [
    {
     "name": "stderr",
     "output_type": "stream",
     "text": [
      "Setting default log level to \"WARN\".\n",
      "To adjust logging level use sc.setLogLevel(newLevel). For SparkR, use setLogLevel(newLevel).\n",
      "24/08/30 00:15:26 WARN NativeCodeLoader: Unable to load native-hadoop library for your platform... using builtin-java classes where applicable\n"
     ]
    }
   ],
   "source": [
    "from pyspark.sql import SparkSession\n",
    "spark = SparkSession.builder.getOrCreate()"
   ]
  },
  {
   "cell_type": "markdown",
   "id": "f81a391a-bb12-4f15-a89a-1e281906252f",
   "metadata": {},
   "source": [
    "## Define structure using StructType and StructFiel"
   ]
  },
  {
   "cell_type": "code",
   "execution_count": 3,
   "id": "589c2343-9d19-443c-87a4-01552e13dfd9",
   "metadata": {},
   "outputs": [],
   "source": [
    "from pyspark.sql.types import StructType, StructField, IntegerType, StringType, BooleanType"
   ]
  },
  {
   "cell_type": "code",
   "execution_count": 4,
   "id": "61979c64-b4c3-4c71-bddd-2c4620159992",
   "metadata": {},
   "outputs": [],
   "source": [
    "data_catalog = [\n",
    "    (1, 'Harry poter', 'Books', 120, True),\n",
    "    (2, 'Microwave', 'Kitchen', None, True),\n",
    "    (3, 'Jacket',180, None,None,),\n",
    "    (4, None, 'Furniture', 250, False),\n",
    "    (5, 'Xbox360', 'Toys', None, False)\n",
    "]"
   ]
  },
  {
   "cell_type": "code",
   "execution_count": 5,
   "id": "48e3e23d-e8c7-41e9-a38e-a05d3283a036",
   "metadata": {},
   "outputs": [],
   "source": [
    "schema_catalog = StructType([\n",
    "    StructField(\"id\",IntegerType(),False),\n",
    "    StructField(\"item\",StringType(),True),\n",
    "    StructField(\"category\",StringType(),True),\n",
    "    StructField(\"price\",IntegerType(),True),\n",
    "    StructField(\"available\",BooleanType(),True)\n",
    "])"
   ]
  },
  {
   "cell_type": "code",
   "execution_count": 6,
   "id": "769f9e67-b1e7-42d8-8ad1-5cff7c38a840",
   "metadata": {},
   "outputs": [
    {
     "name": "stderr",
     "output_type": "stream",
     "text": [
      "                                                                                \r"
     ]
    },
    {
     "name": "stdout",
     "output_type": "stream",
     "text": [
      "+---+-----------+---------+-----+---------+\n",
      "| id|       item| category|price|available|\n",
      "+---+-----------+---------+-----+---------+\n",
      "|  1|Harry poter|    Books|  120|     true|\n",
      "|  2|  Microwave|  Kitchen| NULL|     true|\n",
      "|  3|     Jacket|      180| NULL|     NULL|\n",
      "|  4|       NULL|Furniture|  250|    false|\n",
      "|  5|    Xbox360|     Toys| NULL|    false|\n",
      "+---+-----------+---------+-----+---------+\n",
      "\n"
     ]
    }
   ],
   "source": [
    "df_catalog = spark.createDataFrame(data=data_catalog,schema=schema_catalog)\n",
    "df_catalog.show()"
   ]
  },
  {
   "cell_type": "code",
   "execution_count": 7,
   "id": "fa72d42e-ecfb-419a-b48d-b84b22023a1f",
   "metadata": {},
   "outputs": [
    {
     "name": "stdout",
     "output_type": "stream",
     "text": [
      "root\n",
      " |-- id: integer (nullable = false)\n",
      " |-- item: string (nullable = true)\n",
      " |-- category: string (nullable = true)\n",
      " |-- price: integer (nullable = true)\n",
      " |-- available: boolean (nullable = true)\n",
      "\n"
     ]
    }
   ],
   "source": [
    "df_catalog.printSchema()"
   ]
  },
  {
   "cell_type": "markdown",
   "id": "bc7f13c8-e2e5-4ac6-b055-efffa122e3f1",
   "metadata": {},
   "source": [
    "## Define Nested Structure"
   ]
  },
  {
   "cell_type": "code",
   "execution_count": 8,
   "id": "41da8bd9-d7fd-46af-8862-aead28bed4d9",
   "metadata": {},
   "outputs": [],
   "source": [
    "data_students = [\n",
    "    (1, ('Jacob', 'Kyle', 'Smith'), (8, 10, 2), (\"math\", True, 4)),\n",
    "    (2, ('Linda', 'Mia', 'Jonh'), (8, 10, 2), (\"science\", False, 10)),\n",
    "    (3, ('Oliver', 'James', 'Johnson'), (7, 9, 3), (\"english\", True, 7)),\n",
    "    (4, ('Emma', 'Sophia', 'Williams'), (6, 8, 5), (\"history\", False, 9)),\n",
    "    (5, ('Liam', 'Lucas', 'Brown'), (9, 7, 4), (\"math\", True, 6)),\n",
    "    (6, ('Ava', 'Isabella', 'Jones'), (10, 8, 6), (\"science\", True, 8)),\n",
    "    (7, ('Noah', 'Mason', 'Davis'), (5, 7, 2), (\"english\", False, 5)),\n",
    "    (8, ('Olivia', 'Emily', 'Miller'), (8, 9, 3), (\"history\", True, 10)),\n",
    "    (9, ('Elijah', 'Logan', 'Garcia'), (7, 6, 4), (\"math\", False, 3)),\n",
    "    (10, ('Sophia', 'Charlotte', 'Martinez'), (9, 8, 7), (\"science\", True, 7)),\n",
    "]"
   ]
  },
  {
   "cell_type": "code",
   "execution_count": 9,
   "id": "9e7cf951-6001-4b1f-8f99-40abe492be1d",
   "metadata": {},
   "outputs": [],
   "source": [
    "schema_students = StructType([\n",
    "    StructField(\"id\",IntegerType(),False),\n",
    "    StructField(\"names\",StructType([\n",
    "        StructField(\"first_name\",StringType(),False),\n",
    "        StructField(\"middle_name\",StringType(),True),\n",
    "        StructField(\"last_name\",StringType(),False)\n",
    "    ])),\n",
    "    StructField(\"notes\",StructType([\n",
    "        StructField(\"exam_1\",IntegerType(),True),\n",
    "        StructField(\"exam_2\",IntegerType(),True),\n",
    "        StructField(\"exam_3\",IntegerType(),True)\n",
    "    ])),\n",
    "    StructField(\"area\",StructType([\n",
    "        StructField(\"subject\",StringType(),True),\n",
    "        StructField(\"approve\",BooleanType(),True),\n",
    "        StructField(\"assistance\",IntegerType(),True)\n",
    "    ]))\n",
    "])"
   ]
  },
  {
   "cell_type": "code",
   "execution_count": 10,
   "id": "003a62f3-0ae3-425e-ba0f-d077e368f7d4",
   "metadata": {},
   "outputs": [
    {
     "name": "stderr",
     "output_type": "stream",
     "text": [
      "                                                                                \r"
     ]
    },
    {
     "name": "stdout",
     "output_type": "stream",
     "text": [
      "+---+-----------------------------+----------+--------------------+\n",
      "|id |names                        |notes     |area                |\n",
      "+---+-----------------------------+----------+--------------------+\n",
      "|1  |{Jacob, Kyle, Smith}         |{8, 10, 2}|{math, true, 4}     |\n",
      "|2  |{Linda, Mia, Jonh}           |{8, 10, 2}|{science, false, 10}|\n",
      "|3  |{Oliver, James, Johnson}     |{7, 9, 3} |{english, true, 7}  |\n",
      "|4  |{Emma, Sophia, Williams}     |{6, 8, 5} |{history, false, 9} |\n",
      "|5  |{Liam, Lucas, Brown}         |{9, 7, 4} |{math, true, 6}     |\n",
      "|6  |{Ava, Isabella, Jones}       |{10, 8, 6}|{science, true, 8}  |\n",
      "|7  |{Noah, Mason, Davis}         |{5, 7, 2} |{english, false, 5} |\n",
      "|8  |{Olivia, Emily, Miller}      |{8, 9, 3} |{history, true, 10} |\n",
      "|9  |{Elijah, Logan, Garcia}      |{7, 6, 4} |{math, false, 3}    |\n",
      "|10 |{Sophia, Charlotte, Martinez}|{9, 8, 7} |{science, true, 7}  |\n",
      "+---+-----------------------------+----------+--------------------+\n",
      "\n"
     ]
    }
   ],
   "source": [
    "df_students = spark.createDataFrame(data=data_students,schema=schema_students)\n",
    "df_students.show(truncate=False)"
   ]
  },
  {
   "cell_type": "code",
   "execution_count": 11,
   "id": "f7587536-f9da-4703-ae6f-480b36839768",
   "metadata": {},
   "outputs": [
    {
     "name": "stdout",
     "output_type": "stream",
     "text": [
      "root\n",
      " |-- id: integer (nullable = false)\n",
      " |-- names: struct (nullable = true)\n",
      " |    |-- first_name: string (nullable = false)\n",
      " |    |-- middle_name: string (nullable = true)\n",
      " |    |-- last_name: string (nullable = false)\n",
      " |-- notes: struct (nullable = true)\n",
      " |    |-- exam_1: integer (nullable = true)\n",
      " |    |-- exam_2: integer (nullable = true)\n",
      " |    |-- exam_3: integer (nullable = true)\n",
      " |-- area: struct (nullable = true)\n",
      " |    |-- subject: string (nullable = true)\n",
      " |    |-- approve: boolean (nullable = true)\n",
      " |    |-- assistance: integer (nullable = true)\n",
      "\n"
     ]
    }
   ],
   "source": [
    "df_students.printSchema()"
   ]
  },
  {
   "cell_type": "code",
   "execution_count": null,
   "id": "f7a0b523-29da-4ea7-9aae-6b99dbf97faf",
   "metadata": {},
   "outputs": [],
   "source": []
  }
 ],
 "metadata": {
  "kernelspec": {
   "display_name": "Python 3 (ipykernel)",
   "language": "python",
   "name": "python3"
  },
  "language_info": {
   "codemirror_mode": {
    "name": "ipython",
    "version": 3
   },
   "file_extension": ".py",
   "mimetype": "text/x-python",
   "name": "python",
   "nbconvert_exporter": "python",
   "pygments_lexer": "ipython3",
   "version": "3.11.7"
  }
 },
 "nbformat": 4,
 "nbformat_minor": 5
}
