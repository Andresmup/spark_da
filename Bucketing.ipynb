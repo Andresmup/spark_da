{
 "cells": [
  {
   "cell_type": "markdown",
   "id": "e08137e2-faee-418a-aaea-dbf6d592b3a2",
   "metadata": {},
   "source": [
    "# BUCKETING FOR PERFOMANCE OPTIMIZATION"
   ]
  },
  {
   "cell_type": "code",
   "execution_count": 1,
   "id": "4cd2ff67-619e-4073-9fd9-4989d85f56e6",
   "metadata": {},
   "outputs": [],
   "source": [
    "import findspark\n",
    "findspark.init()"
   ]
  },
  {
   "cell_type": "code",
   "execution_count": 2,
   "id": "2a992626-8cc3-44da-b779-76c8e79c3c52",
   "metadata": {},
   "outputs": [
    {
     "name": "stderr",
     "output_type": "stream",
     "text": [
      "Setting default log level to \"WARN\".\n",
      "To adjust logging level use sc.setLogLevel(newLevel). For SparkR, use setLogLevel(newLevel).\n",
      "24/08/28 12:56:32 WARN NativeCodeLoader: Unable to load native-hadoop library for your platform... using builtin-java classes where applicable\n"
     ]
    }
   ],
   "source": [
    "from pyspark.sql import SparkSession\n",
    "\n",
    "spark = SparkSession.builder.getOrCreate()"
   ]
  },
  {
   "cell_type": "markdown",
   "id": "b3e38216-1f7d-4cb0-bd96-17521146fc23",
   "metadata": {},
   "source": [
    "## Check Bucketing Enable"
   ]
  },
  {
   "cell_type": "code",
   "execution_count": 4,
   "id": "04f2372b-2ae4-4285-b3fc-fc0264a55e5b",
   "metadata": {},
   "outputs": [
    {
     "data": {
      "text/plain": [
       "'true'"
      ]
     },
     "execution_count": 4,
     "metadata": {},
     "output_type": "execute_result"
    }
   ],
   "source": [
    "spark.conf.get(\"spark.sql.sources.bucketing.enabled\")"
   ]
  },
  {
   "cell_type": "markdown",
   "id": "cbcd3e83-15a3-4d65-a8ef-9d44a6eb13b6",
   "metadata": {},
   "source": [
    "## Sample Data"
   ]
  },
  {
   "cell_type": "code",
   "execution_count": 5,
   "id": "52f85111-f7d2-4cce-a677-cd1804b35bf4",
   "metadata": {},
   "outputs": [],
   "source": [
    "from pyspark.sql.functions import col, rand"
   ]
  },
  {
   "cell_type": "code",
   "execution_count": 6,
   "id": "2d7d4fc2-a8af-44f4-907c-35f7a8789f2d",
   "metadata": {},
   "outputs": [
    {
     "name": "stdout",
     "output_type": "stream",
     "text": [
      "+---+-------------------+\n",
      "| pk|          attribute|\n",
      "+---+-------------------+\n",
      "|  1| 0.1709497137955568|\n",
      "|  2| 0.8051143958005459|\n",
      "|  3| 0.5775925576589018|\n",
      "|  4| 0.9476047869880925|\n",
      "|  5|    0.2093704977577|\n",
      "|  6|0.36664222617947817|\n",
      "|  7| 0.8078688178371882|\n",
      "|  8| 0.7135143433452461|\n",
      "|  9| 0.7195325566306053|\n",
      "| 10|0.31335292311175456|\n",
      "| 11| 0.8062503712025726|\n",
      "| 12|0.10814914646176654|\n",
      "| 13| 0.3362232980701172|\n",
      "| 14| 0.8133304803837667|\n",
      "| 15|0.47649428738170896|\n",
      "| 16|  0.524728096293865|\n",
      "| 17| 0.9701253460019921|\n",
      "| 18| 0.6232167713919952|\n",
      "| 19| 0.5089687568245219|\n",
      "| 20| 0.5467504094508642|\n",
      "+---+-------------------+\n",
      "only showing top 20 rows\n",
      "\n"
     ]
    },
    {
     "name": "stderr",
     "output_type": "stream",
     "text": [
      "                                                                                \r"
     ]
    }
   ],
   "source": [
    "df = spark.range(1, 100000, 1, 10).select(col(\"id\").alias(\"pk\"), rand(10).alias(\"attribute\"))\n",
    "df.show()"
   ]
  },
  {
   "cell_type": "code",
   "execution_count": 7,
   "id": "fb479757-de4e-4435-b1ef-170c54bb9fe6",
   "metadata": {},
   "outputs": [
    {
     "data": {
      "text/plain": [
       "99999"
      ]
     },
     "execution_count": 7,
     "metadata": {},
     "output_type": "execute_result"
    }
   ],
   "source": [
    "df.count()"
   ]
  },
  {
   "cell_type": "code",
   "execution_count": 8,
   "id": "9653cfb6-374c-4a99-bc7a-b1597258563b",
   "metadata": {},
   "outputs": [
    {
     "data": {
      "text/plain": [
       "10"
      ]
     },
     "execution_count": 8,
     "metadata": {},
     "output_type": "execute_result"
    }
   ],
   "source": [
    "df.rdd.getNumPartitions()"
   ]
  },
  {
   "cell_type": "markdown",
   "id": "d950571a-b2c2-49a5-853e-5d815520a69b",
   "metadata": {},
   "source": [
    "## Create Non-Bucketed Table"
   ]
  },
  {
   "cell_type": "code",
   "execution_count": 9,
   "id": "f8e74e7b-bbee-4457-af0b-9ca5754e44eb",
   "metadata": {},
   "outputs": [
    {
     "name": "stderr",
     "output_type": "stream",
     "text": [
      "                                                                                \r"
     ]
    }
   ],
   "source": [
    "df.write.format(\"parquet\").saveAsTable(\"non_bucketed_table\")"
   ]
  },
  {
   "cell_type": "code",
   "execution_count": 13,
   "id": "3b88f877-b794-4edd-b198-0d3575e45688",
   "metadata": {},
   "outputs": [
    {
     "name": "stdout",
     "output_type": "stream",
     "text": [
      "total 1244\n",
      "drwxr-xr-x. 1 andresmunozpampillon andresmunozpampillon   2822 ago 28 13:05 \u001b[0m\u001b[01;34m.\u001b[0m/\n",
      "drwxr-xr-x. 1 andresmunozpampillon andresmunozpampillon     64 ago 28 13:07 \u001b[01;34m..\u001b[0m/\n",
      "-rw-r--r--. 1 andresmunozpampillon andresmunozpampillon 120799 ago 28 13:05 part-00000-f80bdd04-3e33-42c9-a25d-428cfb027c16-c000.snappy.parquet\n",
      "-rw-r--r--. 1 andresmunozpampillon andresmunozpampillon    952 ago 28 13:05 .part-00000-f80bdd04-3e33-42c9-a25d-428cfb027c16-c000.snappy.parquet.crc\n",
      "-rw-r--r--. 1 andresmunozpampillon andresmunozpampillon 120801 ago 28 13:05 part-00001-f80bdd04-3e33-42c9-a25d-428cfb027c16-c000.snappy.parquet\n",
      "-rw-r--r--. 1 andresmunozpampillon andresmunozpampillon    952 ago 28 13:05 .part-00001-f80bdd04-3e33-42c9-a25d-428cfb027c16-c000.snappy.parquet.crc\n",
      "-rw-r--r--. 1 andresmunozpampillon andresmunozpampillon 120799 ago 28 13:05 part-00002-f80bdd04-3e33-42c9-a25d-428cfb027c16-c000.snappy.parquet\n",
      "-rw-r--r--. 1 andresmunozpampillon andresmunozpampillon    952 ago 28 13:05 .part-00002-f80bdd04-3e33-42c9-a25d-428cfb027c16-c000.snappy.parquet.crc\n",
      "-rw-r--r--. 1 andresmunozpampillon andresmunozpampillon 120800 ago 28 13:05 part-00003-f80bdd04-3e33-42c9-a25d-428cfb027c16-c000.snappy.parquet\n",
      "-rw-r--r--. 1 andresmunozpampillon andresmunozpampillon    952 ago 28 13:05 .part-00003-f80bdd04-3e33-42c9-a25d-428cfb027c16-c000.snappy.parquet.crc\n",
      "-rw-r--r--. 1 andresmunozpampillon andresmunozpampillon 120799 ago 28 13:05 part-00004-f80bdd04-3e33-42c9-a25d-428cfb027c16-c000.snappy.parquet\n",
      "-rw-r--r--. 1 andresmunozpampillon andresmunozpampillon    952 ago 28 13:05 .part-00004-f80bdd04-3e33-42c9-a25d-428cfb027c16-c000.snappy.parquet.crc\n",
      "-rw-r--r--. 1 andresmunozpampillon andresmunozpampillon 120811 ago 28 13:05 part-00005-f80bdd04-3e33-42c9-a25d-428cfb027c16-c000.snappy.parquet\n",
      "-rw-r--r--. 1 andresmunozpampillon andresmunozpampillon    952 ago 28 13:05 .part-00005-f80bdd04-3e33-42c9-a25d-428cfb027c16-c000.snappy.parquet.crc\n",
      "-rw-r--r--. 1 andresmunozpampillon andresmunozpampillon 120803 ago 28 13:05 part-00006-f80bdd04-3e33-42c9-a25d-428cfb027c16-c000.snappy.parquet\n",
      "-rw-r--r--. 1 andresmunozpampillon andresmunozpampillon    952 ago 28 13:05 .part-00006-f80bdd04-3e33-42c9-a25d-428cfb027c16-c000.snappy.parquet.crc\n",
      "-rw-r--r--. 1 andresmunozpampillon andresmunozpampillon 120800 ago 28 13:05 part-00007-f80bdd04-3e33-42c9-a25d-428cfb027c16-c000.snappy.parquet\n",
      "-rw-r--r--. 1 andresmunozpampillon andresmunozpampillon    952 ago 28 13:05 .part-00007-f80bdd04-3e33-42c9-a25d-428cfb027c16-c000.snappy.parquet.crc\n",
      "-rw-r--r--. 1 andresmunozpampillon andresmunozpampillon 120805 ago 28 13:05 part-00008-f80bdd04-3e33-42c9-a25d-428cfb027c16-c000.snappy.parquet\n",
      "-rw-r--r--. 1 andresmunozpampillon andresmunozpampillon    952 ago 28 13:05 .part-00008-f80bdd04-3e33-42c9-a25d-428cfb027c16-c000.snappy.parquet.crc\n",
      "-rw-r--r--. 1 andresmunozpampillon andresmunozpampillon 120802 ago 28 13:05 part-00009-f80bdd04-3e33-42c9-a25d-428cfb027c16-c000.snappy.parquet\n",
      "-rw-r--r--. 1 andresmunozpampillon andresmunozpampillon    952 ago 28 13:05 .part-00009-f80bdd04-3e33-42c9-a25d-428cfb027c16-c000.snappy.parquet.crc\n",
      "-rw-r--r--. 1 andresmunozpampillon andresmunozpampillon      0 ago 28 13:05 _SUCCESS\n",
      "-rw-r--r--. 1 andresmunozpampillon andresmunozpampillon      8 ago 28 13:05 ._SUCCESS.crc\n"
     ]
    }
   ],
   "source": [
    "%ls -la spark-warehouse/non_bucketed_table"
   ]
  },
  {
   "cell_type": "markdown",
   "id": "8b989c53-9c4c-411e-86b9-5660446bff01",
   "metadata": {},
   "source": [
    "## Create Bucketed Table"
   ]
  },
  {
   "cell_type": "code",
   "execution_count": 10,
   "id": "72942709-6dae-478a-98c6-f7e5fdb33c6e",
   "metadata": {},
   "outputs": [
    {
     "name": "stderr",
     "output_type": "stream",
     "text": [
      "                                                                                \r"
     ]
    }
   ],
   "source": [
    "df.write.format(\"parquet\").bucketBy(10,\"pk\").saveAsTable(\"bucketed_table\")"
   ]
  },
  {
   "cell_type": "code",
   "execution_count": 14,
   "id": "5995661f-ae14-4f1d-a47e-095feb6594fc",
   "metadata": {},
   "outputs": [
    {
     "name": "stdout",
     "output_type": "stream",
     "text": [
      "total 1976\n",
      "drwxr-xr-x. 1 andresmunozpampillon andresmunozpampillon 30242 ago 28 13:08 \u001b[0m\u001b[01;34m.\u001b[0m/\n",
      "drwxr-xr-x. 1 andresmunozpampillon andresmunozpampillon    64 ago 28 13:07 \u001b[01;34m..\u001b[0m/\n",
      "-rw-r--r--. 1 andresmunozpampillon andresmunozpampillon 12358 ago 28 13:07 part-00000-95abc15e-2929-45dc-af5c-321ed1d1a191_00000.c000.snappy.parquet\n",
      "-rw-r--r--. 1 andresmunozpampillon andresmunozpampillon   108 ago 28 13:07 .part-00000-95abc15e-2929-45dc-af5c-321ed1d1a191_00000.c000.snappy.parquet.crc\n",
      "-rw-r--r--. 1 andresmunozpampillon andresmunozpampillon 13375 ago 28 13:07 part-00000-95abc15e-2929-45dc-af5c-321ed1d1a191_00001.c000.snappy.parquet\n",
      "-rw-r--r--. 1 andresmunozpampillon andresmunozpampillon   116 ago 28 13:07 .part-00000-95abc15e-2929-45dc-af5c-321ed1d1a191_00001.c000.snappy.parquet.crc\n",
      "-rw-r--r--. 1 andresmunozpampillon andresmunozpampillon 11976 ago 28 13:07 part-00000-95abc15e-2929-45dc-af5c-321ed1d1a191_00002.c000.snappy.parquet\n",
      "-rw-r--r--. 1 andresmunozpampillon andresmunozpampillon   104 ago 28 13:07 .part-00000-95abc15e-2929-45dc-af5c-321ed1d1a191_00002.c000.snappy.parquet.crc\n",
      "-rw-r--r--. 1 andresmunozpampillon andresmunozpampillon 12984 ago 28 13:07 part-00000-95abc15e-2929-45dc-af5c-321ed1d1a191_00003.c000.snappy.parquet\n",
      "-rw-r--r--. 1 andresmunozpampillon andresmunozpampillon   112 ago 28 13:07 .part-00000-95abc15e-2929-45dc-af5c-321ed1d1a191_00003.c000.snappy.parquet.crc\n",
      "-rw-r--r--. 1 andresmunozpampillon andresmunozpampillon 12888 ago 28 13:07 part-00000-95abc15e-2929-45dc-af5c-321ed1d1a191_00004.c000.snappy.parquet\n",
      "-rw-r--r--. 1 andresmunozpampillon andresmunozpampillon   112 ago 28 13:07 .part-00000-95abc15e-2929-45dc-af5c-321ed1d1a191_00004.c000.snappy.parquet.crc\n",
      "-rw-r--r--. 1 andresmunozpampillon andresmunozpampillon 12778 ago 28 13:07 part-00000-95abc15e-2929-45dc-af5c-321ed1d1a191_00005.c000.snappy.parquet\n",
      "-rw-r--r--. 1 andresmunozpampillon andresmunozpampillon   108 ago 28 13:07 .part-00000-95abc15e-2929-45dc-af5c-321ed1d1a191_00005.c000.snappy.parquet.crc\n",
      "-rw-r--r--. 1 andresmunozpampillon andresmunozpampillon 12803 ago 28 13:08 part-00000-95abc15e-2929-45dc-af5c-321ed1d1a191_00006.c000.snappy.parquet\n",
      "-rw-r--r--. 1 andresmunozpampillon andresmunozpampillon   112 ago 28 13:08 .part-00000-95abc15e-2929-45dc-af5c-321ed1d1a191_00006.c000.snappy.parquet.crc\n",
      "-rw-r--r--. 1 andresmunozpampillon andresmunozpampillon 12589 ago 28 13:08 part-00000-95abc15e-2929-45dc-af5c-321ed1d1a191_00007.c000.snappy.parquet\n",
      "-rw-r--r--. 1 andresmunozpampillon andresmunozpampillon   108 ago 28 13:08 .part-00000-95abc15e-2929-45dc-af5c-321ed1d1a191_00007.c000.snappy.parquet.crc\n",
      "-rw-r--r--. 1 andresmunozpampillon andresmunozpampillon 13228 ago 28 13:08 part-00000-95abc15e-2929-45dc-af5c-321ed1d1a191_00008.c000.snappy.parquet\n",
      "-rw-r--r--. 1 andresmunozpampillon andresmunozpampillon   112 ago 28 13:08 .part-00000-95abc15e-2929-45dc-af5c-321ed1d1a191_00008.c000.snappy.parquet.crc\n",
      "-rw-r--r--. 1 andresmunozpampillon andresmunozpampillon 12937 ago 28 13:08 part-00000-95abc15e-2929-45dc-af5c-321ed1d1a191_00009.c000.snappy.parquet\n",
      "-rw-r--r--. 1 andresmunozpampillon andresmunozpampillon   112 ago 28 13:08 .part-00000-95abc15e-2929-45dc-af5c-321ed1d1a191_00009.c000.snappy.parquet.crc\n",
      "-rw-r--r--. 1 andresmunozpampillon andresmunozpampillon 12542 ago 28 13:07 part-00001-95abc15e-2929-45dc-af5c-321ed1d1a191_00000.c000.snappy.parquet\n",
      "-rw-r--r--. 1 andresmunozpampillon andresmunozpampillon   108 ago 28 13:07 .part-00001-95abc15e-2929-45dc-af5c-321ed1d1a191_00000.c000.snappy.parquet.crc\n",
      "-rw-r--r--. 1 andresmunozpampillon andresmunozpampillon 12998 ago 28 13:07 part-00001-95abc15e-2929-45dc-af5c-321ed1d1a191_00001.c000.snappy.parquet\n",
      "-rw-r--r--. 1 andresmunozpampillon andresmunozpampillon   112 ago 28 13:07 .part-00001-95abc15e-2929-45dc-af5c-321ed1d1a191_00001.c000.snappy.parquet.crc\n",
      "-rw-r--r--. 1 andresmunozpampillon andresmunozpampillon 12338 ago 28 13:07 part-00001-95abc15e-2929-45dc-af5c-321ed1d1a191_00002.c000.snappy.parquet\n",
      "-rw-r--r--. 1 andresmunozpampillon andresmunozpampillon   108 ago 28 13:07 .part-00001-95abc15e-2929-45dc-af5c-321ed1d1a191_00002.c000.snappy.parquet.crc\n",
      "-rw-r--r--. 1 andresmunozpampillon andresmunozpampillon 12508 ago 28 13:08 part-00001-95abc15e-2929-45dc-af5c-321ed1d1a191_00003.c000.snappy.parquet\n",
      "-rw-r--r--. 1 andresmunozpampillon andresmunozpampillon   108 ago 28 13:08 .part-00001-95abc15e-2929-45dc-af5c-321ed1d1a191_00003.c000.snappy.parquet.crc\n",
      "-rw-r--r--. 1 andresmunozpampillon andresmunozpampillon 12409 ago 28 13:08 part-00001-95abc15e-2929-45dc-af5c-321ed1d1a191_00004.c000.snappy.parquet\n",
      "-rw-r--r--. 1 andresmunozpampillon andresmunozpampillon   108 ago 28 13:08 .part-00001-95abc15e-2929-45dc-af5c-321ed1d1a191_00004.c000.snappy.parquet.crc\n",
      "-rw-r--r--. 1 andresmunozpampillon andresmunozpampillon 12954 ago 28 13:08 part-00001-95abc15e-2929-45dc-af5c-321ed1d1a191_00005.c000.snappy.parquet\n",
      "-rw-r--r--. 1 andresmunozpampillon andresmunozpampillon   112 ago 28 13:08 .part-00001-95abc15e-2929-45dc-af5c-321ed1d1a191_00005.c000.snappy.parquet.crc\n",
      "-rw-r--r--. 1 andresmunozpampillon andresmunozpampillon 12697 ago 28 13:08 part-00001-95abc15e-2929-45dc-af5c-321ed1d1a191_00006.c000.snappy.parquet\n",
      "-rw-r--r--. 1 andresmunozpampillon andresmunozpampillon   108 ago 28 13:08 .part-00001-95abc15e-2929-45dc-af5c-321ed1d1a191_00006.c000.snappy.parquet.crc\n",
      "-rw-r--r--. 1 andresmunozpampillon andresmunozpampillon 13124 ago 28 13:08 part-00001-95abc15e-2929-45dc-af5c-321ed1d1a191_00007.c000.snappy.parquet\n",
      "-rw-r--r--. 1 andresmunozpampillon andresmunozpampillon   112 ago 28 13:08 .part-00001-95abc15e-2929-45dc-af5c-321ed1d1a191_00007.c000.snappy.parquet.crc\n",
      "-rw-r--r--. 1 andresmunozpampillon andresmunozpampillon 13171 ago 28 13:08 part-00001-95abc15e-2929-45dc-af5c-321ed1d1a191_00008.c000.snappy.parquet\n",
      "-rw-r--r--. 1 andresmunozpampillon andresmunozpampillon   112 ago 28 13:08 .part-00001-95abc15e-2929-45dc-af5c-321ed1d1a191_00008.c000.snappy.parquet.crc\n",
      "-rw-r--r--. 1 andresmunozpampillon andresmunozpampillon 13217 ago 28 13:08 part-00001-95abc15e-2929-45dc-af5c-321ed1d1a191_00009.c000.snappy.parquet\n",
      "-rw-r--r--. 1 andresmunozpampillon andresmunozpampillon   112 ago 28 13:08 .part-00001-95abc15e-2929-45dc-af5c-321ed1d1a191_00009.c000.snappy.parquet.crc\n",
      "-rw-r--r--. 1 andresmunozpampillon andresmunozpampillon 12642 ago 28 13:07 part-00002-95abc15e-2929-45dc-af5c-321ed1d1a191_00000.c000.snappy.parquet\n",
      "-rw-r--r--. 1 andresmunozpampillon andresmunozpampillon   108 ago 28 13:07 .part-00002-95abc15e-2929-45dc-af5c-321ed1d1a191_00000.c000.snappy.parquet.crc\n",
      "-rw-r--r--. 1 andresmunozpampillon andresmunozpampillon 13071 ago 28 13:07 part-00002-95abc15e-2929-45dc-af5c-321ed1d1a191_00001.c000.snappy.parquet\n",
      "-rw-r--r--. 1 andresmunozpampillon andresmunozpampillon   112 ago 28 13:07 .part-00002-95abc15e-2929-45dc-af5c-321ed1d1a191_00001.c000.snappy.parquet.crc\n",
      "-rw-r--r--. 1 andresmunozpampillon andresmunozpampillon 13195 ago 28 13:07 part-00002-95abc15e-2929-45dc-af5c-321ed1d1a191_00002.c000.snappy.parquet\n",
      "-rw-r--r--. 1 andresmunozpampillon andresmunozpampillon   112 ago 28 13:07 .part-00002-95abc15e-2929-45dc-af5c-321ed1d1a191_00002.c000.snappy.parquet.crc\n",
      "-rw-r--r--. 1 andresmunozpampillon andresmunozpampillon 12361 ago 28 13:08 part-00002-95abc15e-2929-45dc-af5c-321ed1d1a191_00003.c000.snappy.parquet\n",
      "-rw-r--r--. 1 andresmunozpampillon andresmunozpampillon   108 ago 28 13:08 .part-00002-95abc15e-2929-45dc-af5c-321ed1d1a191_00003.c000.snappy.parquet.crc\n",
      "-rw-r--r--. 1 andresmunozpampillon andresmunozpampillon 12845 ago 28 13:08 part-00002-95abc15e-2929-45dc-af5c-321ed1d1a191_00004.c000.snappy.parquet\n",
      "-rw-r--r--. 1 andresmunozpampillon andresmunozpampillon   112 ago 28 13:08 .part-00002-95abc15e-2929-45dc-af5c-321ed1d1a191_00004.c000.snappy.parquet.crc\n",
      "-rw-r--r--. 1 andresmunozpampillon andresmunozpampillon 13701 ago 28 13:08 part-00002-95abc15e-2929-45dc-af5c-321ed1d1a191_00005.c000.snappy.parquet\n",
      "-rw-r--r--. 1 andresmunozpampillon andresmunozpampillon   116 ago 28 13:08 .part-00002-95abc15e-2929-45dc-af5c-321ed1d1a191_00005.c000.snappy.parquet.crc\n",
      "-rw-r--r--. 1 andresmunozpampillon andresmunozpampillon 12748 ago 28 13:08 part-00002-95abc15e-2929-45dc-af5c-321ed1d1a191_00006.c000.snappy.parquet\n",
      "-rw-r--r--. 1 andresmunozpampillon andresmunozpampillon   108 ago 28 13:08 .part-00002-95abc15e-2929-45dc-af5c-321ed1d1a191_00006.c000.snappy.parquet.crc\n",
      "-rw-r--r--. 1 andresmunozpampillon andresmunozpampillon 13233 ago 28 13:08 part-00002-95abc15e-2929-45dc-af5c-321ed1d1a191_00007.c000.snappy.parquet\n",
      "-rw-r--r--. 1 andresmunozpampillon andresmunozpampillon   112 ago 28 13:08 .part-00002-95abc15e-2929-45dc-af5c-321ed1d1a191_00007.c000.snappy.parquet.crc\n",
      "-rw-r--r--. 1 andresmunozpampillon andresmunozpampillon 12123 ago 28 13:08 part-00002-95abc15e-2929-45dc-af5c-321ed1d1a191_00008.c000.snappy.parquet\n",
      "-rw-r--r--. 1 andresmunozpampillon andresmunozpampillon   104 ago 28 13:08 .part-00002-95abc15e-2929-45dc-af5c-321ed1d1a191_00008.c000.snappy.parquet.crc\n",
      "-rw-r--r--. 1 andresmunozpampillon andresmunozpampillon 12052 ago 28 13:08 part-00002-95abc15e-2929-45dc-af5c-321ed1d1a191_00009.c000.snappy.parquet\n",
      "-rw-r--r--. 1 andresmunozpampillon andresmunozpampillon   104 ago 28 13:08 .part-00002-95abc15e-2929-45dc-af5c-321ed1d1a191_00009.c000.snappy.parquet.crc\n",
      "-rw-r--r--. 1 andresmunozpampillon andresmunozpampillon 12581 ago 28 13:07 part-00003-95abc15e-2929-45dc-af5c-321ed1d1a191_00000.c000.snappy.parquet\n",
      "-rw-r--r--. 1 andresmunozpampillon andresmunozpampillon   108 ago 28 13:07 .part-00003-95abc15e-2929-45dc-af5c-321ed1d1a191_00000.c000.snappy.parquet.crc\n",
      "-rw-r--r--. 1 andresmunozpampillon andresmunozpampillon 12845 ago 28 13:07 part-00003-95abc15e-2929-45dc-af5c-321ed1d1a191_00001.c000.snappy.parquet\n",
      "-rw-r--r--. 1 andresmunozpampillon andresmunozpampillon   112 ago 28 13:07 .part-00003-95abc15e-2929-45dc-af5c-321ed1d1a191_00001.c000.snappy.parquet.crc\n",
      "-rw-r--r--. 1 andresmunozpampillon andresmunozpampillon 12852 ago 28 13:07 part-00003-95abc15e-2929-45dc-af5c-321ed1d1a191_00002.c000.snappy.parquet\n",
      "-rw-r--r--. 1 andresmunozpampillon andresmunozpampillon   112 ago 28 13:07 .part-00003-95abc15e-2929-45dc-af5c-321ed1d1a191_00002.c000.snappy.parquet.crc\n",
      "-rw-r--r--. 1 andresmunozpampillon andresmunozpampillon 12926 ago 28 13:07 part-00003-95abc15e-2929-45dc-af5c-321ed1d1a191_00003.c000.snappy.parquet\n",
      "-rw-r--r--. 1 andresmunozpampillon andresmunozpampillon   112 ago 28 13:07 .part-00003-95abc15e-2929-45dc-af5c-321ed1d1a191_00003.c000.snappy.parquet.crc\n",
      "-rw-r--r--. 1 andresmunozpampillon andresmunozpampillon 12337 ago 28 13:08 part-00003-95abc15e-2929-45dc-af5c-321ed1d1a191_00004.c000.snappy.parquet\n",
      "-rw-r--r--. 1 andresmunozpampillon andresmunozpampillon   108 ago 28 13:08 .part-00003-95abc15e-2929-45dc-af5c-321ed1d1a191_00004.c000.snappy.parquet.crc\n",
      "-rw-r--r--. 1 andresmunozpampillon andresmunozpampillon 12253 ago 28 13:08 part-00003-95abc15e-2929-45dc-af5c-321ed1d1a191_00005.c000.snappy.parquet\n",
      "-rw-r--r--. 1 andresmunozpampillon andresmunozpampillon   104 ago 28 13:08 .part-00003-95abc15e-2929-45dc-af5c-321ed1d1a191_00005.c000.snappy.parquet.crc\n",
      "-rw-r--r--. 1 andresmunozpampillon andresmunozpampillon 13700 ago 28 13:08 part-00003-95abc15e-2929-45dc-af5c-321ed1d1a191_00006.c000.snappy.parquet\n",
      "-rw-r--r--. 1 andresmunozpampillon andresmunozpampillon   116 ago 28 13:08 .part-00003-95abc15e-2929-45dc-af5c-321ed1d1a191_00006.c000.snappy.parquet.crc\n",
      "-rw-r--r--. 1 andresmunozpampillon andresmunozpampillon 12842 ago 28 13:08 part-00003-95abc15e-2929-45dc-af5c-321ed1d1a191_00007.c000.snappy.parquet\n",
      "-rw-r--r--. 1 andresmunozpampillon andresmunozpampillon   112 ago 28 13:08 .part-00003-95abc15e-2929-45dc-af5c-321ed1d1a191_00007.c000.snappy.parquet.crc\n",
      "-rw-r--r--. 1 andresmunozpampillon andresmunozpampillon 12985 ago 28 13:08 part-00003-95abc15e-2929-45dc-af5c-321ed1d1a191_00008.c000.snappy.parquet\n",
      "-rw-r--r--. 1 andresmunozpampillon andresmunozpampillon   112 ago 28 13:08 .part-00003-95abc15e-2929-45dc-af5c-321ed1d1a191_00008.c000.snappy.parquet.crc\n",
      "-rw-r--r--. 1 andresmunozpampillon andresmunozpampillon 12628 ago 28 13:08 part-00003-95abc15e-2929-45dc-af5c-321ed1d1a191_00009.c000.snappy.parquet\n",
      "-rw-r--r--. 1 andresmunozpampillon andresmunozpampillon   108 ago 28 13:08 .part-00003-95abc15e-2929-45dc-af5c-321ed1d1a191_00009.c000.snappy.parquet.crc\n",
      "-rw-r--r--. 1 andresmunozpampillon andresmunozpampillon 12640 ago 28 13:08 part-00004-95abc15e-2929-45dc-af5c-321ed1d1a191_00000.c000.snappy.parquet\n",
      "-rw-r--r--. 1 andresmunozpampillon andresmunozpampillon   108 ago 28 13:08 .part-00004-95abc15e-2929-45dc-af5c-321ed1d1a191_00000.c000.snappy.parquet.crc\n",
      "-rw-r--r--. 1 andresmunozpampillon andresmunozpampillon 12363 ago 28 13:08 part-00004-95abc15e-2929-45dc-af5c-321ed1d1a191_00001.c000.snappy.parquet\n",
      "-rw-r--r--. 1 andresmunozpampillon andresmunozpampillon   108 ago 28 13:08 .part-00004-95abc15e-2929-45dc-af5c-321ed1d1a191_00001.c000.snappy.parquet.crc\n",
      "-rw-r--r--. 1 andresmunozpampillon andresmunozpampillon 13296 ago 28 13:08 part-00004-95abc15e-2929-45dc-af5c-321ed1d1a191_00002.c000.snappy.parquet\n",
      "-rw-r--r--. 1 andresmunozpampillon andresmunozpampillon   112 ago 28 13:08 .part-00004-95abc15e-2929-45dc-af5c-321ed1d1a191_00002.c000.snappy.parquet.crc\n",
      "-rw-r--r--. 1 andresmunozpampillon andresmunozpampillon 12532 ago 28 13:08 part-00004-95abc15e-2929-45dc-af5c-321ed1d1a191_00003.c000.snappy.parquet\n",
      "-rw-r--r--. 1 andresmunozpampillon andresmunozpampillon   108 ago 28 13:08 .part-00004-95abc15e-2929-45dc-af5c-321ed1d1a191_00003.c000.snappy.parquet.crc\n",
      "-rw-r--r--. 1 andresmunozpampillon andresmunozpampillon 12722 ago 28 13:08 part-00004-95abc15e-2929-45dc-af5c-321ed1d1a191_00004.c000.snappy.parquet\n",
      "-rw-r--r--. 1 andresmunozpampillon andresmunozpampillon   108 ago 28 13:08 .part-00004-95abc15e-2929-45dc-af5c-321ed1d1a191_00004.c000.snappy.parquet.crc\n",
      "-rw-r--r--. 1 andresmunozpampillon andresmunozpampillon 13138 ago 28 13:08 part-00004-95abc15e-2929-45dc-af5c-321ed1d1a191_00005.c000.snappy.parquet\n",
      "-rw-r--r--. 1 andresmunozpampillon andresmunozpampillon   112 ago 28 13:08 .part-00004-95abc15e-2929-45dc-af5c-321ed1d1a191_00005.c000.snappy.parquet.crc\n",
      "-rw-r--r--. 1 andresmunozpampillon andresmunozpampillon 12904 ago 28 13:08 part-00004-95abc15e-2929-45dc-af5c-321ed1d1a191_00006.c000.snappy.parquet\n",
      "-rw-r--r--. 1 andresmunozpampillon andresmunozpampillon   112 ago 28 13:08 .part-00004-95abc15e-2929-45dc-af5c-321ed1d1a191_00006.c000.snappy.parquet.crc\n",
      "-rw-r--r--. 1 andresmunozpampillon andresmunozpampillon 12652 ago 28 13:08 part-00004-95abc15e-2929-45dc-af5c-321ed1d1a191_00007.c000.snappy.parquet\n",
      "-rw-r--r--. 1 andresmunozpampillon andresmunozpampillon   108 ago 28 13:08 .part-00004-95abc15e-2929-45dc-af5c-321ed1d1a191_00007.c000.snappy.parquet.crc\n",
      "-rw-r--r--. 1 andresmunozpampillon andresmunozpampillon 12854 ago 28 13:08 part-00004-95abc15e-2929-45dc-af5c-321ed1d1a191_00008.c000.snappy.parquet\n",
      "-rw-r--r--. 1 andresmunozpampillon andresmunozpampillon   112 ago 28 13:08 .part-00004-95abc15e-2929-45dc-af5c-321ed1d1a191_00008.c000.snappy.parquet.crc\n",
      "-rw-r--r--. 1 andresmunozpampillon andresmunozpampillon 12867 ago 28 13:08 part-00004-95abc15e-2929-45dc-af5c-321ed1d1a191_00009.c000.snappy.parquet\n",
      "-rw-r--r--. 1 andresmunozpampillon andresmunozpampillon   112 ago 28 13:08 .part-00004-95abc15e-2929-45dc-af5c-321ed1d1a191_00009.c000.snappy.parquet.crc\n",
      "-rw-r--r--. 1 andresmunozpampillon andresmunozpampillon 12936 ago 28 13:08 part-00005-95abc15e-2929-45dc-af5c-321ed1d1a191_00000.c000.snappy.parquet\n",
      "-rw-r--r--. 1 andresmunozpampillon andresmunozpampillon   112 ago 28 13:08 .part-00005-95abc15e-2929-45dc-af5c-321ed1d1a191_00000.c000.snappy.parquet.crc\n",
      "-rw-r--r--. 1 andresmunozpampillon andresmunozpampillon 12461 ago 28 13:08 part-00005-95abc15e-2929-45dc-af5c-321ed1d1a191_00001.c000.snappy.parquet\n",
      "-rw-r--r--. 1 andresmunozpampillon andresmunozpampillon   108 ago 28 13:08 .part-00005-95abc15e-2929-45dc-af5c-321ed1d1a191_00001.c000.snappy.parquet.crc\n",
      "-rw-r--r--. 1 andresmunozpampillon andresmunozpampillon 12952 ago 28 13:08 part-00005-95abc15e-2929-45dc-af5c-321ed1d1a191_00002.c000.snappy.parquet\n",
      "-rw-r--r--. 1 andresmunozpampillon andresmunozpampillon   112 ago 28 13:08 .part-00005-95abc15e-2929-45dc-af5c-321ed1d1a191_00002.c000.snappy.parquet.crc\n",
      "-rw-r--r--. 1 andresmunozpampillon andresmunozpampillon 13008 ago 28 13:08 part-00005-95abc15e-2929-45dc-af5c-321ed1d1a191_00003.c000.snappy.parquet\n",
      "-rw-r--r--. 1 andresmunozpampillon andresmunozpampillon   112 ago 28 13:08 .part-00005-95abc15e-2929-45dc-af5c-321ed1d1a191_00003.c000.snappy.parquet.crc\n",
      "-rw-r--r--. 1 andresmunozpampillon andresmunozpampillon 12652 ago 28 13:08 part-00005-95abc15e-2929-45dc-af5c-321ed1d1a191_00004.c000.snappy.parquet\n",
      "-rw-r--r--. 1 andresmunozpampillon andresmunozpampillon   108 ago 28 13:08 .part-00005-95abc15e-2929-45dc-af5c-321ed1d1a191_00004.c000.snappy.parquet.crc\n",
      "-rw-r--r--. 1 andresmunozpampillon andresmunozpampillon 12882 ago 28 13:08 part-00005-95abc15e-2929-45dc-af5c-321ed1d1a191_00005.c000.snappy.parquet\n",
      "-rw-r--r--. 1 andresmunozpampillon andresmunozpampillon   112 ago 28 13:08 .part-00005-95abc15e-2929-45dc-af5c-321ed1d1a191_00005.c000.snappy.parquet.crc\n",
      "-rw-r--r--. 1 andresmunozpampillon andresmunozpampillon 12694 ago 28 13:08 part-00005-95abc15e-2929-45dc-af5c-321ed1d1a191_00006.c000.snappy.parquet\n",
      "-rw-r--r--. 1 andresmunozpampillon andresmunozpampillon   108 ago 28 13:08 .part-00005-95abc15e-2929-45dc-af5c-321ed1d1a191_00006.c000.snappy.parquet.crc\n",
      "-rw-r--r--. 1 andresmunozpampillon andresmunozpampillon 12962 ago 28 13:08 part-00005-95abc15e-2929-45dc-af5c-321ed1d1a191_00007.c000.snappy.parquet\n",
      "-rw-r--r--. 1 andresmunozpampillon andresmunozpampillon   112 ago 28 13:08 .part-00005-95abc15e-2929-45dc-af5c-321ed1d1a191_00007.c000.snappy.parquet.crc\n",
      "-rw-r--r--. 1 andresmunozpampillon andresmunozpampillon 12628 ago 28 13:08 part-00005-95abc15e-2929-45dc-af5c-321ed1d1a191_00008.c000.snappy.parquet\n",
      "-rw-r--r--. 1 andresmunozpampillon andresmunozpampillon   108 ago 28 13:08 .part-00005-95abc15e-2929-45dc-af5c-321ed1d1a191_00008.c000.snappy.parquet.crc\n",
      "-rw-r--r--. 1 andresmunozpampillon andresmunozpampillon 12770 ago 28 13:08 part-00005-95abc15e-2929-45dc-af5c-321ed1d1a191_00009.c000.snappy.parquet\n",
      "-rw-r--r--. 1 andresmunozpampillon andresmunozpampillon   108 ago 28 13:08 .part-00005-95abc15e-2929-45dc-af5c-321ed1d1a191_00009.c000.snappy.parquet.crc\n",
      "-rw-r--r--. 1 andresmunozpampillon andresmunozpampillon 12859 ago 28 13:08 part-00006-95abc15e-2929-45dc-af5c-321ed1d1a191_00000.c000.snappy.parquet\n",
      "-rw-r--r--. 1 andresmunozpampillon andresmunozpampillon   112 ago 28 13:08 .part-00006-95abc15e-2929-45dc-af5c-321ed1d1a191_00000.c000.snappy.parquet.crc\n",
      "-rw-r--r--. 1 andresmunozpampillon andresmunozpampillon 13165 ago 28 13:08 part-00006-95abc15e-2929-45dc-af5c-321ed1d1a191_00001.c000.snappy.parquet\n",
      "-rw-r--r--. 1 andresmunozpampillon andresmunozpampillon   112 ago 28 13:08 .part-00006-95abc15e-2929-45dc-af5c-321ed1d1a191_00001.c000.snappy.parquet.crc\n",
      "-rw-r--r--. 1 andresmunozpampillon andresmunozpampillon 13104 ago 28 13:08 part-00006-95abc15e-2929-45dc-af5c-321ed1d1a191_00002.c000.snappy.parquet\n",
      "-rw-r--r--. 1 andresmunozpampillon andresmunozpampillon   112 ago 28 13:08 .part-00006-95abc15e-2929-45dc-af5c-321ed1d1a191_00002.c000.snappy.parquet.crc\n",
      "-rw-r--r--. 1 andresmunozpampillon andresmunozpampillon 12633 ago 28 13:08 part-00006-95abc15e-2929-45dc-af5c-321ed1d1a191_00003.c000.snappy.parquet\n",
      "-rw-r--r--. 1 andresmunozpampillon andresmunozpampillon   108 ago 28 13:08 .part-00006-95abc15e-2929-45dc-af5c-321ed1d1a191_00003.c000.snappy.parquet.crc\n",
      "-rw-r--r--. 1 andresmunozpampillon andresmunozpampillon 12739 ago 28 13:08 part-00006-95abc15e-2929-45dc-af5c-321ed1d1a191_00004.c000.snappy.parquet\n",
      "-rw-r--r--. 1 andresmunozpampillon andresmunozpampillon   108 ago 28 13:08 .part-00006-95abc15e-2929-45dc-af5c-321ed1d1a191_00004.c000.snappy.parquet.crc\n",
      "-rw-r--r--. 1 andresmunozpampillon andresmunozpampillon 13104 ago 28 13:08 part-00006-95abc15e-2929-45dc-af5c-321ed1d1a191_00005.c000.snappy.parquet\n",
      "-rw-r--r--. 1 andresmunozpampillon andresmunozpampillon   112 ago 28 13:08 .part-00006-95abc15e-2929-45dc-af5c-321ed1d1a191_00005.c000.snappy.parquet.crc\n",
      "-rw-r--r--. 1 andresmunozpampillon andresmunozpampillon 12448 ago 28 13:08 part-00006-95abc15e-2929-45dc-af5c-321ed1d1a191_00006.c000.snappy.parquet\n",
      "-rw-r--r--. 1 andresmunozpampillon andresmunozpampillon   108 ago 28 13:08 .part-00006-95abc15e-2929-45dc-af5c-321ed1d1a191_00006.c000.snappy.parquet.crc\n",
      "-rw-r--r--. 1 andresmunozpampillon andresmunozpampillon 12397 ago 28 13:08 part-00006-95abc15e-2929-45dc-af5c-321ed1d1a191_00007.c000.snappy.parquet\n",
      "-rw-r--r--. 1 andresmunozpampillon andresmunozpampillon   108 ago 28 13:08 .part-00006-95abc15e-2929-45dc-af5c-321ed1d1a191_00007.c000.snappy.parquet.crc\n",
      "-rw-r--r--. 1 andresmunozpampillon andresmunozpampillon 12926 ago 28 13:08 part-00006-95abc15e-2929-45dc-af5c-321ed1d1a191_00008.c000.snappy.parquet\n",
      "-rw-r--r--. 1 andresmunozpampillon andresmunozpampillon   112 ago 28 13:08 .part-00006-95abc15e-2929-45dc-af5c-321ed1d1a191_00008.c000.snappy.parquet.crc\n",
      "-rw-r--r--. 1 andresmunozpampillon andresmunozpampillon 12605 ago 28 13:08 part-00006-95abc15e-2929-45dc-af5c-321ed1d1a191_00009.c000.snappy.parquet\n",
      "-rw-r--r--. 1 andresmunozpampillon andresmunozpampillon   108 ago 28 13:08 .part-00006-95abc15e-2929-45dc-af5c-321ed1d1a191_00009.c000.snappy.parquet.crc\n",
      "-rw-r--r--. 1 andresmunozpampillon andresmunozpampillon 12792 ago 28 13:08 part-00007-95abc15e-2929-45dc-af5c-321ed1d1a191_00000.c000.snappy.parquet\n",
      "-rw-r--r--. 1 andresmunozpampillon andresmunozpampillon   108 ago 28 13:08 .part-00007-95abc15e-2929-45dc-af5c-321ed1d1a191_00000.c000.snappy.parquet.crc\n",
      "-rw-r--r--. 1 andresmunozpampillon andresmunozpampillon 12796 ago 28 13:08 part-00007-95abc15e-2929-45dc-af5c-321ed1d1a191_00001.c000.snappy.parquet\n",
      "-rw-r--r--. 1 andresmunozpampillon andresmunozpampillon   108 ago 28 13:08 .part-00007-95abc15e-2929-45dc-af5c-321ed1d1a191_00001.c000.snappy.parquet.crc\n",
      "-rw-r--r--. 1 andresmunozpampillon andresmunozpampillon 12448 ago 28 13:08 part-00007-95abc15e-2929-45dc-af5c-321ed1d1a191_00002.c000.snappy.parquet\n",
      "-rw-r--r--. 1 andresmunozpampillon andresmunozpampillon   108 ago 28 13:08 .part-00007-95abc15e-2929-45dc-af5c-321ed1d1a191_00002.c000.snappy.parquet.crc\n",
      "-rw-r--r--. 1 andresmunozpampillon andresmunozpampillon 13062 ago 28 13:08 part-00007-95abc15e-2929-45dc-af5c-321ed1d1a191_00003.c000.snappy.parquet\n",
      "-rw-r--r--. 1 andresmunozpampillon andresmunozpampillon   112 ago 28 13:08 .part-00007-95abc15e-2929-45dc-af5c-321ed1d1a191_00003.c000.snappy.parquet.crc\n",
      "-rw-r--r--. 1 andresmunozpampillon andresmunozpampillon 13135 ago 28 13:08 part-00007-95abc15e-2929-45dc-af5c-321ed1d1a191_00004.c000.snappy.parquet\n",
      "-rw-r--r--. 1 andresmunozpampillon andresmunozpampillon   112 ago 28 13:08 .part-00007-95abc15e-2929-45dc-af5c-321ed1d1a191_00004.c000.snappy.parquet.crc\n",
      "-rw-r--r--. 1 andresmunozpampillon andresmunozpampillon 13251 ago 28 13:08 part-00007-95abc15e-2929-45dc-af5c-321ed1d1a191_00005.c000.snappy.parquet\n",
      "-rw-r--r--. 1 andresmunozpampillon andresmunozpampillon   112 ago 28 13:08 .part-00007-95abc15e-2929-45dc-af5c-321ed1d1a191_00005.c000.snappy.parquet.crc\n",
      "-rw-r--r--. 1 andresmunozpampillon andresmunozpampillon 13009 ago 28 13:08 part-00007-95abc15e-2929-45dc-af5c-321ed1d1a191_00006.c000.snappy.parquet\n",
      "-rw-r--r--. 1 andresmunozpampillon andresmunozpampillon   112 ago 28 13:08 .part-00007-95abc15e-2929-45dc-af5c-321ed1d1a191_00006.c000.snappy.parquet.crc\n",
      "-rw-r--r--. 1 andresmunozpampillon andresmunozpampillon 13074 ago 28 13:08 part-00007-95abc15e-2929-45dc-af5c-321ed1d1a191_00007.c000.snappy.parquet\n",
      "-rw-r--r--. 1 andresmunozpampillon andresmunozpampillon   112 ago 28 13:08 .part-00007-95abc15e-2929-45dc-af5c-321ed1d1a191_00007.c000.snappy.parquet.crc\n",
      "-rw-r--r--. 1 andresmunozpampillon andresmunozpampillon 12388 ago 28 13:08 part-00007-95abc15e-2929-45dc-af5c-321ed1d1a191_00008.c000.snappy.parquet\n",
      "-rw-r--r--. 1 andresmunozpampillon andresmunozpampillon   108 ago 28 13:08 .part-00007-95abc15e-2929-45dc-af5c-321ed1d1a191_00008.c000.snappy.parquet.crc\n",
      "-rw-r--r--. 1 andresmunozpampillon andresmunozpampillon 12008 ago 28 13:08 part-00007-95abc15e-2929-45dc-af5c-321ed1d1a191_00009.c000.snappy.parquet\n",
      "-rw-r--r--. 1 andresmunozpampillon andresmunozpampillon   104 ago 28 13:08 .part-00007-95abc15e-2929-45dc-af5c-321ed1d1a191_00009.c000.snappy.parquet.crc\n",
      "-rw-r--r--. 1 andresmunozpampillon andresmunozpampillon 13591 ago 28 13:08 part-00008-95abc15e-2929-45dc-af5c-321ed1d1a191_00000.c000.snappy.parquet\n",
      "-rw-r--r--. 1 andresmunozpampillon andresmunozpampillon   116 ago 28 13:08 .part-00008-95abc15e-2929-45dc-af5c-321ed1d1a191_00000.c000.snappy.parquet.crc\n",
      "-rw-r--r--. 1 andresmunozpampillon andresmunozpampillon 13118 ago 28 13:08 part-00008-95abc15e-2929-45dc-af5c-321ed1d1a191_00001.c000.snappy.parquet\n",
      "-rw-r--r--. 1 andresmunozpampillon andresmunozpampillon   112 ago 28 13:08 .part-00008-95abc15e-2929-45dc-af5c-321ed1d1a191_00001.c000.snappy.parquet.crc\n",
      "-rw-r--r--. 1 andresmunozpampillon andresmunozpampillon 12327 ago 28 13:08 part-00008-95abc15e-2929-45dc-af5c-321ed1d1a191_00002.c000.snappy.parquet\n",
      "-rw-r--r--. 1 andresmunozpampillon andresmunozpampillon   108 ago 28 13:08 .part-00008-95abc15e-2929-45dc-af5c-321ed1d1a191_00002.c000.snappy.parquet.crc\n",
      "-rw-r--r--. 1 andresmunozpampillon andresmunozpampillon 12496 ago 28 13:08 part-00008-95abc15e-2929-45dc-af5c-321ed1d1a191_00003.c000.snappy.parquet\n",
      "-rw-r--r--. 1 andresmunozpampillon andresmunozpampillon   108 ago 28 13:08 .part-00008-95abc15e-2929-45dc-af5c-321ed1d1a191_00003.c000.snappy.parquet.crc\n",
      "-rw-r--r--. 1 andresmunozpampillon andresmunozpampillon 12207 ago 28 13:08 part-00008-95abc15e-2929-45dc-af5c-321ed1d1a191_00004.c000.snappy.parquet\n",
      "-rw-r--r--. 1 andresmunozpampillon andresmunozpampillon   104 ago 28 13:08 .part-00008-95abc15e-2929-45dc-af5c-321ed1d1a191_00004.c000.snappy.parquet.crc\n",
      "-rw-r--r--. 1 andresmunozpampillon andresmunozpampillon 12937 ago 28 13:08 part-00008-95abc15e-2929-45dc-af5c-321ed1d1a191_00005.c000.snappy.parquet\n",
      "-rw-r--r--. 1 andresmunozpampillon andresmunozpampillon   112 ago 28 13:08 .part-00008-95abc15e-2929-45dc-af5c-321ed1d1a191_00005.c000.snappy.parquet.crc\n",
      "-rw-r--r--. 1 andresmunozpampillon andresmunozpampillon 13018 ago 28 13:08 part-00008-95abc15e-2929-45dc-af5c-321ed1d1a191_00006.c000.snappy.parquet\n",
      "-rw-r--r--. 1 andresmunozpampillon andresmunozpampillon   112 ago 28 13:08 .part-00008-95abc15e-2929-45dc-af5c-321ed1d1a191_00006.c000.snappy.parquet.crc\n",
      "-rw-r--r--. 1 andresmunozpampillon andresmunozpampillon 13245 ago 28 13:08 part-00008-95abc15e-2929-45dc-af5c-321ed1d1a191_00007.c000.snappy.parquet\n",
      "-rw-r--r--. 1 andresmunozpampillon andresmunozpampillon   112 ago 28 13:08 .part-00008-95abc15e-2929-45dc-af5c-321ed1d1a191_00007.c000.snappy.parquet.crc\n",
      "-rw-r--r--. 1 andresmunozpampillon andresmunozpampillon 12328 ago 28 13:08 part-00008-95abc15e-2929-45dc-af5c-321ed1d1a191_00008.c000.snappy.parquet\n",
      "-rw-r--r--. 1 andresmunozpampillon andresmunozpampillon   108 ago 28 13:08 .part-00008-95abc15e-2929-45dc-af5c-321ed1d1a191_00008.c000.snappy.parquet.crc\n",
      "-rw-r--r--. 1 andresmunozpampillon andresmunozpampillon 12688 ago 28 13:08 part-00008-95abc15e-2929-45dc-af5c-321ed1d1a191_00009.c000.snappy.parquet\n",
      "-rw-r--r--. 1 andresmunozpampillon andresmunozpampillon   108 ago 28 13:08 .part-00008-95abc15e-2929-45dc-af5c-321ed1d1a191_00009.c000.snappy.parquet.crc\n",
      "-rw-r--r--. 1 andresmunozpampillon andresmunozpampillon 12676 ago 28 13:08 part-00009-95abc15e-2929-45dc-af5c-321ed1d1a191_00000.c000.snappy.parquet\n",
      "-rw-r--r--. 1 andresmunozpampillon andresmunozpampillon   108 ago 28 13:08 .part-00009-95abc15e-2929-45dc-af5c-321ed1d1a191_00000.c000.snappy.parquet.crc\n",
      "-rw-r--r--. 1 andresmunozpampillon andresmunozpampillon 13139 ago 28 13:08 part-00009-95abc15e-2929-45dc-af5c-321ed1d1a191_00001.c000.snappy.parquet\n",
      "-rw-r--r--. 1 andresmunozpampillon andresmunozpampillon   112 ago 28 13:08 .part-00009-95abc15e-2929-45dc-af5c-321ed1d1a191_00001.c000.snappy.parquet.crc\n",
      "-rw-r--r--. 1 andresmunozpampillon andresmunozpampillon 12400 ago 28 13:08 part-00009-95abc15e-2929-45dc-af5c-321ed1d1a191_00002.c000.snappy.parquet\n",
      "-rw-r--r--. 1 andresmunozpampillon andresmunozpampillon   108 ago 28 13:08 .part-00009-95abc15e-2929-45dc-af5c-321ed1d1a191_00002.c000.snappy.parquet.crc\n",
      "-rw-r--r--. 1 andresmunozpampillon andresmunozpampillon 13052 ago 28 13:08 part-00009-95abc15e-2929-45dc-af5c-321ed1d1a191_00003.c000.snappy.parquet\n",
      "-rw-r--r--. 1 andresmunozpampillon andresmunozpampillon   112 ago 28 13:08 .part-00009-95abc15e-2929-45dc-af5c-321ed1d1a191_00003.c000.snappy.parquet.crc\n",
      "-rw-r--r--. 1 andresmunozpampillon andresmunozpampillon 12695 ago 28 13:08 part-00009-95abc15e-2929-45dc-af5c-321ed1d1a191_00004.c000.snappy.parquet\n",
      "-rw-r--r--. 1 andresmunozpampillon andresmunozpampillon   108 ago 28 13:08 .part-00009-95abc15e-2929-45dc-af5c-321ed1d1a191_00004.c000.snappy.parquet.crc\n",
      "-rw-r--r--. 1 andresmunozpampillon andresmunozpampillon 12836 ago 28 13:08 part-00009-95abc15e-2929-45dc-af5c-321ed1d1a191_00005.c000.snappy.parquet\n",
      "-rw-r--r--. 1 andresmunozpampillon andresmunozpampillon   112 ago 28 13:08 .part-00009-95abc15e-2929-45dc-af5c-321ed1d1a191_00005.c000.snappy.parquet.crc\n",
      "-rw-r--r--. 1 andresmunozpampillon andresmunozpampillon 12757 ago 28 13:08 part-00009-95abc15e-2929-45dc-af5c-321ed1d1a191_00006.c000.snappy.parquet\n",
      "-rw-r--r--. 1 andresmunozpampillon andresmunozpampillon   108 ago 28 13:08 .part-00009-95abc15e-2929-45dc-af5c-321ed1d1a191_00006.c000.snappy.parquet.crc\n",
      "-rw-r--r--. 1 andresmunozpampillon andresmunozpampillon 12242 ago 28 13:08 part-00009-95abc15e-2929-45dc-af5c-321ed1d1a191_00007.c000.snappy.parquet\n",
      "-rw-r--r--. 1 andresmunozpampillon andresmunozpampillon   104 ago 28 13:08 .part-00009-95abc15e-2929-45dc-af5c-321ed1d1a191_00007.c000.snappy.parquet.crc\n",
      "-rw-r--r--. 1 andresmunozpampillon andresmunozpampillon 12985 ago 28 13:08 part-00009-95abc15e-2929-45dc-af5c-321ed1d1a191_00008.c000.snappy.parquet\n",
      "-rw-r--r--. 1 andresmunozpampillon andresmunozpampillon   112 ago 28 13:08 .part-00009-95abc15e-2929-45dc-af5c-321ed1d1a191_00008.c000.snappy.parquet.crc\n",
      "-rw-r--r--. 1 andresmunozpampillon andresmunozpampillon 13181 ago 28 13:08 part-00009-95abc15e-2929-45dc-af5c-321ed1d1a191_00009.c000.snappy.parquet\n",
      "-rw-r--r--. 1 andresmunozpampillon andresmunozpampillon   112 ago 28 13:08 .part-00009-95abc15e-2929-45dc-af5c-321ed1d1a191_00009.c000.snappy.parquet.crc\n",
      "-rw-r--r--. 1 andresmunozpampillon andresmunozpampillon     0 ago 28 13:08 _SUCCESS\n",
      "-rw-r--r--. 1 andresmunozpampillon andresmunozpampillon     8 ago 28 13:08 ._SUCCESS.crc\n"
     ]
    }
   ],
   "source": [
    "%ls -la spark-warehouse/bucketed_table"
   ]
  },
  {
   "cell_type": "markdown",
   "id": "732f1eda-ffb5-4e02-a983-5b56a0d99ef8",
   "metadata": {},
   "source": [
    "## Bucketed and Non-Bucketed Tables"
   ]
  },
  {
   "cell_type": "code",
   "execution_count": 15,
   "id": "45b6de11-91b0-4cab-8857-4e13732c8ef3",
   "metadata": {},
   "outputs": [],
   "source": [
    "d1 = spark.table(\"non_bucketed_table\")\n",
    "d2 = spark.table(\"non_bucketed_table\")\n",
    "\n",
    "d3 = spark.table(\"bucketed_table\")\n",
    "d4 = spark.table(\"bucketed_table\")"
   ]
  },
  {
   "cell_type": "markdown",
   "id": "bddbb7be-bb7b-47df-8956-01d0ec9ce54d",
   "metadata": {},
   "source": [
    "## Broadcast Join by default for files less than 10MB"
   ]
  },
  {
   "cell_type": "code",
   "execution_count": 16,
   "id": "efee082e-34c8-4334-9d79-b7197f0dbf61",
   "metadata": {},
   "outputs": [
    {
     "name": "stdout",
     "output_type": "stream",
     "text": [
      "== Physical Plan ==\n",
      "AdaptiveSparkPlan isFinalPlan=false\n",
      "+- Project [pk#32L, attribute#33, attribute#39]\n",
      "   +- BroadcastHashJoin [pk#32L], [pk#38L], Inner, BuildRight, false\n",
      "      :- Filter isnotnull(pk#32L)\n",
      "      :  +- FileScan parquet spark_catalog.default.bucketed_table[pk#32L,attribute#33] Batched: true, Bucketed: false (disabled by query planner), DataFilters: [isnotnull(pk#32L)], Format: Parquet, Location: InMemoryFileIndex(1 paths)[file:/home/andresmunozpampillon/spark-files/spark_da/spark-warehouse/b..., PartitionFilters: [], PushedFilters: [IsNotNull(pk)], ReadSchema: struct<pk:bigint,attribute:double>\n",
      "      +- BroadcastExchange HashedRelationBroadcastMode(List(input[0, bigint, false]),false), [plan_id=137]\n",
      "         +- Filter isnotnull(pk#38L)\n",
      "            +- FileScan parquet spark_catalog.default.bucketed_table[pk#38L,attribute#39] Batched: true, Bucketed: false (disabled by query planner), DataFilters: [isnotnull(pk#38L)], Format: Parquet, Location: InMemoryFileIndex(1 paths)[file:/home/andresmunozpampillon/spark-files/spark_da/spark-warehouse/b..., PartitionFilters: [], PushedFilters: [IsNotNull(pk)], ReadSchema: struct<pk:bigint,attribute:double>\n",
      "\n",
      "\n"
     ]
    }
   ],
   "source": [
    "d3.join(d4,\"pk\",\"inner\").explain()"
   ]
  },
  {
   "cell_type": "markdown",
   "id": "2f1a0cad-8356-41eb-a403-ed102e612a4d",
   "metadata": {},
   "source": [
    "## Disable Broadcast Join"
   ]
  },
  {
   "cell_type": "code",
   "execution_count": 17,
   "id": "1331236d-9ac4-433e-aa8b-59f92388d6ea",
   "metadata": {},
   "outputs": [],
   "source": [
    "spark.conf.set(\"spark.sql.autoBroadcastJoinThreshold\", -1)\n",
    "spark.conf.set(\"spark.sql.adaptative.enable\", False)"
   ]
  },
  {
   "cell_type": "markdown",
   "id": "c8ef2bc1-86cd-46a6-9d40-3500d507cbed",
   "metadata": {},
   "source": [
    "## Bucketed and Bucketed Join. No sides shuffle"
   ]
  },
  {
   "cell_type": "code",
   "execution_count": 18,
   "id": "73a2ca33-d361-470b-ba91-446b295fb347",
   "metadata": {},
   "outputs": [
    {
     "name": "stdout",
     "output_type": "stream",
     "text": [
      "== Physical Plan ==\n",
      "AdaptiveSparkPlan isFinalPlan=false\n",
      "+- Project [pk#32L, attribute#33, attribute#46]\n",
      "   +- SortMergeJoin [pk#32L], [pk#45L], Inner\n",
      "      :- Sort [pk#32L ASC NULLS FIRST], false, 0\n",
      "      :  +- Filter isnotnull(pk#32L)\n",
      "      :     +- FileScan parquet spark_catalog.default.bucketed_table[pk#32L,attribute#33] Batched: true, Bucketed: true, DataFilters: [isnotnull(pk#32L)], Format: Parquet, Location: InMemoryFileIndex(1 paths)[file:/home/andresmunozpampillon/spark-files/spark_da/spark-warehouse/b..., PartitionFilters: [], PushedFilters: [IsNotNull(pk)], ReadSchema: struct<pk:bigint,attribute:double>, SelectedBucketsCount: 10 out of 10\n",
      "      +- Sort [pk#45L ASC NULLS FIRST], false, 0\n",
      "         +- Filter isnotnull(pk#45L)\n",
      "            +- FileScan parquet spark_catalog.default.bucketed_table[pk#45L,attribute#46] Batched: true, Bucketed: true, DataFilters: [isnotnull(pk#45L)], Format: Parquet, Location: InMemoryFileIndex(1 paths)[file:/home/andresmunozpampillon/spark-files/spark_da/spark-warehouse/b..., PartitionFilters: [], PushedFilters: [IsNotNull(pk)], ReadSchema: struct<pk:bigint,attribute:double>, SelectedBucketsCount: 10 out of 10\n",
      "\n",
      "\n"
     ]
    }
   ],
   "source": [
    "d3.join(d4,\"pk\",\"inner\").explain()"
   ]
  },
  {
   "cell_type": "code",
   "execution_count": 19,
   "id": "ec7e48a8-2412-43a6-bb1e-1c5929b90313",
   "metadata": {},
   "outputs": [
    {
     "name": "stderr",
     "output_type": "stream",
     "text": [
      "[Stage 6:>                                                          (0 + 1) / 1]\r"
     ]
    },
    {
     "name": "stdout",
     "output_type": "stream",
     "text": [
      "+---+-------------------+-------------------+\n",
      "| pk|          attribute|          attribute|\n",
      "+---+-------------------+-------------------+\n",
      "|  4| 0.9476047869880925| 0.9476047869880925|\n",
      "| 16|  0.524728096293865|  0.524728096293865|\n",
      "| 18| 0.6232167713919952| 0.6232167713919952|\n",
      "| 26|0.09865667253909105|0.09865667253909105|\n",
      "| 27|0.06622344831941485|0.06622344831941485|\n",
      "| 29|0.19412650105821194|0.19412650105821194|\n",
      "| 61| 0.5352770539384141| 0.5352770539384141|\n",
      "| 63| 0.5771966653256273| 0.5771966653256273|\n",
      "| 64| 0.8092021738191977| 0.8092021738191977|\n",
      "| 83|0.47415236401346694|0.47415236401346694|\n",
      "| 92| 0.7195975867438303| 0.7195975867438303|\n",
      "|100| 0.7546308964312055| 0.7546308964312055|\n",
      "|115| 0.9087820885752338| 0.9087820885752338|\n",
      "|125| 0.7086532984353837| 0.7086532984353837|\n",
      "|130| 0.6026282217154758| 0.6026282217154758|\n",
      "|140|0.22393800050758073|0.22393800050758073|\n",
      "|153|0.20399627293507627|0.20399627293507627|\n",
      "|158| 0.1493096806468921| 0.1493096806468921|\n",
      "|163| 0.9832199149707848| 0.9832199149707848|\n",
      "|171|0.10630723267408737|0.10630723267408737|\n",
      "+---+-------------------+-------------------+\n",
      "only showing top 20 rows\n",
      "\n"
     ]
    },
    {
     "name": "stderr",
     "output_type": "stream",
     "text": [
      "                                                                                \r"
     ]
    }
   ],
   "source": [
    "d3.join(d4,\"pk\",\"inner\").show()"
   ]
  },
  {
   "cell_type": "markdown",
   "id": "945f8fae-f309-465d-99b5-45edd7fda286",
   "metadata": {},
   "source": [
    "## Non-Bucketed and Non-Bucketed Join. Both sides shuffle"
   ]
  },
  {
   "cell_type": "code",
   "execution_count": 21,
   "id": "dce55f16-f17d-4fd6-89a8-388d7ae5caa9",
   "metadata": {},
   "outputs": [
    {
     "name": "stdout",
     "output_type": "stream",
     "text": [
      "== Physical Plan ==\n",
      "AdaptiveSparkPlan isFinalPlan=false\n",
      "+- Project [pk#26L, attribute#27, attribute#71]\n",
      "   +- SortMergeJoin [pk#26L], [pk#70L], Inner\n",
      "      :- Sort [pk#26L ASC NULLS FIRST], false, 0\n",
      "      :  +- Exchange hashpartitioning(pk#26L, 200), ENSURE_REQUIREMENTS, [plan_id=259]\n",
      "      :     +- Filter isnotnull(pk#26L)\n",
      "      :        +- FileScan parquet spark_catalog.default.non_bucketed_table[pk#26L,attribute#27] Batched: true, DataFilters: [isnotnull(pk#26L)], Format: Parquet, Location: InMemoryFileIndex(1 paths)[file:/home/andresmunozpampillon/spark-files/spark_da/spark-warehouse/n..., PartitionFilters: [], PushedFilters: [IsNotNull(pk)], ReadSchema: struct<pk:bigint,attribute:double>\n",
      "      +- Sort [pk#70L ASC NULLS FIRST], false, 0\n",
      "         +- Exchange hashpartitioning(pk#70L, 200), ENSURE_REQUIREMENTS, [plan_id=260]\n",
      "            +- Filter isnotnull(pk#70L)\n",
      "               +- FileScan parquet spark_catalog.default.non_bucketed_table[pk#70L,attribute#71] Batched: true, DataFilters: [isnotnull(pk#70L)], Format: Parquet, Location: InMemoryFileIndex(1 paths)[file:/home/andresmunozpampillon/spark-files/spark_da/spark-warehouse/n..., PartitionFilters: [], PushedFilters: [IsNotNull(pk)], ReadSchema: struct<pk:bigint,attribute:double>\n",
      "\n",
      "\n"
     ]
    }
   ],
   "source": [
    "d1.join(d2,\"pk\",\"inner\").explain()"
   ]
  },
  {
   "cell_type": "code",
   "execution_count": 22,
   "id": "e3dd9444-49d8-428b-9ab3-9d8847c43a40",
   "metadata": {},
   "outputs": [
    {
     "name": "stdout",
     "output_type": "stream",
     "text": [
      "+---+-------------------+-------------------+\n",
      "| pk|          attribute|          attribute|\n",
      "+---+-------------------+-------------------+\n",
      "|  1| 0.1709497137955568| 0.1709497137955568|\n",
      "|  5|    0.2093704977577|    0.2093704977577|\n",
      "|  6|0.36664222617947817|0.36664222617947817|\n",
      "|  7| 0.8078688178371882| 0.8078688178371882|\n",
      "|  9| 0.7195325566306053| 0.7195325566306053|\n",
      "| 17| 0.9701253460019921| 0.9701253460019921|\n",
      "| 19| 0.5089687568245219| 0.5089687568245219|\n",
      "| 22| 0.6286498635045461| 0.6286498635045461|\n",
      "| 25| 0.6822647942285944| 0.6822647942285944|\n",
      "| 26|0.09865667253909105|0.09865667253909105|\n",
      "| 27|0.06622344831941485|0.06622344831941485|\n",
      "| 28| 0.5076232741953021| 0.5076232741953021|\n",
      "| 29|0.19412650105821194|0.19412650105821194|\n",
      "| 31| 0.4309638186000935| 0.4309638186000935|\n",
      "| 32| 0.6606700902936103| 0.6606700902936103|\n",
      "| 33| 0.9980781298103227| 0.9980781298103227|\n",
      "| 34| 0.6993604281994343| 0.6993604281994343|\n",
      "| 39| 0.9135015594663367| 0.9135015594663367|\n",
      "| 41| 0.5601961495594829| 0.5601961495594829|\n",
      "| 43|0.03880069884212001|0.03880069884212001|\n",
      "+---+-------------------+-------------------+\n",
      "only showing top 20 rows\n",
      "\n"
     ]
    }
   ],
   "source": [
    "d1.join(d2,\"pk\",\"inner\").show()"
   ]
  },
  {
   "cell_type": "markdown",
   "id": "f9be575c-fdbf-49ff-9da1-20b699e083a8",
   "metadata": {},
   "source": [
    "## Non-Bucketed and Bucketed Join. One side shuffle"
   ]
  },
  {
   "cell_type": "code",
   "execution_count": 23,
   "id": "5b8e1416-7d72-495c-9249-58dc8b89d158",
   "metadata": {},
   "outputs": [
    {
     "name": "stdout",
     "output_type": "stream",
     "text": [
      "== Physical Plan ==\n",
      "AdaptiveSparkPlan isFinalPlan=false\n",
      "+- Project [pk#26L, attribute#27, attribute#33]\n",
      "   +- SortMergeJoin [pk#26L], [pk#32L], Inner\n",
      "      :- Sort [pk#26L ASC NULLS FIRST], false, 0\n",
      "      :  +- Exchange hashpartitioning(pk#26L, 10), ENSURE_REQUIREMENTS, [plan_id=416]\n",
      "      :     +- Filter isnotnull(pk#26L)\n",
      "      :        +- FileScan parquet spark_catalog.default.non_bucketed_table[pk#26L,attribute#27] Batched: true, DataFilters: [isnotnull(pk#26L)], Format: Parquet, Location: InMemoryFileIndex(1 paths)[file:/home/andresmunozpampillon/spark-files/spark_da/spark-warehouse/n..., PartitionFilters: [], PushedFilters: [IsNotNull(pk)], ReadSchema: struct<pk:bigint,attribute:double>\n",
      "      +- Sort [pk#32L ASC NULLS FIRST], false, 0\n",
      "         +- Filter isnotnull(pk#32L)\n",
      "            +- FileScan parquet spark_catalog.default.bucketed_table[pk#32L,attribute#33] Batched: true, Bucketed: true, DataFilters: [isnotnull(pk#32L)], Format: Parquet, Location: InMemoryFileIndex(1 paths)[file:/home/andresmunozpampillon/spark-files/spark_da/spark-warehouse/b..., PartitionFilters: [], PushedFilters: [IsNotNull(pk)], ReadSchema: struct<pk:bigint,attribute:double>, SelectedBucketsCount: 10 out of 10\n",
      "\n",
      "\n"
     ]
    }
   ],
   "source": [
    "d1.join(d3,\"pk\",\"inner\").explain()"
   ]
  },
  {
   "cell_type": "code",
   "execution_count": 24,
   "id": "714317d8-0c89-4d7c-a0a2-a5c4e28fe6f2",
   "metadata": {},
   "outputs": [
    {
     "name": "stderr",
     "output_type": "stream",
     "text": [
      "                                                                                \r"
     ]
    },
    {
     "name": "stdout",
     "output_type": "stream",
     "text": [
      "+---+-------------------+-------------------+\n",
      "| pk|          attribute|          attribute|\n",
      "+---+-------------------+-------------------+\n",
      "|  4| 0.9476047869880925| 0.9476047869880925|\n",
      "| 16|  0.524728096293865|  0.524728096293865|\n",
      "| 18| 0.6232167713919952| 0.6232167713919952|\n",
      "| 26|0.09865667253909105|0.09865667253909105|\n",
      "| 27|0.06622344831941485|0.06622344831941485|\n",
      "| 29|0.19412650105821194|0.19412650105821194|\n",
      "| 61| 0.5352770539384141| 0.5352770539384141|\n",
      "| 63| 0.5771966653256273| 0.5771966653256273|\n",
      "| 64| 0.8092021738191977| 0.8092021738191977|\n",
      "| 83|0.47415236401346694|0.47415236401346694|\n",
      "| 92| 0.7195975867438303| 0.7195975867438303|\n",
      "|100| 0.7546308964312055| 0.7546308964312055|\n",
      "|115| 0.9087820885752338| 0.9087820885752338|\n",
      "|125| 0.7086532984353837| 0.7086532984353837|\n",
      "|130| 0.6026282217154758| 0.6026282217154758|\n",
      "|140|0.22393800050758073|0.22393800050758073|\n",
      "|153|0.20399627293507627|0.20399627293507627|\n",
      "|158| 0.1493096806468921| 0.1493096806468921|\n",
      "|163| 0.9832199149707848| 0.9832199149707848|\n",
      "|171|0.10630723267408737|0.10630723267408737|\n",
      "+---+-------------------+-------------------+\n",
      "only showing top 20 rows\n",
      "\n"
     ]
    }
   ],
   "source": [
    "d1.join(d3,\"pk\",\"inner\").show()"
   ]
  },
  {
   "cell_type": "code",
   "execution_count": null,
   "id": "a258af5d-9139-4c24-9939-f495d03fd639",
   "metadata": {},
   "outputs": [],
   "source": []
  }
 ],
 "metadata": {
  "kernelspec": {
   "display_name": "Python 3 (ipykernel)",
   "language": "python",
   "name": "python3"
  },
  "language_info": {
   "codemirror_mode": {
    "name": "ipython",
    "version": 3
   },
   "file_extension": ".py",
   "mimetype": "text/x-python",
   "name": "python",
   "nbconvert_exporter": "python",
   "pygments_lexer": "ipython3",
   "version": "3.11.7"
  }
 },
 "nbformat": 4,
 "nbformat_minor": 5
}
