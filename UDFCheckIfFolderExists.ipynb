{
 "cells": [
  {
   "cell_type": "markdown",
   "metadata": {
    "application/vnd.databricks.v1+cell": {
     "cellMetadata": {},
     "inputWidgets": {},
     "nuid": "135e32e0-4429-4c36-bc8c-5105119feddc",
     "showTitle": false,
     "title": ""
    }
   },
   "source": [
    "#UDF CHECK IF FOLDER EXISTS"
   ]
  },
  {
   "cell_type": "code",
   "execution_count": 0,
   "metadata": {
    "application/vnd.databricks.v1+cell": {
     "cellMetadata": {
      "byteLimit": 2048000,
      "rowLimit": 10000
     },
     "inputWidgets": {},
     "nuid": "dab5916c-386f-45a0-83df-631b094d2ea2",
     "showTitle": false,
     "title": ""
    }
   },
   "outputs": [
    {
     "output_type": "stream",
     "name": "stdout",
     "output_type": "stream",
     "text": [
      "Out[1]: [FileInfo(path='dbfs:/FileStore/tables/characters.csv', name='characters.csv', size=1123, modificationTime=1723331008000),\n FileInfo(path='dbfs:/FileStore/tables/data_corrupt/', name='data_corrupt/', size=0, modificationTime=0),\n FileInfo(path='dbfs:/FileStore/tables/delta/', name='delta/', size=0, modificationTime=0),\n FileInfo(path='dbfs:/FileStore/tables/fantasy/', name='fantasy/', size=0, modificationTime=0),\n FileInfo(path='dbfs:/FileStore/tables/inventory-1.csv', name='inventory-1.csv', size=1122, modificationTime=1723331227000),\n FileInfo(path='dbfs:/FileStore/tables/inventory-2.csv', name='inventory-2.csv', size=1122, modificationTime=1723331484000),\n FileInfo(path='dbfs:/FileStore/tables/inventory.csv', name='inventory.csv', size=1122, modificationTime=1723331008000),\n FileInfo(path='dbfs:/FileStore/tables/items.csv', name='items.csv', size=1307, modificationTime=1723331009000),\n FileInfo(path='dbfs:/FileStore/tables/json_files/', name='json_files/', size=0, modificationTime=0),\n FileInfo(path='dbfs:/FileStore/tables/stream/', name='stream/', size=0, modificationTime=0),\n FileInfo(path='dbfs:/FileStore/tables/write_files/', name='write_files/', size=0, modificationTime=0)]"
     ]
    }
   ],
   "source": [
    "dbutils.fs.ls(\"dbfs:/FileStore/tables/delta/demo\")"
   ]
  },
  {
   "cell_type": "code",
   "execution_count": 0,
   "metadata": {
    "application/vnd.databricks.v1+cell": {
     "cellMetadata": {
      "byteLimit": 2048000,
      "rowLimit": 10000
     },
     "inputWidgets": {},
     "nuid": "104085a5-9fd9-4ccc-81d0-1356ce26b1ec",
     "showTitle": false,
     "title": ""
    }
   },
   "outputs": [],
   "source": [
    "def folderExist(path):\n",
    "    try:\n",
    "        dbutils.fs.ls(path)\n",
    "        return True\n",
    "    except Exception as err:\n",
    "        if 'java.io.FieldNotFoundException' in str(err):\n",
    "            return False"
   ]
  },
  {
   "cell_type": "code",
   "execution_count": 0,
   "metadata": {
    "application/vnd.databricks.v1+cell": {
     "cellMetadata": {
      "byteLimit": 2048000,
      "rowLimit": 10000
     },
     "inputWidgets": {},
     "nuid": "d9430623-6270-4b5e-9f9e-cb25e7573e99",
     "showTitle": false,
     "title": ""
    }
   },
   "outputs": [],
   "source": [
    "path = \"dbfs:/FileStore/tables/delta/demo\""
   ]
  },
  {
   "cell_type": "code",
   "execution_count": 0,
   "metadata": {
    "application/vnd.databricks.v1+cell": {
     "cellMetadata": {
      "byteLimit": 2048000,
      "rowLimit": 10000
     },
     "inputWidgets": {},
     "nuid": "be38c7b2-5809-4ae6-9c2e-8d9a5bd32bc1",
     "showTitle": false,
     "title": ""
    }
   },
   "outputs": [
    {
     "output_type": "stream",
     "name": "stdout",
     "output_type": "stream",
     "text": [
      "Folder exists in path\n"
     ]
    }
   ],
   "source": [
    "if not folderExist(path):\n",
    "    print(f\"No folder in path {path} found, creating it\")\n",
    "    dbutils.fs.mkdirs(path)\n",
    "else:\n",
    "    print(f\"Folder exists in path\")"
   ]
  },
  {
   "cell_type": "code",
   "execution_count": 0,
   "metadata": {
    "application/vnd.databricks.v1+cell": {
     "cellMetadata": {
      "byteLimit": 2048000,
      "rowLimit": 10000
     },
     "inputWidgets": {},
     "nuid": "c2553d65-0045-48d6-92fb-39600d33a25d",
     "showTitle": false,
     "title": ""
    }
   },
   "outputs": [],
   "source": [
    "path = \"dbfs:/FileStore/tables/random_path_test\""
   ]
  },
  {
   "cell_type": "code",
   "execution_count": 0,
   "metadata": {
    "application/vnd.databricks.v1+cell": {
     "cellMetadata": {
      "byteLimit": 2048000,
      "rowLimit": 10000
     },
     "inputWidgets": {},
     "nuid": "69951efb-c6a6-4d07-9dd7-e2f63e6054d8",
     "showTitle": false,
     "title": ""
    }
   },
   "outputs": [
    {
     "output_type": "stream",
     "name": "stdout",
     "output_type": "stream",
     "text": [
      "No folder in path dbfs:/FileStore/tables/random_path_test found, creating it\n"
     ]
    }
   ],
   "source": [
    "if not folderExist(path):\n",
    "    print(f\"No folder in path {path} found, creating it\")\n",
    "    dbutils.fs.mkdirs(path)\n",
    "else:\n",
    "    print(f\"Folder exists in path\")"
   ]
  },
  {
   "cell_type": "code",
   "execution_count": 0,
   "metadata": {
    "application/vnd.databricks.v1+cell": {
     "cellMetadata": {
      "byteLimit": 2048000,
      "rowLimit": 10000
     },
     "inputWidgets": {},
     "nuid": "bb4404ba-3546-42a9-8a99-1e12b724e791",
     "showTitle": false,
     "title": ""
    }
   },
   "outputs": [
    {
     "output_type": "stream",
     "name": "stdout",
     "output_type": "stream",
     "text": [
      "Out[12]: True"
     ]
    }
   ],
   "source": [
    "dbutils.fs.mkdirs(path)"
   ]
  }
 ],
 "metadata": {
  "application/vnd.databricks.v1+notebook": {
   "dashboards": [],
   "environmentMetadata": null,
   "language": "python",
   "notebookMetadata": {
    "pythonIndentUnit": 4
   },
   "notebookName": "UDFCheckIfFolderExists",
   "widgets": {}
  }
 },
 "nbformat": 4,
 "nbformat_minor": 0
}
