{
 "cells": [
  {
   "cell_type": "markdown",
   "id": "243d9fd1-603d-4407-943b-ea0800d873b6",
   "metadata": {},
   "source": [
    "# SCHEMA COMPARISON"
   ]
  },
  {
   "cell_type": "code",
   "execution_count": 1,
   "id": "ecaf0332-111a-4b23-92f1-5a6e7d19ff67",
   "metadata": {},
   "outputs": [],
   "source": [
    "import findspark\n",
    "findspark.init()"
   ]
  },
  {
   "cell_type": "code",
   "execution_count": 2,
   "id": "730cf748-e5a3-40ec-a19b-7f28b323e8b8",
   "metadata": {},
   "outputs": [
    {
     "name": "stderr",
     "output_type": "stream",
     "text": [
      "Setting default log level to \"WARN\".\n",
      "To adjust logging level use sc.setLogLevel(newLevel). For SparkR, use setLogLevel(newLevel).\n",
      "24/08/30 13:35:56 WARN NativeCodeLoader: Unable to load native-hadoop library for your platform... using builtin-java classes where applicable\n"
     ]
    }
   ],
   "source": [
    "from pyspark.sql import SparkSession\n",
    "spark = SparkSession.builder.getOrCreate()"
   ]
  },
  {
   "cell_type": "markdown",
   "id": "448e04d4-4502-45d4-85a6-a7fafcd4cc5a",
   "metadata": {},
   "source": [
    "## Dataframes"
   ]
  },
  {
   "cell_type": "code",
   "execution_count": 3,
   "id": "329f7198-6a0c-449c-a18e-4e33ed966422",
   "metadata": {},
   "outputs": [],
   "source": [
    "data_catalog_v1 = [\n",
    "    (1, 'Harry poter', 'Books', 120, True),\n",
    "    (2, 'Microwave', 'Kitchen', None, True),\n",
    "    (3, 'Jacket',180, None,None,),\n",
    "    (4, None, 'Furniture', 250, False),\n",
    "    (5, 'Xbox360', 'Toys', None, False)\n",
    "]\n",
    "\n",
    "schema_catalog_v1 = \"id INTEGER, item STRING, category STRING,price INTEGER, available BOOLEAN\""
   ]
  },
  {
   "cell_type": "code",
   "execution_count": 4,
   "id": "cf39c47c-570f-454a-97cd-f7300e0add59",
   "metadata": {},
   "outputs": [
    {
     "name": "stderr",
     "output_type": "stream",
     "text": [
      "                                                                                \r"
     ]
    },
    {
     "name": "stdout",
     "output_type": "stream",
     "text": [
      "+---+-----------+---------+-----+---------+\n",
      "| id|       item| category|price|available|\n",
      "+---+-----------+---------+-----+---------+\n",
      "|  1|Harry poter|    Books|  120|     true|\n",
      "|  2|  Microwave|  Kitchen| NULL|     true|\n",
      "|  3|     Jacket|      180| NULL|     NULL|\n",
      "|  4|       NULL|Furniture|  250|    false|\n",
      "|  5|    Xbox360|     Toys| NULL|    false|\n",
      "+---+-----------+---------+-----+---------+\n",
      "\n"
     ]
    }
   ],
   "source": [
    "df_catalog_v1 = spark.createDataFrame(data=data_catalog_v1,schema=schema_catalog_v1)\n",
    "df_catalog_v1.show()"
   ]
  },
  {
   "cell_type": "code",
   "execution_count": 5,
   "id": "0f310186-d13a-49ec-baa2-09073b58f3b9",
   "metadata": {},
   "outputs": [],
   "source": [
    "data_catalog_v2 = [\n",
    "    (1, 'Harry poter', 'Books', 120, True),\n",
    "    (2, 'Microwave', 'Kitchen', None, True),\n",
    "    (3, 'Jacket',180, None,None,),\n",
    "    (4, None, 'Furniture', 250, False),\n",
    "    (5, 'Xbox360', 'Toys', None, False)\n",
    "]\n",
    "\n",
    "schema_catalog_v2 = \"id INTEGER, name STRING, catalog STRING, value INTEGER, exists BOOLEAN\""
   ]
  },
  {
   "cell_type": "code",
   "execution_count": 6,
   "id": "ff449e92-7539-45c7-8b18-d33044cfee78",
   "metadata": {},
   "outputs": [
    {
     "name": "stdout",
     "output_type": "stream",
     "text": [
      "+---+-----------+---------+-----+------+\n",
      "| id|       name|  catalog|value|exists|\n",
      "+---+-----------+---------+-----+------+\n",
      "|  1|Harry poter|    Books|  120|  true|\n",
      "|  2|  Microwave|  Kitchen| NULL|  true|\n",
      "|  3|     Jacket|      180| NULL|  NULL|\n",
      "|  4|       NULL|Furniture|  250| false|\n",
      "|  5|    Xbox360|     Toys| NULL| false|\n",
      "+---+-----------+---------+-----+------+\n",
      "\n"
     ]
    }
   ],
   "source": [
    "df_catalog_v2 = spark.createDataFrame(data=data_catalog_v2,schema=schema_catalog_v2)\n",
    "df_catalog_v2.show()"
   ]
  },
  {
   "cell_type": "code",
   "execution_count": 7,
   "id": "a811f4ae-c91d-41fb-be15-da8bc5bc574a",
   "metadata": {},
   "outputs": [],
   "source": [
    "data_catalog_v3 = [\n",
    "    (1, True, 'Books', 120.5, (\"kids\",\"+8y\")),\n",
    "    (2, False, 'Kitchen', None, (\"home\",\"electric\")),\n",
    "    (3, False,180, None,None,),\n",
    "    (4, None, 'Furniture', 250.94, (\"wood\",None)),\n",
    "    (5, True, 'Toys', 15.20, (\"blue\",\"childs\",\"disney\"))\n",
    "]\n",
    "\n",
    "schema_catalog_v3 = \"id INTEGER, active BOOLEAN, catalog STRING, value FLOAT, extra ARRAY<STRING>\""
   ]
  },
  {
   "cell_type": "code",
   "execution_count": 8,
   "id": "98b913aa-174c-4259-b02f-1d005b6e8e87",
   "metadata": {},
   "outputs": [
    {
     "name": "stdout",
     "output_type": "stream",
     "text": [
      "+---+------+---------+------+----------------------+\n",
      "|id |active|catalog  |value |extra                 |\n",
      "+---+------+---------+------+----------------------+\n",
      "|1  |true  |Books    |120.5 |[kids, +8y]           |\n",
      "|2  |false |Kitchen  |NULL  |[home, electric]      |\n",
      "|3  |false |180      |NULL  |NULL                  |\n",
      "|4  |NULL  |Furniture|250.94|[wood, NULL]          |\n",
      "|5  |true  |Toys     |15.2  |[blue, childs, disney]|\n",
      "+---+------+---------+------+----------------------+\n",
      "\n"
     ]
    }
   ],
   "source": [
    "df_catalog_v3 = spark.createDataFrame(data=data_catalog_v3,schema=schema_catalog_v3)\n",
    "df_catalog_v3.show(truncate=False)"
   ]
  },
  {
   "cell_type": "markdown",
   "id": "5b01db73-58d1-4658-8dda-ad04bb875066",
   "metadata": {},
   "source": [
    "## CHECK SCHEMA"
   ]
  },
  {
   "cell_type": "code",
   "execution_count": 9,
   "id": "b9e76082-28b2-4b7e-a760-b305246565f4",
   "metadata": {},
   "outputs": [
    {
     "name": "stdout",
     "output_type": "stream",
     "text": [
      "root\n",
      " |-- id: integer (nullable = true)\n",
      " |-- item: string (nullable = true)\n",
      " |-- category: string (nullable = true)\n",
      " |-- price: integer (nullable = true)\n",
      " |-- available: boolean (nullable = true)\n",
      "\n"
     ]
    }
   ],
   "source": [
    "df_catalog_v1.printSchema()"
   ]
  },
  {
   "cell_type": "code",
   "execution_count": 10,
   "id": "bc10ff17-b264-4fc5-bcc5-e066f383da8b",
   "metadata": {},
   "outputs": [
    {
     "data": {
      "text/plain": [
       "StructType([StructField('id', IntegerType(), True), StructField('name', StringType(), True), StructField('catalog', StringType(), True), StructField('value', IntegerType(), True), StructField('exists', BooleanType(), True)])"
      ]
     },
     "execution_count": 10,
     "metadata": {},
     "output_type": "execute_result"
    }
   ],
   "source": [
    "df_catalog_v2.schema"
   ]
  },
  {
   "cell_type": "code",
   "execution_count": 11,
   "id": "ad606e8b-1a48-40e8-858e-f413066e33eb",
   "metadata": {},
   "outputs": [
    {
     "data": {
      "text/plain": [
       "'{\"fields\":[{\"metadata\":{},\"name\":\"id\",\"nullable\":true,\"type\":\"integer\"},{\"metadata\":{},\"name\":\"active\",\"nullable\":true,\"type\":\"boolean\"},{\"metadata\":{},\"name\":\"catalog\",\"nullable\":true,\"type\":\"string\"},{\"metadata\":{},\"name\":\"value\",\"nullable\":true,\"type\":\"float\"},{\"metadata\":{},\"name\":\"extra\",\"nullable\":true,\"type\":{\"containsNull\":true,\"elementType\":\"string\",\"type\":\"array\"}}],\"type\":\"struct\"}'"
      ]
     },
     "execution_count": 11,
     "metadata": {},
     "output_type": "execute_result"
    }
   ],
   "source": [
    "df_catalog_v3.schema.json()"
   ]
  },
  {
   "cell_type": "markdown",
   "id": "88e077da-ed62-4ac6-ad35-294743fb16c6",
   "metadata": {},
   "source": [
    "## COMPARE SCHEMAS"
   ]
  },
  {
   "cell_type": "code",
   "execution_count": 12,
   "id": "ff71834a-412f-489b-8f39-5b10939ace06",
   "metadata": {},
   "outputs": [
    {
     "data": {
      "text/plain": [
       "True"
      ]
     },
     "execution_count": 12,
     "metadata": {},
     "output_type": "execute_result"
    }
   ],
   "source": [
    "df_catalog_v1.schema == df_catalog_v1.schema"
   ]
  },
  {
   "cell_type": "code",
   "execution_count": 13,
   "id": "c213ed12-a9fc-458e-9236-12624b695570",
   "metadata": {},
   "outputs": [
    {
     "data": {
      "text/plain": [
       "False"
      ]
     },
     "execution_count": 13,
     "metadata": {},
     "output_type": "execute_result"
    }
   ],
   "source": [
    "df_catalog_v1.schema == df_catalog_v2.schema"
   ]
  },
  {
   "cell_type": "code",
   "execution_count": 14,
   "id": "eadd9202-e37f-4e8c-bcf3-309ea3fa4d5a",
   "metadata": {},
   "outputs": [
    {
     "data": {
      "text/plain": [
       "False"
      ]
     },
     "execution_count": 14,
     "metadata": {},
     "output_type": "execute_result"
    }
   ],
   "source": [
    "df_catalog_v2.schema == df_catalog_v3.schema"
   ]
  },
  {
   "cell_type": "markdown",
   "id": "733c1ceb-43cf-4150-8bb3-4c22632b1ff0",
   "metadata": {},
   "source": [
    "## CHECK COLUMN DIFFERENCES"
   ]
  },
  {
   "cell_type": "code",
   "execution_count": 15,
   "id": "f8c3b7a5-fdcb-4854-9639-87accc683f12",
   "metadata": {},
   "outputs": [
    {
     "data": {
      "text/plain": [
       "{'available', 'category', 'item', 'price'}"
      ]
     },
     "execution_count": 15,
     "metadata": {},
     "output_type": "execute_result"
    }
   ],
   "source": [
    "set(df_catalog_v1.columns) - set(df_catalog_v2.columns)"
   ]
  },
  {
   "cell_type": "code",
   "execution_count": 16,
   "id": "9a036d0d-65af-4027-a8a7-4a5570ec14ae",
   "metadata": {},
   "outputs": [
    {
     "data": {
      "text/plain": [
       "{'catalog', 'exists', 'name', 'value'}"
      ]
     },
     "execution_count": 16,
     "metadata": {},
     "output_type": "execute_result"
    }
   ],
   "source": [
    "set(df_catalog_v2.columns) - set(df_catalog_v1.columns)"
   ]
  },
  {
   "cell_type": "code",
   "execution_count": 17,
   "id": "6d52a45d-d191-4f3b-9861-2ca2bc6846c0",
   "metadata": {},
   "outputs": [
    {
     "data": {
      "text/plain": [
       "{'available', 'category', 'item', 'price'}"
      ]
     },
     "execution_count": 17,
     "metadata": {},
     "output_type": "execute_result"
    }
   ],
   "source": [
    "set(df_catalog_v1.columns) - set(df_catalog_v3.columns)"
   ]
  },
  {
   "cell_type": "code",
   "execution_count": 18,
   "id": "069f125c-c9f8-475a-88e6-df93a99b545d",
   "metadata": {},
   "outputs": [
    {
     "data": {
      "text/plain": [
       "{'active', 'catalog', 'extra', 'value'}"
      ]
     },
     "execution_count": 18,
     "metadata": {},
     "output_type": "execute_result"
    }
   ],
   "source": [
    "set(df_catalog_v3.columns) - set(df_catalog_v1.columns)"
   ]
  },
  {
   "cell_type": "code",
   "execution_count": 19,
   "id": "88ff1048-cfd7-4c49-94ed-c04ad384a742",
   "metadata": {},
   "outputs": [
    {
     "data": {
      "text/plain": [
       "{'available', 'category', 'item', 'price'}"
      ]
     },
     "execution_count": 19,
     "metadata": {},
     "output_type": "execute_result"
    }
   ],
   "source": [
    "set(df_catalog_v1.columns) - set(df_catalog_v2.columns)"
   ]
  },
  {
   "cell_type": "code",
   "execution_count": 20,
   "id": "c8633920-0d77-4d90-9492-b1d106a2d315",
   "metadata": {},
   "outputs": [
    {
     "data": {
      "text/plain": [
       "{'active', 'extra'}"
      ]
     },
     "execution_count": 20,
     "metadata": {},
     "output_type": "execute_result"
    }
   ],
   "source": [
    "set(df_catalog_v3.columns) - set(df_catalog_v2.columns)"
   ]
  },
  {
   "cell_type": "markdown",
   "id": "a56f6600-a76f-40d1-9788-71a270ed0c1a",
   "metadata": {},
   "source": [
    "## Collect All Columns"
   ]
  },
  {
   "cell_type": "code",
   "execution_count": 21,
   "id": "c8ca182c-ab3d-47ab-8d90-ffeaa7c8cd09",
   "metadata": {},
   "outputs": [
    {
     "name": "stdout",
     "output_type": "stream",
     "text": [
      "['catalog', 'value', 'price', 'item', 'available', 'category', 'id', 'exists', 'name']\n"
     ]
    }
   ],
   "source": [
    "print(list(set(df_catalog_v1.columns+df_catalog_v2.columns)))"
   ]
  },
  {
   "cell_type": "code",
   "execution_count": 22,
   "id": "d36816eb-d467-4aa5-a58d-f811349941d7",
   "metadata": {},
   "outputs": [
    {
     "name": "stdout",
     "output_type": "stream",
     "text": [
      "['extra', 'catalog', 'value', 'id', 'active', 'exists', 'name']\n"
     ]
    }
   ],
   "source": [
    "print(list(set(df_catalog_v2.columns+df_catalog_v3.columns)))"
   ]
  },
  {
   "cell_type": "code",
   "execution_count": 23,
   "id": "98633ad7-47f9-45f0-bfd1-5fc7bae86e22",
   "metadata": {},
   "outputs": [
    {
     "name": "stdout",
     "output_type": "stream",
     "text": [
      "['extra', 'catalog', 'value', 'price', 'item', 'available', 'category', 'id', 'active']\n"
     ]
    }
   ],
   "source": [
    "print(list(set(df_catalog_v1.columns+df_catalog_v3.columns)))"
   ]
  }
 ],
 "metadata": {
  "kernelspec": {
   "display_name": "Python 3 (ipykernel)",
   "language": "python",
   "name": "python3"
  },
  "language_info": {
   "codemirror_mode": {
    "name": "ipython",
    "version": 3
   },
   "file_extension": ".py",
   "mimetype": "text/x-python",
   "name": "python",
   "nbconvert_exporter": "python",
   "pygments_lexer": "ipython3",
   "version": "3.11.7"
  }
 },
 "nbformat": 4,
 "nbformat_minor": 5
}
