{
 "cells": [
  {
   "cell_type": "markdown",
   "metadata": {
    "application/vnd.databricks.v1+cell": {
     "cellMetadata": {},
     "inputWidgets": {},
     "nuid": "0aa3c4ff-f634-47ce-8cdb-396d989c469e",
     "showTitle": false,
     "title": ""
    }
   },
   "source": [
    "# INSERT INTO DELTA TABLE"
   ]
  },
  {
   "cell_type": "markdown",
   "metadata": {
    "application/vnd.databricks.v1+cell": {
     "cellMetadata": {},
     "inputWidgets": {},
     "nuid": "734cd6b2-7ab2-4608-b339-0e0d69387683",
     "showTitle": false,
     "title": ""
    }
   },
   "source": [
    "## GENERATE DELTA TABLE DATA"
   ]
  },
  {
   "cell_type": "code",
   "execution_count": 0,
   "metadata": {
    "application/vnd.databricks.v1+cell": {
     "cellMetadata": {
      "byteLimit": 2048000,
      "rowLimit": 10000
     },
     "inputWidgets": {},
     "nuid": "14a18f8b-c516-4bfe-8690-2e2719988a70",
     "showTitle": false,
     "title": ""
    }
   },
   "outputs": [],
   "source": [
    "data_employee = [(4, \"Mary Scala\", \"f\", 230000, \"Sales\"),\n",
    "                 (5, \"Susan Liam\", \"f\", 150000, \"Sales\"),\n",
    "                 (6, \"Xi Wuan\", \"f\", 150000, \"IT\")]\n",
    "\n",
    "schema_employee = \"id INTEGER, name STRING, gender STRING, salary INTEGER, dept STRING\""
   ]
  },
  {
   "cell_type": "code",
   "execution_count": 0,
   "metadata": {
    "application/vnd.databricks.v1+cell": {
     "cellMetadata": {
      "byteLimit": 2048000,
      "rowLimit": 10000
     },
     "inputWidgets": {},
     "nuid": "8b70ac6d-1580-4943-859f-dc0aad5afd1c",
     "showTitle": false,
     "title": ""
    }
   },
   "outputs": [
    {
     "output_type": "stream",
     "name": "stdout",
     "output_type": "stream",
     "text": [
      "+---+----------+------+------+-----+\n| id|      name|gender|salary| dept|\n+---+----------+------+------+-----+\n|  4|Mary Scala|     f|230000|Sales|\n|  5|Susan Liam|     f|150000|Sales|\n|  6|   Xi Wuan|     f|150000|   IT|\n+---+----------+------+------+-----+\n\n"
     ]
    }
   ],
   "source": [
    "df_employee = spark.createDataFrame(data=data_employee, schema=schema_employee)\n",
    "\n",
    "df_employee.show()"
   ]
  },
  {
   "cell_type": "code",
   "execution_count": 0,
   "metadata": {
    "application/vnd.databricks.v1+cell": {
     "cellMetadata": {
      "byteLimit": 2048000,
      "rowLimit": 10000
     },
     "inputWidgets": {},
     "nuid": "2cac5547-3780-48dd-862c-bef51799ca5d",
     "showTitle": false,
     "title": ""
    }
   },
   "outputs": [],
   "source": [
    "df_employee.write.saveAsTable(\"default.table_data_employee\")"
   ]
  },
  {
   "cell_type": "markdown",
   "metadata": {
    "application/vnd.databricks.v1+cell": {
     "cellMetadata": {},
     "inputWidgets": {},
     "nuid": "401a8e2a-0644-4660-8f69-095576e04b73",
     "showTitle": false,
     "title": ""
    }
   },
   "source": [
    "## SPARK QUERY DATA"
   ]
  },
  {
   "cell_type": "code",
   "execution_count": 0,
   "metadata": {
    "application/vnd.databricks.v1+cell": {
     "cellMetadata": {
      "byteLimit": 2048000,
      "rowLimit": 10000
     },
     "inputWidgets": {},
     "nuid": "3c611e69-4c90-4f80-83cf-c3618edc64c2",
     "showTitle": false,
     "title": ""
    }
   },
   "outputs": [
    {
     "output_type": "stream",
     "name": "stdout",
     "output_type": "stream",
     "text": [
      "+---+----------+------+------+-----+\n| id|      name|gender|salary| dept|\n+---+----------+------+------+-----+\n|  4|Mary Scala|     f|230000|Sales|\n|  5|Susan Liam|     f|150000|Sales|\n|  6|   Xi Wuan|     f|150000|   IT|\n+---+----------+------+------+-----+\n\n"
     ]
    }
   ],
   "source": [
    "spark.table(\"default.table_data_employee\").show()"
   ]
  },
  {
   "cell_type": "markdown",
   "metadata": {
    "application/vnd.databricks.v1+cell": {
     "cellMetadata": {},
     "inputWidgets": {},
     "nuid": "6c6b1880-636f-4651-8087-acc2d93e6f04",
     "showTitle": false,
     "title": ""
    }
   },
   "source": [
    "## SPARK LIKE SQL QUERY DATA"
   ]
  },
  {
   "cell_type": "code",
   "execution_count": 0,
   "metadata": {
    "application/vnd.databricks.v1+cell": {
     "cellMetadata": {
      "byteLimit": 2048000,
      "rowLimit": 10000
     },
     "inputWidgets": {},
     "nuid": "3e1a130b-564b-47f5-a083-b6fb7b589348",
     "showTitle": false,
     "title": ""
    }
   },
   "outputs": [
    {
     "output_type": "stream",
     "name": "stdout",
     "output_type": "stream",
     "text": [
      "+---+----------+------+------+-----+\n| id|      name|gender|salary| dept|\n+---+----------+------+------+-----+\n|  4|Mary Scala|     f|230000|Sales|\n|  5|Susan Liam|     f|150000|Sales|\n|  6|   Xi Wuan|     f|150000|   IT|\n+---+----------+------+------+-----+\n\n"
     ]
    }
   ],
   "source": [
    "spark.sql(\"SELECT * FROM table_data_employee\").show()"
   ]
  },
  {
   "cell_type": "markdown",
   "metadata": {
    "application/vnd.databricks.v1+cell": {
     "cellMetadata": {},
     "inputWidgets": {},
     "nuid": "1281ed09-2841-4cf3-b607-c7bd1b8a8d49",
     "showTitle": false,
     "title": ""
    }
   },
   "source": [
    "## SQL QUERY DATA"
   ]
  },
  {
   "cell_type": "code",
   "execution_count": 0,
   "metadata": {
    "application/vnd.databricks.v1+cell": {
     "cellMetadata": {
      "byteLimit": 2048000,
      "implicitDf": true,
      "rowLimit": 10000
     },
     "inputWidgets": {},
     "nuid": "23b83521-3cf6-4619-a7f1-885530914e73",
     "showTitle": false,
     "title": ""
    }
   },
   "outputs": [
    {
     "output_type": "display_data",
     "data": {
      "text/html": [
       "<style scoped>\n",
       "  .table-result-container {\n",
       "    max-height: 300px;\n",
       "    overflow: auto;\n",
       "  }\n",
       "  table, th, td {\n",
       "    border: 1px solid black;\n",
       "    border-collapse: collapse;\n",
       "  }\n",
       "  th, td {\n",
       "    padding: 5px;\n",
       "  }\n",
       "  th {\n",
       "    text-align: left;\n",
       "  }\n",
       "</style><div class='table-result-container'><table class='table-result'><thead style='background-color: white'><tr><th>id</th><th>name</th><th>gender</th><th>salary</th><th>dept</th></tr></thead><tbody><tr><td>4</td><td>Mary Scala</td><td>f</td><td>230000</td><td>Sales</td></tr><tr><td>5</td><td>Susan Liam</td><td>f</td><td>150000</td><td>Sales</td></tr><tr><td>6</td><td>Xi Wuan</td><td>f</td><td>150000</td><td>IT</td></tr></tbody></table></div>"
      ]
     },
     "metadata": {
      "application/vnd.databricks.v1+output": {
       "addedWidgets": {},
       "aggData": [],
       "aggError": "",
       "aggOverflow": false,
       "aggSchema": [],
       "aggSeriesLimitReached": false,
       "aggType": "",
       "arguments": {},
       "columnCustomDisplayInfos": {},
       "data": [
        [
         4,
         "Mary Scala",
         "f",
         230000,
         "Sales"
        ],
        [
         5,
         "Susan Liam",
         "f",
         150000,
         "Sales"
        ],
        [
         6,
         "Xi Wuan",
         "f",
         150000,
         "IT"
        ]
       ],
       "datasetInfos": [],
       "dbfsResultPath": null,
       "isJsonSchema": true,
       "metadata": {},
       "overflow": false,
       "plotOptions": {
        "customPlotOptions": {},
        "displayType": "table",
        "pivotAggregation": null,
        "pivotColumns": null,
        "xColumns": null,
        "yColumns": null
       },
       "removedWidgets": [],
       "schema": [
        {
         "metadata": "{}",
         "name": "id",
         "type": "\"integer\""
        },
        {
         "metadata": "{}",
         "name": "name",
         "type": "\"string\""
        },
        {
         "metadata": "{}",
         "name": "gender",
         "type": "\"string\""
        },
        {
         "metadata": "{}",
         "name": "salary",
         "type": "\"integer\""
        },
        {
         "metadata": "{}",
         "name": "dept",
         "type": "\"string\""
        }
       ],
       "type": "table"
      }
     },
     "output_type": "display_data"
    }
   ],
   "source": [
    "%sql\n",
    "\n",
    "SELECT * FROM table_data_employee;"
   ]
  },
  {
   "cell_type": "markdown",
   "metadata": {
    "application/vnd.databricks.v1+cell": {
     "cellMetadata": {},
     "inputWidgets": {},
     "nuid": "35cfc5ce-febe-4726-ab28-3a228f493425",
     "showTitle": false,
     "title": ""
    }
   },
   "source": [
    "## GENERATE NEW DATA"
   ]
  },
  {
   "cell_type": "code",
   "execution_count": 0,
   "metadata": {
    "application/vnd.databricks.v1+cell": {
     "cellMetadata": {
      "byteLimit": 2048000,
      "rowLimit": 10000
     },
     "inputWidgets": {},
     "nuid": "859c09b7-d7fa-46fb-b471-bcd53f187b6d",
     "showTitle": false,
     "title": ""
    }
   },
   "outputs": [],
   "source": [
    "data_employee_v2 = [(1, \"Carl Mike\", \"m\", 170000, \"Support\"),\n",
    "                 (2, \"Mikel Clark\", \"m\", 254300, \"IT\"),\n",
    "                 (3, \"Bob Smith\", \"m\", 220000, \"IT\")]\n",
    "\n",
    "schema_employee_v2 = \"id INTEGER, name STRING, gender STRING, salary INTEGER, dept STRING\""
   ]
  },
  {
   "cell_type": "code",
   "execution_count": 0,
   "metadata": {
    "application/vnd.databricks.v1+cell": {
     "cellMetadata": {
      "byteLimit": 2048000,
      "rowLimit": 10000
     },
     "inputWidgets": {},
     "nuid": "e642056f-23bc-4bd1-b283-f6bb0635305b",
     "showTitle": false,
     "title": ""
    }
   },
   "outputs": [
    {
     "output_type": "stream",
     "name": "stdout",
     "output_type": "stream",
     "text": [
      "+---+-----------+------+------+-------+\n| id|       name|gender|salary|   dept|\n+---+-----------+------+------+-------+\n|  1|  Carl Mike|     m|170000|Support|\n|  2|Mikel Clark|     m|254300|     IT|\n|  3|  Bob Smith|     m|220000|     IT|\n+---+-----------+------+------+-------+\n\n"
     ]
    }
   ],
   "source": [
    "df_employee_v2 = spark.createDataFrame(data=data_employee_v2, schema=schema_employee_v2)\n",
    "\n",
    "df_employee_v2.show()"
   ]
  },
  {
   "cell_type": "markdown",
   "metadata": {
    "application/vnd.databricks.v1+cell": {
     "cellMetadata": {},
     "inputWidgets": {},
     "nuid": "f02bc05a-24ed-45c4-86f4-5b5090853e7f",
     "showTitle": false,
     "title": ""
    }
   },
   "source": [
    "## SPARK INSERT INTO OVERWRITE FALSE"
   ]
  },
  {
   "cell_type": "code",
   "execution_count": 0,
   "metadata": {
    "application/vnd.databricks.v1+cell": {
     "cellMetadata": {
      "byteLimit": 2048000,
      "rowLimit": 10000
     },
     "inputWidgets": {},
     "nuid": "9cd711e8-020c-44c6-847e-6cb1ab60d83c",
     "showTitle": false,
     "title": ""
    }
   },
   "outputs": [],
   "source": [
    "df_employee_v2.write.insertInto(\"default.table_data_employee\",overwrite=False)"
   ]
  },
  {
   "cell_type": "code",
   "execution_count": 0,
   "metadata": {
    "application/vnd.databricks.v1+cell": {
     "cellMetadata": {
      "byteLimit": 2048000,
      "rowLimit": 10000
     },
     "inputWidgets": {},
     "nuid": "63df273d-d7f1-4241-924e-2a6f61d6a17d",
     "showTitle": false,
     "title": ""
    }
   },
   "outputs": [
    {
     "output_type": "stream",
     "name": "stdout",
     "output_type": "stream",
     "text": [
      "+---+-----------+------+------+-------+\n| id|       name|gender|salary|   dept|\n+---+-----------+------+------+-------+\n|  1|  Carl Mike|     m|170000|Support|\n|  4| Mary Scala|     f|230000|  Sales|\n|  5| Susan Liam|     f|150000|  Sales|\n|  2|Mikel Clark|     m|254300|     IT|\n|  3|  Bob Smith|     m|220000|     IT|\n|  6|    Xi Wuan|     f|150000|     IT|\n+---+-----------+------+------+-------+\n\n"
     ]
    }
   ],
   "source": [
    "spark.table(\"default.table_data_employee\").show()"
   ]
  },
  {
   "cell_type": "markdown",
   "metadata": {
    "application/vnd.databricks.v1+cell": {
     "cellMetadata": {},
     "inputWidgets": {},
     "nuid": "58eb324c-99fa-4450-baa3-3e99ecaeba28",
     "showTitle": false,
     "title": ""
    }
   },
   "source": [
    "## SPARK INSERT INTO OVERWRITE TRUE"
   ]
  },
  {
   "cell_type": "code",
   "execution_count": 0,
   "metadata": {
    "application/vnd.databricks.v1+cell": {
     "cellMetadata": {
      "byteLimit": 2048000,
      "rowLimit": 10000
     },
     "inputWidgets": {},
     "nuid": "9b7ce6d5-7113-465d-9e96-e249262cee51",
     "showTitle": false,
     "title": ""
    }
   },
   "outputs": [],
   "source": [
    "data_employee_v3 = [(1, \"Pedro Jose\", \"m\", 170000, \"Sales\"),\n",
    "                 (2, \"Mike Josh\", \"m\", 100000, \"IT\"),\n",
    "                 (3, \"Eduard Clark\", \"m\", 150000, \"IT\")]\n",
    "\n",
    "schema_employee_v3 = \"id INTEGER, name STRING, gender STRING, salary INTEGER, dept STRING\""
   ]
  },
  {
   "cell_type": "code",
   "execution_count": 0,
   "metadata": {
    "application/vnd.databricks.v1+cell": {
     "cellMetadata": {
      "byteLimit": 2048000,
      "rowLimit": 10000
     },
     "inputWidgets": {},
     "nuid": "b1309084-c353-497a-a4e2-4fdfb3d210dc",
     "showTitle": false,
     "title": ""
    }
   },
   "outputs": [
    {
     "output_type": "stream",
     "name": "stdout",
     "output_type": "stream",
     "text": [
      "+---+------------+------+------+-----+\n| id|        name|gender|salary| dept|\n+---+------------+------+------+-----+\n|  1|  Pedro Jose|     m|170000|Sales|\n|  2|   Mike Josh|     m|100000|   IT|\n|  3|Eduard Clark|     m|150000|   IT|\n+---+------------+------+------+-----+\n\n"
     ]
    }
   ],
   "source": [
    "df_employee_v3 = spark.createDataFrame(data=data_employee_v3, schema=schema_employee_v3)\n",
    "\n",
    "df_employee_v3.show()"
   ]
  },
  {
   "cell_type": "code",
   "execution_count": 0,
   "metadata": {
    "application/vnd.databricks.v1+cell": {
     "cellMetadata": {
      "byteLimit": 2048000,
      "rowLimit": 10000
     },
     "inputWidgets": {},
     "nuid": "1c0ce736-76c6-4a75-a155-4c4a87795c7b",
     "showTitle": false,
     "title": ""
    }
   },
   "outputs": [],
   "source": [
    "df_employee_v3.write.insertInto(\"default.table_data_employee\",overwrite=True)"
   ]
  },
  {
   "cell_type": "code",
   "execution_count": 0,
   "metadata": {
    "application/vnd.databricks.v1+cell": {
     "cellMetadata": {
      "byteLimit": 2048000,
      "rowLimit": 10000
     },
     "inputWidgets": {},
     "nuid": "ad3c8280-8475-4047-81aa-8f6dd9fc6a1f",
     "showTitle": false,
     "title": ""
    }
   },
   "outputs": [
    {
     "output_type": "stream",
     "name": "stdout",
     "output_type": "stream",
     "text": [
      "+---+------------+------+------+-----+\n| id|        name|gender|salary| dept|\n+---+------------+------+------+-----+\n|  1|  Pedro Jose|     m|170000|Sales|\n|  3|Eduard Clark|     m|150000|   IT|\n|  2|   Mike Josh|     m|100000|   IT|\n+---+------------+------+------+-----+\n\n"
     ]
    }
   ],
   "source": [
    "spark.table(\"default.table_data_employee\").show()"
   ]
  },
  {
   "cell_type": "markdown",
   "metadata": {
    "application/vnd.databricks.v1+cell": {
     "cellMetadata": {},
     "inputWidgets": {},
     "nuid": "b68f5e83-8732-425d-8b1e-53cac33c60d7",
     "showTitle": false,
     "title": ""
    }
   },
   "source": [
    "## SQL STANDARD SQL INSERT INTO"
   ]
  },
  {
   "cell_type": "code",
   "execution_count": 0,
   "metadata": {
    "application/vnd.databricks.v1+cell": {
     "cellMetadata": {
      "byteLimit": 2048000,
      "rowLimit": 10000
     },
     "inputWidgets": {},
     "nuid": "0ea56bc7-d745-45af-94ab-34c9ef689fed",
     "showTitle": false,
     "title": ""
    }
   },
   "outputs": [],
   "source": [
    "data_employee_v4 = [(4, \"Leila Michaels\", \"f\", 195000, \"HR\"),\n",
    "                 (5, \"Paolo Cruz\", \"m\", 188000, \"Sales\"),\n",
    "                 (6, \"John Smith\", \"m\", 210000, \"Sales\")]\n",
    "\n",
    "schema_employee_v4 = \"id INTEGER, name STRING, gender STRING, salary INTEGER, dept STRING\""
   ]
  },
  {
   "cell_type": "code",
   "execution_count": 0,
   "metadata": {
    "application/vnd.databricks.v1+cell": {
     "cellMetadata": {
      "byteLimit": 2048000,
      "rowLimit": 10000
     },
     "inputWidgets": {},
     "nuid": "3e50f296-86c9-4d37-ac0d-59d888c38a71",
     "showTitle": false,
     "title": ""
    }
   },
   "outputs": [
    {
     "output_type": "stream",
     "name": "stdout",
     "output_type": "stream",
     "text": [
      "+---+--------------+------+------+-----+\n| id|          name|gender|salary| dept|\n+---+--------------+------+------+-----+\n|  4|Leila Michaels|     f|195000|   HR|\n|  5|    Paolo Cruz|     m|188000|Sales|\n|  6|    John Smith|     m|210000|Sales|\n+---+--------------+------+------+-----+\n\n"
     ]
    }
   ],
   "source": [
    "df_employee_v4 = spark.createDataFrame(data=data_employee_v4, schema=schema_employee_v4)\n",
    "\n",
    "df_employee_v4.show()"
   ]
  },
  {
   "cell_type": "code",
   "execution_count": 0,
   "metadata": {
    "application/vnd.databricks.v1+cell": {
     "cellMetadata": {
      "byteLimit": 2048000,
      "rowLimit": 10000
     },
     "inputWidgets": {},
     "nuid": "2f4d90cc-ab77-47d9-8108-f8aa30cd7366",
     "showTitle": false,
     "title": ""
    }
   },
   "outputs": [],
   "source": [
    "df_employee_v4.createTempView(\"df_employee_v4\")"
   ]
  },
  {
   "cell_type": "code",
   "execution_count": 0,
   "metadata": {
    "application/vnd.databricks.v1+cell": {
     "cellMetadata": {
      "byteLimit": 2048000,
      "implicitDf": true,
      "rowLimit": 10000
     },
     "inputWidgets": {},
     "nuid": "d47fd62e-dc26-4f2c-8c4d-1aa181823241",
     "showTitle": false,
     "title": ""
    }
   },
   "outputs": [
    {
     "output_type": "display_data",
     "data": {
      "text/html": [
       "<style scoped>\n",
       "  .table-result-container {\n",
       "    max-height: 300px;\n",
       "    overflow: auto;\n",
       "  }\n",
       "  table, th, td {\n",
       "    border: 1px solid black;\n",
       "    border-collapse: collapse;\n",
       "  }\n",
       "  th, td {\n",
       "    padding: 5px;\n",
       "  }\n",
       "  th {\n",
       "    text-align: left;\n",
       "  }\n",
       "</style><div class='table-result-container'><table class='table-result'><thead style='background-color: white'><tr><th>num_affected_rows</th><th>num_inserted_rows</th></tr></thead><tbody><tr><td>3</td><td>3</td></tr></tbody></table></div>"
      ]
     },
     "metadata": {
      "application/vnd.databricks.v1+output": {
       "addedWidgets": {},
       "aggData": [],
       "aggError": "",
       "aggOverflow": false,
       "aggSchema": [],
       "aggSeriesLimitReached": false,
       "aggType": "",
       "arguments": {},
       "columnCustomDisplayInfos": {},
       "data": [
        [
         3,
         3
        ]
       ],
       "datasetInfos": [],
       "dbfsResultPath": null,
       "isJsonSchema": true,
       "metadata": {},
       "overflow": false,
       "plotOptions": {
        "customPlotOptions": {},
        "displayType": "table",
        "pivotAggregation": null,
        "pivotColumns": null,
        "xColumns": null,
        "yColumns": null
       },
       "removedWidgets": [],
       "schema": [
        {
         "metadata": "{}",
         "name": "num_affected_rows",
         "type": "\"long\""
        },
        {
         "metadata": "{}",
         "name": "num_inserted_rows",
         "type": "\"long\""
        }
       ],
       "type": "table"
      }
     },
     "output_type": "display_data"
    }
   ],
   "source": [
    "%sql\n",
    "\n",
    "INSERT INTO default.table_data_employee\n",
    "SELECT * FROM df_employee_v4;"
   ]
  },
  {
   "cell_type": "code",
   "execution_count": 0,
   "metadata": {
    "application/vnd.databricks.v1+cell": {
     "cellMetadata": {
      "byteLimit": 2048000,
      "implicitDf": true,
      "rowLimit": 10000
     },
     "inputWidgets": {},
     "nuid": "9f82d939-dad5-4dd4-973b-82147cf7c9ed",
     "showTitle": false,
     "title": ""
    }
   },
   "outputs": [
    {
     "output_type": "display_data",
     "data": {
      "text/html": [
       "<style scoped>\n",
       "  .table-result-container {\n",
       "    max-height: 300px;\n",
       "    overflow: auto;\n",
       "  }\n",
       "  table, th, td {\n",
       "    border: 1px solid black;\n",
       "    border-collapse: collapse;\n",
       "  }\n",
       "  th, td {\n",
       "    padding: 5px;\n",
       "  }\n",
       "  th {\n",
       "    text-align: left;\n",
       "  }\n",
       "</style><div class='table-result-container'><table class='table-result'><thead style='background-color: white'><tr><th>id</th><th>name</th><th>gender</th><th>salary</th><th>dept</th></tr></thead><tbody><tr><td>4</td><td>Leila Michaels</td><td>f</td><td>195000</td><td>HR</td></tr><tr><td>1</td><td>Pedro Jose</td><td>m</td><td>170000</td><td>Sales</td></tr><tr><td>5</td><td>Paolo Cruz</td><td>m</td><td>188000</td><td>Sales</td></tr><tr><td>6</td><td>John Smith</td><td>m</td><td>210000</td><td>Sales</td></tr><tr><td>3</td><td>Eduard Clark</td><td>m</td><td>150000</td><td>IT</td></tr><tr><td>2</td><td>Mike Josh</td><td>m</td><td>100000</td><td>IT</td></tr></tbody></table></div>"
      ]
     },
     "metadata": {
      "application/vnd.databricks.v1+output": {
       "addedWidgets": {},
       "aggData": [],
       "aggError": "",
       "aggOverflow": false,
       "aggSchema": [],
       "aggSeriesLimitReached": false,
       "aggType": "",
       "arguments": {},
       "columnCustomDisplayInfos": {},
       "data": [
        [
         4,
         "Leila Michaels",
         "f",
         195000,
         "HR"
        ],
        [
         1,
         "Pedro Jose",
         "m",
         170000,
         "Sales"
        ],
        [
         5,
         "Paolo Cruz",
         "m",
         188000,
         "Sales"
        ],
        [
         6,
         "John Smith",
         "m",
         210000,
         "Sales"
        ],
        [
         3,
         "Eduard Clark",
         "m",
         150000,
         "IT"
        ],
        [
         2,
         "Mike Josh",
         "m",
         100000,
         "IT"
        ]
       ],
       "datasetInfos": [],
       "dbfsResultPath": null,
       "isJsonSchema": true,
       "metadata": {},
       "overflow": false,
       "plotOptions": {
        "customPlotOptions": {},
        "displayType": "table",
        "pivotAggregation": null,
        "pivotColumns": null,
        "xColumns": null,
        "yColumns": null
       },
       "removedWidgets": [],
       "schema": [
        {
         "metadata": "{}",
         "name": "id",
         "type": "\"integer\""
        },
        {
         "metadata": "{}",
         "name": "name",
         "type": "\"string\""
        },
        {
         "metadata": "{}",
         "name": "gender",
         "type": "\"string\""
        },
        {
         "metadata": "{}",
         "name": "salary",
         "type": "\"integer\""
        },
        {
         "metadata": "{}",
         "name": "dept",
         "type": "\"string\""
        }
       ],
       "type": "table"
      }
     },
     "output_type": "display_data"
    }
   ],
   "source": [
    "%sql\n",
    "\n",
    "SELECT * FROM table_data_employee;"
   ]
  }
 ],
 "metadata": {
  "application/vnd.databricks.v1+notebook": {
   "dashboards": [],
   "environmentMetadata": null,
   "language": "python",
   "notebookMetadata": {
    "mostRecentlyExecutedCommandWithImplicitDF": {
     "commandId": 2705314347397762,
     "dataframes": [
      "_sqldf"
     ]
    },
    "pythonIndentUnit": 4
   },
   "notebookName": "InsertIntoDeltaTable",
   "widgets": {}
  }
 },
 "nbformat": 4,
 "nbformat_minor": 0
}
