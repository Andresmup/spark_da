{
 "cells": [
  {
   "cell_type": "markdown",
   "id": "5b3b0941-243e-421e-a24d-cdecc7acb0dc",
   "metadata": {},
   "source": [
    "# SCHEMA DEFINITION VARIANTS"
   ]
  },
  {
   "cell_type": "code",
   "execution_count": 1,
   "id": "c5b74cdc-50bd-43cd-8afa-2f15bfa861a0",
   "metadata": {},
   "outputs": [],
   "source": [
    "import findspark\n",
    "findspark.init()"
   ]
  },
  {
   "cell_type": "code",
   "execution_count": 2,
   "id": "033f15b9-e1cc-44ab-b566-86df25ced58b",
   "metadata": {},
   "outputs": [
    {
     "name": "stderr",
     "output_type": "stream",
     "text": [
      "Setting default log level to \"WARN\".\n",
      "To adjust logging level use sc.setLogLevel(newLevel). For SparkR, use setLogLevel(newLevel).\n",
      "24/08/30 13:07:12 WARN NativeCodeLoader: Unable to load native-hadoop library for your platform... using builtin-java classes where applicable\n"
     ]
    }
   ],
   "source": [
    "from pyspark.sql import SparkSession\n",
    "spark = SparkSession.builder.getOrCreate()"
   ]
  },
  {
   "cell_type": "markdown",
   "id": "bfca8655-bc98-4360-8c54-c6a3288e4afa",
   "metadata": {},
   "source": [
    "## Column Names w/inferSchema"
   ]
  },
  {
   "cell_type": "code",
   "execution_count": 3,
   "id": "bc817a13-4d51-4fcf-b8b9-732170d0ba58",
   "metadata": {},
   "outputs": [],
   "source": [
    "data_catalog_v1 = [\n",
    "    (1, 'Harry poter', 'Books', 120, True),\n",
    "    (2, 'Microwave', 'Kitchen', None, True),\n",
    "    (3, 'Jacket',180, None,None,),\n",
    "    (4, None, 'Furniture', 250, False),\n",
    "    (5, 'Xbox360', 'Toys', None, False)\n",
    "]"
   ]
  },
  {
   "cell_type": "code",
   "execution_count": 4,
   "id": "ae2e005d-4eb6-4e8e-9a2a-32ccee8fc08c",
   "metadata": {},
   "outputs": [],
   "source": [
    "schema_catalog_v1 = [\"id\",\"item\",\"category\",\"price\",\"available\"]"
   ]
  },
  {
   "cell_type": "code",
   "execution_count": 5,
   "id": "caa512da-2c0b-4de0-962b-7fe0676fb4ea",
   "metadata": {},
   "outputs": [
    {
     "name": "stderr",
     "output_type": "stream",
     "text": [
      "                                                                                \r"
     ]
    },
    {
     "name": "stdout",
     "output_type": "stream",
     "text": [
      "+---+-----------+---------+-----+---------+\n",
      "| id|       item| category|price|available|\n",
      "+---+-----------+---------+-----+---------+\n",
      "|  1|Harry poter|    Books|  120|     true|\n",
      "|  2|  Microwave|  Kitchen| NULL|     true|\n",
      "|  3|     Jacket|      180| NULL|     NULL|\n",
      "|  4|       NULL|Furniture|  250|    false|\n",
      "|  5|    Xbox360|     Toys| NULL|    false|\n",
      "+---+-----------+---------+-----+---------+\n",
      "\n"
     ]
    }
   ],
   "source": [
    "df_catalog_v1 = spark.createDataFrame(data=data_catalog_v1,schema=schema_catalog_v1)\n",
    "df_catalog_v1.show()"
   ]
  },
  {
   "cell_type": "markdown",
   "id": "e92a7de5-449b-4292-a441-1855e99cbce0",
   "metadata": {},
   "source": [
    "## StructType and StructField"
   ]
  },
  {
   "cell_type": "code",
   "execution_count": 6,
   "id": "5db52137-77b6-4c5e-8834-d6ba61ee63a9",
   "metadata": {},
   "outputs": [],
   "source": [
    "from pyspark.sql.types import StructType, StructField, IntegerType, StringType, BooleanType"
   ]
  },
  {
   "cell_type": "code",
   "execution_count": 7,
   "id": "5b7fc4ca-e8a6-44cb-b4c7-c7f0c4a1c808",
   "metadata": {},
   "outputs": [],
   "source": [
    "data_catalog_v2 = [\n",
    "    (1, 'Harry poter', 'Books', 120, True),\n",
    "    (2, 'Microwave', 'Kitchen', None, True),\n",
    "    (3, 'Jacket',180, None,None,),\n",
    "    (4, None, 'Furniture', 250, False),\n",
    "    (5, 'Xbox360', 'Toys', None, False)\n",
    "]"
   ]
  },
  {
   "cell_type": "code",
   "execution_count": 8,
   "id": "d817acb7-abd6-448c-9ef3-29adfa6ae788",
   "metadata": {},
   "outputs": [],
   "source": [
    "schema_catalog_v2 = StructType([\n",
    "    StructField(\"id\",IntegerType(),False),\n",
    "    StructField(\"item\",StringType(),True),\n",
    "    StructField(\"category\",StringType(),True),\n",
    "    StructField(\"price\",IntegerType(),True),\n",
    "    StructField(\"available\",BooleanType(),True)\n",
    "])"
   ]
  },
  {
   "cell_type": "code",
   "execution_count": 9,
   "id": "02a4dbc0-9bfb-4463-b1d8-11c5a030ba44",
   "metadata": {},
   "outputs": [
    {
     "name": "stdout",
     "output_type": "stream",
     "text": [
      "+---+-----------+---------+-----+---------+\n",
      "| id|       item| category|price|available|\n",
      "+---+-----------+---------+-----+---------+\n",
      "|  1|Harry poter|    Books|  120|     true|\n",
      "|  2|  Microwave|  Kitchen| NULL|     true|\n",
      "|  3|     Jacket|      180| NULL|     NULL|\n",
      "|  4|       NULL|Furniture|  250|    false|\n",
      "|  5|    Xbox360|     Toys| NULL|    false|\n",
      "+---+-----------+---------+-----+---------+\n",
      "\n"
     ]
    }
   ],
   "source": [
    "df_catalog_v2 = spark.createDataFrame(data=data_catalog_v2,schema=schema_catalog_v2)\n",
    "df_catalog_v2.show()"
   ]
  },
  {
   "cell_type": "markdown",
   "id": "ee61684c-b50c-4d59-bcb9-bbf677b11d67",
   "metadata": {},
   "source": [
    "## In DataFrame values"
   ]
  },
  {
   "cell_type": "code",
   "execution_count": 10,
   "id": "8ca2aa9a-8039-488d-9db8-192315256134",
   "metadata": {},
   "outputs": [
    {
     "name": "stdout",
     "output_type": "stream",
     "text": [
      "+---+-----------+---------+-----+---------+\n",
      "| id|       item| category|price|available|\n",
      "+---+-----------+---------+-----+---------+\n",
      "|  1|Harry poter|    Books|  120|     true|\n",
      "|  2|  Microwave|  Kitchen| NULL|     true|\n",
      "|  3|     Jacket|      180| NULL|     NULL|\n",
      "|  4|       NULL|Furniture|  250|    false|\n",
      "|  5|    Xbox360|     Toys| NULL|    false|\n",
      "+---+-----------+---------+-----+---------+\n",
      "\n"
     ]
    }
   ],
   "source": [
    "df_catalog_v3 = spark.createDataFrame(\n",
    "    [(1, 'Harry poter', 'Books', 120, True),\n",
    "    (2, 'Microwave', 'Kitchen', None, True),\n",
    "    (3, 'Jacket',180, None,None,),\n",
    "    (4, None, 'Furniture', 250, False),\n",
    "    (5, 'Xbox360', 'Toys', None, False)\n",
    "    ],[\"id\",\"item\",\"category\",\"price\",\"available\"]\n",
    ")\n",
    "df_catalog_v3.show()"
   ]
  },
  {
   "cell_type": "markdown",
   "id": "073863d3-6118-4fdb-8faa-31f1431acd35",
   "metadata": {},
   "source": [
    "## In line SQL style"
   ]
  },
  {
   "cell_type": "code",
   "execution_count": 11,
   "id": "14ed6e0e-73d1-4113-8a26-e6d11a77dd7f",
   "metadata": {},
   "outputs": [],
   "source": [
    "data_catalog_v4 = [\n",
    "    (1, 'Harry poter', 'Books', 120, True),\n",
    "    (2, 'Microwave', 'Kitchen', None, True),\n",
    "    (3, 'Jacket',180, None,None,),\n",
    "    (4, None, 'Furniture', 250, False),\n",
    "    (5, 'Xbox360', 'Toys', None, False)\n",
    "]"
   ]
  },
  {
   "cell_type": "code",
   "execution_count": 12,
   "id": "db58138a-5ea7-4976-9402-5e3ef42caf83",
   "metadata": {},
   "outputs": [],
   "source": [
    "schema_catalog_v4 = \"id INTEGER, item STRING, category STRING,price INTEGER, available BOOLEAN\""
   ]
  },
  {
   "cell_type": "code",
   "execution_count": 13,
   "id": "a11db0dd-1e4e-4037-b054-f46bd9496653",
   "metadata": {},
   "outputs": [
    {
     "name": "stdout",
     "output_type": "stream",
     "text": [
      "+---+-----------+---------+-----+---------+\n",
      "| id|       item| category|price|available|\n",
      "+---+-----------+---------+-----+---------+\n",
      "|  1|Harry poter|    Books|  120|     true|\n",
      "|  2|  Microwave|  Kitchen| NULL|     true|\n",
      "|  3|     Jacket|      180| NULL|     NULL|\n",
      "|  4|       NULL|Furniture|  250|    false|\n",
      "|  5|    Xbox360|     Toys| NULL|    false|\n",
      "+---+-----------+---------+-----+---------+\n",
      "\n"
     ]
    }
   ],
   "source": [
    "df_catalog_v4 = spark.createDataFrame(data=data_catalog_v4,schema=schema_catalog_v4)\n",
    "df_catalog_v4.show()"
   ]
  }
 ],
 "metadata": {
  "kernelspec": {
   "display_name": "Python 3 (ipykernel)",
   "language": "python",
   "name": "python3"
  },
  "language_info": {
   "codemirror_mode": {
    "name": "ipython",
    "version": 3
   },
   "file_extension": ".py",
   "mimetype": "text/x-python",
   "name": "python",
   "nbconvert_exporter": "python",
   "pygments_lexer": "ipython3",
   "version": "3.11.7"
  }
 },
 "nbformat": 4,
 "nbformat_minor": 5
}
