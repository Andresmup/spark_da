{
 "cells": [
  {
   "cell_type": "markdown",
   "id": "cfc448e9-beea-42ff-8622-af0d7f9a850e",
   "metadata": {},
   "source": [
    "# NULL COUNT"
   ]
  },
  {
   "cell_type": "code",
   "execution_count": 1,
   "id": "b8b5dea7-9389-4586-8f19-c05242c9411e",
   "metadata": {},
   "outputs": [],
   "source": [
    "import findspark\n",
    "findspark.init()"
   ]
  },
  {
   "cell_type": "code",
   "execution_count": 2,
   "id": "0eebbf0f-2158-4773-aa7a-d003e06748e7",
   "metadata": {},
   "outputs": [
    {
     "name": "stderr",
     "output_type": "stream",
     "text": [
      "Setting default log level to \"WARN\".\n",
      "To adjust logging level use sc.setLogLevel(newLevel). For SparkR, use setLogLevel(newLevel).\n",
      "24/08/20 20:04:46 WARN NativeCodeLoader: Unable to load native-hadoop library for your platform... using builtin-java classes where applicable\n"
     ]
    }
   ],
   "source": [
    "from pyspark.sql import SparkSession\n",
    "spark = SparkSession.builder.getOrCreate()"
   ]
  },
  {
   "cell_type": "code",
   "execution_count": 3,
   "id": "aabe14b2-89f1-4850-b734-39daf95ae155",
   "metadata": {},
   "outputs": [
    {
     "name": "stderr",
     "output_type": "stream",
     "text": [
      "                                                                                \r"
     ]
    },
    {
     "name": "stdout",
     "output_type": "stream",
     "text": [
      "+---+-------------+------------+------+------+\n",
      "| id|         name|date_of_join|active|salary|\n",
      "+---+-------------+------------+------+------+\n",
      "|  1|         NULL|  2023-01-20|  true|250000|\n",
      "|  2|Alice Johnson|  2021-03-15|  true|180000|\n",
      "|  3|         NULL|        NULL|  NULL|  NULL|\n",
      "|  4|  Diane Brown|  2022-11-05|  true|200000|\n",
      "|  5|         NULL|  2020-08-30| false|195000|\n",
      "|  6| Frank Martin|  2018-12-22|  true|240000|\n",
      "|  7|    Grace Lee|  2023-02-10|  NULL|210000|\n",
      "|  8|  Henry Clark|  2022-05-17|  true|  NULL|\n",
      "|  9| Irene Turner|        NULL| false|175000|\n",
      "| 10|   Jack White|        NULL|  true|  NULL|\n",
      "+---+-------------+------------+------+------+\n",
      "\n"
     ]
    }
   ],
   "source": [
    "employee_data = [\n",
    "    (1, None, \"2023-01-20\", True, 250000),\n",
    "    (2, \"Alice Johnson\", \"2021-03-15\", True, 180000),\n",
    "    (3, None, None, None, None),\n",
    "    (4, \"Diane Brown\", \"2022-11-05\", True, 200000),\n",
    "    (5, None, \"2020-08-30\", False, 195000),\n",
    "    (6, \"Frank Martin\", \"2018-12-22\", True, 240000),\n",
    "    (7, \"Grace Lee\", \"2023-02-10\", None, 210000),\n",
    "    (8, \"Henry Clark\", \"2022-05-17\", True, None),\n",
    "    (9, \"Irene Turner\", None, False, 175000),\n",
    "    (10, \"Jack White\", None, True, None)\n",
    "]\n",
    "\n",
    "employee_schema = [\"id\",\"name\",\"date_of_join\",\"active\",\"salary\"]\n",
    "\n",
    "df_employee = spark.createDataFrame(data=employee_data,schema=employee_schema)\n",
    "\n",
    "df_employee.show()"
   ]
  },
  {
   "cell_type": "markdown",
   "id": "5fc0f75a-df70-4177-a319-af4bd2be4965",
   "metadata": {},
   "source": [
    "## Find null in each column"
   ]
  },
  {
   "cell_type": "code",
   "execution_count": 4,
   "id": "c9e148c9-19ed-413f-9345-2b165cf441fd",
   "metadata": {},
   "outputs": [],
   "source": [
    "from pyspark.sql.functions import col, count, when"
   ]
  },
  {
   "cell_type": "code",
   "execution_count": 5,
   "id": "38ef082a-de4b-46cc-885a-0c8ba8e893bd",
   "metadata": {},
   "outputs": [
    {
     "name": "stdout",
     "output_type": "stream",
     "text": [
      "+---+----+------------+------+------+\n",
      "| id|name|date_of_join|active|salary|\n",
      "+---+----+------------+------+------+\n",
      "|  0|   3|           3|     2|     3|\n",
      "+---+----+------------+------+------+\n",
      "\n"
     ]
    }
   ],
   "source": [
    "null_result = df_employee.select(\n",
    "    [count(\n",
    "        when(col(c).isNull(),c)\n",
    "    ).alias(c) for c in df_employee.columns]\n",
    ")\n",
    "null_result.show()"
   ]
  },
  {
   "cell_type": "code",
   "execution_count": null,
   "id": "9e8c8cf4-3480-4002-8a8a-18257aead3be",
   "metadata": {},
   "outputs": [],
   "source": []
  }
 ],
 "metadata": {
  "kernelspec": {
   "display_name": "Python 3 (ipykernel)",
   "language": "python",
   "name": "python3"
  },
  "language_info": {
   "codemirror_mode": {
    "name": "ipython",
    "version": 3
   },
   "file_extension": ".py",
   "mimetype": "text/x-python",
   "name": "python",
   "nbconvert_exporter": "python",
   "pygments_lexer": "ipython3",
   "version": "3.11.7"
  }
 },
 "nbformat": 4,
 "nbformat_minor": 5
}
